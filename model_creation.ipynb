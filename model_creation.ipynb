{
 "cells": [
  {
   "cell_type": "code",
   "execution_count": 4,
   "id": "5f11579c-0981-4b52-b7f7-702fec4e769a",
   "metadata": {},
   "outputs": [],
   "source": [
    "import os.path\n",
    "from optimize_parameters import plot_optuna_data\n",
    "from source import *\n",
    "from train_model_source import simulate_model, make_model\n",
    "%matplotlib QtAgg"
   ]
  },
  {
   "cell_type": "markdown",
   "id": "1907930b-13b0-496b-9fa4-bb15fcc8984b",
   "metadata": {},
   "source": [
    "## Tabel of contents\n",
    "\n",
    "[Linear model currents](#1-linear-model-currents)\n",
    "\n",
    "[Linear model torque](#2-linear-model-torque)\n",
    "\n",
    "[Nonlinear model currents](#3-nonlinear-model-currents)\n",
    "\n",
    "[Nonlinear model torque](#4-nonlinear-model-torque)\n",
    "\n",
    "[Linear model currents 50](#5-linear-mlodel-currents-with-50-ecc)\n",
    "\n",
    "[Linear model torque 50](#6-linear-model-torque-with-50-ecc)\n",
    "\n",
    "[Linear model ump 50](#7-linear-model-ump-with-50-ecc)\n",
    "\n",
    "[Nonlinear model currents 50](#8-nonlinear-model-currents-with-50-ecc)\n",
    "\n",
    "[Nonlinear model torque 50](#9-nonlinear-model-torque-with-50-ecc)\n",
    "\n",
    "[Nonlinear model ump 50](#10-nonlinear-model-ump-with-50-ecc)\n",
    "\n",
    "[Linear dynamic model currents](#11-linear-dynamical-50-ecc-currents)\n",
    "\n",
    "[Linear dynamic model torque](#12-linear-dynamical-50-ecc-torque)\n",
    "\n",
    "[Linear dynamic model ump](#13-linear-dynamical-50-ecc-ump)\n",
    "\n",
    "[Nonlinear dynamic model currents](#14-nonlinear-dynamical-50-ecc-currents)\n",
    "\n",
    "[Nonlinear dynamic model torque](#15-nonlinear-dynamical-50-ecc-torque)\n",
    "\n",
    "[Nonlinear dynamic model ump](#16-nonlinear-dynamical-50-ecc-ump)\n",
    "\n",
    "[Nonlinear model ump](#17-nonlinear-ump-0-ecc)"
   ]
  },
  {
   "cell_type": "markdown",
   "id": "2a3413cd-030a-4716-9eca-d01b33ffaffc",
   "metadata": {},
   "source": [
    "#### 1 linear model currents"
   ]
  },
  {
   "cell_type": "code",
   "execution_count": null,
   "id": "6ab373dc-5989-46dc-9a52-cc666b2524d1",
   "metadata": {},
   "outputs": [],
   "source": [
    "traindata = os.path.join(os.getcwd(), 'train-data', '07-29-default', 'IMMEC_0ecc_5.0sec.npz')\n",
    "plot_optuna_data('_w5//currentslinear-optuna-study')\n",
    "\n",
    "model1 = make_model(traindata, modeltype='currents', optimizer='STLSQ',\n",
    "               nmbr_of_train=-1, lib='linear-specific', alpha = 1.716, threshold = 0.65,\n",
    "               modelname='currents_linear_40')\n",
    "\n",
    "''' # Takes really long to run, also dc term is not zero\n",
    "model2 = make_model(traindata, modeltype='currents', optimizer='STLSQ',\n",
    "                    nmbr_of_train=-1, lib=\"nonlinear_terms\", alpha = .2, threshold = .458,\n",
    "                    modelname='currents_linear_300')\n",
    "'''"
   ]
  },
  {
   "cell_type": "markdown",
   "id": "bb6aa72b-64b1-4e0b-a78a-58722fbb7f4c",
   "metadata": {},
   "source": [
    "#### 2 linear model torque "
   ]
  },
  {
   "cell_type": "code",
   "execution_count": null,
   "id": "d2965a1c-79ce-4757-8696-27a03a75593c",
   "metadata": {},
   "outputs": [],
   "source": [
    "traindata = os.path.join(os.getcwd(), 'train-data', '07-29-default', 'IMMEC_0ecc_5.0sec.npz')\n",
    "plot_optuna_data('_w5//torquelinear-optuna-study')\n",
    "\n",
    "model1 = make_model(traindata, modeltype='torque', optimizer='STLSQ',\n",
    "               nmbr_of_train=-1, lib='torque', alpha = 1.9e-5, threshold = 0.017,\n",
    "               modelname='torque_linear_8')\n",
    "model2 = make_model(traindata, modeltype='torque', optimizer='STLSQ',\n",
    "                    nmbr_of_train=-1, lib='poly_2nd_order', alpha = .008, threshold = .026,\n",
    "                    modelname='torque_linear_16')"
   ]
  },
  {
   "cell_type": "markdown",
   "id": "a860610b-6715-48a8-ba11-d0319001b7f8",
   "metadata": {},
   "source": [
    "#### 3 nonlinear model currents"
   ]
  },
  {
   "cell_type": "code",
   "execution_count": null,
   "id": "a58a4a2e-6bcd-4deb-8e8b-b87b8e44d6e2",
   "metadata": {},
   "outputs": [],
   "source": [
    "traindata = os.path.join(os.getcwd(), 'train-data', '07-31-nonlin', 'IMMEC_nonlinear-0ecc_5.0sec.npz')\n",
    "plot_optuna_data('_w5//currentsnonlinear-optuna-study')\n",
    "\n",
    "model1 = make_model(traindata, modeltype='currents', optimizer='STLSQ',\n",
    "               nmbr_of_train=-1, lib='linear-specific', alpha = .0257, threshold = 0.7,\n",
    "               modelname='currents_nonlinear_70')\n",
    "model2 = make_model(traindata, modeltype='currents', optimizer='lasso',\n",
    "               nmbr_of_train=-1, lib='interaction_only', alpha = 94.2,\n",
    "                    modelname='currents_nonlinear_100')\n",
    "model3 = make_model(traindata, modeltype='currents', optimizer='STLSQ',\n",
    "               nmbr_of_train=-1, lib='interaction_only', alpha = 55, threshold = .9,\n",
    "                    modelname='currents_nonlinear_250')"
   ]
  },
  {
   "cell_type": "markdown",
   "id": "77493e8d-5fe5-4093-9941-fd6becde4381",
   "metadata": {},
   "source": [
    "#### 4 nonlinear model torque "
   ]
  },
  {
   "cell_type": "code",
   "execution_count": null,
   "id": "23d1a8f4-d1be-4008-a4c8-c3424fe09c37",
   "metadata": {},
   "outputs": [],
   "source": [
    "traindata = os.path.join(os.getcwd(), 'train-data', '07-31-nonlin', 'IMMEC_nonlinear-0ecc_5.0sec.npz')\n",
    "plot_optuna_data('_w5//torquenonlinear-optuna-study')\n",
    "\n",
    "model1 = make_model(traindata, modeltype='torque', optimizer='STLSQ',\n",
    "               nmbr_of_train=-1, lib='poly_2nd_order', alpha = 1.94, threshold = 0.126,\n",
    "               modelname='torque_nonlinear_5')\n",
    "model2 = make_model(traindata, modeltype='torque', optimizer='STLSQ',\n",
    "               nmbr_of_train=-1, lib='poly_2nd_order', alpha = .00616, threshold = .006,\n",
    "               modelname='torque_nonlinear_40')\n",
    "model3 = make_model(traindata, modeltype='torque', optimizer='STLSQ',\n",
    "               nmbr_of_train=-1, lib='interaction_only', alpha = .0202, threshold = 0.00913,\n",
    "               modelname='torque_nonlinear_100')"
   ]
  },
  {
   "cell_type": "markdown",
   "id": "ffd198cb-c154-4019-aaf6-d990ab7bb6b1",
   "metadata": {},
   "source": [
    "#### 5 linear model currents with 50 ecc "
   ]
  },
  {
   "cell_type": "code",
   "execution_count": null,
   "id": "8a42bbe9-3e54-4583-bb82-6773dd7689b5",
   "metadata": {},
   "outputs": [],
   "source": [
    "traindata = os.path.join(os.getcwd(), 'train-data', '07-31-ecc-50', 'IMMEC_50ecc_5.0sec.npz')\n",
    "plot_optuna_data('_w5//currentslinear_50ecc-optuna-study')\n",
    "\n",
    "model1 = make_model(traindata, modeltype='currents', optimizer='STLSQ',\n",
    "               nmbr_of_train=-1, lib='linear-specific', alpha = .0047, threshold = 0.926,\n",
    "               modelname='currents_linear_50ecc_45')\n",
    "model2 = make_model(traindata, modeltype='currents', optimizer='lasso',\n",
    "               nmbr_of_train=-1, lib='linear-specific', alpha = 50.16,\n",
    "               modelname='currents_linear_50ecc_8')"
   ]
  },
  {
   "cell_type": "markdown",
   "id": "ddb4aade-bf3d-42a1-aca7-7d3a5319ccf7",
   "metadata": {},
   "source": [
    "#### 6 linear model torque with 50 ecc"
   ]
  },
  {
   "cell_type": "code",
   "execution_count": null,
   "id": "89b138a1-b555-4c48-8216-ca95cf437763",
   "metadata": {},
   "outputs": [],
   "source": [
    "traindata = os.path.join(os.getcwd(), 'train-data', '07-31-ecc-50', 'IMMEC_50ecc_5.0sec.npz')\n",
    "plot_optuna_data('_w5//torquelinear_50ecc-optuna-study')\n",
    "\n",
    "model1 = make_model(traindata, modeltype='torque', optimizer =\"STLSQ\",\n",
    "                    nmbr_of_train=-1, lib='nonlinear_terms', alpha = .041, threshold = 0.215,\n",
    "                    modelname='torque_linear_50ecc_7')\n",
    "model2 = make_model(traindata, modeltype='torque', optimizer =\"STLSQ\",\n",
    "                    nmbr_of_train=-1, lib='poly_2nd_order', alpha = .0001, threshold = 0.076,\n",
    "                    modelname='torque_linear_50ecc_30')"
   ]
  },
  {
   "cell_type": "markdown",
   "id": "bdd09e35-0739-4edb-991d-c8ce5f39216a",
   "metadata": {},
   "source": [
    "#### 7 linear model UMP with 50 ecc "
   ]
  },
  {
   "cell_type": "code",
   "execution_count": null,
   "id": "63e32724-d870-422f-99c0-b9f31c4b26f9",
   "metadata": {},
   "outputs": [],
   "source": [
    "traindata = os.path.join(os.getcwd(), 'train-data', '07-31-ecc-50', 'IMMEC_50ecc_5.0sec.npz')\n",
    "plot_optuna_data('_w5//umplinear_50ecc-optuna-study')\n",
    "\n",
    "model1 = make_model(traindata, modeltype='ump', optimizer =\"STLSQ\",\n",
    "                    nmbr_of_train=-1, lib='torque', alpha = 3.6e-5, threshold = 0.008,\n",
    "                    modelname='ump_linear_50ecc_30')\n",
    "\n",
    "model2 = make_model(traindata, modeltype='ump', optimizer =\"STLSQ\",\n",
    "                    nmbr_of_train=-1, lib='poly_2nd_order', alpha = 92.8, threshold = 0.74,\n",
    "                    modelname='ump_linear_50ecc_100')\n",
    "\n",
    "model3 = make_model(traindata, modeltype='ump', optimizer =\"STLSQ\",\n",
    "                    nmbr_of_train=-1, lib='linear-specific', alpha = 2.44, threshold = 0.577,\n",
    "                    modelname='ump_linear_50ecc_70')"
   ]
  },
  {
   "cell_type": "markdown",
   "id": "72e8d012-f2ef-41c2-ae14-796909e9dd8b",
   "metadata": {},
   "source": [
    "#### 8 nonlinear model currents with 50 ecc "
   ]
  },
  {
   "cell_type": "code",
   "execution_count": null,
   "id": "5379cda1-9f37-462f-a1ad-a707436f4fec",
   "metadata": {},
   "outputs": [],
   "source": [
    "traindata = os.path.join(os.getcwd(), 'train-data', '07-31-nonlin50', 'IMMEC_nonlinear-50ecc_5.0sec.npz')\n",
    "plot_optuna_data('_w5//currentsnonlinear_50ecc-optuna-study')\n",
    "\n",
    "\n",
    "model1 =  make_model(traindata, modeltype='currents', optimizer =\"STLSQ\",\n",
    "                    nmbr_of_train=-1, lib='linear-specific', alpha = 2.78, threshold = 0.616,\n",
    "                    modelname='currents_nonlinear_50ecc_70')\n",
    "\n",
    "# takes really long to make, memory error -> need to generate on a pc instead of laptop\n",
    "# Memory Error vvvvvvvvvv\n",
    "'''\n",
    "model2 =  make_model(traindata, modeltype='currents', optimizer =\"lasso\",\n",
    "                    nmbr_of_train=-1, lib='interaction_only', alpha = 73.7,\n",
    "                    modelname='currents_nonlinear_50ecc_100')\n",
    "\n",
    "model3 =  make_model(traindata, modeltype='currents', optimizer =\"STLSQ\",\n",
    "                    nmbr_of_train=-1, lib='interaction_only', alpha = 49.0, threshold = .88,\n",
    "                    modelname='currents_nonlinear_50ecc_260')\n",
    "'''"
   ]
  },
  {
   "cell_type": "markdown",
   "id": "e41511b8-6570-471b-a505-05530d6bd536",
   "metadata": {},
   "source": [
    "#### 9 nonlinear model torque with 50 ecc"
   ]
  },
  {
   "cell_type": "code",
   "execution_count": null,
   "id": "5ef03504-a8e4-4cdd-9be7-47a0eddb7a3a",
   "metadata": {},
   "outputs": [],
   "source": [
    "traindata = os.path.join(os.getcwd(), 'train-data', '07-31-nonlin50', 'IMMEC_nonlinear-50ecc_5.0sec.npz')\n",
    "plot_optuna_data('_w5//torquenonlinear_50ecc-optuna-study')\n",
    "\n",
    "model1 =  make_model(traindata, modeltype='torque', optimizer =\"STLSQ\",\n",
    "                    nmbr_of_train=-1, lib='poly_2nd_order', alpha = 5.45, threshold = 0.066,\n",
    "                    modelname='torque_nonlinear_50ecc_10')\n",
    "\n",
    "model2 =  make_model(traindata, modeltype='torque', optimizer =\"STLSQ\",\n",
    "                    nmbr_of_train=-1, lib='poly_2nd_order', alpha = 0.0668, threshold = 0.016,\n",
    "                    modelname='torque_nonlinear_50ecc_40')"
   ]
  },
  {
   "cell_type": "markdown",
   "id": "8e7051c6-7a8b-4e4d-b891-04387450e072",
   "metadata": {},
   "source": [
    "#### 10 nonlinear model ump with 50 ecc "
   ]
  },
  {
   "cell_type": "code",
   "execution_count": null,
   "id": "bd1c0b44-1f4b-4ca9-9e59-abc0ad685931",
   "metadata": {},
   "outputs": [],
   "source": [
    "traindata = os.path.join(os.getcwd(), 'train-data', '07-31-nonlin50', 'IMMEC_nonlinear-50ecc_5.0sec.npz')\n",
    "plot_optuna_data('_w5//umpnonlinear_50ecc-optuna-study')\n",
    "\n",
    "model1 =  make_model(traindata, modeltype='ump', optimizer =\"STLSQ\",\n",
    "                    nmbr_of_train=-1, lib='poly_2nd_order', alpha = 5.076, threshold = 0.7317,\n",
    "                    modelname='ump_nonlinear_50ecc_100')\n",
    "model2 =  make_model(traindata, modeltype='ump', optimizer =\"STLSQ\",\n",
    "                    nmbr_of_train=-1, lib='poly_2nd_order', alpha = 2.6e-5, threshold = 0.00255,\n",
    "                    modelname='ump_nonlinear_50ecc_170')\n",
    "# OOM ERROR vvvvvvvv\n",
    "'''\n",
    "model3 =  make_model(traindata, modeltype='ump', optimizer =\"STLSQ\",\n",
    "                    nmbr_of_train=-1, lib='interaction_only', alpha = 91.5, threshold = 0.52,\n",
    "                    modelname='ump_nonlinear_50ecc_300')\n",
    "'''\n",
    "\n",
    "model4 =  make_model(traindata, modeltype='ump', optimizer =\"STLSQ\",\n",
    "                    nmbr_of_train=-1, lib='linear-specific', alpha = 0.097, threshold = 0.00537,\n",
    "                    modelname='ump_nonlinear_50ecc_90')"
   ]
  },
  {
   "cell_type": "markdown",
   "id": "7161a0c2-b314-4523-9004-4ae6b1c80086",
   "metadata": {},
   "source": [
    "#### 11 linear dynamical 50 ecc currents "
   ]
  },
  {
   "cell_type": "code",
   "execution_count": null,
   "id": "1418ad69-0a1a-48cb-b858-7efb1bb9a9b3",
   "metadata": {},
   "outputs": [],
   "source": [
    "traindata = os.path.join(os.getcwd(), 'train-data', '08-09','IMMEC_dynamic_50ecc_5.0sec.npz')\n",
    "plot_optuna_data('_w5//currentslinear_dynamic_50ecc-optuna-study')\n",
    "\n",
    "model1 =  make_model(traindata, modeltype='currents', optimizer =\"STLSQ\",\n",
    "                    nmbr_of_train=-1, lib='linear-specific', alpha = 5.3528, threshold = 0.97,\n",
    "                    modelname='currents_linear_dynamic_50ecc_40')\n",
    "\n",
    "model1 =  make_model(traindata, modeltype='currents', optimizer =\"STLSQ\",\n",
    "                    nmbr_of_train=-1, lib='nonlinear_terms', alpha = 2.5277, threshold = 0.8239,\n",
    "                    modelname='currents_linear_dynamic_50ecc_300')"
   ]
  },
  {
   "cell_type": "markdown",
   "id": "1ce6608c-5c4b-4ca7-bded-4c54c46754e6",
   "metadata": {},
   "source": [
    "#### 12 linear dynamical 50 ecc torque"
   ]
  },
  {
   "cell_type": "code",
   "execution_count": null,
   "id": "2faa18f4-1264-46fd-bef8-e8ae94607189",
   "metadata": {},
   "outputs": [],
   "source": [
    "traindata = os.path.join(os.getcwd(), 'train-data', '08-09','IMMEC_dynamic_50ecc_5.0sec.npz')\n",
    "plot_optuna_data('_w5//torquelinear_dynamic_50ecc-optuna-study')\n",
    "\n",
    "model1 =  make_model(traindata, modeltype='torque', optimizer =\"STLSQ\",\n",
    "                    nmbr_of_train=-1, lib='poly_2nd_order', alpha = 0.03218, threshold = .0429,\n",
    "                    modelname='torque_linear_dynamic_50ecc_50')\n",
    "\n",
    "model2 =  make_model(traindata, modeltype='torque', optimizer =\"STLSQ\",\n",
    "                    nmbr_of_train=-1, lib='poly_2nd_order', alpha = 9.8, threshold = .00979,\n",
    "                    modelname='torque_linear_dynamic_50ecc_40')\n",
    "\n",
    "model3 = make_model(traindata, modeltype='torque', optimizer='STLSQ',\n",
    "                    nmbr_of_train=-1, lib='nonlinear_terms', alpha=2.5097, threshold = 0.54118,\n",
    "                    modelname='torque_linear_dynamic_50ecc_4')"
   ]
  },
  {
   "cell_type": "code",
   "execution_count": 12,
   "id": "18e83162-1501-4c6d-82bf-212fff365b41",
   "metadata": {},
   "outputs": [
    {
     "name": "stderr",
     "output_type": "stream",
     "text": [
      "[I 2024-08-19 11:30:03,886] Study name was omitted but trying to load 'optuna_studies//umplinear_dynamic_50ecc-optuna-study' because that was the only study found in the storage.\n"
     ]
    },
    {
     "name": "stdout",
     "output_type": "stream",
     "text": [
      "['optuna_studies//umplinear_dynamic_50ecc-optuna-study']\n",
      "Trial count: 1006\n"
     ]
    }
   ],
   "source": [
    "plot_optuna_data('_w5//umplinear_dynamic_50ecc-optuna-study')"
   ]
  },
  {
   "cell_type": "markdown",
   "id": "f4fdfae2-bfd6-455a-8d54-18c68c53452a",
   "metadata": {
    "scrolled": true
   },
   "source": [
    "#### 13 linear dynamical 50 ecc UMP "
   ]
  },
  {
   "cell_type": "code",
   "execution_count": null,
   "id": "2ce8e7de-383f-4f22-9a9d-8df634418350",
   "metadata": {
    "scrolled": true
   },
   "outputs": [],
   "source": [
    "traindata = os.path.join(os.getcwd(), 'train-data', '08-09','IMMEC_dynamic_50ecc_5.0sec.npz')\n",
    "plot_optuna_data('_w5//umplinear_dynamic_50ecc-optuna-study')\n",
    "\n",
    "model1 = make_model(traindata, modeltype='ump', optimizer =\"STLSQ\",\n",
    "                    nmbr_of_train=-1, lib='poly_2nd_order', alpha = 1.773, threshold = 0.922,\n",
    "                    modelname='ump_linear_dynamic_50ecc_180')\n",
    "\n",
    "model2 = make_model(traindata, modeltype='ump', optimizer =\"STLSQ\",\n",
    "                    nmbr_of_train=-1, lib='nonlinear_terms', alpha = 1.1145, threshold = 0.589,\n",
    "                    modelname='ump_linear_dynamic_50ecc_560')"
   ]
  },
  {
   "cell_type": "markdown",
   "id": "6bb4947b-db5b-41a5-b12d-b4c5d1adc23f",
   "metadata": {},
   "source": [
    "#### 14 nonlinear dynamical 50 ecc currents "
   ]
  },
  {
   "cell_type": "code",
   "execution_count": null,
   "id": "14789069-8239-4a0a-95fa-8c26db9534fc",
   "metadata": {},
   "outputs": [],
   "source": [
    "traindata = os.path.join(os.getcwd(), 'train-data', '08-16','IMMEC_dynamic_nonlinear_5.0sec.npz')\n",
    "plot_optuna_data('_w5//currentsnonlinear_dynamic_50ecc-optuna-study')\n",
    "\n",
    "model1 =  make_model(traindata, modeltype='currents', optimizer =\"STLSQ\",\n",
    "                    nmbr_of_train=-1, lib='poly_2nd_order', alpha = 55.7, threshold = 0.395,\n",
    "                    modelname='currents_nonlinear_dynamic_50ecc_150')\n",
    "# OOM error\n",
    "'''\n",
    "model2 =  make_model(traindata, modeltype='currents', optimizer =\"STLSQ\",\n",
    "                    nmbr_of_train=-1, lib='interaction_only', alpha = 56.6, threshold = 0.657,\n",
    "                    modelname='currents_nonlinear_dynamic_50ecc_420')\n",
    "'''\n",
    "\n",
    "model3 =  make_model(traindata, modeltype='currents', optimizer =\"STLSQ\",\n",
    "                    nmbr_of_train=-1, lib='linear-specific', alpha = 3.154, threshold = 0.7912,\n",
    "                    modelname='currents_nonlinear_dynamic_50ecc_60')"
   ]
  },
  {
   "cell_type": "markdown",
   "id": "832f2a75-621a-42f3-8a5d-7bfe3268ba23",
   "metadata": {},
   "source": [
    "#### 15 nonlinear dynamical 50 ecc torque"
   ]
  },
  {
   "cell_type": "code",
   "execution_count": null,
   "id": "ea6b2ce1-7c18-478f-a4d2-810e6fc0a8f2",
   "metadata": {},
   "outputs": [],
   "source": [
    "traindata = os.path.join(os.getcwd(), 'train-data', '08-16','IMMEC_dynamic_nonlinear_5.0sec.npz')\n",
    "plot_optuna_data('_w5//torquenonlinear_dynamic_50ecc-optuna-study')\n",
    "\n",
    "\n",
    "model1 =  make_model(traindata, modeltype='torque', optimizer =\"STLSQ\",\n",
    "                    nmbr_of_train=-1, lib='poly_2nd_order', alpha = 80.5, threshold = 0.0089,\n",
    "                    modelname='torque_nonlinear_dynamic_50ecc_50')\n",
    "# OOM ERROR\n",
    "'''\n",
    "model2 =  make_model(traindata, modeltype='torque', optimizer =\"STLSQ\",\n",
    "                    nmbr_of_train=-1, lib='interaction_only', alpha = 85.6, threshold = 0.0034,\n",
    "                    modelname='torque_nonlinear_dynamic_50ecc_100')\n",
    "'''"
   ]
  },
  {
   "cell_type": "markdown",
   "id": "b7019470-c304-4a50-bb80-878bb821e02a",
   "metadata": {},
   "source": [
    "#### 16 nonlinear dynamical 50 ecc UMP"
   ]
  },
  {
   "cell_type": "code",
   "execution_count": null,
   "id": "b5f4e705-d052-49b7-8b69-444459d5f973",
   "metadata": {},
   "outputs": [],
   "source": [
    "traindata = os.path.join(os.getcwd(), 'train-data', '08-16','IMMEC_dynamic_nonlinear_5.0sec.npz')\n",
    "plot_optuna_data('_w5//umpnonlinear_dynamic_50ecc-optuna-study')\n",
    "\n",
    "\n",
    "model1 =  make_model(traindata, modeltype='ump', optimizer =\"STLSQ\",\n",
    "                    nmbr_of_train=-1, lib='poly_2nd_order', alpha = 46.05, threshold = 0.922,\n",
    "                    modelname='ump_nonlinear_dynamic_50ecc_150')\n",
    "\n",
    "# OOM \n",
    "'''\n",
    "model2 =  make_model(traindata, modeltype='ump', optimizer =\"STLSQ\",\n",
    "                    nmbr_of_train=-1, lib='interaction_only', alpha = 16.68, threshold = 0.677,\n",
    "                    modelname='ump_nonlinear_dynamic_50ecc_650')\n",
    "'''\n",
    "\n",
    "model3 = make_model(traindata, modeltype='ump', optimizer='lasso',\n",
    "                    nmbr_of_train=-1, lib='poly_2nd_order',  alpha = 0.3121067,\n",
    "                    modelname='ump_nonlinear_dynamic_50ecc_100')"
   ]
  },
  {
   "cell_type": "markdown",
   "id": "d66d85a2-a304-400b-99c6-8897e2f00c59",
   "metadata": {},
   "source": [
    "#### 17 nonlinear ump 0 ecc "
   ]
  },
  {
   "cell_type": "code",
   "execution_count": 6,
   "id": "bd39c91b-9d91-43fd-bc2f-c4cb38ba92ff",
   "metadata": {},
   "outputs": [
    {
     "name": "stderr",
     "output_type": "stream",
     "text": [
      "[I 2024-08-21 14:51:37,753] Study name was omitted but trying to load 'optuna_studies//umpnonlinear-optuna-study' because that was the only study found in the storage.\n"
     ]
    },
    {
     "name": "stdout",
     "output_type": "stream",
     "text": [
      "['optuna_studies//umpnonlinear-optuna-study']\n",
      "Trial count: 316\n"
     ]
    }
   ],
   "source": [
    "traindata = os.path.join(os.getcwd(), 'train-data', '07-31-nonlin', 'IMMEC_nonlinear-0ecc_5.0sec.npz')\n",
    "plot_optuna_data('_w5//umpnonlinear-optuna-study')\n",
    "\n",
    "model1 = make_model(traindata, modeltype = 'ump', optimizer = 'STLSQ',\n",
    "                    nmbr_of_train = -1, lib = 'poly_2nd_order', alpha = 1.3e-5, threshold = 0.01733,\n",
    "                    modelname='ump_nonlinear_80')\n",
    "model2 = make_model(traindata, modeltype = 'ump', optimizer = 'lasso',\n",
    "                    nmbr_of_train = -1, lib = 'linear-specific', alpha = 4.8,\n",
    "                    modelname='ump_nonlinear_0')"
   ]
  }
 ],
 "metadata": {
  "kernelspec": {
   "display_name": "Python 3 (ipykernel)",
   "language": "python",
   "name": "python3"
  },
  "language_info": {
   "codemirror_mode": {
    "name": "ipython",
    "version": 3
   },
   "file_extension": ".py",
   "mimetype": "text/x-python",
   "name": "python",
   "nbconvert_exporter": "python",
   "pygments_lexer": "ipython3",
   "version": "3.12.4"
  }
 },
 "nbformat": 4,
 "nbformat_minor": 5
}
