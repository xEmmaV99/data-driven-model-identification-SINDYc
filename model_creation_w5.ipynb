{
 "cells": [
  {
   "cell_type": "code",
   "execution_count": 29,
   "id": "5f11579c-0981-4b52-b7f7-702fec4e769a",
   "metadata": {},
   "outputs": [],
   "source": [
    "import os.path\n",
    "from optimize_parameters import plot_optuna_data\n",
    "from source import *\n",
    "from train_model_source import simulate_model, make_model\n",
    "%matplotlib QtAgg"
   ]
  },
  {
   "cell_type": "code",
   "execution_count": 26,
   "id": "9c33bc4a-5131-4cda-a666-a57a27b3e3d9",
   "metadata": {},
   "outputs": [
    {
     "name": "stderr",
     "output_type": "stream",
     "text": [
      "[I 2024-08-18 15:43:38,738] Study name was omitted but trying to load 'optuna_studies//currentslinear-optuna-study' because that was the only study found in the storage.\n"
     ]
    },
    {
     "name": "stdout",
     "output_type": "stream",
     "text": [
      "['optuna_studies//currentslinear-optuna-study']\n",
      "Trial count: 1045\n"
     ]
    },
    {
     "data": {
      "text/plain": [
       "' # Takes really long to run\\nmodel2 = make_model(traindata, modeltype=\\'currents\\', optimizer=\\'STLSQ\\',\\n                    nmbr_of_train=-1, lib=\"nonlinear_terms\", alpha = .2, threshold = .458,\\n                    modelname=\\'currents_linear_300\\')\\n'"
      ]
     },
     "execution_count": 26,
     "metadata": {},
     "output_type": "execute_result"
    }
   ],
   "source": [
    "#############################\n",
    "## 1 linear model currents ##\n",
    "#############################\n",
    "traindata = os.path.join(os.getcwd(), 'train-data', '07-29-default', 'IMMEC_0ecc_5.0sec.npz')\n",
    "plot_optuna_data('_w5//currentslinear-optuna-study')\n",
    "\n",
    "model1 = make_model(traindata, modeltype='currents', optimizer='STLSQ',\n",
    "               nmbr_of_train=-1, lib='linear-specific', alpha = 1.716, threshold = 0.65,\n",
    "               modelname='currents_linear_40')\n",
    "\n",
    "''' # Takes really long to run, also dc term is not zero\n",
    "model2 = make_model(traindata, modeltype='currents', optimizer='STLSQ',\n",
    "                    nmbr_of_train=-1, lib=\"nonlinear_terms\", alpha = .2, threshold = .458,\n",
    "                    modelname='currents_linear_300')\n",
    "'''"
   ]
  },
  {
   "cell_type": "code",
   "execution_count": 5,
   "id": "0a2956b6-80e7-4f16-87e5-dfd090b79492",
   "metadata": {},
   "outputs": [
    {
     "name": "stderr",
     "output_type": "stream",
     "text": [
      "[I 2024-08-18 11:44:12,871] Study name was omitted but trying to load 'optuna_studies//torquelinear-optuna-study' because that was the only study found in the storage.\n"
     ]
    },
    {
     "name": "stdout",
     "output_type": "stream",
     "text": [
      "['optuna_studies//torquelinear-optuna-study']\n",
      "Trial count: 1000\n",
      "ecc input: True\n",
      "Loading data\n",
      "Done loading data\n",
      "Calculating xdots\n",
      "Assume all t_vec are equal\n",
      "Done calculating xdots\n",
      "time trim:  0.5\n",
      "No ecc\n",
      "Fitting model\n"
     ]
    },
    {
     "name": "stderr",
     "output_type": "stream",
     "text": [
      "C:\\Users\\emmav\\anaconda3\\envs\\immec_env\\Lib\\site-packages\\pysindy\\utils\\axes.py:126: AxesWarning:\n",
      "\n",
      "2 axes labeled for array with 1 axes\n",
      "\n"
     ]
    },
    {
     "name": "stdout",
     "output_type": "stream",
     "text": [
      "(i_d)' = 1.0012421406 V_di_q + -1.0003234682 V_qi_d + -0.0338530315 V_qI_d + 0.0713744235 V_qI_q + -0.0273051500 i_dI_d + 6.2518358466 i_dI_q + -6.2088551257 i_qI_d + -0.2842088313 I_dI_q\n",
      "Non-zero elements:  8\n"
     ]
    },
    {
     "name": "stderr",
     "output_type": "stream",
     "text": [
      "C:\\Users\\emmav\\anaconda3\\envs\\immec_env\\Lib\\site-packages\\pysindy\\utils\\axes.py:126: AxesWarning:\n",
      "\n",
      "2 axes labeled for array with 1 axes\n",
      "\n"
     ]
    },
    {
     "name": "stdout",
     "output_type": "stream",
     "text": [
      "MSE: 1.2441266277748503e-05\n",
      "Saving model\n",
      "No date added\n",
      "ecc input: True\n",
      "Loading data\n",
      "Done loading data\n",
      "Calculating xdots\n",
      "Assume all t_vec are equal\n",
      "Done calculating xdots\n",
      "time trim:  0.5\n",
      "No ecc\n",
      "Fitting model\n"
     ]
    },
    {
     "name": "stderr",
     "output_type": "stream",
     "text": [
      "C:\\Users\\emmav\\anaconda3\\envs\\immec_env\\Lib\\site-packages\\pysindy\\utils\\axes.py:126: AxesWarning:\n",
      "\n",
      "2 axes labeled for array with 1 axes\n",
      "\n"
     ]
    },
    {
     "name": "stdout",
     "output_type": "stream",
     "text": [
      "(i_d)' = 0.9985978697 v_d + 0.5765573893 v_q + -0.0601692410 I_q + 6.2043902262 i_d I_q + -1.0002462497 i_d V_q + -6.2149938817 i_q I_d + 1.0017989022 i_q V_d + -0.9056346260 v_d V_d + -0.9056468823 v_q V_q + 0.4072559385 I_d^2 + -0.6428800841 I_d I_q + -0.0648819609 I_d V_d + 0.1866412116 I_q^2 + 0.0990489953 I_q V_d\n",
      "Non-zero elements:  14\n"
     ]
    },
    {
     "name": "stderr",
     "output_type": "stream",
     "text": [
      "C:\\Users\\emmav\\anaconda3\\envs\\immec_env\\Lib\\site-packages\\pysindy\\utils\\axes.py:126: AxesWarning:\n",
      "\n",
      "2 axes labeled for array with 1 axes\n",
      "\n"
     ]
    },
    {
     "name": "stdout",
     "output_type": "stream",
     "text": [
      "MSE: 1.0106561070121345e-05\n",
      "Saving model\n",
      "No date added\n"
     ]
    }
   ],
   "source": [
    "###########################\n",
    "## 2 linear model torque ##\n",
    "###########################\n",
    "traindata = os.path.join(os.getcwd(), 'train-data', '07-29-default', 'IMMEC_0ecc_5.0sec.npz')\n",
    "plot_optuna_data('_w5//torquelinear-optuna-study')\n",
    "\n",
    "model1 = make_model(traindata, modeltype='torque', optimizer='STLSQ',\n",
    "               nmbr_of_train=-1, lib='torque', alpha = 1.9e-5, threshold = 0.017,\n",
    "               modelname='torque_linear_8')\n",
    "model2 = make_model(traindata, modeltype='torque', optimizer='STLSQ',\n",
    "                    nmbr_of_train=-1, lib='poly_2nd_order', alpha = .008, threshold = .026,\n",
    "                    modelname='torque_linear_16')\n",
    "\n",
    "\n"
   ]
  },
  {
   "cell_type": "code",
   "execution_count": 8,
   "id": "f2a8a108-d386-4c3a-8b53-3a88e598d20e",
   "metadata": {},
   "outputs": [
    {
     "name": "stderr",
     "output_type": "stream",
     "text": [
      "[I 2024-08-18 11:56:02,712] Study name was omitted but trying to load 'optuna_studies//currentsnonlinear-optuna-study' because that was the only study found in the storage.\n"
     ]
    },
    {
     "name": "stdout",
     "output_type": "stream",
     "text": [
      "['optuna_studies//currentsnonlinear-optuna-study']\n",
      "Trial count: 1013\n",
      "ecc input: True\n",
      "Loading data\n",
      "Done loading data\n",
      "Calculating xdots\n",
      "Assume all t_vec are equal\n",
      "Done calculating xdots\n",
      "time trim:  0.5\n",
      "No ecc\n",
      "Fitting model\n",
      "(i_d)' = -42.3882475308 i_d + 896.5160756579 i_q + 9.3729095668 v_d + -59.1906770792 v_q + -22.9631596057 v_0 + 405.7960988243 I_d + 5384.2431921525 I_q + 111.4738534656 V_d + -856.3067737012 V_q + 600.9074472425 V_0 + 2.4139351175 \\gamma I_d + -9.2468719761 \\gamma I_q + -188.6548120199 \\gamma V_0 + -0.8064587296 \\omega i_q + -503.8541688637 \\omega I_d + 12.8882845275 \\omega I_q + 66.4833548660 \\omega V_d + 2.7700383083 \\omega V_q + 46.5551258499 v_d I_d + 74.1289691364 v_d I_q + -15.1577903098 v_d V_d + -8.0887209512 v_d V_q + -1.5586730934 v_d V_0 + -62.4329534484 v_q I_d + 47.2560228458 v_q I_q + 7.9449467879 v_q V_d + -15.2809714285 v_q V_q + -8.7908659906 v_q V_0 + 1.0082858778 v_0 i_d + 14.7997306790 v_0 I_d + 177.9305115046 v_0 I_q + 2.9717819990 v_0 V_q + -32.5319154892 v_0 V_0\n",
      "(i_q)' = -800.7767273377 i_d + -94.8318195883 i_q + 139.0283056495 v_d + 43.2305290310 v_q + -8.7012615002 v_0 + -4504.7508637797 I_d + -34.6112427845 I_q + 651.9836053179 V_d + 214.0052715267 V_q + -153.3380481128 V_0 + 1.3908807958 \\gamma i_d + -2.0703378876 \\gamma i_q + -35.4840655417 \\gamma I_d + 45.7369720813 \\gamma I_q + 5.3932843215 \\gamma V_q + -43.8579382229 \\gamma V_0 + 18.1534061924 \\omega I_d + -510.1241641429 \\omega I_q + -3.1163409339 \\omega V_d + 76.2559693870 \\omega V_q + 1.2627446861 \\omega V_0 + 12.0525670210 v_d I_d + 23.6973890930 v_d I_q + -59.7838001678 v_d V_d + -2.5001959509 v_d V_q + -3.4811295252 v_d V_0 + -21.0229586266 v_q I_d + 16.2764643072 v_q I_q + 2.5222712278 v_q V_d + -59.8691499310 v_q V_q + -3.7973337947 v_0 I_d + 70.7961915435 v_0 I_q + 1.8701379680 v_0 V_d + 81.9185745146 v_0 V_0\n",
      "(i_0)' = 0.0000000000\n",
      "Non-zero elements:  67\n",
      "MSE: 648.4533520831245\n",
      "Saving model\n",
      "No date added\n",
      "ecc input: True\n",
      "Loading data\n",
      "Done loading data\n",
      "Calculating xdots\n",
      "Assume all t_vec are equal\n",
      "Done calculating xdots\n",
      "time trim:  0.5\n",
      "No ecc\n",
      "Lasso optimisation\n",
      "Fitting model\n",
      "(i_d)' = -0.8979797097 i_q \\omega + 0.0008370586 v_d v_q + 0.0433195478 v_d v_0 + 0.0531172259 v_d \\omega + 0.0351640581 v_d f + -0.1529207599 v_q v_0 + 0.0241046990 v_q \\omega + -0.0144350298 v_q f + -0.0551912360 \\omega f + -0.0132348154 i_d i_q v_q + -0.0002589579 i_d v_d v_q + -0.0022472596 i_d v_d v_0 + -0.0009113855 i_d v_d \\omega + 0.0055423394 i_d v_d f + -0.0000381129 i_d v_q \\omega + -0.0001407297 i_d v_0 \\omega + -0.0038269063 i_d \\omega f + 0.0002404872 i_q v_d v_q + 0.0019354917 i_q v_d v_0 + 0.0013801906 i_q v_d \\omega + -0.0082003793 i_q v_d f + 0.0065604637 i_q v_q v_0 + -0.0009981960 i_q v_q \\omega + 0.0060602861 i_q v_q f + 0.0002176868 i_q v_0 \\omega + 0.0002784452 i_q \\omega f + 0.0007280541 v_d v_q v_0 + 0.0002532031 v_d v_q V_d + -0.0005592270 v_d v_q V_q + -0.6254914920 v_d v_q V_0 + 0.0000013511 v_d v_q \\omega + -0.0000079516 v_d v_q f + -0.0390017974 v_d v_0 V_d + -0.0000013254 v_d v_0 \\omega + 0.0000055047 v_d v_0 f + 0.0003689820 v_d I_d \\omega + -0.0437324131 v_d V_d \\omega + 0.0071063506 v_d V_d f + -0.0034377041 v_d V_q \\omega + 0.0234182174 v_d V_q f + -0.0000120571 v_d \\omega f + 0.0158281871 v_q v_0 V_d + 0.2111853803 v_q v_0 V_q + 0.0000141128 v_q v_0 \\omega + -0.0000856652 v_q v_0 f + 0.0006895254 v_q V_d \\omega + -0.0066492023 v_q V_d f + -0.0417893595 v_q V_q \\omega + 0.0000520278 v_q \\omega f + -0.0002424904 v_0 \\omega f + 0.0229015345 V_d \\omega f + 0.0544526542 V_q \\omega f\n",
      "(i_q)' = 1.0119700720 i_d \\omega + -0.0004362916 v_d v_q + 0.3703818878 v_d v_0 + -0.0352599518 v_d \\omega + 0.0595952290 v_d f + 0.0704374072 v_q v_0 + -0.0359569935 v_q \\omega + 0.0876042096 v_q f + 0.0373367934 \\omega f + -0.0001134763 i_d v_d v_q + 0.0133627533 i_d v_d v_0 + -0.0034341240 i_d v_d \\omega + 0.0205173740 i_d v_d f + 0.0120828085 i_d v_q v_0 + -0.0005234821 i_d v_q \\omega + 0.0025113363 i_d v_q f + 0.0005033131 i_d v_0 \\omega + -0.0027800121 i_d \\omega f + 0.0007418704 i_q v_d v_q + 0.0024929016 i_q v_d \\omega + -0.0143589000 i_q v_d f + 0.0088288349 i_q v_q v_0 + -0.0013112432 i_q v_q \\omega + 0.0078439537 i_q v_q f + -0.0005859760 i_q v_0 \\omega + 0.0023357110 i_q \\omega f + 0.0004148188 v_d v_q v_0 + 0.0183538561 v_d v_q I_d + -0.0007966075 v_d v_q V_d + -0.0018074637 v_d v_q V_q + 0.2219478837 v_d v_q V_0 + 0.0000079057 v_d v_q \\omega + -0.0000475936 v_d v_q f + -0.3376170041 v_d v_0 V_d + -0.0041165505 v_d v_0 V_q + 0.0000063979 v_d v_0 \\omega + -0.0000366934 v_d v_0 f + 0.0083574511 v_d I_d \\omega + -0.0450426944 v_d I_q \\omega + 0.0391457545 v_d V_d \\omega + -0.0130218076 v_d V_d f + -0.0071793237 v_d V_q \\omega + 0.0791934154 v_d V_q f + 0.0000154375 v_d \\omega f + -0.0464450323 v_q v_0 V_q + 0.0000565794 v_q v_0 \\omega + -0.0003544626 v_q v_0 f + 0.0416601144 v_q I_d \\omega + 0.0097634695 v_q I_q \\omega + 0.0017620391 v_q V_d \\omega + -0.0465479170 v_q V_d f + 0.0377621589 v_q V_q \\omega + 0.0000085089 v_q \\omega f + -0.0414188045 v_0 V_d \\omega + -0.0000145231 v_0 \\omega f + -0.0340566438 V_d \\omega f + 0.0953906517 V_q \\omega f\n",
      "(i_0)' = 0.0000000000\n",
      "Non-zero elements:  109\n",
      "MSE: 217.01084003605433\n",
      "Saving model\n",
      "No date added\n",
      "ecc input: True\n",
      "Loading data\n",
      "Done loading data\n",
      "Calculating xdots\n",
      "Assume all t_vec are equal\n",
      "Done calculating xdots\n",
      "time trim:  0.5\n",
      "No ecc\n",
      "Fitting model\n",
      "(i_d)' = -252.3439310619 i_d + 16.7172669158 i_q + 27.6739061185 v_d + -534.3288585971 I_d + -330.9456318676 I_q + 237.2813715199 V_d + 135.6370618432 V_q + -50.3319674297 i_d i_q + -68.5830502372 i_d I_q + 15.3507110846 i_d V_d + 127.7158521914 i_d V_q + 1861.1001450887 i_d V_0 + 2.1980719603 i_q v_0 + 1734.8264116766 i_q I_d + -75.3745310062 i_q V_d + -178.7001644608 i_q V_q + -0.0482486957 i_q \\omega + 88.1308964884 v_d I_d + -66.4945338074 v_d I_q + -652.0637570298 v_d V_0 + -121.6733220144 v_q I_d + -46.7590002446 v_q I_q + 0.5421798395 v_q V_q + -230.4922920432 v_q V_0 + -26.5420504954 v_0 I_d + 16.2579056075 v_0 V_d + 6.5572039802 v_0 V_q + -2875.6348657379 v_0 V_0 + -765.0292795518 I_d I_q + -498.8666614165 I_d V_d + -875.1607408902 I_d V_q + -151.1805480721 I_d \\omega + -0.4338259137 I_d f + -19.5553114925 I_q V_d + 182.6014071591 I_q V_q + -70.1212015298 I_q \\omega + -84.9202889048 V_d V_q + 11.3612337035 V_d \\omega + -0.1429270837 V_d f + 31.3664844607 V_q \\omega + 248.3029434948 V_0 \\omega + 349.3428253595 i_d i_q I_d + -157.0959771634 i_d i_q I_q + 24.6828508145 i_d i_q V_d + -45.8207264101 i_d i_q V_q + 215.8108213048 i_d i_q V_0 + -9.8929454728 i_d v_d V_0 + -17.4795425200 i_d v_q I_d + 29.7679364202 i_d v_q I_q + -6.4394312148 i_d v_q V_0 + -53.2650803804 i_d v_0 I_d + 104.8471008293 i_d v_0 I_q + -1.7291970215 i_d v_0 V_d + 195.6234573412 i_d v_0 V_0 + -193.7268304304 i_d I_d V_d + -273.5832030033 i_d I_d V_q + -1.2520854563 i_d I_d f + 387.1069691304 i_d I_q V_d + -260.7581591641 i_d I_q V_q + 2.1558737680 i_d I_q f + -28.7997215434 i_d V_d V_q + -2930.2242416441 i_d V_q V_0 + -3.6244521354 i_d V_0 \\omega + 25.9706000131 i_d V_0 f + -20.3269858485 i_q v_d I_d + 20.0629556128 i_q v_d I_q + 1.3825019597 i_q v_d V_d + -7.4350738384 i_q v_d V_0 + -4.6858164800 i_q v_q I_d + 1.2759735650 i_q v_q V_q + 7.7394631670 i_q v_q V_0 + 9.9180579801 i_q v_0 I_d + -37.9692052496 i_q v_0 I_q + -111.6813092772 i_q v_0 V_0 + -9030.4161880996 i_q I_d I_q + -445.4645385094 i_q I_d V_d + -336.1588646247 i_q I_d V_q + 1.4747903151 i_q I_d \\omega + -0.9685294911 i_q I_d f + 666.9685593047 i_q I_q V_d + 1093.9946585272 i_q I_q V_q + -9.5968244725 i_q I_q \\omega + -0.1845179825 i_q I_q f + 113.5143297625 i_q V_d V_q + 26.9822857544 i_q V_d V_0 + -6.2961598041 i_q V_0 \\omega + 41.1078419435 i_q V_0 f + -215.3507005128 v_d I_d I_q + -50.8510777722 v_d I_d V_d + 11.1082792022 v_d I_d V_q + -7.3822259065 v_d I_d V_0 + 65.1409776189 v_d I_q V_d + -15.2731316808 v_d I_q V_q + 898.9095341895 v_d I_q V_0 + 431.1896000215 v_d V_d V_0 + 117.6206622682 v_d V_q V_0 + 2.7911988953 v_q v_0 I_d + -4.6801214530 v_q v_0 I_q + 746.5610353138 v_q I_d I_q + 58.0814014045 v_q I_d V_d + -46.5758708848 v_q I_d V_q + -153.0203261737 v_q I_d V_0 + -103.3353771376 v_q I_q V_d + 66.4131629593 v_q I_q V_q + 45.2220626357 v_q I_q V_0 + -81.8826984872 v_q V_d V_0 + 553.0121901549 v_q V_q V_0 + 14.3474436951 v_0 I_d V_d + -89.3583991769 v_0 I_d V_q + 18312.5523256821 v_0 I_d V_0 + -202.1467536243 v_0 I_q V_d + 97.9224900383 v_0 I_q V_q + -332.8793363699 v_0 V_d V_0 + 49.1063313215 v_0 V_q V_0 + -6.4570748413 I_d I_q \\omega + 654.1173783011 I_d V_d V_q + 25.0481178733 I_d V_d \\omega + 2.7706393358 I_d V_d f + 6.6639543578 I_d V_q \\omega + -296.2637084263 I_d V_0 \\omega + 863.1495487830 I_d V_0 f + -312.8964124078 I_q V_d V_q + -10.8599780177 I_q V_d \\omega + -3.7151672757 I_q V_d f + -17.9881542786 I_q V_q \\omega + 2.8150882469 I_q V_q f + -178.2327488724 I_q V_0 \\omega + 600.7940858824 V_d V_q V_0 + -1.4288631578 V_d V_q \\omega + -4.1615523108 V_d V_0 \\omega + -86.7374349861 V_d V_0 f + -85.9126025417 V_q V_0 f\n",
      "(i_q)' = -1.4843950589 1 + 177.5634077862 i_d + 141.9037745836 i_q + -3.1807598718 v_q + 77.0799583615 v_0 + 392.0556528804 I_q + 52.2758035806 V_d + -2.7931456315 \\omega + 114.9681274467 i_d i_q + 0.9855964544 i_d v_0 + -2233.2662222857 i_d I_d + -84.1380895193 i_d I_q + -64.9059631692 i_d V_d + -401.3021498663 i_d V_q + -9.4030582779 i_q v_d + -3.8877417080 i_q v_q + -1044.5834443747 i_q I_d + -749.3149288640 i_q I_q + -230.5704301299 i_q V_d + -13.5068293170 i_q V_q + 139.7047351986 v_d I_d + 63.8634922301 v_d I_q + -24.0258958867 v_d V_d + 4.2251599324 v_d V_q + 248.3587655496 v_d V_0 + 110.3046864602 v_q I_d + 10.5065956529 v_q V_d + -8.2543041430 v_q V_q + 16.7979503510 v_q V_0 + -542.4508876310 v_0 I_d + -55.6455102585 v_0 V_d + 21.6639236037 v_0 V_q + -576.2810564338 v_0 V_0 + -18808.8953380107 I_d I_q + -133.9264859767 I_d V_d + 60.8254048018 I_d \\omega + -4.8595432982 I_d f + 2400.4871991507 I_q V_d + -44.5814258714 I_q V_q + -17.8210495731 I_q \\omega + -3.2653701311 I_q f + 54.2649319234 V_d V_q + -10.2122126860 V_d \\omega + 165.9633364841 V_0 \\omega + -345.3412016499 i_d i_q I_d + -49.7239510075 i_d i_q I_q + -22.1568979974 i_d i_q V_d + -9.5268581814 i_d i_q V_q + 138.7747387490 i_d i_q V_0 + -13.2114339137 i_d v_d I_d + 14.2566242370 i_d v_d I_q + 2.3515345469 i_d v_d V_d + -2.6283935490 i_d v_d V_q + -2.4297387479 i_d v_d V_0 + -31.5353163350 i_d v_q I_q + 1.7012067658 i_d v_q V_d + 2.3068070091 i_d v_q V_q + -6.7689454668 i_d v_q V_0 + -7.9594926704 i_d v_0 I_d + -20.2794444784 i_d v_0 I_q + -0.0208674317 i_d v_0 V_d + 3.7004862291 i_d v_0 V_q + -167.2653595871 i_d v_0 V_0 + 703.3468213505 i_d I_d V_d + 1989.5451137031 i_d I_d V_q + -20.1928476773 i_d I_d \\omega + -886.8614811530 i_d I_q V_d + 64.6143994235 i_d I_q V_q + 2.2864748102 i_d I_q \\omega + -3.1541722710 i_d I_q f + 47.6791259848 i_d V_d V_q + 265.2199666162 i_d V_d V_0 + 13.6725201268 i_q v_d I_d + 23.8858932411 i_q v_d I_q + 4.0777807040 i_q v_d V_d + 8.1591175781 i_q v_d V_0 + 9.5730900998 i_q v_q I_d + 1.4077243718 i_q v_q I_q + 3.1697726424 i_q v_q V_q + 3.4271635306 i_q v_q V_0 + -84.4887311037 i_q v_0 I_d + 124.6287494255 i_q v_0 I_q + 2.0664278566 i_q v_0 V_d + 0.1538483396 i_q v_0 V_q + 215.5095355237 i_q v_0 V_0 + -2211.6629546164 i_q I_d I_q + 719.9238688749 i_q I_d V_d + 287.5304296147 i_q I_d V_q + 834.7723620937 i_q I_q V_d + -46.8903212484 i_q V_d V_q + -423.4413533844 i_q V_d V_0 + 163.2997419066 i_q V_q V_0 + 0.2788592601 v_d v_0 I_d + -0.4377281188 v_d v_0 I_q + -1.1480388781 v_d v_0 V_0 + -1326.3587921605 v_d I_d I_q + 40.7410677572 v_d I_d V_d + -85.3098701258 v_d I_d V_q + -1072.3260168645 v_d I_d V_0 + 177.6565867219 v_d I_q V_d + 98.8044991363 v_d I_q V_q + -156.2065075404 v_d V_d V_0 + 113.2971112079 v_d V_q V_0 + -112.5248260136 v_q I_d I_q + -44.7590559327 v_q I_d V_d + -1.2746951142 v_q I_d V_q + -19.4362218594 v_q I_q V_d + 97.6027529522 v_q I_q V_q + 1139.9471306240 v_q I_q V_0 + 32.3401863484 v_q V_d V_0 + -190.5935860147 v_q V_q V_0 + 334.4798937711 v_0 I_d V_d + 147.8443955989 v_0 I_d V_q + 147.6940452711 v_0 I_q V_d + -162.6725013134 v_0 I_q V_q + -27.7701906433 v_0 V_d V_q + 531.4470545170 v_0 V_d V_0 + -195.2135388069 I_d I_q V_d + 4686.2890535451 I_d I_q V_q + 29.0106363657 I_d I_q f + 1.2067457391 I_d V_d \\omega + 0.7581480297 I_d V_d f + -1.8387868076 I_d V_q \\omega + -641.5336128509 I_q V_d V_q + -16.0091188331 I_q V_d \\omega + 6.5877648606 I_q V_d f + 85.2222172939 I_q V_q \\omega + -3.9024531545 I_q V_q f + -47.4479352188 V_d V_0 \\omega + -3.0342957611 V_d V_0 f + -35.7907116390 V_q V_0 \\omega\n",
      "(i_0)' = 0.0000000000\n",
      "Non-zero elements:  263\n",
      "MSE: 32.901574898617476\n",
      "Saving model\n",
      "No date added\n"
     ]
    }
   ],
   "source": [
    "################################\n",
    "## 3 nonlinear model currents ##\n",
    "################################\n",
    "traindata = os.path.join(os.getcwd(), 'train-data', '07-31-nonlin', 'IMMEC_nonlinear-0ecc_5.0sec.npz')\n",
    "plot_optuna_data('_w5//currentsnonlinear-optuna-study')\n",
    "\n",
    "model1 = make_model(traindata, modeltype='currents', optimizer='STLSQ',\n",
    "               nmbr_of_train=-1, lib='linear-specific', alpha = .0257, threshold = 0.7,\n",
    "               modelname='currents_nonlinear_70')\n",
    "model2 = make_model(traindata, modeltype='currents', optimizer='lasso',\n",
    "               nmbr_of_train=-1, lib='interaction_only', alpha = 94.2,\n",
    "                    modelname='currents_nonlinear_100')\n",
    "model3 = make_model(traindata, modeltype='currents', optimizer='STLSQ',\n",
    "               nmbr_of_train=-1, lib='interaction_only', alpha = 55, threshold = .9,\n",
    "                    modelname='currents_nonlinear_250')\n"
   ]
  },
  {
   "cell_type": "code",
   "execution_count": 2,
   "id": "703c5357-9f13-477f-87e1-42e367fe6e45",
   "metadata": {},
   "outputs": [
    {
     "name": "stderr",
     "output_type": "stream",
     "text": [
      "[I 2024-08-18 12:09:57,750] Study name was omitted but trying to load 'optuna_studies//torquenonlinear-optuna-study' because that was the only study found in the storage.\n"
     ]
    },
    {
     "name": "stdout",
     "output_type": "stream",
     "text": [
      "['optuna_studies//torquenonlinear-optuna-study']\n",
      "Trial count: 1607\n",
      "ecc input: True\n",
      "Loading data\n",
      "Done loading data\n",
      "Calculating xdots\n",
      "Assume all t_vec are equal\n",
      "Done calculating xdots\n",
      "time trim:  0.5\n",
      "No ecc\n",
      "Fitting model\n"
     ]
    },
    {
     "name": "stderr",
     "output_type": "stream",
     "text": [
      "C:\\Users\\emmav\\anaconda3\\envs\\immec_env\\Lib\\site-packages\\pysindy\\utils\\axes.py:126: AxesWarning:\n",
      "\n",
      "2 axes labeled for array with 1 axes\n",
      "\n"
     ]
    },
    {
     "name": "stdout",
     "output_type": "stream",
     "text": [
      "(i_d)' = 6.1857707324 i_d I_q + -0.9969658871 i_d V_q + -6.1831987920 i_q I_d + 0.9969183407 i_q V_d + -1.3063032023 v_0 V_0\n",
      "Non-zero elements:  5\n"
     ]
    },
    {
     "name": "stderr",
     "output_type": "stream",
     "text": [
      "C:\\Users\\emmav\\anaconda3\\envs\\immec_env\\Lib\\site-packages\\pysindy\\utils\\axes.py:126: AxesWarning:\n",
      "\n",
      "2 axes labeled for array with 1 axes\n",
      "\n"
     ]
    },
    {
     "name": "stdout",
     "output_type": "stream",
     "text": [
      "MSE: 0.00016586631353660366\n",
      "Saving model\n",
      "No date added\n",
      "ecc input: True\n",
      "Loading data\n",
      "Done loading data\n",
      "Calculating xdots\n",
      "Assume all t_vec are equal\n",
      "Done calculating xdots\n",
      "time trim:  0.5\n",
      "No ecc\n",
      "Fitting model\n"
     ]
    },
    {
     "name": "stderr",
     "output_type": "stream",
     "text": [
      "C:\\Users\\emmav\\anaconda3\\envs\\immec_env\\Lib\\site-packages\\pysindy\\utils\\axes.py:126: AxesWarning:\n",
      "\n",
      "2 axes labeled for array with 1 axes\n",
      "\n"
     ]
    },
    {
     "name": "stdout",
     "output_type": "stream",
     "text": [
      "(i_d)' = -0.5706185126 i_d + 0.4185189176 i_q + 0.0257388136 v_d + -0.0364276036 v_q + -4.5253287220 I_d + 5.3271495074 I_q + 4.0694957417 V_d + 1.2176935672 V_q + 4.3318377845 V_0 + -0.0325833116 \\omega + 1.5338442036 i_d I_d + 7.5286541140 i_d I_q + 0.0119878163 i_d V_d + -0.7864117141 i_d V_q + 0.1699877770 i_d V_0 + -7.7009732299 i_q I_d + 0.8362715471 i_q I_q + 0.7815624707 i_q V_d + 0.1291553149 i_q V_0 + -0.0651065812 v_d I_d + -0.0814884892 v_d I_q + 0.0069108278 v_d V_d + -0.0207720514 v_d V_q + 0.0777248950 v_q I_d + -0.0437682126 v_q I_q + 0.0208396052 v_q V_d + 0.0069158790 v_q V_q + -0.2552587449 v_0 V_0 + 4.3469813785 I_d^2 + 0.8043980910 I_d I_q + 4.4100892148 I_d V_q + -20.7911169409 I_d V_0 + -5.7232908225 I_q^2 + -4.5397917826 I_q V_d + 1.1176223784 I_q V_q + -3.3540689951 I_q V_0 + -0.0126091329 I_q \\omega + -1.6489863722 V_d^2 + 0.0112278047 V_d V_q + -0.3105484587 V_d V_0 + -1.6515468745 V_q^2 + 0.0151645542 V_q V_0 + -22.7565242455 V_0^2\n",
      "Non-zero elements:  43\n"
     ]
    },
    {
     "name": "stderr",
     "output_type": "stream",
     "text": [
      "C:\\Users\\emmav\\anaconda3\\envs\\immec_env\\Lib\\site-packages\\pysindy\\utils\\axes.py:126: AxesWarning:\n",
      "\n",
      "2 axes labeled for array with 1 axes\n",
      "\n"
     ]
    },
    {
     "name": "stdout",
     "output_type": "stream",
     "text": [
      "MSE: 6.629826626510586e-05\n",
      "Saving model\n",
      "No date added\n",
      "ecc input: True\n",
      "Loading data\n",
      "Done loading data\n",
      "Calculating xdots\n",
      "Assume all t_vec are equal\n",
      "Done calculating xdots\n",
      "time trim:  0.5\n",
      "No ecc\n",
      "Fitting model\n"
     ]
    },
    {
     "name": "stderr",
     "output_type": "stream",
     "text": [
      "C:\\Users\\emmav\\anaconda3\\envs\\immec_env\\Lib\\site-packages\\pysindy\\utils\\axes.py:126: AxesWarning:\n",
      "\n",
      "2 axes labeled for array with 1 axes\n",
      "\n"
     ]
    },
    {
     "name": "stdout",
     "output_type": "stream",
     "text": [
      "(i_d)' = 0.2715788014 i_d + 0.3909873847 i_q + -0.0184092375 v_q + 1.5872410427 I_d + 0.7078636936 I_q + 0.2660244380 V_d + 0.0974479401 V_q + -4.5877991295 V_0 + 0.0107275929 i_d v_q + -0.6073635667 i_d I_d + 5.1172703113 i_d I_q + -0.2016211174 i_d V_d + -0.8835320589 i_d V_q + -0.0106737579 i_q v_d + -5.4001912130 i_q I_d + -1.3364597168 i_q I_q + 0.7838113083 i_q V_d + -0.2807561858 i_q V_q + -5.2393975485 i_q V_0 + -0.0816279939 v_d I_d + -0.0061799912 v_d V_0 + -0.0579434173 v_q I_d + 0.0913187253 v_q I_q + 0.2480877340 v_q V_0 + 0.9155633056 v_0 V_0 + -1.3544703214 I_d V_d + 0.0786307718 I_d V_q + -0.2008751838 I_d \\omega + 0.1261064803 I_q V_d + -1.7603760049 I_q V_q + 0.0988480697 I_q \\omega + 4.5877544131 V_d V_0 + 0.0232557278 V_d \\omega + 9.9597518087 V_q V_0 + -0.0242265693 V_q \\omega + 0.0068022484 V_0 \\omega + 0.2510569713 i_d i_q V_0 + 1.6393667633 i_d I_d I_q + -0.1433507258 i_d I_d V_d + 0.6462485229 i_d I_d V_q + -6.0785297456 i_d I_d V_0 + 0.0634133724 i_d I_d \\omega + 0.1450851056 i_d I_q V_d + -0.1975774756 i_d I_q V_q + 23.9316831235 i_d I_q V_0 + -1.3754783391 i_d V_d V_0 + -0.0102199168 i_d V_d \\omega + 0.9241519517 i_d V_q V_0 + -0.0789897675 i_q I_d I_q + -0.0670947058 i_q I_d V_d + 30.6166988407 i_q I_d V_0 + 0.1649066978 i_q I_q V_d + 0.5518484576 i_q I_q V_q + -3.4032020797 i_q I_q V_0 + 0.0631002376 i_q I_q \\omega + 0.8468323974 i_q V_q V_0 + -0.0101662760 i_q V_q \\omega + -0.1863897635 v_d I_d I_q + 0.1137834913 v_d I_d V_d + -0.0288496901 v_d I_d V_q + 0.9398420561 v_d I_d V_0 + -1.5362592785 v_d I_q V_0 + -0.1160720233 v_q I_d I_q + 0.0288125998 v_q I_d V_d + 0.1138459666 v_q I_d V_q + -0.7068406542 v_q I_d V_0 + -1.1852882201 v_q I_q V_0 + -0.9004760846 v_0 I_d V_0 + -4.7454883485 v_0 I_q V_0 + -1.1269303748 I_d I_q V_d + 1.6271493221 I_d I_q V_q + 316.1057671083 I_d I_q V_0 + 0.6207432882 I_d I_q \\omega + -62.6322731350 I_d V_q V_0 + 0.1422835947 I_d V_q \\omega + -0.3321425312 I_d V_0 \\omega + -0.0597429295 I_q V_d V_q + -50.2321730611 I_q V_d V_0 + -0.1974561609 I_q V_d \\omega + 0.5052075223 I_q V_0 \\omega + -0.0246608958 I_q V_0 f + 0.9813195684 V_d V_q V_0\n",
      "Non-zero elements:  82\n"
     ]
    },
    {
     "name": "stderr",
     "output_type": "stream",
     "text": [
      "C:\\Users\\emmav\\anaconda3\\envs\\immec_env\\Lib\\site-packages\\pysindy\\utils\\axes.py:126: AxesWarning:\n",
      "\n",
      "2 axes labeled for array with 1 axes\n",
      "\n"
     ]
    },
    {
     "name": "stdout",
     "output_type": "stream",
     "text": [
      "MSE: 2.5462982844898178e-05\n",
      "Saving model\n",
      "No date added\n"
     ]
    }
   ],
   "source": [
    "##############################\n",
    "## 4 nonlinear model torque ##\n",
    "##############################\n",
    "traindata = os.path.join(os.getcwd(), 'train-data', '07-31-nonlin', 'IMMEC_nonlinear-0ecc_5.0sec.npz')\n",
    "plot_optuna_data('_w5//torquenonlinear-optuna-study')\n",
    "\n",
    "model1 = make_model(traindata, modeltype='torque', optimizer='STLSQ',\n",
    "               nmbr_of_train=-1, lib='poly_2nd_order', alpha = 1.94, threshold = 0.126,\n",
    "               modelname='torque_nonlinear_5')\n",
    "model2 = make_model(traindata, modeltype='torque', optimizer='STLSQ',\n",
    "               nmbr_of_train=-1, lib='poly_2nd_order', alpha = .00616, threshold = .006,\n",
    "               modelname='torque_nonlinear_40')\n",
    "model3 = make_model(traindata, modeltype='torque', optimizer='STLSQ',\n",
    "               nmbr_of_train=-1, lib='interaction_only', alpha = .0202, threshold = 0.00913,\n",
    "               modelname='torque_nonlinear_100')"
   ]
  },
  {
   "cell_type": "code",
   "execution_count": 3,
   "id": "29ca7f03-185f-4bad-8fe1-552ea5490524",
   "metadata": {},
   "outputs": [
    {
     "name": "stderr",
     "output_type": "stream",
     "text": [
      "[I 2024-08-18 12:20:05,607] Study name was omitted but trying to load 'optuna_studies//currentslinear_50ecc-optuna-study' because that was the only study found in the storage.\n"
     ]
    },
    {
     "name": "stdout",
     "output_type": "stream",
     "text": [
      "['optuna_studies//currentslinear_50ecc-optuna-study']\n",
      "Trial count: 1000\n",
      "ecc input: True\n",
      "Loading data\n",
      "Done loading data\n",
      "Calculating xdots\n",
      "Assume all t_vec are equal\n",
      "Done calculating xdots\n",
      "time trim:  0.5\n",
      "Non zero ecc, added to input data\n",
      "Fitting model\n",
      "(i_d)' = -433.2737748237 i_d + 180.4389442090 i_q + 28.2315313930 v_d + -17.2421941941 v_q + 4.3323001099 v_0 + -2732.8839465451 I_d + 1190.6466225728 I_q + 433.6307260038 V_d + -174.1889978159 V_q + 1207.5871205726 V_0 + 50.8062131430 \\gamma V_0 + -1.0834321133 \\omega i_q + -86.6909820340 \\omega I_d + -211.8161907894 \\omega I_q + 13.0324008780 \\omega V_d + 35.8067754859 \\omega V_q + 13.1127526588 \\omega V_0 + 1.0710650187 v_d I_d + 6.5737082474 v_d V_d + 0.9853051690 v_q I_q + 6.5742175295 v_q V_q + 8.0391661940 v_0 I_d + -66.2769710185 v_0 I_q + 138.3340780315 v_0 V_0\n",
      "(i_q)' = -150.1766921077 i_d + -420.3397943500 i_q + 11.4192850800 v_d + 32.9102136965 v_q + -874.7682705231 I_d + -2528.8053505159 I_q + 136.2635580963 V_d + 415.4712785867 V_q + -2409.8556826623 V_0 + 2.2085530880 \\gamma I_d + -2.4853706848 \\gamma I_q + -1.4701641454 \\gamma V_0 + 1.0472932215 \\omega i_d + 200.3805162248 \\omega I_d + -67.7675427271 \\omega I_q + -32.6134168371 \\omega V_d + 11.4392854050 \\omega V_q + 83.1527628373 \\omega V_0 + 6.5450650986 v_0 I_d + -13.6346908786 v_0 I_q + 31.8947962765 v_0 V_0\n",
      "(i_0)' = 0.0000000000\n",
      "Non-zero elements:  45\n",
      "MSE: 100.64742862099381\n",
      "Saving model\n",
      "No date added\n",
      "ecc input: True\n",
      "Loading data\n",
      "Done loading data\n",
      "Calculating xdots\n",
      "Assume all t_vec are equal\n",
      "Done calculating xdots\n",
      "time trim:  0.5\n",
      "Non zero ecc, added to input data\n",
      "Lasso optimisation\n",
      "Fitting model\n",
      "(i_d)' = -0.1241391039 v_d + -1.0742484764 \\omega i_q + 0.0006918911 \\omega V_q + 0.0000470501 v_d V_d\n",
      "(i_q)' = 0.1848290339 v_d + 0.9962375069 \\omega i_d + 0.0984690036 \\omega i_q + 0.0001184775 v_d V_d\n",
      "(i_0)' = 0.0000000000\n",
      "Non-zero elements:  8\n",
      "MSE: 155.6176489847105\n",
      "Saving model\n",
      "No date added\n"
     ]
    }
   ],
   "source": [
    "#########################################\n",
    "## 5 linear model currents with 50 ecc ##\n",
    "#########################################\n",
    "traindata = os.path.join(os.getcwd(), 'train-data', '07-31-ecc-50', 'IMMEC_50ecc_5.0sec.npz')\n",
    "plot_optuna_data('_w5//currentslinear_50ecc-optuna-study')\n",
    "\n",
    "model1 = make_model(traindata, modeltype='currents', optimizer='STLSQ',\n",
    "               nmbr_of_train=-1, lib='linear-specific', alpha = .0047, threshold = 0.926,\n",
    "               modelname='currents_linear_50ecc_45')\n",
    "model2 = make_model(traindata, modeltype='currents', optimizer='lasso',\n",
    "               nmbr_of_train=-1, lib='linear-specific', alpha = 50.16,\n",
    "               modelname='currents_linear_50ecc_8')"
   ]
  },
  {
   "cell_type": "code",
   "execution_count": 4,
   "id": "0359e714-e802-4a22-9293-0ca51ee17581",
   "metadata": {},
   "outputs": [
    {
     "name": "stderr",
     "output_type": "stream",
     "text": [
      "[I 2024-08-18 12:23:04,087] Study name was omitted but trying to load 'optuna_studies//torquelinear_50ecc-optuna-study' because that was the only study found in the storage.\n"
     ]
    },
    {
     "name": "stdout",
     "output_type": "stream",
     "text": [
      "['optuna_studies//torquelinear_50ecc-optuna-study']\n",
      "Trial count: 1000\n",
      "ecc input: True\n",
      "Loading data\n",
      "Done loading data\n",
      "Calculating xdots\n",
      "Assume all t_vec are equal\n",
      "Done calculating xdots\n",
      "time trim:  0.5\n",
      "Non zero ecc, added to input data\n",
      "Fitting model\n"
     ]
    },
    {
     "name": "stderr",
     "output_type": "stream",
     "text": [
      "C:\\Users\\emmav\\anaconda3\\envs\\immec_env\\Lib\\site-packages\\pysindy\\utils\\axes.py:126: AxesWarning:\n",
      "\n",
      "2 axes labeled for array with 1 axes\n",
      "\n"
     ]
    },
    {
     "name": "stdout",
     "output_type": "stream",
     "text": [
      "(i_d)' = -1.6775524136 V_0 + 6.2855792569 i_d I_q + -1.0094857497 i_d V_q + -2.6334489867 i_d V_0 + -6.1738862907 i_q I_d + 0.9964507242 i_q V_d + -2.1728014284 i_q V_0 + -1.5440544452 I_d I_q + 5.4513394426 V_d V_0 + -3.3581878802 V_q V_0 + -0.4498115619 V_0 sin(1 \\gamma)\n",
      "Non-zero elements:  11\n"
     ]
    },
    {
     "name": "stderr",
     "output_type": "stream",
     "text": [
      "C:\\Users\\emmav\\anaconda3\\envs\\immec_env\\Lib\\site-packages\\pysindy\\utils\\axes.py:126: AxesWarning:\n",
      "\n",
      "2 axes labeled for array with 1 axes\n",
      "\n"
     ]
    },
    {
     "name": "stdout",
     "output_type": "stream",
     "text": [
      "MSE: 0.0001286797144429836\n",
      "Saving model\n",
      "No date added\n",
      "ecc input: True\n",
      "Loading data\n",
      "Done loading data\n",
      "Calculating xdots\n",
      "Assume all t_vec are equal\n",
      "Done calculating xdots\n",
      "time trim:  0.5\n",
      "Non zero ecc, added to input data\n",
      "Fitting model\n"
     ]
    },
    {
     "name": "stderr",
     "output_type": "stream",
     "text": [
      "C:\\Users\\emmav\\anaconda3\\envs\\immec_env\\Lib\\site-packages\\pysindy\\utils\\axes.py:126: AxesWarning:\n",
      "\n",
      "2 axes labeled for array with 1 axes\n",
      "\n"
     ]
    },
    {
     "name": "stdout",
     "output_type": "stream",
     "text": [
      "(i_d)' = 0.3132488469 v_d + 0.1808583556 v_q + 0.9417283973 I_d + -1.5834939241 I_q + -47.2670801524 V_d + -27.0451923830 V_q + -7.9439811990 V_0 + 0.1921751972 i_d I_d + 5.9570104831 i_d I_q + -1.0137828759 i_d V_q + 1.2524287196 i_d V_0 + -6.1662701778 i_q I_d + -0.0356361671 i_q I_q + 0.9971823351 i_q V_d + -0.2728442251 i_q V_0 + -0.2840991858 v_d V_d + -0.2841097665 v_q V_q + 0.5728215707 I_d^2 + -7.8842314519 I_d I_q + 0.2579876914 I_d V_d + -0.7069883131 I_d V_q + 86.3354040540 I_d V_0 + 5.9658479960 I_q^2 + 1.7433037369 I_q V_d + 4.5712765519 I_q V_0 + 21.3320875386 V_d^2 + -3.4979484909 V_d V_0 + 21.3374186214 V_q^2 + -6.9088442516 V_q V_0 + 319.4213177073 V_0^2\n",
      "Non-zero elements:  30\n"
     ]
    },
    {
     "name": "stderr",
     "output_type": "stream",
     "text": [
      "C:\\Users\\emmav\\anaconda3\\envs\\immec_env\\Lib\\site-packages\\pysindy\\utils\\axes.py:126: AxesWarning:\n",
      "\n",
      "2 axes labeled for array with 1 axes\n",
      "\n"
     ]
    },
    {
     "name": "stdout",
     "output_type": "stream",
     "text": [
      "MSE: 2.1417667179118035e-05\n",
      "Saving model\n",
      "No date added\n"
     ]
    }
   ],
   "source": [
    "#######################################\n",
    "## 6 linear model torque with 50 ecc ##\n",
    "#######################################\n",
    "traindata = os.path.join(os.getcwd(), 'train-data', '07-31-ecc-50', 'IMMEC_50ecc_5.0sec.npz')\n",
    "plot_optuna_data('_w5//torquelinear_50ecc-optuna-study')\n",
    "\n",
    "model1 = make_model(traindata, modeltype='torque', optimizer =\"STLSQ\",\n",
    "                    nmbr_of_train=-1, lib='nonlinear_terms', alpha = .041, threshold = 0.215,\n",
    "                    modelname='torque_linear_50ecc_7')\n",
    "model2 = make_model(traindata, modeltype='torque', optimizer =\"STLSQ\",\n",
    "                    nmbr_of_train=-1, lib='poly_2nd_order', alpha = .0001, threshold = 0.076,\n",
    "                    modelname='torque_linear_50ecc_30')"
   ]
  },
  {
   "cell_type": "code",
   "execution_count": 28,
   "id": "b0cc480a-41f5-4104-92c0-6a02b4c25ba5",
   "metadata": {},
   "outputs": [
    {
     "name": "stderr",
     "output_type": "stream",
     "text": [
      "[I 2024-08-18 16:53:09,321] Study name was omitted but trying to load 'optuna_studies//umplinear_50ecc-optuna-study' because that was the only study found in the storage.\n"
     ]
    },
    {
     "name": "stdout",
     "output_type": "stream",
     "text": [
      "['optuna_studies//umplinear_50ecc-optuna-study']\n",
      "Trial count: 1083\n",
      "ecc input: True\n",
      "Loading data\n",
      "Done loading data\n",
      "Calculating xdots\n",
      "Assume all t_vec are equal\n",
      "Done calculating xdots\n",
      "time trim:  0.5\n",
      "Non zero ecc, added to input data\n",
      "Fitting model\n",
      "(i_d)' = -145.0344973709 i_d + -230.0080306639 i_q + 84.2825624649 v_d + 56.4898746145 v_q + 267.0249857711 v_0 + 303.1061707618 I_d + -1517.0824735756 I_q + 113.9803043161 V_d + 206.4815595081 V_q + 12479.6242085786 V_0 + -6.2865400880 \\gamma i_d + -3.3863310124 \\gamma i_q + -175.2026415799 \\gamma I_d + 271.6663324450 \\gamma I_q + -0.3822232022 \\gamma V_d + 9.6586693943 \\gamma V_q + -4829.5201959354 \\gamma V_0 + 108.5823912646 \\omega I_d + -110.3082315334 \\omega I_q + -18.2808801207 \\omega V_d + 7.4700805047 \\omega V_q + 14.8767833139 \\omega V_0 + -15.2896915739 v_d I_d + -3.6230133488 v_d I_q + -64.4659031920 v_d V_d + -4.2252637152 v_d V_q + -10.7735152822 v_d V_0 + -1.7889270484 v_q I_d + -15.8862730326 v_q I_q + 4.2627027514 v_q V_d + -64.3492639219 v_q V_q + -11.8060311993 v_q V_0 + 8.6085453349 v_0 i_q + -362.5302616891 v_0 I_d + -1777.1595994071 v_0 I_q + -13.2401033660 v_0 V_d + -9.3842742344 v_0 V_q + 1683.2513600370 v_0 V_0\n",
      "(i_q)' = -48.7855780985 i_d + 234.5542543320 i_q + 230.0509153171 v_d + 110.6851608234 v_q + 181.2412229805 v_0 + -391.2647759938 I_d + 3091.1318470112 I_q + 103.8205524370 V_d + -202.4490886172 V_q + 1736.1419767866 V_0 + -7.6728765343 \\gamma i_d + 2.4921078594 \\gamma i_q + 154.9398070100 \\gamma I_d + -206.3547477979 \\gamma I_q + -8.9966518717 \\gamma V_q + -2395.9298181597 \\gamma V_0 + -131.1587065569 \\omega I_d + -21.0243867156 \\omega I_q + 16.1730005982 \\omega V_d + 11.0315204975 \\omega V_q + 38.5257488672 \\omega V_0 + 5.2013614389 v_d I_d + -199.5087572558 v_d V_d + -16.1083574412 v_d V_0 + -3.0681276238 v_q I_d + 6.9716167040 v_q I_q + -199.3784438471 v_q V_q + -2.8662190243 v_q V_0 + 5.3543571522 v_0 i_d + 4.2185001073 v_0 i_q + -816.8097474561 v_0 I_d + -347.1358193459 v_0 I_q + 3142.1465412126 v_0 V_0\n",
      "Non-zero elements:  71\n",
      "MSE: 633.7044014484605\n",
      "Saving model\n",
      "No date added\n"
     ]
    }
   ],
   "source": [
    "####################################\n",
    "## 7 linear model UMP with 50 ecc ##\n",
    "####################################\n",
    "traindata = os.path.join(os.getcwd(), 'train-data', '07-31-ecc-50', 'IMMEC_50ecc_5.0sec.npz')\n",
    "plot_optuna_data('_w5//umplinear_50ecc-optuna-study')\n",
    "\n",
    "model1 = make_model(traindata, modeltype='ump', optimizer =\"STLSQ\",\n",
    "                    nmbr_of_train=-1, lib='torque', alpha = 3.6e-5, threshold = 0.008,\n",
    "                    modelname='ump_linear_50ecc_30')\n",
    "\n",
    "model2 = make_model(traindata, modeltype='ump', optimizer =\"STLSQ\",\n",
    "                    nmbr_of_train=-1, lib='poly_2nd_order', alpha = 92.8, threshold = 0.74,\n",
    "                    modelname='ump_linear_50ecc_100')\n",
    "\n",
    "model3 = make_model(traindata, modeltype='ump', optimizer =\"STLSQ\",\n",
    "                    nmbr_of_train=-1, lib='linear-specific', alpha = 2.44, threshold = 0.577,\n",
    "                    modelname='ump_linear_50ecc_70')\n"
   ]
  },
  {
   "cell_type": "code",
   "execution_count": 27,
   "id": "fe5a6a17-bf02-43ce-978c-fbbd6634665b",
   "metadata": {},
   "outputs": [
    {
     "name": "stderr",
     "output_type": "stream",
     "text": [
      "[I 2024-08-18 16:15:05,540] Study name was omitted but trying to load 'optuna_studies//currentsnonlinear_50ecc-optuna-study' because that was the only study found in the storage.\n"
     ]
    },
    {
     "name": "stdout",
     "output_type": "stream",
     "text": [
      "['optuna_studies//currentsnonlinear_50ecc-optuna-study']\n",
      "Trial count: 1000\n",
      "ecc input: True\n",
      "Loading data\n",
      "Done loading data\n"
     ]
    },
    {
     "name": "stderr",
     "output_type": "stream",
     "text": [
      "\n",
      "KeyboardInterrupt\n",
      "\n"
     ]
    }
   ],
   "source": [
    "############################################\n",
    "## 8 nonlinear model currents with 50 ecc ##\n",
    "############################################\n",
    "traindata = os.path.join(os.getcwd(), 'train-data', '07-31-nonlin50', 'IMMEC_nonlinear-50ecc_5.0sec.npz')\n",
    "plot_optuna_data('_w5//currentsnonlinear_50ecc-optuna-study')\n",
    "\n",
    "\n",
    "model1 =  make_model(traindata, modeltype='currents', optimizer =\"STLSQ\",\n",
    "                    nmbr_of_train=-1, lib='linear-specific', alpha = 2.78, threshold = 0.616,\n",
    "                    modelname='currents_nonlinear_50ecc_70')\n",
    "\n",
    "# takes really long to make, memory error -> need to generate on a pc instead of laptop\n",
    "# Memory Error vvvvvvvvvv\n",
    "'''\n",
    "model2 =  make_model(traindata, modeltype='currents', optimizer =\"lasso\",\n",
    "                    nmbr_of_train=-1, lib='interaction_only', alpha = 73.7,\n",
    "                    modelname='currents_nonlinear_50ecc_100')\n",
    "\n",
    "model3 =  make_model(traindata, modeltype='currents', optimizer =\"STLSQ\",\n",
    "                    nmbr_of_train=-1, lib='interaction_only', alpha = 49.0, threshold = .88,\n",
    "                    modelname='currents_nonlinear_50ecc_260')\n",
    "'''"
   ]
  },
  {
   "cell_type": "code",
   "execution_count": 10,
   "id": "0addc5ad-79d4-404a-a043-482717deb0d2",
   "metadata": {},
   "outputs": [
    {
     "name": "stderr",
     "output_type": "stream",
     "text": [
      "[I 2024-08-18 13:06:20,147] Study name was omitted but trying to load 'optuna_studies//torquenonlinear_50ecc-optuna-study' because that was the only study found in the storage.\n"
     ]
    },
    {
     "name": "stdout",
     "output_type": "stream",
     "text": [
      "['optuna_studies//torquenonlinear_50ecc-optuna-study']\n",
      "Trial count: 1000\n",
      "ecc input: True\n",
      "Loading data\n",
      "Done loading data\n",
      "Calculating xdots\n",
      "Assume all t_vec are equal\n",
      "Done calculating xdots\n",
      "time trim:  0.5\n",
      "Non zero ecc, added to input data\n",
      "Fitting model\n"
     ]
    },
    {
     "name": "stderr",
     "output_type": "stream",
     "text": [
      "C:\\Users\\emmav\\anaconda3\\envs\\immec_env\\Lib\\site-packages\\pysindy\\utils\\axes.py:126: AxesWarning:\n",
      "\n",
      "2 axes labeled for array with 1 axes\n",
      "\n"
     ]
    },
    {
     "name": "stdout",
     "output_type": "stream",
     "text": [
      "(i_d)' = -0.0204426355 i_q + 0.5232290641 I_d + -1.2000172482 I_q + -0.1046960207 V_d + 0.1249390024 V_q + 0.0314546520 i_d I_d + 6.1333484864 i_d I_q + -1.0009102481 i_d V_q + -6.0065354249 i_q I_d + -0.1083947694 i_q I_q + 0.9972539179 i_q V_d + 0.3593046975 i_q V_0 + -0.1177084490 v_0 I_d + 0.2014872166 v_0 I_q + -1.1805817047 v_0 V_0 + 0.1626228043 I_d V_d + -0.8808043832 I_d V_q + 1.1968948614 I_q^2 + 0.7792886798 I_q V_d + 0.2617011207 I_q V_q\n",
      "Non-zero elements:  20\n"
     ]
    },
    {
     "name": "stderr",
     "output_type": "stream",
     "text": [
      "C:\\Users\\emmav\\anaconda3\\envs\\immec_env\\Lib\\site-packages\\pysindy\\utils\\axes.py:126: AxesWarning:\n",
      "\n",
      "2 axes labeled for array with 1 axes\n",
      "\n"
     ]
    },
    {
     "name": "stdout",
     "output_type": "stream",
     "text": [
      "MSE: 0.0003058228059005016\n",
      "Saving model\n",
      "No date added\n",
      "ecc input: True\n",
      "Loading data\n",
      "Done loading data\n",
      "Calculating xdots\n",
      "Assume all t_vec are equal\n",
      "Done calculating xdots\n",
      "time trim:  0.5\n",
      "Non zero ecc, added to input data\n",
      "Fitting model\n"
     ]
    },
    {
     "name": "stderr",
     "output_type": "stream",
     "text": [
      "C:\\Users\\emmav\\anaconda3\\envs\\immec_env\\Lib\\site-packages\\pysindy\\utils\\axes.py:126: AxesWarning:\n",
      "\n",
      "2 axes labeled for array with 1 axes\n",
      "\n"
     ]
    },
    {
     "name": "stdout",
     "output_type": "stream",
     "text": [
      "(i_d)' = -0.4820673057 i_d + 0.5314695666 i_q + 0.0319191777 v_d + -0.0347217019 v_q + -4.8275615670 I_d + 3.9753311005 I_q + 3.8462403840 V_d + 1.1383612703 V_q + 5.4295365383 V_0 + -0.0312880316 \\omega + 1.3018007243 i_d I_d + 7.4217040686 i_d I_q + -0.0238614932 i_d V_d + -0.7799623711 i_d V_q + -0.1758873655 i_d V_0 + -8.0364698684 i_q I_d + 0.5246205347 i_q I_q + 0.7615498112 i_q V_d + 0.6411541869 i_q V_0 + -0.0512750442 v_d I_d + -0.0960798316 v_d I_q + -0.0200413211 v_d V_q + 0.1028961144 v_q I_d + -0.0526120688 v_q I_q + 0.0200635071 v_q V_d + -0.2755676376 v_0 V_0 + 11.5030110507 I_d^2 + -5.3386278889 I_d I_q + -1.6273805354 I_d V_d + 4.8663021805 I_d V_q + -44.3289523299 I_d V_0 + 6.0512766872 I_q^2 + -3.2963439948 I_q V_d + -0.6219442900 I_q V_q + 20.8726292343 I_q V_0 + -0.0127088944 I_q \\omega + -1.4667719923 V_d^2 + 0.2228628032 V_d V_0 + -1.5034483009 V_q^2\n",
      "Non-zero elements:  39\n"
     ]
    },
    {
     "name": "stderr",
     "output_type": "stream",
     "text": [
      "C:\\Users\\emmav\\anaconda3\\envs\\immec_env\\Lib\\site-packages\\pysindy\\utils\\axes.py:126: AxesWarning:\n",
      "\n",
      "2 axes labeled for array with 1 axes\n",
      "\n"
     ]
    },
    {
     "name": "stdout",
     "output_type": "stream",
     "text": [
      "MSE: 0.00010200335089499595\n",
      "Saving model\n",
      "No date added\n"
     ]
    }
   ],
   "source": [
    "##########################################\n",
    "## 9 nonlinear model torque with 50 ecc ##\n",
    "##########################################\n",
    "traindata = os.path.join(os.getcwd(), 'train-data', '07-31-nonlin50', 'IMMEC_nonlinear-50ecc_5.0sec.npz')\n",
    "plot_optuna_data('_w5//torquenonlinear_50ecc-optuna-study')\n",
    "\n",
    "model1 =  make_model(traindata, modeltype='torque', optimizer =\"STLSQ\",\n",
    "                    nmbr_of_train=-1, lib='poly_2nd_order', alpha = 5.45, threshold = 0.066,\n",
    "                    modelname='torque_nonlinear_50ecc_10')\n",
    "\n",
    "model2 =  make_model(traindata, modeltype='torque', optimizer =\"STLSQ\",\n",
    "                    nmbr_of_train=-1, lib='poly_2nd_order', alpha = 0.0668, threshold = 0.016,\n",
    "                    modelname='torque_nonlinear_50ecc_40')\n"
   ]
  },
  {
   "cell_type": "code",
   "execution_count": 12,
   "id": "ba85ea15-c729-496b-9b10-aa5b57563d7d",
   "metadata": {},
   "outputs": [
    {
     "name": "stderr",
     "output_type": "stream",
     "text": [
      "[I 2024-08-18 13:19:31,606] Study name was omitted but trying to load 'optuna_studies//umpnonlinear_50ecc-optuna-study' because that was the only study found in the storage.\n"
     ]
    },
    {
     "name": "stdout",
     "output_type": "stream",
     "text": [
      "['optuna_studies//umpnonlinear_50ecc-optuna-study']\n",
      "Trial count: 1000\n",
      "ecc input: True\n",
      "Loading data\n",
      "Done loading data\n",
      "Calculating xdots\n",
      "Assume all t_vec are equal\n",
      "Done calculating xdots\n",
      "time trim:  0.5\n",
      "Non zero ecc, added to input data\n",
      "Fitting model\n",
      "(i_d)' = 0.6994244638 1 + 110.2776315924 i_d + 186.4768111870 i_q + -14.1803412710 v_d + -0.5171357439 v_q + -19.6800307533 v_0 + -1818.1784137949 I_d + 7372.7542935679 I_q + -334.2595710331 V_d + -1397.4749708515 V_q + 12256.2713797735 V_0 + -1.7059885147 \\omega + 10.7216264892 i_d^2 + -2.8983968074 i_d i_q + -353.8960905622 i_d I_d + 437.2361602454 i_d I_q + -56.7151896205 i_d V_d + -47.9275967246 i_d V_q + 348.8080467994 i_d V_0 + 32.4084187075 i_q^2 + -229.1227746819 i_q I_d + -446.1666199410 i_q I_q + -15.0665389187 i_q V_d + -138.4566129510 i_q V_q + 82.2011607402 i_q V_0 + 40.9703562930 v_d I_d + 73.0219677987 v_d I_q + -0.7608784822 v_d V_q + -19.2431238481 v_q I_d + 33.3188269417 v_q I_q + 0.7709503656 v_q V_d + 101.2568754688 v_0 I_d + 17.1282304907 v_0 I_q + 0.0127263163 v_0 V_d + -156.4463407130 v_0 V_0 + -1122.7119038792 I_d^2 + 7206.7529226532 I_d I_q + -1212.1819514520 I_d V_d + 3963.0452432408 I_d V_q + -80064.8322392832 I_d V_0 + 3.5730731581 I_d \\omega + 2.3721718124 I_d f + -18330.9345120197 I_q^2 + -4642.6677498434 I_q V_d + -15.7879409057 I_q V_q + 560.8286101058 I_q V_0 + 3.0075681264 I_q \\omega + -2.8399049731 I_q f + 460.5555762879 V_d^2 + 33.6819782659 V_d V_q + 523.0973138801 V_d V_0 + -0.3734442231 V_d \\omega + 526.2082217792 V_q^2 + 1964.9362776131 V_q V_0 + 0.1053763124 V_q \\omega + 89857.5401315452 V_0^2\n",
      "(i_q)' = -5.6181711371 1 + -152.9511630552 i_d + -107.0897510443 i_q + -5.6241061058 v_d + -4.6896672660 v_q + 20.9561569199 v_0 + 1960.4001470463 I_d + 3875.5846154726 I_q + 203.5564148502 V_d + -179.0420230385 V_q + 322.5506519595 V_0 + -0.1905577666 \\omega + -12.2675250178 i_d i_q + -0.9734610137 i_d v_0 + 1041.2266981655 i_d I_d + -697.5489560666 i_d I_q + 59.5793217066 i_d V_d + -29.0225098516 i_d V_q + -7.0858685944 i_d V_0 + 1.6848250027 i_q^2 + 483.0766458470 i_q I_d + 263.7023836250 i_q I_q + -2.8149744658 i_q V_d + 10.3187305001 i_q V_q + 46.8714564543 i_q V_0 + -7.1798808151 v_d I_d + 66.8776440597 v_d I_q + -1.0595312051 v_d V_q + -5.1902946014 v_q I_d + 42.3334727337 v_q I_q + 1.1190119431 v_q V_d + -24.4918946138 v_0 I_d + -160.2636533168 v_0 I_q + -126.9387906509 v_0 V_0 + -17455.8618969009 I_d^2 + 12143.6890344767 I_d I_q + 2638.2003321134 I_d V_d + 184.2116906761 I_d V_q + -4216.0005593639 I_d V_0 + -8.1355564965 I_d \\omega + -0.5832957435 I_d f + -35216.2362501793 I_q^2 + -1508.8298565196 I_q V_d + 4348.7621661450 I_q V_q + -867.7351957607 I_q V_0 + 5.8221423689 I_q f + -242.0772956932 V_d^2 + 5.2893751937 V_d V_q + 156.0570636328 V_d V_0 + -241.1300918538 V_q^2 + 509.6420892794 V_q V_0 + -0.6464506204 V_q \\omega + -151691.7788100146 V_0^2 + -3.6035212798 V_0 \\omega + 21.7983847807 V_0 f\n",
      "Non-zero elements:  111\n",
      "MSE: 31.95311459159162\n",
      "Saving model\n",
      "No date added\n",
      "ecc input: True\n",
      "Loading data\n",
      "Done loading data\n",
      "Calculating xdots\n",
      "Assume all t_vec are equal\n",
      "Done calculating xdots\n",
      "time trim:  0.5\n",
      "Non zero ecc, added to input data\n",
      "Fitting model\n",
      "(i_d)' = -2647.7037775020 1 + 141.9931356868 i_d + 229.5726960053 i_q + -14.9743083261 v_d + -2.1106626821 v_q + -62.0612189053 v_0 + -1028.4103303517 I_d + 6793.3965785444 I_q + -265.3055490967 V_d + -1291.0643123921 V_q + 14513.7719051502 V_0 + 1.8306057647 \\omega + 0.6790015943 f + 11063491.5904016271 r_x + 10.5384674010 i_d^2 + -6.6225599912 i_d i_q + -0.1031357546 i_d v_d + 0.1899326367 i_d v_q + 0.1333546213 i_d v_0 + -385.0158272945 i_d I_d + 403.7411088717 i_d I_q + -81.2745859114 i_d V_d + -38.3609363618 i_d V_q + -471.9924868197 i_d V_0 + 0.0150858727 i_d \\omega + -0.1607855821 i_d f + 0.0332795885 i_d r_x + 22.7950989325 i_q^2 + -0.1374957704 i_q v_d + -0.3584218950 i_q v_0 + -268.2094871574 i_q I_d + -817.1757415901 i_q I_q + -16.7439503100 i_q V_d + -128.8335111792 i_q V_q + 623.2077525537 i_q V_0 + -0.0518360309 i_q \\omega + 0.2491036755 i_q f + 0.0546801597 i_q r_x + 0.0090342665 v_d^2 + -0.0132859928 v_d v_0 + 31.1540770084 v_d I_d + 55.3197051364 v_d I_q + 2.4754849901 v_d V_d + 1.4615532323 v_d V_q + 17.3187205183 v_d V_0 + -0.0038477450 v_d r_x + 0.0087476592 v_q^2 + -0.0176660094 v_q v_0 + -3.2341522432 v_q I_d + 31.1834811241 v_q I_q + -1.5290621415 v_q V_d + 2.4303370748 v_q V_q + -2.2840103374 v_q V_0 + 0.0478520993 v_0^2 + 294.6446108042 v_0 I_d + 91.6404423807 v_0 I_q + 3.4875175012 v_0 V_d + -5.1468710665 v_0 V_q + -65.5854938113 v_0 V_0 + -0.0148299071 v_0 r_x + -2053.1743182636 I_d^2 + 7488.0833616913 I_d I_q + -1654.3784115167 I_d V_d + 4166.7574853693 I_d V_q + -118508.2015549453 I_d V_0 + 3.8582658675 I_d \\omega + -1.5340833755 I_d f + -0.2452303409 I_d r_x + -17000.3591366469 I_q^2 + -4189.5246126243 I_q V_d + -296.3794717162 I_q V_q + 9421.5159133303 I_q V_0 + -0.6502141292 I_q \\omega + 4.3651985846 I_q f + 1.6202345845 I_q r_x + 447.4404225526 V_d^2 + 4.5342651465 V_d V_q + 3004.5895215749 V_d V_0 + -0.4616938427 V_d \\omega + 0.3489205652 V_d f + -0.0632766642 V_d r_x + 457.9925617687 V_q^2 + 3314.2850739381 V_q V_0 + 0.0215474417 V_q \\omega + -0.6661858450 V_q f + -0.3078407215 V_q r_x + 85447.7846279884 V_0^2 + -2.0429105387 V_0 \\omega + 12.8777263976 V_0 f + 3.4615447781 V_0 r_x + -0.0138735613 \\omega^2 + -0.0051439013 \\omega f + 0.0004504160 \\omega r_x + -0.0041647111 f^2 + 0.0000939149 f r_x + 0.1368094055 sin(1 \\gamma) + 0.1085646613 cos(1 \\gamma)\n",
      "(i_q)' = -1.8373073951 1 + -1.9460621794 i_d + -128.4260411769 i_q + -10.6391994280 v_d + 2.7070410067 v_q + 42.4151685803 v_0 + 3548.9562081622 I_d + 2765.9822685103 I_q + -546.1411403757 V_d + -349.0148690427 V_q + 2007.1186694926 V_0 + 5.2040665396 \\omega + 0.1231716329 f + -0.4718950389 i_d^2 + -8.6653092850 i_d i_q + -0.1446050195 i_d v_d + 0.0538717086 i_d v_q + -0.3861346237 i_d v_0 + 773.6445933460 i_d I_d + -825.9984951628 i_d I_q + -26.1346679336 i_d V_d + -31.5044571591 i_d V_q + 346.9953925327 i_d V_0 + 0.0273284661 i_d \\omega + -0.0595678517 i_d f + -3.8057406896 i_q^2 + -0.0940870948 i_q v_d + -0.1479349201 i_q v_q + -0.1882967797 i_q v_0 + 290.9388795703 i_q I_d + 536.6354492535 i_q I_q + 43.4332853182 i_q V_d + -28.5247689099 i_q V_q + 784.6493308968 i_q V_0 + 0.0911821080 i_q \\omega + -0.7854355511 i_q f + -0.0306402014 i_q r_x + 0.0127667639 v_d^2 + 0.0057252720 v_d v_0 + -27.3572982793 v_d I_d + 45.9001299065 v_d I_q + 5.5536242383 v_d V_d + 3.0017647316 v_d V_q + -4.1975638321 v_d V_0 + -0.0028486699 v_d r_x + 0.0134825654 v_q^2 + 0.0162481461 v_q v_0 + -12.9272118214 v_q I_d + -6.8888991795 v_q I_q + -3.2439775465 v_q V_d + 5.3736627256 v_q V_q + -1.0737952826 v_q V_0 + 0.0006416962 v_q r_x + -73.3867692976 v_0 I_d + -252.1556199750 v_0 I_q + -4.8626168087 v_0 V_d + 3.1679196493 v_0 V_q + 24.8182031450 v_0 V_0 + 0.0101482062 v_0 r_x + -11258.4348681404 I_d^2 + 1083.9152053367 I_d I_q + 852.1507505581 I_d V_d + -585.5060417860 I_d V_q + 15195.0016795471 I_d V_0 + 8.2713800690 I_d \\omega + -2.2023497432 I_d f + 0.8464508031 I_d r_x + -24125.8984815859 I_q^2 + 261.8230092162 I_q V_d + 2680.0439279140 I_q V_q + -21825.9119244134 I_q V_0 + -13.2132321215 I_q \\omega + -4.8584583128 I_q f + 0.6596972753 I_q r_x + 149.3846484065 V_d^2 + 3.7287569564 V_d V_q + -790.4951047873 V_d V_0 + 0.2599849280 V_d \\omega + 0.6709276011 V_d f + -0.1302430225 V_d r_x + 105.6078199602 V_q^2 + -2417.6141233337 V_q V_0 + -2.8760769167 V_q \\omega + 1.5838026169 V_q f + -0.0831836725 V_q r_x + 47540.4786492375 V_0^2 + -2.3260323301 V_0 \\omega + 13.5684375571 V_0 f + 0.4787046733 V_0 r_x + -0.0189237669 \\omega^2 + -0.0048179669 \\omega f + 0.0011861754 \\omega r_x + -0.0040648801 f^2 + 0.0000786140 f r_x + 0.0253760806 sin(1 \\gamma) + -0.0949616768 cos(1 \\gamma)\n",
      "Non-zero elements:  193\n",
      "MSE: 15.804914353240127\n",
      "Saving model\n",
      "No date added\n",
      "ecc input: True\n",
      "Loading data\n",
      "Done loading data\n",
      "Calculating xdots\n",
      "Assume all t_vec are equal\n",
      "Done calculating xdots\n",
      "time trim:  0.5\n",
      "Non zero ecc, added to input data\n",
      "Fitting model\n"
     ]
    },
    {
     "ename": "MemoryError",
     "evalue": "",
     "output_type": "error",
     "traceback": [
      "\u001b[1;31m---------------------------------------------------------------------------\u001b[0m",
      "\u001b[1;31mMemoryError\u001b[0m                               Traceback (most recent call last)",
      "Cell \u001b[1;32mIn[12], line 13\u001b[0m\n\u001b[0;32m      7\u001b[0m model1 \u001b[38;5;241m=\u001b[39m  make_model(traindata, modeltype\u001b[38;5;241m=\u001b[39m\u001b[38;5;124m'\u001b[39m\u001b[38;5;124mump\u001b[39m\u001b[38;5;124m'\u001b[39m, optimizer \u001b[38;5;241m=\u001b[39m\u001b[38;5;124m\"\u001b[39m\u001b[38;5;124mSTLSQ\u001b[39m\u001b[38;5;124m\"\u001b[39m,\n\u001b[0;32m      8\u001b[0m                     nmbr_of_train\u001b[38;5;241m=\u001b[39m\u001b[38;5;241m-\u001b[39m\u001b[38;5;241m1\u001b[39m, lib\u001b[38;5;241m=\u001b[39m\u001b[38;5;124m'\u001b[39m\u001b[38;5;124mpoly_2nd_order\u001b[39m\u001b[38;5;124m'\u001b[39m, alpha \u001b[38;5;241m=\u001b[39m \u001b[38;5;241m5.076\u001b[39m, threshold \u001b[38;5;241m=\u001b[39m \u001b[38;5;241m0.7317\u001b[39m,\n\u001b[0;32m      9\u001b[0m                     modelname\u001b[38;5;241m=\u001b[39m\u001b[38;5;124m'\u001b[39m\u001b[38;5;124mump_nonlinear_50ecc_100\u001b[39m\u001b[38;5;124m'\u001b[39m)\n\u001b[0;32m     10\u001b[0m model2 \u001b[38;5;241m=\u001b[39m  make_model(traindata, modeltype\u001b[38;5;241m=\u001b[39m\u001b[38;5;124m'\u001b[39m\u001b[38;5;124mump\u001b[39m\u001b[38;5;124m'\u001b[39m, optimizer \u001b[38;5;241m=\u001b[39m\u001b[38;5;124m\"\u001b[39m\u001b[38;5;124mSTLSQ\u001b[39m\u001b[38;5;124m\"\u001b[39m,\n\u001b[0;32m     11\u001b[0m                     nmbr_of_train\u001b[38;5;241m=\u001b[39m\u001b[38;5;241m-\u001b[39m\u001b[38;5;241m1\u001b[39m, lib\u001b[38;5;241m=\u001b[39m\u001b[38;5;124m'\u001b[39m\u001b[38;5;124mpoly_2nd_order\u001b[39m\u001b[38;5;124m'\u001b[39m, alpha \u001b[38;5;241m=\u001b[39m \u001b[38;5;241m2.6e-5\u001b[39m, threshold \u001b[38;5;241m=\u001b[39m \u001b[38;5;241m0.00255\u001b[39m,\n\u001b[0;32m     12\u001b[0m                     modelname\u001b[38;5;241m=\u001b[39m\u001b[38;5;124m'\u001b[39m\u001b[38;5;124mump_nonlinear_50ecc_170\u001b[39m\u001b[38;5;124m'\u001b[39m)\n\u001b[1;32m---> 13\u001b[0m model3 \u001b[38;5;241m=\u001b[39m  make_model(traindata, modeltype\u001b[38;5;241m=\u001b[39m\u001b[38;5;124m'\u001b[39m\u001b[38;5;124mump\u001b[39m\u001b[38;5;124m'\u001b[39m, optimizer \u001b[38;5;241m=\u001b[39m\u001b[38;5;124m\"\u001b[39m\u001b[38;5;124mSTLSQ\u001b[39m\u001b[38;5;124m\"\u001b[39m,\n\u001b[0;32m     14\u001b[0m                     nmbr_of_train\u001b[38;5;241m=\u001b[39m\u001b[38;5;241m-\u001b[39m\u001b[38;5;241m1\u001b[39m, lib\u001b[38;5;241m=\u001b[39m\u001b[38;5;124m'\u001b[39m\u001b[38;5;124minteraction_only\u001b[39m\u001b[38;5;124m'\u001b[39m, alpha \u001b[38;5;241m=\u001b[39m \u001b[38;5;241m91.5\u001b[39m, threshold \u001b[38;5;241m=\u001b[39m \u001b[38;5;241m0.52\u001b[39m,\n\u001b[0;32m     15\u001b[0m                     modelname\u001b[38;5;241m=\u001b[39m\u001b[38;5;124m'\u001b[39m\u001b[38;5;124mump_nonlinear_50ecc_300\u001b[39m\u001b[38;5;124m'\u001b[39m)\n",
      "File \u001b[1;32m~\\PycharmProjects\\SINDY_project\\train_model_source.py:87\u001b[0m, in \u001b[0;36mmake_model\u001b[1;34m(path_to_data_files, modeltype, optimizer, lib, nmbr_of_train, alpha, nu, lamb, modelname, threshold)\u001b[0m\n\u001b[0;32m     84\u001b[0m model \u001b[38;5;241m=\u001b[39m ps\u001b[38;5;241m.\u001b[39mSINDy(optimizer\u001b[38;5;241m=\u001b[39mopt, feature_library\u001b[38;5;241m=\u001b[39mlibrary, feature_names\u001b[38;5;241m=\u001b[39mDATA[\u001b[38;5;124m'\u001b[39m\u001b[38;5;124mfeature_names\u001b[39m\u001b[38;5;124m'\u001b[39m])\n\u001b[0;32m     86\u001b[0m \u001b[38;5;28mprint\u001b[39m(\u001b[38;5;124m\"\u001b[39m\u001b[38;5;124mFitting model\u001b[39m\u001b[38;5;124m\"\u001b[39m)\n\u001b[1;32m---> 87\u001b[0m model\u001b[38;5;241m.\u001b[39mfit(DATA[\u001b[38;5;124m'\u001b[39m\u001b[38;5;124mx_train\u001b[39m\u001b[38;5;124m'\u001b[39m], u\u001b[38;5;241m=\u001b[39mDATA[\u001b[38;5;124m'\u001b[39m\u001b[38;5;124mu_train\u001b[39m\u001b[38;5;124m'\u001b[39m], t\u001b[38;5;241m=\u001b[39m\u001b[38;5;28;01mNone\u001b[39;00m, x_dot\u001b[38;5;241m=\u001b[39mtrain)\n\u001b[0;32m     88\u001b[0m model\u001b[38;5;241m.\u001b[39mprint(precision\u001b[38;5;241m=\u001b[39m\u001b[38;5;241m10\u001b[39m)\n\u001b[0;32m     90\u001b[0m \u001b[38;5;28mprint\u001b[39m(\u001b[38;5;124m\"\u001b[39m\u001b[38;5;124mNon-zero elements: \u001b[39m\u001b[38;5;124m\"\u001b[39m, np\u001b[38;5;241m.\u001b[39mcount_nonzero(model\u001b[38;5;241m.\u001b[39mcoefficients()))\n",
      "File \u001b[1;32m~\\anaconda3\\envs\\immec_env\\Lib\\site-packages\\pysindy\\pysindy.py:259\u001b[0m, in \u001b[0;36mSINDy.fit\u001b[1;34m(self, x, t, x_dot, u)\u001b[0m\n\u001b[0;32m    257\u001b[0m x_dot \u001b[38;5;241m=\u001b[39m concat_sample_axis(x_dot)\n\u001b[0;32m    258\u001b[0m \u001b[38;5;28mself\u001b[39m\u001b[38;5;241m.\u001b[39mmodel \u001b[38;5;241m=\u001b[39m Pipeline(steps)\n\u001b[1;32m--> 259\u001b[0m \u001b[38;5;28mself\u001b[39m\u001b[38;5;241m.\u001b[39mmodel\u001b[38;5;241m.\u001b[39mfit(x, x_dot)\n\u001b[0;32m    261\u001b[0m \u001b[38;5;28mself\u001b[39m\u001b[38;5;241m.\u001b[39mn_features_in_ \u001b[38;5;241m=\u001b[39m \u001b[38;5;28mself\u001b[39m\u001b[38;5;241m.\u001b[39mfeature_library\u001b[38;5;241m.\u001b[39mn_features_in_\n\u001b[0;32m    262\u001b[0m \u001b[38;5;28mself\u001b[39m\u001b[38;5;241m.\u001b[39mn_output_features_ \u001b[38;5;241m=\u001b[39m \u001b[38;5;28mself\u001b[39m\u001b[38;5;241m.\u001b[39mfeature_library\u001b[38;5;241m.\u001b[39mn_output_features_\n",
      "File \u001b[1;32m~\\anaconda3\\envs\\immec_env\\Lib\\site-packages\\sklearn\\base.py:1474\u001b[0m, in \u001b[0;36m_fit_context.<locals>.decorator.<locals>.wrapper\u001b[1;34m(estimator, *args, **kwargs)\u001b[0m\n\u001b[0;32m   1467\u001b[0m     estimator\u001b[38;5;241m.\u001b[39m_validate_params()\n\u001b[0;32m   1469\u001b[0m \u001b[38;5;28;01mwith\u001b[39;00m config_context(\n\u001b[0;32m   1470\u001b[0m     skip_parameter_validation\u001b[38;5;241m=\u001b[39m(\n\u001b[0;32m   1471\u001b[0m         prefer_skip_nested_validation \u001b[38;5;129;01mor\u001b[39;00m global_skip_validation\n\u001b[0;32m   1472\u001b[0m     )\n\u001b[0;32m   1473\u001b[0m ):\n\u001b[1;32m-> 1474\u001b[0m     \u001b[38;5;28;01mreturn\u001b[39;00m fit_method(estimator, \u001b[38;5;241m*\u001b[39margs, \u001b[38;5;241m*\u001b[39m\u001b[38;5;241m*\u001b[39mkwargs)\n",
      "File \u001b[1;32m~\\anaconda3\\envs\\immec_env\\Lib\\site-packages\\sklearn\\pipeline.py:475\u001b[0m, in \u001b[0;36mPipeline.fit\u001b[1;34m(self, X, y, **params)\u001b[0m\n\u001b[0;32m    473\u001b[0m     \u001b[38;5;28;01mif\u001b[39;00m \u001b[38;5;28mself\u001b[39m\u001b[38;5;241m.\u001b[39m_final_estimator \u001b[38;5;241m!=\u001b[39m \u001b[38;5;124m\"\u001b[39m\u001b[38;5;124mpassthrough\u001b[39m\u001b[38;5;124m\"\u001b[39m:\n\u001b[0;32m    474\u001b[0m         last_step_params \u001b[38;5;241m=\u001b[39m routed_params[\u001b[38;5;28mself\u001b[39m\u001b[38;5;241m.\u001b[39msteps[\u001b[38;5;241m-\u001b[39m\u001b[38;5;241m1\u001b[39m][\u001b[38;5;241m0\u001b[39m]]\n\u001b[1;32m--> 475\u001b[0m         \u001b[38;5;28mself\u001b[39m\u001b[38;5;241m.\u001b[39m_final_estimator\u001b[38;5;241m.\u001b[39mfit(Xt, y, \u001b[38;5;241m*\u001b[39m\u001b[38;5;241m*\u001b[39mlast_step_params[\u001b[38;5;124m\"\u001b[39m\u001b[38;5;124mfit\u001b[39m\u001b[38;5;124m\"\u001b[39m])\n\u001b[0;32m    477\u001b[0m \u001b[38;5;28;01mreturn\u001b[39;00m \u001b[38;5;28mself\u001b[39m\n",
      "File \u001b[1;32m~\\anaconda3\\envs\\immec_env\\Lib\\site-packages\\pysindy\\optimizers\\base.py:185\u001b[0m, in \u001b[0;36mBaseOptimizer.fit\u001b[1;34m(self, x_, y, sample_weight, **reduce_kws)\u001b[0m\n\u001b[0;32m    182\u001b[0m     x_normed \u001b[38;5;241m=\u001b[39m x \u001b[38;5;241m*\u001b[39m reg\n\u001b[0;32m    184\u001b[0m \u001b[38;5;28;01mif\u001b[39;00m \u001b[38;5;28mself\u001b[39m\u001b[38;5;241m.\u001b[39minitial_guess \u001b[38;5;129;01mis\u001b[39;00m \u001b[38;5;28;01mNone\u001b[39;00m:\n\u001b[1;32m--> 185\u001b[0m     \u001b[38;5;28mself\u001b[39m\u001b[38;5;241m.\u001b[39mcoef_ \u001b[38;5;241m=\u001b[39m np\u001b[38;5;241m.\u001b[39mlinalg\u001b[38;5;241m.\u001b[39mlstsq(x_normed, y, rcond\u001b[38;5;241m=\u001b[39m\u001b[38;5;28;01mNone\u001b[39;00m)[\u001b[38;5;241m0\u001b[39m]\u001b[38;5;241m.\u001b[39mT\n\u001b[0;32m    186\u001b[0m \u001b[38;5;28;01melse\u001b[39;00m:\n\u001b[0;32m    187\u001b[0m     \u001b[38;5;28;01mif\u001b[39;00m \u001b[38;5;129;01mnot\u001b[39;00m \u001b[38;5;28mself\u001b[39m\u001b[38;5;241m.\u001b[39minitial_guess\u001b[38;5;241m.\u001b[39mshape \u001b[38;5;241m==\u001b[39m coef_shape:\n",
      "File \u001b[1;32m~\\anaconda3\\envs\\immec_env\\Lib\\site-packages\\numpy\\linalg\\linalg.py:2326\u001b[0m, in \u001b[0;36mlstsq\u001b[1;34m(a, b, rcond)\u001b[0m\n\u001b[0;32m   2323\u001b[0m \u001b[38;5;28;01mif\u001b[39;00m n_rhs \u001b[38;5;241m==\u001b[39m \u001b[38;5;241m0\u001b[39m:\n\u001b[0;32m   2324\u001b[0m     \u001b[38;5;66;03m# lapack can't handle n_rhs = 0 - so allocate the array one larger in that axis\u001b[39;00m\n\u001b[0;32m   2325\u001b[0m     b \u001b[38;5;241m=\u001b[39m zeros(b\u001b[38;5;241m.\u001b[39mshape[:\u001b[38;5;241m-\u001b[39m\u001b[38;5;241m2\u001b[39m] \u001b[38;5;241m+\u001b[39m (m, n_rhs \u001b[38;5;241m+\u001b[39m \u001b[38;5;241m1\u001b[39m), dtype\u001b[38;5;241m=\u001b[39mb\u001b[38;5;241m.\u001b[39mdtype)\n\u001b[1;32m-> 2326\u001b[0m x, resids, rank, s \u001b[38;5;241m=\u001b[39m gufunc(a, b, rcond, signature\u001b[38;5;241m=\u001b[39msignature, extobj\u001b[38;5;241m=\u001b[39mextobj)\n\u001b[0;32m   2327\u001b[0m \u001b[38;5;28;01mif\u001b[39;00m m \u001b[38;5;241m==\u001b[39m \u001b[38;5;241m0\u001b[39m:\n\u001b[0;32m   2328\u001b[0m     x[\u001b[38;5;241m.\u001b[39m\u001b[38;5;241m.\u001b[39m\u001b[38;5;241m.\u001b[39m] \u001b[38;5;241m=\u001b[39m \u001b[38;5;241m0\u001b[39m\n",
      "\u001b[1;31mMemoryError\u001b[0m: "
     ]
    }
   ],
   "source": [
    "########################################\n",
    "## 10 nonlinear model ump with 50 ecc ##\n",
    "########################################\n",
    "traindata = os.path.join(os.getcwd(), 'train-data', '07-31-nonlin50', 'IMMEC_nonlinear-50ecc_5.0sec.npz')\n",
    "plot_optuna_data('_w5//umpnonlinear_50ecc-optuna-study')\n",
    "\n",
    "model1 =  make_model(traindata, modeltype='ump', optimizer =\"STLSQ\",\n",
    "                    nmbr_of_train=-1, lib='poly_2nd_order', alpha = 5.076, threshold = 0.7317,\n",
    "                    modelname='ump_nonlinear_50ecc_100')\n",
    "model2 =  make_model(traindata, modeltype='ump', optimizer =\"STLSQ\",\n",
    "                    nmbr_of_train=-1, lib='poly_2nd_order', alpha = 2.6e-5, threshold = 0.00255,\n",
    "                    modelname='ump_nonlinear_50ecc_170')\n",
    "# OOM ERROR vvvvvvvv\n",
    "'''\n",
    "model3 =  make_model(traindata, modeltype='ump', optimizer =\"STLSQ\",\n",
    "                    nmbr_of_train=-1, lib='interaction_only', alpha = 91.5, threshold = 0.52,\n",
    "                    modelname='ump_nonlinear_50ecc_300')\n",
    "'''"
   ]
  },
  {
   "cell_type": "code",
   "execution_count": 19,
   "id": "234aeac4-6045-4440-9d14-b7833bd767e4",
   "metadata": {},
   "outputs": [
    {
     "name": "stderr",
     "output_type": "stream",
     "text": [
      "[I 2024-08-18 13:46:53,234] Study name was omitted but trying to load 'optuna_studies//currentslinear_dynamic_50ecc-optuna-study' because that was the only study found in the storage.\n"
     ]
    },
    {
     "name": "stdout",
     "output_type": "stream",
     "text": [
      "['optuna_studies//currentslinear_dynamic_50ecc-optuna-study']\n",
      "Trial count: 997\n",
      "ecc input: True\n",
      "Loading data\n",
      "Done loading data\n",
      "Calculating xdots\n",
      "Assume all t_vec are equal\n",
      "Done calculating xdots\n",
      "time trim:  0.5\n",
      "Non zero ecc, added to input data\n",
      "Fitting model\n",
      "(i_d)' = -208.2766367995 i_d + 125.6482218626 v_d + 62.8795268883 v_q + -1212.8597381497 I_d + 39.5935647901 I_q + 194.8660117733 V_d + -9.8929992322 V_q + 1.7805816162 V_0 + -0.2748095132 \\gamma i_d + 1.3275452182 \\gamma i_q + -15.1564671447 \\gamma I_d + 36.8497851495 \\gamma I_q + 0.7352324184 \\gamma V_d + -2.5278497151 \\gamma V_q + -0.3747560146 \\gamma V_0 + -1.0190068724 \\omega i_q + 5.3112616726 \\omega I_d + -107.2355027477 \\omega I_q + 0.3473404444 \\omega V_d + 16.7930575374 \\omega V_q + -0.2979785448 v_d I_d + -2.5958902243 v_d I_q + -98.8197242653 v_d V_d + 0.6175972572 v_d V_q + 2.2029848761 v_q I_d + -0.3451472519 v_q I_q + -0.6176947119 v_q V_d + -98.8164547501 v_q V_q + -3.1883929087 v_0 V_0\n",
      "(i_q)' = -46.2041352770 i_d + -159.2465830194 i_q + -7.2476252859 v_d + 7.6276779866 v_q + -479.6184474204 I_d + -921.7956630141 I_q + 73.2556005546 V_d + 156.1428001975 V_q + -1.0069578155 \\gamma i_q + 5.2587823484 \\gamma I_d + -19.8780477935 \\gamma I_q + 1.8868509448 \\gamma V_q + 2.3414803826 \\gamma V_0 + 1.0324963283 \\omega i_d + 78.4322157644 \\omega I_d + -8.2466125625 \\omega I_q + -14.3583133156 \\omega V_d + 4.2867120091 \\omega V_q + 0.0803851231 v_d I_d + 10.4501863958 v_d V_d + 0.1332823168 v_q I_q + 10.4503482190 v_q V_q + 1.0491069676 v_0 V_0\n",
      "(i_0)' = 0.0000000000\n",
      "Non-zero elements:  52\n",
      "MSE: 97.13203716381945\n",
      "Saving model\n",
      "No date added\n",
      "ecc input: True\n",
      "Loading data\n",
      "Done loading data\n",
      "Calculating xdots\n",
      "Assume all t_vec are equal\n",
      "Done calculating xdots\n",
      "time trim:  0.5\n",
      "Non zero ecc, added to input data\n",
      "Fitting model\n"
     ]
    },
    {
     "ename": "KeyboardInterrupt",
     "evalue": "",
     "output_type": "error",
     "traceback": [
      "\u001b[1;31m---------------------------------------------------------------------------\u001b[0m",
      "\u001b[1;31mKeyboardInterrupt\u001b[0m                         Traceback (most recent call last)",
      "Cell \u001b[1;32mIn[19], line 12\u001b[0m\n\u001b[0;32m      5\u001b[0m plot_optuna_data(\u001b[38;5;124m'\u001b[39m\u001b[38;5;124m_w5//currentslinear_dynamic_50ecc-optuna-study\u001b[39m\u001b[38;5;124m'\u001b[39m)\n\u001b[0;32m      8\u001b[0m model1 \u001b[38;5;241m=\u001b[39m  make_model(traindata, modeltype\u001b[38;5;241m=\u001b[39m\u001b[38;5;124m'\u001b[39m\u001b[38;5;124mcurrents\u001b[39m\u001b[38;5;124m'\u001b[39m, optimizer \u001b[38;5;241m=\u001b[39m\u001b[38;5;124m\"\u001b[39m\u001b[38;5;124mSTLSQ\u001b[39m\u001b[38;5;124m\"\u001b[39m,\n\u001b[0;32m      9\u001b[0m                     nmbr_of_train\u001b[38;5;241m=\u001b[39m\u001b[38;5;241m-\u001b[39m\u001b[38;5;241m1\u001b[39m, lib\u001b[38;5;241m=\u001b[39m\u001b[38;5;124m'\u001b[39m\u001b[38;5;124mlinear-specific\u001b[39m\u001b[38;5;124m'\u001b[39m, alpha \u001b[38;5;241m=\u001b[39m \u001b[38;5;241m16.112\u001b[39m, threshold \u001b[38;5;241m=\u001b[39m \u001b[38;5;241m0.5924\u001b[39m,\n\u001b[0;32m     10\u001b[0m                     modelname\u001b[38;5;241m=\u001b[39m\u001b[38;5;124m'\u001b[39m\u001b[38;5;124mcurrents_linear_dynamic_50ecc_40\u001b[39m\u001b[38;5;124m'\u001b[39m)\n\u001b[1;32m---> 12\u001b[0m model1 \u001b[38;5;241m=\u001b[39m  make_model(traindata, modeltype\u001b[38;5;241m=\u001b[39m\u001b[38;5;124m'\u001b[39m\u001b[38;5;124mcurrents\u001b[39m\u001b[38;5;124m'\u001b[39m, optimizer \u001b[38;5;241m=\u001b[39m\u001b[38;5;124m\"\u001b[39m\u001b[38;5;124mSTLSQ\u001b[39m\u001b[38;5;124m\"\u001b[39m,\n\u001b[0;32m     13\u001b[0m                     nmbr_of_train\u001b[38;5;241m=\u001b[39m\u001b[38;5;241m-\u001b[39m\u001b[38;5;241m1\u001b[39m, lib\u001b[38;5;241m=\u001b[39m\u001b[38;5;124m'\u001b[39m\u001b[38;5;124minteraction_only\u001b[39m\u001b[38;5;124m'\u001b[39m, alpha \u001b[38;5;241m=\u001b[39m \u001b[38;5;241m4.55\u001b[39m, threshold \u001b[38;5;241m=\u001b[39m \u001b[38;5;241m0.687\u001b[39m,\n\u001b[0;32m     14\u001b[0m                     modelname\u001b[38;5;241m=\u001b[39m\u001b[38;5;124m'\u001b[39m\u001b[38;5;124mcurrents_linear_dynamic_50ecc_300\u001b[39m\u001b[38;5;124m'\u001b[39m)\n",
      "File \u001b[1;32m~\\PycharmProjects\\SINDY_project\\train_model_source.py:87\u001b[0m, in \u001b[0;36mmake_model\u001b[1;34m(path_to_data_files, modeltype, optimizer, lib, nmbr_of_train, alpha, nu, lamb, modelname, threshold)\u001b[0m\n\u001b[0;32m     84\u001b[0m model \u001b[38;5;241m=\u001b[39m ps\u001b[38;5;241m.\u001b[39mSINDy(optimizer\u001b[38;5;241m=\u001b[39mopt, feature_library\u001b[38;5;241m=\u001b[39mlibrary, feature_names\u001b[38;5;241m=\u001b[39mDATA[\u001b[38;5;124m'\u001b[39m\u001b[38;5;124mfeature_names\u001b[39m\u001b[38;5;124m'\u001b[39m])\n\u001b[0;32m     86\u001b[0m \u001b[38;5;28mprint\u001b[39m(\u001b[38;5;124m\"\u001b[39m\u001b[38;5;124mFitting model\u001b[39m\u001b[38;5;124m\"\u001b[39m)\n\u001b[1;32m---> 87\u001b[0m model\u001b[38;5;241m.\u001b[39mfit(DATA[\u001b[38;5;124m'\u001b[39m\u001b[38;5;124mx_train\u001b[39m\u001b[38;5;124m'\u001b[39m], u\u001b[38;5;241m=\u001b[39mDATA[\u001b[38;5;124m'\u001b[39m\u001b[38;5;124mu_train\u001b[39m\u001b[38;5;124m'\u001b[39m], t\u001b[38;5;241m=\u001b[39m\u001b[38;5;28;01mNone\u001b[39;00m, x_dot\u001b[38;5;241m=\u001b[39mtrain)\n\u001b[0;32m     88\u001b[0m model\u001b[38;5;241m.\u001b[39mprint(precision\u001b[38;5;241m=\u001b[39m\u001b[38;5;241m10\u001b[39m)\n\u001b[0;32m     90\u001b[0m \u001b[38;5;28mprint\u001b[39m(\u001b[38;5;124m\"\u001b[39m\u001b[38;5;124mNon-zero elements: \u001b[39m\u001b[38;5;124m\"\u001b[39m, np\u001b[38;5;241m.\u001b[39mcount_nonzero(model\u001b[38;5;241m.\u001b[39mcoefficients()))\n",
      "File \u001b[1;32m~\\anaconda3\\envs\\immec_env\\Lib\\site-packages\\pysindy\\pysindy.py:259\u001b[0m, in \u001b[0;36mSINDy.fit\u001b[1;34m(self, x, t, x_dot, u)\u001b[0m\n\u001b[0;32m    257\u001b[0m x_dot \u001b[38;5;241m=\u001b[39m concat_sample_axis(x_dot)\n\u001b[0;32m    258\u001b[0m \u001b[38;5;28mself\u001b[39m\u001b[38;5;241m.\u001b[39mmodel \u001b[38;5;241m=\u001b[39m Pipeline(steps)\n\u001b[1;32m--> 259\u001b[0m \u001b[38;5;28mself\u001b[39m\u001b[38;5;241m.\u001b[39mmodel\u001b[38;5;241m.\u001b[39mfit(x, x_dot)\n\u001b[0;32m    261\u001b[0m \u001b[38;5;28mself\u001b[39m\u001b[38;5;241m.\u001b[39mn_features_in_ \u001b[38;5;241m=\u001b[39m \u001b[38;5;28mself\u001b[39m\u001b[38;5;241m.\u001b[39mfeature_library\u001b[38;5;241m.\u001b[39mn_features_in_\n\u001b[0;32m    262\u001b[0m \u001b[38;5;28mself\u001b[39m\u001b[38;5;241m.\u001b[39mn_output_features_ \u001b[38;5;241m=\u001b[39m \u001b[38;5;28mself\u001b[39m\u001b[38;5;241m.\u001b[39mfeature_library\u001b[38;5;241m.\u001b[39mn_output_features_\n",
      "File \u001b[1;32m~\\anaconda3\\envs\\immec_env\\Lib\\site-packages\\sklearn\\base.py:1474\u001b[0m, in \u001b[0;36m_fit_context.<locals>.decorator.<locals>.wrapper\u001b[1;34m(estimator, *args, **kwargs)\u001b[0m\n\u001b[0;32m   1467\u001b[0m     estimator\u001b[38;5;241m.\u001b[39m_validate_params()\n\u001b[0;32m   1469\u001b[0m \u001b[38;5;28;01mwith\u001b[39;00m config_context(\n\u001b[0;32m   1470\u001b[0m     skip_parameter_validation\u001b[38;5;241m=\u001b[39m(\n\u001b[0;32m   1471\u001b[0m         prefer_skip_nested_validation \u001b[38;5;129;01mor\u001b[39;00m global_skip_validation\n\u001b[0;32m   1472\u001b[0m     )\n\u001b[0;32m   1473\u001b[0m ):\n\u001b[1;32m-> 1474\u001b[0m     \u001b[38;5;28;01mreturn\u001b[39;00m fit_method(estimator, \u001b[38;5;241m*\u001b[39margs, \u001b[38;5;241m*\u001b[39m\u001b[38;5;241m*\u001b[39mkwargs)\n",
      "File \u001b[1;32m~\\anaconda3\\envs\\immec_env\\Lib\\site-packages\\sklearn\\pipeline.py:475\u001b[0m, in \u001b[0;36mPipeline.fit\u001b[1;34m(self, X, y, **params)\u001b[0m\n\u001b[0;32m    473\u001b[0m     \u001b[38;5;28;01mif\u001b[39;00m \u001b[38;5;28mself\u001b[39m\u001b[38;5;241m.\u001b[39m_final_estimator \u001b[38;5;241m!=\u001b[39m \u001b[38;5;124m\"\u001b[39m\u001b[38;5;124mpassthrough\u001b[39m\u001b[38;5;124m\"\u001b[39m:\n\u001b[0;32m    474\u001b[0m         last_step_params \u001b[38;5;241m=\u001b[39m routed_params[\u001b[38;5;28mself\u001b[39m\u001b[38;5;241m.\u001b[39msteps[\u001b[38;5;241m-\u001b[39m\u001b[38;5;241m1\u001b[39m][\u001b[38;5;241m0\u001b[39m]]\n\u001b[1;32m--> 475\u001b[0m         \u001b[38;5;28mself\u001b[39m\u001b[38;5;241m.\u001b[39m_final_estimator\u001b[38;5;241m.\u001b[39mfit(Xt, y, \u001b[38;5;241m*\u001b[39m\u001b[38;5;241m*\u001b[39mlast_step_params[\u001b[38;5;124m\"\u001b[39m\u001b[38;5;124mfit\u001b[39m\u001b[38;5;124m\"\u001b[39m])\n\u001b[0;32m    477\u001b[0m \u001b[38;5;28;01mreturn\u001b[39;00m \u001b[38;5;28mself\u001b[39m\n",
      "File \u001b[1;32m~\\anaconda3\\envs\\immec_env\\Lib\\site-packages\\pysindy\\optimizers\\base.py:185\u001b[0m, in \u001b[0;36mBaseOptimizer.fit\u001b[1;34m(self, x_, y, sample_weight, **reduce_kws)\u001b[0m\n\u001b[0;32m    182\u001b[0m     x_normed \u001b[38;5;241m=\u001b[39m x \u001b[38;5;241m*\u001b[39m reg\n\u001b[0;32m    184\u001b[0m \u001b[38;5;28;01mif\u001b[39;00m \u001b[38;5;28mself\u001b[39m\u001b[38;5;241m.\u001b[39minitial_guess \u001b[38;5;129;01mis\u001b[39;00m \u001b[38;5;28;01mNone\u001b[39;00m:\n\u001b[1;32m--> 185\u001b[0m     \u001b[38;5;28mself\u001b[39m\u001b[38;5;241m.\u001b[39mcoef_ \u001b[38;5;241m=\u001b[39m np\u001b[38;5;241m.\u001b[39mlinalg\u001b[38;5;241m.\u001b[39mlstsq(x_normed, y, rcond\u001b[38;5;241m=\u001b[39m\u001b[38;5;28;01mNone\u001b[39;00m)[\u001b[38;5;241m0\u001b[39m]\u001b[38;5;241m.\u001b[39mT\n\u001b[0;32m    186\u001b[0m \u001b[38;5;28;01melse\u001b[39;00m:\n\u001b[0;32m    187\u001b[0m     \u001b[38;5;28;01mif\u001b[39;00m \u001b[38;5;129;01mnot\u001b[39;00m \u001b[38;5;28mself\u001b[39m\u001b[38;5;241m.\u001b[39minitial_guess\u001b[38;5;241m.\u001b[39mshape \u001b[38;5;241m==\u001b[39m coef_shape:\n",
      "File \u001b[1;32m~\\anaconda3\\envs\\immec_env\\Lib\\site-packages\\numpy\\linalg\\linalg.py:2326\u001b[0m, in \u001b[0;36mlstsq\u001b[1;34m(a, b, rcond)\u001b[0m\n\u001b[0;32m   2323\u001b[0m \u001b[38;5;28;01mif\u001b[39;00m n_rhs \u001b[38;5;241m==\u001b[39m \u001b[38;5;241m0\u001b[39m:\n\u001b[0;32m   2324\u001b[0m     \u001b[38;5;66;03m# lapack can't handle n_rhs = 0 - so allocate the array one larger in that axis\u001b[39;00m\n\u001b[0;32m   2325\u001b[0m     b \u001b[38;5;241m=\u001b[39m zeros(b\u001b[38;5;241m.\u001b[39mshape[:\u001b[38;5;241m-\u001b[39m\u001b[38;5;241m2\u001b[39m] \u001b[38;5;241m+\u001b[39m (m, n_rhs \u001b[38;5;241m+\u001b[39m \u001b[38;5;241m1\u001b[39m), dtype\u001b[38;5;241m=\u001b[39mb\u001b[38;5;241m.\u001b[39mdtype)\n\u001b[1;32m-> 2326\u001b[0m x, resids, rank, s \u001b[38;5;241m=\u001b[39m gufunc(a, b, rcond, signature\u001b[38;5;241m=\u001b[39msignature, extobj\u001b[38;5;241m=\u001b[39mextobj)\n\u001b[0;32m   2327\u001b[0m \u001b[38;5;28;01mif\u001b[39;00m m \u001b[38;5;241m==\u001b[39m \u001b[38;5;241m0\u001b[39m:\n\u001b[0;32m   2328\u001b[0m     x[\u001b[38;5;241m.\u001b[39m\u001b[38;5;241m.\u001b[39m\u001b[38;5;241m.\u001b[39m] \u001b[38;5;241m=\u001b[39m \u001b[38;5;241m0\u001b[39m\n",
      "\u001b[1;31mKeyboardInterrupt\u001b[0m: "
     ]
    }
   ],
   "source": [
    "#########################################\n",
    "## 11 linear dynamical 50 ecc currents ##\n",
    "#########################################\n",
    "traindata = os.path.join(os.getcwd(), 'train-data', '08-09','IMMEC_dynamic_50ecc_5.0sec.npz')\n",
    "plot_optuna_data('_w5//currentslinear_dynamic_50ecc-optuna-study')\n",
    "\n",
    "\n",
    "model1 =  make_model(traindata, modeltype='currents', optimizer =\"STLSQ\",\n",
    "                    nmbr_of_train=-1, lib='linear-specific', alpha = 16.112, threshold = 0.5924,\n",
    "                    modelname='currents_linear_dynamic_50ecc_40')\n",
    "\n",
    "# OOM ERROR vvvvv\n",
    "'''\n",
    "model2 =  make_model(traindata, modeltype='currents', optimizer =\"STLSQ\",\n",
    "                    nmbr_of_train=-1, lib='interaction_only', alpha = 4.55, threshold = 0.687,\n",
    "                    modelname='currents_linear_dynamic_50ecc_300')\n",
    "'''"
   ]
  },
  {
   "cell_type": "code",
   "execution_count": 20,
   "id": "e32a005c-a035-4938-8699-08dfeb569f4d",
   "metadata": {},
   "outputs": [
    {
     "name": "stderr",
     "output_type": "stream",
     "text": [
      "[I 2024-08-18 13:58:20,374] Study name was omitted but trying to load 'optuna_studies//torquelinear_dynamic_50ecc-optuna-study' because that was the only study found in the storage.\n"
     ]
    },
    {
     "name": "stdout",
     "output_type": "stream",
     "text": [
      "['optuna_studies//torquelinear_dynamic_50ecc-optuna-study']\n",
      "Trial count: 1000\n",
      "ecc input: True\n",
      "Loading data\n",
      "Done loading data\n",
      "Calculating xdots\n",
      "Assume all t_vec are equal\n",
      "Done calculating xdots\n",
      "time trim:  0.5\n",
      "Non zero ecc, added to input data\n",
      "Fitting model\n"
     ]
    },
    {
     "name": "stderr",
     "output_type": "stream",
     "text": [
      "C:\\Users\\emmav\\anaconda3\\envs\\immec_env\\Lib\\site-packages\\pysindy\\utils\\axes.py:126: AxesWarning:\n",
      "\n",
      "2 axes labeled for array with 1 axes\n",
      "\n"
     ]
    },
    {
     "name": "stdout",
     "output_type": "stream",
     "text": [
      "(i_d)' = 22.8432026820 V_d + 13.1851179787 V_q + 26.8335402667 r_x + 6.2717941469 i_d I_q + -1.0167086635 i_d V_q + 3.6961214657 i_d r_x + -7.1675012620 i_d r_y + -6.3209404818 i_q I_d + 1.0171320504 i_q V_d + -0.0311784242 i_q r_x + 3.4999396091 i_q r_y + 0.4972186055 I_d I_q + -136.6264274880 I_d r_x + -10.3542119450 V_d^2 + -6.3548204365 V_d r_x + 5.0491586455 V_d r_y + -10.3533557750 V_q^2 + 10.5021445574 V_q r_x + -8.2325789845 V_q r_y + -12.2196393979 V_0^2\n",
      "Non-zero elements:  20\n"
     ]
    },
    {
     "name": "stderr",
     "output_type": "stream",
     "text": [
      "C:\\Users\\emmav\\anaconda3\\envs\\immec_env\\Lib\\site-packages\\pysindy\\utils\\axes.py:126: AxesWarning:\n",
      "\n",
      "2 axes labeled for array with 1 axes\n",
      "\n"
     ]
    },
    {
     "name": "stdout",
     "output_type": "stream",
     "text": [
      "MSE: 0.0012217971306375686\n",
      "Saving model\n",
      "No date added\n",
      "ecc input: True\n",
      "Loading data\n",
      "Done loading data\n",
      "Calculating xdots\n",
      "Assume all t_vec are equal\n",
      "Done calculating xdots\n",
      "time trim:  0.5\n",
      "Non zero ecc, added to input data\n",
      "Fitting model\n"
     ]
    },
    {
     "name": "stderr",
     "output_type": "stream",
     "text": [
      "C:\\Users\\emmav\\anaconda3\\envs\\immec_env\\Lib\\site-packages\\pysindy\\utils\\axes.py:126: AxesWarning:\n",
      "\n",
      "2 axes labeled for array with 1 axes\n",
      "\n"
     ]
    },
    {
     "name": "stdout",
     "output_type": "stream",
     "text": [
      "(i_d)' = 1.5073530694 i_d + -2.6467846130 i_q + 1.2629556333 v_d + 0.9684106849 v_q + 16.5276242292 I_d + -25.6081488350 I_q + 10.1124679425 V_d + 11.0196611334 V_q + 0.4545001329 V_0 + 0.1230472015 \\omega + 35.2847405178 r_x + 15.2467636602 r_y + 0.0266018735 i_d i_q + -0.0930233700 i_d I_d + -1.4822580182 i_d I_q + -2.0688391642 i_d V_q + 6.1575873730 i_d r_x + -19.0989082462 i_d r_y + -0.0335533833 i_q^2 + 0.5926378216 i_q I_d + 1.4314933530 i_q I_q + 2.0679897009 i_q V_d + 0.1768271437 i_q V_q + -0.3285129774 i_q V_0 + -3.2711509098 i_q r_x + -4.2968958532 i_q r_y + 0.1322280405 v_d I_d + 0.5045036254 v_d I_q + -1.2579730610 v_d V_d + 0.0767672087 v_d V_q + -0.0243971027 v_d r_y + -0.5289879731 v_q I_d + 0.1094218143 v_q I_q + -0.0768422908 v_q V_d + -1.2578934993 v_q V_q + 0.0742602604 v_q r_y + 0.0384151528 v_0 V_0 + -0.0578171318 v_0 r_y + -5.3519602765 I_d^2 + -14.6339749245 I_d I_q + -1.6083690855 I_d V_d + -18.0664458095 I_d V_q + -1.8906087243 I_d V_0 + -157.9195974823 I_d r_x + -28.6099725154 I_d r_y + 33.2557082384 I_q^2 + 21.8397706698 I_q V_d + -4.9824669870 I_q V_q + -5.5256239645 I_q V_0 + 0.0165336480 I_q \\omega + -11.6906633187 I_q r_x + -273.7354288009 I_q r_y + -5.4605382212 V_d^2 + -0.0760241147 V_d V_q + -9.6696220722 V_d r_x + 17.8729849623 V_d r_y + -5.6530897639 V_q^2 + 0.6992326792 V_q V_0 + 10.8549934774 V_q r_x + 1.0603163657 V_q r_y + -21.1977247888 V_0^2 + 11.5616335586 V_0 r_x + -2.7137777696 V_0 r_y + -0.0751270361 f r_x + -0.0182614936 f r_y + -16341.7548027035 r_x r_y + 6313.4233999356 r_y^2\n",
      "Non-zero elements:  67\n"
     ]
    },
    {
     "name": "stderr",
     "output_type": "stream",
     "text": [
      "C:\\Users\\emmav\\anaconda3\\envs\\immec_env\\Lib\\site-packages\\pysindy\\utils\\axes.py:126: AxesWarning:\n",
      "\n",
      "2 axes labeled for array with 1 axes\n",
      "\n"
     ]
    },
    {
     "name": "stdout",
     "output_type": "stream",
     "text": [
      "MSE: 0.0004302657462369181\n",
      "Saving model\n",
      "No date added\n",
      "ecc input: True\n",
      "Loading data\n",
      "Done loading data\n",
      "Calculating xdots\n",
      "Assume all t_vec are equal\n",
      "Done calculating xdots\n",
      "time trim:  0.5\n",
      "Non zero ecc, added to input data\n",
      "SR3_L1 optimisation\n",
      "Fitting model\n"
     ]
    },
    {
     "name": "stderr",
     "output_type": "stream",
     "text": [
      "C:\\Users\\emmav\\anaconda3\\envs\\immec_env\\Lib\\site-packages\\pysindy\\utils\\axes.py:126: AxesWarning:\n",
      "\n",
      "2 axes labeled for array with 1 axes\n",
      "\n"
     ]
    },
    {
     "name": "stdout",
     "output_type": "stream",
     "text": [
      "(i_d)' = -0.0041948335 1 + 1.7752082111 i_d + -2.2461151868 i_q + 0.0000000105 i_0 + 1.3031171189 v_d + 0.9819453610 v_q + 0.0025514105 v_0 + 22.1944796578 I_d + -18.5870822345 I_q + -0.0000000269 I_0 + -2.3251258297 V_d + 3.3120077481 V_q + 0.8205070566 V_0 + 0.1077380158 \\omega + 0.0012697917 f + 17.0843962412 r_x + 3.8570658824 r_y + -0.0393970348 i_d^2 + 0.0323479438 i_d i_q + 0.0010708974 i_d v_d + -0.0001289904 i_d v_q + -0.0003764001 i_d v_0 + -3.7085847757 i_d I_d + -0.7622627597 i_d I_q + 0.1927346047 i_d V_d + -1.9105045946 i_d V_q + -0.1105224266 i_d V_0 + -0.0000924588 i_d \\omega + 0.0006418482 i_d f + 8.9725993147 i_d r_x + -7.7532795649 i_d r_y + -0.0311299043 i_q^2 + -0.0000426012 i_q v_d + 0.0007393403 i_q v_q + 0.0001977121 i_q v_0 + 0.7349238514 i_q I_d + -0.8783628629 i_q I_q + 1.9044142520 i_q V_d + 0.1638731457 i_q V_q + -0.3023240532 i_q V_0 + 0.0001673701 i_q \\omega + -0.0006755823 i_q f + -5.7422136696 i_q r_x + 1.0854439649 i_q r_y + -0.0000318498 v_d^2 + 0.0000004972 v_d v_q + 0.0000007525 v_d v_0 + 0.1477454765 v_d I_d + 0.5230537661 v_d I_q + -1.2953613082 v_d V_d + 0.0685066089 v_d V_q + 0.0004871478 v_d V_0 + 0.0000003390 v_d \\omega + -0.0000033789 v_d f + -0.0239169675 v_d r_x + -0.0214172359 v_d r_y + -0.0000310870 v_q^2 + 0.0000008590 v_q v_0 + -0.5454576313 v_q I_d + 0.1247043805 v_q I_q + -0.0685401915 v_q V_d + -1.2945095407 v_q V_q + 0.0003981426 v_q V_0 + -0.0000006121 v_q \\omega + 0.0000041255 v_q f + 0.0064134310 v_q r_x + 0.0517677752 v_q r_y + -0.0000041375 v_0^2 + -0.0126980458 v_0 I_d + -0.0059754655 v_0 I_q + 0.0004130825 v_0 V_d + -0.0001378197 v_0 V_q + 0.0375203515 v_0 V_0 + -0.0000002743 v_0 \\omega + 0.0000004418 v_0 f + -0.0062028808 v_0 r_x + -0.0940958214 v_0 r_y + -56.8349087338 I_d^2 + -9.2689036743 I_d I_q + 8.1357696467 I_d V_d + -16.0241322729 I_d V_q + -3.5117363649 I_d V_0 + -0.0005576874 I_d \\omega + 0.0094187522 I_d f + -2.0076659237 I_d r_x + 1.3373810247 I_d r_y + -10.4363370087 I_q^2 + 18.8334984653 I_q V_d + 2.2831966693 I_q V_q + -7.7901650240 I_q V_0 + 0.0267466656 I_q \\omega + -0.0158213540 I_q f + 0.5994276724 I_q r_x + -0.4801760227 I_q r_y + -0.4589977329 V_d^2 + -0.0951311889 V_d V_q + 0.0981592288 V_d V_0 + 0.0021389670 V_d \\omega + -0.0015155312 V_d f + -16.8343568725 V_d r_x + 4.1975912320 V_d r_y + -0.4509640611 V_q^2 + 0.7149850147 V_q V_0 + -0.0020215642 V_q \\omega + 0.0011032238 V_q f + 9.5922973734 V_q r_x + -7.3317328382 V_q r_y + -18.3944170364 V_0^2 + 0.0001488082 V_0 \\omega + 0.0003350367 V_0 f + -0.0002979658 V_0 r_x + 0.0105609331 V_0 r_y + 0.0000499826 \\omega^2 + 0.0000086872 \\omega f + -0.0155884878 \\omega r_x + 0.0133388919 \\omega r_y + -0.0000242090 f^2 + -0.0098712773 f r_x + -0.1721664344 f r_y + 0.0005026619 r_x^2 + 0.0035535261 r_x r_y + -0.0005026621 r_y^2 + 0.0005751043 sin(1 \\gamma) + -0.0011555065 cos(1 \\gamma)\n",
      "Non-zero elements:  124\n"
     ]
    },
    {
     "name": "stderr",
     "output_type": "stream",
     "text": [
      "C:\\Users\\emmav\\anaconda3\\envs\\immec_env\\Lib\\site-packages\\pysindy\\utils\\axes.py:126: AxesWarning:\n",
      "\n",
      "2 axes labeled for array with 1 axes\n",
      "\n"
     ]
    },
    {
     "name": "stdout",
     "output_type": "stream",
     "text": [
      "MSE: 0.0003847298957219569\n",
      "Saving model\n",
      "No date added\n"
     ]
    }
   ],
   "source": [
    "#######################################\n",
    "## 12 linear dynamical 50 ecc torque ##\n",
    "#######################################\n",
    "traindata = os.path.join(os.getcwd(), 'train-data', '08-09','IMMEC_dynamic_50ecc_5.0sec.npz')\n",
    "plot_optuna_data('_w5//torquelinear_dynamic_50ecc-optuna-study')\n",
    "\n",
    "\n",
    "model1 =  make_model(traindata, modeltype='torque', optimizer =\"STLSQ\",\n",
    "                    nmbr_of_train=-1, lib='poly_2nd_order', alpha = .00119, threshold = 0.289,\n",
    "                    modelname='torque_linear_dynamic_50ecc_15')\n",
    "\n",
    "model2 =  make_model(traindata, modeltype='torque', optimizer =\"STLSQ\",\n",
    "                    nmbr_of_train=-1, lib='poly_2nd_order', alpha = 1.5e-5, threshold = 0.015,\n",
    "                    modelname='torque_linear_dynamic_50ecc_40')\n",
    "\n",
    "model3 =  make_model(traindata, modeltype='torque', optimizer =\"sr3\",\n",
    "                    nmbr_of_train=-1, lib='poly_2nd_order', nu = 8e-5, lamb = 4e-10,\n",
    "                    modelname='torque_linear_dynamic_50ecc_110')"
   ]
  },
  {
   "cell_type": "code",
   "execution_count": 31,
   "id": "5418ec76-36ed-4bff-af5e-6eeb179e6f4d",
   "metadata": {
    "scrolled": true
   },
   "outputs": [
    {
     "name": "stderr",
     "output_type": "stream",
     "text": [
      "[I 2024-08-18 17:50:13,140] Study name was omitted but trying to load 'optuna_studies//umplinear_dynamic_50ecc-optuna-study' because that was the only study found in the storage.\n"
     ]
    },
    {
     "name": "stdout",
     "output_type": "stream",
     "text": [
      "['optuna_studies//umplinear_dynamic_50ecc-optuna-study']\n",
      "Trial count: 1006\n",
      "ecc input: True\n",
      "Loading data\n",
      "Done loading data\n",
      "Calculating xdots\n",
      "Assume all t_vec are equal\n",
      "Done calculating xdots\n",
      "time trim:  0.5\n",
      "Non zero ecc, added to input data\n",
      "Fitting model\n",
      "(i_d)' = -3027.0012311724 1 + 247.7381629464 i_d + -885.8917555038 i_q + 67.8100424284 v_d + 2.5134583356 v_q + -2.4923190561 v_0 + 22356.7204326327 I_d + -2941.5409594003 I_q + 3097220.6605351362 V_d + 1790111.0677021523 V_q + 4327.7833886517 V_0 + -43.6734019421 \\omega + -32.7697148502 f + 326605.1648217060 r_x + -342972.9059868846 r_y + -24.2805000494 i_d^2 + -24.4585377025 i_d i_q + 0.9403091133 i_d v_q + 345.1180419813 i_d I_d + -11825.1681230580 i_d I_q + 648.4233606365 i_d V_d + 143.2420568395 i_d V_q + 414.7284778761 i_d V_0 + 3.7000211274 i_d f + 71477.5478365481 i_d r_x + -68436.3784757233 i_d r_y + 1.1640289387 i_q^2 + 3248.4247511510 i_q I_d + -1119.8000751688 i_q I_q + -52.9999211897 i_q V_d + 906.7972333154 i_q V_q + 1277.7212082107 i_q V_0 + 7248.8174203805 i_q r_x + -17613.9012647526 i_q r_y + 45.4202728446 v_d I_d + -67.9918666214 v_d I_q + -48.6290036042 v_d V_d + -1.8753326066 v_d V_q + -1.2911978943 v_d V_0 + -233.2840951942 v_d r_x + -283.5014168773 v_d r_y + 76.5949472558 v_q I_d + -28.1200934976 v_q I_q + -48.4717678971 v_q V_q + 2.2062271478 v_q V_0 + 33.1305999577 v_q r_x + -587.1593745243 v_q r_y + -5.0999013175 v_0 I_d + 33.5492251862 v_0 I_q + -2.3405908551 v_0 V_0 + -851.7997929656 v_0 r_x + 236.3951323310 v_0 r_y + 1390.8955705710 I_d^2 + -99815.0330080388 I_d I_q + -8237.3897049292 I_d V_d + -5532.4453223459 I_d V_q + -14391.3356476517 I_d V_0 + -26.2131111005 I_d \\omega + 293.4548968183 I_d f + 2544557.7576506226 I_d r_x + -487000.3750522600 I_d r_y + -13136.9127086446 I_q^2 + 23286.8200778676 I_q V_d + -2532.3908486031 I_q V_q + -3991.5375391792 I_q V_0 + 131.5297180493 I_q \\omega + 16.3458637301 I_q f + 1494772.5433773689 I_q r_x + 2937102.5244749188 I_q r_y + -1404642.2824785344 V_d^2 + -121.8515433060 V_d V_q + -1465.9348908491 V_d V_0 + 18.5798506573 V_d \\omega + -12.1547114690 V_d f + -129816.1248716592 V_d r_x + 300863.5428060050 V_d r_y + -1405119.2658135388 V_q^2 + -2578.3578215109 V_q V_0 + 14.8991485047 V_q \\omega + -1.9690128312 V_q f + -75469.4168244163 V_q r_x + -31242.6133796211 V_q r_y + 14775.9866813746 V_0^2 + 5.7061801226 V_0 \\omega + 30.8210591917 V_0 f + -318382.4282512566 V_0 r_x + -545364.1379275715 V_0 r_y + 2043.9386838497 \\omega r_x + -1367.0357542996 \\omega r_y + -11911.3965089604 f r_x + 9879.0367435527 f r_y + 28790847522.0036430359 r_x^2 + 54179957.6134224683 r_x r_y + 28755139985.5696525574 r_y^2 + 306.9703549087 sin(1 \\gamma) + -2419.5976384462 cos(1 \\gamma) + 1260.3267602536 1 sin(1 \\gamma) + 3823.8079270180 1 cos(1 \\gamma) + -1968.8479104535 i_d sin(1 \\gamma) + 424.4451913991 i_d cos(1 \\gamma) + -3159.1635886300 i_q sin(1 \\gamma) + 446.3640810983 i_q cos(1 \\gamma) + 570.0846412833 v_d sin(1 \\gamma) + 189.0244563334 v_d cos(1 \\gamma) + 447.8411272640 v_q sin(1 \\gamma) + 174.2460073619 v_q cos(1 \\gamma) + 24.8809459380 v_0 sin(1 \\gamma) + -1.9905178733 v_0 cos(1 \\gamma) + -8453.4654390333 I_d sin(1 \\gamma) + -12831.4330182123 I_d cos(1 \\gamma) + -38818.8507486803 I_q sin(1 \\gamma) + 2560.5965055831 I_q cos(1 \\gamma) + 7991482.6353211012 V_d sin(1 \\gamma) + 2631218.0010479037 V_d cos(1 \\gamma) + 4618600.6190212136 V_q sin(1 \\gamma) + 1518506.6585307049 V_q cos(1 \\gamma) + -28148.9948068857 V_0 sin(1 \\gamma) + -6961.4086255330 V_0 cos(1 \\gamma) + 67.0497722235 \\omega sin(1 \\gamma) + 28.2402439239 \\omega cos(1 \\gamma) + 61.3736667860 f sin(1 \\gamma) + 31.0924314161 f cos(1 \\gamma) + 782688.9776113046 r_x sin(1 \\gamma) + -19543.5656853179 r_x cos(1 \\gamma) + 25463.2288156317 r_y sin(1 \\gamma) + 237488.7782911349 r_y cos(1 \\gamma) + -111.5377182276 i_d^2 sin(1 \\gamma) + 86.9272116081 i_d^2 cos(1 \\gamma) + 45.5168968561 i_d i_q sin(1 \\gamma) + 155.9153927482 i_d i_q cos(1 \\gamma) + 3.7085166154 i_d v_q sin(1 \\gamma) + -1.4757031010 i_d v_q cos(1 \\gamma) + -2.9940334267 i_d v_0 sin(1 \\gamma) + 1.8897332969 i_d v_0 cos(1 \\gamma) + 5751.3927305747 i_d I_d sin(1 \\gamma) + -14894.9555821469 i_d I_d cos(1 \\gamma) + -3692.9631830639 i_d I_q sin(1 \\gamma) + 10769.8838257156 i_d I_q cos(1 \\gamma) + 1825.4038596181 i_d V_d sin(1 \\gamma) + 1136.3787498540 i_d V_d cos(1 \\gamma) + -966.7419277036 i_d V_q sin(1 \\gamma) + -502.7413509686 i_d V_q cos(1 \\gamma) + 4221.8405264315 i_d V_0 sin(1 \\gamma) + 5920.1906147103 i_d V_0 cos(1 \\gamma) + -1.1132532788 i_d \\omega cos(1 \\gamma) + 9.1017594578 i_d f cos(1 \\gamma) + -127642.5899593557 i_d r_x sin(1 \\gamma) + 359329.2544196980 i_d r_x cos(1 \\gamma) + 466177.3807734274 i_d r_y sin(1 \\gamma) + -337166.0725165318 i_d r_y cos(1 \\gamma) + -30.0980184354 i_q^2 sin(1 \\gamma) + 11.7570028315 i_q^2 cos(1 \\gamma) + -3.8420690362 i_q v_d sin(1 \\gamma) + -2.3465981207 i_q v_0 sin(1 \\gamma) + -2.9950551488 i_q v_0 cos(1 \\gamma) + 4580.1255150862 i_q I_d sin(1 \\gamma) + 232.4151298369 i_q I_d cos(1 \\gamma) + 6540.6553009068 i_q I_q sin(1 \\gamma) + -12088.9378898861 i_q I_q cos(1 \\gamma) + 552.9096290863 i_q V_d sin(1 \\gamma) + -129.3248553206 i_q V_d cos(1 \\gamma) + 1394.3918528332 i_q V_q sin(1 \\gamma) + 1289.4854724126 i_q V_q cos(1 \\gamma) + -3538.7329767173 i_q V_0 sin(1 \\gamma) + 3054.9095204644 i_q V_0 cos(1 \\gamma) + 2.3066542639 i_q f sin(1 \\gamma) + 192950.0563261347 i_q r_x sin(1 \\gamma) + 68599.1522304442 i_q r_x cos(1 \\gamma) + -425304.9172322986 i_q r_y sin(1 \\gamma) + -315191.6888353376 i_q r_y cos(1 \\gamma) + -99.5251389177 v_d I_d sin(1 \\gamma) + 359.4386153142 v_d I_d cos(1 \\gamma) + 238.2239401125 v_d I_q sin(1 \\gamma) + 192.3333122549 v_d I_q cos(1 \\gamma) + -563.5495039180 v_d V_d sin(1 \\gamma) + -258.0481786023 v_d V_d cos(1 \\gamma) + 57.9449931863 v_d V_q sin(1 \\gamma) + 24.5360931703 v_d V_q cos(1 \\gamma) + -14.6557275583 v_d V_0 sin(1 \\gamma) + 1.9882470933 v_d V_0 cos(1 \\gamma) + 2355.0582277506 v_d r_x sin(1 \\gamma) + -923.2960819882 v_d r_x cos(1 \\gamma) + -137.4606151910 v_d r_y sin(1 \\gamma) + -218.0933475634 v_d r_y cos(1 \\gamma) + -151.5851694776 v_q I_d sin(1 \\gamma) + -71.6841932498 v_q I_d cos(1 \\gamma) + 42.6606808096 v_q I_q sin(1 \\gamma) + 279.6265925294 v_q I_q cos(1 \\gamma) + -57.5249987105 v_q V_d sin(1 \\gamma) + -21.9074607344 v_q V_d cos(1 \\gamma) + -563.5266299346 v_q V_q sin(1 \\gamma) + -258.3440742673 v_q V_q cos(1 \\gamma) + -4.1467298806 v_q V_0 sin(1 \\gamma) + 6.2595047795 v_q V_0 cos(1 \\gamma) + -388.8918810152 v_q r_x sin(1 \\gamma) + -2526.9771357029 v_q r_x cos(1 \\gamma) + 73.8383477059 v_q r_y sin(1 \\gamma) + -277.0790196228 v_q r_y cos(1 \\gamma) + -108.2119716748 v_0 I_d sin(1 \\gamma) + 92.6673563889 v_0 I_d cos(1 \\gamma) + -145.6988259154 v_0 I_q sin(1 \\gamma) + -154.6764937319 v_0 I_q cos(1 \\gamma) + 6.6427501593 v_0 V_d sin(1 \\gamma) + -2.4407630348 v_0 V_d cos(1 \\gamma) + 3.3471311759 v_0 V_q sin(1 \\gamma) + 6.3287859468 v_0 V_q cos(1 \\gamma) + -34.4674564363 v_0 V_0 sin(1 \\gamma) + 55.4589835014 v_0 V_0 cos(1 \\gamma) + -63610.0282205619 v_0 r_x sin(1 \\gamma) + 7384.3886317321 v_0 r_x cos(1 \\gamma) + -7559.0965300215 v_0 r_y sin(1 \\gamma) + -64080.1623853966 v_0 r_y cos(1 \\gamma) + 121354.3600317586 I_d^2 sin(1 \\gamma) + -41669.2357024142 I_d^2 cos(1 \\gamma) + 78007.8655019669 I_d I_q sin(1 \\gamma) + 102734.2930017036 I_d I_q cos(1 \\gamma) + -24169.0158336859 I_d V_d sin(1 \\gamma) + 16313.9666476485 I_d V_d cos(1 \\gamma) + -20782.2770657936 I_d V_q sin(1 \\gamma) + -3926.1515390751 I_d V_q cos(1 \\gamma) + 117640.1333702521 I_d V_0 sin(1 \\gamma) + 121452.7629967378 I_d V_0 cos(1 \\gamma) + 82.8378406536 I_d \\omega sin(1 \\gamma) + 97.2143940144 I_d \\omega cos(1 \\gamma) + -213.0259843381 I_d f sin(1 \\gamma) + -228.5407693574 I_d f cos(1 \\gamma) + -5215093.7388919350 I_d r_x sin(1 \\gamma) + -1258316.0412478657 I_d r_x cos(1 \\gamma) + 5961676.5112409238 I_d r_y sin(1 \\gamma) + -5407528.4538657507 I_d r_y cos(1 \\gamma) + 131182.5107099065 I_q^2 sin(1 \\gamma) + -56024.2808675931 I_q^2 cos(1 \\gamma) + 14602.7312978546 I_q V_d sin(1 \\gamma) + -18455.1058453245 I_q V_d cos(1 \\gamma) + -30497.7180127821 I_q V_q sin(1 \\gamma) + 12758.3629741498 I_q V_q cos(1 \\gamma) + 82983.0975974142 I_q V_0 sin(1 \\gamma) + 24576.1657877722 I_q V_0 cos(1 \\gamma) + 76.5328285949 I_q \\omega sin(1 \\gamma) + -85.5581905212 I_q \\omega cos(1 \\gamma) + -304.1793010629 I_q f sin(1 \\gamma) + 249.3553793220 I_q f cos(1 \\gamma) + -3165315.8110900214 I_q r_x sin(1 \\gamma) + 4779608.4230377041 I_q r_x cos(1 \\gamma) + -8287715.6896889647 I_q r_y sin(1 \\gamma) + -3425123.7855269760 I_q r_y cos(1 \\gamma) + -3622622.9959910014 V_d^2 sin(1 \\gamma) + -1193625.7826873981 V_d^2 cos(1 \\gamma) + 402.2274618626 V_d V_q sin(1 \\gamma) + 486.9148487031 V_d V_q cos(1 \\gamma) + -4343.2827357759 V_d V_0 sin(1 \\gamma) + -13336.0315429814 V_d V_0 cos(1 \\gamma) + -3.2978751650 V_d \\omega sin(1 \\gamma) + 1.1896932643 V_d f sin(1 \\gamma) + -13.1830254367 V_d f cos(1 \\gamma) + 272072.1356310466 V_d r_x sin(1 \\gamma) + -82652.9944412743 V_d r_x cos(1 \\gamma) + -697934.7280841137 V_d r_y sin(1 \\gamma) + 807204.4685483285 V_d r_y cos(1 \\gamma) + -3622291.7063014898 V_q^2 sin(1 \\gamma) + -1193507.5489104667 V_q^2 cos(1 \\gamma) + 4982.3246969523 V_q V_0 sin(1 \\gamma) + -3141.5914166975 V_q V_0 cos(1 \\gamma) + -8.2593728442 V_q \\omega sin(1 \\gamma) + 3.5863419235 V_q \\omega cos(1 \\gamma) + 0.5342078807 V_q f sin(1 \\gamma) + 1.2870334848 V_q f cos(1 \\gamma) + 205093.0316484960 V_q r_x sin(1 \\gamma) + -220098.3966272692 V_q r_x cos(1 \\gamma) + 929086.1225979967 V_q r_y sin(1 \\gamma) + 319700.2750410229 V_q r_y cos(1 \\gamma) + -22250.5840241703 V_0^2 sin(1 \\gamma) + 22898.5744600951 V_0^2 cos(1 \\gamma) + -2.9421083061 V_0 \\omega sin(1 \\gamma) + 2.9911308448 V_0 \\omega cos(1 \\gamma) + 32.7092514930 V_0 f sin(1 \\gamma) + -26.6418786215 V_0 f cos(1 \\gamma) + 11268124.1608395390 V_0 r_x sin(1 \\gamma) + 32866617.8245536909 V_0 r_x cos(1 \\gamma) + -33363059.1845480464 V_0 r_y sin(1 \\gamma) + 10827169.4269837290 V_0 r_y cos(1 \\gamma) + -252.9383240045 \\omega r_x sin(1 \\gamma) + -529.5354099240 \\omega r_x cos(1 \\gamma) + -1.3565193978 \\omega r_y sin(1 \\gamma) + 558.8165690666 \\omega r_y cos(1 \\gamma) + 2371.5857864505 f r_x sin(1 \\gamma) + 3277.7710786184 f r_x cos(1 \\gamma) + -595.6663808071 f r_y sin(1 \\gamma) + -3666.9702403466 f r_y cos(1 \\gamma) + 203530349.5523181558 r_x^2 sin(1 \\gamma) + -133172932.9184065163 r_x^2 cos(1 \\gamma) + -484600295.5426391363 r_x r_y sin(1 \\gamma) + -521319516.7013995647 r_x r_y cos(1 \\gamma) + -203530349.5518940687 r_y^2 sin(1 \\gamma) + 133172932.9190364331 r_y^2 cos(1 \\gamma)\n",
      "(i_q)' = 815.4354662518 1 + 372.7437440970 i_d + 1919.2908852933 i_q + -4.5639775760 v_0 + -9312.9120320002 I_d + 12256.1328280931 I_q + -1289400.7430752758 V_d + -747261.8846995212 V_q + 3660.9644676264 V_0 + 40.5119957997 \\omega + 12.1748927512 f + 376056.2557950444 r_x + 292844.4021140980 r_y + 22.0407076701 i_d^2 + 3.3618963747 i_d i_q + -3403.8173280641 i_d I_d + 6307.5107223877 i_d I_q + -296.4371572696 i_d V_d + -0.2537047081 i_d V_q + -412.2550609015 i_d V_0 + -4.0004801909 i_d f + 63470.5906177482 i_d r_x + 8484.9123483237 i_d r_y + 26.2835150741 i_q^2 + -6534.7229455819 i_q I_d + -5758.0761074204 i_q I_q + -85.2082217107 i_q V_d + -276.7232301633 i_q V_q + -1822.5399929874 i_q V_0 + -1.1518267302 i_q \\omega + 10.6472374963 i_q f + -44938.9626043818 i_q r_x + -16174.2387025269 i_q r_y + 60.5096094243 v_d I_d + -11.4940261715 v_d I_q + 439.8771111771 v_d r_x + -224.5120596963 v_d r_y + 59.3888593540 v_q I_d + 52.7178153477 v_q I_q + 514.2246789386 v_q r_x + 145.9491830130 v_q r_y + 17.8886659858 v_0 I_d + 10.9686295224 v_0 I_q + 9.0727876836 v_0 V_0 + 166.0672430266 v_0 r_x + -19.8375464425 v_0 r_y + 9377.7078612305 I_d^2 + 5731.6110301583 I_d I_q + 1655.5462563073 I_d V_d + 11756.6184515802 I_d V_q + -27636.0835807065 I_d V_0 + -133.7558884019 I_d \\omega + -176.5059597206 I_d f + 510309.4174480994 I_d r_x + 2209742.3919075849 I_d r_y + -23685.5943661431 I_q^2 + -11826.4081119388 I_q V_d + 6845.3018804230 I_q V_q + -19044.8159366802 I_q V_0 + -55.8848926115 I_q \\omega + 231.9501759812 I_q f + -4224008.3223812617 I_q r_x + 874606.6771898441 I_q r_y + 585035.1638309304 V_d^2 + 60.2601983558 V_d V_q + 879.5288666036 V_d V_0 + -16.3032602177 V_d \\omega + 6.3348118458 V_d f + -275742.8540684902 V_d r_x + -25544.9873520125 V_d r_y + 584993.2774369670 V_q^2 + 3609.3610963774 V_q V_0 + 12.3547951066 V_q \\omega + -23.3465198986 V_q f + 184329.6160514047 V_q r_x + -49416.4012541625 V_q r_y + 35953.2620149460 V_0^2 + 0.5765069801 V_0 \\omega + -5.6452257404 V_0 f + 217346.5248820164 V_0 r_x + -463744.1031406432 V_0 r_y + 1237.7283761649 \\omega r_x + 2296.8936850323 \\omega r_y + -9341.3136779317 f r_x + -13167.0483681734 f r_y + -16204619405.5639877319 r_x^2 + 19109775.8846394308 r_x r_y + -16152922816.1462059021 r_y^2 + -520.2100803479 sin(1 \\gamma) + 3984.1271576650 cos(1 \\gamma) + -68.7707786011 1 sin(1 \\gamma) + -3988.7792918310 1 cos(1 \\gamma) + 1224.3612472388 i_d sin(1 \\gamma) + 2159.9795985872 i_d cos(1 \\gamma) + -1005.3235864270 i_q sin(1 \\gamma) + 1269.7519130537 i_q cos(1 \\gamma) + 84.9063961120 v_d sin(1 \\gamma) + -521.4571748594 v_d cos(1 \\gamma) + 76.2409870833 v_q sin(1 \\gamma) + -448.4376642826 v_q cos(1 \\gamma) + 1.6844652164 v_0 cos(1 \\gamma) + 25716.1820783263 I_d sin(1 \\gamma) + 2933.9479295327 I_d cos(1 \\gamma) + -12472.0604130426 I_q sin(1 \\gamma) + 2972.3610076295 I_q cos(1 \\gamma) + 2820138.7917752680 V_d sin(1 \\gamma) + -7802627.0700417012 V_d cos(1 \\gamma) + 1631865.0961822646 V_q sin(1 \\gamma) + -4504314.4806657508 V_q cos(1 \\gamma) + -2182.2613555314 V_0 sin(1 \\gamma) + -5749.0787464274 V_0 cos(1 \\gamma) + 17.3044622617 \\omega sin(1 \\gamma) + -94.3753357402 \\omega cos(1 \\gamma) + -40.8433182174 f sin(1 \\gamma) + -9.3792224243 f cos(1 \\gamma) + 72926.3025230674 r_x sin(1 \\gamma) + -250669.0612009444 r_x cos(1 \\gamma) + 871177.8686713133 r_y sin(1 \\gamma) + 217836.7002383079 r_y cos(1 \\gamma) + -34.3402964767 i_d^2 sin(1 \\gamma) + 24.9970090658 i_d^2 cos(1 \\gamma) + -104.7035741492 i_d i_q sin(1 \\gamma) + 37.9168901611 i_d i_q cos(1 \\gamma) + -3.0802616240 i_d v_q cos(1 \\gamma) + -1.5821398426 i_d v_0 sin(1 \\gamma) + -2.6318694662 i_d v_0 cos(1 \\gamma) + -12124.0649449760 i_d I_d sin(1 \\gamma) + -5505.2480829135 i_d I_d cos(1 \\gamma) + -6342.9575986144 i_d I_q sin(1 \\gamma) + 2886.9792820669 i_d I_q cos(1 \\gamma) + 1431.8536682712 i_d V_d sin(1 \\gamma) + -1506.5207410530 i_d V_d cos(1 \\gamma) + 139.7511372690 i_d V_q sin(1 \\gamma) + 585.1786674271 i_d V_q cos(1 \\gamma) + -4193.7162526871 i_d V_0 sin(1 \\gamma) + 5037.9235385415 i_d V_0 cos(1 \\gamma) + -1.3662299291 i_d \\omega sin(1 \\gamma) + 6.8874498277 i_d f sin(1 \\gamma) + -1.5953214920 i_d f cos(1 \\gamma) + -317196.1758352452 i_d r_x sin(1 \\gamma) + 436322.4904429214 i_d r_x cos(1 \\gamma) + -101574.6252377912 i_d r_y sin(1 \\gamma) + 192109.0824054255 i_d r_y cos(1 \\gamma) + 11.9573401383 i_q^2 sin(1 \\gamma) + 79.5071682265 i_q^2 cos(1 \\gamma) + 2.9127142589 i_q v_d cos(1 \\gamma) + 2.9990929318 i_q v_0 sin(1 \\gamma) + -1.7892140249 i_q v_0 cos(1 \\gamma) + 4449.8324283799 i_q I_d sin(1 \\gamma) + 4935.9323129938 i_q I_d cos(1 \\gamma) + -5945.7211215302 i_q I_q sin(1 \\gamma) + -333.4288796362 i_q I_q cos(1 \\gamma) + 340.2178178043 i_q V_d sin(1 \\gamma) + -859.9778568640 i_q V_d cos(1 \\gamma) + 1007.1602009395 i_q V_q sin(1 \\gamma) + -1896.4358853447 i_q V_q cos(1 \\gamma) + -4339.1924061352 i_q V_0 sin(1 \\gamma) + -6042.4889492550 i_q V_0 cos(1 \\gamma) + 0.9512467533 i_q \\omega cos(1 \\gamma) + -1.5269658064 i_q f sin(1 \\gamma) + -3.2157486021 i_q f cos(1 \\gamma) + 352425.9280498105 i_q r_x sin(1 \\gamma) + 445519.3263932028 i_q r_x cos(1 \\gamma) + 281443.3434759943 i_q r_y sin(1 \\gamma) + 222482.0681448662 i_q r_y cos(1 \\gamma) + 274.2725760932 v_d I_d sin(1 \\gamma) + -83.4183603025 v_d I_d cos(1 \\gamma) + 21.5717949863 v_d I_q sin(1 \\gamma) + -168.8366581344 v_d I_q cos(1 \\gamma) + -127.0588529748 v_d V_d sin(1 \\gamma) + 530.2765615105 v_d V_d cos(1 \\gamma) + 11.7168455851 v_d V_q sin(1 \\gamma) + -54.5650291526 v_d V_q cos(1 \\gamma) + 0.2925531372 v_d V_0 sin(1 \\gamma) + -3.7017499346 v_d V_0 cos(1 \\gamma) + -393.3700458247 v_d r_x sin(1 \\gamma) + 154.5227252733 v_d r_x cos(1 \\gamma) + 2547.0186504637 v_d r_y sin(1 \\gamma) + -357.8577314412 v_d r_y cos(1 \\gamma) + -137.0660677104 v_q I_d sin(1 \\gamma) + 189.7296274498 v_q I_d cos(1 \\gamma) + 296.9816189500 v_q I_q sin(1 \\gamma) + 57.9342766199 v_q I_q cos(1 \\gamma) + -11.5734121599 v_q V_d sin(1 \\gamma) + 55.0784321549 v_q V_d cos(1 \\gamma) + -126.8570894444 v_q V_q sin(1 \\gamma) + 529.8871326731 v_q V_q cos(1 \\gamma) + 3.4856739817 v_q V_0 sin(1 \\gamma) + -0.7463549217 v_q V_0 cos(1 \\gamma) + -257.7620399004 v_q r_x sin(1 \\gamma) + 56.3255575285 v_q r_x cos(1 \\gamma) + -686.0465414871 v_q r_y sin(1 \\gamma) + -2566.7796780542 v_q r_y cos(1 \\gamma) + -59.1047556068 v_0 I_d sin(1 \\gamma) + -54.5137752268 v_0 I_d cos(1 \\gamma) + 126.2438456663 v_0 I_q sin(1 \\gamma) + 2.0819603537 v_0 V_d sin(1 \\gamma) + 6.2065479709 v_0 V_d cos(1 \\gamma) + -7.4319958921 v_0 V_q sin(1 \\gamma) + 1.9237306763 v_0 V_q cos(1 \\gamma) + 26.3352097438 v_0 V_0 sin(1 \\gamma) + 11.5552445281 v_0 V_0 cos(1 \\gamma) + -8717.6983883526 v_0 r_x sin(1 \\gamma) + -63769.2905251982 v_0 r_x cos(1 \\gamma) + 63102.6383683123 v_0 r_y sin(1 \\gamma) + -6790.7305485288 v_0 r_y cos(1 \\gamma) + -111327.4716821192 I_d^2 sin(1 \\gamma) + -119301.9810535508 I_d^2 cos(1 \\gamma) + 8985.1975813274 I_d I_q sin(1 \\gamma) + 123900.3318239385 I_d I_q cos(1 \\gamma) + 16891.2694682730 I_d V_d sin(1 \\gamma) + 30847.9258168010 I_d V_d cos(1 \\gamma) + -8380.5763689582 I_d V_q sin(1 \\gamma) + -7231.9033288011 I_d V_q cos(1 \\gamma) + -2012.0531313624 I_d V_0 sin(1 \\gamma) + 67821.7427194898 I_d V_0 cos(1 \\gamma) + -93.0540670155 I_d \\omega sin(1 \\gamma) + -24.3588300357 I_d \\omega cos(1 \\gamma) + 175.9215384792 I_d f sin(1 \\gamma) + 115.6522996333 I_d f cos(1 \\gamma) + -4943858.8411748260 I_d r_x sin(1 \\gamma) + 5308761.8802874256 I_d r_x cos(1 \\gamma) + -5388094.2164524021 I_d r_y sin(1 \\gamma) + -4384850.1895497395 I_d r_y cos(1 \\gamma) + 4718.4303436219 I_q^2 sin(1 \\gamma) + -104056.9425816041 I_q^2 cos(1 \\gamma) + 12733.0819416187 I_q V_d sin(1 \\gamma) + -16331.1803279807 I_q V_d cos(1 \\gamma) + -3410.5276466294 I_q V_q sin(1 \\gamma) + 22529.1781022554 I_q V_q cos(1 \\gamma) + -93767.8360879695 I_q V_0 sin(1 \\gamma) + -60811.7953554082 I_q V_0 cos(1 \\gamma) + 120.1689274572 I_q \\omega cos(1 \\gamma) + 234.1397273531 I_q f sin(1 \\gamma) + -151.9151785737 I_q f cos(1 \\gamma) + 7870848.5579184508 I_q r_x sin(1 \\gamma) + 6871615.7680933317 I_q r_x cos(1 \\gamma) + -2215549.2123993766 I_q r_y sin(1 \\gamma) + 5591127.6401896598 I_q r_y cos(1 \\gamma) + -1280667.5313532318 V_d^2 sin(1 \\gamma) + 3536170.7823036611 V_d^2 cos(1 \\gamma) + -411.6550711211 V_d V_q sin(1 \\gamma) + 441.5701017486 V_d V_q cos(1 \\gamma) + 8319.9230788366 V_d V_0 sin(1 \\gamma) + -7127.2413523873 V_d V_0 cos(1 \\gamma) + 13.8022388052 V_d \\omega sin(1 \\gamma) + 10.7441248007 V_d \\omega cos(1 \\gamma) + -13.1608661380 V_d f sin(1 \\gamma) + 2.1629762427 V_d f cos(1 \\gamma) + 462076.7853380224 V_d r_x sin(1 \\gamma) + -968937.5827596082 V_d r_x cos(1 \\gamma) + 242369.0252185967 V_d r_y sin(1 \\gamma) + 231609.0786678413 V_d r_y cos(1 \\gamma) + -1280056.0905128338 V_q^2 sin(1 \\gamma) + 3536558.0749987387 V_q^2 cos(1 \\gamma) + 6136.8201520944 V_q V_0 sin(1 \\gamma) + 11876.1234489378 V_q V_0 cos(1 \\gamma) + 3.0885211751 V_q \\omega sin(1 \\gamma) + -5.8578542872 V_q \\omega cos(1 \\gamma) + 3.9109292354 V_q f sin(1 \\gamma) + 8.2678532840 V_q f cos(1 \\gamma) + -825448.7243666832 V_q r_x sin(1 \\gamma) + -589621.7010965033 V_q r_x cos(1 \\gamma) + 56973.1597197170 V_q r_y sin(1 \\gamma) + -426524.4867863110 V_q r_y cos(1 \\gamma) + -723.3302785963 V_0^2 sin(1 \\gamma) + 81334.9797196751 V_0^2 cos(1 \\gamma) + 5.5056000829 V_0 \\omega sin(1 \\gamma) + -10.1540984683 V_0 \\omega cos(1 \\gamma) + -52.6530195558 V_0 f sin(1 \\gamma) + 66.3557626619 V_0 f cos(1 \\gamma) + -31672237.2489978671 V_0 r_x sin(1 \\gamma) + 8990188.8906774018 V_0 r_x cos(1 \\gamma) + -11471626.9847945385 V_0 r_y sin(1 \\gamma) + -32433590.9035556428 V_0 r_y cos(1 \\gamma) + -90.1213415546 \\omega r_x sin(1 \\gamma) + -740.9943078335 \\omega r_x cos(1 \\gamma) + -318.9814711119 \\omega r_y sin(1 \\gamma) + -34.5296635918 \\omega r_y cos(1 \\gamma) + 5615.9749962785 f r_x cos(1 \\gamma) + 2169.3691196108 f r_y sin(1 \\gamma) + 914.7910943651 f r_y cos(1 \\gamma) + 237749253.8796100914 r_x^2 sin(1 \\gamma) + 176826327.5870844722 r_x^2 cos(1 \\gamma) + 310955649.8330488801 r_x r_y sin(1 \\gamma) + -272303859.7036069632 r_x r_y cos(1 \\gamma) + -237749253.8789518774 r_y^2 sin(1 \\gamma) + -176826327.5855228901 r_y^2 cos(1 \\gamma)\n",
      "Non-zero elements:  583\n",
      "MSE: 15173.270088091358\n",
      "Saving model\n",
      "No date added\n"
     ]
    }
   ],
   "source": [
    "####################################\n",
    "## 13 linear dynamical 50 ecc UMP ##\n",
    "####################################\n",
    "traindata = os.path.join(os.getcwd(), 'train-data', '08-09','IMMEC_dynamic_50ecc_5.0sec.npz')\n",
    "plot_optuna_data('_w5//umplinear_dynamic_50ecc-optuna-study')\n",
    "\n",
    "\n",
    "model1 =  make_model(traindata, modeltype='ump', optimizer =\"STLSQ\",\n",
    "                    nmbr_of_train=-1, lib='poly_2nd_order', alpha = 5.6, threshold = 0.58,\n",
    "                    modelname='ump_linear_dynamic_50ecc_120')\n",
    "\n",
    "model2 =  make_model(traindata, modeltype='ump', optimizer =\"STLSQ\",\n",
    "                    nmbr_of_train=-1, lib='nonlinear_terms', alpha = 2.48e-5, threshold = 0.63,\n",
    "                    modelname='ump_linear_dynamic_50ecc_330')\n",
    "\n"
   ]
  },
  {
   "cell_type": "code",
   "execution_count": 23,
   "id": "5e57adf7-85ac-4bdb-bfd6-4320b1c36aa3",
   "metadata": {},
   "outputs": [
    {
     "name": "stderr",
     "output_type": "stream",
     "text": [
      "[I 2024-08-18 14:23:13,746] Study name was omitted but trying to load 'optuna_studies//currentsnonlinear_dynamic_50ecc-optuna-study' because that was the only study found in the storage.\n"
     ]
    },
    {
     "name": "stdout",
     "output_type": "stream",
     "text": [
      "['optuna_studies//currentsnonlinear_dynamic_50ecc-optuna-study']\n",
      "Trial count: 1008\n",
      "ecc input: True\n",
      "Loading data\n",
      "Done loading data\n",
      "Calculating xdots\n",
      "Assume all t_vec are equal\n",
      "Done calculating xdots\n",
      "time trim:  0.5\n",
      "Non zero ecc, added to input data\n",
      "Fitting model\n",
      "(i_d)' = -11.9173438568 1 + 179.8619585938 i_d + 912.8800935362 i_q + 13.5758351260 v_d + -71.6913890446 v_q + -3582.3760588754 I_d + 834.0961205441 I_q + -603.8725984026 V_d + -762.8325046803 V_q + 8.6258759186 \\omega + 2021.4834317739 r_x + 6.0318458857 i_d^2 + -1466.0765656850 i_d I_d + 522.3457536088 i_d I_q + -50.6449435167 i_d V_d + -13.9336856626 i_d V_q + 167.9649861186 i_d V_0 + 0.5945643531 i_d f + 2108.8584651108 i_d r_x + 893.7858543518 i_d r_y + 3.8016681375 i_q^2 + 898.4124173858 i_q I_d + -2765.3293787343 i_q I_q + -59.7985599005 i_q V_d + 0.5064166797 i_q V_q + 220.3092871343 i_q V_0 + 0.8860745026 i_q f + 198.5473168827 i_q r_x + 29.0396848395 v_d I_d + 22.9380321729 v_d I_q + -4.2009080237 v_d V_d + 0.1921232247 v_d V_q + 4.3899399727 v_d r_y + 35.2773284138 v_q I_d + -20.7106936543 v_q I_q + -0.2256639038 v_q V_d + -4.1110373060 v_q V_q + -1.1329137916 v_q V_0 + 4.8959431826 v_q r_x + -5.1952072946 v_q r_y + -16.0292559214 v_0 I_d + 26.8942912467 v_0 I_q + -160.5185221262 v_0 r_x + 4627.8548538686 I_d^2 + 20403.4226470862 I_d I_q + -2149.0117844357 I_d V_q + 2035.0823125975 I_d V_0 + -581.2152475576 I_d \\omega + -11.1637590192 I_d f + -9775.7975989843 I_q^2 + -421.7866263039 I_q V_d + 1995.9997655777 I_q V_q + 80.7089708188 I_q \\omega + 25.7160683954 I_q f + 477.1480619376 V_d^2 + 3.0525493359 V_d V_q + -324.6431071319 V_d V_0 + 70.2084536824 V_d \\omega + -7525.1826722625 V_d r_x + 470.0177326039 V_q^2 + -39.1339193423 V_q V_0 + 14.0918358729 V_q \\omega + -0.7747335516 V_q f + 9465.2808703264 V_0^2 + -1.3514182501 V_0 \\omega + 8.4001017326 V_0 f + -38.3743309928 \\omega r_y + 111.8812830580 f r_x + 164.7052763300 f r_y + -0.3126859557 sin(1 \\gamma)\n",
      "(i_q)' = 7.9309449363 1 + -518.7697883456 i_d + 237.0110041005 i_q + 72.2671244932 v_d + -5.0151392967 v_0 + 1163.6734174471 I_d + 1115.2756964102 I_q + 1295.5969360974 V_d + 709.4179111001 V_q + 1485.6777328665 V_0 + 39.6963586281 \\omega + 12853.0933076579 r_x + -2009.8498573110 r_y + 9.9866899727 i_d^2 + 4.8559687108 i_d i_q + -1597.0222131681 i_d I_d + 1045.5243750778 i_d I_q + -14.0091476917 i_d V_d + 9.0299739227 i_d V_q + 88.2511243413 i_d V_0 + -0.4136743922 i_d \\omega + 1.1002597148 i_d f + 1669.0793983437 i_d r_x + 1492.2292653928 i_d r_y + -765.2167460017 i_q I_d + -516.1346130324 i_q I_q + -77.4135013858 i_q V_d + -6.4090588305 i_q V_q + -22.2701288153 i_q V_0 + -0.6177577145 i_q f + 6158.5367828242 i_q r_x + -7.2488178920 v_d I_d + 6.9197921987 v_d I_q + 0.9083083765 v_d V_0 + 20.6795195364 v_d r_x + 67.7159331187 v_q I_d + 27.3493807600 v_q I_q + 2.3270092384 v_q V_0 + -6.8361124422 v_q r_x + -25.9125749958 v_q r_y + 22.2073076102 v_0 I_d + 10.6593200033 v_0 I_q + 51.3802556882 v_0 V_0 + 69.9184102523 v_0 r_x + -35.6575473632 v_0 r_y + -24110.2792078047 I_d^2 + 668.6913999221 I_d I_q + 3149.7481249615 I_d V_d + 1952.2291710706 I_d V_q + -7737.6877244657 I_d V_0 + -70.1028326945 I_d \\omega + -2.2981282054 I_d f + -1148.0652848789 I_q^2 + -1639.3771573381 I_q V_d + 946.7381646585 I_q V_q + -3147.7229378508 I_q V_0 + -583.5213371447 I_q \\omega + 3.7059226016 I_q f + -624.6274934170 V_d^2 + -37.9012555491 V_d V_q + -197.6290995445 V_d V_0 + -11.5790754641 V_d \\omega + -2.1198828343 V_d f + -4907.7754655010 V_d r_x + -676.5213669432 V_q^2 + 647.6996766467 V_q V_0 + 71.3216963419 V_q \\omega + 3.4958257132 V_q f + -7865.8005008485 V_q r_x + 52.5592912917 \\omega r_x + -304.5012065466 f r_x + -65.1598368319 f r_y + 1.4166095532 cos(1 \\gamma)\n",
      "(i_0)' = 0.0000000000\n",
      "Non-zero elements:  143\n",
      "MSE: 881.4851663719743\n",
      "Saving model\n",
      "No date added\n"
     ]
    },
    {
     "data": {
      "text/plain": [
       "'\\nmodel2 =  make_model(traindata, modeltype=\\'currents\\', optimizer =\"STLSQ\",\\n                    nmbr_of_train=-1, lib=\\'interaction_only\\', alpha = 56.6, threshold = 0.657,\\n                    modelname=\\'currents_nonlinear_dynamic_50ecc_420\\')\\n'"
      ]
     },
     "execution_count": 23,
     "metadata": {},
     "output_type": "execute_result"
    }
   ],
   "source": [
    "## 14 nonlinear dynamical 50 ecc currents\n",
    "traindata = os.path.join(os.getcwd(), 'train-data', '08-16','IMMEC_dynamic_nonlinear_5.0sec.npz')\n",
    "plot_optuna_data('_w5//currentsnonlinear_dynamic_50ecc-optuna-study')\n",
    "\n",
    "model1 =  make_model(traindata, modeltype='currents', optimizer =\"STLSQ\",\n",
    "                    nmbr_of_train=-1, lib='poly_2nd_order', alpha = 55.7, threshold = 0.395,\n",
    "                    modelname='currents_nonlinear_dynamic_50ecc_150')\n",
    "# OOM error\n",
    "'''\n",
    "model2 =  make_model(traindata, modeltype='currents', optimizer =\"STLSQ\",\n",
    "                    nmbr_of_train=-1, lib='interaction_only', alpha = 56.6, threshold = 0.657,\n",
    "                    modelname='currents_nonlinear_dynamic_50ecc_420')\n",
    "'''"
   ]
  },
  {
   "cell_type": "code",
   "execution_count": 24,
   "id": "17821057-f91c-465b-bdea-fa1a3f73a1bf",
   "metadata": {},
   "outputs": [
    {
     "name": "stderr",
     "output_type": "stream",
     "text": [
      "[I 2024-08-18 14:24:41,963] Study name was omitted but trying to load 'optuna_studies//torquenonlinear_dynamic_50ecc-optuna-study' because that was the only study found in the storage.\n"
     ]
    },
    {
     "name": "stdout",
     "output_type": "stream",
     "text": [
      "['optuna_studies//torquenonlinear_dynamic_50ecc-optuna-study']\n",
      "Trial count: 1002\n",
      "ecc input: True\n",
      "Loading data\n",
      "Done loading data\n",
      "Calculating xdots\n",
      "Assume all t_vec are equal\n",
      "Done calculating xdots\n",
      "time trim:  0.5\n",
      "Non zero ecc, added to input data\n",
      "Fitting model\n"
     ]
    },
    {
     "name": "stderr",
     "output_type": "stream",
     "text": [
      "C:\\Users\\emmav\\anaconda3\\envs\\immec_env\\Lib\\site-packages\\pysindy\\utils\\axes.py:126: AxesWarning:\n",
      "\n",
      "2 axes labeled for array with 1 axes\n",
      "\n"
     ]
    },
    {
     "name": "stdout",
     "output_type": "stream",
     "text": [
      "(i_d)' = 0.0035011122 1 + 0.4638624693 i_d + 0.9127466305 i_q + -0.0451673715 v_q + 1.5730159740 I_d + 3.8147884367 I_q + 2.7995323014 V_d + 1.1646545387 V_q + 0.0024354053 \\omega + 0.0196428213 i_d^2 + -0.0112457167 i_d i_q + -3.8547852166 i_d I_d + 7.6156032795 i_d I_q + -0.1210424664 i_d V_d + -0.7371525934 i_d V_q + -0.1310660125 i_d V_0 + -8.2005464854 i_q I_d + -3.3026551285 i_q I_q + 0.7893074154 i_q V_d + 0.0172332122 i_q V_q + 0.1131787094 v_d I_d + -0.1928100729 v_d I_q + 0.2356194017 v_q I_d + 0.0342026703 v_q I_q + 0.0065368866 v_q r_y + -0.2302736352 v_0 V_0 + -10.8101575040 I_d^2 + -0.2665401897 I_d I_q + -0.0323047645 I_d V_d + 3.6997104664 I_d V_q + 0.0079094640 I_d \\omega + 1.4692793598 I_q^2 + -2.1983883972 I_q V_d + -1.8103861091 I_q V_q + -0.0390521339 I_q \\omega + 0.0090674496 I_q f + -1.1273729082 V_d^2 + -0.1532593430 V_d V_q + -1.1496741607 V_q^2\n",
      "Non-zero elements:  39\n"
     ]
    },
    {
     "name": "stderr",
     "output_type": "stream",
     "text": [
      "C:\\Users\\emmav\\anaconda3\\envs\\immec_env\\Lib\\site-packages\\pysindy\\utils\\axes.py:126: AxesWarning:\n",
      "\n",
      "2 axes labeled for array with 1 axes\n",
      "\n"
     ]
    },
    {
     "name": "stdout",
     "output_type": "stream",
     "text": [
      "MSE: 0.0009166740827802415\n",
      "Saving model\n",
      "No date added\n"
     ]
    },
    {
     "data": {
      "text/plain": [
       "'\\nmodel2 =  make_model(traindata, modeltype=\\'torque\\', optimizer =\"STLSQ\",\\n                    nmbr_of_train=-1, lib=\\'interaction_only\\', alpha = 85.6, threshold = 0.0034,\\n                    modelname=\\'torque_nonlinear_dynamic_50ecc_100\\')\\n'"
      ]
     },
     "execution_count": 24,
     "metadata": {},
     "output_type": "execute_result"
    }
   ],
   "source": [
    "## 15 nonlinear dynamical 50 ecc torque\n",
    "traindata = os.path.join(os.getcwd(), 'train-data', '08-16','IMMEC_dynamic_nonlinear_5.0sec.npz')\n",
    "plot_optuna_data('_w5//torquenonlinear_dynamic_50ecc-optuna-study')\n",
    "\n",
    "\n",
    "model1 =  make_model(traindata, modeltype='torque', optimizer =\"STLSQ\",\n",
    "                    nmbr_of_train=-1, lib='poly_2nd_order', alpha = 80.5, threshold = 0.0089,\n",
    "                    modelname='torque_nonlinear_dynamic_50ecc_50')\n",
    "# OOM ERROR\n",
    "'''\n",
    "model2 =  make_model(traindata, modeltype='torque', optimizer =\"STLSQ\",\n",
    "                    nmbr_of_train=-1, lib='interaction_only', alpha = 85.6, threshold = 0.0034,\n",
    "                    modelname='torque_nonlinear_dynamic_50ecc_100')\n",
    "'''"
   ]
  },
  {
   "cell_type": "code",
   "execution_count": 25,
   "id": "f9b3d129-00cf-4413-bd66-2dc361bd0e5d",
   "metadata": {},
   "outputs": [
    {
     "name": "stderr",
     "output_type": "stream",
     "text": [
      "[I 2024-08-18 14:26:02,145] Study name was omitted but trying to load 'optuna_studies//umpnonlinear_dynamic_50ecc-optuna-study' because that was the only study found in the storage.\n"
     ]
    },
    {
     "name": "stdout",
     "output_type": "stream",
     "text": [
      "['optuna_studies//umpnonlinear_dynamic_50ecc-optuna-study']\n",
      "Trial count: 1357\n",
      "ecc input: True\n",
      "Loading data\n",
      "Done loading data\n",
      "Calculating xdots\n",
      "Assume all t_vec are equal\n",
      "Done calculating xdots\n",
      "time trim:  0.5\n",
      "Non zero ecc, added to input data\n",
      "Fitting model\n",
      "(i_d)' = 40.3426374736 1 + -98.9121377807 i_d + 114.5011682551 i_q + -0.0732464023 v_d + 7.9469610918 v_q + 4.4054392261 v_0 + -1481.9426546814 I_d + -1254.8545704440 I_q + 294.2663091110 V_d + -172.4838791304 V_q + 1249.2351056984 V_0 + 6.5210988537 \\omega + 344834.1704172842 r_x + -394960.3993041398 r_y + -0.2735003071 i_d^2 + -7.2816663223 i_d i_q + -47.7561294730 i_d I_d + 944.6767304569 i_d I_q + 9.6835002570 i_d V_d + 48.8037458177 i_d V_q + -157.1122152426 i_d V_0 + -0.7972523299 i_d f + 22051.1659313859 i_d r_x + 4.6460350723 i_q^2 + -1285.5068629129 i_q I_d + 493.3290267675 i_q I_q + 54.3360957244 i_q V_d + -3.3894717664 i_q V_q + 447.2735710191 i_q V_0 + 24818.2166530168 i_q r_x + 2060.7081165641 i_q r_y + 11.1637367519 v_d I_d + -47.7385426944 v_d I_q + 0.8673973271 v_d V_d + -300.8760667936 v_d r_x + -449.9424613973 v_d r_y + -29.3347978080 v_q I_d + -16.1536975982 v_q I_q + 0.9441796170 v_q V_q + -1.7459188142 v_q V_0 + -140.9173923341 v_q r_x + -105.5776127728 v_q r_y + -13.8301416759 v_0 I_d + -18.9562341189 v_0 I_q + -6.0490974153 v_0 V_0 + 347.1091326603 v_0 r_x + 3301.8047056840 I_d^2 + 8027.4144358182 I_d I_q + -1089.9489063411 I_d V_d + 3054.6054092050 I_d V_q + -4384.3383264442 I_d V_0 + -4.6500702093 I_d \\omega + -21.2103203462 I_d f + 2529954.4800905026 I_d r_x + 2220957.5578212976 I_d r_y + 15428.4794499820 I_q^2 + -2309.8800386463 I_q V_d + -3678.7487333557 I_q V_q + 3898.0442285804 I_q V_0 + -24.5481890081 I_q \\omega + 11.9336516823 I_q f + 2258041.0260446700 I_q r_x + 2100064.1936385869 I_q r_y + -46.2294090557 V_d V_q + 242.4408904959 V_d V_0 + -1.6925186154 V_d \\omega + 2.5097430939 V_d f + -8672.5583569759 V_d r_x + 44383.7376748494 V_d r_y + 68.0347910849 V_q^2 + -1274.5835538932 V_q V_0 + -2.0746983514 V_q \\omega + -153014.9720455869 V_q r_x + -140425.5871790136 V_q r_y + 7.0702708604 V_0 \\omega + -50.5231466856 V_0 f + 2655.1990428288 \\omega r_x + -2440.2005882673 \\omega r_y + -12981.7560589972 f r_x + 12374.1461661191 f r_y + -3.2283296256 cos(1 \\gamma)\n",
      "(i_q)' = -10.3746958210 1 + 139.9291496174 i_d + -83.5174313382 i_q + -9.8656387174 v_d + -3.3566484656 v_0 + 2258.9466339509 I_d + -855.5351999376 I_q + -3554.5899660406 V_d + -1799.4662886954 V_q + 231.2603198710 V_0 + -7.8997942982 \\omega + 336765.7247130416 r_x + 258529.5294561049 r_y + 6.6410627976 i_d^2 + -45.2524466909 i_d I_d + -517.6165660324 i_d I_q + -49.5766992020 i_d V_d + 9.4353610787 i_d V_q + -49.2887319117 i_d V_0 + -0.7158180028 i_d f + -7817.8435832322 i_d r_x + 20813.2812437377 i_d r_y + 1.8777670136 i_q^2 + 382.6757333357 i_q I_d + -83.3139685828 i_q I_q + 19.8176768029 i_q V_d + -0.1980000136 i_q V_q + 415.0203111486 i_q V_0 + -12777.6673794634 i_q r_x + 21993.3342149907 i_q r_y + 50.0273016452 v_d I_d + 12.3634985042 v_d I_q + 0.6790860567 v_d V_0 + 373.9437170336 v_d r_x + -336.0949203772 v_d r_y + -29.4109412251 v_q I_d + 22.2308051852 v_q I_q + 146.5018118856 v_q r_x + -317.9888264317 v_q r_y + 7.7201378590 v_0 I_d + 16.5505777892 v_0 I_q + 0.3031969362 v_0 V_d + -29.0860719173 v_0 V_0 + -479.4331414584 v_0 r_x + -348.1288973869 v_0 r_y + -310.6032985056 I_d^2 + -599.5174389491 I_d I_q + -471.5826373586 I_d V_d + -962.4164055880 I_d V_q + 22.1865573291 I_d \\omega + -8.8444040969 I_d f + -1935002.0497203269 I_d r_x + 2157772.8480069721 I_d r_y + 1423.5497756314 I_q V_d + -586.5037302762 I_q V_q + 4869.3412981675 I_q V_0 + 6.4131683149 I_q \\omega + -4.6016484974 I_q f + -2182171.2613927284 I_q r_x + 2863463.8481465289 I_q r_y + 1575.0573313144 V_d^2 + -29.7384855065 V_d V_q + -402.4507168155 V_d V_0 + 2.8693306344 V_d \\omega + 1.6675715395 V_d f + -26289.5824758130 V_d r_x + 47298.5272411265 V_d r_y + 1555.6717748102 V_q^2 + -755.0366317504 V_q V_0 + 0.3020864135 V_q \\omega + 134530.8782910511 V_q r_x + -144904.1266299598 V_q r_y + -3.8814395514 V_0 \\omega + 27.3416675862 V_0 f + 2390.7284591606 \\omega r_x + 2345.1146937368 \\omega r_y + -12114.4857627110 f r_x + -10457.8340043351 f r_y + -2.1953601965 sin(1 \\gamma)\n",
      "Non-zero elements:  160\n",
      "MSE: 12064.026879470326\n",
      "Saving model\n",
      "No date added\n"
     ]
    },
    {
     "data": {
      "text/plain": [
       "'\\nmodel2 =  make_model(traindata, modeltype=\\'ump\\', optimizer =\"STLSQ\",\\n                    nmbr_of_train=-1, lib=\\'interaction_only\\', alpha = 16.68, threshold = 0.677,\\n                    modelname=\\'ump_nonlinear_dynamic_50ecc_650\\')\\n'"
      ]
     },
     "execution_count": 25,
     "metadata": {},
     "output_type": "execute_result"
    }
   ],
   "source": [
    "## 16 nonlinear dynamical 50 ecc UMP\n",
    "traindata = os.path.join(os.getcwd(), 'train-data', '08-16','IMMEC_dynamic_nonlinear_5.0sec.npz')\n",
    "plot_optuna_data('_w5//umpnonlinear_dynamic_50ecc-optuna-study')\n",
    "\n",
    "\n",
    "model1 =  make_model(traindata, modeltype='ump', optimizer =\"STLSQ\",\n",
    "                    nmbr_of_train=-1, lib='poly_2nd_order', alpha = 46.05, threshold = 0.922,\n",
    "                    modelname='ump_nonlinear_dynamic_50ecc_150')\n",
    "\n",
    "# OOM \n",
    "'''\n",
    "model2 =  make_model(traindata, modeltype='ump', optimizer =\"STLSQ\",\n",
    "                    nmbr_of_train=-1, lib='interaction_only', alpha = 16.68, threshold = 0.677,\n",
    "                    modelname='ump_nonlinear_dynamic_50ecc_650')\n",
    "'''"
   ]
  }
 ],
 "metadata": {
  "kernelspec": {
   "display_name": "Python 3 (ipykernel)",
   "language": "python",
   "name": "python3"
  },
  "language_info": {
   "codemirror_mode": {
    "name": "ipython",
    "version": 3
   },
   "file_extension": ".py",
   "mimetype": "text/x-python",
   "name": "python",
   "nbconvert_exporter": "python",
   "pygments_lexer": "ipython3",
   "version": "3.12.4"
  }
 },
 "nbformat": 4,
 "nbformat_minor": 5
}
