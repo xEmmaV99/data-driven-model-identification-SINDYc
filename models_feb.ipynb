{
 "cells": [
  {
   "cell_type": "code",
   "execution_count": null,
   "id": "71eaa4e4-b098-46af-b82e-0ba114505478",
   "metadata": {},
   "outputs": [],
   "source": [
    "import os.path\n",
    "from optimize_parameters import plot_optuna_data\n",
    "from source import *\n",
    "from train_model_source import simulate_model, make_model\n",
    "%matplotlib QtAgg\n",
    "\n",
    "def plot_function(models,testdata, type, existing_plot, folder):\n",
    "    pref = \"_feb//\"\n",
    "    if not existing_plot:\n",
    "        for model in models:\n",
    "            do_sim = type=='currents'\n",
    "            sim, test = simulate_model(pref + model + '_model', testdata, \n",
    "                                       modeltype=type, do_time_simulation=do_sim,\n",
    "                                       show=False, ecc_input = True)\n",
    "    else:\n",
    "        show_coefs = True\n",
    "        if show_coefs:\n",
    "            for model_ in models:\n",
    "                model = load_model(pref + model_ + '_model')\n",
    "                plot_coefs2(model, log=True, type=type)\n",
    "        path = os.path.join(os.getcwd(), 'plot_data//_feb//', folder)\n",
    "        plot_everything(path)"
   ]
  },
  {
   "cell_type": "code",
   "execution_count": null,
   "id": "87ea85e1-8dd9-4609-ae3f-922755f03e73",
   "metadata": {},
   "outputs": [],
   "source": [
    "## currents 0\n",
    "plot_optuna_data('models_februari//currentsnonlinear-optuna-study')\n"
   ]
  },
  {
   "cell_type": "code",
   "execution_count": null,
   "id": "6aa4d6cc-d110-4f3a-aa55-aa4b288d5213",
   "metadata": {},
   "outputs": [],
   "source": [
    "traindata = os.path.join(os.getcwd(), 'train-data', '07-31-nonlin', 'IMMEC_nonlinear-0ecc_5.0sec.npz')\n",
    "## this model turns out not to be good\n",
    "#model = make_model(traindata, modeltype='currents', optimizer='lasso',\n",
    "#               nmbr_of_train=-1, lib='interaction_only', alpha = 71.275,\n",
    "#               modelname='currents_85', ecc_input = False)\n",
    "# sparsity 85, mse 220\n",
    "\n",
    "#model = make_model(traindata, modeltype='currents', optimizer='STLSQ',\n",
    "#               nmbr_of_train=-1, lib='linear-specific', alpha = .000989657, threshold = 0.5435,\n",
    "#               modelname='currents_70')\n",
    "\n",
    "print(\"trial number 433\")\n",
    "model =  make_model(traindata, modeltype='currents', optimizer='STLSQ',\n",
    "               nmbr_of_train=-1, lib='linear-specific', alpha = 0.1203422,threshold = 0.7496,\n",
    "                    modelname='currents_70')"
   ]
  },
  {
   "cell_type": "code",
   "execution_count": null,
   "id": "520ef8fb-12d3-4a0b-91cc-ce330a1f24c7",
   "metadata": {},
   "outputs": [],
   "source": [
    "testdata = os.path.join(os.getcwd(), 'test-data', '08-07', 'IMMEC_nonlin_0ecc_5.0sec.npz')\n",
    "\n",
    "models = ['currents_70a'] #['currents_85']\n",
    "\n",
    "plot_function(models, testdata, 'currents', False, 'currents_nl')"
   ]
  },
  {
   "cell_type": "code",
   "execution_count": null,
   "id": "58e3af52-4af8-41aa-9b9a-6597ddfe1d1b",
   "metadata": {},
   "outputs": [],
   "source": [
    "## torque 0\n",
    "plot_optuna_data('models_februari//torquenonlinear-optuna-study')"
   ]
  },
  {
   "cell_type": "code",
   "execution_count": null,
   "id": "0cd8e259-8ab3-4456-9ebf-24519e74135d",
   "metadata": {},
   "outputs": [],
   "source": [
    "traindata = os.path.join(os.getcwd(), 'train-data', '07-31-nonlin', 'IMMEC_nonlinear-0ecc_5.0sec.npz')\n",
    "print(\"trial number 477\")\n",
    "model = make_model(traindata, modeltype='torque', optimizer='STLSQ',\n",
    "               nmbr_of_train=-1, lib='poly_2nd_order', alpha = 2.11237, threshold = 0.3869,\n",
    "               modelname='torque_5')"
   ]
  },
  {
   "cell_type": "code",
   "execution_count": null,
   "id": "2639a142-e77e-4040-87bb-b93408e28b28",
   "metadata": {},
   "outputs": [],
   "source": [
    "testdata = os.path.join(os.getcwd(), 'test-data', '08-07', 'IMMEC_nonlin_0ecc_5.0sec.npz')\n",
    "\n",
    "models = ['torque_5']\n",
    "\n",
    "plot_function(models, testdata, 'torque', False, 'torque_nl')"
   ]
  },
  {
   "cell_type": "code",
   "execution_count": null,
   "id": "0de81629-d1d5-4c95-a1f8-d5a7bd63c78f",
   "metadata": {},
   "outputs": [],
   "source": [
    "## currents 50"
   ]
  },
  {
   "cell_type": "code",
   "execution_count": null,
   "id": "fd564cb1-0cbb-4d27-89dd-0e9d2ceec3ab",
   "metadata": {},
   "outputs": [],
   "source": [
    "plot_optuna_data('models_februari//currentsnonlinear_50ecc-optuna-study')"
   ]
  },
  {
   "cell_type": "code",
   "execution_count": null,
   "id": "3c648ced-196e-4eb9-9f90-633985772cfb",
   "metadata": {},
   "outputs": [],
   "source": [
    "traindata = os.path.join(os.getcwd(), 'train-data', '07-31-nonlin50', 'IMMEC_nonlinear-50ecc_5.0sec.npz')\n",
    "#print(\"trial number unknown\")\n",
    "#model=  make_model(traindata, modeltype='currents', optimizer =\"STLSQ\",\n",
    "#                    nmbr_of_train=-1, lib='linear-specific', alpha = 0.000178, threshold = 0.0216,\n",
    "#                    modelname='currents_50ecc_70')\n",
    "\n",
    "print(\"trial number 431\")\n",
    "model=  make_model(traindata, modeltype='currents', optimizer =\"STLSQ\",\n",
    "                    nmbr_of_train=-1, lib='linear-specific', alpha = 0.0001118, threshold = 0.50819,\n",
    "                    modelname='currents_50ecc_70')"
   ]
  },
  {
   "cell_type": "code",
   "execution_count": null,
   "id": "ea90f8c2-5054-488a-9788-ca78e1b4e4fd",
   "metadata": {},
   "outputs": [],
   "source": [
    "testdata = os.path.join(os.getcwd(), 'test-data', '08-07-nonlin-50ecc', 'IMMEC_nonlin_50ecc_5.0sec.npz')\n",
    "\n",
    "models = ['currents_50ecc_70a'] #, 'currents_nonlinear_50ecc_100', currents_nonlinear_50ecc_260']\n",
    "\n",
    "plot_function(models, testdata, 'currents', False, 'currents_50_nl')"
   ]
  },
  {
   "cell_type": "code",
   "execution_count": null,
   "id": "da51e889-0348-468e-98a4-52900dcdcded",
   "metadata": {},
   "outputs": [],
   "source": [
    "## torque 50"
   ]
  },
  {
   "cell_type": "code",
   "execution_count": null,
   "id": "595733f5-5af7-458b-b281-c68d1c1935ba",
   "metadata": {},
   "outputs": [],
   "source": [
    "plot_optuna_data('models_februari//torquenonlinear_50ecc-optuna-study')"
   ]
  },
  {
   "cell_type": "code",
   "execution_count": null,
   "id": "8535220c-6cc4-4650-b363-d4512f8181da",
   "metadata": {},
   "outputs": [],
   "source": [
    "traindata = os.path.join(os.getcwd(), 'train-data', '07-31-nonlin50', 'IMMEC_nonlinear-50ecc_5.0sec.npz')\n",
    "print(\"trial number: 316\")\n",
    "model =  make_model(traindata, modeltype='torque', optimizer =\"STLSQ\",\n",
    "                    nmbr_of_train=-1, lib='poly_2nd_order', alpha = 1.238025, threshold = 0.01006,\n",
    "                    modelname='torque_e_40')"
   ]
  },
  {
   "cell_type": "code",
   "execution_count": null,
   "id": "a2939c83-e21a-46c3-8230-1a76744eb955",
   "metadata": {},
   "outputs": [],
   "source": [
    "testdata = os.path.join(os.getcwd(), 'test-data', '08-07-nonlin-50ecc', 'IMMEC_nonlin_50ecc_5.0sec.npz')\n",
    "\n",
    "models = ['torque_e_40']\n",
    "\n",
    "plot_function(models, testdata, 'torque', False, 'torque')"
   ]
  },
  {
   "cell_type": "code",
   "execution_count": null,
   "id": "3f9dcab0-ab7d-4d48-840b-7d667c1fa649",
   "metadata": {},
   "outputs": [],
   "source": [
    "## ump 50"
   ]
  },
  {
   "cell_type": "code",
   "execution_count": null,
   "id": "905d056d-9f78-4fe2-bb9c-bda336f2f0c3",
   "metadata": {},
   "outputs": [],
   "source": [
    "plot_optuna_data('models_februari//umpnonlinear_50ecc-optuna-study') #trial 240"
   ]
  },
  {
   "cell_type": "code",
   "execution_count": null,
   "id": "ffa30bd6-74ab-4d0c-8203-944a7c90a855",
   "metadata": {},
   "outputs": [],
   "source": [
    "traindata = os.path.join(os.getcwd(), 'train-data', '07-31-nonlin50', 'IMMEC_nonlinear-50ecc_5.0sec.npz')\n",
    "print(\"trial number 240\")\n",
    "model =  make_model(traindata, modeltype='ump', optimizer =\"STLSQ\",\n",
    "                    nmbr_of_train=-1, lib='poly_2nd_order', alpha = 1.412438, threshold = 0.2399,\n",
    "                    modelname='ump_e_100')"
   ]
  },
  {
   "cell_type": "code",
   "execution_count": null,
   "id": "1000a57a-c51a-4f6c-a3da-03d74310c052",
   "metadata": {},
   "outputs": [],
   "source": [
    "testdata = os.path.join(os.getcwd(), 'test-data', '08-07-nonlin-50ecc', 'IMMEC_nonlin_50ecc_5.0sec.npz')\n",
    "\n",
    "models = ['ump_e_100']\n",
    "\n",
    "plot_function(models, testdata, 'ump', False, 'ump_50_nl')"
   ]
  },
  {
   "cell_type": "code",
   "execution_count": null,
   "id": "18af2b2f-7988-45ea-9621-13069511cfea",
   "metadata": {},
   "outputs": [],
   "source": [
    "## currents dyn"
   ]
  },
  {
   "cell_type": "code",
   "execution_count": null,
   "id": "1f5b4fda-5fb5-4d5f-bc34-a97dc3b3fc9e",
   "metadata": {},
   "outputs": [],
   "source": [
    "plot_optuna_data('models_februari//currentsnonlinear_dynamic_50ecc-optuna-study') # 433"
   ]
  },
  {
   "cell_type": "code",
   "execution_count": null,
   "id": "1a4ce2ff-842e-4b69-9239-6b13a6e8de2a",
   "metadata": {},
   "outputs": [],
   "source": [
    "traindata = os.path.join(os.getcwd(), 'train-data', '08-16','IMMEC_dynamic_nonlinear_5.0sec.npz')\n",
    "print('trial number: 433')\n",
    "model = make_model(traindata, modeltype='currents', optimizer=\"STLSQ\", alpha=8.1443, threshold = 0.222825,\n",
    "                    nmbr_of_train=-1, lib='linear-specific', modelname='currents_ed_70')\n"
   ]
  },
  {
   "cell_type": "code",
   "execution_count": null,
   "id": "e6988598-a65a-4c42-b35d-890ed8a518ee",
   "metadata": {},
   "outputs": [],
   "source": [
    "testdata = os.path.join(os.getcwd(), 'test-data','08-18','IMMEC_dynamic_nonlinear_5.0sec.npz')\n",
    "models = ['currents_ed_70']\n",
    "plot_function(models, testdata, 'currents', False, 'currents_d_nl')"
   ]
  },
  {
   "cell_type": "code",
   "execution_count": null,
   "id": "fd2fe286-95de-4c38-818a-3dc7ff1f3e71",
   "metadata": {},
   "outputs": [],
   "source": [
    "## torque dyn (SMALL DIFFERENCE HERE)"
   ]
  },
  {
   "cell_type": "code",
   "execution_count": 8,
   "id": "727d21a1-a000-4824-a7ff-87322a6b4550",
   "metadata": {},
   "outputs": [
    {
     "name": "stderr",
     "output_type": "stream",
     "text": [
      "[I 2025-02-26 18:36:48,809] Study name was omitted but trying to load 'optuna_studies//torquenonlinear_dynamic_50ecc-optuna-study' because that was the only study found in the storage.\n"
     ]
    },
    {
     "name": "stdout",
     "output_type": "stream",
     "text": [
      "['optuna_studies//torquenonlinear_dynamic_50ecc-optuna-study']\n",
      "Trial count: 498\n"
     ]
    }
   ],
   "source": [
    "plot_optuna_data('models_februari///torquenonlinear_dynamic_50ecc-optuna-study') #473, 374 "
   ]
  },
  {
   "cell_type": "code",
   "execution_count": null,
   "id": "567ae091-8db4-49d0-bbc4-329c32a0bf15",
   "metadata": {},
   "outputs": [],
   "source": [
    "traindata = os.path.join(os.getcwd(), 'train-data', '08-16','IMMEC_dynamic_nonlinear_5.0sec.npz')\n",
    "#print('Trial number:473 ')\n",
    "#model1 =  make_model(traindata, modeltype='torque', optimizer =\"STLSQ\",\n",
    "#                    nmbr_of_train=-1, lib='poly_2nd_order', alpha = 48.189, threshold= 0.0014,\n",
    "#                    modelname='torque_ed_50')\n",
    "print('Trial number: 374')\n",
    "model1 =  make_model(traindata, modeltype='torque', optimizer =\"STLSQ\",\n",
    "                    nmbr_of_train=-1, lib='poly_2nd_order', alpha = 9.095623, threshold= 0.00354,\n",
    "                    modelname='torque_ed_40')\n",
    "\n",
    "\n",
    "\n"
   ]
  },
  {
   "cell_type": "code",
   "execution_count": 10,
   "id": "a2c2920d-3a28-42e5-a516-c7572ef8b3e4",
   "metadata": {},
   "outputs": [
    {
     "name": "stdout",
     "output_type": "stream",
     "text": [
      "(i_d)' = 0.007 1 + 0.880 i_q + 0.031 v_d + -0.039 v_q + -3.572 I_d + 3.304 I_q + 2.008 V_d + 0.262 V_q + -0.042 V_0 + -0.003 i_d^2 + -0.005 i_d i_q + -3.097 i_d I_d + 9.696 i_d I_q + -0.009 i_d V_d + -0.753 i_d V_q + -8.282 i_q I_d + -2.645 i_q I_q + 0.818 i_q V_d + -0.087 i_q V_q + -0.185 i_q V_0 + -0.040 v_d I_d + -0.268 v_d I_q + 0.004 v_d V_d + 0.206 v_q I_d + 0.004 v_q V_q + 0.011 v_0 I_d + -0.018 v_0 I_q + -0.176 v_0 V_0 + 21.501 I_d I_q + -0.780 I_d V_d + 3.222 I_d V_q + 0.020 I_d \\omega + 5.968 I_q^2 + -6.320 I_q V_d + -2.079 I_q V_q + -0.036 I_q \\omega + -0.562 V_d^2 + 0.016 V_d V_q + -0.498 V_q^2 + 0.052 V_q V_0 + 68.055 V_0^2\n",
      "ecc input:  True\n",
      "Loading data\n",
      "Done loading data\n",
      "Calculating xdots\n",
      "Assume all t_vec are equal for all simulations\n",
      "Done calculating xdots\n",
      "MSE on test:  0.0011341347828512068\n",
      "Non-zero elements:  41\n",
      "MSE simplified model 0.00154148839834995\n"
     ]
    }
   ],
   "source": [
    "testdata = os.path.join(os.getcwd(), 'test-data','08-18','IMMEC_dynamic_nonlinear_5.0sec.npz')\n",
    "\n",
    "#models = ['torque_ed_50']\n",
    "models = ['torque_ed_40']\n",
    "plot_function(models, testdata, 'torque', False, 'torque_d_nl')"
   ]
  },
  {
   "cell_type": "code",
   "execution_count": null,
   "id": "c69cf3a6-b359-4bc6-b3d8-1ba506f50bf6",
   "metadata": {},
   "outputs": [],
   "source": [
    "## ump dyn"
   ]
  },
  {
   "cell_type": "code",
   "execution_count": null,
   "id": "6d4c8766-4cbc-4e53-95a7-809327e082c1",
   "metadata": {},
   "outputs": [],
   "source": [
    "plot_optuna_data('models_februari//umpnonlinear_dynamic_50ecc-optuna-study') #323, 298, 415"
   ]
  },
  {
   "cell_type": "code",
   "execution_count": null,
   "id": "088182b8-a0c9-4947-ad2a-0f4b4ed93a05",
   "metadata": {},
   "outputs": [],
   "source": [
    "traindata = os.path.join(os.getcwd(), 'train-data', '08-16','IMMEC_dynamic_nonlinear_5.0sec.npz')\n",
    "#model =  make_model(traindata, modeltype='ump', optimizer =\"STLSQ\",\n",
    "#                    nmbr_of_train=-1, lib='poly_2nd_order', alpha = 0.7976, threshold = 0.0020,\n",
    "#                   modelname='ump_ed_150')\n",
    "#model =  make_model(traindata, modeltype='ump', optimizer =\"sr3\",\n",
    "#                    nmbr_of_train=-1, lib='poly_2nd_order', lamb = 5.716 , nu = 5.2345e-10,\n",
    "#                   modelname='ump_ed_160')\n",
    "model = make_model(traindata, modeltype='ump', optimizer =\"STLSQ\",\n",
    "                   nmbr_of_train=-1, lib='nonlinear_terms', alpha=7.38e-5, threshold = 0.001588,\n",
    "                   modelname='ump_ed_460')"
   ]
  },
  {
   "cell_type": "code",
   "execution_count": null,
   "id": "ab539589-1291-4f0f-86ad-fc48f646fd72",
   "metadata": {},
   "outputs": [],
   "source": [
    "testdata = os.path.join(os.getcwd(), 'test-data','08-18','IMMEC_dynamic_nonlinear_5.0sec.npz')\n",
    "\n",
    "#models = ['ump_ed_150']\n",
    "models = ['ump_ed_160']\n",
    "#models = ['ump_ed_460']\n",
    "\n",
    "plot_function(models, testdata, 'ump', False, 'ump_d_nl')"
   ]
  },
  {
   "cell_type": "code",
   "execution_count": null,
   "id": "4a361374-eebc-4870-bacd-81bae4f19adf",
   "metadata": {},
   "outputs": [],
   "source": [
    "## REFERENCE: UMP model 0!!\n",
    "traindata = os.path.join(os.getcwd(), 'train-data', '07-31-nonlin', 'IMMEC_nonlinear-0ecc_5.0sec.npz')\n",
    "plot_optuna_data('models_februari//umpnonlinear-optuna-study')"
   ]
  },
  {
   "cell_type": "code",
   "execution_count": null,
   "id": "74b5b981-1aa3-4bab-9e43-6cbd5881b886",
   "metadata": {},
   "outputs": [],
   "source": [
    "print(\"trial number= 494\")\n",
    "model = make_model(traindata, modeltype='ump', optimizer =\"lasso\",\n",
    "                   nmbr_of_train=-1, lib='torque', alpha=13.350245,\n",
    "                   modelname='ump_0')"
   ]
  },
  {
   "cell_type": "code",
   "execution_count": 11,
   "id": "1e0a5d52-5c91-4ebd-89dd-6c71c7a79a7a",
   "metadata": {},
   "outputs": [
    {
     "name": "stderr",
     "output_type": "stream",
     "text": [
      "C:\\Users\\emmav\\anaconda3\\envs\\sindy_abstract\\Lib\\site-packages\\pysindy\\feature_library\\generalized_library.py:101: UserWarning:\n",
      "\n",
      "inputs_per_library should no longer be passed as a numpy array\n",
      "\n"
     ]
    },
    {
     "name": "stdout",
     "output_type": "stream",
     "text": [
      "(i_d)' = 0.000\n",
      "(i_q)' = 0.000\n",
      "ecc input:  True\n",
      "Loading data\n",
      "Done loading data\n",
      "Calculating xdots\n",
      "Assume all t_vec are equal for all simulations\n",
      "Done calculating xdots\n",
      "MSE on test:  2.036428717364286\n",
      "Non-zero elements:  0\n"
     ]
    }
   ],
   "source": [
    "testdata = os.path.join(os.getcwd(), 'test-data', '08-07', 'IMMEC_nonlin_0ecc_5.0sec.npz')\n",
    "models = ['ump_0']\n",
    "\n",
    "plot_function(models, testdata, 'ump', False, 'ump_0')"
   ]
  }
 ],
 "metadata": {
  "kernelspec": {
   "display_name": "Python 3 (ipykernel)",
   "language": "python",
   "name": "python3"
  },
  "language_info": {
   "codemirror_mode": {
    "name": "ipython",
    "version": 3
   },
   "file_extension": ".py",
   "mimetype": "text/x-python",
   "name": "python",
   "nbconvert_exporter": "python",
   "pygments_lexer": "ipython3",
   "version": "3.12.8"
  }
 },
 "nbformat": 4,
 "nbformat_minor": 5
}
