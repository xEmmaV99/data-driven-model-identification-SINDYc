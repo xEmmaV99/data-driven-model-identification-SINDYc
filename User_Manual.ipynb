{
 "cells": [
  {
   "cell_type": "markdown",
   "id": "99a57450-04e4-4b30-9598-7401c5417db9",
   "metadata": {},
   "source": [
    "# User Manual: Sparse Identification of Induction Motor Nonlinear Dynamics in Unbalanced Conditions\n",
    "\n",
    "**Table of Contents**\n",
    "<!-- TOC -->\n",
    "* [Sparse Identification of Induction Motor Nonlinear Dynamics in Unbalanced Conditions](#sparse-identification-of-induction-motor-nonlinear-dynamics-in-unbalanced-conditions)\n",
    "  * [Configuration](#configuration)\n",
    "    * [Choice of Regularization / Optimizer](#choice-of-regularization-/-optimizer)\n",
    "    * [Choice of Library](#choice-of-library)\n",
    "  * [Usage](#usage)\n",
    "    * [1) Data Generation](#1-data-generation)\n",
    "    * [2) Data Preparation](#2-data-preparation)\n",
    "    * [3) Optimization of hyperparameters](#3-optimization-of-hyperparameters)\n",
    "    * [4) Model Identification](#4-model-identification)\n",
    "    * [5) Model Evaluation](#5-model-evaluation)\n",
    "  * [Additional Info](#additional-info)\n",
    "<!-- TOC -->"
   ]
  },
  {
   "cell_type": "markdown",
   "id": "1100bb93-2884-4768-9dad-a511f6075790",
   "metadata": {},
   "source": [
    "## Configuration\n",
    "### Choice of Regularization\n",
    "The choice of regularisation is important for the model creation. The implemented optimizers are `sr3`, `lasso` or `STLSQ` using l1, l1 and l2 regularisation. The choice of regularisation is randomised for the optuna studies (= hyperparameter selection) which means all optimisers are considered. Adding more optimisers is possible, but requires the following changes: \n",
    "- in `train_model_source`, a new optimizer instance needs to be created (be it from pysindy, or via `ps.WrappedOptimizer()` ) and passed to the `ps.SINDy()` model initialisation\n",
    "- in `optimize_parameters.optuna_search`, the `optimizer_list` should be extended with the corresponding str\n",
    "\n",
    "`sr3` optimises the function with objective $\\dot{X} = \\Theta(X)\\xi$ as follows (Champion et al. 2020):\n",
    "$$ ||\\dot{X}- \\Theta(X)\\xi ||^2_2 + \\lambda L_{1}(W) + 1/(2\\nu) * ||\\xi - W||^2_2$$\n",
    "and thus requires two parameters ($\\lambda , \\nu$).\n",
    "\n",
    "`STLSQ` optimises the objective (Brunton et al. 2016) by using hard thresholding on the coefficients:\n",
    "$$|| \\dot{X} - \\Theta(X)\\xi||^2_2 + \\alpha ||\\xi||^2_2$$\n",
    "and requires two parameters ($\\alpha,$ threshold).\n",
    "\n",
    "`Lasso` optimises the objective (see sklearn documentation) as follows\n",
    "$$ 1/(2n_{\\text{samples}}) * ||\\dot{X}- \\Theta(X)\\xi||^2_2 + \\alpha ||\\xi||_1$$\n",
    "and requires only one parameter $\\alpha$.\n",
    "\n",
    "### Choice of Library\n",
    "For SINDy to work, a library of candidate functions must be defined. \n",
    "Predefined libraries from pySINDy consist of polynomials or Fourier terms, though pySINDy allows for\n",
    "custom libraries to be defined and fine-tuned for each input variable. \n",
    "Some of our own libraries are predefined in `libs.py` and can be called by the user: `get_custom_library_funcs()`. For the optuna studies (= hyperparameter selection) the libraries are randomly chosen from the `get_library_names()` function inside `libs.py`. Note that optuna does not allow a dynamical search space for a categorial; thus changing the library list requires a new optuna study. "
   ]
  },
  {
   "cell_type": "markdown",
   "id": "f357f36c-b661-4e2f-8e55-4c7c3b09bb34",
   "metadata": {},
   "source": [
    "## Usage"
   ]
  },
  {
   "cell_type": "code",
   "execution_count": 1,
   "id": "1d1df1ca-a31e-4e6e-9229-cee008a9f2c5",
   "metadata": {},
   "outputs": [],
   "source": [
    "%matplotlib QtAgg\n",
    "import matplotlib.pyplot as plt\n",
    "\n",
    "import os\n",
    "from optimize_parameters import parameter_search, optimize_parameters, plot_optuna_data\n",
    "from source import *\n",
    "from train_model_source import make_model, simulate_model"
   ]
  },
  {
   "cell_type": "markdown",
   "id": "bac21d19-1912-46c9-82a8-91bdec7d849d",
   "metadata": {},
   "source": [
    "### 1) Data Generation\n",
    "The data generation is completely distict from the other aspects of the project. \n",
    "It uses the time-stepping solver IMMEC to model the induction machine and obtain the data.\n",
    "The user can generate the data by running the script `data_generation.py` and setting the parameters in the script.\n",
    "The user can choose to generate test or training data, resulting in one or multiple (`numbr_of_simulations`) \n",
    "simulations respectively. An initial eccentricity can also be set by `ecc_value` (value between 0 and 1) and `ecc_dir` \n",
    "(the direction in $x, y$ coordinates). The mode can be set to `linear`or `nonlinear` to simulate the machine.\n",
    "\n",
    "The function automatically creates a folder inside the `train-data` or `test-data` folder with the name of the date, \n",
    "and saves the simulation data in a `.npz`-file with the name provided by the user by `save_name`.\n",
    "\n",
    "The `.npz`-file contains the following arrays:\n",
    "- `i_st` - Stator current\n",
    "- `omega_rot` - Rotor angular speed\n",
    "- `T_em` - Electromagnetic torque\n",
    "- `F_em` - Electromagnetic force or UMP\n",
    "- `v_applied` - Applied line voltages\n",
    "- `T_l` - Load torque\n",
    "- `ecc` - Eccentricity\n",
    "- `time` - Simulated time\n",
    "- `flux_st_yoke` - Stator yoke flux\n",
    "- `gamma_rot` - Rotor angle\n",
    "- `wcoe` - Magnetic coenergy\n",
    "\n",
    "If multiple simulations are saved in one file, which is the case for traindata, \n",
    "the arrays have an additional (3rd) dimension for each simulation."
   ]
  },
  {
   "cell_type": "code",
   "execution_count": 2,
   "id": "422b55a9-a8d9-4ccb-b7d2-ce8a1eda8a96",
   "metadata": {},
   "outputs": [],
   "source": [
    "### DATA TRAINING FILES\n",
    "path_to_data_files = os.path.join(os.getcwd(), 'train-data', '07-29-default', 'IMMEC_0ecc_5.0sec.npz')\n",
    "\n",
    "### DATA TEST FILES\n",
    "path_to_test_file = os.path.join(os.getcwd(), 'test-data', '07-29-default', 'IMMEC_0ecc_5.0sec.npz')"
   ]
  },
  {
   "cell_type": "code",
   "execution_count": 3,
   "id": "7d5c770d-da90-4159-9420-091a45c5a18f",
   "metadata": {},
   "outputs": [
    {
     "name": "stdout",
     "output_type": "stream",
     "text": [
      "d_air hardcoded for Cantoni\n"
     ]
    }
   ],
   "source": [
    "### Visualise the data\n",
    "plot_immec_data(path_to_data_files, simulation_number = 10, title= \"Train\")"
   ]
  },
  {
   "cell_type": "code",
   "execution_count": 7,
   "id": "973836db-0cc7-466b-9481-ffeae6457677",
   "metadata": {},
   "outputs": [
    {
     "name": "stdout",
     "output_type": "stream",
     "text": [
      "d_air hardcoded for Cantoni\n"
     ]
    }
   ],
   "source": [
    "plot_immec_data(path_to_test_file, title=\"Test\")"
   ]
  },
  {
   "cell_type": "markdown",
   "id": "536e3847-a1aa-4537-a129-df24df0a7d8d",
   "metadata": {},
   "source": [
    "### 2) Data Preparation\n",
    "In order to create a model, the training data must be prepared. This is done in the script `data_preparation.py`, which is \n",
    "called by the  `prepare_data()` function during training and postprocessing by other scripts. The user can call this function if desired,\n",
    "but this is not necessary. The function takes the following arguments:\n",
    "- `path_to_data_file` - Path to the `.npz`-file containing the data\n",
    "- `test_data` - default False, this omits the extra preparation needed for trainingdata\n",
    "- `number_of_trainfiles` - default -1 (all files), can be set to a number if not all simulations should be considered. The choice of selected simulations is random. This can be useful to reduce the training samples for large datasets.\n",
    "- `use_estimate_for_v` - default False, if True, the `v_abc` are estimated from the line voltages.\n",
    "- `usage_per_trainfile` - default 0.5, the percentage of the data used from each simulation.\n",
    "- `ecc_input`- default False, if True, the eccentricity is used as an input variable to the model.\n",
    "\n",
    "The function returns a dictionary containing the following arrays:\n",
    "- `x`- Currents\n",
    "- `u`- Input values, if `ecc_input` is True, the eccentricity is also included\n",
    "- `xdot` - Time derivative of the currents\n",
    "- `feature_names` - Names of the features to pass to the SINDy model\n",
    "\n",
    "Additionally, as one might want to fit a SINDy model for the torque or UMP (by replacing `xdot`), the following are also present:\n",
    "- `UMP` - Unbalanced magnetic pull\n",
    "- `T_em` - Electromagnetic torque\n",
    "- `wcoe` - The magentic coenergy\n",
    "\n",
    "\n",
    "\n",
    "If the data is trainingsdata, it is split up into train and validation data (80% - 20%), in which case the dictionary also contains all the previous values but ending with `_train` and `_val`. Note that for model creation, the torque or UMP can be passed through `xdot` for solving e.g. \n",
    "$$ T = f(x,u) $$ instead of $\\dot{x} = f(x,u) $."
   ]
  },
  {
   "cell_type": "markdown",
   "id": "3771129a-eae8-4adc-a9da-019f5b95572f",
   "metadata": {},
   "source": [
    "### 3) Optimization of hyperparameters\n",
    "Assuming the data generation is done, the user can start the optimization of the hyperparameters. \n",
    "\n",
    "As described in [this section](#choice-of-regularisation), the Lasso and SR3 regulators are considered, \n",
    "yielding 1 and 2 hyperparameters respectively. Hence, the validation data is used to select the best parameter values. \n",
    "This can be combined with various selections of library candidate functions, enlarging the search-space.\n",
    "\n",
    "For this purpose, a Python package called `Optuna` is used, which searches for the pareto-optimal solution. \n",
    "The user can initialise a study by calling the function `optimize_parameters()` from the script `optimize_parameters.py`, by which a study is created.\n",
    "The function requires the following arguments:\n",
    "- `path_to_data_files` - Path to the `.npz`-file containing the training data\n",
    "- `mode`- default 'torque', can be set to 'ump', 'currents' or 'wcoe', specifying what the model predicts\n",
    "- `additional_name` - default None, a string that is added to the name of the study\n",
    "- `n_jobs` - default 1, number of cores to be used for the optimization, to run in paralell\n",
    "- `n_trials` - default 100, number of trials to be performed per core\n",
    "\n",
    "The ranges of the parameters are predefined inside the function, but can be changed by the user. \n",
    "The library candidate functions are called from `libs.py` by the function `get_library_names()` during the search. \n",
    "The user should set the desired libraries by changing the returned values of this function. \n",
    "\n",
    "The resulting study is saved in the `optuna_studies` folder, which can be accessed by calling the `plot_optuna_data()` function from the same script.\n"
   ]
  },
  {
   "cell_type": "code",
   "execution_count": 3,
   "id": "27a03147-84d7-4db7-a1b1-cbb4c41f2b44",
   "metadata": {},
   "outputs": [
    {
     "name": "stdout",
     "output_type": "stream",
     "text": [
      "ecc_input = False\n",
      "Loading data\n",
      "Done loading data\n",
      "Calculating xdots\n",
      "Assume all t_vec are equal for all simulations\n",
      "Done calculating xdots\n",
      "time trim:  0.5\n"
     ]
    },
    {
     "name": "stderr",
     "output_type": "stream",
     "text": [
      "[I 2024-08-19 18:31:08,358] A new study created in RDB with name: optuna_studies//torque_jupyter-optuna-study\n",
      "[I 2024-08-19 18:31:08,417] Using an existing study with name 'optuna_studies//torque_jupyter-optuna-study' instead of creating a new one.\n",
      "C:\\Users\\emmav\\anaconda3\\envs\\immec_env\\Lib\\site-packages\\pysindy\\utils\\axes.py:126: AxesWarning: 2 axes labeled for array with 1 axes\n",
      "  warnings.warn(\n",
      "C:\\Users\\emmav\\anaconda3\\envs\\immec_env\\Lib\\site-packages\\pysindy\\utils\\axes.py:126: AxesWarning: 2 axes labeled for array with 1 axes\n",
      "  warnings.warn(\n",
      "[I 2024-08-19 18:31:17,768] Trial 0 finished with values: [0.021982061753283082, 35.0] and parameters: {'lib_choice': 'linear-specific', 'optimizer': 'lasso', 'alphas': 1.3431689039625701e-05}. \n"
     ]
    }
   ],
   "source": [
    "### Optimising parameters takes a long time to run\n",
    "optimize_parameters(path_to_data_files, \n",
    "                    mode=\"torque\", \n",
    "                    additional_name=\"_jupyter\",\n",
    "                    n_jobs = 1, n_trials = 1,\n",
    "                    ecc_input=False)\n",
    "# generates only one trial, usually 1000 is more desired"
   ]
  },
  {
   "cell_type": "code",
   "execution_count": 4,
   "id": "d878f0db-5d80-4138-a3a6-7a3bc62b5d0a",
   "metadata": {},
   "outputs": [
    {
     "name": "stderr",
     "output_type": "stream",
     "text": [
      "[I 2024-08-23 11:33:27,703] Study name was omitted but trying to load 'optuna_studies//torque_jupyter-optuna-study' because that was the only study found in the storage.\n"
     ]
    },
    {
     "name": "stdout",
     "output_type": "stream",
     "text": [
      "['optuna_studies//torque_jupyter-optuna-study']\n",
      "Trial count: 1\n"
     ]
    },
    {
     "name": "stderr",
     "output_type": "stream",
     "text": [
      "[I 2024-08-23 11:33:29,328] Study name was omitted but trying to load 'optuna_studies//torquelinear-optuna-study' because that was the only study found in the storage.\n"
     ]
    },
    {
     "name": "stdout",
     "output_type": "stream",
     "text": [
      "['optuna_studies//torquelinear-optuna-study']\n",
      "Trial count: 1000\n"
     ]
    }
   ],
   "source": [
    "### Plot the study\n",
    "plot_optuna_data('torque_jupyter-optuna-study')\n",
    "### or a premade study\n",
    "plot_optuna_data('torquelinear_premade-optuna-study')"
   ]
  },
  {
   "cell_type": "markdown",
   "id": "8fe42a9c-037e-4751-8eaa-a3019afa8dc5",
   "metadata": {},
   "source": [
    "### 4) Model Identification\n",
    "Now the desired hyperparameters and optimiser are known, the user can start the model identification. \n",
    "This is done by calling the function `make_model()` from the script `train_model_source.py`. The function requires the following arguments:\n",
    "- `path_to_data_files` - Path to the `.npz`-file containing the training data\n",
    "- `modeltype`- Can be set to 'torque', 'ump', 'torque-ump', 'currents' or 'wcoe', specifying what the model predicts\n",
    "- `optimizer`- Either 'lasso' or 'sr3', specifying the regularisation method\n",
    "- `lib` - The chosen library candidate functions\n",
    "- `nmbr_of_train` - default -1 (all files), can be set to a number if not all simulations should be considered.\n",
    "- `alpha` - default None, the regularisation parameter for lasso\n",
    "- `nu` - default None, the first regularisation parameter for sr3\n",
    "- `lamb` - default None, the second regularisation parameter for sr3\n",
    "- `model_name` - default None, a string that is added to the name of the model\n",
    "\n",
    "When a model is created, it is saved as a `.pkl`-file in the `models` folder. The model can be loaded by calling the `load_model()` function from `source.py`.\n",
    "\n",
    "Note that the `AxesWarning` comes from pysindy and cannot be turned off. The error has to do with the one-dimensional vector (Torque or W_co) having the shape (n,) instead of (n,1). "
   ]
  },
  {
   "cell_type": "code",
   "execution_count": 9,
   "id": "172142f0-29c2-4e1c-a906-e887aac71387",
   "metadata": {},
   "outputs": [
    {
     "name": "stdout",
     "output_type": "stream",
     "text": [
      "ecc input: True\n",
      "Loading data\n",
      "Done loading data\n",
      "Calculating xdots\n",
      "Assume all t_vec are equal for all simulations\n",
      "Done calculating xdots\n",
      "time trim:  0.5\n",
      "Zero ecc, not added to input data\n",
      "SR3_L1 optimisation\n",
      "Fitting model\n"
     ]
    },
    {
     "name": "stderr",
     "output_type": "stream",
     "text": [
      "C:\\Users\\emmav\\anaconda3\\envs\\immec_env\\Lib\\site-packages\\pysindy\\utils\\axes.py:126: AxesWarning:\n",
      "\n",
      "2 axes labeled for array with 1 axes\n",
      "\n"
     ]
    },
    {
     "name": "stdout",
     "output_type": "stream",
     "text": [
      "(i_d)' = -0.0006291776 1 + -0.1338899272 i_d + 0.1904517492 i_q + 1.5241252377 v_d + 0.8603132026 v_q + 0.0005917922 v_0 + -1.7794931954 I_d + 1.2676031916 I_q + 0.1395307204 V_d + -0.2623416482 V_q + -0.0160969501 V_0 + -0.0071486507 \\omega + 0.0000310678 f + -0.0002912295 i_d^2 + -0.0005683878 i_d i_q + 0.0000850227 i_d v_d + 0.0000567212 i_d v_q + -0.0000212265 i_d v_0 + -0.3443391978 i_d I_d + 6.7397911456 i_d I_q + 0.0606778720 i_d V_d + -0.9235090793 i_d V_q + 0.0067666844 i_d V_0 + -0.0000071440 i_d \\omega + 0.0000213525 i_d f + -0.0002995962 i_q^2 + -0.0000489452 i_q v_d + 0.0000925376 i_q v_q + -0.0000062224 i_q v_0 + -6.7500520176 i_q I_d + -0.4625782648 i_q I_q + 0.9214469685 i_q V_d + 0.0620356447 i_q V_q + -0.0177279593 i_q V_0 + -0.0000170423 i_q \\omega + 0.0000996364 i_q f + -0.0000074655 v_d^2 + -0.0000000570 v_d v_q + 0.0000000209 v_d v_0 + 0.0253811115 v_d I_d + -0.0484512414 v_d I_q + -1.3773275079 v_d V_d + -0.0049801819 v_d V_q + -0.0001330742 v_d V_0 + 0.0000000256 v_d \\omega + -0.0000074951 v_q^2 + 0.0000002962 v_q v_0 + 0.0502264914 v_q I_d + 0.0262240586 v_q I_q + 0.0049789147 v_q V_d + -1.3773705094 v_q V_q + 0.0001147351 v_q V_0 + 0.0000000840 v_q \\omega + -0.0000002902 v_q f + -0.0000050840 v_0^2 + -0.0001549570 v_0 I_d + -0.0048875015 v_0 I_q + -0.0000723958 v_0 V_d + 0.0000189394 v_0 V_q + -0.0076326116 v_0 V_0 + -0.0000000362 v_0 \\omega + 0.0000004211 v_0 f + 1.7450616171 I_d^2 + -0.2303451749 I_d I_q + 0.2466860497 I_d V_d + 1.2340538767 I_d V_q + -0.0033901432 I_d V_0 + -0.0014784699 I_d \\omega + 0.0000566173 I_d f + -0.5902520839 I_q^2 + -1.3298398922 I_q V_d + 0.5713453821 I_q V_q + -0.0019101344 I_q V_0 + -0.0133139842 I_q \\omega + 0.0026707540 I_q f + -0.0121484174 V_d^2 + 0.0066055129 V_d V_q + -0.0185538513 V_d V_0 + -0.0005740693 V_d \\omega + -0.0000322937 V_d f + -0.0140639620 V_q^2 + -0.0211654331 V_q V_0 + 0.0018183809 V_q \\omega + -0.0001887161 V_q f + 0.0000003738 V_0^2 + -0.0006458301 V_0 \\omega + 0.0049628571 V_0 f + 0.0000121431 \\omega^2 + -0.0000000315 \\omega f + -0.0000007783 f^2 + -0.0000339190 sin(1 \\gamma) + -0.0000069063 cos(1 \\gamma)\n",
      "Non-zero elements:  92\n"
     ]
    },
    {
     "name": "stderr",
     "output_type": "stream",
     "text": [
      "C:\\Users\\emmav\\anaconda3\\envs\\immec_env\\Lib\\site-packages\\pysindy\\utils\\axes.py:126: AxesWarning:\n",
      "\n",
      "2 axes labeled for array with 1 axes\n",
      "\n"
     ]
    },
    {
     "name": "stdout",
     "output_type": "stream",
     "text": [
      "MSE: 2.3046952778851247e-06\n",
      "Saving model\n"
     ]
    }
   ],
   "source": [
    "saved_model = make_model(path_to_data_files, modeltype='torque', optimizer='sr3',\n",
    "                   nmbr_of_train=-1, lib='poly_2nd_order', nu=1.978e-10, lamb=5.3e-9,\n",
    "                   modelname='jupyter_example')\n",
    "print(saved_model)"
   ]
  },
  {
   "cell_type": "markdown",
   "id": "da8240ba-b53a-4592-b73f-aeb1b30178fc",
   "metadata": {},
   "source": [
    "### 5) Model Evaluation\n",
    "Now, the model's performance can be evaluated on the test data. This is done by calling the function `simulate_model()`\n",
    "from the script `train_model_source.py`. The function requires the following arguments:\n",
    "- `model_name` - The name of the model from the `models` folder\n",
    "- `path_to_test_file` - Path to the `.npz`-file containing the test data\n",
    "- `modeltype`- Can be set to 'torque', 'ump', 'torque-ump', 'currents' or 'wcoe', specifying what the model predicts\n",
    "- `do_time_simulation` - default False, only relevant if `modeltype` == 'currents'. Then the `xdot` is solved by `solve_ivp` \n",
    "to retrieve the prediction of `x`\n",
    "\n",
    "This function returns the predicted and expected values. These can also be plotted in the frequency domain by the `plot_fourier()` function from `source.py`."
   ]
  },
  {
   "cell_type": "code",
   "execution_count": 11,
   "id": "cd46da6a-87db-4e11-a1ac-5a6154a97716",
   "metadata": {},
   "outputs": [
    {
     "name": "stdout",
     "output_type": "stream",
     "text": [
      "(i_d)' = -0.001 1 + -0.134 i_d + 0.190 i_q + 1.524 v_d + 0.860 v_q + 0.001 v_0 + -1.779 I_d + 1.268 I_q + 0.140 V_d + -0.262 V_q + -0.016 V_0 + -0.007 \\omega + -0.001 i_d i_q + -0.344 i_d I_d + 6.740 i_d I_q + 0.061 i_d V_d + -0.924 i_d V_q + 0.007 i_d V_0 + -6.750 i_q I_d + -0.463 i_q I_q + 0.921 i_q V_d + 0.062 i_q V_q + -0.018 i_q V_0 + 0.025 v_d I_d + -0.048 v_d I_q + -1.377 v_d V_d + -0.005 v_d V_q + 0.050 v_q I_d + 0.026 v_q I_q + 0.005 v_q V_d + -1.377 v_q V_q + -0.005 v_0 I_q + -0.008 v_0 V_0 + 1.745 I_d^2 + -0.230 I_d I_q + 0.247 I_d V_d + 1.234 I_d V_q + -0.003 I_d V_0 + -0.001 I_d \\omega + -0.590 I_q^2 + -1.330 I_q V_d + 0.571 I_q V_q + -0.002 I_q V_0 + -0.013 I_q \\omega + 0.003 I_q f + -0.012 V_d^2 + 0.007 V_d V_q + -0.019 V_d V_0 + -0.001 V_d \\omega + -0.014 V_q^2 + -0.021 V_q V_0 + 0.002 V_q \\omega + -0.001 V_0 \\omega + 0.005 V_0 f\n",
      "ecc input:  False\n",
      "Loading data\n",
      "Done loading data\n",
      "Calculating xdots\n",
      "Assume all t_vec are equal for all simulations\n",
      "Done calculating xdots\n",
      "MSE on test:  1.5279323936674303e-06\n",
      "Non-zero elements:  92\n",
      "MSE simplified model 2.8984220512564188e-05\n"
     ]
    }
   ],
   "source": [
    "model = saved_model\n",
    "pred, test = simulate_model(model, path_to_test_file, modeltype=\"torque\", do_time_simulation=False, show=True)"
   ]
  },
  {
   "cell_type": "markdown",
   "id": "d0466e3b-8928-4dde-8107-2ed8b2dd63c8",
   "metadata": {},
   "source": [
    "## Additional Information\n",
    "The results from this summer internship are present in this git repository, and can be reproduced using the following scripts:\n",
    "\n",
    "- `run_optuna_studies.py` (not recommended to run, creates 16x1000 models and requires a lot of memory + time)\n",
    "- `model_creation_and_post_process.ipynb` notebook for visualising the optuna studies, creating and testing (pareto-optimal) models\n",
    "- For creating the new figures (e.g. optuna studies via matplotlib), one should check the `temp_optuna_plot.py` script."
   ]
  }
 ],
 "metadata": {
  "kernelspec": {
   "display_name": "Python 3 (ipykernel)",
   "language": "python",
   "name": "python3"
  },
  "language_info": {
   "codemirror_mode": {
    "name": "ipython",
    "version": 3
   },
   "file_extension": ".py",
   "mimetype": "text/x-python",
   "name": "python",
   "nbconvert_exporter": "python",
   "pygments_lexer": "ipython3",
   "version": "3.12.4"
  }
 },
 "nbformat": 4,
 "nbformat_minor": 5
}
