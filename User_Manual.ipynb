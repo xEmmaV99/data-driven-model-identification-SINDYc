{
 "cells": [
  {
   "cell_type": "markdown",
   "id": "99a57450-04e4-4b30-9598-7401c5417db9",
   "metadata": {},
   "source": [
    "# User Manual: Sparse Identification of Induction Motor Nonlinear Dynamics in Unbalanced Conditions\n",
    "\n",
    "**Table of Contents**\n",
    "<!-- TOC -->\n",
    "* [Sparse Identification of Induction Motor Nonlinear Dynamics in Unbalanced Conditions](#sparse-identification-of-induction-motor-nonlinear-dynamics-in-unbalanced-conditions)\n",
    "  * [Configuration](#configuration)\n",
    "    * [Choice of Regularization / Optimizer](#choice-of-regularization-/-optimizer)\n",
    "    * [Choice of Library](#choice-of-library)\n",
    "  * [Usage](#usage)\n",
    "    * [1) Data Generation](#1-data-generation)\n",
    "    * [2) Data Preparation](#2-data-preparation)\n",
    "    * [3) Optimization of hyperparameters](#3-optimization-of-hyperparameters)\n",
    "    * [4) Model Identification](#4-model-identification)\n",
    "    * [5) Model Evaluation](#5-model-evaluation)\n",
    "  * [Additional Info](#additional-info)\n",
    "<!-- TOC -->"
   ]
  },
  {
   "cell_type": "markdown",
   "id": "1100bb93-2884-4768-9dad-a511f6075790",
   "metadata": {},
   "source": [
    "## Configuration\n",
    "### Choice of Regularization / Optimizer\n",
    "sr3, lasso or STLSQ\n",
    "\n",
    "\n",
    "### Choice of Library\n",
    "For SINDy to work, a library of candidate functions must be defined. \n",
    "Predefined libraries from pySINDy are polynomials or Fourier terms, though pySINDy allows for\n",
    "custom libraries to be defined and fine-tuned for each input variable. \n",
    "Some of our own libraries are predefined in `libs.py` and can be called by the user: `get_custom_library_funcs()`."
   ]
  },
  {
   "cell_type": "code",
   "execution_count": 1,
   "id": "1d1df1ca-a31e-4e6e-9229-cee008a9f2c5",
   "metadata": {},
   "outputs": [],
   "source": [
    "%matplotlib QtAgg\n",
    "import matplotlib.pyplot as plt\n",
    "\n",
    "import os\n",
    "from optimize_parameters import parameter_search, optimize_parameters, plot_optuna_data\n",
    "from source import *\n",
    "from train_model_source import make_model, simulate_model"
   ]
  },
  {
   "cell_type": "markdown",
   "id": "f357f36c-b661-4e2f-8e55-4c7c3b09bb34",
   "metadata": {},
   "source": [
    "## Usage"
   ]
  },
  {
   "cell_type": "markdown",
   "id": "bac21d19-1912-46c9-82a8-91bdec7d849d",
   "metadata": {},
   "source": [
    "### 1) Data Generation\n",
    "The data generation is completely distict from the other aspects of the project. \n",
    "It uses the time-stepping solver IMMEC to model the induction machine and obtain the data.\n",
    "The user can generate the data by running the script `data_generation.py` and setting the parameters in the script.\n",
    "The user can choose to generate test or training data, resulting in one or multiple (`numbr_of_simulations`) \n",
    "simulations respectively. An initial eccentricity can also be set by `ecc_value` (value between 0 and 1) and `ecc_dir` \n",
    "(the direction in $`x, y`$ coordinates). The mode can be set to `linear`or `nonlinear` to simulate the machine.\n",
    "\n",
    "The function automatically creates a folder inside the `train-data` or `test-data` folder with the name of the date, \n",
    "and saves the simulation data in a `.npz`-file with the name provided by the user by `save_name`.\n",
    "\n",
    "The `.npz`-file contains the following arrays:\n",
    "- `i_st` - Stator current\n",
    "- `omega_rot` - Rotor angular speed\n",
    "- `T_em` - Electromagnetic torque\n",
    "- `F_em` - Electromagnetic force or UMP\n",
    "- `v_applied` - Applied line voltages\n",
    "- `T_l` - Load torque\n",
    "- `ecc` - Eccentricity\n",
    "- `time` - Simulated time\n",
    "- `flux_st_yoke` - Stator yoke flux\n",
    "- `gamma_rot` - Rotor angle\n",
    "- `wcoe` - Magnetic coenergy\n",
    "\n",
    "If multiple simulations are saved in one file, which is the case for traindata, \n",
    "the arrays have an additional (3rd) dimension for each simulation."
   ]
  },
  {
   "cell_type": "code",
   "execution_count": 2,
   "id": "422b55a9-a8d9-4ccb-b7d2-ce8a1eda8a96",
   "metadata": {},
   "outputs": [],
   "source": [
    "### DATA TRAINING FILES\n",
    "path_to_data_files = os.path.join(os.getcwd(), 'train-data', '07-29-default', 'IMMEC_0ecc_5.0sec.npz')\n",
    "\n",
    "### DATA TEST FILES\n",
    "path_to_test_file = os.path.join(os.getcwd(), 'test-data', '07-29', 'IMMEC_0ecc_5.0sec.npz')"
   ]
  },
  {
   "cell_type": "code",
   "execution_count": 3,
   "id": "7d5c770d-da90-4159-9420-091a45c5a18f",
   "metadata": {},
   "outputs": [],
   "source": [
    "### Visualise the data\n",
    "plot_immec_data(path_to_data_files, simulation_number = 10, title= \"Train\")"
   ]
  },
  {
   "cell_type": "code",
   "execution_count": 4,
   "id": "973836db-0cc7-466b-9481-ffeae6457677",
   "metadata": {},
   "outputs": [],
   "source": [
    "plot_immec_data(path_to_test_file, title=\"Test\")"
   ]
  },
  {
   "cell_type": "markdown",
   "id": "536e3847-a1aa-4537-a129-df24df0a7d8d",
   "metadata": {},
   "source": [
    "### 2) Data Preparation\n",
    "In order to create a model, the training data must be prepared. This is done in the script `data_preparation.py`, which is \n",
    "called by the  `prepare_data()` function during training and postprocessing by other scripts. The user can call this function if desired,\n",
    "but this is not necessary. The function takes the following arguments:\n",
    "- `path_to_data_file` - Path to the `.npz`-file containing the data\n",
    "- `test_data` - default False, this omits the extra preparation needed for trainingdata\n",
    "- `number_of_trainfiles` - default -1 (all files), can be set to a number if not all simulations should be considered. The choice of selected simulations is random. This can be useful to reduce the training samples for large datasets.\n",
    "- `use_estimate_for_v` - default False, if True, the `v_abc` are estimated from the line voltages.\n",
    "- `usage_per_trainfile` - default 0.5, the percentage of the data used from each simulation.\n",
    "- `ecc_input`- default False, if True, the eccentricity is used as an input variable to the model.\n",
    "\n",
    "The function returns a dictionary containing the following arrays:\n",
    "- `x`- Currents\n",
    "- `u`- Input values, if `ecc_input` is True, the eccentricity is also included\n",
    "- `xdot` - Time derivative of the currents\n",
    "- `feature_names` - Names of the features to pass to the SINDy model\n",
    "\n",
    "Additionally, as one might want to fit a SINDy model for the torque or UMP (by replacing `xdot`), the following are also present:\n",
    "- `UMP` - Unbalanced magnetic pull\n",
    "- `T_em` - Electromagnetic torque\n",
    "- `wcoe` - The magentic coenergy\n",
    "\n",
    "\n",
    "\n",
    "If the data is trainingsdata, it is split up into train and validation data (80% - 20%),    \n",
    "in which case the dictionary also contains all the previous values but ending with `_train` and `_val`. "
   ]
  },
  {
   "cell_type": "markdown",
   "id": "3771129a-eae8-4adc-a9da-019f5b95572f",
   "metadata": {},
   "source": [
    "### 3) Optimization of hyperparameters\n",
    "Assuming the data generation is done, the user can start the optimization of the hyperparameters. \n",
    "\n",
    "As described in [this section](#choice-of-regularisation), the Lasso and SR3 regulators are considered, \n",
    "yielding 1 and 2 hyperparameters respectively. Hence, the validation data is used to select the best parameter values. \n",
    "This can be combined with various selections of library candidate functions, enlarging the search-space.\n",
    "\n",
    "For this purpose, a Python package called `Optuna` is used, which searches for the pareto-optimal solution. \n",
    "The user can initialise a study by calling the function `optimize_parameters()` from the script `optimize_parameters.py`, by which a study is created.\n",
    "The function requires the following arguments:\n",
    "- `path_to_data_files` - Path to the `.npz`-file containing the training data\n",
    "- `mode`- default 'torque', can be set to 'ump', 'currents' or 'wcoe', specifying what the model predicts\n",
    "- `additional_name` - default None, a string that is added to the name of the study\n",
    "- `n_jobs` - default 1, number of cores to be used for the optimization, to run in paralell\n",
    "- `n_trials` - default 100, number of trials to be performed per core\n",
    "\n",
    "The ranges of the parameters are predefined inside the function, but can be changed by the user. \n",
    "The library candidate functions are called from `libs.py` by the function `get_library_names()` during the search. \n",
    "The user should set the desired libraries by changing the returned values of this function. \n",
    "\n",
    "The resulting study is saved in the `optuna_studies` folder, which can be accessed by calling the `plot_optuna_data()` function from the same script.\n"
   ]
  },
  {
   "cell_type": "code",
   "execution_count": null,
   "id": "27a03147-84d7-4db7-a1b1-cbb4c41f2b44",
   "metadata": {},
   "outputs": [
    {
     "name": "stdout",
     "output_type": "stream",
     "text": [
      "ecc_input = True\n",
      "Loading data\n",
      "Done loading data\n",
      "Calculating xdots\n",
      "Assume all t_vec are equal\n",
      "Done calculating xdots\n",
      "time trim:  0.5\n",
      "No ecc\n"
     ]
    },
    {
     "name": "stderr",
     "output_type": "stream",
     "text": [
      "[I 2024-08-13 13:57:47,919] A new study created in RDB with name: torquetorque_jupyter-optuna-study\n",
      "C:\\Users\\emmav\\anaconda3\\envs\\immec_env\\Lib\\site-packages\\pysindy\\utils\\axes.py:126: AxesWarning: 2 axes labeled for array with 1 axes\n",
      "  warnings.warn(\n",
      "C:\\Users\\emmav\\anaconda3\\envs\\immec_env\\Lib\\site-packages\\pysindy\\utils\\axes.py:126: AxesWarning: 2 axes labeled for array with 1 axes\n",
      "  warnings.warn(\n",
      "[I 2024-08-13 13:58:35,006] Trial 0 finished with values: [0.8431076537888884, 0.0] and parameters: {'lib_choice': 'poly_2nd_order', 'optimizer': 'sr3', 'lambdas': 16.513471641014835, 'nus': 0.02665887012807107}. \n",
      "C:\\Users\\emmav\\anaconda3\\envs\\immec_env\\Lib\\site-packages\\pysindy\\utils\\axes.py:126: AxesWarning: 2 axes labeled for array with 1 axes\n",
      "  warnings.warn(\n",
      "C:\\Users\\emmav\\anaconda3\\envs\\immec_env\\Lib\\site-packages\\pysindy\\utils\\axes.py:126: AxesWarning: 2 axes labeled for array with 1 axes\n",
      "  warnings.warn(\n",
      "[I 2024-08-13 13:59:30,939] Trial 1 finished with values: [0.0024937965234715954, 61.0] and parameters: {'lib_choice': 'poly_2nd_order', 'optimizer': 'lasso', 'alphas': 0.00022056127528053627}. \n",
      "C:\\Users\\emmav\\anaconda3\\envs\\immec_env\\Lib\\site-packages\\pysindy\\utils\\axes.py:126: AxesWarning: 2 axes labeled for array with 1 axes\n",
      "  warnings.warn(\n",
      "C:\\Users\\emmav\\anaconda3\\envs\\immec_env\\Lib\\site-packages\\pysindy\\utils\\axes.py:126: AxesWarning: 2 axes labeled for array with 1 axes\n",
      "  warnings.warn(\n",
      "[I 2024-08-13 14:03:54,298] Trial 2 finished with values: [0.9668717010378006, 2.0] and parameters: {'lib_choice': 'nonlinear_terms', 'optimizer': 'sr3', 'lambdas': 0.23650165476045204, 'nus': 5.133499992504579e-07}. \n",
      "C:\\Users\\emmav\\anaconda3\\envs\\immec_env\\Lib\\site-packages\\pysindy\\utils\\axes.py:126: AxesWarning: 2 axes labeled for array with 1 axes\n",
      "  warnings.warn(\n",
      "C:\\Users\\emmav\\anaconda3\\envs\\immec_env\\Lib\\site-packages\\pysindy\\utils\\axes.py:126: AxesWarning: 2 axes labeled for array with 1 axes\n",
      "  warnings.warn(\n",
      "[I 2024-08-13 14:07:33,505] Trial 3 finished with values: [0.8431076537888884, 0.0] and parameters: {'lib_choice': 'nonlinear_terms', 'optimizer': 'sr3', 'lambdas': 8.846775027962632, 'nus': 0.007695000966948789}. \n",
      "C:\\Users\\emmav\\anaconda3\\envs\\immec_env\\Lib\\site-packages\\pysindy\\utils\\axes.py:126: AxesWarning: 2 axes labeled for array with 1 axes\n",
      "  warnings.warn(\n",
      "C:\\Users\\emmav\\anaconda3\\envs\\immec_env\\Lib\\site-packages\\pysindy\\utils\\axes.py:126: AxesWarning: 2 axes labeled for array with 1 axes\n",
      "  warnings.warn(\n",
      "[I 2024-08-13 14:08:05,664] Trial 4 finished with values: [0.011922172010682538, 45.0] and parameters: {'lib_choice': 'linear-specific', 'optimizer': 'sr3', 'lambdas': 1.6916430851697833e-09, 'nus': 9.519241389405288e-11}. \n",
      "[I 2024-08-13 14:08:06,376] Using an existing study with name 'torquetorque_jupyter-optuna-study' instead of creating a new one.\n",
      "C:\\Users\\emmav\\anaconda3\\envs\\immec_env\\Lib\\site-packages\\pysindy\\utils\\axes.py:126: AxesWarning: 2 axes labeled for array with 1 axes\n",
      "  warnings.warn(\n"
     ]
    }
   ],
   "source": [
    "### Optimising parameters takes a long time to run\n",
    "#optimize_parameters(path_to_data_files, mode=\"torque\", additional_name=\"_jupyter\", n_jobs = 1, n_trials = 5)"
   ]
  },
  {
   "cell_type": "code",
   "execution_count": 5,
   "id": "d878f0db-5d80-4138-a3a6-7a3bc62b5d0a",
   "metadata": {},
   "outputs": [
    {
     "name": "stderr",
     "output_type": "stream",
     "text": [
      "[I 2024-08-13 15:18:08,337] Study name was omitted but trying to load 'torquelinear-optuna-study' because that was the only study found in the storage.\n"
     ]
    },
    {
     "name": "stdout",
     "output_type": "stream",
     "text": [
      "['torquelinear-optuna-study']\n",
      "Trial count: 3394\n"
     ]
    }
   ],
   "source": [
    "### Plot a premade study\n",
    "plot_optuna_data('torquelinear-optuna-study')"
   ]
  },
  {
   "cell_type": "markdown",
   "id": "8fe42a9c-037e-4751-8eaa-a3019afa8dc5",
   "metadata": {},
   "source": [
    "### 4) Model Identification\n",
    "Now the desired hyperparameters and optimiser are known, the user can start the model identification. \n",
    "This is done by calling the function `make_model()` from the script `train_model_source.py`. The function requires the following arguments:\n",
    "- `path_to_data_files` - Path to the `.npz`-file containing the training data\n",
    "- `modeltype`- Can be set to 'torque', 'ump', 'torque-ump', 'currents' or 'wcoe', specifying what the model predicts\n",
    "- `optimizer`- Either 'lasso' or 'sr3', specifying the regularisation method\n",
    "- `lib` - The chosen library candidate functions\n",
    "- `nmbr_of_train` - default -1 (all files), can be set to a number if not all simulations should be considered.\n",
    "- `alpha` - default None, the regularisation parameter for lasso\n",
    "- `nu` - default None, the first regularisation parameter for sr3\n",
    "- `lamb` - default None, the second regularisation parameter for sr3\n",
    "- `model_name` - default None, a string that is added to the name of the model\n",
    "\n",
    "When a model is created, it is saved as a `.pkl`-file in the `models` folder. The model can be loaded by calling the `load_model()` function from `source.py`."
   ]
  },
  {
   "cell_type": "code",
   "execution_count": 6,
   "id": "172142f0-29c2-4e1c-a906-e887aac71387",
   "metadata": {},
   "outputs": [
    {
     "name": "stdout",
     "output_type": "stream",
     "text": [
      "ecc input: True\n",
      "Loading data\n",
      "Done loading data\n"
     ]
    },
    {
     "ename": "KeyboardInterrupt",
     "evalue": "",
     "output_type": "error",
     "traceback": [
      "\u001b[1;31m---------------------------------------------------------------------------\u001b[0m",
      "\u001b[1;31mKeyboardInterrupt\u001b[0m                         Traceback (most recent call last)",
      "Cell \u001b[1;32mIn[6], line 1\u001b[0m\n\u001b[1;32m----> 1\u001b[0m make_model(path_to_data_files, modeltype\u001b[38;5;241m=\u001b[39m\u001b[38;5;124m'\u001b[39m\u001b[38;5;124mtorque\u001b[39m\u001b[38;5;124m'\u001b[39m, optimizer\u001b[38;5;241m=\u001b[39m\u001b[38;5;124m'\u001b[39m\u001b[38;5;124msr3\u001b[39m\u001b[38;5;124m'\u001b[39m,\n\u001b[0;32m      2\u001b[0m                nmbr_of_train\u001b[38;5;241m=\u001b[39m\u001b[38;5;241m-\u001b[39m\u001b[38;5;241m1\u001b[39m, lib\u001b[38;5;241m=\u001b[39m\u001b[38;5;124m'\u001b[39m\u001b[38;5;124mpoly_2nd_order\u001b[39m\u001b[38;5;124m'\u001b[39m, nu\u001b[38;5;241m=\u001b[39m\u001b[38;5;241m1.978e-10\u001b[39m, lamb\u001b[38;5;241m=\u001b[39m\u001b[38;5;241m5.3e-9\u001b[39m,\n\u001b[0;32m      3\u001b[0m                modelname\u001b[38;5;241m=\u001b[39m\u001b[38;5;124m'\u001b[39m\u001b[38;5;124mjupyter_example\u001b[39m\u001b[38;5;124m'\u001b[39m)\n",
      "File \u001b[1;32m~\\PycharmProjects\\SINDY_project\\train_model_source.py:29\u001b[0m, in \u001b[0;36mmake_model\u001b[1;34m(path_to_data_files, modeltype, optimizer, lib, nmbr_of_train, alpha, nu, lamb, modelname)\u001b[0m\n\u001b[0;32m     27\u001b[0m \u001b[38;5;66;03m# load in training and validation data\u001b[39;00m\n\u001b[0;32m     28\u001b[0m \u001b[38;5;28mprint\u001b[39m(\u001b[38;5;124m\"\u001b[39m\u001b[38;5;124mecc input: True\u001b[39m\u001b[38;5;124m\"\u001b[39m)\n\u001b[1;32m---> 29\u001b[0m DATA \u001b[38;5;241m=\u001b[39m prepare_data(path_to_data_files, number_of_trainfiles\u001b[38;5;241m=\u001b[39mnmbr_of_train, ecc_input\u001b[38;5;241m=\u001b[39m\u001b[38;5;28;01mTrue\u001b[39;00m)\n\u001b[0;32m     30\u001b[0m library \u001b[38;5;241m=\u001b[39m get_custom_library_funcs(lib, nmbr_input_features\u001b[38;5;241m=\u001b[39mDATA[\u001b[38;5;124m'\u001b[39m\u001b[38;5;124mu\u001b[39m\u001b[38;5;124m'\u001b[39m]\u001b[38;5;241m.\u001b[39mshape[\u001b[38;5;241m1\u001b[39m]\u001b[38;5;241m+\u001b[39mDATA[\u001b[38;5;124m'\u001b[39m\u001b[38;5;124mx\u001b[39m\u001b[38;5;124m'\u001b[39m]\u001b[38;5;241m.\u001b[39mshape[\u001b[38;5;241m1\u001b[39m])\n\u001b[0;32m     32\u001b[0m \u001b[38;5;66;03m# select inputs for the desired model\u001b[39;00m\n",
      "File \u001b[1;32m~\\PycharmProjects\\SINDY_project\\prepare_data.py:74\u001b[0m, in \u001b[0;36mprepare_data\u001b[1;34m(path_to_data_file, test_data, number_of_trainfiles, use_estimate_for_v, usage_per_trainfile, ecc_input)\u001b[0m\n\u001b[0;32m     72\u001b[0m \u001b[38;5;28;01melse\u001b[39;00m:\n\u001b[0;32m     73\u001b[0m     path_to_simulation_data \u001b[38;5;241m=\u001b[39m os\u001b[38;5;241m.\u001b[39mpath\u001b[38;5;241m.\u001b[39mjoin(os\u001b[38;5;241m.\u001b[39mpath\u001b[38;5;241m.\u001b[39mdirname(path_to_data_file), \u001b[38;5;124m'\u001b[39m\u001b[38;5;124mSIMULATION_DATA.pkl\u001b[39m\u001b[38;5;124m'\u001b[39m)\n\u001b[1;32m---> 74\u001b[0m     v_stator \u001b[38;5;241m=\u001b[39m reference_abc_to_dq0(v_abc_calculation(dataset, path_to_motor_info\u001b[38;5;241m=\u001b[39mpath_to_simulation_data))\n\u001b[0;32m     75\u001b[0m     \u001b[38;5;66;03m#todo, debug, SIMULATION_DATA is only needed for this\u001b[39;00m\n\u001b[0;32m     77\u001b[0m i_st \u001b[38;5;241m=\u001b[39m reference_abc_to_dq0(dataset[\u001b[38;5;124m'\u001b[39m\u001b[38;5;124mi_st\u001b[39m\u001b[38;5;124m'\u001b[39m])\n",
      "File \u001b[1;32m~\\PycharmProjects\\SINDY_project\\prepare_data.py:299\u001b[0m, in \u001b[0;36mv_abc_calculation\u001b[1;34m(data_logger, path_to_motor_info)\u001b[0m\n\u001b[0;32m    296\u001b[0m \u001b[38;5;28;01melse\u001b[39;00m:\n\u001b[0;32m    297\u001b[0m     t \u001b[38;5;241m=\u001b[39m data_logger[\u001b[38;5;124m'\u001b[39m\u001b[38;5;124mtime\u001b[39m\u001b[38;5;124m'\u001b[39m][:, \u001b[38;5;241m0\u001b[39m]\n\u001b[1;32m--> 299\u001b[0m dphi \u001b[38;5;241m=\u001b[39m FiniteDifference(order\u001b[38;5;241m=\u001b[39m\u001b[38;5;241m4\u001b[39m, axis\u001b[38;5;241m=\u001b[39m\u001b[38;5;241m0\u001b[39m)\u001b[38;5;241m.\u001b[39m_differentiate(data_logger[\u001b[38;5;124m\"\u001b[39m\u001b[38;5;124mflux_st_yoke\u001b[39m\u001b[38;5;124m\"\u001b[39m], t)\n\u001b[0;32m    300\u001b[0m di \u001b[38;5;241m=\u001b[39m FiniteDifference(order\u001b[38;5;241m=\u001b[39m\u001b[38;5;241m4\u001b[39m, axis\u001b[38;5;241m=\u001b[39m\u001b[38;5;241m0\u001b[39m)\u001b[38;5;241m.\u001b[39m_differentiate(data_logger[\u001b[38;5;124m\"\u001b[39m\u001b[38;5;124mi_st\u001b[39m\u001b[38;5;124m\"\u001b[39m], t)\n\u001b[0;32m    302\u001b[0m ist \u001b[38;5;241m=\u001b[39m data_logger[\u001b[38;5;124m\"\u001b[39m\u001b[38;5;124mi_st\u001b[39m\u001b[38;5;124m\"\u001b[39m]\n",
      "File \u001b[1;32m~\\anaconda3\\envs\\immec_env\\Lib\\site-packages\\pysindy\\differentiation\\finite_difference.py:270\u001b[0m, in \u001b[0;36mFiniteDifference._differentiate\u001b[1;34m(self, x, t)\u001b[0m\n\u001b[0;32m    268\u001b[0m     t \u001b[38;5;241m=\u001b[39m AxesArray(np\u001b[38;5;241m.\u001b[39marray(t), axes\u001b[38;5;241m=\u001b[39m{\u001b[38;5;124m\"\u001b[39m\u001b[38;5;124max_time\u001b[39m\u001b[38;5;124m\"\u001b[39m: \u001b[38;5;241m0\u001b[39m})\n\u001b[0;32m    269\u001b[0m     coeffs \u001b[38;5;241m=\u001b[39m \u001b[38;5;28mself\u001b[39m\u001b[38;5;241m.\u001b[39m_coefficients(t)\n\u001b[1;32m--> 270\u001b[0m     interior \u001b[38;5;241m=\u001b[39m \u001b[38;5;28mself\u001b[39m\u001b[38;5;241m.\u001b[39m_accumulate(coeffs, x)\n\u001b[0;32m    271\u001b[0m s[\u001b[38;5;28mself\u001b[39m\u001b[38;5;241m.\u001b[39maxis] \u001b[38;5;241m=\u001b[39m \u001b[38;5;28mslice\u001b[39m((\u001b[38;5;28mself\u001b[39m\u001b[38;5;241m.\u001b[39mn_stencil \u001b[38;5;241m-\u001b[39m \u001b[38;5;241m1\u001b[39m) \u001b[38;5;241m/\u001b[39m\u001b[38;5;241m/\u001b[39m \u001b[38;5;241m2\u001b[39m, \u001b[38;5;241m-\u001b[39m(\u001b[38;5;28mself\u001b[39m\u001b[38;5;241m.\u001b[39mn_stencil \u001b[38;5;241m-\u001b[39m \u001b[38;5;241m1\u001b[39m) \u001b[38;5;241m/\u001b[39m\u001b[38;5;241m/\u001b[39m \u001b[38;5;241m2\u001b[39m)\n\u001b[0;32m    272\u001b[0m x_dot[\u001b[38;5;28mtuple\u001b[39m(s)] \u001b[38;5;241m=\u001b[39m interior\n",
      "File \u001b[1;32m~\\anaconda3\\envs\\immec_env\\Lib\\site-packages\\pysindy\\differentiation\\finite_difference.py:227\u001b[0m, in \u001b[0;36mFiniteDifference._accumulate\u001b[1;34m(self, coeffs, x)\u001b[0m\n\u001b[0;32m    222\u001b[0m x \u001b[38;5;241m=\u001b[39m AxesArray(x, {\u001b[38;5;124m\"\u001b[39m\u001b[38;5;124max_unk\u001b[39m\u001b[38;5;124m\"\u001b[39m: \u001b[38;5;28mlist\u001b[39m(\u001b[38;5;28mrange\u001b[39m(x\u001b[38;5;241m.\u001b[39mndim))})\n\u001b[0;32m    223\u001b[0m x_expanded \u001b[38;5;241m=\u001b[39m AxesArray(\n\u001b[0;32m    224\u001b[0m     np\u001b[38;5;241m.\u001b[39mtranspose(x[\u001b[38;5;28mtuple\u001b[39m(s)], axes\u001b[38;5;241m=\u001b[39mtrans), x\u001b[38;5;241m.\u001b[39minsert_axis(\u001b[38;5;241m0\u001b[39m, \u001b[38;5;124m\"\u001b[39m\u001b[38;5;124max_offset\u001b[39m\u001b[38;5;124m\"\u001b[39m)\n\u001b[0;32m    225\u001b[0m )\n\u001b[0;32m    226\u001b[0m \u001b[38;5;28;01mreturn\u001b[39;00m np\u001b[38;5;241m.\u001b[39mtranspose(\n\u001b[1;32m--> 227\u001b[0m     np\u001b[38;5;241m.\u001b[39meinsum(\n\u001b[0;32m    228\u001b[0m         \u001b[38;5;124m\"\u001b[39m\u001b[38;5;124mij...,ij->j...\u001b[39m\u001b[38;5;124m\"\u001b[39m,\n\u001b[0;32m    229\u001b[0m         x_expanded,\n\u001b[0;32m    230\u001b[0m         np\u001b[38;5;241m.\u001b[39mtranspose(coeffs),\n\u001b[0;32m    231\u001b[0m     ),\n\u001b[0;32m    232\u001b[0m     np\u001b[38;5;241m.\u001b[39mroll(np\u001b[38;5;241m.\u001b[39marange(x\u001b[38;5;241m.\u001b[39mndim), \u001b[38;5;28mself\u001b[39m\u001b[38;5;241m.\u001b[39maxis),\n\u001b[0;32m    233\u001b[0m )\n",
      "File \u001b[1;32m~\\anaconda3\\envs\\immec_env\\Lib\\site-packages\\pysindy\\utils\\axes.py:420\u001b[0m, in \u001b[0;36mAxesArray.__array_function__\u001b[1;34m(self, func, types, args, kwargs)\u001b[0m\n\u001b[0;32m    418\u001b[0m \u001b[38;5;28;01mif\u001b[39;00m \u001b[38;5;129;01mnot\u001b[39;00m \u001b[38;5;28mall\u001b[39m(\u001b[38;5;28missubclass\u001b[39m(t, AxesArray) \u001b[38;5;28;01mfor\u001b[39;00m t \u001b[38;5;129;01min\u001b[39;00m types):\n\u001b[0;32m    419\u001b[0m     \u001b[38;5;28;01mreturn\u001b[39;00m \u001b[38;5;28mNotImplemented\u001b[39m\n\u001b[1;32m--> 420\u001b[0m \u001b[38;5;28;01mreturn\u001b[39;00m HANDLED_FUNCTIONS[func](\u001b[38;5;241m*\u001b[39margs, \u001b[38;5;241m*\u001b[39m\u001b[38;5;241m*\u001b[39mkwargs)\n",
      "File \u001b[1;32m~\\anaconda3\\envs\\immec_env\\Lib\\site-packages\\pysindy\\utils\\axes.py:553\u001b[0m, in \u001b[0;36meinsum\u001b[1;34m(subscripts, out, *operands, **kwargs)\u001b[0m\n\u001b[0;32m    549\u001b[0m \u001b[38;5;129m@_implements\u001b[39m(np\u001b[38;5;241m.\u001b[39meinsum)\n\u001b[0;32m    550\u001b[0m \u001b[38;5;28;01mdef\u001b[39;00m \u001b[38;5;21meinsum\u001b[39m(\n\u001b[0;32m    551\u001b[0m     subscripts: \u001b[38;5;28mstr\u001b[39m, \u001b[38;5;241m*\u001b[39moperands: AxesArray, out: Optional[NDArray] \u001b[38;5;241m=\u001b[39m \u001b[38;5;28;01mNone\u001b[39;00m, \u001b[38;5;241m*\u001b[39m\u001b[38;5;241m*\u001b[39mkwargs\n\u001b[0;32m    552\u001b[0m ) \u001b[38;5;241m-\u001b[39m\u001b[38;5;241m>\u001b[39m AxesArray:\n\u001b[1;32m--> 553\u001b[0m     calc \u001b[38;5;241m=\u001b[39m np\u001b[38;5;241m.\u001b[39meinsum(\n\u001b[0;32m    554\u001b[0m         subscripts, \u001b[38;5;241m*\u001b[39m(np\u001b[38;5;241m.\u001b[39masarray(arr) \u001b[38;5;28;01mfor\u001b[39;00m arr \u001b[38;5;129;01min\u001b[39;00m operands), out\u001b[38;5;241m=\u001b[39mout, \u001b[38;5;241m*\u001b[39m\u001b[38;5;241m*\u001b[39mkwargs\n\u001b[0;32m    555\u001b[0m     )\n\u001b[0;32m    556\u001b[0m     \u001b[38;5;28;01mtry\u001b[39;00m:\n\u001b[0;32m    557\u001b[0m         \u001b[38;5;66;03m# explicit mode\u001b[39;00m\n\u001b[0;32m    558\u001b[0m         lscripts, rscript \u001b[38;5;241m=\u001b[39m subscripts\u001b[38;5;241m.\u001b[39msplit(\u001b[38;5;124m\"\u001b[39m\u001b[38;5;124m->\u001b[39m\u001b[38;5;124m\"\u001b[39m)\n",
      "File \u001b[1;32m~\\anaconda3\\envs\\immec_env\\Lib\\site-packages\\numpy\\core\\einsumfunc.py:1371\u001b[0m, in \u001b[0;36meinsum\u001b[1;34m(out, optimize, *operands, **kwargs)\u001b[0m\n\u001b[0;32m   1369\u001b[0m     \u001b[38;5;28;01mif\u001b[39;00m specified_out:\n\u001b[0;32m   1370\u001b[0m         kwargs[\u001b[38;5;124m'\u001b[39m\u001b[38;5;124mout\u001b[39m\u001b[38;5;124m'\u001b[39m] \u001b[38;5;241m=\u001b[39m out\n\u001b[1;32m-> 1371\u001b[0m     \u001b[38;5;28;01mreturn\u001b[39;00m c_einsum(\u001b[38;5;241m*\u001b[39moperands, \u001b[38;5;241m*\u001b[39m\u001b[38;5;241m*\u001b[39mkwargs)\n\u001b[0;32m   1373\u001b[0m \u001b[38;5;66;03m# Check the kwargs to avoid a more cryptic error later, without having to\u001b[39;00m\n\u001b[0;32m   1374\u001b[0m \u001b[38;5;66;03m# repeat default values here\u001b[39;00m\n\u001b[0;32m   1375\u001b[0m valid_einsum_kwargs \u001b[38;5;241m=\u001b[39m [\u001b[38;5;124m'\u001b[39m\u001b[38;5;124mdtype\u001b[39m\u001b[38;5;124m'\u001b[39m, \u001b[38;5;124m'\u001b[39m\u001b[38;5;124morder\u001b[39m\u001b[38;5;124m'\u001b[39m, \u001b[38;5;124m'\u001b[39m\u001b[38;5;124mcasting\u001b[39m\u001b[38;5;124m'\u001b[39m]\n",
      "\u001b[1;31mKeyboardInterrupt\u001b[0m: "
     ]
    }
   ],
   "source": [
    "make_model(path_to_data_files, modeltype='torque', optimizer='sr3',\n",
    "               nmbr_of_train=-1, lib='poly_2nd_order', nu=1.978e-10, lamb=5.3e-9,\n",
    "               modelname='jupyter_example')"
   ]
  },
  {
   "cell_type": "markdown",
   "id": "da8240ba-b53a-4592-b73f-aeb1b30178fc",
   "metadata": {},
   "source": [
    "### 5) Model Evaluation\n",
    "Now, the model's performance can be evaluated on the test data. This is done by calling the function `simulate_model()`\n",
    "from the script `train_model_source.py`. The function requires the following arguments:\n",
    "- `model_name` - The name of the model from the `models` folder\n",
    "- `path_to_test_file` - Path to the `.npz`-file containing the test data\n",
    "- `modeltype`- Can be set to 'torque', 'ump', 'torque-ump', 'currents' or 'wcoe', specifying what the model predicts\n",
    "- `do_time_simulation` - default False, only relevant if `modeltype` == 'currents'. Then the `xdot` is solved by `solve_ivp` \n",
    "to retrieve the prediction of `x`\n",
    "\n",
    "This function returns the predicted and expected values. These can also be plotted in the frequency domain by the `plot_fourier()` function from `source.py`."
   ]
  },
  {
   "cell_type": "code",
   "execution_count": 7,
   "id": "cd46da6a-87db-4e11-a1ac-5a6154a97716",
   "metadata": {},
   "outputs": [
    {
     "name": "stdout",
     "output_type": "stream",
     "text": [
      "(i_d)' = -0.001 1 + -0.133 i_d + 0.189 i_q + 1.524 v_d + 0.860 v_q + 0.001 v_0 + -1.771 I_d + 1.263 I_q + 0.139 V_d + -0.261 V_q + -0.002 V_0 + -0.007 \\omega + -0.001 i_d i_q + -0.340 i_d I_d + 6.737 i_d I_q + 0.060 i_d V_d + -0.924 i_d V_q + 0.012 i_d V_0 + -6.748 i_q I_d + -0.460 i_q I_q + 0.922 i_q V_d + 0.062 i_q V_q + -0.037 i_q V_0 + 0.025 v_d I_d + -0.048 v_d I_q + -1.377 v_d V_d + -0.005 v_d V_q + 0.050 v_q I_d + 0.026 v_q I_q + 0.005 v_q V_d + -1.377 v_q V_q + -0.001 v_0 I_d + -0.006 v_0 I_q + 0.012 v_0 V_0 + 1.752 I_d^2 + -0.240 I_d I_q + 0.243 I_d V_d + 1.229 I_d V_q + -0.001 I_d V_0 + -0.001 I_d \\omega + -0.602 I_q^2 + -1.323 I_q V_d + 0.572 I_q V_q + -0.001 I_q V_0 + -0.013 I_q \\omega + 0.003 I_q f + -0.012 V_d^2 + 0.007 V_d V_q + -0.002 V_d V_0 + -0.001 V_d \\omega + -0.014 V_q^2 + -0.020 V_q V_0 + 0.002 V_q \\omega + 0.003 V_0 f\n",
      "Loading data\n",
      "Done loading data\n",
      "Calculating xdots\n",
      "Assume all t_vec are equal\n",
      "Done calculating xdots\n",
      "No ecc\n",
      "MSE on test:  1.5195230046026998e-06\n",
      "Non-zero elements:  93\n",
      "MSE simplified model 2.8984220512564188e-05\n"
     ]
    }
   ],
   "source": [
    "model = 'jupyter_example'\n",
    "pred, test = simulate_model(model+'_model', path_to_test_file, modeltype=\"torque\", do_time_simulation=False, show=True)"
   ]
  },
  {
   "cell_type": "markdown",
   "id": "d0466e3b-8928-4dde-8107-2ed8b2dd63c8",
   "metadata": {},
   "source": [
    "## Additional Information"
   ]
  }
 ],
 "metadata": {
  "kernelspec": {
   "display_name": "Python 3 (ipykernel)",
   "language": "python",
   "name": "python3"
  },
  "language_info": {
   "codemirror_mode": {
    "name": "ipython",
    "version": 3
   },
   "file_extension": ".py",
   "mimetype": "text/x-python",
   "name": "python",
   "nbconvert_exporter": "python",
   "pygments_lexer": "ipython3",
   "version": "3.12.4"
  }
 },
 "nbformat": 4,
 "nbformat_minor": 5
}
