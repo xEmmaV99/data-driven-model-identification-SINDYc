{
 "cells": [
  {
   "cell_type": "code",
   "execution_count": 1,
   "id": "32896d7b-4d65-4e7c-adbb-2ca34bed4de4",
   "metadata": {},
   "outputs": [],
   "source": [
    "import os.path\n",
    "from optimize_parameters import plot_optuna_data\n",
    "from source import *\n",
    "from train_model_source import simulate_model, make_model\n",
    "%matplotlib QtAgg\n",
    "\n",
    "def plot_function(models,testdata, type, existing_plot, folder):\n",
    "    pref = \"_w5//\"\n",
    "    if not existing_plot:\n",
    "        for model in models:\n",
    "            do_sim = type=='currents'\n",
    "            sim, test = simulate_model(pref + model + '_model', testdata, \n",
    "                                       modeltype=type, do_time_simulation=do_sim,\n",
    "                                       show=False, ecc_input = True)\n",
    "    else:\n",
    "        show_coefs = True\n",
    "        if show_coefs:\n",
    "            for model_ in models:\n",
    "                model = load_model(pref + model_ + '_model')\n",
    "                plot_coefs2(model, log=True, type=type)\n",
    "        path = os.path.join(os.getcwd(), 'plot_data//_w5//', folder)\n",
    "        plot_everything(path)"
   ]
  },
  {
   "cell_type": "code",
   "execution_count": 2,
   "id": "9c33bc4a-5131-4cda-a666-a57a27b3e3d9",
   "metadata": {},
   "outputs": [
    {
     "name": "stderr",
     "output_type": "stream",
     "text": [
      "[I 2024-08-19 20:41:46,118] Study name was omitted but trying to load 'optuna_studies//currentslinear-optuna-study' because that was the only study found in the storage.\n"
     ]
    },
    {
     "name": "stdout",
     "output_type": "stream",
     "text": [
      "['optuna_studies//currentslinear-optuna-study']\n",
      "Trial count: 1045\n",
      "(i_d)' = -493.723 i_d + 68.421 i_q + 38.744 v_d + -5.060 v_q + -3105.346 I_d + 446.629 I_q + 499.236 V_d + -69.043 V_q + -1.001 \\omega i_q + -32.779 \\omega I_d + -237.769 \\omega I_q + 5.047 \\omega V_d + 38.764 \\omega V_q + 0.018 v_d V_d + 0.018 v_q V_q\n",
      "(i_q)' = -53.558 i_d + -475.728 i_q + 14.074 v_d + 42.987 v_q + -362.847 I_d + -2962.235 I_q + 57.702 V_d + 478.850 V_q + 0.738 \\gamma I_d + -0.733 \\gamma I_q + 393.885 \\gamma V_0 + 1.003 \\omega i_d + 230.088 \\omega I_d + -24.083 \\omega I_q + -37.265 \\omega V_d + 4.151 \\omega V_q + -6.515 \\omega V_0 + -8.999 v_d V_d + 1.133 v_d V_0 + -8.999 v_q V_q\n",
      "(i_0)' = 0.000\n",
      "Sparsity:  35\n",
      "currents_40.pkl\n",
      "currents_simulation_40.pkl\n"
     ]
    }
   ],
   "source": [
    "#############################\n",
    "## 1 linear model currents ##\n",
    "#############################\n",
    "testdata = os.path.join(os.getcwd(), 'test-data', '07-29-default', 'IMMEC_0ecc_5.0sec.npz')\n",
    "plot_optuna_data('_w5//currentslinear-optuna-study')\n",
    "\n",
    "models = [\"currents_linear_40\"] \n",
    "\n",
    "plot_function(models, testdata, 'currents', True, 'currents')"
   ]
  },
  {
   "cell_type": "code",
   "execution_count": 5,
   "id": "0a2956b6-80e7-4f16-87e5-dfd090b79492",
   "metadata": {},
   "outputs": [
    {
     "name": "stderr",
     "output_type": "stream",
     "text": [
      "[I 2024-08-20 11:08:41,040] Study name was omitted but trying to load 'optuna_studies//torquelinear-optuna-study' because that was the only study found in the storage.\n"
     ]
    },
    {
     "name": "stdout",
     "output_type": "stream",
     "text": [
      "['optuna_studies//torquelinear-optuna-study']\n",
      "Trial count: 1000\n",
      "(i_d)' = 1.001 V_di_q + -1.000 V_qi_d + -0.034 V_qI_d + 0.071 V_qI_q + -0.027 i_dI_d + 6.252 i_dI_q + -6.209 i_qI_d + -0.284 I_dI_q\n",
      "Sparsity:  8\n",
      "(i_d)' = 0.999 v_d + 0.577 v_q + -0.060 I_q + 6.204 i_d I_q + -1.000 i_d V_q + -6.215 i_q I_d + 1.002 i_q V_d + -0.906 v_d V_d + -0.906 v_q V_q + 0.407 I_d^2 + -0.643 I_d I_q + -0.065 I_d V_d + 0.187 I_q^2 + 0.099 I_q V_d\n",
      "Sparsity:  14\n",
      "Torque16.pkl\n",
      "Torque8.pkl\n"
     ]
    }
   ],
   "source": [
    "###########################\n",
    "## 2 linear model torque ##\n",
    "###########################\n",
    "testdata = os.path.join(os.getcwd(), 'test-data', '07-29-default', 'IMMEC_0ecc_5.0sec.npz')\n",
    "plot_optuna_data('_w5//torquelinear-optuna-study')\n",
    "\n",
    "models = ['torque_linear_8','torque_linear_16']\n",
    "\n",
    "plot_function(models, testdata, 'torque', True, 'torque')"
   ]
  },
  {
   "cell_type": "code",
   "execution_count": 3,
   "id": "f2a8a108-d386-4c3a-8b53-3a88e598d20e",
   "metadata": {},
   "outputs": [
    {
     "name": "stderr",
     "output_type": "stream",
     "text": [
      "[I 2024-08-19 14:47:20,327] Study name was omitted but trying to load 'optuna_studies//currentsnonlinear-optuna-study' because that was the only study found in the storage.\n"
     ]
    },
    {
     "name": "stdout",
     "output_type": "stream",
     "text": [
      "['optuna_studies//currentsnonlinear-optuna-study']\n",
      "Trial count: 1013\n",
      "(i_d)' = -42.388 i_d + 896.516 i_q + 9.373 v_d + -59.191 v_q + -22.963 v_0 + 405.796 I_d + 5384.243 I_q + 111.474 V_d + -856.307 V_q + 600.907 V_0 + 2.414 \\gamma I_d + -9.247 \\gamma I_q + -188.655 \\gamma V_0 + -0.806 \\omega i_q + -503.854 \\omega I_d + 12.888 \\omega I_q + 66.483 \\omega V_d + 2.770 \\omega V_q + 46.555 v_d I_d + 74.129 v_d I_q + -15.158 v_d V_d + -8.089 v_d V_q + -1.559 v_d V_0 + -62.433 v_q I_d + 47.256 v_q I_q + 7.945 v_q V_d + -15.281 v_q V_q + -8.791 v_q V_0 + 1.008 v_0 i_d + 14.800 v_0 I_d + 177.931 v_0 I_q + 2.972 v_0 V_q + -32.532 v_0 V_0\n",
      "(i_q)' = -800.777 i_d + -94.832 i_q + 139.028 v_d + 43.231 v_q + -8.701 v_0 + -4504.751 I_d + -34.611 I_q + 651.984 V_d + 214.005 V_q + -153.338 V_0 + 1.391 \\gamma i_d + -2.070 \\gamma i_q + -35.484 \\gamma I_d + 45.737 \\gamma I_q + 5.393 \\gamma V_q + -43.858 \\gamma V_0 + 18.153 \\omega I_d + -510.124 \\omega I_q + -3.116 \\omega V_d + 76.256 \\omega V_q + 1.263 \\omega V_0 + 12.053 v_d I_d + 23.697 v_d I_q + -59.784 v_d V_d + -2.500 v_d V_q + -3.481 v_d V_0 + -21.023 v_q I_d + 16.276 v_q I_q + 2.522 v_q V_d + -59.869 v_q V_q + -3.797 v_0 I_d + 70.796 v_0 I_q + 1.870 v_0 V_d + 81.919 v_0 V_0\n",
      "(i_0)' = 0.000\n",
      "Sparsity:  67\n",
      "(i_d)' = -0.898 i_q \\omega + 0.001 v_d v_q + 0.043 v_d v_0 + 0.053 v_d \\omega + 0.035 v_d f + -0.153 v_q v_0 + 0.024 v_q \\omega + -0.014 v_q f + -0.055 \\omega f + -0.013 i_d i_q v_q + -0.002 i_d v_d v_0 + -0.001 i_d v_d \\omega + 0.006 i_d v_d f + -0.004 i_d \\omega f + 0.002 i_q v_d v_0 + 0.001 i_q v_d \\omega + -0.008 i_q v_d f + 0.007 i_q v_q v_0 + -0.001 i_q v_q \\omega + 0.006 i_q v_q f + 0.001 v_d v_q v_0 + -0.001 v_d v_q V_q + -0.625 v_d v_q V_0 + -0.039 v_d v_0 V_d + -0.044 v_d V_d \\omega + 0.007 v_d V_d f + -0.003 v_d V_q \\omega + 0.023 v_d V_q f + 0.016 v_q v_0 V_d + 0.211 v_q v_0 V_q + 0.001 v_q V_d \\omega + -0.007 v_q V_d f + -0.042 v_q V_q \\omega + 0.023 V_d \\omega f + 0.054 V_q \\omega f\n",
      "(i_q)' = 1.012 i_d \\omega + 0.370 v_d v_0 + -0.035 v_d \\omega + 0.060 v_d f + 0.070 v_q v_0 + -0.036 v_q \\omega + 0.088 v_q f + 0.037 \\omega f + 0.013 i_d v_d v_0 + -0.003 i_d v_d \\omega + 0.021 i_d v_d f + 0.012 i_d v_q v_0 + -0.001 i_d v_q \\omega + 0.003 i_d v_q f + 0.001 i_d v_0 \\omega + -0.003 i_d \\omega f + 0.001 i_q v_d v_q + 0.002 i_q v_d \\omega + -0.014 i_q v_d f + 0.009 i_q v_q v_0 + -0.001 i_q v_q \\omega + 0.008 i_q v_q f + -0.001 i_q v_0 \\omega + 0.002 i_q \\omega f + 0.018 v_d v_q I_d + -0.001 v_d v_q V_d + -0.002 v_d v_q V_q + 0.222 v_d v_q V_0 + -0.338 v_d v_0 V_d + -0.004 v_d v_0 V_q + 0.008 v_d I_d \\omega + -0.045 v_d I_q \\omega + 0.039 v_d V_d \\omega + -0.013 v_d V_d f + -0.007 v_d V_q \\omega + 0.079 v_d V_q f + -0.046 v_q v_0 V_q + 0.042 v_q I_d \\omega + 0.010 v_q I_q \\omega + 0.002 v_q V_d \\omega + -0.047 v_q V_d f + 0.038 v_q V_q \\omega + -0.041 v_0 V_d \\omega + -0.034 V_d \\omega f + 0.095 V_q \\omega f\n",
      "(i_0)' = 0.000\n",
      "Sparsity:  109\n",
      "(i_d)' = -252.344 i_d + 16.717 i_q + 27.674 v_d + -534.329 I_d + -330.946 I_q + 237.281 V_d + 135.637 V_q + -50.332 i_d i_q + -68.583 i_d I_q + 15.351 i_d V_d + 127.716 i_d V_q + 1861.100 i_d V_0 + 2.198 i_q v_0 + 1734.826 i_q I_d + -75.375 i_q V_d + -178.700 i_q V_q + -0.048 i_q \\omega + 88.131 v_d I_d + -66.495 v_d I_q + -652.064 v_d V_0 + -121.673 v_q I_d + -46.759 v_q I_q + 0.542 v_q V_q + -230.492 v_q V_0 + -26.542 v_0 I_d + 16.258 v_0 V_d + 6.557 v_0 V_q + -2875.635 v_0 V_0 + -765.029 I_d I_q + -498.867 I_d V_d + -875.161 I_d V_q + -151.181 I_d \\omega + -0.434 I_d f + -19.555 I_q V_d + 182.601 I_q V_q + -70.121 I_q \\omega + -84.920 V_d V_q + 11.361 V_d \\omega + -0.143 V_d f + 31.366 V_q \\omega + 248.303 V_0 \\omega + 349.343 i_d i_q I_d + -157.096 i_d i_q I_q + 24.683 i_d i_q V_d + -45.821 i_d i_q V_q + 215.811 i_d i_q V_0 + -9.893 i_d v_d V_0 + -17.480 i_d v_q I_d + 29.768 i_d v_q I_q + -6.439 i_d v_q V_0 + -53.265 i_d v_0 I_d + 104.847 i_d v_0 I_q + -1.729 i_d v_0 V_d + 195.623 i_d v_0 V_0 + -193.727 i_d I_d V_d + -273.583 i_d I_d V_q + -1.252 i_d I_d f + 387.107 i_d I_q V_d + -260.758 i_d I_q V_q + 2.156 i_d I_q f + -28.800 i_d V_d V_q + -2930.224 i_d V_q V_0 + -3.624 i_d V_0 \\omega + 25.971 i_d V_0 f + -20.327 i_q v_d I_d + 20.063 i_q v_d I_q + 1.383 i_q v_d V_d + -7.435 i_q v_d V_0 + -4.686 i_q v_q I_d + 1.276 i_q v_q V_q + 7.739 i_q v_q V_0 + 9.918 i_q v_0 I_d + -37.969 i_q v_0 I_q + -111.681 i_q v_0 V_0 + -9030.416 i_q I_d I_q + -445.465 i_q I_d V_d + -336.159 i_q I_d V_q + 1.475 i_q I_d \\omega + -0.969 i_q I_d f + 666.969 i_q I_q V_d + 1093.995 i_q I_q V_q + -9.597 i_q I_q \\omega + -0.185 i_q I_q f + 113.514 i_q V_d V_q + 26.982 i_q V_d V_0 + -6.296 i_q V_0 \\omega + 41.108 i_q V_0 f + -215.351 v_d I_d I_q + -50.851 v_d I_d V_d + 11.108 v_d I_d V_q + -7.382 v_d I_d V_0 + 65.141 v_d I_q V_d + -15.273 v_d I_q V_q + 898.910 v_d I_q V_0 + 431.190 v_d V_d V_0 + 117.621 v_d V_q V_0 + 2.791 v_q v_0 I_d + -4.680 v_q v_0 I_q + 746.561 v_q I_d I_q + 58.081 v_q I_d V_d + -46.576 v_q I_d V_q + -153.020 v_q I_d V_0 + -103.335 v_q I_q V_d + 66.413 v_q I_q V_q + 45.222 v_q I_q V_0 + -81.883 v_q V_d V_0 + 553.012 v_q V_q V_0 + 14.347 v_0 I_d V_d + -89.358 v_0 I_d V_q + 18312.552 v_0 I_d V_0 + -202.147 v_0 I_q V_d + 97.922 v_0 I_q V_q + -332.879 v_0 V_d V_0 + 49.106 v_0 V_q V_0 + -6.457 I_d I_q \\omega + 654.117 I_d V_d V_q + 25.048 I_d V_d \\omega + 2.771 I_d V_d f + 6.664 I_d V_q \\omega + -296.264 I_d V_0 \\omega + 863.150 I_d V_0 f + -312.896 I_q V_d V_q + -10.860 I_q V_d \\omega + -3.715 I_q V_d f + -17.988 I_q V_q \\omega + 2.815 I_q V_q f + -178.233 I_q V_0 \\omega + 600.794 V_d V_q V_0 + -1.429 V_d V_q \\omega + -4.162 V_d V_0 \\omega + -86.737 V_d V_0 f + -85.913 V_q V_0 f\n",
      "(i_q)' = -1.484 1 + 177.563 i_d + 141.904 i_q + -3.181 v_q + 77.080 v_0 + 392.056 I_q + 52.276 V_d + -2.793 \\omega + 114.968 i_d i_q + 0.986 i_d v_0 + -2233.266 i_d I_d + -84.138 i_d I_q + -64.906 i_d V_d + -401.302 i_d V_q + -9.403 i_q v_d + -3.888 i_q v_q + -1044.583 i_q I_d + -749.315 i_q I_q + -230.570 i_q V_d + -13.507 i_q V_q + 139.705 v_d I_d + 63.863 v_d I_q + -24.026 v_d V_d + 4.225 v_d V_q + 248.359 v_d V_0 + 110.305 v_q I_d + 10.507 v_q V_d + -8.254 v_q V_q + 16.798 v_q V_0 + -542.451 v_0 I_d + -55.646 v_0 V_d + 21.664 v_0 V_q + -576.281 v_0 V_0 + -18808.895 I_d I_q + -133.926 I_d V_d + 60.825 I_d \\omega + -4.860 I_d f + 2400.487 I_q V_d + -44.581 I_q V_q + -17.821 I_q \\omega + -3.265 I_q f + 54.265 V_d V_q + -10.212 V_d \\omega + 165.963 V_0 \\omega + -345.341 i_d i_q I_d + -49.724 i_d i_q I_q + -22.157 i_d i_q V_d + -9.527 i_d i_q V_q + 138.775 i_d i_q V_0 + -13.211 i_d v_d I_d + 14.257 i_d v_d I_q + 2.352 i_d v_d V_d + -2.628 i_d v_d V_q + -2.430 i_d v_d V_0 + -31.535 i_d v_q I_q + 1.701 i_d v_q V_d + 2.307 i_d v_q V_q + -6.769 i_d v_q V_0 + -7.959 i_d v_0 I_d + -20.279 i_d v_0 I_q + -0.021 i_d v_0 V_d + 3.700 i_d v_0 V_q + -167.265 i_d v_0 V_0 + 703.347 i_d I_d V_d + 1989.545 i_d I_d V_q + -20.193 i_d I_d \\omega + -886.861 i_d I_q V_d + 64.614 i_d I_q V_q + 2.286 i_d I_q \\omega + -3.154 i_d I_q f + 47.679 i_d V_d V_q + 265.220 i_d V_d V_0 + 13.673 i_q v_d I_d + 23.886 i_q v_d I_q + 4.078 i_q v_d V_d + 8.159 i_q v_d V_0 + 9.573 i_q v_q I_d + 1.408 i_q v_q I_q + 3.170 i_q v_q V_q + 3.427 i_q v_q V_0 + -84.489 i_q v_0 I_d + 124.629 i_q v_0 I_q + 2.066 i_q v_0 V_d + 0.154 i_q v_0 V_q + 215.510 i_q v_0 V_0 + -2211.663 i_q I_d I_q + 719.924 i_q I_d V_d + 287.530 i_q I_d V_q + 834.772 i_q I_q V_d + -46.890 i_q V_d V_q + -423.441 i_q V_d V_0 + 163.300 i_q V_q V_0 + 0.279 v_d v_0 I_d + -0.438 v_d v_0 I_q + -1.148 v_d v_0 V_0 + -1326.359 v_d I_d I_q + 40.741 v_d I_d V_d + -85.310 v_d I_d V_q + -1072.326 v_d I_d V_0 + 177.657 v_d I_q V_d + 98.804 v_d I_q V_q + -156.207 v_d V_d V_0 + 113.297 v_d V_q V_0 + -112.525 v_q I_d I_q + -44.759 v_q I_d V_d + -1.275 v_q I_d V_q + -19.436 v_q I_q V_d + 97.603 v_q I_q V_q + 1139.947 v_q I_q V_0 + 32.340 v_q V_d V_0 + -190.594 v_q V_q V_0 + 334.480 v_0 I_d V_d + 147.844 v_0 I_d V_q + 147.694 v_0 I_q V_d + -162.673 v_0 I_q V_q + -27.770 v_0 V_d V_q + 531.447 v_0 V_d V_0 + -195.214 I_d I_q V_d + 4686.289 I_d I_q V_q + 29.011 I_d I_q f + 1.207 I_d V_d \\omega + 0.758 I_d V_d f + -1.839 I_d V_q \\omega + -641.534 I_q V_d V_q + -16.009 I_q V_d \\omega + 6.588 I_q V_d f + 85.222 I_q V_q \\omega + -3.902 I_q V_q f + -47.448 V_d V_0 \\omega + -3.034 V_d V_0 f + -35.791 V_q V_0 \\omega\n",
      "(i_0)' = 0.000\n",
      "Sparsity:  263\n",
      "currents100.pkl\n",
      "currents250.pkl\n",
      "currents_70.pkl\n",
      "currents_simulation100.pkl\n",
      "currents_simulation250.pkl\n",
      "currents_simulation70.pkl\n"
     ]
    }
   ],
   "source": [
    "################################\n",
    "## 3 nonlinear model currents ##\n",
    "################################\n",
    "testdata = os.path.join(os.getcwd(), 'test-data', '08-07', 'IMMEC_nonlin_0ecc_5.0sec.npz')\n",
    "plot_optuna_data('_w5//currentsnonlinear-optuna-study')\n",
    "\n",
    "models = ['currents_nonlinear_70','currents_nonlinear_100','currents_nonlinear_250']\n",
    "\n",
    "plot_function(models, testdata, 'currents', True, 'currents_nl')"
   ]
  },
  {
   "cell_type": "code",
   "execution_count": 24,
   "id": "703c5357-9f13-477f-87e1-42e367fe6e45",
   "metadata": {},
   "outputs": [
    {
     "name": "stderr",
     "output_type": "stream",
     "text": [
      "[I 2024-08-18 16:45:07,077] Study name was omitted but trying to load 'optuna_studies//torquenonlinear-optuna-study' because that was the only study found in the storage.\n"
     ]
    },
    {
     "name": "stdout",
     "output_type": "stream",
     "text": [
      "['optuna_studies//torquenonlinear-optuna-study']\n",
      "Trial count: 1607\n",
      "(i_d)' = 6.186 i_d I_q + -0.997 i_d V_q + -6.183 i_q I_d + 0.997 i_q V_d + -1.306 v_0 V_0\n",
      "Sparsity:  5\n",
      "(i_d)' = -0.571 i_d + 0.419 i_q + 0.026 v_d + -0.036 v_q + -4.525 I_d + 5.327 I_q + 4.069 V_d + 1.218 V_q + 4.332 V_0 + -0.033 \\omega + 1.534 i_d I_d + 7.529 i_d I_q + 0.012 i_d V_d + -0.786 i_d V_q + 0.170 i_d V_0 + -7.701 i_q I_d + 0.836 i_q I_q + 0.782 i_q V_d + 0.129 i_q V_0 + -0.065 v_d I_d + -0.081 v_d I_q + 0.007 v_d V_d + -0.021 v_d V_q + 0.078 v_q I_d + -0.044 v_q I_q + 0.021 v_q V_d + 0.007 v_q V_q + -0.255 v_0 V_0 + 4.347 I_d^2 + 0.804 I_d I_q + 4.410 I_d V_q + -20.791 I_d V_0 + -5.723 I_q^2 + -4.540 I_q V_d + 1.118 I_q V_q + -3.354 I_q V_0 + -0.013 I_q \\omega + -1.649 V_d^2 + 0.011 V_d V_q + -0.311 V_d V_0 + -1.652 V_q^2 + 0.015 V_q V_0 + -22.757 V_0^2\n",
      "Sparsity:  43\n",
      "(i_d)' = 0.272 i_d + 0.391 i_q + -0.018 v_q + 1.587 I_d + 0.708 I_q + 0.266 V_d + 0.097 V_q + -4.588 V_0 + 0.011 i_d v_q + -0.607 i_d I_d + 5.117 i_d I_q + -0.202 i_d V_d + -0.884 i_d V_q + -0.011 i_q v_d + -5.400 i_q I_d + -1.336 i_q I_q + 0.784 i_q V_d + -0.281 i_q V_q + -5.239 i_q V_0 + -0.082 v_d I_d + -0.006 v_d V_0 + -0.058 v_q I_d + 0.091 v_q I_q + 0.248 v_q V_0 + 0.916 v_0 V_0 + -1.354 I_d V_d + 0.079 I_d V_q + -0.201 I_d \\omega + 0.126 I_q V_d + -1.760 I_q V_q + 0.099 I_q \\omega + 4.588 V_d V_0 + 0.023 V_d \\omega + 9.960 V_q V_0 + -0.024 V_q \\omega + 0.007 V_0 \\omega + 0.251 i_d i_q V_0 + 1.639 i_d I_d I_q + -0.143 i_d I_d V_d + 0.646 i_d I_d V_q + -6.079 i_d I_d V_0 + 0.063 i_d I_d \\omega + 0.145 i_d I_q V_d + -0.198 i_d I_q V_q + 23.932 i_d I_q V_0 + -1.375 i_d V_d V_0 + -0.010 i_d V_d \\omega + 0.924 i_d V_q V_0 + -0.079 i_q I_d I_q + -0.067 i_q I_d V_d + 30.617 i_q I_d V_0 + 0.165 i_q I_q V_d + 0.552 i_q I_q V_q + -3.403 i_q I_q V_0 + 0.063 i_q I_q \\omega + 0.847 i_q V_q V_0 + -0.010 i_q V_q \\omega + -0.186 v_d I_d I_q + 0.114 v_d I_d V_d + -0.029 v_d I_d V_q + 0.940 v_d I_d V_0 + -1.536 v_d I_q V_0 + -0.116 v_q I_d I_q + 0.029 v_q I_d V_d + 0.114 v_q I_d V_q + -0.707 v_q I_d V_0 + -1.185 v_q I_q V_0 + -0.900 v_0 I_d V_0 + -4.745 v_0 I_q V_0 + -1.127 I_d I_q V_d + 1.627 I_d I_q V_q + 316.106 I_d I_q V_0 + 0.621 I_d I_q \\omega + -62.632 I_d V_q V_0 + 0.142 I_d V_q \\omega + -0.332 I_d V_0 \\omega + -0.060 I_q V_d V_q + -50.232 I_q V_d V_0 + -0.197 I_q V_d \\omega + 0.505 I_q V_0 \\omega + -0.025 I_q V_0 f + 0.981 V_d V_q V_0\n",
      "Sparsity:  82\n",
      "Torque100.pkl\n",
      "Torque40.pkl\n",
      "Torque5.pkl\n"
     ]
    }
   ],
   "source": [
    "##############################\n",
    "## 4 nonlinear model torque ##\n",
    "##############################\n",
    "testdata = os.path.join(os.getcwd(), 'test-data', '08-07', 'IMMEC_nonlin_0ecc_5.0sec.npz')\n",
    "plot_optuna_data('_w5//torquenonlinear-optuna-study')\n",
    "\n",
    "models = ['torque_nonlinear_5', 'torque_nonlinear_40', 'torque_nonlinear_100']\n",
    "\n",
    "plot_function(models, testdata, 'torque', True, 'torque_nl')"
   ]
  },
  {
   "cell_type": "code",
   "execution_count": 2,
   "id": "29ca7f03-185f-4bad-8fe1-552ea5490524",
   "metadata": {},
   "outputs": [
    {
     "name": "stderr",
     "output_type": "stream",
     "text": [
      "[I 2024-08-20 11:42:29,571] Study name was omitted but trying to load 'optuna_studies//currentslinear_50ecc-optuna-study' because that was the only study found in the storage.\n"
     ]
    },
    {
     "name": "stdout",
     "output_type": "stream",
     "text": [
      "['optuna_studies//currentslinear_50ecc-optuna-study']\n",
      "Trial count: 1000\n",
      "(i_d)' = -433.274 i_d + 180.439 i_q + 28.232 v_d + -17.242 v_q + 4.332 v_0 + -2732.884 I_d + 1190.647 I_q + 433.631 V_d + -174.189 V_q + 1207.587 V_0 + 50.806 \\gamma V_0 + -1.083 \\omega i_q + -86.691 \\omega I_d + -211.816 \\omega I_q + 13.032 \\omega V_d + 35.807 \\omega V_q + 13.113 \\omega V_0 + 1.071 v_d I_d + 6.574 v_d V_d + 0.985 v_q I_q + 6.574 v_q V_q + 8.039 v_0 I_d + -66.277 v_0 I_q + 138.334 v_0 V_0\n",
      "(i_q)' = -150.177 i_d + -420.340 i_q + 11.419 v_d + 32.910 v_q + -874.768 I_d + -2528.805 I_q + 136.264 V_d + 415.471 V_q + -2409.856 V_0 + 2.209 \\gamma I_d + -2.485 \\gamma I_q + -1.470 \\gamma V_0 + 1.047 \\omega i_d + 200.381 \\omega I_d + -67.768 \\omega I_q + -32.613 \\omega V_d + 11.439 \\omega V_q + 83.153 \\omega V_0 + 6.545 v_0 I_d + -13.635 v_0 I_q + 31.895 v_0 V_0\n",
      "(i_0)' = 0.000\n",
      "ecc input:  True\n",
      "Loading data\n",
      "Done loading data\n",
      "Calculating xdots\n",
      "Assume all t_vec are equal for all simulations\n",
      "Done calculating xdots\n",
      "Zero ecc, added as zero to input data\n",
      "MSE on test:  235.26930797743952\n",
      "Non-zero elements:  45\n",
      "Starting time simulation\n",
      "Finished simulation\n",
      "MSE on simulation:  0.0011470750606987494\n",
      "(i_d)' = -0.124 v_d + -1.074 \\omega i_q + 0.001 \\omega V_q\n",
      "(i_q)' = 0.185 v_d + 0.996 \\omega i_d + 0.098 \\omega i_q\n",
      "(i_0)' = 0.000\n",
      "ecc input:  True\n",
      "Loading data\n",
      "Done loading data\n",
      "Calculating xdots\n",
      "Assume all t_vec are equal for all simulations\n",
      "Done calculating xdots\n",
      "Zero ecc, added as zero to input data\n",
      "MSE on test:  30.6885552722966\n",
      "Non-zero elements:  8\n",
      "Starting time simulation\n",
      "Finished simulation\n",
      "MSE on simulation:  5.378868856677041e+23\n"
     ]
    }
   ],
   "source": [
    "#########################################\n",
    "## 5 linear model currents with 50 ecc ##\n",
    "#########################################\n",
    "testdata = os.path.join(os.getcwd(), 'test-data', '08-08', 'IMMEC_50ecc_ecc_5.0sec.npz')\n",
    "#testdata = os.path.join(os.getcwd(), 'test-data', '07-29-default', 'IMMEC_0ecc_5.0sec.npz')\n",
    "\n",
    "plot_optuna_data('_w5//currentslinear_50ecc-optuna-study')\n",
    "\n",
    "models = ['currents_linear_50ecc_45', 'currents_linear_50ecc_8']\n",
    "\n",
    "plot_function(models, testdata, 'currents', True, 'currents_50')"
   ]
  },
  {
   "cell_type": "code",
   "execution_count": 11,
   "id": "0359e714-e802-4a22-9293-0ca51ee17581",
   "metadata": {},
   "outputs": [
    {
     "name": "stderr",
     "output_type": "stream",
     "text": [
      "[I 2024-08-19 10:53:19,175] Study name was omitted but trying to load 'optuna_studies//torquelinear_50ecc-optuna-study' because that was the only study found in the storage.\n"
     ]
    },
    {
     "name": "stdout",
     "output_type": "stream",
     "text": [
      "['optuna_studies//torquelinear_50ecc-optuna-study']\n",
      "Trial count: 1000\n",
      "(i_d)' = -1.678 V_0 + 6.286 i_d I_q + -1.009 i_d V_q + -2.633 i_d V_0 + -6.174 i_q I_d + 0.996 i_q V_d + -2.173 i_q V_0 + -1.544 I_d I_q + 5.451 V_d V_0 + -3.358 V_q V_0 + -0.450 V_0 sin(1 \\gamma)\n",
      "Sparsity:  11\n",
      "(i_d)' = 0.313 v_d + 0.181 v_q + 0.942 I_d + -1.583 I_q + -47.267 V_d + -27.045 V_q + -7.944 V_0 + 0.192 i_d I_d + 5.957 i_d I_q + -1.014 i_d V_q + 1.252 i_d V_0 + -6.166 i_q I_d + -0.036 i_q I_q + 0.997 i_q V_d + -0.273 i_q V_0 + -0.284 v_d V_d + -0.284 v_q V_q + 0.573 I_d^2 + -7.884 I_d I_q + 0.258 I_d V_d + -0.707 I_d V_q + 86.335 I_d V_0 + 5.966 I_q^2 + 1.743 I_q V_d + 4.571 I_q V_0 + 21.332 V_d^2 + -3.498 V_d V_0 + 21.337 V_q^2 + -6.909 V_q V_0 + 319.421 V_0^2\n",
      "Sparsity:  30\n",
      "Torque11.pkl\n",
      "Torque30.pkl\n"
     ]
    }
   ],
   "source": [
    "#######################################\n",
    "## 6 linear model torque with 50 ecc ##\n",
    "#######################################\n",
    "testdata = os.path.join(os.getcwd(), 'test-data', '08-08', 'IMMEC_50ecc_ecc_5.0sec.npz')\n",
    "plot_optuna_data('_w5//torquelinear_50ecc-optuna-study')\n",
    "\n",
    "models = ['torque_linear_50ecc_7', 'torque_linear_50ecc_30']\n",
    "\n",
    "plot_function(models, testdata, 'torque', True, 'torque_50')"
   ]
  },
  {
   "cell_type": "code",
   "execution_count": 2,
   "id": "b0cc480a-41f5-4104-92c0-6a02b4c25ba5",
   "metadata": {},
   "outputs": [
    {
     "name": "stderr",
     "output_type": "stream",
     "text": [
      "[I 2024-08-19 14:49:00,096] Study name was omitted but trying to load 'optuna_studies//umplinear_50ecc-optuna-study' because that was the only study found in the storage.\n"
     ]
    },
    {
     "name": "stdout",
     "output_type": "stream",
     "text": [
      "['optuna_studies//umplinear_50ecc-optuna-study']\n",
      "Trial count: 1083\n",
      "(i_d)' = -163.237 V_dV_q + -31.084 V_di_d + 62.322 V_di_q + -281.644 V_dI_d + 1771.168 V_dI_q + 35.107 V_qi_d + -16.327 V_qi_q + 1780.189 V_qI_d + -1379.308 V_qI_q + -21.824 i_di_q + 1163.016 i_dI_d + -1942.093 i_dI_q + -159.877 i_qI_d + -378.497 i_qI_q + 1883.745 I_dI_q\n",
      "(i_q)' = -184.953 V_dV_q + -21.386 V_di_d + 45.990 V_di_q + -904.792 V_dI_d + 2860.183 V_dI_q + 77.912 V_qi_d + 4.159 V_qi_q + 3271.085 V_qI_d + -3703.433 V_qI_q + -29.428 i_di_q + 1747.269 i_dI_d + -3317.468 i_dI_q + -765.741 i_qI_d + 730.471 i_qI_q + -2165.487 I_dI_q\n",
      "Sparsity:  30\n",
      "(i_d)' = -145.034 i_d + -230.008 i_q + 84.283 v_d + 56.490 v_q + 267.025 v_0 + 303.106 I_d + -1517.082 I_q + 113.980 V_d + 206.482 V_q + 12479.624 V_0 + -6.287 \\gamma i_d + -3.386 \\gamma i_q + -175.203 \\gamma I_d + 271.666 \\gamma I_q + -0.382 \\gamma V_d + 9.659 \\gamma V_q + -4829.520 \\gamma V_0 + 108.582 \\omega I_d + -110.308 \\omega I_q + -18.281 \\omega V_d + 7.470 \\omega V_q + 14.877 \\omega V_0 + -15.290 v_d I_d + -3.623 v_d I_q + -64.466 v_d V_d + -4.225 v_d V_q + -10.774 v_d V_0 + -1.789 v_q I_d + -15.886 v_q I_q + 4.263 v_q V_d + -64.349 v_q V_q + -11.806 v_q V_0 + 8.609 v_0 i_q + -362.530 v_0 I_d + -1777.160 v_0 I_q + -13.240 v_0 V_d + -9.384 v_0 V_q + 1683.251 v_0 V_0\n",
      "(i_q)' = -48.786 i_d + 234.554 i_q + 230.051 v_d + 110.685 v_q + 181.241 v_0 + -391.265 I_d + 3091.132 I_q + 103.821 V_d + -202.449 V_q + 1736.142 V_0 + -7.673 \\gamma i_d + 2.492 \\gamma i_q + 154.940 \\gamma I_d + -206.355 \\gamma I_q + -8.997 \\gamma V_q + -2395.930 \\gamma V_0 + -131.159 \\omega I_d + -21.024 \\omega I_q + 16.173 \\omega V_d + 11.032 \\omega V_q + 38.526 \\omega V_0 + 5.201 v_d I_d + -199.509 v_d V_d + -16.108 v_d V_0 + -3.068 v_q I_d + 6.972 v_q I_q + -199.378 v_q V_q + -2.866 v_q V_0 + 5.354 v_0 i_d + 4.219 v_0 i_q + -816.810 v_0 I_d + -347.136 v_0 I_q + 3142.147 v_0 V_0\n",
      "Sparsity:  71\n",
      "(i_d)' = 5.853 1 + 409.457 i_d + 310.085 i_q + 115.652 v_d + 77.712 v_q + 5.156 v_0 + 6871.112 I_q + 504.535 V_d + -669.759 V_q + 13318.279 V_0 + -4.418 \\omega + 25.102 i_d^2 + -924.801 i_d I_d + 1907.482 i_d I_q + -231.893 i_d V_d + -27.914 i_d V_q + 402.818 i_d V_0 + 27.691 i_q^2 + -523.070 i_q I_d + -181.864 i_q I_q + 26.166 i_q V_d + -274.188 i_q V_q + -3404.814 i_q V_0 + -81.395 v_d I_d + 38.973 v_d I_q + -106.800 v_d V_d + 1.808 v_d V_q + 27.277 v_d V_0 + -44.373 v_q I_d + -58.131 v_q I_q + -1.667 v_q V_d + -106.920 v_q V_q + 15.968 v_q V_0 + 9.887 v_0 I_d + -66.173 v_0 I_q + 79.613 v_0 V_0 + -15617.257 I_d^2 + 31846.279 I_d I_q + 973.066 I_d V_d + 2939.991 I_d V_q + -7.377 I_d \\omega + 2.090 I_d f + -12198.557 I_q^2 + -8368.728 I_q V_d + -835.123 I_q V_q + -165727.026 I_q V_0 + 91.129 I_q \\omega + -3.467 I_q f + 49.187 V_d V_q + -4652.583 V_d V_0 + 6.068 V_d \\omega + 75.102 V_q^2 + 15464.578 V_q V_0 + -11.450 V_q \\omega + -0.904 V_0 \\omega + -6.091 V_0 f + 0.138 cos(1 \\gamma)\n",
      "(i_q)' = 0.644 1 + -1141.858 i_d + -920.828 i_q + 172.456 v_d + 121.723 v_q + 13.239 v_0 + 2578.658 I_d + 925.979 I_q + 3860608.779 V_d + 2228980.927 V_q + 10098.239 V_0 + 0.311 \\omega + -11.870 i_d i_q + 1970.597 i_d I_d + -422.691 i_d I_q + 911.908 i_d V_d + -83.541 i_d V_q + -1148.435 i_d V_0 + 2.738 i_q^2 + 394.314 i_q I_d + 1925.539 i_q I_q + 111.354 i_q V_d + 882.792 i_q V_q + -1946.339 i_q V_0 + -76.442 v_d I_d + 69.222 v_d I_q + -160.296 v_d V_d + 4.351 v_d V_q + 16.761 v_d V_0 + -74.899 v_q I_d + -53.587 v_q I_q + -4.276 v_q V_d + -160.394 v_q V_q + 2.480 v_q V_0 + -39.501 v_0 I_d + -59.863 v_0 I_q + -957.039 I_d^2 + 13875.230 I_d I_q + -2290.097 I_d V_d + -888.766 I_d V_q + -3.121 I_d \\omega + 1.477 I_d f + -2508.734 I_q^2 + -1157.302 I_q V_d + -2537.212 I_q V_q + -139724.938 I_q V_0 + 64.709 I_q \\omega + 0.494 I_q f + -1750409.880 V_d^2 + 22.620 V_d V_q + -545.521 V_d V_0 + 3.954 V_d \\omega + -1750370.921 V_q^2 + 8579.655 V_q V_0 + -8.020 V_q \\omega + 1.356 V_0 \\omega + -13.142 V_0 f\n",
      "Sparsity:  114\n",
      "UMP100.pkl\n",
      "UMP30.pkl\n",
      "UMP70.pkl\n"
     ]
    }
   ],
   "source": [
    "####################################\n",
    "## 7 linear model UMP with 50 ecc ##\n",
    "####################################\n",
    "testdata = os.path.join(os.getcwd(), 'test-data', '08-08', 'IMMEC_50ecc_ecc_5.0sec.npz')\n",
    "plot_optuna_data('_w5//umplinear_50ecc-optuna-study')\n",
    "\n",
    "models = ['ump_linear_50ecc_30', 'ump_linear_50ecc_70','ump_linear_50ecc_100']\n",
    "\n",
    "plot_function(models, testdata, 'ump', True, 'ump_50')"
   ]
  },
  {
   "cell_type": "code",
   "execution_count": 14,
   "id": "fe5a6a17-bf02-43ce-978c-fbbd6634665b",
   "metadata": {},
   "outputs": [
    {
     "name": "stderr",
     "output_type": "stream",
     "text": [
      "[I 2024-08-19 10:56:46,453] Study name was omitted but trying to load 'optuna_studies//currentsnonlinear_50ecc-optuna-study' because that was the only study found in the storage.\n"
     ]
    },
    {
     "name": "stdout",
     "output_type": "stream",
     "text": [
      "['optuna_studies//currentsnonlinear_50ecc-optuna-study']\n",
      "Trial count: 1000\n",
      "(i_d)' = -82.998 i_d + 761.640 i_q + 14.752 v_d + -46.938 v_q + -23.964 v_0 + 79.178 I_d + 4631.086 I_q + 160.176 V_d + -706.000 V_q + 1511.940 V_0 + -0.806 \\gamma i_d + -0.480 \\gamma i_q + 12.109 \\gamma I_d + -39.150 \\gamma I_q + 0.598 \\gamma V_q + -178.277 \\gamma V_0 + -0.768 \\omega i_q + -440.052 \\omega I_d + -15.677 \\omega I_q + 55.814 \\omega V_d + 7.336 \\omega V_q + -8.759 \\omega V_0 + 50.023 v_d I_d + 78.457 v_d I_q + -16.714 v_d V_d + -8.325 v_d V_q + -1.887 v_d V_0 + -70.302 v_q I_d + 51.236 v_q I_q + 8.261 v_q V_d + -16.818 v_q V_q + -4.281 v_q V_0 + 97.559 v_0 I_d + 69.148 v_0 I_q + 0.785 v_0 V_d + -51.700 v_0 V_0\n",
      "(i_q)' = -675.526 i_d + -34.967 i_q + 63.314 v_d + 6.095 v_q + -5.031 v_0 + -4517.643 I_d + 99.596 I_q + 699.458 V_d + 113.128 V_q + 667.953 V_0 + -1.806 \\gamma i_q + -71.760 \\gamma I_d + 65.340 \\gamma I_q + 3.141 \\gamma V_d + 4.901 \\gamma V_q + -4.536 \\gamma V_0 + 0.791 \\omega i_d + -5.083 \\omega I_d + -357.379 \\omega I_q + 55.462 \\omega V_q + 12.459 v_d I_d + 14.980 v_d I_q + -9.650 v_d V_d + -1.406 v_d V_q + -2.284 v_d V_0 + -13.802 v_q I_d + 15.844 v_q I_q + 1.438 v_q V_d + -9.698 v_q V_q + 8.493 v_0 I_d + 32.880 v_0 I_q + 1.046 v_0 V_d + -9.958 v_0 V_0\n",
      "(i_0)' = 0.000\n",
      "Sparsity:  69\n",
      "currents70.pkl\n",
      "currents_simulation70.pkl\n"
     ]
    }
   ],
   "source": [
    "############################################\n",
    "## 8 nonlinear model currents with 50 ecc ##\n",
    "############################################\n",
    "testdata = os.path.join(os.getcwd(), 'test-data', '08-07-nonlin-50ecc', 'IMMEC_nonlin_50ecc_5.0sec.npz')\n",
    "plot_optuna_data('_w5//currentsnonlinear_50ecc-optuna-study')\n",
    "\n",
    "models = ['currents_nonlinear_50ecc_70'] #, 'currents_nonlinear_50ecc_100', currents_nonlinear_50ecc_260']\n",
    "\n",
    "plot_function(models, testdata, 'currents', True, 'currents_50_nl')"
   ]
  },
  {
   "cell_type": "code",
   "execution_count": 15,
   "id": "0addc5ad-79d4-404a-a043-482717deb0d2",
   "metadata": {},
   "outputs": [
    {
     "name": "stderr",
     "output_type": "stream",
     "text": [
      "[I 2024-08-19 10:57:19,177] Study name was omitted but trying to load 'optuna_studies//torquenonlinear_50ecc-optuna-study' because that was the only study found in the storage.\n"
     ]
    },
    {
     "name": "stdout",
     "output_type": "stream",
     "text": [
      "['optuna_studies//torquenonlinear_50ecc-optuna-study']\n",
      "Trial count: 1000\n",
      "(i_d)' = -0.020 i_q + 0.523 I_d + -1.200 I_q + -0.105 V_d + 0.125 V_q + 0.031 i_d I_d + 6.133 i_d I_q + -1.001 i_d V_q + -6.007 i_q I_d + -0.108 i_q I_q + 0.997 i_q V_d + 0.359 i_q V_0 + -0.118 v_0 I_d + 0.201 v_0 I_q + -1.181 v_0 V_0 + 0.163 I_d V_d + -0.881 I_d V_q + 1.197 I_q^2 + 0.779 I_q V_d + 0.262 I_q V_q\n",
      "Sparsity:  20\n",
      "(i_d)' = -0.482 i_d + 0.531 i_q + 0.032 v_d + -0.035 v_q + -4.828 I_d + 3.975 I_q + 3.846 V_d + 1.138 V_q + 5.430 V_0 + -0.031 \\omega + 1.302 i_d I_d + 7.422 i_d I_q + -0.024 i_d V_d + -0.780 i_d V_q + -0.176 i_d V_0 + -8.036 i_q I_d + 0.525 i_q I_q + 0.762 i_q V_d + 0.641 i_q V_0 + -0.051 v_d I_d + -0.096 v_d I_q + -0.020 v_d V_q + 0.103 v_q I_d + -0.053 v_q I_q + 0.020 v_q V_d + -0.276 v_0 V_0 + 11.503 I_d^2 + -5.339 I_d I_q + -1.627 I_d V_d + 4.866 I_d V_q + -44.329 I_d V_0 + 6.051 I_q^2 + -3.296 I_q V_d + -0.622 I_q V_q + 20.873 I_q V_0 + -0.013 I_q \\omega + -1.467 V_d^2 + 0.223 V_d V_0 + -1.503 V_q^2\n",
      "Sparsity:  39\n",
      "Torque10.pkl\n",
      "Torque40.pkl\n"
     ]
    }
   ],
   "source": [
    "##########################################\n",
    "## 9 nonlinear model torque with 50 ecc ##\n",
    "##########################################\n",
    "testdata = os.path.join(os.getcwd(), 'test-data', '08-07-nonlin-50ecc', 'IMMEC_nonlin_50ecc_5.0sec.npz')\n",
    "plot_optuna_data('_w5//torquenonlinear_50ecc-optuna-study')\n",
    "\n",
    "models = ['torque_nonlinear_50ecc_10', 'torque_nonlinear_50ecc_40']\n",
    "\n",
    "plot_function(models, testdata, 'torque', True, 'torque_50_nl')"
   ]
  },
  {
   "cell_type": "code",
   "execution_count": 3,
   "id": "ba85ea15-c729-496b-9b10-aa5b57563d7d",
   "metadata": {},
   "outputs": [
    {
     "name": "stderr",
     "output_type": "stream",
     "text": [
      "[I 2024-08-20 11:49:04,827] Study name was omitted but trying to load 'optuna_studies//umpnonlinear_50ecc-optuna-study' because that was the only study found in the storage.\n"
     ]
    },
    {
     "name": "stdout",
     "output_type": "stream",
     "text": [
      "['optuna_studies//umpnonlinear_50ecc-optuna-study']\n",
      "Trial count: 1000\n",
      "(i_d)' = -35.875 i_d + 69.781 i_q + -11.793 v_d + -20.944 v_q + -38.837 v_0 + 1209.624 I_d + 2767.115 I_q + -20.283 V_d + -351.998 V_q + 123.391 V_0 + -6.449 \\gamma i_d + -0.064 \\gamma i_q + 1.809 \\gamma I_d + -60.408 \\gamma I_q + 10.613 \\gamma V_d + -6.336 \\gamma V_q + -322.530 \\gamma V_0 + 0.237 \\omega i_d + -0.202 \\omega i_q + 78.464 \\omega I_d + -58.283 \\omega I_q + 10.553 \\omega V_d + -8.660 \\omega V_q + 4.432 \\omega V_0 + 0.013 v_d i_d + -0.786 v_d i_q + 17.089 v_d I_d + -110.810 v_d I_q + 3.828 v_d V_d + 10.595 v_d V_q + -6.136 v_d V_0 + 0.695 v_q i_d + 0.179 v_q i_q + 97.068 v_q I_d + 17.209 v_q I_q + -10.431 v_q V_d + 3.552 v_q V_q + -3.609 v_q V_0 + -1.716 v_0 i_d + -0.994 v_0 i_q + 350.938 v_0 I_d + -241.418 v_0 I_q + 1.772 v_0 V_d + -0.060 v_0 V_q + -254.547 v_0 V_0\n",
      "(i_q)' = -29.827 i_d + 20.021 i_q + 3.869 v_d + -6.330 v_q + 30.386 v_0 + -857.808 I_d + 1395.058 I_q + 122.359 V_d + -28.517 V_q + 261.576 V_0 + -3.222 \\gamma i_d + 2.049 \\gamma i_q + 115.814 \\gamma I_d + -162.980 \\gamma I_q + 1.738 \\gamma V_d + -8.410 \\gamma V_q + -137.655 \\gamma V_0 + 0.090 \\omega i_d + 0.098 \\omega i_q + -5.822 \\omega I_d + 8.910 \\omega I_q + 6.127 \\omega V_d + 3.096 \\omega V_q + 0.908 \\omega V_0 + 0.057 v_d i_d + 0.019 v_d i_q + -11.104 v_d I_d + -42.379 v_d I_q + 2.000 v_d V_d + 5.559 v_d V_q + -0.218 v_d V_0 + -0.070 v_q i_d + 0.006 v_q i_q + 36.545 v_q I_d + -19.499 v_q I_q + -5.422 v_q V_d + 2.241 v_q V_q + 5.064 v_q V_0 + -1.739 v_0 i_d + 0.559 v_0 i_q + 16.169 v_0 I_d + -303.299 v_0 I_q + 0.069 v_0 V_d + -2.860 v_0 V_q + 18.346 v_0 V_0\n",
      "Sparsity:  90\n",
      "(i_d)' = 0.699 1 + 110.278 i_d + 186.477 i_q + -14.180 v_d + -0.517 v_q + -19.680 v_0 + -1818.178 I_d + 7372.754 I_q + -334.260 V_d + -1397.475 V_q + 12256.271 V_0 + -1.706 \\omega + 10.722 i_d^2 + -2.898 i_d i_q + -353.896 i_d I_d + 437.236 i_d I_q + -56.715 i_d V_d + -47.928 i_d V_q + 348.808 i_d V_0 + 32.408 i_q^2 + -229.123 i_q I_d + -446.167 i_q I_q + -15.067 i_q V_d + -138.457 i_q V_q + 82.201 i_q V_0 + 40.970 v_d I_d + 73.022 v_d I_q + -0.761 v_d V_q + -19.243 v_q I_d + 33.319 v_q I_q + 0.771 v_q V_d + 101.257 v_0 I_d + 17.128 v_0 I_q + 0.013 v_0 V_d + -156.446 v_0 V_0 + -1122.712 I_d^2 + 7206.753 I_d I_q + -1212.182 I_d V_d + 3963.045 I_d V_q + -80064.832 I_d V_0 + 3.573 I_d \\omega + 2.372 I_d f + -18330.935 I_q^2 + -4642.668 I_q V_d + -15.788 I_q V_q + 560.829 I_q V_0 + 3.008 I_q \\omega + -2.840 I_q f + 460.556 V_d^2 + 33.682 V_d V_q + 523.097 V_d V_0 + -0.373 V_d \\omega + 526.208 V_q^2 + 1964.936 V_q V_0 + 0.105 V_q \\omega + 89857.540 V_0^2\n",
      "(i_q)' = -5.618 1 + -152.951 i_d + -107.090 i_q + -5.624 v_d + -4.690 v_q + 20.956 v_0 + 1960.400 I_d + 3875.585 I_q + 203.556 V_d + -179.042 V_q + 322.551 V_0 + -0.191 \\omega + -12.268 i_d i_q + -0.973 i_d v_0 + 1041.227 i_d I_d + -697.549 i_d I_q + 59.579 i_d V_d + -29.023 i_d V_q + -7.086 i_d V_0 + 1.685 i_q^2 + 483.077 i_q I_d + 263.702 i_q I_q + -2.815 i_q V_d + 10.319 i_q V_q + 46.871 i_q V_0 + -7.180 v_d I_d + 66.878 v_d I_q + -1.060 v_d V_q + -5.190 v_q I_d + 42.333 v_q I_q + 1.119 v_q V_d + -24.492 v_0 I_d + -160.264 v_0 I_q + -126.939 v_0 V_0 + -17455.862 I_d^2 + 12143.689 I_d I_q + 2638.200 I_d V_d + 184.212 I_d V_q + -4216.001 I_d V_0 + -8.136 I_d \\omega + -0.583 I_d f + -35216.236 I_q^2 + -1508.830 I_q V_d + 4348.762 I_q V_q + -867.735 I_q V_0 + 5.822 I_q f + -242.077 V_d^2 + 5.289 V_d V_q + 156.057 V_d V_0 + -241.130 V_q^2 + 509.642 V_q V_0 + -0.646 V_q \\omega + -151691.779 V_0^2 + -3.604 V_0 \\omega + 21.798 V_0 f\n",
      "Sparsity:  111\n",
      "(i_d)' = -2647.704 1 + 141.993 i_d + 229.573 i_q + -14.974 v_d + -2.111 v_q + -62.061 v_0 + -1028.410 I_d + 6793.397 I_q + -265.306 V_d + -1291.064 V_q + 14513.772 V_0 + 1.831 \\omega + 0.679 f + 11063491.590 r_x + 10.538 i_d^2 + -6.623 i_d i_q + -0.103 i_d v_d + 0.190 i_d v_q + 0.133 i_d v_0 + -385.016 i_d I_d + 403.741 i_d I_q + -81.275 i_d V_d + -38.361 i_d V_q + -471.992 i_d V_0 + 0.015 i_d \\omega + -0.161 i_d f + 0.033 i_d r_x + 22.795 i_q^2 + -0.137 i_q v_d + -0.358 i_q v_0 + -268.209 i_q I_d + -817.176 i_q I_q + -16.744 i_q V_d + -128.834 i_q V_q + 623.208 i_q V_0 + -0.052 i_q \\omega + 0.249 i_q f + 0.055 i_q r_x + 0.009 v_d^2 + -0.013 v_d v_0 + 31.154 v_d I_d + 55.320 v_d I_q + 2.475 v_d V_d + 1.462 v_d V_q + 17.319 v_d V_0 + -0.004 v_d r_x + 0.009 v_q^2 + -0.018 v_q v_0 + -3.234 v_q I_d + 31.183 v_q I_q + -1.529 v_q V_d + 2.430 v_q V_q + -2.284 v_q V_0 + 0.048 v_0^2 + 294.645 v_0 I_d + 91.640 v_0 I_q + 3.488 v_0 V_d + -5.147 v_0 V_q + -65.585 v_0 V_0 + -0.015 v_0 r_x + -2053.174 I_d^2 + 7488.083 I_d I_q + -1654.378 I_d V_d + 4166.757 I_d V_q + -118508.202 I_d V_0 + 3.858 I_d \\omega + -1.534 I_d f + -0.245 I_d r_x + -17000.359 I_q^2 + -4189.525 I_q V_d + -296.379 I_q V_q + 9421.516 I_q V_0 + -0.650 I_q \\omega + 4.365 I_q f + 1.620 I_q r_x + 447.440 V_d^2 + 4.534 V_d V_q + 3004.590 V_d V_0 + -0.462 V_d \\omega + 0.349 V_d f + -0.063 V_d r_x + 457.993 V_q^2 + 3314.285 V_q V_0 + 0.022 V_q \\omega + -0.666 V_q f + -0.308 V_q r_x + 85447.785 V_0^2 + -2.043 V_0 \\omega + 12.878 V_0 f + 3.462 V_0 r_x + -0.014 \\omega^2 + -0.005 \\omega f + -0.004 f^2 + 0.137 sin(1 \\gamma) + 0.109 cos(1 \\gamma)\n",
      "(i_q)' = -1.837 1 + -1.946 i_d + -128.426 i_q + -10.639 v_d + 2.707 v_q + 42.415 v_0 + 3548.956 I_d + 2765.982 I_q + -546.141 V_d + -349.015 V_q + 2007.119 V_0 + 5.204 \\omega + 0.123 f + -0.472 i_d^2 + -8.665 i_d i_q + -0.145 i_d v_d + 0.054 i_d v_q + -0.386 i_d v_0 + 773.645 i_d I_d + -825.998 i_d I_q + -26.135 i_d V_d + -31.504 i_d V_q + 346.995 i_d V_0 + 0.027 i_d \\omega + -0.060 i_d f + -3.806 i_q^2 + -0.094 i_q v_d + -0.148 i_q v_q + -0.188 i_q v_0 + 290.939 i_q I_d + 536.635 i_q I_q + 43.433 i_q V_d + -28.525 i_q V_q + 784.649 i_q V_0 + 0.091 i_q \\omega + -0.785 i_q f + -0.031 i_q r_x + 0.013 v_d^2 + 0.006 v_d v_0 + -27.357 v_d I_d + 45.900 v_d I_q + 5.554 v_d V_d + 3.002 v_d V_q + -4.198 v_d V_0 + -0.003 v_d r_x + 0.013 v_q^2 + 0.016 v_q v_0 + -12.927 v_q I_d + -6.889 v_q I_q + -3.244 v_q V_d + 5.374 v_q V_q + -1.074 v_q V_0 + 0.001 v_q r_x + -73.387 v_0 I_d + -252.156 v_0 I_q + -4.863 v_0 V_d + 3.168 v_0 V_q + 24.818 v_0 V_0 + 0.010 v_0 r_x + -11258.435 I_d^2 + 1083.915 I_d I_q + 852.151 I_d V_d + -585.506 I_d V_q + 15195.002 I_d V_0 + 8.271 I_d \\omega + -2.202 I_d f + 0.846 I_d r_x + -24125.898 I_q^2 + 261.823 I_q V_d + 2680.044 I_q V_q + -21825.912 I_q V_0 + -13.213 I_q \\omega + -4.858 I_q f + 0.660 I_q r_x + 149.385 V_d^2 + 3.729 V_d V_q + -790.495 V_d V_0 + 0.260 V_d \\omega + 0.671 V_d f + -0.130 V_d r_x + 105.608 V_q^2 + -2417.614 V_q V_0 + -2.876 V_q \\omega + 1.584 V_q f + -0.083 V_q r_x + 47540.479 V_0^2 + -2.326 V_0 \\omega + 13.568 V_0 f + 0.479 V_0 r_x + -0.019 \\omega^2 + -0.005 \\omega f + 0.001 \\omega r_x + -0.004 f^2 + 0.025 sin(1 \\gamma) + -0.095 cos(1 \\gamma)\n",
      "Sparsity:  193\n",
      "(i_d)' = 0.077 1 + 67.917 i_d + 383.949 i_q + 110.532 v_d + 39.438 v_q + -12.099 v_0 + -276.197 I_d + 4705.168 I_q + 879.620 V_d + -126.034 V_q + 3688.836 V_0 + -11.868 \\omega + -161.889 i_d i_q + -7.332 i_d v_d + -4.157 i_d v_q + 457.537 i_d I_d + -1739.398 i_d I_q + -103.006 i_d V_d + 355.342 i_d V_q + 114.414 i_d V_0 + 0.415 i_d \\omega + 2.008 i_d f + 4.772 i_q v_d + -2.426 i_q v_q + -2.262 i_q v_0 + -1482.884 i_q I_d + -2340.139 i_q I_q + 210.433 i_q V_d + -258.804 i_q V_q + 2323.397 i_q V_0 + -22.892 i_q \\omega + 1.247 i_q f + -580.175 v_d I_d + -175.291 v_d I_q + -79.515 v_d V_d + -19.829 v_d V_q + -21.102 v_d V_0 + -174.523 v_q I_d + -10.072 v_q I_q + 16.310 v_q V_d + -79.633 v_q V_q + 179.444 v_q V_0 + 100.505 v_0 I_d + -91.466 v_0 I_q + 2.503 v_0 V_q + 68.981 v_0 V_0 + -3013.017 I_d V_d + 2583.480 I_d V_q + 101.975 I_d \\omega + -37.960 I_d f + 2648.339 I_q V_d + -2357.227 I_q V_q + -330.603 I_q \\omega + 55.251 I_q f + -798.289 V_d V_q + -468.637 V_d V_0 + -20.518 V_d \\omega + 3.215 V_d f + 521.171 V_q V_0 + 53.937 V_q \\omega + -2.309 V_q f + 0.864 V_0 \\omega + -206.753 V_0 f + 1097.275 i_d i_q I_d + 70.712 i_d i_q I_q + -14.696 i_d i_q V_d + 11.199 i_d i_q V_q + 15.552 i_d v_d I_d + 3.481 i_d v_d V_d + 0.468 i_d v_q I_q + 3.511 i_d v_q V_q + 2.454 i_d v_q V_0 + -1.405 i_d v_0 I_d + -10.146 i_d v_0 V_0 + 11474.775 i_d I_d I_q + -144.618 i_d I_d V_d + -1868.456 i_d I_d V_q + 2.305 i_d I_d \\omega + -15.896 i_d I_d f + -109.921 i_d I_q V_d + -575.734 i_d I_q V_q + -22.478 i_d I_q \\omega + 4.811 i_d I_q f + 7.425 i_d V_d V_q + -777.724 i_d V_d V_0 + 1.908 i_d V_d \\omega + 762.442 i_d V_q V_0 + -0.851 i_d V_q \\omega + 0.276 i_d V_q f + 0.704 i_q v_d I_d + -2.719 i_q v_d V_d + -0.002 i_q v_d V_q + -2.981 i_q v_d V_0 + -1.620 i_q v_q I_d + -2.399 i_q v_q I_q + -0.016 i_q v_q V_d + -2.723 i_q v_q V_q + -1.353 i_q v_q V_0 + 11.059 i_q v_0 I_d + -9.776 i_q v_0 V_0 + 6436.710 i_q I_d I_q + -910.051 i_q I_d V_d + 748.590 i_q I_d V_q + -12981.108 i_q I_d V_0 + 72.042 i_q I_d \\omega + -8.230 i_q I_d f + 185.227 i_q I_q V_d + 990.100 i_q I_q V_q + -2140.408 i_q I_q V_0 + 35.926 i_q I_q \\omega + 8.226 i_q I_q f + -37.025 i_q V_d V_q + 249.114 i_q V_d V_0 + 4.744 i_q V_d \\omega + -0.206 i_q V_d f + 1.912 i_q V_q \\omega + 6.028 i_q V_0 \\omega + -36.981 i_q V_0 f + 329.452 v_d I_d V_d + 57.212 v_d I_d V_q + 275.088 v_d I_d V_0 + 256.904 v_d I_q V_d + 87.217 v_d I_q V_q + -22.559 v_d V_q V_0 + -679.912 v_q I_d I_q + -58.643 v_q I_d V_d + 335.377 v_q I_d V_q + -929.043 v_q I_d V_0 + -52.824 v_q I_q V_d + 238.928 v_q I_q V_q + 28.032 v_q V_d V_0 + 1.690 v_q V_q V_0 + 203.030 v_0 I_d I_q + 6.326 v_0 I_d V_d + -21.349 v_0 I_d V_q + -0.084 v_0 I_d \\omega + -0.134 v_0 I_d f + -9.519 v_0 I_q V_d + 11.398 v_0 I_q V_q + 0.148 v_0 I_q \\omega + 0.151 v_0 I_q f + 43.385 v_0 V_d V_0 + 13.129 v_0 V_q V_0 + -2.841 v_0 V_0 f + -29569.160 I_d I_q V_d + -3743.864 I_d I_q V_q + 1602.069 I_d I_q \\omega + 85.327 I_d I_q f + 3921.850 I_d V_d V_q + 78.265 I_d V_d \\omega + 11.293 I_d V_d f + -410.397 I_d V_q \\omega + 29.362 I_d V_q f + 54.157 I_d V_0 \\omega + 642.186 I_d V_0 f + 427.176 I_q V_d V_q + 73.337 I_q V_d \\omega + -52.753 I_q V_d f + 121.966 I_q V_q \\omega + -36.506 I_q V_q f + -584.006 V_d V_q V_0 + 1.069 V_d V_q \\omega + -0.027 V_d V_q f + -52.967 V_d V_0 \\omega + 34.238 V_d V_0 f + -2.142 V_q V_0 \\omega + 65.665 V_q V_0 f\n",
      "(i_q)' = -17.939 i_d + -182.765 i_q + 35.689 v_d + 33.325 v_q + 19.625 v_0 + 1918.641 I_d + 58.052 I_q + 285.329 V_d + 354.889 V_q + 1.192 \\omega + 61.890 i_d i_q + 0.828 i_d v_d + -0.910 i_d v_0 + -137.633 i_d I_d + 125.832 i_d V_d + -45.976 i_d V_q + 3127.335 i_d V_0 + -1.628 i_d \\omega + -3.399 i_d f + -1.475 i_q v_d + -0.089 i_q v_q + 1552.404 i_q I_d + 1887.274 i_q I_q + -154.010 i_q V_d + -120.651 i_q V_q + -576.016 i_q V_0 + 7.282 i_q \\omega + -0.053 i_q f + 60.202 v_d I_d + -464.005 v_d I_q + -50.821 v_d V_d + -208.498 v_d V_0 + -53.767 v_q I_d + -198.479 v_q I_q + -6.422 v_q V_d + -40.601 v_q V_q + 109.766 v_q V_0 + -54.663 v_0 I_d + -191.557 v_0 I_q + -0.724 v_0 V_d + 125.114 v_0 V_0 + -1601.162 I_d V_d + -1799.967 I_d V_q + 39.307 I_d \\omega + -81.582 I_d f + -1602.013 I_q V_d + -3403.226 I_q V_q + 293.459 I_q \\omega + 62.773 I_q f + 303.523 V_d V_q + -9.392 V_d \\omega + 8.468 V_d f + 905.687 V_q V_0 + -29.236 V_q \\omega + -10.040 V_q f + -653.563 i_d i_q I_q + 16.281 i_d i_q V_d + -1.539 i_d i_q V_q + 112.557 i_d i_q V_0 + 2.972 i_d v_d I_q + -0.588 i_d v_d V_q + -13.041 i_d v_q I_d + 0.097 i_d v_q I_q + 0.508 i_d v_q V_d + -3.313 i_d v_q V_0 + 4.223 i_d v_0 I_d + 13.172 i_d v_0 V_0 + -750.358 i_d I_d V_d + 459.088 i_d I_d V_q + -3632.743 i_d I_d V_0 + -12.791 i_d I_d \\omega + 27.891 i_d I_d f + 396.361 i_d I_q V_d + -4442.160 i_d I_q V_0 + 4.186 i_d I_q \\omega + -16.080 i_d I_q f + -24.197 i_d V_d V_q + -296.927 i_d V_d V_0 + 1.877 i_d V_d \\omega + -0.668 i_d V_d f + -1756.210 i_d V_q V_0 + 0.692 i_d V_q \\omega + 0.705 i_d V_q f + -1.724 i_d V_0 \\omega + 0.335 i_q v_d I_d + -5.717 i_q v_d I_q + -0.238 i_q v_d V_d + 1.690 i_q v_d V_q + 3.753 i_q v_d V_0 + 12.564 i_q v_q I_d + 11.877 i_q v_q I_q + -1.699 i_q v_q V_d + -0.348 i_q v_q V_q + 2.904 i_q v_0 I_q + 24.142 i_q v_0 V_0 + -12869.057 i_q I_d I_q + -241.910 i_q I_d V_d + -80.060 i_q I_d V_q + -5.264 i_q I_d \\omega + -14.597 i_q I_d f + 1699.064 i_q I_q V_d + 719.759 i_q I_q V_q + -15.136 i_q I_q \\omega + 27.974 i_q I_q f + 33.373 i_q V_d V_q + -491.418 i_q V_d V_0 + -1.295 i_q V_d \\omega + 1055.231 i_q V_q V_0 + -1.111 i_q V_q \\omega + 16.954 i_q V_0 f + 19.509 v_d I_d I_q + 57.336 v_d I_d V_d + -30.388 v_d I_d V_q + 1185.083 v_d I_d V_0 + 349.750 v_d I_q V_d + 83.460 v_d I_q V_q + 1952.556 v_d I_q V_0 + -183.171 v_d V_d V_0 + 66.952 v_q I_d I_q + 58.289 v_q I_d V_d + 1.140 v_q I_d V_q + -68.076 v_q I_q V_d + 341.204 v_q I_q V_q + 148.219 v_q I_q V_0 + -1.759 v_q V_d V_0 + -182.363 v_q V_q V_0 + 570.224 v_0 I_d I_q + -0.260 v_0 I_d f + 3.347 v_0 I_q V_d + -4.889 v_0 I_q V_q + 0.516 v_0 I_q f + -62.768 v_0 V_d V_0 + -45.648 v_0 V_q V_0 + 5764.983 I_d I_q V_d + 16525.809 I_d I_q V_q + -1861.653 I_d I_q \\omega + 290.610 I_d I_q f + -290.823 I_d V_d V_q + 8.372 I_d V_d \\omega + -2.345 I_d V_d f + 109.620 I_d V_q \\omega + 91.905 I_d V_q f + -128.415 I_d V_0 \\omega + 366.152 I_d V_0 f + 0.202 I_d \\omega f + -2107.576 I_q V_d V_q + 96.742 I_q V_d \\omega + -62.279 I_q V_d f + 49.443 I_q V_q \\omega + -51.495 I_q V_q f + 380.162 I_q V_0 \\omega + -0.234 I_q \\omega f + 247.592 V_d V_q V_0 + 0.766 V_d V_q \\omega + -1.950 V_d V_q f + -24.990 V_d V_0 f + -48.552 V_q V_0 f\n",
      "Sparsity:  324\n",
      "UMP100.pkl\n",
      "UMP170.pkl\n",
      "UMP300.pkl\n",
      "UMP90.pkl\n"
     ]
    }
   ],
   "source": [
    "########################################\n",
    "## 10 nonlinear model ump with 50 ecc ##\n",
    "########################################\n",
    "testdata = os.path.join(os.getcwd(), 'test-data', '08-07-nonlin-50ecc', 'IMMEC_nonlin_50ecc_5.0sec.npz')\n",
    "plot_optuna_data('_w5//umpnonlinear_50ecc-optuna-study')\n",
    "\n",
    "models = ['ump_nonlinear_50ecc_90', 'ump_nonlinear_50ecc_100', 'ump_nonlinear_50ecc_170', 'ump_nonlinear_50ecc_300']\n",
    "\n",
    "plot_function(models, testdata, 'ump', True, 'ump_50_nl')"
   ]
  },
  {
   "cell_type": "code",
   "execution_count": 8,
   "id": "234aeac4-6045-4440-9d14-b7833bd767e4",
   "metadata": {},
   "outputs": [
    {
     "name": "stderr",
     "output_type": "stream",
     "text": [
      "[I 2024-08-20 11:00:42,880] Study name was omitted but trying to load 'optuna_studies//currentslinear_dynamic_50ecc-optuna-study' because that was the only study found in the storage.\n"
     ]
    },
    {
     "name": "stdout",
     "output_type": "stream",
     "text": [
      "['optuna_studies//currentslinear_dynamic_50ecc-optuna-study']\n",
      "Trial count: 1068\n",
      "(i_d)' = -224.840 i_d + 3.599 i_q + 36.404 v_d + 10.468 v_q + -1351.193 I_d + 62.594 I_q + 215.137 V_d + -6.630 V_q + 4.253 V_0 + 0.024 \\gamma i_d + 1.064 \\gamma i_q + -4.782 \\gamma I_d + 23.291 \\gamma I_q + 0.003 \\gamma V_d + -2.041 \\gamma V_q + -1.014 \\omega i_q + -113.383 \\omega I_q + 18.288 \\omega V_q + -16.453 v_d V_d + -16.453 v_q V_q\n",
      "(i_q)' = -48.558 i_d + -157.279 i_q + -9.040 v_d + 6.377 v_q + -499.707 I_d + -907.018 I_q + 76.345 V_d + 153.950 V_q + -25.639 V_0 + -1.062 \\gamma i_q + 5.486 \\gamma I_d + -21.239 \\gamma I_q + 2.008 \\gamma V_q + 7.465 \\gamma V_0 + 1.037 \\omega i_d + 77.573 \\omega I_d + -8.990 \\omega I_q + -14.245 \\omega V_d + 4.450 \\omega V_q + 0.033 v_d I_d + 12.231 v_d V_d + 0.091 v_q I_q + 12.231 v_q V_q\n",
      "(i_0)' = 0.000\n",
      "Sparsity:  43\n",
      "currents40.pkl\n",
      "currents40_2.pkl\n",
      "currents_simulation40.pkl\n",
      "currents_simulation40_2.pkl\n"
     ]
    }
   ],
   "source": [
    "#########################################\n",
    "## 11 linear dynamical 50 ecc currents ##  \n",
    "#########################################\n",
    "testdata = os.path.join(os.getcwd(), 'test-data','08-09','IMMEC_dynamic_50ecc_5.0sec.npz')\n",
    "testdata = os.path.join(os.getcwd(), 'test-data','08-19','IMMEC_dynamic_linear_5.0sec.npz') # alternative test file\n",
    "plot_optuna_data('_w5//currentslinear_dynamic_50ecc-optuna-study')\n",
    "\n",
    "\n",
    "models = ['currents_linear_dynamic_50ecc_40'] #  ['currents_linear_dynamic_50ecc_300'] #diverges, nonzero dc comp\n",
    "plot_function(models, testdata, 'currents', True, 'currents_d')"
   ]
  },
  {
   "cell_type": "code",
   "execution_count": 3,
   "id": "e32a005c-a035-4938-8699-08dfeb569f4d",
   "metadata": {},
   "outputs": [
    {
     "name": "stderr",
     "output_type": "stream",
     "text": [
      "[I 2024-08-20 11:02:50,390] Study name was omitted but trying to load 'optuna_studies//torquelinear_dynamic_50ecc-optuna-study' because that was the only study found in the storage.\n"
     ]
    },
    {
     "name": "stdout",
     "output_type": "stream",
     "text": [
      "['optuna_studies//torquelinear_dynamic_50ecc-optuna-study']\n",
      "Trial count: 1000\n",
      "(i_d)' = 6.338 i_d I_q + -1.023 i_d V_q + -6.339 i_q I_d + 1.023 i_q V_d\n",
      "ecc input:  True\n",
      "Loading data\n",
      "Done loading data\n",
      "Calculating xdots\n",
      "Assume all t_vec are equal for all simulations\n",
      "Done calculating xdots\n",
      "Nonzero ecc, added to input data\n",
      "MSE on test:  0.0017403250214071038\n",
      "Non-zero elements:  4\n",
      "MSE simplified model 0.001788784117626579\n",
      "(i_d)' = 0.006 1 + 0.099 i_q + 0.450 v_d + 0.259 v_q + 0.004 I_d + 0.931 I_q + -0.190 V_q + -0.279 i_d I_d + 6.665 i_d I_q + 0.009 i_d V_d + -1.016 i_d V_q + -6.609 i_q I_d + -0.427 i_q I_q + 1.014 i_q V_d + -7.372 i_q r_x + 0.004 v_d I_d + -0.409 v_d V_d + -0.131 v_d r_x + 0.015 v_q I_q + -0.409 v_q V_q + -2.471 I_d^2 + 0.381 I_d V_d + 0.735 I_d V_q + -1.942 I_q^2 + -0.662 I_q V_d + 0.591 I_q V_q + 0.006 V_d^2 + -0.030 \\omega r_y + 0.211 f r_y\n",
      "ecc input:  True\n",
      "Loading data\n",
      "Done loading data\n",
      "Calculating xdots\n",
      "Assume all t_vec are equal for all simulations\n",
      "Done calculating xdots\n",
      "Nonzero ecc, added to input data\n",
      "MSE on test:  0.0016965328186808008\n",
      "Non-zero elements:  29\n",
      "MSE simplified model 0.001788784117626579\n",
      "(i_d)' = 1.421 i_d + -2.533 i_q + 1.212 v_d + 0.929 v_q + 16.240 I_d + -24.220 I_q + -1.882 V_d + 3.826 V_q + 0.785 V_0 + 0.120 \\omega + 22.033 r_x + 17.185 r_y + -1.369 i_d I_q + -2.005 i_d V_q + 0.261 i_d V_0 + 10.920 i_d r_x + -7.899 i_d r_y + 0.797 i_q I_d + 1.695 i_q I_q + 2.010 i_q V_d + -0.305 i_q V_0 + 18.102 i_q r_y + 0.122 v_d I_d + 0.498 v_d I_q + -1.208 v_d V_d + 0.074 v_d V_q + -0.505 v_q I_d + 0.109 v_q I_q + -0.074 v_q V_d + -1.208 v_q V_q + -7.456 I_d^2 + -6.253 I_d I_q + -1.345 I_d V_d + -18.493 I_d V_q + 27.247 I_q^2 + 20.508 I_q V_d + -5.075 I_q V_q + -6.405 I_q V_0 + -0.513 V_d V_0 + -20.113 V_d r_x + 6.152 V_d r_y + 0.676 V_q V_0 + -34.879 V_q r_y + -29.307 V_0^2 + 0.009 f r_y\n",
      "ecc input:  True\n",
      "Loading data\n",
      "Done loading data\n",
      "Calculating xdots\n",
      "Assume all t_vec are equal for all simulations\n",
      "Done calculating xdots\n",
      "Nonzero ecc, added to input data\n",
      "MSE on test:  0.00048216567821928304\n",
      "Non-zero elements:  45\n",
      "MSE simplified model 0.001788784117626579\n"
     ]
    }
   ],
   "source": [
    "#######################################\n",
    "## 12 linear dynamical 50 ecc torque ##\n",
    "#######################################\n",
    "testdata = os.path.join(os.getcwd(), 'test-data','08-09','IMMEC_dynamic_50ecc_5.0sec.npz')\n",
    "testdata = os.path.join(os.getcwd(), 'test-data','08-19','IMMEC_dynamic_linear_5.0sec.npz') # alternative test file\n",
    "plot_optuna_data('_w5//torquelinear_dynamic_50ecc-optuna-study')\n",
    "\n",
    "models = ['torque_linear_dynamic_50ecc_4','torque_linear_dynamic_50ecc_40', 'torque_linear_dynamic_50ecc_50']\n",
    "\n",
    "plot_function(models, testdata, 'torque', True, 'torque_d_2') # torque_d or torque_d_2 can be chosen"
   ]
  },
  {
   "cell_type": "code",
   "execution_count": 4,
   "id": "5418ec76-36ed-4bff-af5e-6eeb179e6f4d",
   "metadata": {
    "scrolled": true
   },
   "outputs": [
    {
     "name": "stderr",
     "output_type": "stream",
     "text": [
      "[I 2024-08-20 11:07:09,573] Study name was omitted but trying to load 'optuna_studies//umplinear_dynamic_50ecc-optuna-study' because that was the only study found in the storage.\n"
     ]
    },
    {
     "name": "stdout",
     "output_type": "stream",
     "text": [
      "['optuna_studies//umplinear_dynamic_50ecc-optuna-study']\n",
      "Trial count: 1000\n",
      "(i_d)' = 58.635 1 + -281.536 i_d + -90.080 i_q + 2.399 v_d + -5.213 v_q + -4370.071 I_d + -2945.077 I_q + -41493.851 V_d + -24026.651 V_q + 1642.934 V_0 + 7.462 \\omega + -3.102 f + 217169.304 r_x + -297716.406 r_y + -12.067 i_d^2 + 5.352 i_d i_q + 1531.714 i_d I_d + -1037.595 i_d I_q + -52.567 i_d V_q + -1003.154 i_d V_0 + 3.600 i_d f + 47530.639 i_d r_x + -44599.540 i_d r_y + 16.075 i_q^2 + 526.877 i_q I_d + 988.684 i_q I_q + -61.105 i_q V_d + -101.970 i_q V_q + 506.765 i_q V_0 + 1.642 i_q f + 30666.654 i_q r_x + -55678.354 i_q r_y + -5.891 v_d I_d + 16.472 v_d I_q + -0.179 v_d V_q + -0.789 v_d V_0 + -322.019 v_d r_x + 25.255 v_q I_d + 4.220 v_q I_q + 0.218 v_q V_d + -0.735 v_q V_0 + -107.635 v_q r_x + -483.404 v_q r_y + -5.625 v_0 I_d + 9.929 v_0 I_q + -1.803 v_0 V_0 + -549.428 v_0 r_x + -105.695 v_0 r_y + 21819.841 I_d^2 + 3157.995 I_d I_q + -3707.431 I_d V_d + -1211.893 I_d V_q + -21110.092 I_d V_0 + -47.459 I_d \\omega + 39.316 I_d f + 2522689.309 I_d r_x + 292482.542 I_d r_y + 7761.316 I_q^2 + 995.555 I_q V_d + -2666.238 I_q V_q + 3899.702 I_q V_0 + -12.762 I_q \\omega + 48.556 I_q f + 2011503.999 I_q r_x + 1805258.088 I_q r_y + 19147.524 V_d^2 + 116.831 V_d V_q + 1939.934 V_d V_0 + -6.330 V_d f + -54881.740 V_d r_x + 214483.034 V_d r_y + 19229.350 V_q^2 + -1233.851 V_q V_0 + 3.055 V_q \\omega + -2.451 V_q f + -135587.813 V_q r_x + 80790.510 V_q r_y + 5679.889 V_0^2 + 9.144 V_0 f + 2048.406 \\omega r_x + -2710.415 \\omega r_y + -6918.202 f r_x + 14780.696 f r_y + 3.989 cos(1 \\gamma)\n",
      "(i_q)' = -20.214 1 + 135.618 i_d + -98.927 i_q + -54.606 v_d + -25.852 v_q + -3.300 v_0 + 887.971 I_d + -3825.255 I_q + -238255.213 V_d + -137072.685 V_q + -510.640 V_0 + 8.461 \\omega + 327577.165 r_x + 197505.386 r_y + 5.539 i_d^2 + -11.249 i_d i_q + 316.613 i_d I_d + -1336.809 i_d I_q + -18.845 i_d V_d + 41.538 i_d V_q + 198.675 i_d V_0 + -0.859 i_d f + 32149.106 i_d r_y + 0.025 i_q^2 + 319.811 i_q I_d + -306.209 i_q I_q + 20.848 i_q V_d + -27.842 i_q V_q + -554.829 i_q V_0 + -18493.989 i_q r_x + 629.491 i_q r_y + 30.637 v_d I_d + -14.249 v_d I_q + 40.748 v_d V_d + 1.487 v_d V_q + 253.000 v_d r_x + -256.434 v_d r_y + 6.838 v_q I_d + 52.268 v_q I_q + -1.448 v_q V_d + 40.827 v_q V_q + 1.900 v_q V_0 + 399.193 v_q r_x + 15.574 v_0 I_d + 4.822 v_0 I_q + -10.160 v_0 V_0 + -81.762 v_0 r_x + 52.377 v_0 r_y + 5746.534 I_d^2 + -1383.489 I_d I_q + -1157.271 I_d V_d + -542.334 I_d V_q + 11179.165 I_d V_0 + 26.866 I_d \\omega + -22.662 I_d f + -1009387.455 I_d r_x + 2563419.079 I_d r_y + 8544.548 I_q^2 + 2553.994 I_q V_d + -1481.544 I_q V_q + -5557.097 I_q V_0 + -19.184 I_q \\omega + 21.549 I_q f + -3093135.102 I_q r_x + 1661907.750 I_q r_y + 107980.579 V_d^2 + -91.339 V_d V_q + -846.148 V_d V_0 + -5.345 V_d \\omega + 2.266 V_d f + -118956.629 V_d r_x + -41849.638 V_d r_y + 107990.140 V_q^2 + 906.353 V_q V_0 + -4.753 V_q \\omega + 102940.399 V_q r_x + -86901.406 V_q r_y + 7382.033 V_0^2 + -2.741 V_0 \\omega + -0.117 V_0 f + 2528.943 \\omega r_x + 1922.126 \\omega r_y + -13438.224 f r_x + -6108.262 f r_y + 2.217 cos(1 \\gamma)\n",
      "ecc input:  True\n",
      "Loading data\n",
      "Done loading data\n",
      "Calculating xdots\n",
      "Assume all t_vec are equal for all simulations\n",
      "Done calculating xdots\n",
      "Nonzero ecc, added to input data\n",
      "MSE on test:  23115.83734820621\n",
      "Non-zero elements:  169\n",
      "(i_d)' = -1110.642 1 + -289.031 i_d + -758.316 i_q + -30.523 v_q + -3.692 v_0 + 12271.131 I_d + -6127.539 I_q + 1902110.963 V_d + 1099049.230 V_q + 1008.402 V_0 + -47.383 \\omega + -14.521 f + 341829.497 r_x + -318411.320 r_y + 0.106 i_d^2 + 24.852 i_d i_q + -82.758 i_d I_d + -2921.223 i_d I_q + 475.349 i_d V_d + 17.066 i_d V_q + -119.800 i_d V_0 + 3.518 i_d f + 65497.514 i_d r_x + -59761.274 i_d r_y + -0.605 i_q^2 + 2310.078 i_q I_d + 528.741 i_q I_q + -89.323 i_q V_d + 605.227 i_q V_q + 930.099 i_q V_0 + 3.896 i_q f + 14710.698 i_q r_x + -10601.895 i_q r_y + 47.722 v_d I_d + -32.610 v_d I_q + 8.886 v_d V_d + -2.055 v_d V_q + -1.391 v_d V_0 + -236.031 v_d r_x + -280.144 v_d r_y + 29.212 v_q I_d + -35.519 v_q I_q + 1.960 v_q V_d + 8.943 v_q V_q + 1.158 v_q V_0 + 4.340 v_q r_x + -559.136 v_q r_y + 6.765 v_0 I_d + 30.527 v_0 I_q + -20.249 v_0 V_0 + -909.563 v_0 r_x + 488.142 v_0 r_y + -19324.582 I_d^2 + -3214.235 I_d I_q + -1432.331 I_d V_d + -3674.291 I_d V_q + 1849.392 I_d V_0 + -37.545 I_d \\omega + 204.845 I_d f + 2247825.368 I_d r_x + -414054.058 I_d r_y + -40.579 I_q^2 + 6330.376 I_q V_d + -1950.590 I_q V_q + -3894.645 I_q V_0 + 159.257 I_q \\omega + 1479336.136 I_q r_x + 2752497.070 I_q r_y + -862521.024 V_d^2 + 37.182 V_d V_q + -268.988 V_d V_0 + 22.091 V_d \\omega + -12.852 V_d f + -110948.328 V_d r_x + 273698.839 V_d r_y + -862640.002 V_q^2 + -2143.884 V_q V_0 + 14.208 V_q \\omega + -7.307 V_q f + -87271.463 V_q r_x + -44199.150 V_q r_y + 8469.716 V_0^2 + 4.295 V_0 \\omega + -2.821 V_0 f + 2082.014 \\omega r_x + -1317.368 \\omega r_y + -11104.576 f r_x + 9916.366 f r_y + 482.878 sin(1 \\gamma) + 548.961 cos(1 \\gamma) + 482.878 1 sin(1 \\gamma) + 548.961 1 cos(1 \\gamma) + -1984.703 i_d sin(1 \\gamma) + 566.693 i_d cos(1 \\gamma) + -3857.470 i_q sin(1 \\gamma) + -161.073 i_q cos(1 \\gamma) + 564.873 v_d sin(1 \\gamma) + 224.574 v_d cos(1 \\gamma) + 451.064 v_q sin(1 \\gamma) + 217.199 v_q cos(1 \\gamma) + 8.783 v_0 sin(1 \\gamma) + 12.926 v_0 cos(1 \\gamma) + -4488.367 I_d sin(1 \\gamma) + -9692.585 I_d cos(1 \\gamma) + -39277.730 I_q sin(1 \\gamma) + 2243.886 I_q cos(1 \\gamma) + 9425685.455 V_d sin(1 \\gamma) + 2069099.417 V_d cos(1 \\gamma) + 5447834.715 V_q sin(1 \\gamma) + 1194968.112 V_q cos(1 \\gamma) + -6546.911 V_0 sin(1 \\gamma) + -2495.970 V_0 cos(1 \\gamma) + 85.380 \\omega sin(1 \\gamma) + 34.152 \\omega cos(1 \\gamma) + 16.976 f sin(1 \\gamma) + 13.502 f cos(1 \\gamma) + 713734.975 r_x sin(1 \\gamma) + -109989.276 r_x cos(1 \\gamma) + 342845.747 r_y sin(1 \\gamma) + 360730.015 r_y cos(1 \\gamma) + -156.919 i_d^2 sin(1 \\gamma) + 21.831 i_d^2 cos(1 \\gamma) + 75.217 i_d i_q sin(1 \\gamma) + 88.495 i_d i_q cos(1 \\gamma) + 0.326 i_d v_d sin(1 \\gamma) + 3.812 i_d v_q sin(1 \\gamma) + -3.082 i_d v_0 sin(1 \\gamma) + 3332.271 i_d I_d sin(1 \\gamma) + -8395.497 i_d I_d cos(1 \\gamma) + -4996.503 i_d I_q sin(1 \\gamma) + 2529.770 i_d I_q cos(1 \\gamma) + 2355.531 i_d V_d sin(1 \\gamma) + 840.700 i_d V_d cos(1 \\gamma) + -1032.034 i_d V_q sin(1 \\gamma) + -514.178 i_d V_q cos(1 \\gamma) + -628.504 i_d V_0 sin(1 \\gamma) + 6186.284 i_d V_0 cos(1 \\gamma) + -0.134 i_d f sin(1 \\gamma) + -124466.646 i_d r_x sin(1 \\gamma) + 364793.569 i_d r_x cos(1 \\gamma) + 447370.269 i_d r_y sin(1 \\gamma) + -325286.495 i_d r_y cos(1 \\gamma) + -20.027 i_q^2 sin(1 \\gamma) + -19.851 i_q^2 cos(1 \\gamma) + -3.945 i_q v_d sin(1 \\gamma) + -3.211 i_q v_0 cos(1 \\gamma) + 8376.917 i_q I_d sin(1 \\gamma) + 1347.456 i_q I_d cos(1 \\gamma) + 5630.338 i_q I_q sin(1 \\gamma) + -10668.427 i_q I_q cos(1 \\gamma) + 460.035 i_q V_d sin(1 \\gamma) + 85.414 i_q V_d cos(1 \\gamma) + 1776.042 i_q V_q sin(1 \\gamma) + 1278.008 i_q V_q cos(1 \\gamma) + -4243.507 i_q V_0 sin(1 \\gamma) + 2280.942 i_q V_0 cos(1 \\gamma) + 1.416 i_q f sin(1 \\gamma) + 182761.758 i_q r_x sin(1 \\gamma) + 65312.282 i_q r_x cos(1 \\gamma) + -417553.348 i_q r_y sin(1 \\gamma) + -291689.984 i_q r_y cos(1 \\gamma) + -67.202 v_d I_d sin(1 \\gamma) + 365.110 v_d I_d cos(1 \\gamma) + 252.522 v_d I_q sin(1 \\gamma) + 245.054 v_d I_q cos(1 \\gamma) + -566.520 v_d V_d sin(1 \\gamma) + -296.539 v_d V_d cos(1 \\gamma) + 60.759 v_d V_q sin(1 \\gamma) + 24.021 v_d V_q cos(1 \\gamma) + -4.099 v_d V_0 sin(1 \\gamma) + -2.135 v_d V_0 cos(1 \\gamma) + 2447.633 v_d r_x sin(1 \\gamma) + -970.117 v_d r_x cos(1 \\gamma) + 104.824 v_d r_y sin(1 \\gamma) + -239.708 v_d r_y cos(1 \\gamma) + -134.722 v_q I_d sin(1 \\gamma) + -100.239 v_q I_d cos(1 \\gamma) + 53.919 v_q I_q sin(1 \\gamma) + 224.566 v_q I_q cos(1 \\gamma) + -60.215 v_q V_d sin(1 \\gamma) + -24.289 v_q V_d cos(1 \\gamma) + -566.027 v_q V_q sin(1 \\gamma) + -296.718 v_q V_q cos(1 \\gamma) + 2.925 v_q V_0 sin(1 \\gamma) + -0.571 v_q V_0 cos(1 \\gamma) + -298.549 v_q r_x sin(1 \\gamma) + -2654.474 v_q r_x cos(1 \\gamma) + 127.702 v_q r_y sin(1 \\gamma) + -584.476 v_q r_y cos(1 \\gamma) + -76.135 v_0 I_d sin(1 \\gamma) + -101.613 v_0 I_d cos(1 \\gamma) + -16.439 v_0 I_q sin(1 \\gamma) + -13.887 v_0 I_q cos(1 \\gamma) + 5.842 v_0 V_d sin(1 \\gamma) + 1.889 v_0 V_d cos(1 \\gamma) + 6.763 v_0 V_q cos(1 \\gamma) + -43.526 v_0 V_0 sin(1 \\gamma) + 27.534 v_0 V_0 cos(1 \\gamma) + -46388.415 v_0 r_x sin(1 \\gamma) + 6031.983 v_0 r_x cos(1 \\gamma) + -6574.655 v_0 r_y sin(1 \\gamma) + -47001.223 v_0 r_y cos(1 \\gamma) + 113896.827 I_d^2 sin(1 \\gamma) + 26303.279 I_d^2 cos(1 \\gamma) + 110666.258 I_d I_q sin(1 \\gamma) + 6244.317 I_d I_q cos(1 \\gamma) + -24086.461 I_d V_d sin(1 \\gamma) + 3593.459 I_d V_d cos(1 \\gamma) + -28786.903 I_d V_q sin(1 \\gamma) + -6980.738 I_d V_q cos(1 \\gamma) + 76731.289 I_d V_0 cos(1 \\gamma) + 59.966 I_d \\omega sin(1 \\gamma) + 86.575 I_d \\omega cos(1 \\gamma) + -107.157 I_d f sin(1 \\gamma) + -128.189 I_d f cos(1 \\gamma) + -4929432.532 I_d r_x sin(1 \\gamma) + -204354.286 I_d r_x cos(1 \\gamma) + 5895934.554 I_d r_y sin(1 \\gamma) + -6825229.997 I_d r_y cos(1 \\gamma) + 104013.696 I_q^2 sin(1 \\gamma) + -68185.076 I_q^2 cos(1 \\gamma) + 14783.536 I_q V_d sin(1 \\gamma) + -1247.519 I_q V_d cos(1 \\gamma) + -31292.481 I_q V_q sin(1 \\gamma) + 15443.629 I_q V_q cos(1 \\gamma) + -10578.376 I_q V_0 sin(1 \\gamma) + 37586.444 I_q V_0 cos(1 \\gamma) + -3.058 I_q \\omega sin(1 \\gamma) + -52.164 I_q \\omega cos(1 \\gamma) + -42.628 I_q f sin(1 \\gamma) + 92.615 I_q f cos(1 \\gamma) + -2451366.178 I_q r_x sin(1 \\gamma) + 4713086.370 I_q r_x cos(1 \\gamma) + -10303851.975 I_q r_y sin(1 \\gamma) + -2822845.527 I_q r_y cos(1 \\gamma) + -4273038.205 V_d^2 sin(1 \\gamma) + -938541.339 V_d^2 cos(1 \\gamma) + 577.293 V_d V_q sin(1 \\gamma) + 315.843 V_d V_q cos(1 \\gamma) + 2180.658 V_d V_0 sin(1 \\gamma) + -11646.164 V_d V_0 cos(1 \\gamma) + -6.090 V_d \\omega sin(1 \\gamma) + -6.726 V_d \\omega cos(1 \\gamma) + 1.816 V_d f sin(1 \\gamma) + 263193.164 V_d r_x sin(1 \\gamma) + -160270.452 V_d r_x cos(1 \\gamma) + -800021.872 V_d r_y sin(1 \\gamma) + 833018.877 V_d r_y cos(1 \\gamma) + -4272554.215 V_q^2 sin(1 \\gamma) + -938998.074 V_q^2 cos(1 \\gamma) + 7431.755 V_q V_0 sin(1 \\gamma) + -3230.381 V_q V_0 cos(1 \\gamma) + -7.259 V_q \\omega sin(1 \\gamma) + 2.942 V_q \\omega cos(1 \\gamma) + -1.171 V_q f sin(1 \\gamma) + 148597.437 V_q r_x sin(1 \\gamma) + -233907.683 V_q r_x cos(1 \\gamma) + 950165.858 V_q r_y sin(1 \\gamma) + 393256.325 V_q r_y cos(1 \\gamma) + -39658.203 V_0^2 sin(1 \\gamma) + 13555.977 V_0^2 cos(1 \\gamma) + -3.037 V_0 \\omega sin(1 \\gamma) + 4.399 V_0 \\omega cos(1 \\gamma) + 38.664 V_0 f sin(1 \\gamma) + -28.914 V_0 f cos(1 \\gamma) + 11536340.571 V_0 r_x sin(1 \\gamma) + 10850266.151 V_0 r_y cos(1 \\gamma) + -402.972 \\omega r_x sin(1 \\gamma) + -376.539 \\omega r_x cos(1 \\gamma) + -116.441 \\omega r_y sin(1 \\gamma) + 797.033 \\omega r_y cos(1 \\gamma) + 3169.989 f r_x sin(1 \\gamma) + 2462.471 f r_x cos(1 \\gamma) + 72.163 f r_y sin(1 \\gamma) + -5345.271 f r_y cos(1 \\gamma)\n",
      "(i_q)' = -469.972 1 + 514.950 i_d + 1750.021 i_q + -46.255 v_d + -27.006 v_q + -2.623 v_0 + -6668.762 I_d + 12483.579 I_q + -1908867.751 V_d + -1104804.479 V_q + 1017.901 V_0 + 41.996 \\omega + 8.738 f + 389956.626 r_x + 232181.661 r_y + 12.520 i_d^2 + 11.552 i_d i_q + -1578.481 i_d I_d + 4266.858 i_d I_q + -495.676 i_d V_d + -55.579 i_d V_q + -470.970 i_d V_0 + -3.680 i_d f + 50355.192 i_d r_x + 15388.374 i_d r_y + 34.510 i_q^2 + -4823.407 i_q I_d + -4691.900 i_q I_q + -112.435 i_q V_d + -527.519 i_q V_q + -1061.841 i_q V_0 + -0.756 i_q \\omega + 7.913 i_q f + -61421.767 i_q r_x + -11566.791 i_q r_y + 47.938 v_d I_d + 18.920 v_d I_q + 41.122 v_d V_d + 0.247 v_d V_q + 453.670 v_d r_x + -265.037 v_d r_y + 56.224 v_q I_d + 51.254 v_q I_q + -0.325 v_q V_d + 41.009 v_q V_q + -0.096 v_q V_0 + 467.962 v_q r_x + 117.006 v_q r_y + 6.767 v_0 I_d + 13.502 v_0 I_q + 2.477 v_0 V_0 + -125.866 v_0 r_x + 380.665 v_0 r_y + 20208.108 I_d^2 + -4391.174 I_d I_q + -1982.966 I_d V_d + 9409.193 I_d V_q + -13550.044 I_d V_0 + -164.578 I_d \\omega + -134.515 I_d f + 177400.936 I_d r_x + 2424041.932 I_d r_y + -30215.285 I_q^2 + -9206.628 I_q V_d + 6393.594 I_q V_q + -9161.223 I_q V_0 + -29.813 I_q \\omega + 175.264 I_q f + -4069363.090 I_q r_x + 1135294.100 I_q r_y + 866070.767 V_d^2 + 172.512 V_d V_q + 1006.646 V_d V_0 + -14.356 V_d \\omega + 6.259 V_d f + -236079.194 V_d r_x + -31533.440 V_d r_y + 866026.138 V_q^2 + 1890.998 V_q V_0 + 11.772 V_q \\omega + -18.092 V_q f + 215851.854 V_q r_x + -68147.792 V_q r_y + 26164.028 V_0^2 + -1.774 V_0 \\omega + 1.890 V_0 f + 1052.585 \\omega r_x + 2358.067 \\omega r_y + -9219.994 f r_x + -12735.470 f r_y + -18.757 sin(1 \\gamma) + 188.514 cos(1 \\gamma) + -18.757 1 sin(1 \\gamma) + 188.514 1 cos(1 \\gamma) + 1508.350 i_d sin(1 \\gamma) + -1050.518 i_q sin(1 \\gamma) + 528.540 i_q cos(1 \\gamma) + 156.357 v_d sin(1 \\gamma) + -452.386 v_d cos(1 \\gamma) + 129.641 v_q sin(1 \\gamma) + -431.731 v_q cos(1 \\gamma) + -8.081 v_0 sin(1 \\gamma) + -13.577 v_0 cos(1 \\gamma) + 27493.171 I_d sin(1 \\gamma) + -10329.108 I_d cos(1 \\gamma) + -15804.720 I_q sin(1 \\gamma) + 162.487 I_q cos(1 \\gamma) + 2500523.602 V_d sin(1 \\gamma) + -3232100.684 V_d cos(1 \\gamma) + 1447693.055 V_q sin(1 \\gamma) + -1865991.839 V_q cos(1 \\gamma) + 3390.446 V_0 sin(1 \\gamma) + -7036.385 V_0 cos(1 \\gamma) + 17.438 \\omega sin(1 \\gamma) + -99.691 \\omega cos(1 \\gamma) + -20.701 f sin(1 \\gamma) + -5.863 f cos(1 \\gamma) + -174166.696 r_x sin(1 \\gamma) + -316699.356 r_x cos(1 \\gamma) + 629056.816 r_y sin(1 \\gamma) + 156005.491 r_y cos(1 \\gamma) + -60.697 i_d^2 sin(1 \\gamma) + 14.563 i_d^2 cos(1 \\gamma) + -97.239 i_d i_q sin(1 \\gamma) + 46.972 i_d i_q cos(1 \\gamma) + 0.469 i_d v_d sin(1 \\gamma) + -0.169 i_d v_d cos(1 \\gamma) + -3.078 i_d v_q cos(1 \\gamma) + -0.767 i_d v_0 sin(1 \\gamma) + -3.759 i_d v_0 cos(1 \\gamma) + -13988.993 i_d I_d sin(1 \\gamma) + -1907.567 i_d I_d cos(1 \\gamma) + -7290.664 i_d I_q sin(1 \\gamma) + 4265.868 i_d I_q cos(1 \\gamma) + 1474.734 i_d V_d sin(1 \\gamma) + -237.296 i_d V_d cos(1 \\gamma) + 192.134 i_d V_q sin(1 \\gamma) + 521.210 i_d V_q cos(1 \\gamma) + -4892.212 i_d V_0 sin(1 \\gamma) + 4877.654 i_d V_0 cos(1 \\gamma) + -1.522 i_d f cos(1 \\gamma) + -287289.798 i_d r_x sin(1 \\gamma) + 428754.558 i_d r_x cos(1 \\gamma) + -101574.336 i_d r_y sin(1 \\gamma) + 170589.251 i_d r_y cos(1 \\gamma) + 1.476 i_q^2 sin(1 \\gamma) + 143.615 i_q^2 cos(1 \\gamma) + 2.899 i_q v_d cos(1 \\gamma) + -0.994 i_q v_q cos(1 \\gamma) + 3.279 i_q v_0 sin(1 \\gamma) + -0.793 i_q v_0 cos(1 \\gamma) + 4521.324 i_q I_d sin(1 \\gamma) + 945.351 i_q I_d cos(1 \\gamma) + -6839.843 i_q I_q sin(1 \\gamma) + 7142.707 i_q I_q cos(1 \\gamma) + 391.612 i_q V_d sin(1 \\gamma) + -734.680 i_q V_d cos(1 \\gamma) + 975.906 i_q V_q sin(1 \\gamma) + -910.856 i_q V_q cos(1 \\gamma) + -4164.455 i_q V_0 sin(1 \\gamma) + -6389.427 i_q V_0 cos(1 \\gamma) + 1.428 i_q f cos(1 \\gamma) + 358558.587 i_q r_x sin(1 \\gamma) + 435404.265 i_q r_x cos(1 \\gamma) + 280223.991 i_q r_y sin(1 \\gamma) + 211891.740 i_q r_y cos(1 \\gamma) + 275.044 v_d I_d sin(1 \\gamma) + -153.149 v_d I_d cos(1 \\gamma) + 41.686 v_d I_q sin(1 \\gamma) + -188.722 v_d I_q cos(1 \\gamma) + -195.198 v_d V_d sin(1 \\gamma) + 485.330 v_d V_d cos(1 \\gamma) + 14.264 v_d V_q sin(1 \\gamma) + -59.427 v_d V_q cos(1 \\gamma) + 9.507 v_d V_0 sin(1 \\gamma) + -4.845 v_d V_0 cos(1 \\gamma) + -666.811 v_d r_x sin(1 \\gamma) + 172.080 v_d r_x cos(1 \\gamma) + 2624.562 v_d r_y sin(1 \\gamma) + -310.842 v_d r_y cos(1 \\gamma) + -193.672 v_q I_d sin(1 \\gamma) + 249.675 v_q I_d cos(1 \\gamma) + 328.780 v_q I_q sin(1 \\gamma) + -0.321 v_q I_q cos(1 \\gamma) + -13.947 v_q V_d sin(1 \\gamma) + 59.988 v_q V_d cos(1 \\gamma) + -194.152 v_q V_q sin(1 \\gamma) + 486.386 v_q V_q cos(1 \\gamma) + 9.180 v_q V_0 sin(1 \\gamma) + -243.970 v_q r_x sin(1 \\gamma) + 183.007 v_q r_x cos(1 \\gamma) + -819.277 v_q r_y sin(1 \\gamma) + -2563.841 v_q r_y cos(1 \\gamma) + 65.474 v_0 I_d sin(1 \\gamma) + -17.646 v_0 I_d cos(1 \\gamma) + 7.966 v_0 I_q sin(1 \\gamma) + 75.905 v_0 I_q cos(1 \\gamma) + 8.014 v_0 V_d cos(1 \\gamma) + -6.939 v_0 V_q sin(1 \\gamma) + 11.791 v_0 V_0 sin(1 \\gamma) + 44.404 v_0 V_0 cos(1 \\gamma) + -7801.915 v_0 r_x sin(1 \\gamma) + -47168.075 v_0 r_x cos(1 \\gamma) + 46807.137 v_0 r_y sin(1 \\gamma) + -5887.125 v_0 r_y cos(1 \\gamma) + -141719.347 I_d^2 sin(1 \\gamma) + -56279.571 I_d^2 cos(1 \\gamma) + 13917.235 I_d I_q sin(1 \\gamma) + 94167.334 I_d I_q cos(1 \\gamma) + 23778.176 I_d V_d sin(1 \\gamma) + 22040.260 I_d V_d cos(1 \\gamma) + -7923.445 I_d V_q sin(1 \\gamma) + -2304.460 I_d V_q cos(1 \\gamma) + -31278.959 I_d V_0 sin(1 \\gamma) + 77215.015 I_d V_0 cos(1 \\gamma) + -53.096 I_d \\omega sin(1 \\gamma) + -54.553 I_d \\omega cos(1 \\gamma) + 37.279 I_d f sin(1 \\gamma) + 84.298 I_d f cos(1 \\gamma) + -4156957.487 I_d r_x sin(1 \\gamma) + 6026507.694 I_d r_x cos(1 \\gamma) + -5367995.744 I_d r_y sin(1 \\gamma) + -3125149.351 I_d r_y cos(1 \\gamma) + -11413.765 I_q^2 sin(1 \\gamma) + -18666.088 I_q^2 cos(1 \\gamma) + 13846.450 I_q V_d sin(1 \\gamma) + -15516.797 I_q V_d cos(1 \\gamma) + 869.560 I_q V_q sin(1 \\gamma) + 7546.815 I_q V_q cos(1 \\gamma) + -100913.295 I_q V_0 sin(1 \\gamma) + -53478.067 I_q V_0 cos(1 \\gamma) + 8.681 I_q \\omega sin(1 \\gamma) + 99.691 I_q \\omega cos(1 \\gamma) + 158.603 I_q f sin(1 \\gamma) + -60.271 I_q f cos(1 \\gamma) + 8882858.311 I_q r_x sin(1 \\gamma) + 6874627.222 I_q r_x cos(1 \\gamma) + -110322.846 I_q r_y sin(1 \\gamma) + 4834421.323 I_q r_y cos(1 \\gamma) + -1136256.847 V_d^2 sin(1 \\gamma) + 1464406.175 V_d^2 cos(1 \\gamma) + -568.348 V_d V_q sin(1 \\gamma) + 259.961 V_d V_q cos(1 \\gamma) + 7208.548 V_d V_0 sin(1 \\gamma) + -7723.081 V_d V_0 cos(1 \\gamma) + 10.092 V_d \\omega sin(1 \\gamma) + 11.840 V_d \\omega cos(1 \\gamma) + 0.728 V_d f cos(1 \\gamma) + 510721.938 V_d r_x sin(1 \\gamma) + -974781.349 V_d r_x cos(1 \\gamma) + 296601.483 V_d r_y sin(1 \\gamma) + 170605.350 V_d r_y cos(1 \\gamma) + -1135574.600 V_q^2 sin(1 \\gamma) + 1465033.066 V_q^2 cos(1 \\gamma) + 8262.349 V_q V_0 sin(1 \\gamma) + 11444.527 V_q V_0 cos(1 \\gamma) + 3.486 V_q \\omega sin(1 \\gamma) + -1.829 V_q \\omega cos(1 \\gamma) + -0.390 V_q f sin(1 \\gamma) + -2.111 V_q f cos(1 \\gamma) + -890893.625 V_q r_x sin(1 \\gamma) + -675154.989 V_q r_x cos(1 \\gamma) + -13983.699 V_q r_y sin(1 \\gamma) + -424760.123 V_q r_y cos(1 \\gamma) + 15820.178 V_0^2 sin(1 \\gamma) + 3.113 V_0 \\omega sin(1 \\gamma) + -7.488 V_0 \\omega cos(1 \\gamma) + -35.934 V_0 f sin(1 \\gamma) + 47.795 V_0 f cos(1 \\gamma) + 9567495.091 V_0 r_x cos(1 \\gamma) + -11662986.028 V_0 r_y sin(1 \\gamma) + 120.612 \\omega r_x sin(1 \\gamma) + -759.431 \\omega r_x cos(1 \\gamma) + -290.787 \\omega r_y sin(1 \\gamma) + -54.253 \\omega r_y cos(1 \\gamma) + -1519.463 f r_x sin(1 \\gamma) + 5566.391 f r_x cos(1 \\gamma) + 2299.860 f r_y sin(1 \\gamma) + 573.694 f r_y cos(1 \\gamma)\n",
      "ecc input:  True\n",
      "Loading data\n",
      "Done loading data\n",
      "Calculating xdots\n",
      "Assume all t_vec are equal for all simulations\n",
      "Done calculating xdots\n",
      "Nonzero ecc, added to input data\n",
      "MSE on test:  21718.753808958507\n",
      "Non-zero elements:  554\n"
     ]
    }
   ],
   "source": [
    "####################################\n",
    "## 13 linear dynamical 50 ecc UMP ## # Can I make this better somehow?\n",
    "####################################\n",
    "testdata = os.path.join(os.getcwd(), 'test-data','08-09','IMMEC_dynamic_50ecc_5.0sec.npz')\n",
    "#testdata = os.path.join(os.getcwd(), 'test-data','08-19','IMMEC_dynamic_linear_5.0sec.npz') # alternative test file\n",
    "plot_optuna_data('_w5//umplinear_dynamic_50ecc-optuna-study')\n",
    "\n",
    "models = ['ump_linear_dynamic_50ecc_180', 'ump_linear_dynamic_50ecc_560']\n",
    "\n",
    "plot_function(models, testdata, 'ump', True, 'ump_d')"
   ]
  },
  {
   "cell_type": "code",
   "execution_count": 30,
   "id": "5e57adf7-85ac-4bdb-bfd6-4320b1c36aa3",
   "metadata": {},
   "outputs": [
    {
     "name": "stderr",
     "output_type": "stream",
     "text": [
      "[I 2024-08-19 12:10:17,155] Study name was omitted but trying to load 'optuna_studies//currentsnonlinear_dynamic_50ecc-optuna-study' because that was the only study found in the storage.\n"
     ]
    },
    {
     "name": "stdout",
     "output_type": "stream",
     "text": [
      "['optuna_studies//currentsnonlinear_dynamic_50ecc-optuna-study']\n",
      "Trial count: 1008\n",
      "(i_d)' = -44.310 i_d + 692.656 i_q + 20.013 v_d + -49.746 v_q + -2.287 v_0 + 582.192 I_d + 2532.521 I_q + 119.409 V_d + -408.880 V_q + -111.525 V_0 + -5.488 \\gamma i_q + -55.300 \\gamma I_d + 2.819 \\gamma V_d + 11.813 \\gamma V_q + 23.033 \\gamma V_0 + -512.024 \\omega I_d + 18.691 \\omega I_q + 63.332 \\omega V_d + 1.611 \\omega V_q + 52.915 v_d I_d + 91.121 v_d I_q + -25.259 v_d V_d + -11.107 v_d V_q + -83.131 v_q I_d + 50.264 v_q I_q + 11.059 v_q V_d + -25.335 v_q V_q + 21.621 v_0 I_q + -2.370 v_0 V_0\n",
      "(i_q)' = -709.044 i_d + -61.865 i_q + 94.614 v_d + 19.102 v_q + -1.975 v_0 + -3257.701 I_d + 753.533 I_q + 482.837 V_d + 94.836 V_q + 142.874 V_0 + -2.670 \\gamma i_q + 12.441 \\gamma I_d + -59.427 \\gamma I_q + 1.465 \\gamma V_d + 4.561 \\gamma V_q + -47.719 \\gamma V_0 + 19.708 \\omega I_d + -499.803 \\omega I_q + 69.616 \\omega V_q + 22.859 v_d I_d + 26.574 v_d I_q + -27.648 v_d V_d + -2.218 v_d V_q + -23.033 v_q I_d + 25.804 v_q I_q + 2.233 v_q V_d + -27.688 v_q V_q + 8.430 v_0 I_d + 4.811 v_0 I_q + 18.694 v_0 V_0\n",
      "(i_0)' = 0.000\n",
      "Sparsity:  59\n",
      "currents60.pkl\n",
      "currents_simulation60.pkl\n"
     ]
    }
   ],
   "source": [
    "############################################\n",
    "## 14 nonlinear dynamical 50 ecc currents ##\n",
    "############################################\n",
    "testdata = os.path.join(os.getcwd(), 'test-data','08-18','IMMEC_dynamic_nonlinear_5.0sec.npz')\n",
    "plot_optuna_data('_w5//currentsnonlinear_dynamic_50ecc-optuna-study')\n",
    "\n",
    "#the other two mehods diverge...\n",
    "models = ['currents_nonlinear_dynamic_50ecc_60'] #,'currents_nonlinear_dynamic_50ecc_150',  'currents_nonlinear_dynamic_50ecc_420']\n",
    "\n",
    "plot_function(models, testdata, 'currents', True, 'currents_d_nl')"
   ]
  },
  {
   "cell_type": "code",
   "execution_count": 6,
   "id": "17821057-f91c-465b-bdea-fa1a3f73a1bf",
   "metadata": {},
   "outputs": [
    {
     "name": "stderr",
     "output_type": "stream",
     "text": [
      "[I 2024-08-19 20:45:22,449] Study name was omitted but trying to load 'optuna_studies//torquenonlinear_dynamic_50ecc-optuna-study' because that was the only study found in the storage.\n"
     ]
    },
    {
     "name": "stdout",
     "output_type": "stream",
     "text": [
      "['optuna_studies//torquenonlinear_dynamic_50ecc-optuna-study']\n",
      "Trial count: 1002\n",
      "(i_d)' = 0.004 1 + 0.464 i_d + 0.913 i_q + -0.045 v_q + 1.573 I_d + 3.815 I_q + 2.800 V_d + 1.165 V_q + 0.002 \\omega + 0.020 i_d^2 + -0.011 i_d i_q + -3.855 i_d I_d + 7.616 i_d I_q + -0.121 i_d V_d + -0.737 i_d V_q + -0.131 i_d V_0 + -8.201 i_q I_d + -3.303 i_q I_q + 0.789 i_q V_d + 0.017 i_q V_q + 0.113 v_d I_d + -0.193 v_d I_q + 0.236 v_q I_d + 0.034 v_q I_q + 0.007 v_q r_y + -0.230 v_0 V_0 + -10.810 I_d^2 + -0.267 I_d I_q + -0.032 I_d V_d + 3.700 I_d V_q + 0.008 I_d \\omega + 1.469 I_q^2 + -2.198 I_q V_d + -1.810 I_q V_q + -0.039 I_q \\omega + 0.009 I_q f + -1.127 V_d^2 + -0.153 V_d V_q + -1.150 V_q^2\n",
      "Sparsity:  39\n",
      "(i_d)' = 0.012 1 + 0.499 i_q + 1.656 I_d + 7.138 I_q + 0.705 V_d + -0.784 V_q + 0.082 \\omega + -0.061 i_d i_q + -0.012 i_d v_d + -0.003 i_d v_q + 0.061 i_d I_d + 12.789 i_d I_q + -0.259 i_d V_d + -0.911 i_d V_q + -0.013 i_d \\omega + -0.002 i_q v_d + -6.725 i_q I_d + -0.763 i_q I_q + 0.857 i_q V_d + 0.028 i_q V_q + -0.010 i_q \\omega + -0.242 v_d I_d + 0.209 v_d I_q + 0.049 v_d V_d + 0.023 v_d V_q + 0.009 v_d r_y + 0.160 v_q I_d + -0.011 v_q V_d + 0.014 v_q r_y + -2.882 I_d V_d + 6.528 I_d V_q + -0.074 I_d f + -16.898 I_q V_d + -1.656 I_q V_q + -0.814 I_q \\omega + -0.018 I_q f + 0.939 V_d V_q + -0.029 V_d \\omega + 0.029 V_d f + 0.045 V_q \\omega + 0.042 V_0 f + -0.239 i_d i_q I_d + 0.852 i_d i_q I_q + 0.018 i_d i_q V_d + 0.002 i_d i_q V_0 + 0.066 i_d v_d I_d + 0.006 i_d v_d I_q + -0.016 i_d v_q I_d + 0.058 i_d v_q I_q + -15.055 i_d I_d I_q + -0.521 i_d I_d V_q + 0.089 i_d I_d \\omega + -0.021 i_d I_d f + 0.899 i_d I_q V_d + -0.218 i_d I_q V_q + -0.019 i_d I_q \\omega + 0.025 i_d V_d V_q + 0.023 i_d V_q V_0 + 0.014 i_d \\omega r_x + -0.035 i_d \\omega r_y + 0.202 i_d f r_y + 0.002 i_q v_d V_d + -0.004 i_q v_q I_d + -0.003 i_q v_q I_q + 0.002 i_q v_q V_q + 0.008 i_q v_q r_y + -11.950 i_q I_d I_q + 0.681 i_q I_d V_d + -0.843 i_q I_d V_q + -0.002 i_q I_d \\omega + 0.014 i_q I_d f + 0.025 i_q I_q V_d + 0.103 i_q I_q \\omega + -0.052 i_q I_q f + -0.023 i_q V_d V_q + 0.075 i_q V_d V_0 + -0.005 i_q V_q V_0 + -0.088 i_q \\omega r_x + 0.018 i_q \\omega r_y + 0.513 i_q f r_x + -0.477 v_d I_q V_d + 0.016 v_d I_q V_q + -0.001 v_d V_q r_y + 0.017 v_q I_d V_d + 0.226 v_q I_d V_q + 0.033 v_q I_d V_0 + -0.162 v_q I_q V_d + -0.423 v_q I_q V_q + -0.006 v_q V_d r_y + 0.002 v_q V_q r_x + -0.111 v_0 V_d V_0 + 54.895 I_d I_q V_d + -7.969 I_d I_q V_q + 2.665 I_d I_q \\omega + -4.947 I_d V_d V_q + -0.116 I_d V_d \\omega + -0.107 I_d V_d f + -0.212 I_d V_q \\omega + 0.051 I_d V_q f + -1.092 I_q V_d V_q + 0.451 I_q V_d \\omega + -0.005 I_q V_d f + -0.171 I_q V_q \\omega + -0.021 I_q V_q f + 0.004 V_d V_q \\omega + -0.040 V_d V_0 f + 0.043 V_q f r_x\n",
      "Sparsity:  107\n",
      "Torque100.pkl\n",
      "Torque50.pkl\n"
     ]
    }
   ],
   "source": [
    "##########################################\n",
    "## 15 nonlinear dynamical 50 ecc torque ##\n",
    "##########################################\n",
    "testdata = os.path.join(os.getcwd(), 'test-data','08-18','IMMEC_dynamic_nonlinear_5.0sec.npz')\n",
    "plot_optuna_data('_w5//torquenonlinear_dynamic_50ecc-optuna-study')\n",
    "\n",
    "models = ['torque_nonlinear_dynamic_50ecc_50', 'torque_nonlinear_dynamic_50ecc_100']\n",
    "\n",
    "plot_function(models, testdata, 'torque', True, 'torque_d_nl')"
   ]
  },
  {
   "cell_type": "code",
   "execution_count": 5,
   "id": "f9b3d129-00cf-4413-bd66-2dc361bd0e5d",
   "metadata": {},
   "outputs": [
    {
     "name": "stderr",
     "output_type": "stream",
     "text": [
      "[I 2024-08-19 20:43:51,231] Study name was omitted but trying to load 'optuna_studies//umpnonlinear_dynamic_50ecc-optuna-study' because that was the only study found in the storage.\n"
     ]
    },
    {
     "name": "stdout",
     "output_type": "stream",
     "text": [
      "['optuna_studies//umpnonlinear_dynamic_50ecc-optuna-study']\n",
      "Trial count: 1357\n",
      "(i_d)' = -32.644 i_d + -10.807 i_q + -13.863 v_d + -9.946 v_q + -8.264 \\omega + 0.311 f + -4.443 i_d^2 + 8.564 i_d i_q + 0.087 i_d v_d + -0.069 i_d v_q + 21.327 i_d V_d + 4.784 i_d V_q + 0.511 i_d \\omega + -2.722 i_d f + 5.365 i_q^2 + 0.087 i_q v_d + -0.032 i_q v_q + 0.235 i_q \\omega + -0.217 i_q f + 0.001 v_d v_0 + 1.700 v_d I_d + 5.468 v_d V_d + -0.828 v_d V_q + 0.002 v_d \\omega + -0.014 v_d f + -28.354 v_q I_d + 2.601 v_q I_q + 0.755 v_q V_d + 5.785 v_q V_q + 0.001 v_q \\omega + 0.008 v_q f + -0.041 v_0^2 + -0.026 v_0 V_q + -0.019 v_0 \\omega + 0.114 v_0 f + 41.367 I_d \\omega + -24.663 I_d f + -35.489 I_q \\omega + -11.585 I_q f + 8.193 V_d \\omega + 5.448 V_d f + -8.415 V_q \\omega + -3.105 V_q f + -0.001 \\omega^2 + 0.010 \\omega f + 4968.137 \\omega r_x + 489.769 \\omega r_y + 0.001 f^2 + -8.351 cos(1 \\gamma)\n",
      "(i_q)' = 9.243 i_d + 17.579 i_q + 4.531 v_d + -3.254 v_q + -0.342 v_0 + -27.188 \\omega + -0.183 f + -15.164 i_d^2 + 0.173 i_d v_d + 0.233 i_d v_q + -0.019 i_d \\omega + -0.835 i_d f + -0.108 i_q v_d + 0.086 i_q v_q + -47.096 i_q V_d + -0.025 i_q \\omega + 0.911 i_q f + 0.009 v_d^2 + 7.788 v_d I_d + 43.993 v_d I_q + -0.386 v_d V_d + 1.398 v_d V_q + -0.001 v_d \\omega + -0.007 v_d f + 0.009 v_q^2 + -0.002 v_q v_0 + -25.352 v_q I_q + -1.652 v_q V_d + -0.230 v_q V_q + -1.155 v_q V_0 + -0.004 v_q f + -0.021 v_0^2 + 0.009 v_0 f + 42.827 I_d \\omega + 53.192 I_q \\omega + 20.630 V_d^2 + 8.213 V_d \\omega + 2.171 V_d f + 21.530 V_q^2 + 10.406 V_q \\omega + -2.662 V_q f + 10.020 V_0 f + -0.014 \\omega^2 + 0.003 \\omega f + -498.458 \\omega r_x + 4972.141 \\omega r_y + -0.006 f^2 + -6.397 sin(1 \\gamma)\n",
      "Sparsity:  105\n",
      "(i_d)' = 40.343 1 + -98.912 i_d + 114.501 i_q + -0.073 v_d + 7.947 v_q + 4.405 v_0 + -1481.943 I_d + -1254.855 I_q + 294.266 V_d + -172.484 V_q + 1249.235 V_0 + 6.521 \\omega + 344834.170 r_x + -394960.399 r_y + -0.274 i_d^2 + -7.282 i_d i_q + -47.756 i_d I_d + 944.677 i_d I_q + 9.684 i_d V_d + 48.804 i_d V_q + -157.112 i_d V_0 + -0.797 i_d f + 22051.166 i_d r_x + 4.646 i_q^2 + -1285.507 i_q I_d + 493.329 i_q I_q + 54.336 i_q V_d + -3.389 i_q V_q + 447.274 i_q V_0 + 24818.217 i_q r_x + 2060.708 i_q r_y + 11.164 v_d I_d + -47.739 v_d I_q + 0.867 v_d V_d + -300.876 v_d r_x + -449.942 v_d r_y + -29.335 v_q I_d + -16.154 v_q I_q + 0.944 v_q V_q + -1.746 v_q V_0 + -140.917 v_q r_x + -105.578 v_q r_y + -13.830 v_0 I_d + -18.956 v_0 I_q + -6.049 v_0 V_0 + 347.109 v_0 r_x + 3301.805 I_d^2 + 8027.414 I_d I_q + -1089.949 I_d V_d + 3054.605 I_d V_q + -4384.338 I_d V_0 + -4.650 I_d \\omega + -21.210 I_d f + 2529954.480 I_d r_x + 2220957.558 I_d r_y + 15428.479 I_q^2 + -2309.880 I_q V_d + -3678.749 I_q V_q + 3898.044 I_q V_0 + -24.548 I_q \\omega + 11.934 I_q f + 2258041.026 I_q r_x + 2100064.194 I_q r_y + -46.229 V_d V_q + 242.441 V_d V_0 + -1.693 V_d \\omega + 2.510 V_d f + -8672.558 V_d r_x + 44383.738 V_d r_y + 68.035 V_q^2 + -1274.584 V_q V_0 + -2.075 V_q \\omega + -153014.972 V_q r_x + -140425.587 V_q r_y + 7.070 V_0 \\omega + -50.523 V_0 f + 2655.199 \\omega r_x + -2440.201 \\omega r_y + -12981.756 f r_x + 12374.146 f r_y + -3.228 cos(1 \\gamma)\n",
      "(i_q)' = -10.375 1 + 139.929 i_d + -83.517 i_q + -9.866 v_d + -3.357 v_0 + 2258.947 I_d + -855.535 I_q + -3554.590 V_d + -1799.466 V_q + 231.260 V_0 + -7.900 \\omega + 336765.725 r_x + 258529.529 r_y + 6.641 i_d^2 + -45.252 i_d I_d + -517.617 i_d I_q + -49.577 i_d V_d + 9.435 i_d V_q + -49.289 i_d V_0 + -0.716 i_d f + -7817.844 i_d r_x + 20813.281 i_d r_y + 1.878 i_q^2 + 382.676 i_q I_d + -83.314 i_q I_q + 19.818 i_q V_d + -0.198 i_q V_q + 415.020 i_q V_0 + -12777.667 i_q r_x + 21993.334 i_q r_y + 50.027 v_d I_d + 12.363 v_d I_q + 0.679 v_d V_0 + 373.944 v_d r_x + -336.095 v_d r_y + -29.411 v_q I_d + 22.231 v_q I_q + 146.502 v_q r_x + -317.989 v_q r_y + 7.720 v_0 I_d + 16.551 v_0 I_q + 0.303 v_0 V_d + -29.086 v_0 V_0 + -479.433 v_0 r_x + -348.129 v_0 r_y + -310.603 I_d^2 + -599.517 I_d I_q + -471.583 I_d V_d + -962.416 I_d V_q + 22.187 I_d \\omega + -8.844 I_d f + -1935002.050 I_d r_x + 2157772.848 I_d r_y + 1423.550 I_q V_d + -586.504 I_q V_q + 4869.341 I_q V_0 + 6.413 I_q \\omega + -4.602 I_q f + -2182171.261 I_q r_x + 2863463.848 I_q r_y + 1575.057 V_d^2 + -29.738 V_d V_q + -402.451 V_d V_0 + 2.869 V_d \\omega + 1.668 V_d f + -26289.582 V_d r_x + 47298.527 V_d r_y + 1555.672 V_q^2 + -755.037 V_q V_0 + 0.302 V_q \\omega + 134530.878 V_q r_x + -144904.127 V_q r_y + -3.881 V_0 \\omega + 27.342 V_0 f + 2390.728 \\omega r_x + 2345.115 \\omega r_y + -12114.486 f r_x + -10457.834 f r_y + -2.195 sin(1 \\gamma)\n",
      "Sparsity:  160\n",
      "(i_d)' = -44.312 1 + -25.405 i_d + -400.869 i_q + -273.255 v_d + -140.190 v_q + -90.038 v_0 + 1980.888 I_d + 1867.739 I_q + -873.106 V_d + -989.568 V_q + 39891.760 V_0 + -134552.195 r_x + 277815.263 r_y + -14.078 i_d i_q + -4.115 i_d v_d + -13.561 i_d v_q + 1.090 i_d v_0 + 3492.216 i_d I_d + -3968.255 i_d I_q + -382.535 i_d V_d + 392.595 i_d V_q + -4229.582 i_d V_0 + -4.353 i_d \\omega + -5051613.007 i_d r_x + 17813741.270 i_d r_y + 8.428 i_q v_d + 27.195 i_q v_0 + -1361.749 i_q I_d + 4192.515 i_q I_q + 278.863 i_q V_d + 884.342 i_q V_q + -22763.519 i_q V_0 + -9.663 i_q \\omega + -6.905 i_q f + -7006876.771 i_q r_x + 14476633.142 i_q r_y + -0.055 v_d v_0 + 367.818 v_d I_d + 1105.117 v_d I_q + 289.091 v_d V_d + -37.832 v_d V_q + -505.163 v_d V_0 + 4.272 v_d f + 53369.718 v_d r_x + 84256.828 v_d r_y + 385.960 v_q I_d + -178.955 v_q I_q + 52.148 v_q V_d + 246.783 v_q V_q + -434.497 v_q V_0 + 2.182 v_q f + 128643.182 v_q r_x + -160808.013 v_q r_y + 599.843 v_0 I_d + 210.469 v_0 I_q + 90.215 v_0 V_d + -57.499 v_0 V_q + -2325.039 v_0 V_0 + -400529.972 v_0 r_x + 1000889.657 v_0 r_y + -12683.849 I_d I_q + 1721.284 I_d V_d + 5465.751 I_d V_q + -308779.098 I_d V_0 + 390.940 I_d \\omega + 101.866 I_d f + -18656192.545 I_d r_x + 51985460.082 I_d r_y + 2127.964 I_q V_d + 2374.459 I_q V_q + -445812.611 I_q V_0 + -846.593 I_q \\omega + -235.037 I_q f + 6706433.183 I_q r_x + -16790580.140 I_q r_y + 339.643 V_d V_q + -23611.806 V_d V_0 + -21.586 V_d \\omega + -1969976.349 V_d r_x + 3480696.698 V_d r_y + 59807.391 V_q V_0 + 15.551 V_q \\omega + 31.614 V_q f + -997745.182 V_q r_x + 8473061.377 V_q r_y + 924.634 V_0 \\omega + 468.237 V_0 f + -196044.302 \\omega r_x + 710300.300 \\omega r_y + 996.049 f r_x + -440.353 f r_y + 281.970 i_d i_q I_d + -71.324 i_d i_q V_d + -33.908 i_d i_q V_q + 539.745 i_d i_q V_0 + -22926.924 i_d i_q r_x + 32473.244 i_d i_q r_y + 2.759 i_d v_d I_d + 24.410 i_d v_d I_q + -1.269 i_d v_d V_d + 1.478 i_d v_d V_q + 5.426 i_d v_d V_0 + -670.658 i_d v_d r_x + 1146.809 i_d v_d r_y + 53.142 i_d v_q I_d + 46.072 i_d v_q I_q + -1.510 i_d v_q V_d + -1.653 i_d v_q V_q + -2.899 i_d v_q V_0 + 5477.935 i_d v_q r_x + 3586.626 i_d v_q r_y + -35.587 i_d v_0 I_d + 47.567 i_d v_0 I_q + 1.495 i_d v_0 V_d + -1.744 i_d v_0 V_q + 60.113 i_d v_0 V_0 + 2484.800 i_d v_0 r_x + -19877.578 i_d v_0 r_y + 2671.461 i_d I_d I_q + 1676.359 i_d I_d V_d + -5080.345 i_d I_d V_q + 37.259 i_d I_d \\omega + 51.756 i_d I_d f + 44971870.432 i_d I_d r_x + -102721066.312 i_d I_d r_y + 411.219 i_d I_q V_d + 4454.601 i_d I_q V_q + -38543.738 i_d I_q V_0 + -2.415 i_d I_q \\omega + -120.421 i_d I_q f + -18477325.399 i_d I_q r_x + 10599052.382 i_d I_q r_y + 37.520 i_d V_d V_q + 3309.988 i_d V_d V_0 + 2.497 i_d V_d \\omega + -3.080 i_d V_d f + -1090711.553 i_d V_d r_x + -960562.465 i_d V_d r_y + 555.492 i_d V_q V_0 + -2.086 i_d V_q \\omega + 3.192 i_d V_q f + 162291.002 i_d V_q r_x + 127958.256 i_d V_q r_y + 63.866 i_d V_0 \\omega + -345.281 i_d V_0 f + -24180249.536 i_d V_0 r_x + 3471.179 i_d \\omega r_x + 3385.034 i_d \\omega r_y + -16935.269 i_d f r_x + -16120.027 i_d f r_y + -30.381 i_q v_d I_d + 2.513 i_q v_d I_q + -2.312 i_q v_d V_q + 8.439 i_q v_d V_0 + -4554.528 i_q v_d r_x + -4825.616 i_q v_d r_y + -16.035 i_q v_q I_d + -30.229 i_q v_q I_q + 2.683 i_q v_q V_d + 3.138 i_q v_q V_0 + 604.698 i_q v_q r_x + 1990.499 i_q v_q r_y + 18.975 i_q v_0 I_d + -296.447 i_q v_0 I_q + 0.463 i_q v_0 V_q + -139.688 i_q v_0 V_0 + -17983.512 i_q v_0 r_x + -1159.148 i_q v_0 r_y + 8092.928 i_q I_d I_q + -2179.323 i_q I_d V_q + 105842.005 i_q I_d V_0 + 21.609 i_q I_d \\omega + 47.917 i_q I_d f + 7711773.307 i_q I_d r_x + -9720320.381 i_q I_d r_y + -1414.288 i_q I_q V_d + -5232.887 i_q I_q V_q + 25488.419 i_q I_q V_0 + -23.925 i_q I_q \\omega + -21.957 i_q I_q f + 51873239.903 i_q I_q r_x + -107421865.542 i_q I_q r_y + 26.540 i_q V_d V_q + -1646.570 i_q V_d V_0 + 2.773 i_q V_d \\omega + 626081.946 i_q V_d r_x + -1432725.917 i_q V_d r_y + -1429.034 i_q V_q V_0 + 2.113 i_q V_q \\omega + -2.850 i_q V_q f + -399698.885 i_q V_q r_x + -349020.985 i_q V_q r_y + 10.045 i_q V_0 \\omega + 76.496 i_q V_0 f + 25170524.040 i_q V_0 r_y + -5485.584 i_q \\omega r_x + -880.384 i_q \\omega r_y + 27820.049 i_q f r_x + 10659.729 i_q f r_y + -5.018 v_d v_q r_x + -8.362 v_d v_q r_y + 0.349 v_d v_0 I_d + 63.856 v_d v_0 r_x + 193.195 v_d v_0 r_y + -250.933 v_d I_d I_q + -736.169 v_d I_d V_d + 235.685 v_d I_d V_q + -4923.983 v_d I_d V_0 + -0.189 v_d I_d f + -1205222.074 v_d I_d r_x + 1747293.494 v_d I_d r_y + -584.921 v_d I_q V_d + -38.058 v_d I_q V_q + 1852.344 v_d I_q V_0 + 454833.643 v_d I_q r_x + -3421631.116 v_d I_q r_y + 1186.238 v_d V_d V_0 + -3.887 v_d V_d f + 169827.948 v_d V_d r_x + -323653.517 v_d V_d r_y + -167.325 v_d V_q V_0 + -102309.214 v_d V_q r_x + 476080.945 v_d V_q r_y + 33412.124 v_d V_0 r_x + -112311.228 v_d V_0 r_y + -7.892 v_d \\omega r_x + 34.746 v_d f r_x + -48.343 v_d f r_y + 164.168 v_q v_0 r_x + -24.453 v_q v_0 r_y + 2096.007 v_q I_d I_q + -208.390 v_q I_d V_d + -584.507 v_q I_d V_q + -2341.125 v_q I_d V_0 + 0.918 v_q I_d f + -1039197.129 v_q I_d r_x + 4195689.183 v_q I_d r_y + -141.004 v_q I_q V_d + -509.545 v_q I_q V_q + 1570.401 v_q I_q V_0 + 1.596 v_q I_q f + -1478046.556 v_q I_q r_x + 1218098.875 v_q I_q r_y + 167.287 v_q V_d V_0 + 99088.477 v_q V_d r_x + -472994.752 v_q V_d r_y + 1203.647 v_q V_q V_0 + -3.887 v_q V_q f + 164331.594 v_q V_q r_x + -331045.648 v_q V_q r_y + -104541.292 v_q V_0 r_x + -31260.204 v_q V_0 r_y + 3.732 v_q \\omega r_y + 5.773 v_q f r_x + -48.487 v_q f r_y + -2091.746 v_0 I_d I_q + -525.627 v_0 I_d V_d + 153.621 v_0 I_d V_q + 7290.390 v_0 I_d V_0 + 4423400.130 v_0 I_d r_x + -3667165.564 v_0 I_d r_y + -20.698 v_0 I_q V_d + 251.249 v_0 I_q V_q + 8763.373 v_0 I_q V_0 + -3629029.708 v_0 I_q r_x + -4957689.741 v_0 I_q r_y + 6.274 v_0 V_d V_q + -71280.710 v_0 V_d r_x + 101203.990 v_0 V_d r_y + 243.159 v_0 V_q V_0 + 115339.865 v_0 V_q r_x + 78504.445 v_0 V_q r_y + -143988.784 v_0 V_0 r_y + 7.732 v_0 \\omega r_y + -63.781 v_0 f r_y + -2171.725 I_d I_q V_d + 819.928 I_d I_q V_q + 1805302.116 I_d I_q V_0 + 1554.384 I_d I_q \\omega + -21902712.914 I_d I_q r_x + 32968061.681 I_d I_q r_y + -1047.835 I_d V_d V_q + 161646.449 I_d V_d V_0 + -127.591 I_d V_d \\omega + -68.226 I_d V_d f + 14053150.873 I_d V_d r_x + -37464924.408 I_d V_d r_y + -216839.762 I_d V_q V_0 + -340.413 I_d V_q \\omega + -76.656 I_d V_q f + 2356745.143 I_d V_q r_x + -30409680.741 I_d V_q r_y + -2493.786 I_d V_0 \\omega + -6717.287 I_d V_0 f + 98448.757 I_d \\omega r_x + 256333.976 I_d \\omega r_y + -196186.079 I_d f r_x + -588205.913 I_d f r_y + -2047.944 I_q V_d V_q + 269.965 I_q V_d \\omega + 286.171 I_q V_d f + 30088.536 I_q V_d r_x + 27273598.771 I_q V_d r_y + 4679.733 I_q V_q V_0 + 417.428 I_q V_q \\omega + -52.707 I_q V_q f + 151446.090 I_q V_q r_x + -33050426.467 I_q V_q r_y + -2858.369 I_q V_0 \\omega + 1484.470 I_q V_0 f + 42574.340 I_q \\omega r_x + -150706.130 I_q \\omega r_y + 381864.558 I_q f r_x + 858342.224 I_q f r_y + -2718.946 V_d V_q V_0 + 9.804 V_d V_q \\omega + -10.802 V_d V_q f + 110694.539 V_d V_q r_x + 739929.697 V_d V_q r_y + -409.969 V_d V_0 \\omega + 735.413 V_d V_0 f + -1276952.638 V_d V_0 r_x + -11788.074 V_d \\omega r_x + 15763.141 V_d \\omega r_y + 22599.381 V_d f r_x + 53465.601 V_d f r_y + -268.435 V_q V_0 f + 842632.544 V_q V_0 r_y + 19146.911 V_q \\omega r_x + -9903.193 V_q \\omega r_y + -60739.902 V_q f r_x + -37186.822 V_q f r_y + 8360.488 V_0 \\omega r_x + -1537.161 V_0 \\omega r_y + -66.281 \\omega f r_x + -2.422 \\omega f r_y + -1.024 sin(1 \\gamma) + -2.580 cos(1 \\gamma)\n",
      "(i_q)' = 93.798 1 + 717.857 i_d + 153.426 i_q + -397.673 v_d + -134.082 v_q + 36.514 v_0 + 1212.244 I_d + -3900.064 I_q + -461.771 V_d + -0.519 V_q + -16948.348 V_0 + 90.062 \\omega + -28862.913 r_x + -494843.006 r_y + -188.754 i_d i_q + 7.990 i_d v_d + -24.097 i_d v_0 + -5058.130 i_d I_d + 6188.816 i_d I_q + -207.983 i_d V_d + 24719.221 i_d V_0 + 7.010 i_d \\omega + -2.604 i_d f + -15502459.787 i_d r_x + -6182587.285 i_d r_y + -4.766 i_q v_d + -8.405 i_q v_q + 43.170 i_q v_0 + -1372.918 i_q I_d + -5453.928 i_q I_q + 301.602 i_q V_d + -43.980 i_q V_q + 7740.610 i_q V_0 + -10.158 i_q f + -10173002.469 i_q r_x + -7154519.074 i_q r_y + -0.481 v_d v_0 + 1405.889 v_d I_d + 1458.532 v_d I_q + 236.573 v_d V_d + 51.453 v_d V_q + 190.322 v_d V_0 + 0.725 v_d f + -198992.869 v_d r_x + 9835.925 v_d r_y + -0.634 v_q v_0 + -108.608 v_q I_d + 1455.112 v_q I_q + -39.051 v_q V_d + 273.688 v_q V_q + 1241.029 v_q V_0 + 0.717 v_q f + 239538.791 v_q r_x + -16195.584 v_q r_y + -96.036 v_0 I_d + -543.050 v_0 I_q + 40.893 v_0 V_d + -62.234 v_0 V_q + -138.460 v_0 V_0 + 1003311.460 v_0 r_x + 673130.761 v_0 r_y + 36700.574 I_d I_q + 700.544 I_d V_d + 5511.262 I_d V_q + 115874.080 I_d V_0 + -748.867 I_d \\omega + 94.743 I_d f + -43805700.736 I_d r_x + -8631233.208 I_d r_y + 716.259 I_q V_d + 5168.878 I_q V_q + -4110.533 I_q V_0 + 904.365 I_q \\omega + -78.980 I_q f + 52123763.488 I_q r_x + -5058705.610 I_q r_y + -1254.748 V_d V_q + 709.348 V_d V_0 + 2.133 V_d \\omega + 4.697 V_d f + -5041240.095 V_d r_x + -848478.169 V_d r_y + 1120.786 V_q V_0 + -62.839 V_q \\omega + 6.821 V_q f + -14296836.586 V_q r_x + 206774.498 V_q r_y + 116.044 V_0 \\omega + -11.432 V_0 f + -648358.596 \\omega r_x + -186122.225 \\omega r_y + 1929.679 f r_x + 622.706 f r_y + -1.850 i_d i_q v_0 + -320.306 i_d i_q I_d + 2028.880 i_d i_q I_q + 88.074 i_d i_q V_d + -115.044 i_d i_q V_q + 1701.667 i_d i_q V_0 + 0.336 i_d i_q f + 109373.312 i_d i_q r_x + 46804.983 i_d i_q r_y + -38.730 i_d v_d I_d + -6.246 i_d v_d I_q + -1.259 i_d v_d V_d + 2.143 i_d v_d V_q + 11.072 i_d v_d V_0 + -876.570 i_d v_d r_x + 1033.198 i_d v_d r_y + 4.117 i_d v_q I_d + 56.120 i_d v_q I_q + -2.230 i_d v_q V_d + -1.401 i_d v_q V_q + -11.937 i_d v_q V_0 + -5314.260 i_d v_q r_x + 5341.982 i_d v_q r_y + 110.321 i_d v_0 I_d + 33.430 i_d v_0 I_q + 2.389 i_d v_0 V_q + 84.383 i_d v_0 V_0 + -20646.496 i_d v_0 r_x + -9168.409 i_d v_0 r_y + -26466.725 i_d I_d I_q + 2250.702 i_d I_d V_d + 3583.566 i_d I_d V_q + -83057.176 i_d I_d V_0 + -4.882 i_d I_d \\omega + 45.331 i_d I_d f + 100383954.545 i_d I_d r_x + 48758683.843 i_d I_d r_y + -1088.355 i_d I_q V_d + -2726.642 i_d I_q V_q + -51516.015 i_d I_q V_0 + 7.511 i_d I_q \\omega + -49.325 i_d I_q f + -18516235.833 i_d I_q r_x + -18511184.166 i_d I_q r_y + -202.301 i_d V_d V_q + -2425.593 i_d V_d V_0 + -2.895 i_d V_d \\omega + -0.865 i_d V_d f + 208984.271 i_d V_d r_x + -666981.638 i_d V_d r_y + -944.072 i_d V_q V_0 + 0.228 i_d V_q f + -983877.331 i_d V_q r_x + -258874.016 i_d V_q r_y + -78.297 i_d V_0 \\omega + 436.210 i_d V_0 f + 22937763.051 i_d V_0 r_y + -524.738 i_d \\omega r_x + 4467.183 i_d \\omega r_y + 6775.164 i_d f r_x + -17642.953 i_d f r_y + -29.909 i_q v_d I_d + 2.536 i_q v_d I_q + 5.149 i_q v_d V_d + 2.991 i_q v_d V_q + 10.768 i_q v_d V_0 + 3225.519 i_q v_d r_x + -6017.335 i_q v_d r_y + 7.936 i_q v_q I_d + 44.254 i_q v_q I_q + -2.906 i_q v_q V_d + 5.079 i_q v_q V_q + -12.859 i_q v_q V_0 + -821.698 i_q v_q r_x + -640.526 i_q v_q r_y + -66.569 i_q v_0 I_d + -299.783 i_q v_0 I_q + -0.345 i_q v_0 V_d + -63.267 i_q v_0 V_0 + -3738.765 i_q v_0 r_x + 20960.497 i_q v_0 r_y + 35360.875 i_q I_d I_q + -1914.784 i_q I_d V_d + -804.812 i_q I_d V_q + 12094.065 i_q I_d V_0 + 11.194 i_q I_d \\omega + 58.217 i_q I_d f + -5138989.431 i_q I_d r_x + 16579486.615 i_q I_d r_y + -261.598 i_q I_q V_d + -554.304 i_q I_q V_q + -110577.981 i_q I_q V_0 + 19.199 i_q I_q \\omega + -11.308 i_q I_q f + 98238455.953 i_q I_q r_x + 48220122.449 i_q I_q r_y + 211.979 i_q V_d V_q + 601.797 i_q V_d V_0 + 2.228 i_q V_d \\omega + 371058.443 i_q V_d r_x + 20862.461 i_q V_d r_y + 8438.742 i_q V_q V_0 + -2.254 i_q V_q \\omega + -0.883 i_q V_q f + 1230180.674 i_q V_q r_x + -1242997.278 i_q V_q r_y + -118.311 i_q V_0 f + 25178495.002 i_q V_0 r_x + -611.736 i_q \\omega r_x + -3505.896 i_q \\omega r_y + -5865.344 i_q f r_x + 20486.008 i_q f r_y + -3.295 v_d v_q r_x + 2.814 v_d v_0 I_d + -0.173 v_d v_0 I_q + 214.857 v_d v_0 r_x + 52.394 v_d v_0 r_y + -1268.421 v_d I_d I_q + -525.371 v_d I_d V_d + -380.775 v_d I_d V_q + 6369.211 v_d I_d V_0 + -1011468.298 v_d I_d r_x + -1475870.571 v_d I_d r_y + -1224.974 v_d I_q V_d + 157.447 v_d I_q V_q + 375.908 v_d I_q V_0 + 1.967 v_d I_q f + 3933203.164 v_d I_q r_x + 780604.394 v_d I_q r_y + -1179.046 v_d V_d V_0 + -0.853 v_d V_d f + 234347.355 v_d V_d r_x + 221219.596 v_d V_d r_y + 50.831 v_d V_q V_0 + -467175.645 v_d V_q r_x + -94988.954 v_d V_q r_y + -90446.792 v_d V_0 r_x + -17183.707 v_d V_0 r_y + -4.053 v_d \\omega r_x + -2.659 v_d \\omega r_y + 65.120 v_d f r_x + -5.512 v_d f r_y + 2.351 v_q v_0 I_d + 2.053 v_q v_0 I_q + 0.494 v_q v_0 V_0 + -83.876 v_q v_0 r_x + -164.020 v_q v_0 r_y + -402.066 v_q I_d I_q + 398.885 v_q I_d V_d + -558.185 v_q I_d V_q + -869.596 v_q I_d V_0 + -1.264 v_q I_d f + -3816868.629 v_q I_d r_x + -666200.428 v_q I_d r_y + -313.408 v_q I_q V_d + -1410.137 v_q I_q V_q + -2376.325 v_q I_q V_0 + 0.426 v_q I_q f + -1818469.945 v_q I_q r_x + -1123224.121 v_q I_q r_y + -29.940 v_q V_d V_0 + 472949.278 v_q V_d r_x + 98949.261 v_q V_d r_y + -1128.506 v_q V_q V_0 + -0.848 v_q V_q f + 230750.786 v_q V_q r_x + 225451.601 v_q V_q r_y + -48106.630 v_q V_0 r_x + 121196.857 v_q V_0 r_y + -3.721 v_q \\omega r_x + 70.103 v_q f r_x + 20.262 v_q f r_y + 2242.922 v_0 I_d I_q + -238.371 v_0 I_d V_d + 228.305 v_0 I_d V_q + -3278.164 v_0 I_d V_0 + -0.565 v_0 I_d f + -4170276.789 v_0 I_d r_x + -5771897.423 v_0 I_d r_y + 58.108 v_0 I_q V_d + 255.013 v_0 I_q V_q + 7717.862 v_0 I_q V_0 + 1.010 v_0 I_q f + -4488174.595 v_0 I_q r_x + 2918050.488 v_0 I_q r_y + -4.673 v_0 V_d V_q + -202.926 v_0 V_d V_0 + 127173.697 v_0 V_d r_x + 83718.712 v_0 V_d r_y + 181.695 v_0 V_q V_0 + 87867.517 v_0 V_q r_x + -81988.959 v_0 V_q r_y + -25494.729 v_0 V_0 r_x + 16.582 v_0 \\omega r_x + -38.479 v_0 \\omega r_y + -38.424 v_0 f r_x + 338.797 v_0 f r_y + -9292.882 I_d I_q V_d + -67773.312 I_d I_q V_q + -2631.416 I_d I_q \\omega + -745.196 I_d I_q f + -310028567.627 I_d I_q r_x + -60291608.174 I_d I_q r_y + 1722.776 I_d V_d V_q + -47646.276 I_d V_d V_0 + 88.570 I_d V_d \\omega + -71.393 I_d V_d f + 37476760.318 I_d V_d r_x + 4759280.875 I_d V_d r_y + 395.044 I_d V_q \\omega + -7.091 I_d V_q f + 58020727.941 I_d V_q r_x + -2226485.004 I_d V_q r_y + -553.776 I_d V_0 \\omega + 3812.824 I_d V_0 f + -253962.079 I_d \\omega r_x + 58523.127 I_d \\omega r_y + 456871.461 I_d f r_x + -174329.368 I_d f r_y + 7099.352 I_q V_d V_q + 65783.450 I_q V_d V_0 + -177.657 I_q V_d \\omega + 137.064 I_q V_d f + -10812517.478 I_q V_d r_x + 14173053.256 I_q V_d r_y + -47372.293 I_q V_q V_0 + 17.479 I_q V_q \\omega + 44.803 I_q V_q f + 32369753.553 I_q V_q r_x + 4941938.512 I_q V_q r_y + -463.740 I_q V_0 \\omega + 530.214 I_q V_0 f + 1533.816 I_q \\omega r_x + 56557.463 I_q \\omega r_y + -707173.529 I_q f r_x + 286644.794 I_q f r_y + -6676.306 V_d V_q V_0 + -10.725 V_d V_q \\omega + -5.895 V_d V_q f + 19415.888 V_d V_q r_x + -161279.342 V_d V_q r_y + 91.852 V_d V_0 \\omega + -934.264 V_d V_0 f + 219215.728 V_d V_0 r_y + -41442.257 V_d \\omega r_x + -12307.044 V_d \\omega r_y + -40730.742 V_d f r_x + 24934.817 V_d f r_y + 64.582 V_q V_0 \\omega + 469.715 V_q V_0 f + 2523793.800 V_q V_0 r_x + -10297.020 V_q \\omega r_x + 19152.973 V_q \\omega r_y + 22123.501 V_q f r_x + -54709.346 V_q f r_y + -7298.273 V_0 \\omega r_x + -3357.463 V_0 \\omega r_y + 23.820 \\omega f r_x + -67.355 \\omega f r_y + -3.728 sin(1 \\gamma) + 0.893 cos(1 \\gamma)\n",
      "Sparsity:  692\n",
      "UMP100.pkl\n",
      "UMP150.pkl\n",
      "UMP650.pkl\n"
     ]
    }
   ],
   "source": [
    "#######################################\n",
    "## 16 nonlinear dynamical 50 ecc UMP ## (Can I make these models better somehow?)\n",
    "#######################################\n",
    "testdata = os.path.join(os.getcwd(), 'test-data','08-18','IMMEC_dynamic_nonlinear_5.0sec.npz')\n",
    "plot_optuna_data('_w5//umpnonlinear_dynamic_50ecc-optuna-study')\n",
    "\n",
    "models = ['ump_nonlinear_dynamic_50ecc_100','ump_nonlinear_dynamic_50ecc_150', 'ump_nonlinear_dynamic_50ecc_650']\n",
    "plot_function(models, testdata, 'ump', True, 'ump_d_nl')"
   ]
  }
 ],
 "metadata": {
  "kernelspec": {
   "display_name": "Python 3 (ipykernel)",
   "language": "python",
   "name": "python3"
  },
  "language_info": {
   "codemirror_mode": {
    "name": "ipython",
    "version": 3
   },
   "file_extension": ".py",
   "mimetype": "text/x-python",
   "name": "python",
   "nbconvert_exporter": "python",
   "pygments_lexer": "ipython3",
   "version": "3.12.4"
  }
 },
 "nbformat": 4,
 "nbformat_minor": 5
}
