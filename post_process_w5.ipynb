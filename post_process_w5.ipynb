{
 "cells": [
  {
   "cell_type": "code",
   "execution_count": 2,
   "id": "5f11579c-0981-4b52-b7f7-702fec4e769a",
   "metadata": {},
   "outputs": [],
   "source": [
    "import os.path\n",
    "from optimize_parameters import plot_optuna_data\n",
    "from source import *\n",
    "from train_model_source import simulate_model, make_model\n",
    "%matplotlib QtAgg"
   ]
  },
  {
   "cell_type": "code",
   "execution_count": 3,
   "id": "8b19fff2-6fec-418b-829b-4757f88074ae",
   "metadata": {},
   "outputs": [],
   "source": [
    "def plot_function(models,testdata, type, existing_plot, folder):\n",
    "    pref = \"_w5//\"\n",
    "    if not existing_plot:\n",
    "        for model in models:\n",
    "            do_sim = type=='currents'\n",
    "            sim, test = simulate_model(pref + model + '_model', testdata, \n",
    "                                       modeltype=type, do_time_simulation=do_sim,\n",
    "                                       show=False)\n",
    "    else:\n",
    "        show_coefs = False\n",
    "        if show_coefs:\n",
    "            for model_ in models:\n",
    "                model = load_model(pref + model_ + '_model')\n",
    "                plot_coefs2(model, log=True)\n",
    "        path = os.path.join(os.getcwd(), 'plot_data//_w5//', folder)\n",
    "        plot_everything(path)"
   ]
  },
  {
   "cell_type": "code",
   "execution_count": 3,
   "id": "9c33bc4a-5131-4cda-a666-a57a27b3e3d9",
   "metadata": {},
   "outputs": [
    {
     "name": "stderr",
     "output_type": "stream",
     "text": [
      "[I 2024-08-16 20:29:53,641] Study name was omitted but trying to load 'currentsLinear-specific-optuna-study' because that was the only study found in the storage.\n"
     ]
    },
    {
     "name": "stdout",
     "output_type": "stream",
     "text": [
      "['currentsLinear-specific-optuna-study']\n",
      "Trial count: 401\n",
      "currents190.pkl\n",
      "currents190_simulation.pkl\n",
      "currents30.pkl\n",
      "currents30_simulation.pkl\n",
      "currents90.pkl\n",
      "currents90_simulation.pkl\n"
     ]
    }
   ],
   "source": [
    "#############################\n",
    "## 1 linear model currents ##\n",
    "#############################\n",
    "testdata = os.path.join(os.getcwd(), 'test-data', '07-29-default', 'IMMEC_0ecc_5.0sec.npz')\n",
    "plot_optuna_data('_w5//currentslinear-optuna-study')\n",
    "\n",
    "models = [\"currents_linear_40\", \"currents_linear_300\"] \n",
    "\n",
    "plot_function(models, testdata, 'currents', False, 'currents')"
   ]
  },
  {
   "cell_type": "code",
   "execution_count": 5,
   "id": "0a2956b6-80e7-4f16-87e5-dfd090b79492",
   "metadata": {},
   "outputs": [
    {
     "name": "stderr",
     "output_type": "stream",
     "text": [
      "[I 2024-08-18 14:30:36,220] Study name was omitted but trying to load 'optuna_studies//torquelinear-optuna-study' because that was the only study found in the storage.\n"
     ]
    },
    {
     "name": "stdout",
     "output_type": "stream",
     "text": [
      "['optuna_studies//torquelinear-optuna-study']\n",
      "Trial count: 1000\n"
     ]
    }
   ],
   "source": [
    "###########################\n",
    "## 2 linear model torque ##\n",
    "###########################\n",
    "testdata = os.path.join(os.getcwd(), 'test-data', '07-29-default', 'IMMEC_0ecc_5.0sec.npz')\n",
    "plot_optuna_data('_w5//torquelinear-optuna-study')\n",
    "\n",
    "models = ['torque_linear_8','torque_linear_16']\n",
    "\n",
    "plot_function(models, testdata, 'torque', True, 'torque')"
   ]
  },
  {
   "cell_type": "code",
   "execution_count": 4,
   "id": "f2a8a108-d386-4c3a-8b53-3a88e598d20e",
   "metadata": {},
   "outputs": [
    {
     "name": "stderr",
     "output_type": "stream",
     "text": [
      "[I 2024-08-16 20:31:01,190] Study name was omitted but trying to load 'optuna_studies//currents_nonlinear_08-16-optuna-study' because that was the only study found in the storage.\n"
     ]
    },
    {
     "name": "stdout",
     "output_type": "stream",
     "text": [
      "['optuna_studies//currents_nonlinear_08-16-optuna-study']\n",
      "Trial count: 701\n",
      "currents08-07_15-07-13A.pkl\n",
      "currents08-07_15-07-54B.pkl\n",
      "currents150.pkl\n",
      "currents80.pkl\n",
      "currents_simulation08-07_15-23-55_A.pkl\n",
      "currents_simulation80.pkl\n"
     ]
    }
   ],
   "source": [
    "################################\n",
    "## 3 nonlinear model currents ##\n",
    "################################\n",
    "testdata = os.path.join(os.getcwd(), 'test-data', '08-07', 'IMMEC_nonlin_0ecc_5.0sec.npz')\n",
    "plot_optuna_data('currents_nonlin\\\\currents_nonlinear_08-16-optuna-study')\n",
    "\n",
    "models = [\"nonlinear_currents_tstlsq80\",\"nonlinear_currents_tstlsq150\", \"example_A_currents500\",\"example_B_currents200\"]\n",
    "# B diverges on time simulation also 150 diverges. Unsure why\n",
    "pref = \"currents_nonlinear\\\\\"\n",
    "existing_plot = True\n",
    "if not existing_plot:\n",
    "    for model in models:\n",
    "        sim, test = simulate_model(pref + model + '_model', testdata, modeltype='currents', do_time_simulation=True,\n",
    "                                   show=False)\n",
    "        plot_fourier(test, sim, dt=1e-4, tmax=5.0)\n",
    "else:\n",
    "    # plot modes coefs:\n",
    "    show_coefs = False\n",
    "    if show_coefs:\n",
    "        for model_ in models:\n",
    "            model = load_model(pref + model_ + '_model')\n",
    "            plot_coefs2(model, log=True)\n",
    "    path = os.path.join(os.getcwd(), 'plot_data', 'currents_nonlinear')\n",
    "    plot_everything(path)"
   ]
  },
  {
   "cell_type": "code",
   "execution_count": 5,
   "id": "703c5357-9f13-477f-87e1-42e367fe6e45",
   "metadata": {},
   "outputs": [
    {
     "name": "stderr",
     "output_type": "stream",
     "text": [
      "[I 2024-08-16 20:32:59,894] Study name was omitted but trying to load 'torqueNonlinear-special-optuna-study' because that was the only study found in the storage.\n"
     ]
    },
    {
     "name": "stdout",
     "output_type": "stream",
     "text": [
      "['torqueNonlinear-special-optuna-study']\n",
      "Trial count: 200\n",
      "Torque100.pkl\n",
      "Torque20.pkl\n",
      "Torque280.pkl\n"
     ]
    }
   ],
   "source": [
    "##############################\n",
    "## 4 nonlinear model torque ##\n",
    "##############################\n",
    "testdata = os.path.join(os.getcwd(), 'test-data', '08-07', 'IMMEC_nonlin_0ecc_5.0sec.npz')\n",
    "plot_optuna_data('torque_nonlin_0608/torqueNonlinear-extra_models-optuna-study')\n",
    "# TODO rerun optuna with new optimizer\n",
    "\n",
    "models = [\"torque_nonlinear_280coef\", \"torque_nonlinear_100coef\", \"torque_nonlinear_20coef\"]\n",
    "pref = \"torque_nonlinear\\\\\"\n",
    "existing_plot = True\n",
    "if not existing_plot:\n",
    "    for model in models:\n",
    "        sim, test = simulate_model(pref + model + '_model', testdata, modeltype='torque', show=False)\n",
    "        plot_fourier(test, sim, dt=1e-4, tmax=5.0)\n",
    "else:\n",
    "    # plot modes coefs:\n",
    "    show_coefs = False\n",
    "    if show_coefs:\n",
    "        for model_ in models:\n",
    "            model = load_model(pref + model_ + '_model')\n",
    "            plot_coefs2(model, log=True)\n",
    "    path = os.path.join(os.getcwd(), 'plot_data', 'torque_nonlinear')\n",
    "    plot_everything(path)"
   ]
  },
  {
   "cell_type": "code",
   "execution_count": null,
   "id": "29ca7f03-185f-4bad-8fe1-552ea5490524",
   "metadata": {},
   "outputs": [],
   "source": [
    "## 5 linear model currents with 50 ecc\n",
    "'''\n",
    "testdata = os.path.join(os.getcwd(), 'test-data', '08-08', 'IMMEC_50ecc_ecc_5.0sec.npz')\n",
    "# TODO generate optuna \n",
    "plot_optuna_data()\n",
    "models = []\n",
    "pref = \"currents_50_linear\\\\\"\n",
    "existing_plot = False\n",
    "if not existing_plot:\n",
    "    for model in models:\n",
    "        sim, test = simulate_model(pref + model + '_model', testdata, modeltype='currents', do_time_simulation=True,\n",
    "                                   show=False)\n",
    "        plot_fourier(test, sim, dt=1e-4, tmax=5.0)\n",
    "'''"
   ]
  },
  {
   "cell_type": "code",
   "execution_count": null,
   "id": "0359e714-e802-4a22-9293-0ca51ee17581",
   "metadata": {},
   "outputs": [],
   "source": [
    "## 6 linear model torque with 50 ecc\n",
    "'''\n",
    "testdata = os.path.join(os.getcwd(), 'test-data', '08-08', 'IMMEC_50ecc_ecc_5.0sec.npz')\n",
    "# TODO generate optuna\n",
    "plot_optuna_data()\n",
    "models = []\n",
    "pref = \"torque_50_linear\\\\\"\n",
    "existing_plot = False\n",
    "if not existing_plot:\n",
    "    for model in models:\n",
    "        sim, test = simulate_model(pref + model + '_model', testdata, modeltype='torque', show=False)\n",
    "        plot_fourier(test, sim, dt=1e-4, tmax=5.0)\n",
    "'''"
   ]
  },
  {
   "cell_type": "code",
   "execution_count": 7,
   "id": "b0cc480a-41f5-4104-92c0-6a02b4c25ba5",
   "metadata": {},
   "outputs": [
    {
     "name": "stderr",
     "output_type": "stream",
     "text": [
      "[I 2024-08-16 20:33:59,917] Study name was omitted but trying to load 'umpLinear-50ecc-optuna-study' because that was the only study found in the storage.\n"
     ]
    },
    {
     "name": "stdout",
     "output_type": "stream",
     "text": [
      "['umpLinear-50ecc-optuna-study']\n",
      "Trial count: 2000\n",
      "UMP08-08_13-15-38.pkl\n",
      "UMP08-08_13-15-43.pkl\n",
      "UMP08-08_13-15-46.pkl\n",
      "UMP08-08_13-15-48.pkl\n"
     ]
    }
   ],
   "source": [
    "####################################\n",
    "## 7 linear model UMP with 50 ecc ##\n",
    "####################################\n",
    "testdata = os.path.join(os.getcwd(), 'test-data', '08-08', 'IMMEC_50ecc_ecc_5.0sec.npz')\n",
    "plot_optuna_data(\"ump_lin_0808/umpLinear-50ecc-optuna-study\")\n",
    "# TODO rerun optuna with new optimizer\n",
    "models = [\"ump_linear_50ecc_50\",\n",
    "          \"ump_linear_50ecc_100\",\n",
    "          \"ump_linear_50ecc_200\",\n",
    "          \"ump_linear_50ecc_550\"]\n",
    "pref = \"ump_50_linear\\\\\"\n",
    "existing_plot = True\n",
    "if not existing_plot:\n",
    "    for model in models:\n",
    "        sim, test = simulate_model(pref + model + '_model', testdata, modeltype='ump', show=False)\n",
    "        plot_fourier(test, sim, dt=1e-4, tmax=5.0)\n",
    "else:\n",
    "    # plot modes coefs:\n",
    "    show_coefs = False\n",
    "    if show_coefs:\n",
    "        for model_ in models:\n",
    "            model = load_model(pref + model_ + '_model')\n",
    "            plot_coefs2(model, log=True)\n",
    "    path = os.path.join(os.getcwd(), 'plot_data', 'ump_50_linear')\n",
    "    plot_everything(path)"
   ]
  },
  {
   "cell_type": "code",
   "execution_count": 5,
   "id": "fe5a6a17-bf02-43ce-978c-fbbd6634665b",
   "metadata": {},
   "outputs": [
    {
     "name": "stderr",
     "output_type": "stream",
     "text": [
      "[I 2024-08-16 17:05:54,039] Study name was omitted but trying to load 'currentsnonlinear-50-specific-optuna-study' because that was the only study found in the storage.\n"
     ]
    },
    {
     "name": "stdout",
     "output_type": "stream",
     "text": [
      "['currentsnonlinear-50-specific-optuna-study']\n",
      "Trial count: 3001\n",
      "currents08-08_14-23-12.pkl\n",
      "currents08-08_14-27-17.pkl\n",
      "currents08-08_14-30-32.pkl\n",
      "currents08-08_14-34-05.pkl\n",
      "currents_simulation08-08_14-26-59.pkl\n",
      "currents_simulation08-08_14-28-04.pkl\n"
     ]
    }
   ],
   "source": [
    "############################################\n",
    "## 8 nonlinear model currents with 50 ecc ##\n",
    "############################################\n",
    "testdata = os.path.join(os.getcwd(), 'test-data', '08-07-nonlin-50ecc', 'IMMEC_nonlin_50ecc_5.0sec.npz')\n",
    "plot_optuna_data('currentsNonlinear-50-specific-optuna-study')\n",
    "# TODO rerun optuna with new optimizer\n",
    "models = [\"currents_nonlinear_50ecc_60\", \"currents_nonlinear_50ecc_90\"]\n",
    "# \"currents_nonlinear_50ecc_200\", #this one diverges\n",
    "# \"currents_nonlinear_50ecc_550\"] #this one diverges too\n",
    "\n",
    "pref = \"currents_50_nonlinear\\\\\"\n",
    "existing_plot = True\n",
    "if not existing_plot:\n",
    "    for model in models:\n",
    "        sim, test = simulate_model(pref + model + '_model', testdata, modeltype='currents', do_time_simulation=True,\n",
    "                                   show=False)\n",
    "        plot_fourier(test, sim, dt=1e-4, tmax=5.0)\n",
    "else:\n",
    "    # plot modes coefs:\n",
    "    show_coefs = False\n",
    "    if show_coefs:\n",
    "        for model_ in models:\n",
    "            model = load_model(pref + model_ + '_model')\n",
    "            plot_coefs2(model, log=True)\n",
    "    path = os.path.join(os.getcwd(), 'plot_data', 'currents_50_nonlinear')\n",
    "    plot_everything(path)"
   ]
  },
  {
   "cell_type": "code",
   "execution_count": null,
   "id": "0addc5ad-79d4-404a-a043-482717deb0d2",
   "metadata": {},
   "outputs": [],
   "source": [
    "## 9 nonlinear model torque with 50 ecc todo NOT YET DONE\n",
    "'''\n",
    "testdata = os.path.join(os.getcwd(), 'test-data', '08-07-nonlin-50ecc', 'IMMEC_nonlin_50ecc_5.0sec.npz')\n",
    "plot_optuna_data()\n",
    "# TODO rerun optuna with new optimizer\n",
    "models = []\n",
    "pref = \"torque_50_nonlinear\\\\\"\n",
    "existing_plot = False\n",
    "if not existing_plot:\n",
    "    for model in models:\n",
    "        sim, test = simulate_model(pref + model + '_model', testdata, modeltype='torque', show=False)\n",
    "        plot_fourier(test, sim, dt=1e-4, tmax=5.0)\n",
    "'''"
   ]
  },
  {
   "cell_type": "code",
   "execution_count": null,
   "id": "ba85ea15-c729-496b-9b10-aa5b57563d7d",
   "metadata": {},
   "outputs": [],
   "source": [
    "########################################\n",
    "## 10 nonlinear model ump with 50 ecc ##\n",
    "########################################\n",
    "testdata = os.path.join(os.getcwd(), 'test-data', '08-07-nonlin-50ecc', 'IMMEC_nonlin_50ecc_5.0sec.npz')\n",
    "plot_optuna_data('ump_nonlin_0708/umpNonlinear-50ecc-optuna-study')\n",
    "# TODO rerun optuna with new optimizer\n",
    "models = [\"nonlinear_ump_50ecc_500\", \"nonlinear_ump_50ecc\"]\n",
    "pref = \"ump_50_nonlinear\\\\\"\n",
    "existing_plot = False\n",
    "if not existing_plot:\n",
    "    for model in models:\n",
    "        sim, test = simulate_model(pref + model + '_model', testdata, modeltype='ump', show=False)\n",
    "        plot_fourier(test, sim, dt=1e-4, tmax=5.0)\n",
    "else:\n",
    "    show_coefs = False\n",
    "    if show_coefs:\n",
    "        for model_ in models:\n",
    "            model = load_model(pref + model_ + '_model')\n",
    "            plot_coefs2(model, log=True)\n",
    "    path = os.path.join(os.getcwd(), 'plot_data', 'ump_50_nonlinear')\n",
    "    plot_everything(path)"
   ]
  },
  {
   "cell_type": "code",
   "execution_count": null,
   "id": "234aeac4-6045-4440-9d14-b7833bd767e4",
   "metadata": {},
   "outputs": [],
   "source": [
    "## 11 linear dynamical 50 ecc currents\n",
    "testdata = os.path.join(os.getcwd(), 'test-data','08-09','IMMEC_dynamic_50ecc_5.0sec.npz')\n",
    "\n"
   ]
  },
  {
   "cell_type": "code",
   "execution_count": 8,
   "id": "e32a005c-a035-4938-8699-08dfeb569f4d",
   "metadata": {},
   "outputs": [
    {
     "name": "stderr",
     "output_type": "stream",
     "text": [
      "[I 2024-08-16 20:36:50,447] Study name was omitted but trying to load 'optuna_studies//torque_dynamic-optuna-study' because that was the only study found in the storage.\n"
     ]
    },
    {
     "name": "stdout",
     "output_type": "stream",
     "text": [
      "['optuna_studies//torque_dynamic-optuna-study']\n",
      "Trial count: 531\n"
     ]
    }
   ],
   "source": [
    "## 12 linear dynamical 50 ecc torque\n",
    "testdata = os.path.join(os.getcwd(), 'test-data','08-09','IMMEC_dynamic_50ecc_5.0sec.npz')\n",
    "plot_optuna_data('dynamic//torque_dynamic-optuna-study')\n"
   ]
  },
  {
   "cell_type": "code",
   "execution_count": 5,
   "id": "5418ec76-36ed-4bff-af5e-6eeb179e6f4d",
   "metadata": {
    "scrolled": true
   },
   "outputs": [
    {
     "name": "stderr",
     "output_type": "stream",
     "text": [
      "[I 2024-08-16 17:43:42,793] Study name was omitted but trying to load 'umpdynamic-optuna-study' because that was the only study found in the storage.\n"
     ]
    },
    {
     "name": "stdout",
     "output_type": "stream",
     "text": [
      "['umpdynamic-optuna-study']\n"
     ]
    },
    {
     "name": "stderr",
     "output_type": "stream",
     "text": [
      "[I 2024-08-16 17:43:43,387] Study name was omitted but trying to load 'umpdynamic_ecc-optuna-study' because that was the only study found in the storage.\n"
     ]
    },
    {
     "name": "stdout",
     "output_type": "stream",
     "text": [
      "Trial count: 422\n",
      "['umpdynamic_ecc-optuna-study']\n",
      "Trial count: 742\n"
     ]
    }
   ],
   "source": [
    "## 13 linear dynamical 50 ecc UMP\n",
    "testdata = os.path.join(os.getcwd(), 'test-data','08-09','IMMEC_dynamic_50ecc_5.0sec.npz')\n",
    "plot_optuna_data('dynamic//umpdynamic_ecc-optuna-study') # more samples\n"
   ]
  },
  {
   "cell_type": "code",
   "execution_count": null,
   "id": "5e57adf7-85ac-4bdb-bfd6-4320b1c36aa3",
   "metadata": {},
   "outputs": [],
   "source": [
    "## 14 nonlinear dynamical 50 ecc currents\n",
    "#todo"
   ]
  },
  {
   "cell_type": "code",
   "execution_count": null,
   "id": "17821057-f91c-465b-bdea-fa1a3f73a1bf",
   "metadata": {},
   "outputs": [],
   "source": [
    "## 15 nonlinear dynamical 50 ecc torque\n",
    "#todo"
   ]
  },
  {
   "cell_type": "code",
   "execution_count": null,
   "id": "f9b3d129-00cf-4413-bd66-2dc361bd0e5d",
   "metadata": {},
   "outputs": [],
   "source": [
    "## 16 nonlinear dynamical 50 ecc UMP\n",
    "#todo"
   ]
  }
 ],
 "metadata": {
  "kernelspec": {
   "display_name": "Python 3 (ipykernel)",
   "language": "python",
   "name": "python3"
  },
  "language_info": {
   "codemirror_mode": {
    "name": "ipython",
    "version": 3
   },
   "file_extension": ".py",
   "mimetype": "text/x-python",
   "name": "python",
   "nbconvert_exporter": "python",
   "pygments_lexer": "ipython3",
   "version": "3.12.4"
  }
 },
 "nbformat": 4,
 "nbformat_minor": 5
}
