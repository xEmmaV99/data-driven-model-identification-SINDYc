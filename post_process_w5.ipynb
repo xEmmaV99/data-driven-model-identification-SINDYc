{
 "cells": [
  {
   "cell_type": "code",
   "execution_count": 9,
   "id": "32896d7b-4d65-4e7c-adbb-2ca34bed4de4",
   "metadata": {},
   "outputs": [],
   "source": [
    "import os.path\n",
    "from optimize_parameters import plot_optuna_data\n",
    "from source import *\n",
    "from train_model_source import simulate_model, make_model\n",
    "%matplotlib QtAgg\n",
    "\n",
    "def plot_function(models,testdata, type, existing_plot, folder):\n",
    "    pref = \"_w5//\"\n",
    "    if not existing_plot:\n",
    "        for model in models:\n",
    "            do_sim = type=='currents'\n",
    "            sim, test = simulate_model(pref + model + '_model', testdata, \n",
    "                                       modeltype=type, do_time_simulation=do_sim,\n",
    "                                       show=False)\n",
    "    else:\n",
    "        show_coefs = True\n",
    "        if show_coefs:\n",
    "            for model_ in models:\n",
    "                model = load_model(pref + model_ + '_model')\n",
    "                model.print()\n",
    "                plot_coefs2(model, log=True)\n",
    "        path = os.path.join(os.getcwd(), 'plot_data//_w5//', folder)\n",
    "        plot_everything(path)"
   ]
  },
  {
   "cell_type": "code",
   "execution_count": 10,
   "id": "9c33bc4a-5131-4cda-a666-a57a27b3e3d9",
   "metadata": {},
   "outputs": [
    {
     "name": "stderr",
     "output_type": "stream",
     "text": [
      "[I 2024-08-18 15:47:41,116] Study name was omitted but trying to load 'optuna_studies//currentslinear-optuna-study' because that was the only study found in the storage.\n"
     ]
    },
    {
     "name": "stdout",
     "output_type": "stream",
     "text": [
      "['optuna_studies//currentslinear-optuna-study']\n",
      "Trial count: 1045\n",
      "(i_d)' = -493.723 i_d + 68.421 i_q + 38.744 v_d + -5.060 v_q + -3105.346 I_d + 446.629 I_q + 499.236 V_d + -69.043 V_q + -1.001 \\omega i_q + -32.779 \\omega I_d + -237.769 \\omega I_q + 5.047 \\omega V_d + 38.764 \\omega V_q + 0.018 v_d V_d + 0.018 v_q V_q\n",
      "(i_q)' = -53.558 i_d + -475.728 i_q + 14.074 v_d + 42.987 v_q + -362.847 I_d + -2962.235 I_q + 57.702 V_d + 478.850 V_q + 0.738 \\gamma I_d + -0.733 \\gamma I_q + 393.885 \\gamma V_0 + 1.003 \\omega i_d + 230.088 \\omega I_d + -24.083 \\omega I_q + -37.265 \\omega V_d + 4.151 \\omega V_q + -6.515 \\omega V_0 + -8.999 v_d V_d + 1.133 v_d V_0 + -8.999 v_q V_q\n",
      "(i_0)' = 0.000\n",
      "(i_d)' = -493.723 i_d + 68.421 i_q + 38.744 v_d + -5.060 v_q + -3105.346 I_d + 446.629 I_q + 499.236 V_d + -69.043 V_q + -1.001 \\omega i_q + -32.779 \\omega I_d + -237.769 \\omega I_q + 5.047 \\omega V_d + 38.764 \\omega V_q + 0.018 v_d V_d + 0.018 v_q V_q\n",
      "(i_q)' = -53.558 i_d + -475.728 i_q + 14.074 v_d + 42.987 v_q + -362.847 I_d + -2962.235 I_q + 57.702 V_d + 478.850 V_q + 0.738 \\gamma I_d + -0.733 \\gamma I_q + 393.885 \\gamma V_0 + 1.003 \\omega i_d + 230.088 \\omega I_d + -24.083 \\omega I_q + -37.265 \\omega V_d + 4.151 \\omega V_q + -6.515 \\omega V_0 + -8.999 v_d V_d + 1.133 v_d V_0 + -8.999 v_q V_q\n",
      "(i_0)' = 0.000\n",
      "Sparsity:  35\n",
      "currents_40.pkl\n",
      "currents_simulation_40.pkl\n"
     ]
    }
   ],
   "source": [
    "#############################\n",
    "## 1 linear model currents ##\n",
    "#############################\n",
    "testdata = os.path.join(os.getcwd(), 'test-data', '07-29-default', 'IMMEC_0ecc_5.0sec.npz')\n",
    "plot_optuna_data('_w5//currentslinear-optuna-study')\n",
    "\n",
    "models = [\"currents_linear_40\"] \n",
    "\n",
    "plot_function(models, testdata, 'currents', True, 'currents')"
   ]
  },
  {
   "cell_type": "code",
   "execution_count": 11,
   "id": "0a2956b6-80e7-4f16-87e5-dfd090b79492",
   "metadata": {},
   "outputs": [
    {
     "name": "stderr",
     "output_type": "stream",
     "text": [
      "[I 2024-08-18 15:48:02,020] Study name was omitted but trying to load 'optuna_studies//torquelinear-optuna-study' because that was the only study found in the storage.\n"
     ]
    },
    {
     "name": "stdout",
     "output_type": "stream",
     "text": [
      "['optuna_studies//torquelinear-optuna-study']\n",
      "Trial count: 1000\n",
      "(i_d)' = 1.001 V_di_q + -1.000 V_qi_d + -0.034 V_qI_d + 0.071 V_qI_q + -0.027 i_dI_d + 6.252 i_dI_q + -6.209 i_qI_d + -0.284 I_dI_q\n",
      "(i_d)' = 1.001 V_di_q + -1.000 V_qi_d + -0.034 V_qI_d + 0.071 V_qI_q + -0.027 i_dI_d + 6.252 i_dI_q + -6.209 i_qI_d + -0.284 I_dI_q\n",
      "Sparsity:  8\n",
      "(i_d)' = 0.999 v_d + 0.577 v_q + -0.060 I_q + 6.204 i_d I_q + -1.000 i_d V_q + -6.215 i_q I_d + 1.002 i_q V_d + -0.906 v_d V_d + -0.906 v_q V_q + 0.407 I_d^2 + -0.643 I_d I_q + -0.065 I_d V_d + 0.187 I_q^2 + 0.099 I_q V_d\n",
      "(i_d)' = 0.999 v_d + 0.577 v_q + -0.060 I_q + 6.204 i_d I_q + -1.000 i_d V_q + -6.215 i_q I_d + 1.002 i_q V_d + -0.906 v_d V_d + -0.906 v_q V_q + 0.407 I_d^2 + -0.643 I_d I_q + -0.065 I_d V_d + 0.187 I_q^2 + 0.099 I_q V_d\n",
      "Sparsity:  14\n",
      "Torque08-18_14-29-04.pkl\n",
      "Torque08-18_14-29-06.pkl\n"
     ]
    }
   ],
   "source": [
    "###########################\n",
    "## 2 linear model torque ##\n",
    "###########################\n",
    "testdata = os.path.join(os.getcwd(), 'test-data', '07-29-default', 'IMMEC_0ecc_5.0sec.npz')\n",
    "plot_optuna_data('_w5//torquelinear-optuna-study')\n",
    "\n",
    "models = ['torque_linear_8','torque_linear_16']\n",
    "\n",
    "plot_function(models, testdata, 'torque', True, 'torque')"
   ]
  },
  {
   "cell_type": "code",
   "execution_count": null,
   "id": "f2a8a108-d386-4c3a-8b53-3a88e598d20e",
   "metadata": {},
   "outputs": [
    {
     "name": "stderr",
     "output_type": "stream",
     "text": [
      "[I 2024-08-18 15:48:28,363] Study name was omitted but trying to load 'optuna_studies//currentsnonlinear-optuna-study' because that was the only study found in the storage.\n"
     ]
    },
    {
     "name": "stdout",
     "output_type": "stream",
     "text": [
      "['optuna_studies//currentsnonlinear-optuna-study']\n",
      "Trial count: 1013\n",
      "(i_d)' = -42.388 i_d + 896.516 i_q + 9.373 v_d + -59.191 v_q + -22.963 v_0 + 405.796 I_d + 5384.243 I_q + 111.474 V_d + -856.307 V_q + 600.907 V_0 + 2.414 \\gamma I_d + -9.247 \\gamma I_q + -188.655 \\gamma V_0 + -0.806 \\omega i_q + -503.854 \\omega I_d + 12.888 \\omega I_q + 66.483 \\omega V_d + 2.770 \\omega V_q + 46.555 v_d I_d + 74.129 v_d I_q + -15.158 v_d V_d + -8.089 v_d V_q + -1.559 v_d V_0 + -62.433 v_q I_d + 47.256 v_q I_q + 7.945 v_q V_d + -15.281 v_q V_q + -8.791 v_q V_0 + 1.008 v_0 i_d + 14.800 v_0 I_d + 177.931 v_0 I_q + 2.972 v_0 V_q + -32.532 v_0 V_0\n",
      "(i_q)' = -800.777 i_d + -94.832 i_q + 139.028 v_d + 43.231 v_q + -8.701 v_0 + -4504.751 I_d + -34.611 I_q + 651.984 V_d + 214.005 V_q + -153.338 V_0 + 1.391 \\gamma i_d + -2.070 \\gamma i_q + -35.484 \\gamma I_d + 45.737 \\gamma I_q + 5.393 \\gamma V_q + -43.858 \\gamma V_0 + 18.153 \\omega I_d + -510.124 \\omega I_q + -3.116 \\omega V_d + 76.256 \\omega V_q + 1.263 \\omega V_0 + 12.053 v_d I_d + 23.697 v_d I_q + -59.784 v_d V_d + -2.500 v_d V_q + -3.481 v_d V_0 + -21.023 v_q I_d + 16.276 v_q I_q + 2.522 v_q V_d + -59.869 v_q V_q + -3.797 v_0 I_d + 70.796 v_0 I_q + 1.870 v_0 V_d + 81.919 v_0 V_0\n",
      "(i_0)' = 0.000\n",
      "ecc input: False\n",
      "Loading data\n",
      "Done loading data\n",
      "Calculating xdots\n",
      "Assume all t_vec are equal\n",
      "Done calculating xdots\n",
      "MSE on test:  929.6594518725136\n",
      "Non-zero elements:  67\n",
      "Starting time simulation\n",
      "Finished simulation\n",
      "MSE on simulation:  0.002090558721143705\n",
      "(i_d)' = -0.898 i_q \\omega + 0.001 v_d v_q + 0.043 v_d v_0 + 0.053 v_d \\omega + 0.035 v_d f + -0.153 v_q v_0 + 0.024 v_q \\omega + -0.014 v_q f + -0.055 \\omega f + -0.013 i_d i_q v_q + -0.002 i_d v_d v_0 + -0.001 i_d v_d \\omega + 0.006 i_d v_d f + -0.004 i_d \\omega f + 0.002 i_q v_d v_0 + 0.001 i_q v_d \\omega + -0.008 i_q v_d f + 0.007 i_q v_q v_0 + -0.001 i_q v_q \\omega + 0.006 i_q v_q f + 0.001 v_d v_q v_0 + -0.001 v_d v_q V_q + -0.625 v_d v_q V_0 + -0.039 v_d v_0 V_d + -0.044 v_d V_d \\omega + 0.007 v_d V_d f + -0.003 v_d V_q \\omega + 0.023 v_d V_q f + 0.016 v_q v_0 V_d + 0.211 v_q v_0 V_q + 0.001 v_q V_d \\omega + -0.007 v_q V_d f + -0.042 v_q V_q \\omega + 0.023 V_d \\omega f + 0.054 V_q \\omega f\n",
      "(i_q)' = 1.012 i_d \\omega + 0.370 v_d v_0 + -0.035 v_d \\omega + 0.060 v_d f + 0.070 v_q v_0 + -0.036 v_q \\omega + 0.088 v_q f + 0.037 \\omega f + 0.013 i_d v_d v_0 + -0.003 i_d v_d \\omega + 0.021 i_d v_d f + 0.012 i_d v_q v_0 + -0.001 i_d v_q \\omega + 0.003 i_d v_q f + 0.001 i_d v_0 \\omega + -0.003 i_d \\omega f + 0.001 i_q v_d v_q + 0.002 i_q v_d \\omega + -0.014 i_q v_d f + 0.009 i_q v_q v_0 + -0.001 i_q v_q \\omega + 0.008 i_q v_q f + -0.001 i_q v_0 \\omega + 0.002 i_q \\omega f + 0.018 v_d v_q I_d + -0.001 v_d v_q V_d + -0.002 v_d v_q V_q + 0.222 v_d v_q V_0 + -0.338 v_d v_0 V_d + -0.004 v_d v_0 V_q + 0.008 v_d I_d \\omega + -0.045 v_d I_q \\omega + 0.039 v_d V_d \\omega + -0.013 v_d V_d f + -0.007 v_d V_q \\omega + 0.079 v_d V_q f + -0.046 v_q v_0 V_q + 0.042 v_q I_d \\omega + 0.010 v_q I_q \\omega + 0.002 v_q V_d \\omega + -0.047 v_q V_d f + 0.038 v_q V_q \\omega + -0.041 v_0 V_d \\omega + -0.034 V_d \\omega f + 0.095 V_q \\omega f\n",
      "(i_0)' = 0.000\n",
      "ecc input: False\n",
      "Loading data\n",
      "Done loading data\n",
      "Calculating xdots\n",
      "Assume all t_vec are equal\n",
      "Done calculating xdots\n",
      "MSE on test:  297.7545256850339\n",
      "Non-zero elements:  109\n",
      "Starting time simulation\n",
      "Finished simulation\n",
      "MSE on simulation:  0.7155114228247572\n",
      "(i_d)' = -252.344 i_d + 16.717 i_q + 27.674 v_d + -534.329 I_d + -330.946 I_q + 237.281 V_d + 135.637 V_q + -50.332 i_d i_q + -68.583 i_d I_q + 15.351 i_d V_d + 127.716 i_d V_q + 1861.100 i_d V_0 + 2.198 i_q v_0 + 1734.826 i_q I_d + -75.375 i_q V_d + -178.700 i_q V_q + -0.048 i_q \\omega + 88.131 v_d I_d + -66.495 v_d I_q + -652.064 v_d V_0 + -121.673 v_q I_d + -46.759 v_q I_q + 0.542 v_q V_q + -230.492 v_q V_0 + -26.542 v_0 I_d + 16.258 v_0 V_d + 6.557 v_0 V_q + -2875.635 v_0 V_0 + -765.029 I_d I_q + -498.867 I_d V_d + -875.161 I_d V_q + -151.181 I_d \\omega + -0.434 I_d f + -19.555 I_q V_d + 182.601 I_q V_q + -70.121 I_q \\omega + -84.920 V_d V_q + 11.361 V_d \\omega + -0.143 V_d f + 31.366 V_q \\omega + 248.303 V_0 \\omega + 349.343 i_d i_q I_d + -157.096 i_d i_q I_q + 24.683 i_d i_q V_d + -45.821 i_d i_q V_q + 215.811 i_d i_q V_0 + -9.893 i_d v_d V_0 + -17.480 i_d v_q I_d + 29.768 i_d v_q I_q + -6.439 i_d v_q V_0 + -53.265 i_d v_0 I_d + 104.847 i_d v_0 I_q + -1.729 i_d v_0 V_d + 195.623 i_d v_0 V_0 + -193.727 i_d I_d V_d + -273.583 i_d I_d V_q + -1.252 i_d I_d f + 387.107 i_d I_q V_d + -260.758 i_d I_q V_q + 2.156 i_d I_q f + -28.800 i_d V_d V_q + -2930.224 i_d V_q V_0 + -3.624 i_d V_0 \\omega + 25.971 i_d V_0 f + -20.327 i_q v_d I_d + 20.063 i_q v_d I_q + 1.383 i_q v_d V_d + -7.435 i_q v_d V_0 + -4.686 i_q v_q I_d + 1.276 i_q v_q V_q + 7.739 i_q v_q V_0 + 9.918 i_q v_0 I_d + -37.969 i_q v_0 I_q + -111.681 i_q v_0 V_0 + -9030.416 i_q I_d I_q + -445.465 i_q I_d V_d + -336.159 i_q I_d V_q + 1.475 i_q I_d \\omega + -0.969 i_q I_d f + 666.969 i_q I_q V_d + 1093.995 i_q I_q V_q + -9.597 i_q I_q \\omega + -0.185 i_q I_q f + 113.514 i_q V_d V_q + 26.982 i_q V_d V_0 + -6.296 i_q V_0 \\omega + 41.108 i_q V_0 f + -215.351 v_d I_d I_q + -50.851 v_d I_d V_d + 11.108 v_d I_d V_q + -7.382 v_d I_d V_0 + 65.141 v_d I_q V_d + -15.273 v_d I_q V_q + 898.910 v_d I_q V_0 + 431.190 v_d V_d V_0 + 117.621 v_d V_q V_0 + 2.791 v_q v_0 I_d + -4.680 v_q v_0 I_q + 746.561 v_q I_d I_q + 58.081 v_q I_d V_d + -46.576 v_q I_d V_q + -153.020 v_q I_d V_0 + -103.335 v_q I_q V_d + 66.413 v_q I_q V_q + 45.222 v_q I_q V_0 + -81.883 v_q V_d V_0 + 553.012 v_q V_q V_0 + 14.347 v_0 I_d V_d + -89.358 v_0 I_d V_q + 18312.552 v_0 I_d V_0 + -202.147 v_0 I_q V_d + 97.922 v_0 I_q V_q + -332.879 v_0 V_d V_0 + 49.106 v_0 V_q V_0 + -6.457 I_d I_q \\omega + 654.117 I_d V_d V_q + 25.048 I_d V_d \\omega + 2.771 I_d V_d f + 6.664 I_d V_q \\omega + -296.264 I_d V_0 \\omega + 863.150 I_d V_0 f + -312.896 I_q V_d V_q + -10.860 I_q V_d \\omega + -3.715 I_q V_d f + -17.988 I_q V_q \\omega + 2.815 I_q V_q f + -178.233 I_q V_0 \\omega + 600.794 V_d V_q V_0 + -1.429 V_d V_q \\omega + -4.162 V_d V_0 \\omega + -86.737 V_d V_0 f + -85.913 V_q V_0 f\n",
      "(i_q)' = -1.484 1 + 177.563 i_d + 141.904 i_q + -3.181 v_q + 77.080 v_0 + 392.056 I_q + 52.276 V_d + -2.793 \\omega + 114.968 i_d i_q + 0.986 i_d v_0 + -2233.266 i_d I_d + -84.138 i_d I_q + -64.906 i_d V_d + -401.302 i_d V_q + -9.403 i_q v_d + -3.888 i_q v_q + -1044.583 i_q I_d + -749.315 i_q I_q + -230.570 i_q V_d + -13.507 i_q V_q + 139.705 v_d I_d + 63.863 v_d I_q + -24.026 v_d V_d + 4.225 v_d V_q + 248.359 v_d V_0 + 110.305 v_q I_d + 10.507 v_q V_d + -8.254 v_q V_q + 16.798 v_q V_0 + -542.451 v_0 I_d + -55.646 v_0 V_d + 21.664 v_0 V_q + -576.281 v_0 V_0 + -18808.895 I_d I_q + -133.926 I_d V_d + 60.825 I_d \\omega + -4.860 I_d f + 2400.487 I_q V_d + -44.581 I_q V_q + -17.821 I_q \\omega + -3.265 I_q f + 54.265 V_d V_q + -10.212 V_d \\omega + 165.963 V_0 \\omega + -345.341 i_d i_q I_d + -49.724 i_d i_q I_q + -22.157 i_d i_q V_d + -9.527 i_d i_q V_q + 138.775 i_d i_q V_0 + -13.211 i_d v_d I_d + 14.257 i_d v_d I_q + 2.352 i_d v_d V_d + -2.628 i_d v_d V_q + -2.430 i_d v_d V_0 + -31.535 i_d v_q I_q + 1.701 i_d v_q V_d + 2.307 i_d v_q V_q + -6.769 i_d v_q V_0 + -7.959 i_d v_0 I_d + -20.279 i_d v_0 I_q + -0.021 i_d v_0 V_d + 3.700 i_d v_0 V_q + -167.265 i_d v_0 V_0 + 703.347 i_d I_d V_d + 1989.545 i_d I_d V_q + -20.193 i_d I_d \\omega + -886.861 i_d I_q V_d + 64.614 i_d I_q V_q + 2.286 i_d I_q \\omega + -3.154 i_d I_q f + 47.679 i_d V_d V_q + 265.220 i_d V_d V_0 + 13.673 i_q v_d I_d + 23.886 i_q v_d I_q + 4.078 i_q v_d V_d + 8.159 i_q v_d V_0 + 9.573 i_q v_q I_d + 1.408 i_q v_q I_q + 3.170 i_q v_q V_q + 3.427 i_q v_q V_0 + -84.489 i_q v_0 I_d + 124.629 i_q v_0 I_q + 2.066 i_q v_0 V_d + 0.154 i_q v_0 V_q + 215.510 i_q v_0 V_0 + -2211.663 i_q I_d I_q + 719.924 i_q I_d V_d + 287.530 i_q I_d V_q + 834.772 i_q I_q V_d + -46.890 i_q V_d V_q + -423.441 i_q V_d V_0 + 163.300 i_q V_q V_0 + 0.279 v_d v_0 I_d + -0.438 v_d v_0 I_q + -1.148 v_d v_0 V_0 + -1326.359 v_d I_d I_q + 40.741 v_d I_d V_d + -85.310 v_d I_d V_q + -1072.326 v_d I_d V_0 + 177.657 v_d I_q V_d + 98.804 v_d I_q V_q + -156.207 v_d V_d V_0 + 113.297 v_d V_q V_0 + -112.525 v_q I_d I_q + -44.759 v_q I_d V_d + -1.275 v_q I_d V_q + -19.436 v_q I_q V_d + 97.603 v_q I_q V_q + 1139.947 v_q I_q V_0 + 32.340 v_q V_d V_0 + -190.594 v_q V_q V_0 + 334.480 v_0 I_d V_d + 147.844 v_0 I_d V_q + 147.694 v_0 I_q V_d + -162.673 v_0 I_q V_q + -27.770 v_0 V_d V_q + 531.447 v_0 V_d V_0 + -195.214 I_d I_q V_d + 4686.289 I_d I_q V_q + 29.011 I_d I_q f + 1.207 I_d V_d \\omega + 0.758 I_d V_d f + -1.839 I_d V_q \\omega + -641.534 I_q V_d V_q + -16.009 I_q V_d \\omega + 6.588 I_q V_d f + 85.222 I_q V_q \\omega + -3.902 I_q V_q f + -47.448 V_d V_0 \\omega + -3.034 V_d V_0 f + -35.791 V_q V_0 \\omega\n",
      "(i_0)' = 0.000\n",
      "ecc input: False\n",
      "Loading data\n",
      "Done loading data\n",
      "Calculating xdots\n",
      "Assume all t_vec are equal\n",
      "Done calculating xdots\n",
      "MSE on test:  61.00466762190903\n",
      "Non-zero elements:  263\n",
      "Starting time simulation\n"
     ]
    }
   ],
   "source": [
    "################################\n",
    "## 3 nonlinear model currents ##\n",
    "################################\n",
    "testdata = os.path.join(os.getcwd(), 'test-data', '08-07', 'IMMEC_nonlin_0ecc_5.0sec.npz')\n",
    "plot_optuna_data('_w5//currentsnonlinear-optuna-study')\n",
    "\n",
    "models = ['currents_nonlinear_70','currents_nonlinear_100','currents_nonlinear_250']\n",
    "\n",
    "plot_function(models, testdata, 'currents', False, 'currents_nl')"
   ]
  },
  {
   "cell_type": "code",
   "execution_count": null,
   "id": "703c5357-9f13-477f-87e1-42e367fe6e45",
   "metadata": {},
   "outputs": [],
   "source": [
    "##############################\n",
    "## 4 nonlinear model torque ##\n",
    "##############################\n",
    "testdata = os.path.join(os.getcwd(), 'test-data', '08-07', 'IMMEC_nonlin_0ecc_5.0sec.npz')\n",
    "plot_optuna_data('_w5//torquenonlinear-optuna-study')\n",
    "\n",
    "models = ['torque_nonlinear_5', 'torque_nonlinear_40', 'torque_nonlinear_100']\n",
    "\n",
    "plot_function(models, testdata, 'torque', False, 'torque_nl')"
   ]
  },
  {
   "cell_type": "code",
   "execution_count": null,
   "id": "29ca7f03-185f-4bad-8fe1-552ea5490524",
   "metadata": {},
   "outputs": [],
   "source": [
    "#########################################\n",
    "## 5 linear model currents with 50 ecc ##\n",
    "#########################################\n",
    "testdata = os.path.join(os.getcwd(), 'test-data', '08-08', 'IMMEC_50ecc_ecc_5.0sec.npz')\n",
    "plot_optuna_data('_w5//currentslinear_50ecc-optuna-study')\n",
    "\n",
    "models = ['currents_linear_50ecc_45', 'currents_linear_50ecc_8']\n",
    "\n",
    "plot_function(models, testdata, 'currents', False, 'currents_50ecc')"
   ]
  },
  {
   "cell_type": "code",
   "execution_count": null,
   "id": "0359e714-e802-4a22-9293-0ca51ee17581",
   "metadata": {},
   "outputs": [],
   "source": [
    "#######################################\n",
    "## 6 linear model torque with 50 ecc ##\n",
    "########################################\n",
    "testdata = os.path.join(os.getcwd(), 'test-data', '08-08', 'IMMEC_50ecc_ecc_5.0sec.npz')\n",
    "plot_optuna_data('_w5//torquelinear_50ecc-optuna-study')\n",
    "\n",
    "models = ['torque_linear_50ecc_7', 'torque_linear_50ecc_30']\n",
    "\n",
    "plot_function(models, testdata, 'torque', False, 'torque_50ecc')"
   ]
  },
  {
   "cell_type": "code",
   "execution_count": null,
   "id": "b0cc480a-41f5-4104-92c0-6a02b4c25ba5",
   "metadata": {},
   "outputs": [],
   "source": [
    "####################################\n",
    "## 7 linear model UMP with 50 ecc ##\n",
    "####################################\n",
    "testdata = os.path.join(os.getcwd(), 'test-data', '08-08', 'IMMEC_50ecc_ecc_5.0sec.npz')\n",
    "plot_optuna_data('_w5//umplinear_50ecc-optuna-study')\n",
    "\n",
    "models = ['ump_linear_50ecc_30', 'ump_linear_50ecc_100']\n",
    "\n",
    "plot_function(models, testdata, 'ump', False, 'ump_50ecc')"
   ]
  },
  {
   "cell_type": "code",
   "execution_count": null,
   "id": "fe5a6a17-bf02-43ce-978c-fbbd6634665b",
   "metadata": {},
   "outputs": [],
   "source": [
    "############################################\n",
    "## 8 nonlinear model currents with 50 ecc ##\n",
    "############################################\n",
    "testdata = os.path.join(os.getcwd(), 'test-data', '08-07-nonlin-50ecc', 'IMMEC_nonlin_50ecc_5.0sec.npz')\n",
    "plot_optuna_data('_w5//currentsnonlinear_50ecc-optuna-study')\n",
    "\n",
    "models = ['currents_nonlinear_50ecc_70'] #, 'currents_nonlinear_50ecc_100', currents_nonlinear_50ecc_260']\n",
    "\n",
    "plot_function(models, testdata, 'currents', False, 'currents_nl_50ecc')"
   ]
  },
  {
   "cell_type": "code",
   "execution_count": null,
   "id": "0addc5ad-79d4-404a-a043-482717deb0d2",
   "metadata": {},
   "outputs": [],
   "source": [
    "##########################################\n",
    "## 9 nonlinear model torque with 50 ecc ##\n",
    "##########################################\n",
    "testdata = os.path.join(os.getcwd(), 'test-data', '08-07-nonlin-50ecc', 'IMMEC_nonlin_50ecc_5.0sec.npz')\n",
    "plot_optuna_data('_w5//torquenonlinear_50ecc-optuna-study')\n",
    "\n",
    "models = ['torque_nonlinear_50ecc_10', 'torque_nonlinear_50ecc_40']\n",
    "\n",
    "plot_function(models, testdata, 'torque', False, 'torque_nl_50ecc')"
   ]
  },
  {
   "cell_type": "code",
   "execution_count": null,
   "id": "ba85ea15-c729-496b-9b10-aa5b57563d7d",
   "metadata": {},
   "outputs": [],
   "source": [
    "########################################\n",
    "## 10 nonlinear model ump with 50 ecc ##\n",
    "########################################\n",
    "testdata = os.path.join(os.getcwd(), 'test-data', '08-07-nonlin-50ecc', 'IMMEC_nonlin_50ecc_5.0sec.npz')\n",
    "plot_optuna_data('_w5//umpnonlinear_50ecc-optuna-study')\n",
    "\n",
    "models = ['ump_nonlinear_50ecc_100', 'ump_nonlinear_50ecc_170'] #, 'ump_nonlinear_50ecc_300']\n",
    "\n",
    "plot_function(models, testdata, 'ump', False, 'ump_nl_50ecc')"
   ]
  },
  {
   "cell_type": "code",
   "execution_count": null,
   "id": "234aeac4-6045-4440-9d14-b7833bd767e4",
   "metadata": {},
   "outputs": [],
   "source": [
    "## 11 linear dynamical 50 ecc currents\n",
    "testdata = os.path.join(os.getcwd(), 'test-data','08-09','IMMEC_dynamic_50ecc_5.0sec.npz')\n",
    "plot_optuna_data('_w5//currentslinear_dynamic_50ecc-optuna-study')\n",
    "\n",
    "models = ['currents_linear_dynamic_50ecc_40'] #, 'currents_linear_dynamic_50ecc_300']\n",
    "\n",
    "plot_function(models, testdata, 'currents', False, 'currents_d')"
   ]
  },
  {
   "cell_type": "code",
   "execution_count": null,
   "id": "e32a005c-a035-4938-8699-08dfeb569f4d",
   "metadata": {},
   "outputs": [],
   "source": [
    "## 12 linear dynamical 50 ecc torque\n",
    "testdata = os.path.join(os.getcwd(), 'test-data','08-09','IMMEC_dynamic_50ecc_5.0sec.npz')\n",
    "plot_optuna_data('_w5//torquelinear_dynamic_50ecc-optuna-study')\n",
    "\n",
    "models = ['torque_linear_dynamic_50ecc_15', 'torque_linear_dynamic_50ecc_40', \n",
    "          'torque_linear_dynamic_50ecc_110']\n",
    "\n",
    "plot_function(models, testdata, 'torque', False, 'torque_d')"
   ]
  },
  {
   "cell_type": "code",
   "execution_count": null,
   "id": "5418ec76-36ed-4bff-af5e-6eeb179e6f4d",
   "metadata": {
    "scrolled": true
   },
   "outputs": [],
   "source": [
    "## 13 linear dynamical 50 ecc UMP\n",
    "testdata = os.path.join(os.getcwd(), 'test-data','08-09','IMMEC_dynamic_50ecc_5.0sec.npz')\n",
    "plot_optuna_data('_w5//umplinear_dynamic_50ecc-optuna-study')\n",
    "\n",
    "models = ['ump_linear_dynamic_50ecc_120']\n",
    "\n",
    "plot_function(models, testdata, 'ump', False, 'ump_d')"
   ]
  },
  {
   "cell_type": "code",
   "execution_count": null,
   "id": "5e57adf7-85ac-4bdb-bfd6-4320b1c36aa3",
   "metadata": {},
   "outputs": [],
   "source": [
    "## 14 nonlinear dynamical 50 ecc currents\n",
    "testdata = None\n",
    "plot_optuna_data('_w5//currentsnonlinear_dynamic_50ecc-optuna-study')\n",
    "\n",
    "models = ['currents_nonlinear_dynamic_50ecc_150'] #, 'currents_nonlinear_dynamic_50ecc_420']\n",
    "\n",
    "plot_function(models, testdata, 'currents', False, 'currents_d_nl')"
   ]
  },
  {
   "cell_type": "code",
   "execution_count": null,
   "id": "17821057-f91c-465b-bdea-fa1a3f73a1bf",
   "metadata": {},
   "outputs": [],
   "source": [
    "## 15 nonlinear dynamical 50 ecc torque\n",
    "testdata = None\n",
    "plot_optuna_data('_w5//torquenonlinear_dynamic_50ecc-optuna-study')\n",
    "\n",
    "models = ['torque_nonlinear_dynamic_50ecc_50'] #, 'torque_nonlinear_dynamic_50ecc_100']\n",
    "\n",
    "plot_function(models, testdata, 'torque', False, 'torque_d_nl')"
   ]
  },
  {
   "cell_type": "code",
   "execution_count": null,
   "id": "f9b3d129-00cf-4413-bd66-2dc361bd0e5d",
   "metadata": {},
   "outputs": [],
   "source": [
    "## 16 nonlinear dynamical 50 ecc UMP\n",
    "testdata = None\n",
    "plot_optuna_data('_w5//umpnonlinear_dynamic_50ecc-optuna-study')\n",
    "\n",
    "models = ['ump_nonlinear_dynamic_50ecc_150'] #, 'ump_nonlinear_dynamic_50ecc_150']\n",
    "\n",
    "plot_function(models, testdata, 'ump', False, 'ump_d_nl')"
   ]
  }
 ],
 "metadata": {
  "kernelspec": {
   "display_name": "Python 3 (ipykernel)",
   "language": "python",
   "name": "python3"
  },
  "language_info": {
   "codemirror_mode": {
    "name": "ipython",
    "version": 3
   },
   "file_extension": ".py",
   "mimetype": "text/x-python",
   "name": "python",
   "nbconvert_exporter": "python",
   "pygments_lexer": "ipython3",
   "version": "3.12.4"
  }
 },
 "nbformat": 4,
 "nbformat_minor": 5
}
