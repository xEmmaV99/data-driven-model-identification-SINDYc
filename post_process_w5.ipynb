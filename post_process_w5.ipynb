{
 "cells": [
  {
   "cell_type": "code",
   "execution_count": 1,
   "id": "32896d7b-4d65-4e7c-adbb-2ca34bed4de4",
   "metadata": {},
   "outputs": [],
   "source": [
    "import os.path\n",
    "from optimize_parameters import plot_optuna_data\n",
    "from source import *\n",
    "from train_model_source import simulate_model, make_model\n",
    "%matplotlib QtAgg\n",
    "\n",
    "def plot_function(models,testdata, type, existing_plot, folder):\n",
    "    pref = \"_w5//\"\n",
    "    if not existing_plot:\n",
    "        for model in models:\n",
    "            do_sim = type=='currents'\n",
    "            sim, test = simulate_model(pref + model + '_model', testdata, \n",
    "                                       modeltype=type, do_time_simulation=do_sim,\n",
    "                                       show=False, ecc_input = True)\n",
    "    else:\n",
    "        show_coefs = True\n",
    "        if show_coefs:\n",
    "            for model_ in models:\n",
    "                model = load_model(pref + model_ + '_model')\n",
    "                plot_coefs2(model, log=True)\n",
    "        path = os.path.join(os.getcwd(), 'plot_data//_w5//', folder)\n",
    "        plot_everything(path)"
   ]
  },
  {
   "cell_type": "code",
   "execution_count": 3,
   "id": "9c33bc4a-5131-4cda-a666-a57a27b3e3d9",
   "metadata": {},
   "outputs": [
    {
     "name": "stderr",
     "output_type": "stream",
     "text": [
      "[I 2024-08-19 10:42:49,665] Study name was omitted but trying to load 'optuna_studies//currentslinear-optuna-study' because that was the only study found in the storage.\n"
     ]
    },
    {
     "name": "stdout",
     "output_type": "stream",
     "text": [
      "['optuna_studies//currentslinear-optuna-study']\n",
      "Trial count: 1045\n",
      "(i_d)' = -493.723 i_d + 68.421 i_q + 38.744 v_d + -5.060 v_q + -3105.346 I_d + 446.629 I_q + 499.236 V_d + -69.043 V_q + -1.001 \\omega i_q + -32.779 \\omega I_d + -237.769 \\omega I_q + 5.047 \\omega V_d + 38.764 \\omega V_q + 0.018 v_d V_d + 0.018 v_q V_q\n",
      "(i_q)' = -53.558 i_d + -475.728 i_q + 14.074 v_d + 42.987 v_q + -362.847 I_d + -2962.235 I_q + 57.702 V_d + 478.850 V_q + 0.738 \\gamma I_d + -0.733 \\gamma I_q + 393.885 \\gamma V_0 + 1.003 \\omega i_d + 230.088 \\omega I_d + -24.083 \\omega I_q + -37.265 \\omega V_d + 4.151 \\omega V_q + -6.515 \\omega V_0 + -8.999 v_d V_d + 1.133 v_d V_0 + -8.999 v_q V_q\n",
      "(i_0)' = 0.000\n",
      "Sparsity:  35\n",
      "currents_40.pkl\n",
      "currents_simulation_40.pkl\n"
     ]
    }
   ],
   "source": [
    "#############################\n",
    "## 1 linear model currents ##\n",
    "#############################\n",
    "testdata = os.path.join(os.getcwd(), 'test-data', '07-29-default', 'IMMEC_0ecc_5.0sec.npz')\n",
    "plot_optuna_data('_w5//currentslinear-optuna-study')\n",
    "\n",
    "models = [\"currents_linear_40\"] \n",
    "\n",
    "plot_function(models, testdata, 'currents', True, 'currents')"
   ]
  },
  {
   "cell_type": "code",
   "execution_count": 5,
   "id": "0a2956b6-80e7-4f16-87e5-dfd090b79492",
   "metadata": {},
   "outputs": [
    {
     "name": "stderr",
     "output_type": "stream",
     "text": [
      "[I 2024-08-19 10:43:59,508] Study name was omitted but trying to load 'optuna_studies//torquelinear-optuna-study' because that was the only study found in the storage.\n"
     ]
    },
    {
     "name": "stdout",
     "output_type": "stream",
     "text": [
      "['optuna_studies//torquelinear-optuna-study']\n",
      "Trial count: 1000\n",
      "(i_d)' = 1.001 V_di_q + -1.000 V_qi_d + -0.034 V_qI_d + 0.071 V_qI_q + -0.027 i_dI_d + 6.252 i_dI_q + -6.209 i_qI_d + -0.284 I_dI_q\n",
      "Sparsity:  8\n",
      "(i_d)' = 0.999 v_d + 0.577 v_q + -0.060 I_q + 6.204 i_d I_q + -1.000 i_d V_q + -6.215 i_q I_d + 1.002 i_q V_d + -0.906 v_d V_d + -0.906 v_q V_q + 0.407 I_d^2 + -0.643 I_d I_q + -0.065 I_d V_d + 0.187 I_q^2 + 0.099 I_q V_d\n",
      "Sparsity:  14\n",
      "Torque16.pkl\n",
      "Torque8.pkl\n"
     ]
    }
   ],
   "source": [
    "###########################\n",
    "## 2 linear model torque ##\n",
    "###########################\n",
    "testdata = os.path.join(os.getcwd(), 'test-data', '07-29-default', 'IMMEC_0ecc_5.0sec.npz')\n",
    "plot_optuna_data('_w5//torquelinear-optuna-study')\n",
    "\n",
    "models = ['torque_linear_8','torque_linear_16']\n",
    "\n",
    "plot_function(models, testdata, 'torque', True, 'torque')"
   ]
  },
  {
   "cell_type": "code",
   "execution_count": 8,
   "id": "f2a8a108-d386-4c3a-8b53-3a88e598d20e",
   "metadata": {},
   "outputs": [
    {
     "name": "stderr",
     "output_type": "stream",
     "text": [
      "[I 2024-08-19 10:47:49,421] Study name was omitted but trying to load 'optuna_studies//currentsnonlinear-optuna-study' because that was the only study found in the storage.\n"
     ]
    },
    {
     "name": "stdout",
     "output_type": "stream",
     "text": [
      "['optuna_studies//currentsnonlinear-optuna-study']\n",
      "Trial count: 1013\n",
      "(i_d)' = -42.388 i_d + 896.516 i_q + 9.373 v_d + -59.191 v_q + -22.963 v_0 + 405.796 I_d + 5384.243 I_q + 111.474 V_d + -856.307 V_q + 600.907 V_0 + 2.414 \\gamma I_d + -9.247 \\gamma I_q + -188.655 \\gamma V_0 + -0.806 \\omega i_q + -503.854 \\omega I_d + 12.888 \\omega I_q + 66.483 \\omega V_d + 2.770 \\omega V_q + 46.555 v_d I_d + 74.129 v_d I_q + -15.158 v_d V_d + -8.089 v_d V_q + -1.559 v_d V_0 + -62.433 v_q I_d + 47.256 v_q I_q + 7.945 v_q V_d + -15.281 v_q V_q + -8.791 v_q V_0 + 1.008 v_0 i_d + 14.800 v_0 I_d + 177.931 v_0 I_q + 2.972 v_0 V_q + -32.532 v_0 V_0\n",
      "(i_q)' = -800.777 i_d + -94.832 i_q + 139.028 v_d + 43.231 v_q + -8.701 v_0 + -4504.751 I_d + -34.611 I_q + 651.984 V_d + 214.005 V_q + -153.338 V_0 + 1.391 \\gamma i_d + -2.070 \\gamma i_q + -35.484 \\gamma I_d + 45.737 \\gamma I_q + 5.393 \\gamma V_q + -43.858 \\gamma V_0 + 18.153 \\omega I_d + -510.124 \\omega I_q + -3.116 \\omega V_d + 76.256 \\omega V_q + 1.263 \\omega V_0 + 12.053 v_d I_d + 23.697 v_d I_q + -59.784 v_d V_d + -2.500 v_d V_q + -3.481 v_d V_0 + -21.023 v_q I_d + 16.276 v_q I_q + 2.522 v_q V_d + -59.869 v_q V_q + -3.797 v_0 I_d + 70.796 v_0 I_q + 1.870 v_0 V_d + 81.919 v_0 V_0\n",
      "(i_0)' = 0.000\n",
      "Sparsity:  67\n",
      "(i_d)' = -0.898 i_q \\omega + 0.001 v_d v_q + 0.043 v_d v_0 + 0.053 v_d \\omega + 0.035 v_d f + -0.153 v_q v_0 + 0.024 v_q \\omega + -0.014 v_q f + -0.055 \\omega f + -0.013 i_d i_q v_q + -0.002 i_d v_d v_0 + -0.001 i_d v_d \\omega + 0.006 i_d v_d f + -0.004 i_d \\omega f + 0.002 i_q v_d v_0 + 0.001 i_q v_d \\omega + -0.008 i_q v_d f + 0.007 i_q v_q v_0 + -0.001 i_q v_q \\omega + 0.006 i_q v_q f + 0.001 v_d v_q v_0 + -0.001 v_d v_q V_q + -0.625 v_d v_q V_0 + -0.039 v_d v_0 V_d + -0.044 v_d V_d \\omega + 0.007 v_d V_d f + -0.003 v_d V_q \\omega + 0.023 v_d V_q f + 0.016 v_q v_0 V_d + 0.211 v_q v_0 V_q + 0.001 v_q V_d \\omega + -0.007 v_q V_d f + -0.042 v_q V_q \\omega + 0.023 V_d \\omega f + 0.054 V_q \\omega f\n",
      "(i_q)' = 1.012 i_d \\omega + 0.370 v_d v_0 + -0.035 v_d \\omega + 0.060 v_d f + 0.070 v_q v_0 + -0.036 v_q \\omega + 0.088 v_q f + 0.037 \\omega f + 0.013 i_d v_d v_0 + -0.003 i_d v_d \\omega + 0.021 i_d v_d f + 0.012 i_d v_q v_0 + -0.001 i_d v_q \\omega + 0.003 i_d v_q f + 0.001 i_d v_0 \\omega + -0.003 i_d \\omega f + 0.001 i_q v_d v_q + 0.002 i_q v_d \\omega + -0.014 i_q v_d f + 0.009 i_q v_q v_0 + -0.001 i_q v_q \\omega + 0.008 i_q v_q f + -0.001 i_q v_0 \\omega + 0.002 i_q \\omega f + 0.018 v_d v_q I_d + -0.001 v_d v_q V_d + -0.002 v_d v_q V_q + 0.222 v_d v_q V_0 + -0.338 v_d v_0 V_d + -0.004 v_d v_0 V_q + 0.008 v_d I_d \\omega + -0.045 v_d I_q \\omega + 0.039 v_d V_d \\omega + -0.013 v_d V_d f + -0.007 v_d V_q \\omega + 0.079 v_d V_q f + -0.046 v_q v_0 V_q + 0.042 v_q I_d \\omega + 0.010 v_q I_q \\omega + 0.002 v_q V_d \\omega + -0.047 v_q V_d f + 0.038 v_q V_q \\omega + -0.041 v_0 V_d \\omega + -0.034 V_d \\omega f + 0.095 V_q \\omega f\n",
      "(i_0)' = 0.000\n",
      "Sparsity:  109\n",
      "(i_d)' = -252.344 i_d + 16.717 i_q + 27.674 v_d + -534.329 I_d + -330.946 I_q + 237.281 V_d + 135.637 V_q + -50.332 i_d i_q + -68.583 i_d I_q + 15.351 i_d V_d + 127.716 i_d V_q + 1861.100 i_d V_0 + 2.198 i_q v_0 + 1734.826 i_q I_d + -75.375 i_q V_d + -178.700 i_q V_q + -0.048 i_q \\omega + 88.131 v_d I_d + -66.495 v_d I_q + -652.064 v_d V_0 + -121.673 v_q I_d + -46.759 v_q I_q + 0.542 v_q V_q + -230.492 v_q V_0 + -26.542 v_0 I_d + 16.258 v_0 V_d + 6.557 v_0 V_q + -2875.635 v_0 V_0 + -765.029 I_d I_q + -498.867 I_d V_d + -875.161 I_d V_q + -151.181 I_d \\omega + -0.434 I_d f + -19.555 I_q V_d + 182.601 I_q V_q + -70.121 I_q \\omega + -84.920 V_d V_q + 11.361 V_d \\omega + -0.143 V_d f + 31.366 V_q \\omega + 248.303 V_0 \\omega + 349.343 i_d i_q I_d + -157.096 i_d i_q I_q + 24.683 i_d i_q V_d + -45.821 i_d i_q V_q + 215.811 i_d i_q V_0 + -9.893 i_d v_d V_0 + -17.480 i_d v_q I_d + 29.768 i_d v_q I_q + -6.439 i_d v_q V_0 + -53.265 i_d v_0 I_d + 104.847 i_d v_0 I_q + -1.729 i_d v_0 V_d + 195.623 i_d v_0 V_0 + -193.727 i_d I_d V_d + -273.583 i_d I_d V_q + -1.252 i_d I_d f + 387.107 i_d I_q V_d + -260.758 i_d I_q V_q + 2.156 i_d I_q f + -28.800 i_d V_d V_q + -2930.224 i_d V_q V_0 + -3.624 i_d V_0 \\omega + 25.971 i_d V_0 f + -20.327 i_q v_d I_d + 20.063 i_q v_d I_q + 1.383 i_q v_d V_d + -7.435 i_q v_d V_0 + -4.686 i_q v_q I_d + 1.276 i_q v_q V_q + 7.739 i_q v_q V_0 + 9.918 i_q v_0 I_d + -37.969 i_q v_0 I_q + -111.681 i_q v_0 V_0 + -9030.416 i_q I_d I_q + -445.465 i_q I_d V_d + -336.159 i_q I_d V_q + 1.475 i_q I_d \\omega + -0.969 i_q I_d f + 666.969 i_q I_q V_d + 1093.995 i_q I_q V_q + -9.597 i_q I_q \\omega + -0.185 i_q I_q f + 113.514 i_q V_d V_q + 26.982 i_q V_d V_0 + -6.296 i_q V_0 \\omega + 41.108 i_q V_0 f + -215.351 v_d I_d I_q + -50.851 v_d I_d V_d + 11.108 v_d I_d V_q + -7.382 v_d I_d V_0 + 65.141 v_d I_q V_d + -15.273 v_d I_q V_q + 898.910 v_d I_q V_0 + 431.190 v_d V_d V_0 + 117.621 v_d V_q V_0 + 2.791 v_q v_0 I_d + -4.680 v_q v_0 I_q + 746.561 v_q I_d I_q + 58.081 v_q I_d V_d + -46.576 v_q I_d V_q + -153.020 v_q I_d V_0 + -103.335 v_q I_q V_d + 66.413 v_q I_q V_q + 45.222 v_q I_q V_0 + -81.883 v_q V_d V_0 + 553.012 v_q V_q V_0 + 14.347 v_0 I_d V_d + -89.358 v_0 I_d V_q + 18312.552 v_0 I_d V_0 + -202.147 v_0 I_q V_d + 97.922 v_0 I_q V_q + -332.879 v_0 V_d V_0 + 49.106 v_0 V_q V_0 + -6.457 I_d I_q \\omega + 654.117 I_d V_d V_q + 25.048 I_d V_d \\omega + 2.771 I_d V_d f + 6.664 I_d V_q \\omega + -296.264 I_d V_0 \\omega + 863.150 I_d V_0 f + -312.896 I_q V_d V_q + -10.860 I_q V_d \\omega + -3.715 I_q V_d f + -17.988 I_q V_q \\omega + 2.815 I_q V_q f + -178.233 I_q V_0 \\omega + 600.794 V_d V_q V_0 + -1.429 V_d V_q \\omega + -4.162 V_d V_0 \\omega + -86.737 V_d V_0 f + -85.913 V_q V_0 f\n",
      "(i_q)' = -1.484 1 + 177.563 i_d + 141.904 i_q + -3.181 v_q + 77.080 v_0 + 392.056 I_q + 52.276 V_d + -2.793 \\omega + 114.968 i_d i_q + 0.986 i_d v_0 + -2233.266 i_d I_d + -84.138 i_d I_q + -64.906 i_d V_d + -401.302 i_d V_q + -9.403 i_q v_d + -3.888 i_q v_q + -1044.583 i_q I_d + -749.315 i_q I_q + -230.570 i_q V_d + -13.507 i_q V_q + 139.705 v_d I_d + 63.863 v_d I_q + -24.026 v_d V_d + 4.225 v_d V_q + 248.359 v_d V_0 + 110.305 v_q I_d + 10.507 v_q V_d + -8.254 v_q V_q + 16.798 v_q V_0 + -542.451 v_0 I_d + -55.646 v_0 V_d + 21.664 v_0 V_q + -576.281 v_0 V_0 + -18808.895 I_d I_q + -133.926 I_d V_d + 60.825 I_d \\omega + -4.860 I_d f + 2400.487 I_q V_d + -44.581 I_q V_q + -17.821 I_q \\omega + -3.265 I_q f + 54.265 V_d V_q + -10.212 V_d \\omega + 165.963 V_0 \\omega + -345.341 i_d i_q I_d + -49.724 i_d i_q I_q + -22.157 i_d i_q V_d + -9.527 i_d i_q V_q + 138.775 i_d i_q V_0 + -13.211 i_d v_d I_d + 14.257 i_d v_d I_q + 2.352 i_d v_d V_d + -2.628 i_d v_d V_q + -2.430 i_d v_d V_0 + -31.535 i_d v_q I_q + 1.701 i_d v_q V_d + 2.307 i_d v_q V_q + -6.769 i_d v_q V_0 + -7.959 i_d v_0 I_d + -20.279 i_d v_0 I_q + -0.021 i_d v_0 V_d + 3.700 i_d v_0 V_q + -167.265 i_d v_0 V_0 + 703.347 i_d I_d V_d + 1989.545 i_d I_d V_q + -20.193 i_d I_d \\omega + -886.861 i_d I_q V_d + 64.614 i_d I_q V_q + 2.286 i_d I_q \\omega + -3.154 i_d I_q f + 47.679 i_d V_d V_q + 265.220 i_d V_d V_0 + 13.673 i_q v_d I_d + 23.886 i_q v_d I_q + 4.078 i_q v_d V_d + 8.159 i_q v_d V_0 + 9.573 i_q v_q I_d + 1.408 i_q v_q I_q + 3.170 i_q v_q V_q + 3.427 i_q v_q V_0 + -84.489 i_q v_0 I_d + 124.629 i_q v_0 I_q + 2.066 i_q v_0 V_d + 0.154 i_q v_0 V_q + 215.510 i_q v_0 V_0 + -2211.663 i_q I_d I_q + 719.924 i_q I_d V_d + 287.530 i_q I_d V_q + 834.772 i_q I_q V_d + -46.890 i_q V_d V_q + -423.441 i_q V_d V_0 + 163.300 i_q V_q V_0 + 0.279 v_d v_0 I_d + -0.438 v_d v_0 I_q + -1.148 v_d v_0 V_0 + -1326.359 v_d I_d I_q + 40.741 v_d I_d V_d + -85.310 v_d I_d V_q + -1072.326 v_d I_d V_0 + 177.657 v_d I_q V_d + 98.804 v_d I_q V_q + -156.207 v_d V_d V_0 + 113.297 v_d V_q V_0 + -112.525 v_q I_d I_q + -44.759 v_q I_d V_d + -1.275 v_q I_d V_q + -19.436 v_q I_q V_d + 97.603 v_q I_q V_q + 1139.947 v_q I_q V_0 + 32.340 v_q V_d V_0 + -190.594 v_q V_q V_0 + 334.480 v_0 I_d V_d + 147.844 v_0 I_d V_q + 147.694 v_0 I_q V_d + -162.673 v_0 I_q V_q + -27.770 v_0 V_d V_q + 531.447 v_0 V_d V_0 + -195.214 I_d I_q V_d + 4686.289 I_d I_q V_q + 29.011 I_d I_q f + 1.207 I_d V_d \\omega + 0.758 I_d V_d f + -1.839 I_d V_q \\omega + -641.534 I_q V_d V_q + -16.009 I_q V_d \\omega + 6.588 I_q V_d f + 85.222 I_q V_q \\omega + -3.902 I_q V_q f + -47.448 V_d V_0 \\omega + -3.034 V_d V_0 f + -35.791 V_q V_0 \\omega\n",
      "(i_0)' = 0.000\n",
      "Sparsity:  263\n",
      "currents100.pkl\n",
      "currents250.pkl\n",
      "currents_70.pkl\n",
      "currents_simulation100.pkl\n",
      "currents_simulation250.pkl\n",
      "currents_simulation70.pkl\n"
     ]
    }
   ],
   "source": [
    "################################\n",
    "## 3 nonlinear model currents ##\n",
    "################################\n",
    "testdata = os.path.join(os.getcwd(), 'test-data', '08-07', 'IMMEC_nonlin_0ecc_5.0sec.npz')\n",
    "plot_optuna_data('_w5//currentsnonlinear-optuna-study')\n",
    "\n",
    "models = ['currents_nonlinear_70','currents_nonlinear_100','currents_nonlinear_250']\n",
    "\n",
    "plot_function(models, testdata, 'currents', True, 'currents_nl')"
   ]
  },
  {
   "cell_type": "code",
   "execution_count": 24,
   "id": "703c5357-9f13-477f-87e1-42e367fe6e45",
   "metadata": {},
   "outputs": [
    {
     "name": "stderr",
     "output_type": "stream",
     "text": [
      "[I 2024-08-18 16:45:07,077] Study name was omitted but trying to load 'optuna_studies//torquenonlinear-optuna-study' because that was the only study found in the storage.\n"
     ]
    },
    {
     "name": "stdout",
     "output_type": "stream",
     "text": [
      "['optuna_studies//torquenonlinear-optuna-study']\n",
      "Trial count: 1607\n",
      "(i_d)' = 6.186 i_d I_q + -0.997 i_d V_q + -6.183 i_q I_d + 0.997 i_q V_d + -1.306 v_0 V_0\n",
      "Sparsity:  5\n",
      "(i_d)' = -0.571 i_d + 0.419 i_q + 0.026 v_d + -0.036 v_q + -4.525 I_d + 5.327 I_q + 4.069 V_d + 1.218 V_q + 4.332 V_0 + -0.033 \\omega + 1.534 i_d I_d + 7.529 i_d I_q + 0.012 i_d V_d + -0.786 i_d V_q + 0.170 i_d V_0 + -7.701 i_q I_d + 0.836 i_q I_q + 0.782 i_q V_d + 0.129 i_q V_0 + -0.065 v_d I_d + -0.081 v_d I_q + 0.007 v_d V_d + -0.021 v_d V_q + 0.078 v_q I_d + -0.044 v_q I_q + 0.021 v_q V_d + 0.007 v_q V_q + -0.255 v_0 V_0 + 4.347 I_d^2 + 0.804 I_d I_q + 4.410 I_d V_q + -20.791 I_d V_0 + -5.723 I_q^2 + -4.540 I_q V_d + 1.118 I_q V_q + -3.354 I_q V_0 + -0.013 I_q \\omega + -1.649 V_d^2 + 0.011 V_d V_q + -0.311 V_d V_0 + -1.652 V_q^2 + 0.015 V_q V_0 + -22.757 V_0^2\n",
      "Sparsity:  43\n",
      "(i_d)' = 0.272 i_d + 0.391 i_q + -0.018 v_q + 1.587 I_d + 0.708 I_q + 0.266 V_d + 0.097 V_q + -4.588 V_0 + 0.011 i_d v_q + -0.607 i_d I_d + 5.117 i_d I_q + -0.202 i_d V_d + -0.884 i_d V_q + -0.011 i_q v_d + -5.400 i_q I_d + -1.336 i_q I_q + 0.784 i_q V_d + -0.281 i_q V_q + -5.239 i_q V_0 + -0.082 v_d I_d + -0.006 v_d V_0 + -0.058 v_q I_d + 0.091 v_q I_q + 0.248 v_q V_0 + 0.916 v_0 V_0 + -1.354 I_d V_d + 0.079 I_d V_q + -0.201 I_d \\omega + 0.126 I_q V_d + -1.760 I_q V_q + 0.099 I_q \\omega + 4.588 V_d V_0 + 0.023 V_d \\omega + 9.960 V_q V_0 + -0.024 V_q \\omega + 0.007 V_0 \\omega + 0.251 i_d i_q V_0 + 1.639 i_d I_d I_q + -0.143 i_d I_d V_d + 0.646 i_d I_d V_q + -6.079 i_d I_d V_0 + 0.063 i_d I_d \\omega + 0.145 i_d I_q V_d + -0.198 i_d I_q V_q + 23.932 i_d I_q V_0 + -1.375 i_d V_d V_0 + -0.010 i_d V_d \\omega + 0.924 i_d V_q V_0 + -0.079 i_q I_d I_q + -0.067 i_q I_d V_d + 30.617 i_q I_d V_0 + 0.165 i_q I_q V_d + 0.552 i_q I_q V_q + -3.403 i_q I_q V_0 + 0.063 i_q I_q \\omega + 0.847 i_q V_q V_0 + -0.010 i_q V_q \\omega + -0.186 v_d I_d I_q + 0.114 v_d I_d V_d + -0.029 v_d I_d V_q + 0.940 v_d I_d V_0 + -1.536 v_d I_q V_0 + -0.116 v_q I_d I_q + 0.029 v_q I_d V_d + 0.114 v_q I_d V_q + -0.707 v_q I_d V_0 + -1.185 v_q I_q V_0 + -0.900 v_0 I_d V_0 + -4.745 v_0 I_q V_0 + -1.127 I_d I_q V_d + 1.627 I_d I_q V_q + 316.106 I_d I_q V_0 + 0.621 I_d I_q \\omega + -62.632 I_d V_q V_0 + 0.142 I_d V_q \\omega + -0.332 I_d V_0 \\omega + -0.060 I_q V_d V_q + -50.232 I_q V_d V_0 + -0.197 I_q V_d \\omega + 0.505 I_q V_0 \\omega + -0.025 I_q V_0 f + 0.981 V_d V_q V_0\n",
      "Sparsity:  82\n",
      "Torque100.pkl\n",
      "Torque40.pkl\n",
      "Torque5.pkl\n"
     ]
    }
   ],
   "source": [
    "##############################\n",
    "## 4 nonlinear model torque ##\n",
    "##############################\n",
    "testdata = os.path.join(os.getcwd(), 'test-data', '08-07', 'IMMEC_nonlin_0ecc_5.0sec.npz')\n",
    "plot_optuna_data('_w5//torquenonlinear-optuna-study')\n",
    "\n",
    "models = ['torque_nonlinear_5', 'torque_nonlinear_40', 'torque_nonlinear_100']\n",
    "\n",
    "plot_function(models, testdata, 'torque', True, 'torque_nl')"
   ]
  },
  {
   "cell_type": "code",
   "execution_count": 12,
   "id": "29ca7f03-185f-4bad-8fe1-552ea5490524",
   "metadata": {},
   "outputs": [
    {
     "name": "stderr",
     "output_type": "stream",
     "text": [
      "[I 2024-08-19 10:53:31,876] Study name was omitted but trying to load 'optuna_studies//currentslinear_50ecc-optuna-study' because that was the only study found in the storage.\n"
     ]
    },
    {
     "name": "stdout",
     "output_type": "stream",
     "text": [
      "['optuna_studies//currentslinear_50ecc-optuna-study']\n",
      "Trial count: 1000\n",
      "(i_d)' = -433.274 i_d + 180.439 i_q + 28.232 v_d + -17.242 v_q + 4.332 v_0 + -2732.884 I_d + 1190.647 I_q + 433.631 V_d + -174.189 V_q + 1207.587 V_0 + 50.806 \\gamma V_0 + -1.083 \\omega i_q + -86.691 \\omega I_d + -211.816 \\omega I_q + 13.032 \\omega V_d + 35.807 \\omega V_q + 13.113 \\omega V_0 + 1.071 v_d I_d + 6.574 v_d V_d + 0.985 v_q I_q + 6.574 v_q V_q + 8.039 v_0 I_d + -66.277 v_0 I_q + 138.334 v_0 V_0\n",
      "(i_q)' = -150.177 i_d + -420.340 i_q + 11.419 v_d + 32.910 v_q + -874.768 I_d + -2528.805 I_q + 136.264 V_d + 415.471 V_q + -2409.856 V_0 + 2.209 \\gamma I_d + -2.485 \\gamma I_q + -1.470 \\gamma V_0 + 1.047 \\omega i_d + 200.381 \\omega I_d + -67.768 \\omega I_q + -32.613 \\omega V_d + 11.439 \\omega V_q + 83.153 \\omega V_0 + 6.545 v_0 I_d + -13.635 v_0 I_q + 31.895 v_0 V_0\n",
      "(i_0)' = 0.000\n",
      "Sparsity:  45\n",
      "(i_d)' = -0.124 v_d + -1.074 \\omega i_q + 0.001 \\omega V_q\n",
      "(i_q)' = 0.185 v_d + 0.996 \\omega i_d + 0.098 \\omega i_q\n",
      "(i_0)' = 0.000\n",
      "Sparsity:  8\n",
      "currents45.pkl\n",
      "currents8.pkl\n",
      "currents_simulation45.pkl\n",
      "currents_simulation8.pkl\n"
     ]
    }
   ],
   "source": [
    "#########################################\n",
    "## 5 linear model currents with 50 ecc ##\n",
    "#########################################\n",
    "testdata = os.path.join(os.getcwd(), 'test-data', '08-08', 'IMMEC_50ecc_ecc_5.0sec.npz')\n",
    "\n",
    "#testdata = os.path.join(os.getcwd(), 'test-data', '07-29-default', 'IMMEC_0ecc_5.0sec.npz') # in order to test this, prepare data must be forced to add zero's for ecc\n",
    "\n",
    "plot_optuna_data('_w5//currentslinear_50ecc-optuna-study')\n",
    "\n",
    "models = ['currents_linear_50ecc_45', 'currents_linear_50ecc_8']\n",
    "\n",
    "plot_function(models, testdata, 'currents', True, 'currents_50')"
   ]
  },
  {
   "cell_type": "code",
   "execution_count": 11,
   "id": "0359e714-e802-4a22-9293-0ca51ee17581",
   "metadata": {},
   "outputs": [
    {
     "name": "stderr",
     "output_type": "stream",
     "text": [
      "[I 2024-08-19 10:53:19,175] Study name was omitted but trying to load 'optuna_studies//torquelinear_50ecc-optuna-study' because that was the only study found in the storage.\n"
     ]
    },
    {
     "name": "stdout",
     "output_type": "stream",
     "text": [
      "['optuna_studies//torquelinear_50ecc-optuna-study']\n",
      "Trial count: 1000\n",
      "(i_d)' = -1.678 V_0 + 6.286 i_d I_q + -1.009 i_d V_q + -2.633 i_d V_0 + -6.174 i_q I_d + 0.996 i_q V_d + -2.173 i_q V_0 + -1.544 I_d I_q + 5.451 V_d V_0 + -3.358 V_q V_0 + -0.450 V_0 sin(1 \\gamma)\n",
      "Sparsity:  11\n",
      "(i_d)' = 0.313 v_d + 0.181 v_q + 0.942 I_d + -1.583 I_q + -47.267 V_d + -27.045 V_q + -7.944 V_0 + 0.192 i_d I_d + 5.957 i_d I_q + -1.014 i_d V_q + 1.252 i_d V_0 + -6.166 i_q I_d + -0.036 i_q I_q + 0.997 i_q V_d + -0.273 i_q V_0 + -0.284 v_d V_d + -0.284 v_q V_q + 0.573 I_d^2 + -7.884 I_d I_q + 0.258 I_d V_d + -0.707 I_d V_q + 86.335 I_d V_0 + 5.966 I_q^2 + 1.743 I_q V_d + 4.571 I_q V_0 + 21.332 V_d^2 + -3.498 V_d V_0 + 21.337 V_q^2 + -6.909 V_q V_0 + 319.421 V_0^2\n",
      "Sparsity:  30\n",
      "Torque11.pkl\n",
      "Torque30.pkl\n"
     ]
    }
   ],
   "source": [
    "#######################################\n",
    "## 6 linear model torque with 50 ecc ##\n",
    "#######################################\n",
    "testdata = os.path.join(os.getcwd(), 'test-data', '08-08', 'IMMEC_50ecc_ecc_5.0sec.npz')\n",
    "plot_optuna_data('_w5//torquelinear_50ecc-optuna-study')\n",
    "\n",
    "models = ['torque_linear_50ecc_7', 'torque_linear_50ecc_30']\n",
    "\n",
    "plot_function(models, testdata, 'torque', True, 'torque_50')"
   ]
  },
  {
   "cell_type": "code",
   "execution_count": 13,
   "id": "b0cc480a-41f5-4104-92c0-6a02b4c25ba5",
   "metadata": {},
   "outputs": [
    {
     "name": "stderr",
     "output_type": "stream",
     "text": [
      "[I 2024-08-19 10:54:44,692] Study name was omitted but trying to load 'optuna_studies//umplinear_50ecc-optuna-study' because that was the only study found in the storage.\n"
     ]
    },
    {
     "name": "stdout",
     "output_type": "stream",
     "text": [
      "['optuna_studies//umplinear_50ecc-optuna-study']\n",
      "Trial count: 1083\n",
      "(i_d)' = -163.237 V_dV_q + -31.084 V_di_d + 62.322 V_di_q + -281.644 V_dI_d + 1771.168 V_dI_q + 35.107 V_qi_d + -16.327 V_qi_q + 1780.189 V_qI_d + -1379.308 V_qI_q + -21.824 i_di_q + 1163.016 i_dI_d + -1942.093 i_dI_q + -159.877 i_qI_d + -378.497 i_qI_q + 1883.745 I_dI_q\n",
      "(i_q)' = -184.953 V_dV_q + -21.386 V_di_d + 45.990 V_di_q + -904.792 V_dI_d + 2860.183 V_dI_q + 77.912 V_qi_d + 4.159 V_qi_q + 3271.085 V_qI_d + -3703.433 V_qI_q + -29.428 i_di_q + 1747.269 i_dI_d + -3317.468 i_dI_q + -765.741 i_qI_d + 730.471 i_qI_q + -2165.487 I_dI_q\n",
      "Sparsity:  30\n",
      "(i_d)' = -145.034 i_d + -230.008 i_q + 84.283 v_d + 56.490 v_q + 267.025 v_0 + 303.106 I_d + -1517.082 I_q + 113.980 V_d + 206.482 V_q + 12479.624 V_0 + -6.287 \\gamma i_d + -3.386 \\gamma i_q + -175.203 \\gamma I_d + 271.666 \\gamma I_q + -0.382 \\gamma V_d + 9.659 \\gamma V_q + -4829.520 \\gamma V_0 + 108.582 \\omega I_d + -110.308 \\omega I_q + -18.281 \\omega V_d + 7.470 \\omega V_q + 14.877 \\omega V_0 + -15.290 v_d I_d + -3.623 v_d I_q + -64.466 v_d V_d + -4.225 v_d V_q + -10.774 v_d V_0 + -1.789 v_q I_d + -15.886 v_q I_q + 4.263 v_q V_d + -64.349 v_q V_q + -11.806 v_q V_0 + 8.609 v_0 i_q + -362.530 v_0 I_d + -1777.160 v_0 I_q + -13.240 v_0 V_d + -9.384 v_0 V_q + 1683.251 v_0 V_0\n",
      "(i_q)' = -48.786 i_d + 234.554 i_q + 230.051 v_d + 110.685 v_q + 181.241 v_0 + -391.265 I_d + 3091.132 I_q + 103.821 V_d + -202.449 V_q + 1736.142 V_0 + -7.673 \\gamma i_d + 2.492 \\gamma i_q + 154.940 \\gamma I_d + -206.355 \\gamma I_q + -8.997 \\gamma V_q + -2395.930 \\gamma V_0 + -131.159 \\omega I_d + -21.024 \\omega I_q + 16.173 \\omega V_d + 11.032 \\omega V_q + 38.526 \\omega V_0 + 5.201 v_d I_d + -199.509 v_d V_d + -16.108 v_d V_0 + -3.068 v_q I_d + 6.972 v_q I_q + -199.378 v_q V_q + -2.866 v_q V_0 + 5.354 v_0 i_d + 4.219 v_0 i_q + -816.810 v_0 I_d + -347.136 v_0 I_q + 3142.147 v_0 V_0\n",
      "Sparsity:  71\n",
      "(i_d)' = 5.853 1 + 409.457 i_d + 310.085 i_q + 115.652 v_d + 77.712 v_q + 5.156 v_0 + 6871.112 I_q + 504.535 V_d + -669.759 V_q + 13318.279 V_0 + -4.418 \\omega + 25.102 i_d^2 + -924.801 i_d I_d + 1907.482 i_d I_q + -231.893 i_d V_d + -27.914 i_d V_q + 402.818 i_d V_0 + 27.691 i_q^2 + -523.070 i_q I_d + -181.864 i_q I_q + 26.166 i_q V_d + -274.188 i_q V_q + -3404.814 i_q V_0 + -81.395 v_d I_d + 38.973 v_d I_q + -106.800 v_d V_d + 1.808 v_d V_q + 27.277 v_d V_0 + -44.373 v_q I_d + -58.131 v_q I_q + -1.667 v_q V_d + -106.920 v_q V_q + 15.968 v_q V_0 + 9.887 v_0 I_d + -66.173 v_0 I_q + 79.613 v_0 V_0 + -15617.257 I_d^2 + 31846.279 I_d I_q + 973.066 I_d V_d + 2939.991 I_d V_q + -7.377 I_d \\omega + 2.090 I_d f + -12198.557 I_q^2 + -8368.728 I_q V_d + -835.123 I_q V_q + -165727.026 I_q V_0 + 91.129 I_q \\omega + -3.467 I_q f + 49.187 V_d V_q + -4652.583 V_d V_0 + 6.068 V_d \\omega + 75.102 V_q^2 + 15464.578 V_q V_0 + -11.450 V_q \\omega + -0.904 V_0 \\omega + -6.091 V_0 f + 0.138 cos(1 \\gamma)\n",
      "(i_q)' = 0.644 1 + -1141.858 i_d + -920.828 i_q + 172.456 v_d + 121.723 v_q + 13.239 v_0 + 2578.658 I_d + 925.979 I_q + 3860608.779 V_d + 2228980.927 V_q + 10098.239 V_0 + 0.311 \\omega + -11.870 i_d i_q + 1970.597 i_d I_d + -422.691 i_d I_q + 911.908 i_d V_d + -83.541 i_d V_q + -1148.435 i_d V_0 + 2.738 i_q^2 + 394.314 i_q I_d + 1925.539 i_q I_q + 111.354 i_q V_d + 882.792 i_q V_q + -1946.339 i_q V_0 + -76.442 v_d I_d + 69.222 v_d I_q + -160.296 v_d V_d + 4.351 v_d V_q + 16.761 v_d V_0 + -74.899 v_q I_d + -53.587 v_q I_q + -4.276 v_q V_d + -160.394 v_q V_q + 2.480 v_q V_0 + -39.501 v_0 I_d + -59.863 v_0 I_q + -957.039 I_d^2 + 13875.230 I_d I_q + -2290.097 I_d V_d + -888.766 I_d V_q + -3.121 I_d \\omega + 1.477 I_d f + -2508.734 I_q^2 + -1157.302 I_q V_d + -2537.212 I_q V_q + -139724.938 I_q V_0 + 64.709 I_q \\omega + 0.494 I_q f + -1750409.880 V_d^2 + 22.620 V_d V_q + -545.521 V_d V_0 + 3.954 V_d \\omega + -1750370.921 V_q^2 + 8579.655 V_q V_0 + -8.020 V_q \\omega + 1.356 V_0 \\omega + -13.142 V_0 f\n",
      "Sparsity:  114\n",
      "UMP100.pkl\n",
      "UMP30.pkl\n",
      "UMP70.pkl\n"
     ]
    }
   ],
   "source": [
    "####################################\n",
    "## 7 linear model UMP with 50 ecc ##\n",
    "####################################\n",
    "testdata = os.path.join(os.getcwd(), 'test-data', '08-08', 'IMMEC_50ecc_ecc_5.0sec.npz')\n",
    "plot_optuna_data('_w5//umplinear_50ecc-optuna-study')\n",
    "\n",
    "models = ['ump_linear_50ecc_30', 'ump_linear_50ecc_70','ump_linear_50ecc_100']\n",
    "\n",
    "plot_function(models, testdata, 'ump', True, 'ump_50')"
   ]
  },
  {
   "cell_type": "code",
   "execution_count": 14,
   "id": "fe5a6a17-bf02-43ce-978c-fbbd6634665b",
   "metadata": {},
   "outputs": [
    {
     "name": "stderr",
     "output_type": "stream",
     "text": [
      "[I 2024-08-19 10:56:46,453] Study name was omitted but trying to load 'optuna_studies//currentsnonlinear_50ecc-optuna-study' because that was the only study found in the storage.\n"
     ]
    },
    {
     "name": "stdout",
     "output_type": "stream",
     "text": [
      "['optuna_studies//currentsnonlinear_50ecc-optuna-study']\n",
      "Trial count: 1000\n",
      "(i_d)' = -82.998 i_d + 761.640 i_q + 14.752 v_d + -46.938 v_q + -23.964 v_0 + 79.178 I_d + 4631.086 I_q + 160.176 V_d + -706.000 V_q + 1511.940 V_0 + -0.806 \\gamma i_d + -0.480 \\gamma i_q + 12.109 \\gamma I_d + -39.150 \\gamma I_q + 0.598 \\gamma V_q + -178.277 \\gamma V_0 + -0.768 \\omega i_q + -440.052 \\omega I_d + -15.677 \\omega I_q + 55.814 \\omega V_d + 7.336 \\omega V_q + -8.759 \\omega V_0 + 50.023 v_d I_d + 78.457 v_d I_q + -16.714 v_d V_d + -8.325 v_d V_q + -1.887 v_d V_0 + -70.302 v_q I_d + 51.236 v_q I_q + 8.261 v_q V_d + -16.818 v_q V_q + -4.281 v_q V_0 + 97.559 v_0 I_d + 69.148 v_0 I_q + 0.785 v_0 V_d + -51.700 v_0 V_0\n",
      "(i_q)' = -675.526 i_d + -34.967 i_q + 63.314 v_d + 6.095 v_q + -5.031 v_0 + -4517.643 I_d + 99.596 I_q + 699.458 V_d + 113.128 V_q + 667.953 V_0 + -1.806 \\gamma i_q + -71.760 \\gamma I_d + 65.340 \\gamma I_q + 3.141 \\gamma V_d + 4.901 \\gamma V_q + -4.536 \\gamma V_0 + 0.791 \\omega i_d + -5.083 \\omega I_d + -357.379 \\omega I_q + 55.462 \\omega V_q + 12.459 v_d I_d + 14.980 v_d I_q + -9.650 v_d V_d + -1.406 v_d V_q + -2.284 v_d V_0 + -13.802 v_q I_d + 15.844 v_q I_q + 1.438 v_q V_d + -9.698 v_q V_q + 8.493 v_0 I_d + 32.880 v_0 I_q + 1.046 v_0 V_d + -9.958 v_0 V_0\n",
      "(i_0)' = 0.000\n",
      "Sparsity:  69\n",
      "currents70.pkl\n",
      "currents_simulation70.pkl\n"
     ]
    }
   ],
   "source": [
    "############################################\n",
    "## 8 nonlinear model currents with 50 ecc ##\n",
    "############################################\n",
    "testdata = os.path.join(os.getcwd(), 'test-data', '08-07-nonlin-50ecc', 'IMMEC_nonlin_50ecc_5.0sec.npz')\n",
    "plot_optuna_data('_w5//currentsnonlinear_50ecc-optuna-study')\n",
    "\n",
    "models = ['currents_nonlinear_50ecc_70'] #, 'currents_nonlinear_50ecc_100', currents_nonlinear_50ecc_260']\n",
    "\n",
    "plot_function(models, testdata, 'currents', True, 'currents_50_nl')"
   ]
  },
  {
   "cell_type": "code",
   "execution_count": 15,
   "id": "0addc5ad-79d4-404a-a043-482717deb0d2",
   "metadata": {},
   "outputs": [
    {
     "name": "stderr",
     "output_type": "stream",
     "text": [
      "[I 2024-08-19 10:57:19,177] Study name was omitted but trying to load 'optuna_studies//torquenonlinear_50ecc-optuna-study' because that was the only study found in the storage.\n"
     ]
    },
    {
     "name": "stdout",
     "output_type": "stream",
     "text": [
      "['optuna_studies//torquenonlinear_50ecc-optuna-study']\n",
      "Trial count: 1000\n",
      "(i_d)' = -0.020 i_q + 0.523 I_d + -1.200 I_q + -0.105 V_d + 0.125 V_q + 0.031 i_d I_d + 6.133 i_d I_q + -1.001 i_d V_q + -6.007 i_q I_d + -0.108 i_q I_q + 0.997 i_q V_d + 0.359 i_q V_0 + -0.118 v_0 I_d + 0.201 v_0 I_q + -1.181 v_0 V_0 + 0.163 I_d V_d + -0.881 I_d V_q + 1.197 I_q^2 + 0.779 I_q V_d + 0.262 I_q V_q\n",
      "Sparsity:  20\n",
      "(i_d)' = -0.482 i_d + 0.531 i_q + 0.032 v_d + -0.035 v_q + -4.828 I_d + 3.975 I_q + 3.846 V_d + 1.138 V_q + 5.430 V_0 + -0.031 \\omega + 1.302 i_d I_d + 7.422 i_d I_q + -0.024 i_d V_d + -0.780 i_d V_q + -0.176 i_d V_0 + -8.036 i_q I_d + 0.525 i_q I_q + 0.762 i_q V_d + 0.641 i_q V_0 + -0.051 v_d I_d + -0.096 v_d I_q + -0.020 v_d V_q + 0.103 v_q I_d + -0.053 v_q I_q + 0.020 v_q V_d + -0.276 v_0 V_0 + 11.503 I_d^2 + -5.339 I_d I_q + -1.627 I_d V_d + 4.866 I_d V_q + -44.329 I_d V_0 + 6.051 I_q^2 + -3.296 I_q V_d + -0.622 I_q V_q + 20.873 I_q V_0 + -0.013 I_q \\omega + -1.467 V_d^2 + 0.223 V_d V_0 + -1.503 V_q^2\n",
      "Sparsity:  39\n",
      "Torque10.pkl\n",
      "Torque40.pkl\n"
     ]
    }
   ],
   "source": [
    "##########################################\n",
    "## 9 nonlinear model torque with 50 ecc ##\n",
    "##########################################\n",
    "testdata = os.path.join(os.getcwd(), 'test-data', '08-07-nonlin-50ecc', 'IMMEC_nonlin_50ecc_5.0sec.npz')\n",
    "plot_optuna_data('_w5//torquenonlinear_50ecc-optuna-study')\n",
    "\n",
    "models = ['torque_nonlinear_50ecc_10', 'torque_nonlinear_50ecc_40']\n",
    "\n",
    "plot_function(models, testdata, 'torque', True, 'torque_50_nl')"
   ]
  },
  {
   "cell_type": "code",
   "execution_count": 23,
   "id": "ba85ea15-c729-496b-9b10-aa5b57563d7d",
   "metadata": {},
   "outputs": [
    {
     "name": "stderr",
     "output_type": "stream",
     "text": [
      "[I 2024-08-19 11:19:57,827] Study name was omitted but trying to load 'optuna_studies//umpnonlinear_50ecc-optuna-study' because that was the only study found in the storage.\n"
     ]
    },
    {
     "name": "stdout",
     "output_type": "stream",
     "text": [
      "['optuna_studies//umpnonlinear_50ecc-optuna-study']\n",
      "Trial count: 1000\n",
      "(i_d)' = -35.875 i_d + 69.781 i_q + -11.793 v_d + -20.944 v_q + -38.837 v_0 + 1209.624 I_d + 2767.115 I_q + -20.283 V_d + -351.998 V_q + 123.391 V_0 + -6.449 \\gamma i_d + -0.064 \\gamma i_q + 1.809 \\gamma I_d + -60.408 \\gamma I_q + 10.613 \\gamma V_d + -6.336 \\gamma V_q + -322.530 \\gamma V_0 + 0.237 \\omega i_d + -0.202 \\omega i_q + 78.464 \\omega I_d + -58.283 \\omega I_q + 10.553 \\omega V_d + -8.660 \\omega V_q + 4.432 \\omega V_0 + 0.013 v_d i_d + -0.786 v_d i_q + 17.089 v_d I_d + -110.810 v_d I_q + 3.828 v_d V_d + 10.595 v_d V_q + -6.136 v_d V_0 + 0.695 v_q i_d + 0.179 v_q i_q + 97.068 v_q I_d + 17.209 v_q I_q + -10.431 v_q V_d + 3.552 v_q V_q + -3.609 v_q V_0 + -1.716 v_0 i_d + -0.994 v_0 i_q + 350.938 v_0 I_d + -241.418 v_0 I_q + 1.772 v_0 V_d + -0.060 v_0 V_q + -254.547 v_0 V_0\n",
      "(i_q)' = -29.827 i_d + 20.021 i_q + 3.869 v_d + -6.330 v_q + 30.386 v_0 + -857.808 I_d + 1395.058 I_q + 122.359 V_d + -28.517 V_q + 261.576 V_0 + -3.222 \\gamma i_d + 2.049 \\gamma i_q + 115.814 \\gamma I_d + -162.980 \\gamma I_q + 1.738 \\gamma V_d + -8.410 \\gamma V_q + -137.655 \\gamma V_0 + 0.090 \\omega i_d + 0.098 \\omega i_q + -5.822 \\omega I_d + 8.910 \\omega I_q + 6.127 \\omega V_d + 3.096 \\omega V_q + 0.908 \\omega V_0 + 0.057 v_d i_d + 0.019 v_d i_q + -11.104 v_d I_d + -42.379 v_d I_q + 2.000 v_d V_d + 5.559 v_d V_q + -0.218 v_d V_0 + -0.070 v_q i_d + 0.006 v_q i_q + 36.545 v_q I_d + -19.499 v_q I_q + -5.422 v_q V_d + 2.241 v_q V_q + 5.064 v_q V_0 + -1.739 v_0 i_d + 0.559 v_0 i_q + 16.169 v_0 I_d + -303.299 v_0 I_q + 0.069 v_0 V_d + -2.860 v_0 V_q + 18.346 v_0 V_0\n",
      "ecc input: True\n",
      "Loading data\n",
      "Done loading data\n",
      "Calculating xdots\n",
      "Assume all t_vec are equal\n",
      "Done calculating xdots\n",
      "Non zero ecc, added to input data\n",
      "MSE on test:  720.3579195017152\n",
      "Non-zero elements:  90\n"
     ]
    }
   ],
   "source": [
    "########################################\n",
    "## 10 nonlinear model ump with 50 ecc ##\n",
    "########################################\n",
    "testdata = os.path.join(os.getcwd(), 'test-data', '08-07-nonlin-50ecc', 'IMMEC_nonlin_50ecc_5.0sec.npz')\n",
    "plot_optuna_data('_w5//umpnonlinear_50ecc-optuna-study')\n",
    "\n",
    "models = ['ump_nonlinear_50ecc_90', 'ump_nonlinear_50ecc_100', 'ump_nonlinear_50ecc_170', 'ump_nonlinear_50ecc_300']\n",
    "\n",
    "plot_function(models, testdata, 'ump', False, 'ump_50_nl')"
   ]
  },
  {
   "cell_type": "code",
   "execution_count": 24,
   "id": "234aeac4-6045-4440-9d14-b7833bd767e4",
   "metadata": {},
   "outputs": [
    {
     "name": "stderr",
     "output_type": "stream",
     "text": [
      "[I 2024-08-19 11:21:11,110] Study name was omitted but trying to load 'optuna_studies//currentslinear_dynamic_50ecc-optuna-study' because that was the only study found in the storage.\n"
     ]
    },
    {
     "name": "stdout",
     "output_type": "stream",
     "text": [
      "['optuna_studies//currentslinear_dynamic_50ecc-optuna-study']\n",
      "Trial count: 997\n",
      "(i_d)' = -208.277 i_d + 125.648 v_d + 62.880 v_q + -1212.860 I_d + 39.594 I_q + 194.866 V_d + -9.893 V_q + 1.781 V_0 + -0.275 \\gamma i_d + 1.328 \\gamma i_q + -15.156 \\gamma I_d + 36.850 \\gamma I_q + 0.735 \\gamma V_d + -2.528 \\gamma V_q + -0.375 \\gamma V_0 + -1.019 \\omega i_q + 5.311 \\omega I_d + -107.236 \\omega I_q + 0.347 \\omega V_d + 16.793 \\omega V_q + -0.298 v_d I_d + -2.596 v_d I_q + -98.820 v_d V_d + 0.618 v_d V_q + 2.203 v_q I_d + -0.345 v_q I_q + -0.618 v_q V_d + -98.816 v_q V_q + -3.188 v_0 V_0\n",
      "(i_q)' = -46.204 i_d + -159.247 i_q + -7.248 v_d + 7.628 v_q + -479.618 I_d + -921.796 I_q + 73.256 V_d + 156.143 V_q + -1.007 \\gamma i_q + 5.259 \\gamma I_d + -19.878 \\gamma I_q + 1.887 \\gamma V_q + 2.341 \\gamma V_0 + 1.032 \\omega i_d + 78.432 \\omega I_d + -8.247 \\omega I_q + -14.358 \\omega V_d + 4.287 \\omega V_q + 0.080 v_d I_d + 10.450 v_d V_d + 0.133 v_q I_q + 10.450 v_q V_q + 1.049 v_0 V_0\n",
      "(i_0)' = 0.000\n",
      "Sparsity:  52\n",
      "currents50.pkl\n",
      "currents_simulation50.pkl\n"
     ]
    }
   ],
   "source": [
    "#########################################\n",
    "## 11 linear dynamical 50 ecc currents ##  # SOMETHIGN IS WRONG WITH THE OPTUNA PLOTS\n",
    "#########################################\n",
    "testdata = os.path.join(os.getcwd(), 'test-data','08-09','IMMEC_dynamic_50ecc_5.0sec.npz')\n",
    "plot_optuna_data('_w5//currentslinear_dynamic_50ecc-optuna-study')\n",
    "\n",
    "models = ['currents_linear_dynamic_50ecc_40']# 'currents_linear_dynamic_50ecc_300']\n",
    "\n",
    "plot_function(models, testdata, 'currents', True, 'currents_d')"
   ]
  },
  {
   "cell_type": "code",
   "execution_count": 25,
   "id": "e32a005c-a035-4938-8699-08dfeb569f4d",
   "metadata": {},
   "outputs": [
    {
     "name": "stderr",
     "output_type": "stream",
     "text": [
      "[I 2024-08-19 11:21:27,472] Study name was omitted but trying to load 'optuna_studies//torquelinear_dynamic_50ecc-optuna-study' because that was the only study found in the storage.\n"
     ]
    },
    {
     "name": "stdout",
     "output_type": "stream",
     "text": [
      "['optuna_studies//torquelinear_dynamic_50ecc-optuna-study']\n",
      "Trial count: 1000\n",
      "(i_d)' = 22.843 V_d + 13.185 V_q + 26.834 r_x + 6.272 i_d I_q + -1.017 i_d V_q + 3.696 i_d r_x + -7.168 i_d r_y + -6.321 i_q I_d + 1.017 i_q V_d + -0.031 i_q r_x + 3.500 i_q r_y + 0.497 I_d I_q + -136.626 I_d r_x + -10.354 V_d^2 + -6.355 V_d r_x + 5.049 V_d r_y + -10.353 V_q^2 + 10.502 V_q r_x + -8.233 V_q r_y + -12.220 V_0^2\n",
      "Sparsity:  20\n",
      "(i_d)' = 1.507 i_d + -2.647 i_q + 1.263 v_d + 0.968 v_q + 16.528 I_d + -25.608 I_q + 10.112 V_d + 11.020 V_q + 0.455 V_0 + 0.123 \\omega + 35.285 r_x + 15.247 r_y + 0.027 i_d i_q + -0.093 i_d I_d + -1.482 i_d I_q + -2.069 i_d V_q + 6.158 i_d r_x + -19.099 i_d r_y + -0.034 i_q^2 + 0.593 i_q I_d + 1.431 i_q I_q + 2.068 i_q V_d + 0.177 i_q V_q + -0.329 i_q V_0 + -3.271 i_q r_x + -4.297 i_q r_y + 0.132 v_d I_d + 0.505 v_d I_q + -1.258 v_d V_d + 0.077 v_d V_q + -0.024 v_d r_y + -0.529 v_q I_d + 0.109 v_q I_q + -0.077 v_q V_d + -1.258 v_q V_q + 0.074 v_q r_y + 0.038 v_0 V_0 + -0.058 v_0 r_y + -5.352 I_d^2 + -14.634 I_d I_q + -1.608 I_d V_d + -18.066 I_d V_q + -1.891 I_d V_0 + -157.920 I_d r_x + -28.610 I_d r_y + 33.256 I_q^2 + 21.840 I_q V_d + -4.982 I_q V_q + -5.526 I_q V_0 + 0.017 I_q \\omega + -11.691 I_q r_x + -273.735 I_q r_y + -5.461 V_d^2 + -0.076 V_d V_q + -9.670 V_d r_x + 17.873 V_d r_y + -5.653 V_q^2 + 0.699 V_q V_0 + 10.855 V_q r_x + 1.060 V_q r_y + -21.198 V_0^2 + 11.562 V_0 r_x + -2.714 V_0 r_y + -0.075 f r_x + -0.018 f r_y + -16341.755 r_x r_y + 6313.423 r_y^2\n",
      "Sparsity:  67\n",
      "(i_d)' = -0.004 1 + 1.775 i_d + -2.246 i_q + 1.303 v_d + 0.982 v_q + 0.003 v_0 + 22.194 I_d + -18.587 I_q + -2.325 V_d + 3.312 V_q + 0.821 V_0 + 0.108 \\omega + 0.001 f + 17.084 r_x + 3.857 r_y + -0.039 i_d^2 + 0.032 i_d i_q + 0.001 i_d v_d + -3.709 i_d I_d + -0.762 i_d I_q + 0.193 i_d V_d + -1.911 i_d V_q + -0.111 i_d V_0 + 0.001 i_d f + 8.973 i_d r_x + -7.753 i_d r_y + -0.031 i_q^2 + 0.001 i_q v_q + 0.735 i_q I_d + -0.878 i_q I_q + 1.904 i_q V_d + 0.164 i_q V_q + -0.302 i_q V_0 + -0.001 i_q f + -5.742 i_q r_x + 1.085 i_q r_y + 0.148 v_d I_d + 0.523 v_d I_q + -1.295 v_d V_d + 0.069 v_d V_q + -0.024 v_d r_x + -0.021 v_d r_y + -0.545 v_q I_d + 0.125 v_q I_q + -0.069 v_q V_d + -1.295 v_q V_q + 0.006 v_q r_x + 0.052 v_q r_y + -0.013 v_0 I_d + -0.006 v_0 I_q + 0.038 v_0 V_0 + -0.006 v_0 r_x + -0.094 v_0 r_y + -56.835 I_d^2 + -9.269 I_d I_q + 8.136 I_d V_d + -16.024 I_d V_q + -3.512 I_d V_0 + -0.001 I_d \\omega + 0.009 I_d f + -2.008 I_d r_x + 1.337 I_d r_y + -10.436 I_q^2 + 18.833 I_q V_d + 2.283 I_q V_q + -7.790 I_q V_0 + 0.027 I_q \\omega + -0.016 I_q f + 0.599 I_q r_x + -0.480 I_q r_y + -0.459 V_d^2 + -0.095 V_d V_q + 0.098 V_d V_0 + 0.002 V_d \\omega + -0.002 V_d f + -16.834 V_d r_x + 4.198 V_d r_y + -0.451 V_q^2 + 0.715 V_q V_0 + -0.002 V_q \\omega + 0.001 V_q f + 9.592 V_q r_x + -7.332 V_q r_y + -18.394 V_0^2 + 0.011 V_0 r_y + -0.016 \\omega r_x + 0.013 \\omega r_y + -0.010 f r_x + -0.172 f r_y + 0.001 r_x^2 + 0.004 r_x r_y + -0.001 r_y^2 + 0.001 sin(1 \\gamma) + -0.001 cos(1 \\gamma)\n",
      "Sparsity:  124\n",
      "Torque110.pkl\n",
      "Torque15.pkl\n",
      "Torque40.pkl\n"
     ]
    }
   ],
   "source": [
    "#######################################\n",
    "## 12 linear dynamical 50 ecc torque ##  # SOMETHIGN IS WRONG WITH THE OPTUNA PLOTS\n",
    "#######################################\n",
    "testdata = os.path.join(os.getcwd(), 'test-data','08-09','IMMEC_dynamic_50ecc_5.0sec.npz')\n",
    "plot_optuna_data('_w5//torquelinear_dynamic_50ecc-optuna-study')\n",
    "\n",
    "models = ['torque_linear_dynamic_50ecc_15', 'torque_linear_dynamic_50ecc_40', \n",
    "          'torque_linear_dynamic_50ecc_110']\n",
    "\n",
    "plot_function(models, testdata, 'torque', True, 'torque_d')"
   ]
  },
  {
   "cell_type": "code",
   "execution_count": 2,
   "id": "5418ec76-36ed-4bff-af5e-6eeb179e6f4d",
   "metadata": {
    "scrolled": true
   },
   "outputs": [
    {
     "name": "stderr",
     "output_type": "stream",
     "text": [
      "[I 2024-08-18 23:25:20,446] Study name was omitted but trying to load 'optuna_studies//umplinear_dynamic_50ecc-optuna-study' because that was the only study found in the storage.\n"
     ]
    },
    {
     "name": "stdout",
     "output_type": "stream",
     "text": [
      "['optuna_studies//umplinear_dynamic_50ecc-optuna-study']\n",
      "Trial count: 1006\n",
      "(i_d)' = 2.307 1 + 26.475 i_d + 307.929 i_q + -84.689 v_d + -57.640 v_q + -2379.424 I_d + -339.301 I_q + -783636.696 V_d + -452948.307 V_q + 2741.510 V_0 + 8.597 \\omega + 228786.500 r_x + -301351.133 r_y + -4.070 i_d^2 + -2.219 i_d i_q + -114.080 i_d I_d + 145.028 i_d I_q + -156.593 i_d V_d + -14.026 i_d V_q + -996.816 i_d V_0 + 3.518 i_d f + 43475.573 i_d r_x + -60576.397 i_d r_y + 27.291 i_q^2 + 0.881 i_q v_0 + 63.068 i_q I_d + -658.270 i_q I_q + -81.227 i_q V_d + -296.265 i_q V_q + 310.609 i_q V_0 + 1.831 i_q f + 24271.285 i_q r_x + -49853.965 i_q r_y + 19.688 v_d I_d + 9.614 v_d I_q + 76.231 v_d V_d + -0.138 v_d V_0 + -321.203 v_d r_x + -163.912 v_d r_y + 32.117 v_q I_d + 32.929 v_q I_q + 76.249 v_q V_q + 0.473 v_q V_0 + -83.546 v_q r_x + -406.573 v_q r_y + -12.810 v_0 I_d + 31.665 v_0 I_q + -1.566 v_0 V_q + -9.793 v_0 V_0 + -809.070 v_0 r_x + 43.351 v_0 r_y + 13117.063 I_d I_q + -106.891 I_d V_d + 367.498 I_d V_q + -23113.203 I_d V_0 + -49.549 I_d \\omega + 21.761 I_d f + 2546402.838 I_d r_x + 495804.827 I_d r_y + -10029.110 I_q^2 + -1620.635 I_q V_d + 595.400 I_q V_q + -2494.391 I_q V_0 + -20.122 I_q \\omega + 46.981 I_q f + 1787217.536 I_q r_x + 1804144.715 I_q r_y + 355507.289 V_d^2 + 105.336 V_d V_q + 1720.894 V_d V_0 + -6.302 V_d f + -53989.198 V_d r_x + 228957.062 V_d r_y + 355631.304 V_q^2 + -718.053 V_q V_0 + 3.908 V_q \\omega + -2.303 V_q f + -125929.237 V_q r_x + 35564.478 V_q r_y + 19967.104 V_0^2 + 2.312 V_0 \\omega + -9.629 V_0 f + 2003.501 \\omega r_x + -2501.188 \\omega r_y + -6670.248 f r_x + 12727.463 f r_y + -3.725 sin(1 \\gamma) + 4.848 cos(1 \\gamma)\n",
      "(i_q)' = -58.672 1 + 197.670 i_d + 86.165 i_q + 30.837 v_d + 21.573 v_q + -4.070 v_0 + 271.645 I_d + -2791.806 I_q + -448272.466 V_d + -258648.541 V_q + -196.528 V_0 + 7.340 \\omega + 1.770 f + 322353.022 r_x + 241518.952 r_y + 8.523 i_d^2 + -17.965 i_d i_q + -224.561 i_d I_d + -139.829 i_d I_q + -71.775 i_d V_d + 36.774 i_d V_q + 42.888 i_d V_0 + -1.283 i_d f + 74050.498 i_d r_x + 21712.441 i_d r_y + 13.353 i_q^2 + -234.563 i_q I_d + -1221.478 i_q I_q + 12.012 i_q V_d + -143.920 i_q V_q + -410.458 i_q V_0 + 0.599 i_q \\omega + -9572.758 i_q r_x + 6267.226 i_q r_y + 22.405 v_d I_d + -8.035 v_d I_q + -37.275 v_d V_d + 2.745 v_d V_q + -0.013 v_d V_0 + 309.629 v_d r_x + -254.887 v_d r_y + 12.628 v_q I_d + 52.071 v_q I_q + -2.726 v_q V_d + -37.213 v_q V_q + 2.658 v_q V_0 + 382.941 v_q r_x + 23.750 v_q r_y + 17.321 v_0 I_d + 9.847 v_0 I_q + -4.781 v_0 V_0 + 122.913 v_0 r_x + 306.384 v_0 r_y + 3254.319 I_d^2 + 5544.596 I_d I_q + -640.843 I_d V_d + 448.408 I_d V_q + 7987.558 I_d V_0 + 24.198 I_d \\omega + -29.738 I_d f + -308845.992 I_d r_x + 2438790.866 I_d r_y + 717.442 I_q^2 + 245.565 I_q V_d + -54.220 I_q V_q + -4265.380 I_q V_0 + 0.338 I_q \\omega + 6.578 I_q f + -2871944.056 I_q r_x + 1442519.849 I_q r_y + 203260.616 V_d^2 + -55.457 V_d V_q + -716.311 V_d V_0 + -2.806 V_d \\omega + 3.282 V_d f + -254165.101 V_d r_x + -32295.041 V_d r_y + 203328.179 V_q^2 + 633.867 V_q V_0 + -6.501 V_q \\omega + 105938.562 V_q r_x + -95892.729 V_q r_y + 562.462 V_0^2 + -2.916 V_0 \\omega + 4.898 V_0 f + 2519.789 \\omega r_x + 2087.318 \\omega r_y + -13145.372 f r_x + -7349.236 f r_y + 0.073 cos(1 \\gamma)\n",
      "Sparsity:  178\n",
      "(i_d)' = -3027.001 1 + 247.738 i_d + -885.892 i_q + 67.810 v_d + 2.513 v_q + -2.492 v_0 + 22356.720 I_d + -2941.541 I_q + 3097220.661 V_d + 1790111.068 V_q + 4327.783 V_0 + -43.673 \\omega + -32.770 f + 326605.165 r_x + -342972.906 r_y + -24.281 i_d^2 + -24.459 i_d i_q + 0.940 i_d v_q + 345.118 i_d I_d + -11825.168 i_d I_q + 648.423 i_d V_d + 143.242 i_d V_q + 414.728 i_d V_0 + 3.700 i_d f + 71477.548 i_d r_x + -68436.378 i_d r_y + 1.164 i_q^2 + 3248.425 i_q I_d + -1119.800 i_q I_q + -53.000 i_q V_d + 906.797 i_q V_q + 1277.721 i_q V_0 + 7248.817 i_q r_x + -17613.901 i_q r_y + 45.420 v_d I_d + -67.992 v_d I_q + -48.629 v_d V_d + -1.875 v_d V_q + -1.291 v_d V_0 + -233.284 v_d r_x + -283.501 v_d r_y + 76.595 v_q I_d + -28.120 v_q I_q + -48.472 v_q V_q + 2.206 v_q V_0 + 33.131 v_q r_x + -587.159 v_q r_y + -5.100 v_0 I_d + 33.549 v_0 I_q + -2.341 v_0 V_0 + -851.800 v_0 r_x + 236.395 v_0 r_y + 1390.896 I_d^2 + -99815.033 I_d I_q + -8237.390 I_d V_d + -5532.445 I_d V_q + -14391.336 I_d V_0 + -26.213 I_d \\omega + 293.455 I_d f + 2544557.758 I_d r_x + -487000.375 I_d r_y + -13136.913 I_q^2 + 23286.820 I_q V_d + -2532.391 I_q V_q + -3991.538 I_q V_0 + 131.530 I_q \\omega + 16.346 I_q f + 1494772.543 I_q r_x + 2937102.524 I_q r_y + -1404642.282 V_d^2 + -121.852 V_d V_q + -1465.935 V_d V_0 + 18.580 V_d \\omega + -12.155 V_d f + -129816.125 V_d r_x + 300863.543 V_d r_y + -1405119.266 V_q^2 + -2578.358 V_q V_0 + 14.899 V_q \\omega + -1.969 V_q f + -75469.417 V_q r_x + -31242.613 V_q r_y + 14775.987 V_0^2 + 5.706 V_0 \\omega + 30.821 V_0 f + -318382.428 V_0 r_x + -545364.138 V_0 r_y + 2043.939 \\omega r_x + -1367.036 \\omega r_y + -11911.397 f r_x + 9879.037 f r_y + 28790847522.004 r_x^2 + 54179957.613 r_x r_y + 28755139985.570 r_y^2 + 306.970 sin(1 \\gamma) + -2419.598 cos(1 \\gamma) + 1260.327 1 sin(1 \\gamma) + 3823.808 1 cos(1 \\gamma) + -1968.848 i_d sin(1 \\gamma) + 424.445 i_d cos(1 \\gamma) + -3159.164 i_q sin(1 \\gamma) + 446.364 i_q cos(1 \\gamma) + 570.085 v_d sin(1 \\gamma) + 189.024 v_d cos(1 \\gamma) + 447.841 v_q sin(1 \\gamma) + 174.246 v_q cos(1 \\gamma) + 24.881 v_0 sin(1 \\gamma) + -1.991 v_0 cos(1 \\gamma) + -8453.465 I_d sin(1 \\gamma) + -12831.433 I_d cos(1 \\gamma) + -38818.851 I_q sin(1 \\gamma) + 2560.597 I_q cos(1 \\gamma) + 7991482.635 V_d sin(1 \\gamma) + 2631218.001 V_d cos(1 \\gamma) + 4618600.619 V_q sin(1 \\gamma) + 1518506.659 V_q cos(1 \\gamma) + -28148.995 V_0 sin(1 \\gamma) + -6961.409 V_0 cos(1 \\gamma) + 67.050 \\omega sin(1 \\gamma) + 28.240 \\omega cos(1 \\gamma) + 61.374 f sin(1 \\gamma) + 31.092 f cos(1 \\gamma) + 782688.978 r_x sin(1 \\gamma) + -19543.566 r_x cos(1 \\gamma) + 25463.229 r_y sin(1 \\gamma) + 237488.778 r_y cos(1 \\gamma) + -111.538 i_d^2 sin(1 \\gamma) + 86.927 i_d^2 cos(1 \\gamma) + 45.517 i_d i_q sin(1 \\gamma) + 155.915 i_d i_q cos(1 \\gamma) + 3.709 i_d v_q sin(1 \\gamma) + -1.476 i_d v_q cos(1 \\gamma) + -2.994 i_d v_0 sin(1 \\gamma) + 1.890 i_d v_0 cos(1 \\gamma) + 5751.393 i_d I_d sin(1 \\gamma) + -14894.956 i_d I_d cos(1 \\gamma) + -3692.963 i_d I_q sin(1 \\gamma) + 10769.884 i_d I_q cos(1 \\gamma) + 1825.404 i_d V_d sin(1 \\gamma) + 1136.379 i_d V_d cos(1 \\gamma) + -966.742 i_d V_q sin(1 \\gamma) + -502.741 i_d V_q cos(1 \\gamma) + 4221.841 i_d V_0 sin(1 \\gamma) + 5920.191 i_d V_0 cos(1 \\gamma) + -1.113 i_d \\omega cos(1 \\gamma) + 9.102 i_d f cos(1 \\gamma) + -127642.590 i_d r_x sin(1 \\gamma) + 359329.254 i_d r_x cos(1 \\gamma) + 466177.381 i_d r_y sin(1 \\gamma) + -337166.073 i_d r_y cos(1 \\gamma) + -30.098 i_q^2 sin(1 \\gamma) + 11.757 i_q^2 cos(1 \\gamma) + -3.842 i_q v_d sin(1 \\gamma) + -2.347 i_q v_0 sin(1 \\gamma) + -2.995 i_q v_0 cos(1 \\gamma) + 4580.126 i_q I_d sin(1 \\gamma) + 232.415 i_q I_d cos(1 \\gamma) + 6540.655 i_q I_q sin(1 \\gamma) + -12088.938 i_q I_q cos(1 \\gamma) + 552.910 i_q V_d sin(1 \\gamma) + -129.325 i_q V_d cos(1 \\gamma) + 1394.392 i_q V_q sin(1 \\gamma) + 1289.485 i_q V_q cos(1 \\gamma) + -3538.733 i_q V_0 sin(1 \\gamma) + 3054.910 i_q V_0 cos(1 \\gamma) + 2.307 i_q f sin(1 \\gamma) + 192950.056 i_q r_x sin(1 \\gamma) + 68599.152 i_q r_x cos(1 \\gamma) + -425304.917 i_q r_y sin(1 \\gamma) + -315191.689 i_q r_y cos(1 \\gamma) + -99.525 v_d I_d sin(1 \\gamma) + 359.439 v_d I_d cos(1 \\gamma) + 238.224 v_d I_q sin(1 \\gamma) + 192.333 v_d I_q cos(1 \\gamma) + -563.550 v_d V_d sin(1 \\gamma) + -258.048 v_d V_d cos(1 \\gamma) + 57.945 v_d V_q sin(1 \\gamma) + 24.536 v_d V_q cos(1 \\gamma) + -14.656 v_d V_0 sin(1 \\gamma) + 1.988 v_d V_0 cos(1 \\gamma) + 2355.058 v_d r_x sin(1 \\gamma) + -923.296 v_d r_x cos(1 \\gamma) + -137.461 v_d r_y sin(1 \\gamma) + -218.093 v_d r_y cos(1 \\gamma) + -151.585 v_q I_d sin(1 \\gamma) + -71.684 v_q I_d cos(1 \\gamma) + 42.661 v_q I_q sin(1 \\gamma) + 279.627 v_q I_q cos(1 \\gamma) + -57.525 v_q V_d sin(1 \\gamma) + -21.907 v_q V_d cos(1 \\gamma) + -563.527 v_q V_q sin(1 \\gamma) + -258.344 v_q V_q cos(1 \\gamma) + -4.147 v_q V_0 sin(1 \\gamma) + 6.260 v_q V_0 cos(1 \\gamma) + -388.892 v_q r_x sin(1 \\gamma) + -2526.977 v_q r_x cos(1 \\gamma) + 73.838 v_q r_y sin(1 \\gamma) + -277.079 v_q r_y cos(1 \\gamma) + -108.212 v_0 I_d sin(1 \\gamma) + 92.667 v_0 I_d cos(1 \\gamma) + -145.699 v_0 I_q sin(1 \\gamma) + -154.676 v_0 I_q cos(1 \\gamma) + 6.643 v_0 V_d sin(1 \\gamma) + -2.441 v_0 V_d cos(1 \\gamma) + 3.347 v_0 V_q sin(1 \\gamma) + 6.329 v_0 V_q cos(1 \\gamma) + -34.467 v_0 V_0 sin(1 \\gamma) + 55.459 v_0 V_0 cos(1 \\gamma) + -63610.028 v_0 r_x sin(1 \\gamma) + 7384.389 v_0 r_x cos(1 \\gamma) + -7559.097 v_0 r_y sin(1 \\gamma) + -64080.162 v_0 r_y cos(1 \\gamma) + 121354.360 I_d^2 sin(1 \\gamma) + -41669.236 I_d^2 cos(1 \\gamma) + 78007.866 I_d I_q sin(1 \\gamma) + 102734.293 I_d I_q cos(1 \\gamma) + -24169.016 I_d V_d sin(1 \\gamma) + 16313.967 I_d V_d cos(1 \\gamma) + -20782.277 I_d V_q sin(1 \\gamma) + -3926.152 I_d V_q cos(1 \\gamma) + 117640.133 I_d V_0 sin(1 \\gamma) + 121452.763 I_d V_0 cos(1 \\gamma) + 82.838 I_d \\omega sin(1 \\gamma) + 97.214 I_d \\omega cos(1 \\gamma) + -213.026 I_d f sin(1 \\gamma) + -228.541 I_d f cos(1 \\gamma) + -5215093.739 I_d r_x sin(1 \\gamma) + -1258316.041 I_d r_x cos(1 \\gamma) + 5961676.511 I_d r_y sin(1 \\gamma) + -5407528.454 I_d r_y cos(1 \\gamma) + 131182.511 I_q^2 sin(1 \\gamma) + -56024.281 I_q^2 cos(1 \\gamma) + 14602.731 I_q V_d sin(1 \\gamma) + -18455.106 I_q V_d cos(1 \\gamma) + -30497.718 I_q V_q sin(1 \\gamma) + 12758.363 I_q V_q cos(1 \\gamma) + 82983.098 I_q V_0 sin(1 \\gamma) + 24576.166 I_q V_0 cos(1 \\gamma) + 76.533 I_q \\omega sin(1 \\gamma) + -85.558 I_q \\omega cos(1 \\gamma) + -304.179 I_q f sin(1 \\gamma) + 249.355 I_q f cos(1 \\gamma) + -3165315.811 I_q r_x sin(1 \\gamma) + 4779608.423 I_q r_x cos(1 \\gamma) + -8287715.690 I_q r_y sin(1 \\gamma) + -3425123.786 I_q r_y cos(1 \\gamma) + -3622622.996 V_d^2 sin(1 \\gamma) + -1193625.783 V_d^2 cos(1 \\gamma) + 402.227 V_d V_q sin(1 \\gamma) + 486.915 V_d V_q cos(1 \\gamma) + -4343.283 V_d V_0 sin(1 \\gamma) + -13336.032 V_d V_0 cos(1 \\gamma) + -3.298 V_d \\omega sin(1 \\gamma) + 1.190 V_d f sin(1 \\gamma) + -13.183 V_d f cos(1 \\gamma) + 272072.136 V_d r_x sin(1 \\gamma) + -82652.994 V_d r_x cos(1 \\gamma) + -697934.728 V_d r_y sin(1 \\gamma) + 807204.469 V_d r_y cos(1 \\gamma) + -3622291.706 V_q^2 sin(1 \\gamma) + -1193507.549 V_q^2 cos(1 \\gamma) + 4982.325 V_q V_0 sin(1 \\gamma) + -3141.591 V_q V_0 cos(1 \\gamma) + -8.259 V_q \\omega sin(1 \\gamma) + 3.586 V_q \\omega cos(1 \\gamma) + 0.534 V_q f sin(1 \\gamma) + 1.287 V_q f cos(1 \\gamma) + 205093.032 V_q r_x sin(1 \\gamma) + -220098.397 V_q r_x cos(1 \\gamma) + 929086.123 V_q r_y sin(1 \\gamma) + 319700.275 V_q r_y cos(1 \\gamma) + -22250.584 V_0^2 sin(1 \\gamma) + 22898.574 V_0^2 cos(1 \\gamma) + -2.942 V_0 \\omega sin(1 \\gamma) + 2.991 V_0 \\omega cos(1 \\gamma) + 32.709 V_0 f sin(1 \\gamma) + -26.642 V_0 f cos(1 \\gamma) + 11268124.161 V_0 r_x sin(1 \\gamma) + 32866617.825 V_0 r_x cos(1 \\gamma) + -33363059.185 V_0 r_y sin(1 \\gamma) + 10827169.427 V_0 r_y cos(1 \\gamma) + -252.938 \\omega r_x sin(1 \\gamma) + -529.535 \\omega r_x cos(1 \\gamma) + -1.357 \\omega r_y sin(1 \\gamma) + 558.817 \\omega r_y cos(1 \\gamma) + 2371.586 f r_x sin(1 \\gamma) + 3277.771 f r_x cos(1 \\gamma) + -595.666 f r_y sin(1 \\gamma) + -3666.970 f r_y cos(1 \\gamma) + 203530349.552 r_x^2 sin(1 \\gamma) + -133172932.918 r_x^2 cos(1 \\gamma) + -484600295.543 r_x r_y sin(1 \\gamma) + -521319516.701 r_x r_y cos(1 \\gamma) + -203530349.552 r_y^2 sin(1 \\gamma) + 133172932.919 r_y^2 cos(1 \\gamma)\n",
      "(i_q)' = 815.435 1 + 372.744 i_d + 1919.291 i_q + -4.564 v_0 + -9312.912 I_d + 12256.133 I_q + -1289400.743 V_d + -747261.885 V_q + 3660.964 V_0 + 40.512 \\omega + 12.175 f + 376056.256 r_x + 292844.402 r_y + 22.041 i_d^2 + 3.362 i_d i_q + -3403.817 i_d I_d + 6307.511 i_d I_q + -296.437 i_d V_d + -0.254 i_d V_q + -412.255 i_d V_0 + -4.000 i_d f + 63470.591 i_d r_x + 8484.912 i_d r_y + 26.284 i_q^2 + -6534.723 i_q I_d + -5758.076 i_q I_q + -85.208 i_q V_d + -276.723 i_q V_q + -1822.540 i_q V_0 + -1.152 i_q \\omega + 10.647 i_q f + -44938.963 i_q r_x + -16174.239 i_q r_y + 60.510 v_d I_d + -11.494 v_d I_q + 439.877 v_d r_x + -224.512 v_d r_y + 59.389 v_q I_d + 52.718 v_q I_q + 514.225 v_q r_x + 145.949 v_q r_y + 17.889 v_0 I_d + 10.969 v_0 I_q + 9.073 v_0 V_0 + 166.067 v_0 r_x + -19.838 v_0 r_y + 9377.708 I_d^2 + 5731.611 I_d I_q + 1655.546 I_d V_d + 11756.618 I_d V_q + -27636.084 I_d V_0 + -133.756 I_d \\omega + -176.506 I_d f + 510309.417 I_d r_x + 2209742.392 I_d r_y + -23685.594 I_q^2 + -11826.408 I_q V_d + 6845.302 I_q V_q + -19044.816 I_q V_0 + -55.885 I_q \\omega + 231.950 I_q f + -4224008.322 I_q r_x + 874606.677 I_q r_y + 585035.164 V_d^2 + 60.260 V_d V_q + 879.529 V_d V_0 + -16.303 V_d \\omega + 6.335 V_d f + -275742.854 V_d r_x + -25544.987 V_d r_y + 584993.277 V_q^2 + 3609.361 V_q V_0 + 12.355 V_q \\omega + -23.347 V_q f + 184329.616 V_q r_x + -49416.401 V_q r_y + 35953.262 V_0^2 + 0.577 V_0 \\omega + -5.645 V_0 f + 217346.525 V_0 r_x + -463744.103 V_0 r_y + 1237.728 \\omega r_x + 2296.894 \\omega r_y + -9341.314 f r_x + -13167.048 f r_y + -16204619405.564 r_x^2 + 19109775.885 r_x r_y + -16152922816.146 r_y^2 + -520.210 sin(1 \\gamma) + 3984.127 cos(1 \\gamma) + -68.771 1 sin(1 \\gamma) + -3988.779 1 cos(1 \\gamma) + 1224.361 i_d sin(1 \\gamma) + 2159.980 i_d cos(1 \\gamma) + -1005.324 i_q sin(1 \\gamma) + 1269.752 i_q cos(1 \\gamma) + 84.906 v_d sin(1 \\gamma) + -521.457 v_d cos(1 \\gamma) + 76.241 v_q sin(1 \\gamma) + -448.438 v_q cos(1 \\gamma) + 1.684 v_0 cos(1 \\gamma) + 25716.182 I_d sin(1 \\gamma) + 2933.948 I_d cos(1 \\gamma) + -12472.060 I_q sin(1 \\gamma) + 2972.361 I_q cos(1 \\gamma) + 2820138.792 V_d sin(1 \\gamma) + -7802627.070 V_d cos(1 \\gamma) + 1631865.096 V_q sin(1 \\gamma) + -4504314.481 V_q cos(1 \\gamma) + -2182.261 V_0 sin(1 \\gamma) + -5749.079 V_0 cos(1 \\gamma) + 17.304 \\omega sin(1 \\gamma) + -94.375 \\omega cos(1 \\gamma) + -40.843 f sin(1 \\gamma) + -9.379 f cos(1 \\gamma) + 72926.303 r_x sin(1 \\gamma) + -250669.061 r_x cos(1 \\gamma) + 871177.869 r_y sin(1 \\gamma) + 217836.700 r_y cos(1 \\gamma) + -34.340 i_d^2 sin(1 \\gamma) + 24.997 i_d^2 cos(1 \\gamma) + -104.704 i_d i_q sin(1 \\gamma) + 37.917 i_d i_q cos(1 \\gamma) + -3.080 i_d v_q cos(1 \\gamma) + -1.582 i_d v_0 sin(1 \\gamma) + -2.632 i_d v_0 cos(1 \\gamma) + -12124.065 i_d I_d sin(1 \\gamma) + -5505.248 i_d I_d cos(1 \\gamma) + -6342.958 i_d I_q sin(1 \\gamma) + 2886.979 i_d I_q cos(1 \\gamma) + 1431.854 i_d V_d sin(1 \\gamma) + -1506.521 i_d V_d cos(1 \\gamma) + 139.751 i_d V_q sin(1 \\gamma) + 585.179 i_d V_q cos(1 \\gamma) + -4193.716 i_d V_0 sin(1 \\gamma) + 5037.924 i_d V_0 cos(1 \\gamma) + -1.366 i_d \\omega sin(1 \\gamma) + 6.887 i_d f sin(1 \\gamma) + -1.595 i_d f cos(1 \\gamma) + -317196.176 i_d r_x sin(1 \\gamma) + 436322.490 i_d r_x cos(1 \\gamma) + -101574.625 i_d r_y sin(1 \\gamma) + 192109.082 i_d r_y cos(1 \\gamma) + 11.957 i_q^2 sin(1 \\gamma) + 79.507 i_q^2 cos(1 \\gamma) + 2.913 i_q v_d cos(1 \\gamma) + 2.999 i_q v_0 sin(1 \\gamma) + -1.789 i_q v_0 cos(1 \\gamma) + 4449.832 i_q I_d sin(1 \\gamma) + 4935.932 i_q I_d cos(1 \\gamma) + -5945.721 i_q I_q sin(1 \\gamma) + -333.429 i_q I_q cos(1 \\gamma) + 340.218 i_q V_d sin(1 \\gamma) + -859.978 i_q V_d cos(1 \\gamma) + 1007.160 i_q V_q sin(1 \\gamma) + -1896.436 i_q V_q cos(1 \\gamma) + -4339.192 i_q V_0 sin(1 \\gamma) + -6042.489 i_q V_0 cos(1 \\gamma) + 0.951 i_q \\omega cos(1 \\gamma) + -1.527 i_q f sin(1 \\gamma) + -3.216 i_q f cos(1 \\gamma) + 352425.928 i_q r_x sin(1 \\gamma) + 445519.326 i_q r_x cos(1 \\gamma) + 281443.343 i_q r_y sin(1 \\gamma) + 222482.068 i_q r_y cos(1 \\gamma) + 274.273 v_d I_d sin(1 \\gamma) + -83.418 v_d I_d cos(1 \\gamma) + 21.572 v_d I_q sin(1 \\gamma) + -168.837 v_d I_q cos(1 \\gamma) + -127.059 v_d V_d sin(1 \\gamma) + 530.277 v_d V_d cos(1 \\gamma) + 11.717 v_d V_q sin(1 \\gamma) + -54.565 v_d V_q cos(1 \\gamma) + 0.293 v_d V_0 sin(1 \\gamma) + -3.702 v_d V_0 cos(1 \\gamma) + -393.370 v_d r_x sin(1 \\gamma) + 154.523 v_d r_x cos(1 \\gamma) + 2547.019 v_d r_y sin(1 \\gamma) + -357.858 v_d r_y cos(1 \\gamma) + -137.066 v_q I_d sin(1 \\gamma) + 189.730 v_q I_d cos(1 \\gamma) + 296.982 v_q I_q sin(1 \\gamma) + 57.934 v_q I_q cos(1 \\gamma) + -11.573 v_q V_d sin(1 \\gamma) + 55.078 v_q V_d cos(1 \\gamma) + -126.857 v_q V_q sin(1 \\gamma) + 529.887 v_q V_q cos(1 \\gamma) + 3.486 v_q V_0 sin(1 \\gamma) + -0.746 v_q V_0 cos(1 \\gamma) + -257.762 v_q r_x sin(1 \\gamma) + 56.326 v_q r_x cos(1 \\gamma) + -686.047 v_q r_y sin(1 \\gamma) + -2566.780 v_q r_y cos(1 \\gamma) + -59.105 v_0 I_d sin(1 \\gamma) + -54.514 v_0 I_d cos(1 \\gamma) + 126.244 v_0 I_q sin(1 \\gamma) + 2.082 v_0 V_d sin(1 \\gamma) + 6.207 v_0 V_d cos(1 \\gamma) + -7.432 v_0 V_q sin(1 \\gamma) + 1.924 v_0 V_q cos(1 \\gamma) + 26.335 v_0 V_0 sin(1 \\gamma) + 11.555 v_0 V_0 cos(1 \\gamma) + -8717.698 v_0 r_x sin(1 \\gamma) + -63769.291 v_0 r_x cos(1 \\gamma) + 63102.638 v_0 r_y sin(1 \\gamma) + -6790.731 v_0 r_y cos(1 \\gamma) + -111327.472 I_d^2 sin(1 \\gamma) + -119301.981 I_d^2 cos(1 \\gamma) + 8985.198 I_d I_q sin(1 \\gamma) + 123900.332 I_d I_q cos(1 \\gamma) + 16891.269 I_d V_d sin(1 \\gamma) + 30847.926 I_d V_d cos(1 \\gamma) + -8380.576 I_d V_q sin(1 \\gamma) + -7231.903 I_d V_q cos(1 \\gamma) + -2012.053 I_d V_0 sin(1 \\gamma) + 67821.743 I_d V_0 cos(1 \\gamma) + -93.054 I_d \\omega sin(1 \\gamma) + -24.359 I_d \\omega cos(1 \\gamma) + 175.922 I_d f sin(1 \\gamma) + 115.652 I_d f cos(1 \\gamma) + -4943858.841 I_d r_x sin(1 \\gamma) + 5308761.880 I_d r_x cos(1 \\gamma) + -5388094.216 I_d r_y sin(1 \\gamma) + -4384850.190 I_d r_y cos(1 \\gamma) + 4718.430 I_q^2 sin(1 \\gamma) + -104056.943 I_q^2 cos(1 \\gamma) + 12733.082 I_q V_d sin(1 \\gamma) + -16331.180 I_q V_d cos(1 \\gamma) + -3410.528 I_q V_q sin(1 \\gamma) + 22529.178 I_q V_q cos(1 \\gamma) + -93767.836 I_q V_0 sin(1 \\gamma) + -60811.795 I_q V_0 cos(1 \\gamma) + 120.169 I_q \\omega cos(1 \\gamma) + 234.140 I_q f sin(1 \\gamma) + -151.915 I_q f cos(1 \\gamma) + 7870848.558 I_q r_x sin(1 \\gamma) + 6871615.768 I_q r_x cos(1 \\gamma) + -2215549.212 I_q r_y sin(1 \\gamma) + 5591127.640 I_q r_y cos(1 \\gamma) + -1280667.531 V_d^2 sin(1 \\gamma) + 3536170.782 V_d^2 cos(1 \\gamma) + -411.655 V_d V_q sin(1 \\gamma) + 441.570 V_d V_q cos(1 \\gamma) + 8319.923 V_d V_0 sin(1 \\gamma) + -7127.241 V_d V_0 cos(1 \\gamma) + 13.802 V_d \\omega sin(1 \\gamma) + 10.744 V_d \\omega cos(1 \\gamma) + -13.161 V_d f sin(1 \\gamma) + 2.163 V_d f cos(1 \\gamma) + 462076.785 V_d r_x sin(1 \\gamma) + -968937.583 V_d r_x cos(1 \\gamma) + 242369.025 V_d r_y sin(1 \\gamma) + 231609.079 V_d r_y cos(1 \\gamma) + -1280056.091 V_q^2 sin(1 \\gamma) + 3536558.075 V_q^2 cos(1 \\gamma) + 6136.820 V_q V_0 sin(1 \\gamma) + 11876.123 V_q V_0 cos(1 \\gamma) + 3.089 V_q \\omega sin(1 \\gamma) + -5.858 V_q \\omega cos(1 \\gamma) + 3.911 V_q f sin(1 \\gamma) + 8.268 V_q f cos(1 \\gamma) + -825448.724 V_q r_x sin(1 \\gamma) + -589621.701 V_q r_x cos(1 \\gamma) + 56973.160 V_q r_y sin(1 \\gamma) + -426524.487 V_q r_y cos(1 \\gamma) + -723.330 V_0^2 sin(1 \\gamma) + 81334.980 V_0^2 cos(1 \\gamma) + 5.506 V_0 \\omega sin(1 \\gamma) + -10.154 V_0 \\omega cos(1 \\gamma) + -52.653 V_0 f sin(1 \\gamma) + 66.356 V_0 f cos(1 \\gamma) + -31672237.249 V_0 r_x sin(1 \\gamma) + 8990188.891 V_0 r_x cos(1 \\gamma) + -11471626.985 V_0 r_y sin(1 \\gamma) + -32433590.904 V_0 r_y cos(1 \\gamma) + -90.121 \\omega r_x sin(1 \\gamma) + -740.994 \\omega r_x cos(1 \\gamma) + -318.981 \\omega r_y sin(1 \\gamma) + -34.530 \\omega r_y cos(1 \\gamma) + 5615.975 f r_x cos(1 \\gamma) + 2169.369 f r_y sin(1 \\gamma) + 914.791 f r_y cos(1 \\gamma) + 237749253.880 r_x^2 sin(1 \\gamma) + 176826327.587 r_x^2 cos(1 \\gamma) + 310955649.833 r_x r_y sin(1 \\gamma) + -272303859.704 r_x r_y cos(1 \\gamma) + -237749253.879 r_y^2 sin(1 \\gamma) + -176826327.586 r_y^2 cos(1 \\gamma)\n",
      "Sparsity:  583\n",
      "UMP120.pkl\n"
     ]
    }
   ],
   "source": [
    "####################################\n",
    "## 13 linear dynamical 50 ecc UMP ## # SOMETHIGN IS WRONG WITH THE OPTUNA PLOTS\n",
    "####################################\n",
    "\n",
    "##TO DO: TRY DIFFERENT TEST SET\n",
    "\n",
    "testdata = os.path.join(os.getcwd(), 'test-data','08-09','IMMEC_dynamic_50ecc_5.0sec.npz')\n",
    "plot_optuna_data('_w5//umplinear_dynamic_50ecc-optuna-study')\n",
    "\n",
    "models = ['ump_linear_dynamic_50ecc_120', 'ump_linear_dynamic_50ecc_330']\n",
    "\n",
    "plot_function(models, testdata, 'ump', True, 'ump_d')"
   ]
  },
  {
   "cell_type": "code",
   "execution_count": 13,
   "id": "5e57adf7-85ac-4bdb-bfd6-4320b1c36aa3",
   "metadata": {},
   "outputs": [
    {
     "name": "stderr",
     "output_type": "stream",
     "text": [
      "[I 2024-08-18 23:42:51,276] Study name was omitted but trying to load 'optuna_studies//currentsnonlinear_dynamic_50ecc-optuna-study' because that was the only study found in the storage.\n"
     ]
    },
    {
     "name": "stdout",
     "output_type": "stream",
     "text": [
      "['optuna_studies//currentsnonlinear_dynamic_50ecc-optuna-study']\n",
      "Trial count: 1008\n",
      "(i_d)' = -0.619 1 + 240.270 i_d + -338.648 i_q + 4.222 v_d + 27.710 v_q + 61.326 v_0 + 1767.013 I_d + -7022.667 I_q + -451.387 V_d + 776.469 V_q + 108.558 \\omega + -96.923 i_d i_q + -53.807 i_d v_d + -10.988 i_d v_q + 37.191 i_d v_0 + -1276.309 i_d I_q + -112.867 i_d V_d + -371.633 i_d V_q + 9622.301 i_d V_0 + 1.261 i_d \\omega + 6.922 i_d f + 3.396 i_q v_q + -51.261 i_q v_0 + 5443.053 i_q I_d + -4649.200 i_q I_q + 614.990 i_q V_d + 762.431 i_q V_q + 8713.778 i_q V_0 + 0.148 i_q \\omega + 14.541 i_q f + -34.845 v_d I_d + -571.037 v_d I_q + 38.837 v_d V_q + -280.397 v_d V_0 + 1.232 v_d f + 5.308 v_q v_0 + -251.547 v_q I_d + 545.151 v_q I_q + -19.678 v_q V_d + -104.542 v_q V_q + -455.967 v_q V_0 + 8.195 v_q r_x + -523.985 v_0 I_d + -340.004 v_0 I_q + -38.558 v_0 V_d + 63.972 v_0 V_q + -1469.684 v_0 V_0 + 54057.436 I_d I_q + 1287.255 I_d V_d + -6021.187 I_d V_q + -697.526 I_d \\omega + -5.644 I_d f + 7634.334 I_q V_d + 123.630 I_q V_q + 115.570 I_q \\omega + 69.957 I_q f + -649.040 V_d V_q + 1212.445 V_d V_0 + -46.480 V_d \\omega + 1849.962 V_q V_0 + 1.986 V_q \\omega + -11.063 V_q f + -31.215 V_0 \\omega + 78.277 V_0 f + 359.284 f r_x + -0.020 i_d i_q v_0 + 544.308 i_d i_q I_d + -277.135 i_d i_q I_q + -57.201 i_d i_q V_d + 177.321 i_d i_q V_q + 126.888 i_d i_q V_0 + 922.667 i_d i_q r_y + 204.770 i_d v_d I_d + 16.631 i_d v_d I_q + 14.791 i_d v_d V_d + -3.918 i_d v_d V_q + 16.832 i_d v_d V_0 + 6.375 i_d v_d r_x + 43.950 i_d v_d r_y + -8.363 i_d v_q I_d + -4.790 i_d v_q I_q + 3.764 i_d v_q V_d + 15.646 i_d v_q V_q + -23.140 i_d v_q r_x + -25.766 i_d v_q r_y + -133.570 i_d v_0 I_d + 10.828 i_d v_0 I_q + -21.185 i_d v_0 V_d + 13.071 i_d v_0 V_q + -175.422 i_d v_0 V_0 + -676.917 i_d I_d V_q + -9.986 i_d I_d \\omega + -26.357 i_d I_d f + -855.290 i_d I_q V_d + 3053.496 i_d I_q V_q + -38540.041 i_d I_q V_0 + -31.500 i_d I_q \\omega + 19.412 i_d I_q f + 176.310 i_d V_d V_q + -2640.866 i_d V_d V_0 + -1.134 i_d V_d \\omega + -2621.313 i_d V_d r_y + -4145.880 i_d V_q V_0 + -2.391 i_d V_q \\omega + -1.706 i_d \\omega r_x + -43.886 i_d \\omega r_y + 64.743 i_d f r_y + 50.737 i_q v_d I_d + -10.500 i_q v_d V_d + 3.756 i_q v_d V_q + 12.046 i_q v_d r_x + 4.291 i_q v_d r_y + 37.601 i_q v_q I_d + 5.781 i_q v_q I_q + -4.626 i_q v_q V_d + -10.626 i_q v_q V_q + 4.624 i_q v_q V_0 + 3.508 i_q v_q r_x + -1.108 i_q v_q r_y + 65.019 i_q v_0 I_d + 121.943 i_q v_0 I_q + 13.505 i_q v_0 V_d + 19.200 i_q v_0 V_q + -80.635 i_q v_0 V_0 + 12205.433 i_q I_d I_q + -4984.994 i_q I_d V_d + -645.795 i_q I_d V_q + 14.778 i_q I_d \\omega + 10.480 i_q I_d f + 4401.193 i_q I_q V_d + -2908.656 i_q I_q V_q + 28.158 i_q I_q \\omega + -43.016 i_q I_q f + -381.863 i_q V_d V_q + -8919.734 i_q V_d V_0 + 1.259 i_q V_d \\omega + 1.651 i_q V_d f + 1957.414 i_q V_q V_0 + 45.360 i_q \\omega r_y + -231.992 i_q f r_y + 16.489 v_d v_0 I_d + -10.997 v_d v_0 I_q + -1.615 v_d v_0 V_d + -1.088 v_d v_0 r_x + 1.155 v_d v_0 r_y + 1814.412 v_d I_d I_q + -91.450 v_d I_d V_d + -214.377 v_d I_d V_q + 1228.083 v_d I_d V_0 + 547.723 v_d I_q V_d + -6.422 v_d I_q V_q + 7760.635 v_d I_q V_0 + 0.340 v_d I_q f + -683.523 v_d V_d V_0 + -1.151 v_d V_d f + -15.094 v_d V_q V_0 + -79.401 v_d V_q r_x + 684.289 v_d V_q r_y + -11.769 v_q v_0 I_d + -21.189 v_q v_0 I_q + -1.610 v_q v_0 V_q + 1.520 v_q v_0 V_0 + 2.538 v_q v_0 r_x + 0.559 v_q v_0 r_y + -4970.374 v_q I_d I_q + 193.332 v_q I_d V_d + 408.007 v_q I_d V_q + 5345.395 v_q I_d V_0 + -1.787 v_q I_d f + -141.801 v_q I_q V_d + 687.576 v_q I_q V_q + -1078.645 v_q I_q V_0 + -887.069 v_q I_q r_y + 43.249 v_q V_d V_0 + 89.499 v_q V_d r_x + -605.314 v_q V_d r_y + -653.492 v_q V_q V_0 + -1.158 v_q V_q f + 47.652 v_q V_q r_y + 3086.334 v_0 I_d I_q + 307.599 v_0 I_d V_d + -256.103 v_0 I_d V_q + 7853.288 v_0 I_d V_0 + -112.858 v_0 I_q V_d + -120.789 v_0 I_q V_q + -4.930 v_0 V_d V_q + 240.477 v_0 V_d V_0 + -304.721 v_0 V_d r_x + -282.229 v_0 V_q V_0 + 1.543 v_0 \\omega r_x + 14.282 v_0 \\omega r_y + -5.154 v_0 f r_x + -91.890 v_0 f r_y + -33237.413 I_d I_q V_d + 5818.186 I_d I_q V_q + -1833.826 I_d I_q \\omega + -126.214 I_d I_q f + 3558.618 I_d V_d V_q + 348.508 I_d V_d \\omega + 6.498 I_d V_d f + -134.427 I_d V_q \\omega + -24.113 I_d V_q f + -72.830 I_d V_0 \\omega + -9.143 I_d \\omega f + -1274.385 I_q V_d V_q + 104.293 I_q V_d \\omega + 0.150 I_q V_d f + 301.282 I_q V_q \\omega + 67.537 I_q V_q f + 4.395 I_q \\omega f + -1586.691 V_d V_q V_0 + 2.610 V_d V_q \\omega + 0.830 V_d V_q f + -29.494 V_d V_0 f + 1.057 V_d \\omega f + -92.733 V_d \\omega r_x + 837.454 V_d \\omega r_y + -72.653 V_d f r_x + -14.201 V_q V_0 \\omega + -24.338 V_q V_0 f + 310.383 V_q \\omega r_y + -315.552 V_q f r_x + 596.455 V_q f r_y + -2.136 \\omega f r_y + -1.559 cos(1 \\gamma)\n",
      "(i_q)' = -305.422 i_d + -69.068 i_q + -160.734 v_d + -96.264 v_q + 1.409 v_0 + 986.107 I_d + -3925.083 I_q + 287.216 V_d + 623.428 V_q + -4477.771 V_0 + 49.052 \\omega + -463.648 i_d i_q + -3.103 i_d v_d + 4.063 i_d v_q + -32.811 i_d v_0 + -1123.059 i_d I_d + 486.003 i_d I_q + 186.781 i_d V_d + -42.016 i_d V_q + -12.699 i_d \\omega + -23.944 i_d f + -23.187 i_q v_d + -30.487 i_q v_q + -21.027 i_q v_0 + 3250.908 i_q I_d + -3524.862 i_q I_q + -38.472 i_q V_d + -400.545 i_q V_q + -3429.879 i_q V_0 + -7.365 i_q f + 846.104 v_d I_d + 537.922 v_d I_q + 128.075 v_d V_d + 86.801 v_d V_q + -267.453 v_d V_0 + 278.747 v_q I_d + 802.041 v_q I_q + -56.451 v_q V_d + 159.754 v_q V_q + 463.849 v_q V_0 + 498.017 v_q r_y + -113.180 v_0 I_d + -3.577 v_0 I_q + 5.961 v_0 V_q + 13296.137 I_d I_q + -1592.299 I_d V_d + -5824.368 I_d V_q + -349.179 I_d \\omega + 187.268 I_d f + 4356.677 I_q V_d + 1929.895 I_q V_q + -43.291 I_q \\omega + -72.680 I_q f + -388.470 V_d V_q + 1758.760 V_d V_0 + 28.022 V_d \\omega + 6.156 V_d f + -8395.942 V_q V_0 + 35.067 V_q \\omega + -9.018 V_q f + -375.454 V_0 \\omega + 42.644 V_0 f + 1.254 \\omega f + 760.242 f r_y + 1322.885 i_d i_q I_d + 484.865 i_d i_q I_q + 157.505 i_d i_q V_d + 18.041 i_d i_q V_q + -150.973 i_d i_q V_0 + -3080.334 i_d i_q r_y + 15.435 i_d v_d I_d + 54.872 i_d v_d I_q + 0.380 i_d v_d V_d + -8.900 i_d v_d V_q + 11.757 i_d v_d r_x + 39.536 i_d v_d r_y + -38.987 i_d v_q I_d + -48.059 i_d v_q I_q + 7.560 i_d v_q V_d + 0.135 i_d v_q V_q + -15.332 i_d v_q V_0 + 112.648 i_d v_q r_y + 21.718 i_d v_0 I_d + 54.520 i_d v_0 I_q + 11.077 i_d v_0 V_d + 17.404 i_d v_0 V_q + 162.535 i_d v_0 V_0 + -8350.123 i_d I_d I_q + 274.539 i_d I_d V_d + 1390.441 i_d I_d V_q + -15.740 i_d I_d \\omega + 122.269 i_d I_d f + -1571.249 i_d I_q V_d + 614.890 i_d I_q V_q + -39475.988 i_d I_q V_0 + 13.932 i_d I_q \\omega + -32.571 i_d I_q f + -213.569 i_d V_d V_q + -624.269 i_d V_d V_0 + -1.932 i_d V_d f + 2933.636 i_d V_q V_0 + 0.184 i_d V_q \\omega + -1.831 i_d V_q f + 13.743 i_d V_0 \\omega + -22.940 i_d V_0 f + 13.880 i_d \\omega r_x + -138.422 i_d \\omega r_y + -94.574 i_d f r_x + 764.643 i_d f r_y + 25.741 i_q v_d I_d + 33.561 i_q v_d I_q + 13.724 i_q v_d V_d + -0.735 i_q v_d V_q + 11.605 i_q v_d V_0 + 15.912 i_q v_d r_x + -49.730 i_q v_d r_y + 202.766 i_q v_q I_q + 0.934 i_q v_q V_d + 12.427 i_q v_q V_q + 12.501 i_q v_q V_0 + -11.207 i_q v_q r_x + 71.853 i_q v_q r_y + 54.451 i_q v_0 I_d + -25.640 i_q v_0 I_q + 17.833 i_q v_0 V_d + -8.545 i_q v_0 V_q + -56.080 i_q v_0 V_0 + -41.366 i_q v_0 r_x + -654.753 i_q I_d V_d + 353.341 i_q I_d V_q + -12.721 i_q I_d \\omega + 28.280 i_q I_d f + 1860.467 i_q I_q V_d + 3129.585 i_q I_q V_q + 49.917 i_q I_q f + -48.481 i_q V_d V_q + -3184.054 i_q V_d V_0 + 0.528 i_q V_d \\omega + 9583.738 i_q V_q V_0 + -2.455 i_q V_q f + 981.479 i_q V_q r_x + -1.258 i_q V_0 f + -58.824 i_q \\omega r_x + 354.630 i_q f r_x + 186.782 i_q f r_y + -9.222 v_d v_0 I_d + -16.273 v_d v_0 I_q + 3.031 v_d v_0 V_d + -1.209 v_d v_0 V_0 + 2.159 v_d v_0 r_x + 0.748 v_d v_0 r_y + -525.063 v_d I_d V_d + -371.231 v_d I_d V_q + 7498.693 v_d I_d V_0 + -335.798 v_d I_q V_d + -206.422 v_d I_q V_q + -884.917 v_d I_q V_0 + -838.088 v_d V_d V_0 + -30.833 v_d V_d r_x + -80.696 v_d V_q V_0 + 2231.344 v_d V_q r_y + -15.879 v_q v_0 I_d + 8.042 v_q v_0 I_q + 3.060 v_q v_0 V_q + 1.252 v_q v_0 r_x + -2.920 v_q v_0 r_y + -2090.352 v_q I_d I_q + 203.104 v_q I_d V_d + -457.308 v_q I_d V_q + -195.060 v_q I_d V_0 + 322.270 v_q I_d r_y + 199.523 v_q I_q V_d + -757.015 v_q I_q V_q + -599.742 v_q I_q V_0 + 105.413 v_q V_d V_0 + -2336.456 v_q V_d r_y + -882.958 v_q V_q V_0 + 38.390 v_q V_q r_y + 104.499 v_0 I_d I_q + 41.682 v_0 I_d V_d + 44.244 v_0 I_d V_q + 10.143 v_0 I_q V_d + -11.975 v_0 V_d V_q + -26.455 v_0 V_d V_0 + 182.935 v_0 V_q V_0 + -2.099 v_0 V_0 f + 30.529 v_0 \\omega r_x + -36.237 v_0 \\omega r_y + -187.790 v_0 f r_x + 224.574 v_0 f r_y + -13634.710 I_d I_q V_q + -1274.869 I_d I_q \\omega + -415.941 I_d I_q f + 1950.996 I_d V_d V_q + -124.176 I_d V_d f + 50.562 I_d V_q \\omega + -9.695 I_d V_q f + 1138.923 I_d V_0 \\omega + -0.378 I_d \\omega f + 6905.507 I_d f r_y + -189.495 I_q V_d \\omega + 61.698 I_q V_d f + 25.245 I_q V_q \\omega + 46.302 I_q V_q f + -479.403 I_q V_0 f + -11.511 I_q \\omega f + 5702.437 V_d V_q V_0 + -0.589 V_d V_q \\omega + 4.538 V_d V_q f + 60.552 V_d V_0 \\omega + 37.212 V_d V_0 f + 2171.468 V_d \\omega r_y + -1080.455 V_d f r_y + 41.731 V_q \\omega r_x + 1407.624 V_q \\omega r_y + -451.998 V_q f r_x + -259.808 V_q f r_y + 1.538 \\omega f r_x\n",
      "(i_0)' = 0.000\n",
      "ecc input: True\n",
      "Loading data\n",
      "Done loading data\n",
      "Calculating xdots\n",
      "Assume all t_vec are equal\n",
      "Done calculating xdots\n",
      "Non zero ecc, added to input data\n",
      "MSE on test:  870.068105667329\n",
      "Non-zero elements:  443\n",
      "Starting time simulation\n"
     ]
    },
    {
     "name": "stderr",
     "output_type": "stream",
     "text": [
      "\n",
      "KeyboardInterrupt\n",
      "\n"
     ]
    }
   ],
   "source": [
    "## 14 nonlinear dynamical 50 ecc currents\n",
    "\n",
    "# TODO: both diverge....\n",
    "\n",
    "testdata = os.path.join(os.getcwd(), 'test-data','08-18','IMMEC_dynamic_nonlinear_5.0sec.npz')\n",
    "plot_optuna_data('_w5//currentsnonlinear_dynamic_50ecc-optuna-study')\n",
    "\n",
    "models = [\"currents_nonlinear_dynamic_50ecc_420\"]#['currents_nonlinear_dynamic_50ecc_150',  'currents_nonlinear_dynamic_50ecc_420']\n",
    "\n",
    "plot_function(models, testdata, 'currents', False, 'currents_d_nl')"
   ]
  },
  {
   "cell_type": "code",
   "execution_count": 6,
   "id": "17821057-f91c-465b-bdea-fa1a3f73a1bf",
   "metadata": {},
   "outputs": [
    {
     "name": "stderr",
     "output_type": "stream",
     "text": [
      "[I 2024-08-18 23:31:36,616] Study name was omitted but trying to load 'optuna_studies//torquenonlinear_dynamic_50ecc-optuna-study' because that was the only study found in the storage.\n"
     ]
    },
    {
     "name": "stdout",
     "output_type": "stream",
     "text": [
      "['optuna_studies//torquenonlinear_dynamic_50ecc-optuna-study']\n",
      "Trial count: 1002\n",
      "(i_d)' = 0.004 1 + 0.464 i_d + 0.913 i_q + -0.045 v_q + 1.573 I_d + 3.815 I_q + 2.800 V_d + 1.165 V_q + 0.002 \\omega + 0.020 i_d^2 + -0.011 i_d i_q + -3.855 i_d I_d + 7.616 i_d I_q + -0.121 i_d V_d + -0.737 i_d V_q + -0.131 i_d V_0 + -8.201 i_q I_d + -3.303 i_q I_q + 0.789 i_q V_d + 0.017 i_q V_q + 0.113 v_d I_d + -0.193 v_d I_q + 0.236 v_q I_d + 0.034 v_q I_q + 0.007 v_q r_y + -0.230 v_0 V_0 + -10.810 I_d^2 + -0.267 I_d I_q + -0.032 I_d V_d + 3.700 I_d V_q + 0.008 I_d \\omega + 1.469 I_q^2 + -2.198 I_q V_d + -1.810 I_q V_q + -0.039 I_q \\omega + 0.009 I_q f + -1.127 V_d^2 + -0.153 V_d V_q + -1.150 V_q^2\n",
      "ecc input: True\n",
      "Loading data\n",
      "Done loading data\n",
      "Calculating xdots\n",
      "Assume all t_vec are equal\n",
      "Done calculating xdots\n",
      "Non zero ecc, added to input data\n",
      "MSE on test:  0.00113522347115205\n",
      "Non-zero elements:  39\n",
      "MSE simplified model 0.00154148839834995\n",
      "(i_d)' = 0.012 1 + 0.499 i_q + 1.656 I_d + 7.138 I_q + 0.705 V_d + -0.784 V_q + 0.082 \\omega + -0.061 i_d i_q + -0.012 i_d v_d + -0.003 i_d v_q + 0.061 i_d I_d + 12.789 i_d I_q + -0.259 i_d V_d + -0.911 i_d V_q + -0.013 i_d \\omega + -0.002 i_q v_d + -6.725 i_q I_d + -0.763 i_q I_q + 0.857 i_q V_d + 0.028 i_q V_q + -0.010 i_q \\omega + -0.242 v_d I_d + 0.209 v_d I_q + 0.049 v_d V_d + 0.023 v_d V_q + 0.009 v_d r_y + 0.160 v_q I_d + -0.011 v_q V_d + 0.014 v_q r_y + -2.882 I_d V_d + 6.528 I_d V_q + -0.074 I_d f + -16.898 I_q V_d + -1.656 I_q V_q + -0.814 I_q \\omega + -0.018 I_q f + 0.939 V_d V_q + -0.029 V_d \\omega + 0.029 V_d f + 0.045 V_q \\omega + 0.042 V_0 f + -0.239 i_d i_q I_d + 0.852 i_d i_q I_q + 0.018 i_d i_q V_d + 0.002 i_d i_q V_0 + 0.066 i_d v_d I_d + 0.006 i_d v_d I_q + -0.016 i_d v_q I_d + 0.058 i_d v_q I_q + -15.055 i_d I_d I_q + -0.521 i_d I_d V_q + 0.089 i_d I_d \\omega + -0.021 i_d I_d f + 0.899 i_d I_q V_d + -0.218 i_d I_q V_q + -0.019 i_d I_q \\omega + 0.025 i_d V_d V_q + 0.023 i_d V_q V_0 + 0.014 i_d \\omega r_x + -0.035 i_d \\omega r_y + 0.202 i_d f r_y + 0.002 i_q v_d V_d + -0.004 i_q v_q I_d + -0.003 i_q v_q I_q + 0.002 i_q v_q V_q + 0.008 i_q v_q r_y + -11.950 i_q I_d I_q + 0.681 i_q I_d V_d + -0.843 i_q I_d V_q + -0.002 i_q I_d \\omega + 0.014 i_q I_d f + 0.025 i_q I_q V_d + 0.103 i_q I_q \\omega + -0.052 i_q I_q f + -0.023 i_q V_d V_q + 0.075 i_q V_d V_0 + -0.005 i_q V_q V_0 + -0.088 i_q \\omega r_x + 0.018 i_q \\omega r_y + 0.513 i_q f r_x + -0.477 v_d I_q V_d + 0.016 v_d I_q V_q + -0.001 v_d V_q r_y + 0.017 v_q I_d V_d + 0.226 v_q I_d V_q + 0.033 v_q I_d V_0 + -0.162 v_q I_q V_d + -0.423 v_q I_q V_q + -0.006 v_q V_d r_y + 0.002 v_q V_q r_x + -0.111 v_0 V_d V_0 + 54.895 I_d I_q V_d + -7.969 I_d I_q V_q + 2.665 I_d I_q \\omega + -4.947 I_d V_d V_q + -0.116 I_d V_d \\omega + -0.107 I_d V_d f + -0.212 I_d V_q \\omega + 0.051 I_d V_q f + -1.092 I_q V_d V_q + 0.451 I_q V_d \\omega + -0.005 I_q V_d f + -0.171 I_q V_q \\omega + -0.021 I_q V_q f + 0.004 V_d V_q \\omega + -0.040 V_d V_0 f + 0.043 V_q f r_x\n",
      "ecc input: True\n",
      "Loading data\n",
      "Done loading data\n",
      "Calculating xdots\n",
      "Assume all t_vec are equal\n",
      "Done calculating xdots\n",
      "Non zero ecc, added to input data\n",
      "MSE on test:  0.0007994914438063123\n",
      "Non-zero elements:  107\n",
      "MSE simplified model 0.00154148839834995\n"
     ]
    }
   ],
   "source": [
    "##########################################\n",
    "## 15 nonlinear dynamical 50 ecc torque ##\n",
    "##########################################\n",
    "testdata = os.path.join(os.getcwd(), 'test-data','08-18','IMMEC_dynamic_nonlinear_5.0sec.npz')\n",
    "plot_optuna_data('_w5//torquenonlinear_dynamic_50ecc-optuna-study')\n",
    "\n",
    "models = ['torque_nonlinear_dynamic_50ecc_50', 'torque_nonlinear_dynamic_50ecc_100']\n",
    "\n",
    "plot_function(models, testdata, 'torque', True, 'torque_d_nl')"
   ]
  },
  {
   "cell_type": "code",
   "execution_count": 9,
   "id": "f9b3d129-00cf-4413-bd66-2dc361bd0e5d",
   "metadata": {},
   "outputs": [
    {
     "name": "stderr",
     "output_type": "stream",
     "text": [
      "[I 2024-08-18 23:38:43,801] Study name was omitted but trying to load 'optuna_studies//umpnonlinear_dynamic_50ecc-optuna-study' because that was the only study found in the storage.\n"
     ]
    },
    {
     "name": "stdout",
     "output_type": "stream",
     "text": [
      "['optuna_studies//umpnonlinear_dynamic_50ecc-optuna-study']\n",
      "Trial count: 1357\n",
      "(i_d)' = 40.343 1 + -98.912 i_d + 114.501 i_q + -0.073 v_d + 7.947 v_q + 4.405 v_0 + -1481.943 I_d + -1254.855 I_q + 294.266 V_d + -172.484 V_q + 1249.235 V_0 + 6.521 \\omega + 344834.170 r_x + -394960.399 r_y + -0.274 i_d^2 + -7.282 i_d i_q + -47.756 i_d I_d + 944.677 i_d I_q + 9.684 i_d V_d + 48.804 i_d V_q + -157.112 i_d V_0 + -0.797 i_d f + 22051.166 i_d r_x + 4.646 i_q^2 + -1285.507 i_q I_d + 493.329 i_q I_q + 54.336 i_q V_d + -3.389 i_q V_q + 447.274 i_q V_0 + 24818.217 i_q r_x + 2060.708 i_q r_y + 11.164 v_d I_d + -47.739 v_d I_q + 0.867 v_d V_d + -300.876 v_d r_x + -449.942 v_d r_y + -29.335 v_q I_d + -16.154 v_q I_q + 0.944 v_q V_q + -1.746 v_q V_0 + -140.917 v_q r_x + -105.578 v_q r_y + -13.830 v_0 I_d + -18.956 v_0 I_q + -6.049 v_0 V_0 + 347.109 v_0 r_x + 3301.805 I_d^2 + 8027.414 I_d I_q + -1089.949 I_d V_d + 3054.605 I_d V_q + -4384.338 I_d V_0 + -4.650 I_d \\omega + -21.210 I_d f + 2529954.480 I_d r_x + 2220957.558 I_d r_y + 15428.479 I_q^2 + -2309.880 I_q V_d + -3678.749 I_q V_q + 3898.044 I_q V_0 + -24.548 I_q \\omega + 11.934 I_q f + 2258041.026 I_q r_x + 2100064.194 I_q r_y + -46.229 V_d V_q + 242.441 V_d V_0 + -1.693 V_d \\omega + 2.510 V_d f + -8672.558 V_d r_x + 44383.738 V_d r_y + 68.035 V_q^2 + -1274.584 V_q V_0 + -2.075 V_q \\omega + -153014.972 V_q r_x + -140425.587 V_q r_y + 7.070 V_0 \\omega + -50.523 V_0 f + 2655.199 \\omega r_x + -2440.201 \\omega r_y + -12981.756 f r_x + 12374.146 f r_y + -3.228 cos(1 \\gamma)\n",
      "(i_q)' = -10.375 1 + 139.929 i_d + -83.517 i_q + -9.866 v_d + -3.357 v_0 + 2258.947 I_d + -855.535 I_q + -3554.590 V_d + -1799.466 V_q + 231.260 V_0 + -7.900 \\omega + 336765.725 r_x + 258529.529 r_y + 6.641 i_d^2 + -45.252 i_d I_d + -517.617 i_d I_q + -49.577 i_d V_d + 9.435 i_d V_q + -49.289 i_d V_0 + -0.716 i_d f + -7817.844 i_d r_x + 20813.281 i_d r_y + 1.878 i_q^2 + 382.676 i_q I_d + -83.314 i_q I_q + 19.818 i_q V_d + -0.198 i_q V_q + 415.020 i_q V_0 + -12777.667 i_q r_x + 21993.334 i_q r_y + 50.027 v_d I_d + 12.363 v_d I_q + 0.679 v_d V_0 + 373.944 v_d r_x + -336.095 v_d r_y + -29.411 v_q I_d + 22.231 v_q I_q + 146.502 v_q r_x + -317.989 v_q r_y + 7.720 v_0 I_d + 16.551 v_0 I_q + 0.303 v_0 V_d + -29.086 v_0 V_0 + -479.433 v_0 r_x + -348.129 v_0 r_y + -310.603 I_d^2 + -599.517 I_d I_q + -471.583 I_d V_d + -962.416 I_d V_q + 22.187 I_d \\omega + -8.844 I_d f + -1935002.050 I_d r_x + 2157772.848 I_d r_y + 1423.550 I_q V_d + -586.504 I_q V_q + 4869.341 I_q V_0 + 6.413 I_q \\omega + -4.602 I_q f + -2182171.261 I_q r_x + 2863463.848 I_q r_y + 1575.057 V_d^2 + -29.738 V_d V_q + -402.451 V_d V_0 + 2.869 V_d \\omega + 1.668 V_d f + -26289.582 V_d r_x + 47298.527 V_d r_y + 1555.672 V_q^2 + -755.037 V_q V_0 + 0.302 V_q \\omega + 134530.878 V_q r_x + -144904.127 V_q r_y + -3.881 V_0 \\omega + 27.342 V_0 f + 2390.728 \\omega r_x + 2345.115 \\omega r_y + -12114.486 f r_x + -10457.834 f r_y + -2.195 sin(1 \\gamma)\n",
      "Sparsity:  160\n",
      "(i_d)' = -44.312 1 + -25.405 i_d + -400.869 i_q + -273.255 v_d + -140.190 v_q + -90.038 v_0 + 1980.888 I_d + 1867.739 I_q + -873.106 V_d + -989.568 V_q + 39891.760 V_0 + -134552.195 r_x + 277815.263 r_y + -14.078 i_d i_q + -4.115 i_d v_d + -13.561 i_d v_q + 1.090 i_d v_0 + 3492.216 i_d I_d + -3968.255 i_d I_q + -382.535 i_d V_d + 392.595 i_d V_q + -4229.582 i_d V_0 + -4.353 i_d \\omega + -5051613.007 i_d r_x + 17813741.270 i_d r_y + 8.428 i_q v_d + 27.195 i_q v_0 + -1361.749 i_q I_d + 4192.515 i_q I_q + 278.863 i_q V_d + 884.342 i_q V_q + -22763.519 i_q V_0 + -9.663 i_q \\omega + -6.905 i_q f + -7006876.771 i_q r_x + 14476633.142 i_q r_y + -0.055 v_d v_0 + 367.818 v_d I_d + 1105.117 v_d I_q + 289.091 v_d V_d + -37.832 v_d V_q + -505.163 v_d V_0 + 4.272 v_d f + 53369.718 v_d r_x + 84256.828 v_d r_y + 385.960 v_q I_d + -178.955 v_q I_q + 52.148 v_q V_d + 246.783 v_q V_q + -434.497 v_q V_0 + 2.182 v_q f + 128643.182 v_q r_x + -160808.013 v_q r_y + 599.843 v_0 I_d + 210.469 v_0 I_q + 90.215 v_0 V_d + -57.499 v_0 V_q + -2325.039 v_0 V_0 + -400529.972 v_0 r_x + 1000889.657 v_0 r_y + -12683.849 I_d I_q + 1721.284 I_d V_d + 5465.751 I_d V_q + -308779.098 I_d V_0 + 390.940 I_d \\omega + 101.866 I_d f + -18656192.545 I_d r_x + 51985460.082 I_d r_y + 2127.964 I_q V_d + 2374.459 I_q V_q + -445812.611 I_q V_0 + -846.593 I_q \\omega + -235.037 I_q f + 6706433.183 I_q r_x + -16790580.140 I_q r_y + 339.643 V_d V_q + -23611.806 V_d V_0 + -21.586 V_d \\omega + -1969976.349 V_d r_x + 3480696.698 V_d r_y + 59807.391 V_q V_0 + 15.551 V_q \\omega + 31.614 V_q f + -997745.182 V_q r_x + 8473061.377 V_q r_y + 924.634 V_0 \\omega + 468.237 V_0 f + -196044.302 \\omega r_x + 710300.300 \\omega r_y + 996.049 f r_x + -440.353 f r_y + 281.970 i_d i_q I_d + -71.324 i_d i_q V_d + -33.908 i_d i_q V_q + 539.745 i_d i_q V_0 + -22926.924 i_d i_q r_x + 32473.244 i_d i_q r_y + 2.759 i_d v_d I_d + 24.410 i_d v_d I_q + -1.269 i_d v_d V_d + 1.478 i_d v_d V_q + 5.426 i_d v_d V_0 + -670.658 i_d v_d r_x + 1146.809 i_d v_d r_y + 53.142 i_d v_q I_d + 46.072 i_d v_q I_q + -1.510 i_d v_q V_d + -1.653 i_d v_q V_q + -2.899 i_d v_q V_0 + 5477.935 i_d v_q r_x + 3586.626 i_d v_q r_y + -35.587 i_d v_0 I_d + 47.567 i_d v_0 I_q + 1.495 i_d v_0 V_d + -1.744 i_d v_0 V_q + 60.113 i_d v_0 V_0 + 2484.800 i_d v_0 r_x + -19877.578 i_d v_0 r_y + 2671.461 i_d I_d I_q + 1676.359 i_d I_d V_d + -5080.345 i_d I_d V_q + 37.259 i_d I_d \\omega + 51.756 i_d I_d f + 44971870.432 i_d I_d r_x + -102721066.312 i_d I_d r_y + 411.219 i_d I_q V_d + 4454.601 i_d I_q V_q + -38543.738 i_d I_q V_0 + -2.415 i_d I_q \\omega + -120.421 i_d I_q f + -18477325.399 i_d I_q r_x + 10599052.382 i_d I_q r_y + 37.520 i_d V_d V_q + 3309.988 i_d V_d V_0 + 2.497 i_d V_d \\omega + -3.080 i_d V_d f + -1090711.553 i_d V_d r_x + -960562.465 i_d V_d r_y + 555.492 i_d V_q V_0 + -2.086 i_d V_q \\omega + 3.192 i_d V_q f + 162291.002 i_d V_q r_x + 127958.256 i_d V_q r_y + 63.866 i_d V_0 \\omega + -345.281 i_d V_0 f + -24180249.536 i_d V_0 r_x + 3471.179 i_d \\omega r_x + 3385.034 i_d \\omega r_y + -16935.269 i_d f r_x + -16120.027 i_d f r_y + -30.381 i_q v_d I_d + 2.513 i_q v_d I_q + -2.312 i_q v_d V_q + 8.439 i_q v_d V_0 + -4554.528 i_q v_d r_x + -4825.616 i_q v_d r_y + -16.035 i_q v_q I_d + -30.229 i_q v_q I_q + 2.683 i_q v_q V_d + 3.138 i_q v_q V_0 + 604.698 i_q v_q r_x + 1990.499 i_q v_q r_y + 18.975 i_q v_0 I_d + -296.447 i_q v_0 I_q + 0.463 i_q v_0 V_q + -139.688 i_q v_0 V_0 + -17983.512 i_q v_0 r_x + -1159.148 i_q v_0 r_y + 8092.928 i_q I_d I_q + -2179.323 i_q I_d V_q + 105842.005 i_q I_d V_0 + 21.609 i_q I_d \\omega + 47.917 i_q I_d f + 7711773.307 i_q I_d r_x + -9720320.381 i_q I_d r_y + -1414.288 i_q I_q V_d + -5232.887 i_q I_q V_q + 25488.419 i_q I_q V_0 + -23.925 i_q I_q \\omega + -21.957 i_q I_q f + 51873239.903 i_q I_q r_x + -107421865.542 i_q I_q r_y + 26.540 i_q V_d V_q + -1646.570 i_q V_d V_0 + 2.773 i_q V_d \\omega + 626081.946 i_q V_d r_x + -1432725.917 i_q V_d r_y + -1429.034 i_q V_q V_0 + 2.113 i_q V_q \\omega + -2.850 i_q V_q f + -399698.885 i_q V_q r_x + -349020.985 i_q V_q r_y + 10.045 i_q V_0 \\omega + 76.496 i_q V_0 f + 25170524.040 i_q V_0 r_y + -5485.584 i_q \\omega r_x + -880.384 i_q \\omega r_y + 27820.049 i_q f r_x + 10659.729 i_q f r_y + -5.018 v_d v_q r_x + -8.362 v_d v_q r_y + 0.349 v_d v_0 I_d + 63.856 v_d v_0 r_x + 193.195 v_d v_0 r_y + -250.933 v_d I_d I_q + -736.169 v_d I_d V_d + 235.685 v_d I_d V_q + -4923.983 v_d I_d V_0 + -0.189 v_d I_d f + -1205222.074 v_d I_d r_x + 1747293.494 v_d I_d r_y + -584.921 v_d I_q V_d + -38.058 v_d I_q V_q + 1852.344 v_d I_q V_0 + 454833.643 v_d I_q r_x + -3421631.116 v_d I_q r_y + 1186.238 v_d V_d V_0 + -3.887 v_d V_d f + 169827.948 v_d V_d r_x + -323653.517 v_d V_d r_y + -167.325 v_d V_q V_0 + -102309.214 v_d V_q r_x + 476080.945 v_d V_q r_y + 33412.124 v_d V_0 r_x + -112311.228 v_d V_0 r_y + -7.892 v_d \\omega r_x + 34.746 v_d f r_x + -48.343 v_d f r_y + 164.168 v_q v_0 r_x + -24.453 v_q v_0 r_y + 2096.007 v_q I_d I_q + -208.390 v_q I_d V_d + -584.507 v_q I_d V_q + -2341.125 v_q I_d V_0 + 0.918 v_q I_d f + -1039197.129 v_q I_d r_x + 4195689.183 v_q I_d r_y + -141.004 v_q I_q V_d + -509.545 v_q I_q V_q + 1570.401 v_q I_q V_0 + 1.596 v_q I_q f + -1478046.556 v_q I_q r_x + 1218098.875 v_q I_q r_y + 167.287 v_q V_d V_0 + 99088.477 v_q V_d r_x + -472994.752 v_q V_d r_y + 1203.647 v_q V_q V_0 + -3.887 v_q V_q f + 164331.594 v_q V_q r_x + -331045.648 v_q V_q r_y + -104541.292 v_q V_0 r_x + -31260.204 v_q V_0 r_y + 3.732 v_q \\omega r_y + 5.773 v_q f r_x + -48.487 v_q f r_y + -2091.746 v_0 I_d I_q + -525.627 v_0 I_d V_d + 153.621 v_0 I_d V_q + 7290.390 v_0 I_d V_0 + 4423400.130 v_0 I_d r_x + -3667165.564 v_0 I_d r_y + -20.698 v_0 I_q V_d + 251.249 v_0 I_q V_q + 8763.373 v_0 I_q V_0 + -3629029.708 v_0 I_q r_x + -4957689.741 v_0 I_q r_y + 6.274 v_0 V_d V_q + -71280.710 v_0 V_d r_x + 101203.990 v_0 V_d r_y + 243.159 v_0 V_q V_0 + 115339.865 v_0 V_q r_x + 78504.445 v_0 V_q r_y + -143988.784 v_0 V_0 r_y + 7.732 v_0 \\omega r_y + -63.781 v_0 f r_y + -2171.725 I_d I_q V_d + 819.928 I_d I_q V_q + 1805302.116 I_d I_q V_0 + 1554.384 I_d I_q \\omega + -21902712.914 I_d I_q r_x + 32968061.681 I_d I_q r_y + -1047.835 I_d V_d V_q + 161646.449 I_d V_d V_0 + -127.591 I_d V_d \\omega + -68.226 I_d V_d f + 14053150.873 I_d V_d r_x + -37464924.408 I_d V_d r_y + -216839.762 I_d V_q V_0 + -340.413 I_d V_q \\omega + -76.656 I_d V_q f + 2356745.143 I_d V_q r_x + -30409680.741 I_d V_q r_y + -2493.786 I_d V_0 \\omega + -6717.287 I_d V_0 f + 98448.757 I_d \\omega r_x + 256333.976 I_d \\omega r_y + -196186.079 I_d f r_x + -588205.913 I_d f r_y + -2047.944 I_q V_d V_q + 269.965 I_q V_d \\omega + 286.171 I_q V_d f + 30088.536 I_q V_d r_x + 27273598.771 I_q V_d r_y + 4679.733 I_q V_q V_0 + 417.428 I_q V_q \\omega + -52.707 I_q V_q f + 151446.090 I_q V_q r_x + -33050426.467 I_q V_q r_y + -2858.369 I_q V_0 \\omega + 1484.470 I_q V_0 f + 42574.340 I_q \\omega r_x + -150706.130 I_q \\omega r_y + 381864.558 I_q f r_x + 858342.224 I_q f r_y + -2718.946 V_d V_q V_0 + 9.804 V_d V_q \\omega + -10.802 V_d V_q f + 110694.539 V_d V_q r_x + 739929.697 V_d V_q r_y + -409.969 V_d V_0 \\omega + 735.413 V_d V_0 f + -1276952.638 V_d V_0 r_x + -11788.074 V_d \\omega r_x + 15763.141 V_d \\omega r_y + 22599.381 V_d f r_x + 53465.601 V_d f r_y + -268.435 V_q V_0 f + 842632.544 V_q V_0 r_y + 19146.911 V_q \\omega r_x + -9903.193 V_q \\omega r_y + -60739.902 V_q f r_x + -37186.822 V_q f r_y + 8360.488 V_0 \\omega r_x + -1537.161 V_0 \\omega r_y + -66.281 \\omega f r_x + -2.422 \\omega f r_y + -1.024 sin(1 \\gamma) + -2.580 cos(1 \\gamma)\n",
      "(i_q)' = 93.798 1 + 717.857 i_d + 153.426 i_q + -397.673 v_d + -134.082 v_q + 36.514 v_0 + 1212.244 I_d + -3900.064 I_q + -461.771 V_d + -0.519 V_q + -16948.348 V_0 + 90.062 \\omega + -28862.913 r_x + -494843.006 r_y + -188.754 i_d i_q + 7.990 i_d v_d + -24.097 i_d v_0 + -5058.130 i_d I_d + 6188.816 i_d I_q + -207.983 i_d V_d + 24719.221 i_d V_0 + 7.010 i_d \\omega + -2.604 i_d f + -15502459.787 i_d r_x + -6182587.285 i_d r_y + -4.766 i_q v_d + -8.405 i_q v_q + 43.170 i_q v_0 + -1372.918 i_q I_d + -5453.928 i_q I_q + 301.602 i_q V_d + -43.980 i_q V_q + 7740.610 i_q V_0 + -10.158 i_q f + -10173002.469 i_q r_x + -7154519.074 i_q r_y + -0.481 v_d v_0 + 1405.889 v_d I_d + 1458.532 v_d I_q + 236.573 v_d V_d + 51.453 v_d V_q + 190.322 v_d V_0 + 0.725 v_d f + -198992.869 v_d r_x + 9835.925 v_d r_y + -0.634 v_q v_0 + -108.608 v_q I_d + 1455.112 v_q I_q + -39.051 v_q V_d + 273.688 v_q V_q + 1241.029 v_q V_0 + 0.717 v_q f + 239538.791 v_q r_x + -16195.584 v_q r_y + -96.036 v_0 I_d + -543.050 v_0 I_q + 40.893 v_0 V_d + -62.234 v_0 V_q + -138.460 v_0 V_0 + 1003311.460 v_0 r_x + 673130.761 v_0 r_y + 36700.574 I_d I_q + 700.544 I_d V_d + 5511.262 I_d V_q + 115874.080 I_d V_0 + -748.867 I_d \\omega + 94.743 I_d f + -43805700.736 I_d r_x + -8631233.208 I_d r_y + 716.259 I_q V_d + 5168.878 I_q V_q + -4110.533 I_q V_0 + 904.365 I_q \\omega + -78.980 I_q f + 52123763.488 I_q r_x + -5058705.610 I_q r_y + -1254.748 V_d V_q + 709.348 V_d V_0 + 2.133 V_d \\omega + 4.697 V_d f + -5041240.095 V_d r_x + -848478.169 V_d r_y + 1120.786 V_q V_0 + -62.839 V_q \\omega + 6.821 V_q f + -14296836.586 V_q r_x + 206774.498 V_q r_y + 116.044 V_0 \\omega + -11.432 V_0 f + -648358.596 \\omega r_x + -186122.225 \\omega r_y + 1929.679 f r_x + 622.706 f r_y + -1.850 i_d i_q v_0 + -320.306 i_d i_q I_d + 2028.880 i_d i_q I_q + 88.074 i_d i_q V_d + -115.044 i_d i_q V_q + 1701.667 i_d i_q V_0 + 0.336 i_d i_q f + 109373.312 i_d i_q r_x + 46804.983 i_d i_q r_y + -38.730 i_d v_d I_d + -6.246 i_d v_d I_q + -1.259 i_d v_d V_d + 2.143 i_d v_d V_q + 11.072 i_d v_d V_0 + -876.570 i_d v_d r_x + 1033.198 i_d v_d r_y + 4.117 i_d v_q I_d + 56.120 i_d v_q I_q + -2.230 i_d v_q V_d + -1.401 i_d v_q V_q + -11.937 i_d v_q V_0 + -5314.260 i_d v_q r_x + 5341.982 i_d v_q r_y + 110.321 i_d v_0 I_d + 33.430 i_d v_0 I_q + 2.389 i_d v_0 V_q + 84.383 i_d v_0 V_0 + -20646.496 i_d v_0 r_x + -9168.409 i_d v_0 r_y + -26466.725 i_d I_d I_q + 2250.702 i_d I_d V_d + 3583.566 i_d I_d V_q + -83057.176 i_d I_d V_0 + -4.882 i_d I_d \\omega + 45.331 i_d I_d f + 100383954.545 i_d I_d r_x + 48758683.843 i_d I_d r_y + -1088.355 i_d I_q V_d + -2726.642 i_d I_q V_q + -51516.015 i_d I_q V_0 + 7.511 i_d I_q \\omega + -49.325 i_d I_q f + -18516235.833 i_d I_q r_x + -18511184.166 i_d I_q r_y + -202.301 i_d V_d V_q + -2425.593 i_d V_d V_0 + -2.895 i_d V_d \\omega + -0.865 i_d V_d f + 208984.271 i_d V_d r_x + -666981.638 i_d V_d r_y + -944.072 i_d V_q V_0 + 0.228 i_d V_q f + -983877.331 i_d V_q r_x + -258874.016 i_d V_q r_y + -78.297 i_d V_0 \\omega + 436.210 i_d V_0 f + 22937763.051 i_d V_0 r_y + -524.738 i_d \\omega r_x + 4467.183 i_d \\omega r_y + 6775.164 i_d f r_x + -17642.953 i_d f r_y + -29.909 i_q v_d I_d + 2.536 i_q v_d I_q + 5.149 i_q v_d V_d + 2.991 i_q v_d V_q + 10.768 i_q v_d V_0 + 3225.519 i_q v_d r_x + -6017.335 i_q v_d r_y + 7.936 i_q v_q I_d + 44.254 i_q v_q I_q + -2.906 i_q v_q V_d + 5.079 i_q v_q V_q + -12.859 i_q v_q V_0 + -821.698 i_q v_q r_x + -640.526 i_q v_q r_y + -66.569 i_q v_0 I_d + -299.783 i_q v_0 I_q + -0.345 i_q v_0 V_d + -63.267 i_q v_0 V_0 + -3738.765 i_q v_0 r_x + 20960.497 i_q v_0 r_y + 35360.875 i_q I_d I_q + -1914.784 i_q I_d V_d + -804.812 i_q I_d V_q + 12094.065 i_q I_d V_0 + 11.194 i_q I_d \\omega + 58.217 i_q I_d f + -5138989.431 i_q I_d r_x + 16579486.615 i_q I_d r_y + -261.598 i_q I_q V_d + -554.304 i_q I_q V_q + -110577.981 i_q I_q V_0 + 19.199 i_q I_q \\omega + -11.308 i_q I_q f + 98238455.953 i_q I_q r_x + 48220122.449 i_q I_q r_y + 211.979 i_q V_d V_q + 601.797 i_q V_d V_0 + 2.228 i_q V_d \\omega + 371058.443 i_q V_d r_x + 20862.461 i_q V_d r_y + 8438.742 i_q V_q V_0 + -2.254 i_q V_q \\omega + -0.883 i_q V_q f + 1230180.674 i_q V_q r_x + -1242997.278 i_q V_q r_y + -118.311 i_q V_0 f + 25178495.002 i_q V_0 r_x + -611.736 i_q \\omega r_x + -3505.896 i_q \\omega r_y + -5865.344 i_q f r_x + 20486.008 i_q f r_y + -3.295 v_d v_q r_x + 2.814 v_d v_0 I_d + -0.173 v_d v_0 I_q + 214.857 v_d v_0 r_x + 52.394 v_d v_0 r_y + -1268.421 v_d I_d I_q + -525.371 v_d I_d V_d + -380.775 v_d I_d V_q + 6369.211 v_d I_d V_0 + -1011468.298 v_d I_d r_x + -1475870.571 v_d I_d r_y + -1224.974 v_d I_q V_d + 157.447 v_d I_q V_q + 375.908 v_d I_q V_0 + 1.967 v_d I_q f + 3933203.164 v_d I_q r_x + 780604.394 v_d I_q r_y + -1179.046 v_d V_d V_0 + -0.853 v_d V_d f + 234347.355 v_d V_d r_x + 221219.596 v_d V_d r_y + 50.831 v_d V_q V_0 + -467175.645 v_d V_q r_x + -94988.954 v_d V_q r_y + -90446.792 v_d V_0 r_x + -17183.707 v_d V_0 r_y + -4.053 v_d \\omega r_x + -2.659 v_d \\omega r_y + 65.120 v_d f r_x + -5.512 v_d f r_y + 2.351 v_q v_0 I_d + 2.053 v_q v_0 I_q + 0.494 v_q v_0 V_0 + -83.876 v_q v_0 r_x + -164.020 v_q v_0 r_y + -402.066 v_q I_d I_q + 398.885 v_q I_d V_d + -558.185 v_q I_d V_q + -869.596 v_q I_d V_0 + -1.264 v_q I_d f + -3816868.629 v_q I_d r_x + -666200.428 v_q I_d r_y + -313.408 v_q I_q V_d + -1410.137 v_q I_q V_q + -2376.325 v_q I_q V_0 + 0.426 v_q I_q f + -1818469.945 v_q I_q r_x + -1123224.121 v_q I_q r_y + -29.940 v_q V_d V_0 + 472949.278 v_q V_d r_x + 98949.261 v_q V_d r_y + -1128.506 v_q V_q V_0 + -0.848 v_q V_q f + 230750.786 v_q V_q r_x + 225451.601 v_q V_q r_y + -48106.630 v_q V_0 r_x + 121196.857 v_q V_0 r_y + -3.721 v_q \\omega r_x + 70.103 v_q f r_x + 20.262 v_q f r_y + 2242.922 v_0 I_d I_q + -238.371 v_0 I_d V_d + 228.305 v_0 I_d V_q + -3278.164 v_0 I_d V_0 + -0.565 v_0 I_d f + -4170276.789 v_0 I_d r_x + -5771897.423 v_0 I_d r_y + 58.108 v_0 I_q V_d + 255.013 v_0 I_q V_q + 7717.862 v_0 I_q V_0 + 1.010 v_0 I_q f + -4488174.595 v_0 I_q r_x + 2918050.488 v_0 I_q r_y + -4.673 v_0 V_d V_q + -202.926 v_0 V_d V_0 + 127173.697 v_0 V_d r_x + 83718.712 v_0 V_d r_y + 181.695 v_0 V_q V_0 + 87867.517 v_0 V_q r_x + -81988.959 v_0 V_q r_y + -25494.729 v_0 V_0 r_x + 16.582 v_0 \\omega r_x + -38.479 v_0 \\omega r_y + -38.424 v_0 f r_x + 338.797 v_0 f r_y + -9292.882 I_d I_q V_d + -67773.312 I_d I_q V_q + -2631.416 I_d I_q \\omega + -745.196 I_d I_q f + -310028567.627 I_d I_q r_x + -60291608.174 I_d I_q r_y + 1722.776 I_d V_d V_q + -47646.276 I_d V_d V_0 + 88.570 I_d V_d \\omega + -71.393 I_d V_d f + 37476760.318 I_d V_d r_x + 4759280.875 I_d V_d r_y + 395.044 I_d V_q \\omega + -7.091 I_d V_q f + 58020727.941 I_d V_q r_x + -2226485.004 I_d V_q r_y + -553.776 I_d V_0 \\omega + 3812.824 I_d V_0 f + -253962.079 I_d \\omega r_x + 58523.127 I_d \\omega r_y + 456871.461 I_d f r_x + -174329.368 I_d f r_y + 7099.352 I_q V_d V_q + 65783.450 I_q V_d V_0 + -177.657 I_q V_d \\omega + 137.064 I_q V_d f + -10812517.478 I_q V_d r_x + 14173053.256 I_q V_d r_y + -47372.293 I_q V_q V_0 + 17.479 I_q V_q \\omega + 44.803 I_q V_q f + 32369753.553 I_q V_q r_x + 4941938.512 I_q V_q r_y + -463.740 I_q V_0 \\omega + 530.214 I_q V_0 f + 1533.816 I_q \\omega r_x + 56557.463 I_q \\omega r_y + -707173.529 I_q f r_x + 286644.794 I_q f r_y + -6676.306 V_d V_q V_0 + -10.725 V_d V_q \\omega + -5.895 V_d V_q f + 19415.888 V_d V_q r_x + -161279.342 V_d V_q r_y + 91.852 V_d V_0 \\omega + -934.264 V_d V_0 f + 219215.728 V_d V_0 r_y + -41442.257 V_d \\omega r_x + -12307.044 V_d \\omega r_y + -40730.742 V_d f r_x + 24934.817 V_d f r_y + 64.582 V_q V_0 \\omega + 469.715 V_q V_0 f + 2523793.800 V_q V_0 r_x + -10297.020 V_q \\omega r_x + 19152.973 V_q \\omega r_y + 22123.501 V_q f r_x + -54709.346 V_q f r_y + -7298.273 V_0 \\omega r_x + -3357.463 V_0 \\omega r_y + 23.820 \\omega f r_x + -67.355 \\omega f r_y + -3.728 sin(1 \\gamma) + 0.893 cos(1 \\gamma)\n",
      "Sparsity:  692\n",
      "UMP150.pkl\n",
      "UMP650.pkl\n"
     ]
    }
   ],
   "source": [
    "#######################################\n",
    "## 16 nonlinear dynamical 50 ecc UMP ##\n",
    "#######################################\n",
    "testdata = os.path.join(os.getcwd(), 'test-data','08-18','IMMEC_dynamic_nonlinear_5.0sec.npz')\n",
    "plot_optuna_data('_w5//umpnonlinear_dynamic_50ecc-optuna-study')\n",
    "\n",
    "models = ['ump_nonlinear_dynamic_50ecc_150', 'ump_nonlinear_dynamic_50ecc_650']\n",
    "\n",
    "plot_function(models, testdata, 'ump', True, 'ump_d_nl')"
   ]
  }
 ],
 "metadata": {
  "kernelspec": {
   "display_name": "Python 3 (ipykernel)",
   "language": "python",
   "name": "python3"
  },
  "language_info": {
   "codemirror_mode": {
    "name": "ipython",
    "version": 3
   },
   "file_extension": ".py",
   "mimetype": "text/x-python",
   "name": "python",
   "nbconvert_exporter": "python",
   "pygments_lexer": "ipython3",
   "version": "3.12.4"
  }
 },
 "nbformat": 4,
 "nbformat_minor": 5
}
