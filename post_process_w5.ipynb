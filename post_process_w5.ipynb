{
 "cells": [
  {
   "cell_type": "code",
   "execution_count": 1,
   "id": "5f11579c-0981-4b52-b7f7-702fec4e769a",
   "metadata": {},
   "outputs": [],
   "source": [
    "import os.path\n",
    "from optimize_parameters import plot_optuna_data\n",
    "from source import *\n",
    "from train_model_source import simulate_model, make_model\n",
    "%matplotlib QtAgg"
   ]
  },
  {
   "cell_type": "code",
   "execution_count": 1,
   "id": "45419ae4-da42-4d60-a758-cc1f8fad761b",
   "metadata": {},
   "outputs": [
    {
     "ename": "NameError",
     "evalue": "name 'os' is not defined",
     "output_type": "error",
     "traceback": [
      "\u001b[1;31m---------------------------------------------------------------------------\u001b[0m",
      "\u001b[1;31mNameError\u001b[0m                                 Traceback (most recent call last)",
      "Cell \u001b[1;32mIn[1], line 4\u001b[0m\n\u001b[0;32m      1\u001b[0m \u001b[38;5;66;03m######################\u001b[39;00m\n\u001b[0;32m      2\u001b[0m \u001b[38;5;66;03m## 0 model creation ##\u001b[39;00m\n\u001b[0;32m      3\u001b[0m \u001b[38;5;66;03m######################\u001b[39;00m\n\u001b[1;32m----> 4\u001b[0m path_to_data_files \u001b[38;5;241m=\u001b[39m os\u001b[38;5;241m.\u001b[39mpath\u001b[38;5;241m.\u001b[39mjoin(os\u001b[38;5;241m.\u001b[39mgetcwd(), \u001b[38;5;124m'\u001b[39m\u001b[38;5;124mtrain-data\u001b[39m\u001b[38;5;124m'\u001b[39m, \u001b[38;5;124m'\u001b[39m\u001b[38;5;124m07-29-default\u001b[39m\u001b[38;5;124m'\u001b[39m, \u001b[38;5;124m'\u001b[39m\u001b[38;5;124mIMMEC_0ecc_5.0sec.npz\u001b[39m\u001b[38;5;124m'\u001b[39m)\n\u001b[0;32m      5\u001b[0m make_model(path_to_data_files, modeltype\u001b[38;5;241m=\u001b[39m\u001b[38;5;124m'\u001b[39m\u001b[38;5;124mtorque\u001b[39m\u001b[38;5;124m'\u001b[39m, optimizer\u001b[38;5;241m=\u001b[39m\u001b[38;5;124m'\u001b[39m\u001b[38;5;124mSTLSQ\u001b[39m\u001b[38;5;124m'\u001b[39m,\n\u001b[0;32m      6\u001b[0m                nmbr_of_train\u001b[38;5;241m=\u001b[39m\u001b[38;5;241m-\u001b[39m\u001b[38;5;241m1\u001b[39m, lib\u001b[38;5;241m=\u001b[39m\u001b[38;5;124m'\u001b[39m\u001b[38;5;124mtorque\u001b[39m\u001b[38;5;124m'\u001b[39m, alpha \u001b[38;5;241m=\u001b[39m \u001b[38;5;241m5.34\u001b[39m, threshold \u001b[38;5;241m=\u001b[39m \u001b[38;5;241m0.1\u001b[39m,\n\u001b[0;32m      7\u001b[0m                modelname\u001b[38;5;241m=\u001b[39m\u001b[38;5;124m'\u001b[39m\u001b[38;5;124mtest\u001b[39m\u001b[38;5;124m'\u001b[39m)\n",
      "\u001b[1;31mNameError\u001b[0m: name 'os' is not defined"
     ]
    }
   ],
   "source": [
    "######################\n",
    "## 0 model creation ##\n",
    "######################\n",
    "path_to_data_files = os.path.join(os.getcwd(), 'train-data', '07-29-default', 'IMMEC_0ecc_5.0sec.npz')\n",
    "path_to_data_files = os.path.join(os.getcwd(), 'train-data', '07-31-nonlin', 'IMMEC_nonlinear-0ecc_5.0sec.npz')\n",
    "make_model(path_to_data_files, modeltype='torque', optimizer='STLSQ',\n",
    "               nmbr_of_train=-1, lib='torque', alpha = 5.34, threshold = 0.1,\n",
    "               modelname='test')"
   ]
  },
  {
   "cell_type": "code",
   "execution_count": 5,
   "id": "9c33bc4a-5131-4cda-a666-a57a27b3e3d9",
   "metadata": {},
   "outputs": [
    {
     "name": "stderr",
     "output_type": "stream",
     "text": [
      "[I 2024-08-16 11:56:10,097] Study name was omitted but trying to load 'currentsLinear-specific-optuna-study' because that was the only study found in the storage.\n"
     ]
    },
    {
     "name": "stdout",
     "output_type": "stream",
     "text": [
      "['currentsLinear-specific-optuna-study']\n",
      "Trial count: 401\n",
      "currents190.pkl\n",
      "currents190_simulation.pkl\n",
      "currents30.pkl\n",
      "currents30_simulation.pkl\n",
      "currents90.pkl\n",
      "currents90_simulation.pkl\n"
     ]
    }
   ],
   "source": [
    "#############################\n",
    "## 1 linear model currents ##\n",
    "#############################\n",
    "testdata = os.path.join(os.getcwd(), 'test-data', '07-29-default', 'IMMEC_0ecc_5.0sec.npz')\n",
    "plot_optuna_data('currentsLinear-specific-optuna-study')\n",
    "# TODO rerun optuna with new optimizer\n",
    "\n",
    "models = [\"linear_currents_30\", \"linear_currents_90\",\"linear_currents_190\"] \n",
    "pref = \"currents_linear\\\\\"\n",
    "\n",
    "existing_plot = True\n",
    "if not existing_plot:\n",
    "    for model in models:\n",
    "        sim, test = simulate_model(pref + model + '_model', testdata, modeltype='currents', do_time_simulation=True,\n",
    "                                   show=False)\n",
    "        plot_fourier(test, sim, dt=5e-5, tmax=5.0)\n",
    "else:\n",
    "    coefs = False\n",
    "    if coefs:\n",
    "        for model_ in models:\n",
    "            model = load_model(pref + model_ + '_model')\n",
    "            plot_coefs2(model, log=True)\n",
    "\n",
    "    path = os.path.join(os.getcwd(), 'plot_data', 'currents_linear')\n",
    "    plot_everything(path)"
   ]
  },
  {
   "cell_type": "code",
   "execution_count": 4,
   "id": "0a2956b6-80e7-4f16-87e5-dfd090b79492",
   "metadata": {},
   "outputs": [
    {
     "name": "stderr",
     "output_type": "stream",
     "text": [
      "[I 2024-08-16 11:55:24,491] Study name was omitted but trying to load 'torquelinear-optuna-study' because that was the only study found in the storage.\n"
     ]
    },
    {
     "name": "stdout",
     "output_type": "stream",
     "text": [
      "['torquelinear-optuna-study']\n",
      "Trial count: 3394\n",
      "Torque10.pkl\n",
      "Torque13.pkl\n",
      "Torque20.pkl\n",
      "Torque_stlsq.pkl\n"
     ]
    }
   ],
   "source": [
    "###########################\n",
    "## 2 linear model torque ##\n",
    "###########################\n",
    "testdata = os.path.join(os.getcwd(), 'test-data', '07-29-default', 'IMMEC_0ecc_5.0sec.npz')\n",
    "\n",
    "plot_optuna_data(\"torqueLinear-optuna-study\")\n",
    "# TODO rerun optuna with new optimizer\n",
    "models = ['torque_linear10', 'torque_linear13', 'torque_linear20', 'torque_test_stlsq']\n",
    "pref = \"torque_linear\\\\\"\n",
    "existing_plot = True\n",
    "if not existing_plot:\n",
    "    for model in models:\n",
    "        sim, test = simulate_model(pref + model + '_model', testdata, modeltype='torque', show=False)\n",
    "        plot_fourier(test, sim, dt=5e-5, tmax=5.0)\n",
    "else:\n",
    "    # plot modes coefs:\n",
    "    coefs=False\n",
    "    if coefs:\n",
    "        for model_ in models:\n",
    "            model = load_model(pref + model_ + '_model')\n",
    "            plot_coefs2(model, log=True)\n",
    "    path = os.path.join(os.getcwd(), 'plot_data', 'torque_linear')\n",
    "    plot_everything(path)"
   ]
  },
  {
   "cell_type": "code",
   "execution_count": 2,
   "id": "f2a8a108-d386-4c3a-8b53-3a88e598d20e",
   "metadata": {},
   "outputs": [
    {
     "name": "stderr",
     "output_type": "stream",
     "text": [
      "[I 2024-08-16 17:03:47,624] Study name was omitted but trying to load 'optuna_studies//currents_nonlinear_08-16-optuna-study' because that was the only study found in the storage.\n"
     ]
    },
    {
     "name": "stdout",
     "output_type": "stream",
     "text": [
      "['optuna_studies//currents_nonlinear_08-16-optuna-study']\n",
      "Trial count: 701\n",
      "currents08-07_15-07-13A.pkl\n",
      "currents08-07_15-07-54B.pkl\n",
      "currents150.pkl\n",
      "currents80.pkl\n",
      "currents_simulation08-07_15-23-55_A.pkl\n",
      "currents_simulation80.pkl\n"
     ]
    }
   ],
   "source": [
    "################################\n",
    "## 3 nonlinear model currents ##\n",
    "################################\n",
    "testdata = os.path.join(os.getcwd(), 'test-data', '08-07', 'IMMEC_nonlin_0ecc_5.0sec.npz')\n",
    "plot_optuna_data('currents_nonlin\\\\currents_nonlinear_08-16-optuna-study')\n",
    "\n",
    "models = [\"nonlinear_currents_tstlsq80\",\"nonlinear_currents_tstlsq150\", \"example_A_currents500\",\"example_B_currents200\"]\n",
    "# B diverges on time simulation also 150 diverges. Unsure why\n",
    "pref = \"currents_nonlinear\\\\\"\n",
    "existing_plot = True\n",
    "if not existing_plot:\n",
    "    for model in models:\n",
    "        sim, test = simulate_model(pref + model + '_model', testdata, modeltype='currents', do_time_simulation=True,\n",
    "                                   show=False)\n",
    "        plot_fourier(test, sim, dt=1e-4, tmax=5.0)\n",
    "else:\n",
    "    # plot modes coefs:\n",
    "    coefs = False\n",
    "    if coefs:\n",
    "        for model_ in models:\n",
    "            model = load_model(pref + model_ + '_model')\n",
    "            plot_coefs2(model, log=True)\n",
    "    path = os.path.join(os.getcwd(), 'plot_data', 'currents_nonlinear')\n",
    "    plot_everything(path)"
   ]
  },
  {
   "cell_type": "code",
   "execution_count": 15,
   "id": "703c5357-9f13-477f-87e1-42e367fe6e45",
   "metadata": {},
   "outputs": [
    {
     "name": "stderr",
     "output_type": "stream",
     "text": [
      "[I 2024-08-16 13:48:11,292] Study name was omitted but trying to load 'torqueNonlinear-special-optuna-study' because that was the only study found in the storage.\n"
     ]
    },
    {
     "name": "stdout",
     "output_type": "stream",
     "text": [
      "['torqueNonlinear-special-optuna-study']\n",
      "Trial count: 200\n",
      "Torque100.pkl\n",
      "Torque20.pkl\n",
      "Torque280.pkl\n"
     ]
    }
   ],
   "source": [
    "##############################\n",
    "## 4 nonlinear model torque ##\n",
    "##############################\n",
    "testdata = os.path.join(os.getcwd(), 'test-data', '08-07', 'IMMEC_nonlin_0ecc_5.0sec.npz')\n",
    "plot_optuna_data('torque_nonlin_0608/torqueNonlinear-extra_models-optuna-study')\n",
    "# TODO rerun optuna with new optimizer\n",
    "\n",
    "models = [\"torque_nonlinear_280coef\", \"torque_nonlinear_100coef\", \"torque_nonlinear_20coef\"]\n",
    "pref = \"torque_nonlinear\\\\\"\n",
    "existing_plot = True\n",
    "if not existing_plot:\n",
    "    for model in models:\n",
    "        sim, test = simulate_model(pref + model + '_model', testdata, modeltype='torque', show=False)\n",
    "        plot_fourier(test, sim, dt=1e-4, tmax=5.0)\n",
    "else:\n",
    "    # plot modes coefs:\n",
    "    coefs = False\n",
    "    if coefs:\n",
    "        for model_ in models:\n",
    "            model = load_model(pref + model_ + '_model')\n",
    "            plot_coefs2(model, log=True)\n",
    "    path = os.path.join(os.getcwd(), 'plot_data', 'torque_nonlinear')\n",
    "    plot_everything(path)"
   ]
  },
  {
   "cell_type": "code",
   "execution_count": null,
   "id": "29ca7f03-185f-4bad-8fe1-552ea5490524",
   "metadata": {},
   "outputs": [],
   "source": [
    "## 5 linear model currents with 50 ecc\n",
    "'''\n",
    "testdata = os.path.join(os.getcwd(), 'test-data', '08-08', 'IMMEC_50ecc_ecc_5.0sec.npz')\n",
    "# TODO generate optuna \n",
    "plot_optuna_data()\n",
    "models = []\n",
    "pref = \"currents_50_linear\\\\\"\n",
    "existing_plot = False\n",
    "if not existing_plot:\n",
    "    for model in models:\n",
    "        sim, test = simulate_model(pref + model + '_model', testdata, modeltype='currents', do_time_simulation=True,\n",
    "                                   show=False)\n",
    "        plot_fourier(test, sim, dt=1e-4, tmax=5.0)\n",
    "'''"
   ]
  },
  {
   "cell_type": "code",
   "execution_count": null,
   "id": "0359e714-e802-4a22-9293-0ca51ee17581",
   "metadata": {},
   "outputs": [],
   "source": [
    "## 6 linear model torque with 50 ecc\n",
    "'''\n",
    "testdata = os.path.join(os.getcwd(), 'test-data', '08-08', 'IMMEC_50ecc_ecc_5.0sec.npz')\n",
    "# TODO generate optuna\n",
    "plot_optuna_data()\n",
    "models = []\n",
    "pref = \"torque_50_linear\\\\\"\n",
    "existing_plot = False\n",
    "if not existing_plot:\n",
    "    for model in models:\n",
    "        sim, test = simulate_model(pref + model + '_model', testdata, modeltype='torque', show=False)\n",
    "        plot_fourier(test, sim, dt=1e-4, tmax=5.0)\n",
    "'''"
   ]
  },
  {
   "cell_type": "code",
   "execution_count": 4,
   "id": "b0cc480a-41f5-4104-92c0-6a02b4c25ba5",
   "metadata": {},
   "outputs": [
    {
     "name": "stderr",
     "output_type": "stream",
     "text": [
      "[I 2024-08-16 17:04:57,919] Study name was omitted but trying to load 'umpLinear-50ecc-optuna-study' because that was the only study found in the storage.\n"
     ]
    },
    {
     "name": "stdout",
     "output_type": "stream",
     "text": [
      "['umpLinear-50ecc-optuna-study']\n",
      "Trial count: 2000\n",
      "UMP08-08_13-15-38.pkl\n",
      "UMP08-08_13-15-43.pkl\n",
      "UMP08-08_13-15-46.pkl\n",
      "UMP08-08_13-15-48.pkl\n"
     ]
    }
   ],
   "source": [
    "####################################\n",
    "## 7 linear model UMP with 50 ecc ##\n",
    "####################################\n",
    "testdata = os.path.join(os.getcwd(), 'test-data', '08-08', 'IMMEC_50ecc_ecc_5.0sec.npz')\n",
    "plot_optuna_data(\"ump_lin_0808/umpLinear-50ecc-optuna-study\")\n",
    "# TODO rerun optuna with new optimizer\n",
    "models = [\"ump_linear_50ecc_50\",\n",
    "          \"ump_linear_50ecc_100\",\n",
    "          \"ump_linear_50ecc_200\",\n",
    "          \"ump_linear_50ecc_550\"]\n",
    "pref = \"ump_50_linear\\\\\"\n",
    "existing_plot = True\n",
    "if not existing_plot:\n",
    "    for model in models:\n",
    "        sim, test = simulate_model(pref + model + '_model', testdata, modeltype='ump', show=False)\n",
    "        plot_fourier(test, sim, dt=1e-4, tmax=5.0)\n",
    "else:\n",
    "    # plot modes coefs:\n",
    "    if coefs:\n",
    "        for model_ in models:\n",
    "            model = load_model(pref + model_ + '_model')\n",
    "            plot_coefs2(model, log=True)\n",
    "    path = os.path.join(os.getcwd(), 'plot_data', 'ump_50_linear')\n",
    "    plot_everything(path)"
   ]
  },
  {
   "cell_type": "code",
   "execution_count": 5,
   "id": "fe5a6a17-bf02-43ce-978c-fbbd6634665b",
   "metadata": {},
   "outputs": [
    {
     "name": "stderr",
     "output_type": "stream",
     "text": [
      "[I 2024-08-16 17:05:54,039] Study name was omitted but trying to load 'currentsnonlinear-50-specific-optuna-study' because that was the only study found in the storage.\n"
     ]
    },
    {
     "name": "stdout",
     "output_type": "stream",
     "text": [
      "['currentsnonlinear-50-specific-optuna-study']\n",
      "Trial count: 3001\n",
      "currents08-08_14-23-12.pkl\n",
      "currents08-08_14-27-17.pkl\n",
      "currents08-08_14-30-32.pkl\n",
      "currents08-08_14-34-05.pkl\n",
      "currents_simulation08-08_14-26-59.pkl\n",
      "currents_simulation08-08_14-28-04.pkl\n"
     ]
    }
   ],
   "source": [
    "############################################\n",
    "## 8 nonlinear model currents with 50 ecc ##\n",
    "############################################\n",
    "testdata = os.path.join(os.getcwd(), 'test-data', '08-07-nonlin-50ecc', 'IMMEC_nonlin_50ecc_5.0sec.npz')\n",
    "plot_optuna_data('currentsNonlinear-50-specific-optuna-study')\n",
    "# TODO rerun optuna with new optimizer\n",
    "models = [\"currents_nonlinear_50ecc_60\", \"currents_nonlinear_50ecc_90\"]\n",
    "# \"currents_nonlinear_50ecc_200\", #this one diverges\n",
    "# \"currents_nonlinear_50ecc_550\"] #this one diverges too\n",
    "\n",
    "pref = \"currents_50_nonlinear\\\\\"\n",
    "existing_plot = True\n",
    "if not existing_plot:\n",
    "    for model in models:\n",
    "        sim, test = simulate_model(pref + model + '_model', testdata, modeltype='currents', do_time_simulation=True,\n",
    "                                   show=False)\n",
    "        plot_fourier(test, sim, dt=1e-4, tmax=5.0)\n",
    "else:\n",
    "    # plot modes coefs:\n",
    "    coefs = False\n",
    "    if coefs:\n",
    "        for model_ in models:\n",
    "            model = load_model(pref + model_ + '_model')\n",
    "            plot_coefs2(model, log=True)\n",
    "    path = os.path.join(os.getcwd(), 'plot_data', 'currents_50_nonlinear')\n",
    "    plot_everything(path)"
   ]
  },
  {
   "cell_type": "code",
   "execution_count": null,
   "id": "0addc5ad-79d4-404a-a043-482717deb0d2",
   "metadata": {},
   "outputs": [],
   "source": [
    "## 9 nonlinear model torque with 50 ecc todo NOT YET DONE\n",
    "'''\n",
    "testdata = os.path.join(os.getcwd(), 'test-data', '08-07-nonlin-50ecc', 'IMMEC_nonlin_50ecc_5.0sec.npz')\n",
    "plot_optuna_data()\n",
    "# TODO rerun optuna with new optimizer\n",
    "models = []\n",
    "pref = \"torque_50_nonlinear\\\\\"\n",
    "existing_plot = False\n",
    "if not existing_plot:\n",
    "    for model in models:\n",
    "        sim, test = simulate_model(pref + model + '_model', testdata, modeltype='torque', show=False)\n",
    "        plot_fourier(test, sim, dt=1e-4, tmax=5.0)\n",
    "'''"
   ]
  },
  {
   "cell_type": "code",
   "execution_count": null,
   "id": "ba85ea15-c729-496b-9b10-aa5b57563d7d",
   "metadata": {},
   "outputs": [],
   "source": [
    "########################################\n",
    "## 10 nonlinear model ump with 50 ecc ##\n",
    "########################################\n",
    "testdata = os.path.join(os.getcwd(), 'test-data', '08-07-nonlin-50ecc', 'IMMEC_nonlin_50ecc_5.0sec.npz')\n",
    "plot_optuna_data('ump_nonlin_0708/umpNonlinear-50ecc-optuna-study')\n",
    "# TODO rerun optuna with new optimizer\n",
    "models = [\"nonlinear_ump_50ecc_500\", \"nonlinear_ump_50ecc\"]\n",
    "pref = \"ump_50_nonlinear\\\\\"\n",
    "existing_plot = False\n",
    "if not existing_plot:\n",
    "    for model in models:\n",
    "        sim, test = simulate_model(pref + model + '_model', testdata, modeltype='ump', show=False)\n",
    "        plot_fourier(test, sim, dt=1e-4, tmax=5.0)\n",
    "else:\n",
    "    if coefs:\n",
    "        for model_ in models:\n",
    "            model = load_model(pref + model_ + '_model')\n",
    "            plot_coefs2(model, log=True)\n",
    "    path = os.path.join(os.getcwd(), 'plot_data', 'ump_50_nonlinear')\n",
    "    plot_everything(path)"
   ]
  },
  {
   "cell_type": "code",
   "execution_count": null,
   "id": "234aeac4-6045-4440-9d14-b7833bd767e4",
   "metadata": {},
   "outputs": [],
   "source": [
    "## 11 linear dynamical 50 ecc currents\n",
    "testdata = os.path.join(os.getcwd(), 'test-data','08-09','IMMEC_dynamic_50ecc_5.0sec.npz')\n",
    "\n"
   ]
  },
  {
   "cell_type": "code",
   "execution_count": null,
   "id": "e32a005c-a035-4938-8699-08dfeb569f4d",
   "metadata": {},
   "outputs": [],
   "source": [
    "## 12 linear dynamical 50 ecc torque\n",
    "testdata = os.path.join(os.getcwd(), 'test-data','08-09','IMMEC_dynamic_50ecc_5.0sec.npz')\n",
    "plot_optuna_data('dynamic//torque_dynamic-optuna-study')\n"
   ]
  },
  {
   "cell_type": "code",
   "execution_count": 5,
   "id": "5418ec76-36ed-4bff-af5e-6eeb179e6f4d",
   "metadata": {},
   "outputs": [
    {
     "name": "stderr",
     "output_type": "stream",
     "text": [
      "[I 2024-08-16 17:43:42,793] Study name was omitted but trying to load 'umpdynamic-optuna-study' because that was the only study found in the storage.\n"
     ]
    },
    {
     "name": "stdout",
     "output_type": "stream",
     "text": [
      "['umpdynamic-optuna-study']\n"
     ]
    },
    {
     "name": "stderr",
     "output_type": "stream",
     "text": [
      "[I 2024-08-16 17:43:43,387] Study name was omitted but trying to load 'umpdynamic_ecc-optuna-study' because that was the only study found in the storage.\n"
     ]
    },
    {
     "name": "stdout",
     "output_type": "stream",
     "text": [
      "Trial count: 422\n",
      "['umpdynamic_ecc-optuna-study']\n",
      "Trial count: 742\n"
     ]
    }
   ],
   "source": [
    "## 13 linear dynamical 50 ecc UMP\n",
    "testdata = os.path.join(os.getcwd(), 'test-data','08-09','IMMEC_dynamic_50ecc_5.0sec.npz')\n",
    "plot_optuna_data('dynamic//umpdynamic_ecc-optuna-study') # more samples\n",
    "\n",
    "#different study though... what is the difference?\n"
   ]
  },
  {
   "cell_type": "code",
   "execution_count": null,
   "id": "5e57adf7-85ac-4bdb-bfd6-4320b1c36aa3",
   "metadata": {},
   "outputs": [],
   "source": [
    "## 14 nonlinear dynamical 50 ecc currents\n",
    "#todo"
   ]
  },
  {
   "cell_type": "code",
   "execution_count": null,
   "id": "17821057-f91c-465b-bdea-fa1a3f73a1bf",
   "metadata": {},
   "outputs": [],
   "source": [
    "## 15 nonlinear dynamical 50 ecc torque\n",
    "#todo"
   ]
  },
  {
   "cell_type": "code",
   "execution_count": null,
   "id": "f9b3d129-00cf-4413-bd66-2dc361bd0e5d",
   "metadata": {},
   "outputs": [],
   "source": [
    "## 16 nonlinear dynamical 50 ecc UMP\n",
    "#todo"
   ]
  }
 ],
 "metadata": {
  "kernelspec": {
   "display_name": "Python 3 (ipykernel)",
   "language": "python",
   "name": "python3"
  },
  "language_info": {
   "codemirror_mode": {
    "name": "ipython",
    "version": 3
   },
   "file_extension": ".py",
   "mimetype": "text/x-python",
   "name": "python",
   "nbconvert_exporter": "python",
   "pygments_lexer": "ipython3",
   "version": "3.12.4"
  }
 },
 "nbformat": 4,
 "nbformat_minor": 5
}
