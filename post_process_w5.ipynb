{
 "cells": [
  {
   "cell_type": "code",
   "execution_count": null,
   "id": "5f11579c-0981-4b52-b7f7-702fec4e769a",
   "metadata": {},
   "outputs": [],
   "source": [
    "import os.path\n",
    "from optimize_parameters import plot_optuna_data\n",
    "from source import *\n",
    "from train_model_source import simulate_model, make_model\n",
    "%matplotlib QtAgg"
   ]
  },
  {
   "cell_type": "code",
   "execution_count": null,
   "id": "8b19fff2-6fec-418b-829b-4757f88074ae",
   "metadata": {},
   "outputs": [],
   "source": [
    "def plot_function(models,testdata, type, existing_plot, folder):\n",
    "    pref = \"_w5//\"\n",
    "    if not existing_plot:\n",
    "        for model in models:\n",
    "            do_sim = type=='currents'\n",
    "            sim, test = simulate_model(pref + model + '_model', testdata, \n",
    "                                       modeltype=type, do_time_simulation=do_sim,\n",
    "                                       show=False)\n",
    "    else:\n",
    "        show_coefs = False\n",
    "        if show_coefs:\n",
    "            for model_ in models:\n",
    "                model = load_model(pref + model_ + '_model')\n",
    "                plot_coefs2(model, log=True)\n",
    "        path = os.path.join(os.getcwd(), 'plot_data//_w5//', folder)\n",
    "        plot_everything(path)"
   ]
  },
  {
   "cell_type": "code",
   "execution_count": null,
   "id": "9c33bc4a-5131-4cda-a666-a57a27b3e3d9",
   "metadata": {},
   "outputs": [],
   "source": [
    "#############################\n",
    "## 1 linear model currents ##\n",
    "#############################\n",
    "testdata = os.path.join(os.getcwd(), 'test-data', '07-29-default', 'IMMEC_0ecc_5.0sec.npz')\n",
    "plot_optuna_data('_w5//currentslinear-optuna-study')\n",
    "\n",
    "models = [\"currents_linear_40\", \"currents_linear_300\"] \n",
    "\n",
    "plot_function(models, testdata, 'currents', False, 'currents')"
   ]
  },
  {
   "cell_type": "code",
   "execution_count": null,
   "id": "0a2956b6-80e7-4f16-87e5-dfd090b79492",
   "metadata": {},
   "outputs": [],
   "source": [
    "###########################\n",
    "## 2 linear model torque ##\n",
    "###########################\n",
    "testdata = os.path.join(os.getcwd(), 'test-data', '07-29-default', 'IMMEC_0ecc_5.0sec.npz')\n",
    "plot_optuna_data('_w5//torquelinear-optuna-study')\n",
    "\n",
    "models = ['torque_linear_8','torque_linear_16']\n",
    "\n",
    "plot_function(models, testdata, 'torque', True, 'torque')"
   ]
  },
  {
   "cell_type": "code",
   "execution_count": null,
   "id": "f2a8a108-d386-4c3a-8b53-3a88e598d20e",
   "metadata": {},
   "outputs": [],
   "source": [
    "################################\n",
    "## 3 nonlinear model currents ##\n",
    "################################\n",
    "testdata = os.path.join(os.getcwd(), 'test-data', '08-07', 'IMMEC_nonlin_0ecc_5.0sec.npz')\n",
    "plot_optuna_data('_w5//currentsnonlinear-optuna-study')\n",
    "\n",
    "models = ['currents_nonlinear_70','currents_nonlinear_100','currents_nonlinear_250']\n",
    "\n",
    "plot_function(models, testdata, 'currents', False, 'currents_nl')"
   ]
  },
  {
   "cell_type": "code",
   "execution_count": null,
   "id": "703c5357-9f13-477f-87e1-42e367fe6e45",
   "metadata": {},
   "outputs": [],
   "source": [
    "##############################\n",
    "## 4 nonlinear model torque ##\n",
    "##############################\n",
    "testdata = os.path.join(os.getcwd(), 'test-data', '08-07', 'IMMEC_nonlin_0ecc_5.0sec.npz')\n",
    "plot_optuna_data('_w5//torquenonlinear-optuna-study')\n",
    "\n",
    "models = ['torque_nonlinear_5', 'torque_nonlinear_40', 'torque_nonlinear_100']\n",
    "\n",
    "plot_function(models, testdata, 'torque', False, 'torque_nl')"
   ]
  },
  {
   "cell_type": "code",
   "execution_count": null,
   "id": "29ca7f03-185f-4bad-8fe1-552ea5490524",
   "metadata": {},
   "outputs": [],
   "source": [
    "#########################################\n",
    "## 5 linear model currents with 50 ecc ##\n",
    "#########################################\n",
    "testdata = os.path.join(os.getcwd(), 'test-data', '08-08', 'IMMEC_50ecc_ecc_5.0sec.npz')\n",
    "plot_optuna_data('_w5//currentslinear_50ecc-optuna-study')\n",
    "\n",
    "models = ['currents_linear_50ecc_45', 'currents_linear_50ecc_8']\n",
    "\n",
    "plot_function(models, testdata, 'currents', False, 'currents_50ecc')"
   ]
  },
  {
   "cell_type": "code",
   "execution_count": null,
   "id": "0359e714-e802-4a22-9293-0ca51ee17581",
   "metadata": {},
   "outputs": [],
   "source": [
    "#######################################\n",
    "## 6 linear model torque with 50 ecc ##\n",
    "########################################\n",
    "testdata = os.path.join(os.getcwd(), 'test-data', '08-08', 'IMMEC_50ecc_ecc_5.0sec.npz')\n",
    "plot_optuna_data('_w5//torquelinear_50ecc-optuna-study')\n",
    "\n",
    "models = ['torque_linear_50ecc_7', 'torque_linear_50ecc_30']\n",
    "\n",
    "plot_function(models, testdata, 'torque', False, 'torque_50ecc')"
   ]
  },
  {
   "cell_type": "code",
   "execution_count": null,
   "id": "b0cc480a-41f5-4104-92c0-6a02b4c25ba5",
   "metadata": {},
   "outputs": [],
   "source": [
    "####################################\n",
    "## 7 linear model UMP with 50 ecc ##\n",
    "####################################\n",
    "testdata = os.path.join(os.getcwd(), 'test-data', '08-08', 'IMMEC_50ecc_ecc_5.0sec.npz')\n",
    "plot_optuna_data('_w5//umplinear_50ecc-optuna-study')\n",
    "\n",
    "models = ['ump_linear_50ecc_30', 'ump_linear_50ecc_100']\n",
    "\n",
    "plot_function(models, testdata, 'ump', False, 'ump_50ecc')"
   ]
  },
  {
   "cell_type": "code",
   "execution_count": null,
   "id": "fe5a6a17-bf02-43ce-978c-fbbd6634665b",
   "metadata": {},
   "outputs": [],
   "source": [
    "############################################\n",
    "## 8 nonlinear model currents with 50 ecc ##\n",
    "############################################\n",
    "testdata = os.path.join(os.getcwd(), 'test-data', '08-07-nonlin-50ecc', 'IMMEC_nonlin_50ecc_5.0sec.npz')\n",
    "plot_optuna_data('_w5//currentsnonlinear_50ecc-optuna-study')\n",
    "\n",
    "models = ['currents_nonlinear_50ecc_70'] #, 'currents_nonlinear_50ecc_100', currents_nonlinear_50ecc_260']\n",
    "\n",
    "plot_function(models, testdata, 'currents', False, 'currents_nl_50ecc')"
   ]
  },
  {
   "cell_type": "code",
   "execution_count": null,
   "id": "0addc5ad-79d4-404a-a043-482717deb0d2",
   "metadata": {},
   "outputs": [],
   "source": [
    "##########################################\n",
    "## 9 nonlinear model torque with 50 ecc ##\n",
    "##########################################\n",
    "testdata = os.path.join(os.getcwd(), 'test-data', '08-07-nonlin-50ecc', 'IMMEC_nonlin_50ecc_5.0sec.npz')\n",
    "plot_optuna_data('_w5//torquenonlinear_50ecc-optuna-study')\n",
    "\n",
    "models = ['torque_nonlinear_50ecc_10', 'torque_nonlinear_50ecc_40']\n",
    "\n",
    "plot_function(models, testdata, 'torque', False, 'torque_nl_50ecc')"
   ]
  },
  {
   "cell_type": "code",
   "execution_count": null,
   "id": "ba85ea15-c729-496b-9b10-aa5b57563d7d",
   "metadata": {},
   "outputs": [],
   "source": [
    "########################################\n",
    "## 10 nonlinear model ump with 50 ecc ##\n",
    "########################################\n",
    "testdata = os.path.join(os.getcwd(), 'test-data', '08-07-nonlin-50ecc', 'IMMEC_nonlin_50ecc_5.0sec.npz')\n",
    "plot_optuna_data('_w5//umpnonlinear_50ecc-optuna-study')\n",
    "\n",
    "models = ['ump_nonlinear_50ecc_100', 'ump_nonlinear_50ecc_170'] #, 'ump_nonlinear_50ecc_300']\n",
    "\n",
    "plot_function(models, testdata, 'ump', False, 'ump_nl_50ecc')"
   ]
  },
  {
   "cell_type": "code",
   "execution_count": null,
   "id": "234aeac4-6045-4440-9d14-b7833bd767e4",
   "metadata": {},
   "outputs": [],
   "source": [
    "## 11 linear dynamical 50 ecc currents\n",
    "testdata = os.path.join(os.getcwd(), 'test-data','08-09','IMMEC_dynamic_50ecc_5.0sec.npz')\n",
    "plot_optuna_data('_w5//currentslinear_dynamic_50ecc-optuna-study')\n",
    "\n",
    "models = ['currents_linear_dynamic_50ecc_40'] #, 'currents_linear_dynamic_50ecc_300']\n",
    "\n",
    "plot_function(models, testdata, 'currents', False, 'currents_d')"
   ]
  },
  {
   "cell_type": "code",
   "execution_count": null,
   "id": "e32a005c-a035-4938-8699-08dfeb569f4d",
   "metadata": {},
   "outputs": [],
   "source": [
    "## 12 linear dynamical 50 ecc torque\n",
    "testdata = os.path.join(os.getcwd(), 'test-data','08-09','IMMEC_dynamic_50ecc_5.0sec.npz')\n",
    "plot_optuna_data('_w5//torquelinear_dynamic_50ecc-optuna-study')\n",
    "\n",
    "models = ['torque_linear_dynamic_50ecc_15', 'torque_linear_dynamic_50ecc_40', \n",
    "          'torque_linear_dynamic_50ecc_110']\n",
    "\n",
    "plot_function(models, testdata, 'torque', False, 'torque_d')"
   ]
  },
  {
   "cell_type": "code",
   "execution_count": null,
   "id": "5418ec76-36ed-4bff-af5e-6eeb179e6f4d",
   "metadata": {
    "scrolled": true
   },
   "outputs": [],
   "source": [
    "## 13 linear dynamical 50 ecc UMP\n",
    "testdata = os.path.join(os.getcwd(), 'test-data','08-09','IMMEC_dynamic_50ecc_5.0sec.npz')\n",
    "plot_optuna_data('_w5//umplinear_dynamic_50ecc-optuna-study')\n",
    "\n",
    "models = ['ump_linear_dynamic_50ecc_120']\n",
    "\n",
    "plot_function(models, testdata, 'ump', False, 'ump_d')"
   ]
  },
  {
   "cell_type": "code",
   "execution_count": null,
   "id": "5e57adf7-85ac-4bdb-bfd6-4320b1c36aa3",
   "metadata": {},
   "outputs": [],
   "source": [
    "## 14 nonlinear dynamical 50 ecc currents\n",
    "testdata = None\n",
    "plot_optuna_data('_w5//currentsnonlinear_dynamic_50ecc-optuna-study')\n",
    "\n",
    "models = ['currents_nonlinear_dynamic_50ecc_150'] #, 'currents_nonlinear_dynamic_50ecc_420']\n",
    "\n",
    "plot_function(models, testdata, 'currents', False, 'currents_d_nl')"
   ]
  },
  {
   "cell_type": "code",
   "execution_count": null,
   "id": "17821057-f91c-465b-bdea-fa1a3f73a1bf",
   "metadata": {},
   "outputs": [],
   "source": [
    "## 15 nonlinear dynamical 50 ecc torque\n",
    "testdata = None\n",
    "plot_optuna_data('_w5//torquenonlinear_dynamic_50ecc-optuna-study')\n",
    "\n",
    "models = ['torque_nonlinear_dynamic_50ecc_50'] #, 'torque_nonlinear_dynamic_50ecc_100']\n",
    "\n",
    "plot_function(models, testdata, 'torque', False, 'torque_d_nl')"
   ]
  },
  {
   "cell_type": "code",
   "execution_count": null,
   "id": "f9b3d129-00cf-4413-bd66-2dc361bd0e5d",
   "metadata": {},
   "outputs": [],
   "source": [
    "## 16 nonlinear dynamical 50 ecc UMP\n",
    "testdata = None\n",
    "plot_optuna_data('_w5//umpnonlinear_dynamic_50ecc-optuna-study')\n",
    "\n",
    "models = ['ump_nonlinear_dynamic_50ecc_150'] #, 'ump_nonlinear_dynamic_50ecc_150']\n",
    "\n",
    "plot_function(models, testdata, 'ump', False, 'ump_d_nl')"
   ]
  }
 ],
 "metadata": {
  "kernelspec": {
   "display_name": "Python 3 (ipykernel)",
   "language": "python",
   "name": "python3"
  },
  "language_info": {
   "codemirror_mode": {
    "name": "ipython",
    "version": 3
   },
   "file_extension": ".py",
   "mimetype": "text/x-python",
   "name": "python",
   "nbconvert_exporter": "python",
   "pygments_lexer": "ipython3",
   "version": "3.12.4"
  }
 },
 "nbformat": 4,
 "nbformat_minor": 5
}
