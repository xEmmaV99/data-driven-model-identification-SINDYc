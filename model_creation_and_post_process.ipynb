{
 "cells": [
  {
   "cell_type": "code",
   "execution_count": 18,
   "id": "5f11579c-0981-4b52-b7f7-702fec4e769a",
   "metadata": {},
   "outputs": [],
   "source": [
    "import os.path\n",
    "from optimize_parameters import plot_optuna_data\n",
    "from source import *\n",
    "from train_model_source import simulate_model, make_model\n",
    "%matplotlib QtAgg\n",
    "\n",
    "def plot_function(models,testdata, type, existing_plot, folder):\n",
    "    pref = \"_w5//\"\n",
    "    if not existing_plot:\n",
    "        for model in models:\n",
    "            do_sim = type=='currents'\n",
    "            sim, test = simulate_model(pref + model + '_model', testdata, \n",
    "                                       modeltype=type, do_time_simulation=do_sim,\n",
    "                                       show=False, ecc_input = False)\n",
    "    else:\n",
    "        show_coefs = True\n",
    "        if show_coefs:\n",
    "            for model_ in models:\n",
    "                model = load_model(pref + model_ + '_model')\n",
    "                plot_coefs2(model, log=True, type=type)\n",
    "        path = os.path.join(os.getcwd(), 'plot_data//_w5//', folder)\n",
    "        plot_everything(path)"
   ]
  },
  {
   "cell_type": "markdown",
   "id": "1907930b-13b0-496b-9fa4-bb15fcc8984b",
   "metadata": {},
   "source": [
    "## Tabel of contents\n",
    "\n",
    "[Linear model currents](#1-linear-model-currents)\n",
    "\n",
    "[Linear model torque](#2-linear-model-torque)\n",
    "\n",
    "[Nonlinear model currents](#3-nonlinear-model-currents)\n",
    "\n",
    "[Nonlinear model torque](#4-nonlinear-model-torque)\n",
    "\n",
    "[Linear model currents 50](#5-linear-mlodel-currents-with-50-ecc)\n",
    "\n",
    "[Linear model torque 50](#6-linear-model-torque-with-50-ecc)\n",
    "\n",
    "[Linear model ump 50](#7-linear-model-ump-with-50-ecc)\n",
    "\n",
    "[Nonlinear model currents 50](#8-nonlinear-model-currents-with-50-ecc)\n",
    "\n",
    "[Nonlinear model torque 50](#9-nonlinear-model-torque-with-50-ecc)\n",
    "\n",
    "[Nonlinear model ump 50](#10-nonlinear-model-ump-with-50-ecc)\n",
    "\n",
    "[Linear dynamic model currents](#11-linear-dynamical-50-ecc-currents)\n",
    "\n",
    "[Linear dynamic model torque](#12-linear-dynamical-50-ecc-torque)\n",
    "\n",
    "[Linear dynamic model ump](#13-linear-dynamical-50-ecc-ump)\n",
    "\n",
    "[Nonlinear dynamic model currents](#14-nonlinear-dynamical-50-ecc-currents)\n",
    "\n",
    "[Nonlinear dynamic model torque](#15-nonlinear-dynamical-50-ecc-torque)\n",
    "\n",
    "[Nonlinear dynamic model ump](#16-nonlinear-dynamical-50-ecc-ump)\n",
    "\n",
    "[Nonlinear model ump](#17-nonlinear-ump-0-ecc)"
   ]
  },
  {
   "cell_type": "markdown",
   "id": "2a3413cd-030a-4716-9eca-d01b33ffaffc",
   "metadata": {},
   "source": [
    "#### 1 linear model currents"
   ]
  },
  {
   "cell_type": "code",
   "execution_count": 3,
   "id": "10d151c1-d0ec-48cd-b376-0b0210e80818",
   "metadata": {},
   "outputs": [
    {
     "name": "stderr",
     "output_type": "stream",
     "text": [
      "[I 2024-09-27 11:06:44,712] Study name was omitted but trying to load 'optuna_studies//currentslinear-optuna-study' because that was the only study found in the storage.\n"
     ]
    },
    {
     "name": "stdout",
     "output_type": "stream",
     "text": [
      "['optuna_studies//currentslinear-optuna-study']\n",
      "Trial count: 1045\n"
     ]
    }
   ],
   "source": [
    "traindata = os.path.join(os.getcwd(), 'train-data', '07-29-default', 'IMMEC_0ecc_5.0sec.npz')\n",
    "plot_optuna_data('_w5//currentslinear-optuna-study')"
   ]
  },
  {
   "cell_type": "code",
   "execution_count": 4,
   "id": "5d64850c-313b-49be-a9f7-846b96742fa3",
   "metadata": {},
   "outputs": [
    {
     "name": "stdout",
     "output_type": "stream",
     "text": [
      "ecc input  True\n",
      "Loading data\n",
      "Done loading data\n",
      "Calculating xdots\n",
      "Assume all t_vec are equal for all simulations\n",
      "Done calculating xdots\n",
      "time trim:  0.5\n",
      "Zero ecc, added as zero to input data\n",
      "Fitting model\n",
      "(i_d)' = -493.5628803838 i_d + 68.9403392019 i_q + 38.6098511306 v_d + -5.1703906815 v_q + -3104.7674142555 I_d + 449.6993474701 I_q + 499.1272100332 V_d + -69.5192663016 V_q + -1.0009490945 \\omega i_q + -33.0465898326 \\omega I_d + -237.6637495514 \\omega I_q + 5.0866047480 \\omega V_d + 38.7537732333 \\omega V_q + 0.1297163696 v_d V_d + 0.1296719240 v_q V_q\n",
      "(i_q)' = -52.9337986939 i_d + -475.8104505007 i_q + 8.8109794393 v_d + 39.9804383845 v_q + -359.1453415266 I_d + -2962.7157565952 I_q + 57.1124925686 V_d + 478.9478652216 V_q + 0.7059608755 \\gamma I_d + -0.6945340730 \\gamma I_q + 373.9367145759 \\gamma V_0 + 1.0028790346 \\omega i_d + 230.1149836640 \\omega I_d + -23.7752991672 \\omega I_q + -37.2696920562 \\omega V_d + 4.1022738218 \\omega V_q + -6.0468407461 \\omega V_0 + -4.2702760572 v_d V_d + -4.2702540244 v_q V_q\n",
      "(i_0)' = 0.0000000000\n",
      "Non-zero elements:  34\n",
      "MSE: 36.36759358100924\n",
      "Saving model\n"
     ]
    },
    {
     "data": {
      "text/plain": [
       "' # Takes really long to run, also dc term is not zero\\nmodel2 = make_model(traindata, modeltype=\\'currents\\', optimizer=\\'STLSQ\\',\\n                    nmbr_of_train=-1, lib=\"nonlinear_terms\", alpha = .2, threshold = .458,\\n                    modelname=\\'currents_linear_300\\')\\n'"
      ]
     },
     "execution_count": 4,
     "metadata": {},
     "output_type": "execute_result"
    }
   ],
   "source": [
    "model1 = make_model(traindata, modeltype='currents', optimizer='STLSQ',\n",
    "               nmbr_of_train=-1, lib='linear-specific', alpha = 1.716, threshold = 0.65,\n",
    "               modelname='currents_linear_40')\n",
    "\n",
    "''' # Takes really long to run, also dc term is not zero\n",
    "model2 = make_model(traindata, modeltype='currents', optimizer='STLSQ',\n",
    "                    nmbr_of_train=-1, lib=\"nonlinear_terms\", alpha = .2, threshold = .458,\n",
    "                    modelname='currents_linear_300')\n",
    "'''"
   ]
  },
  {
   "cell_type": "code",
   "execution_count": null,
   "id": "a51e3eb1-70f5-44a2-bc63-89994cf7f7ed",
   "metadata": {},
   "outputs": [],
   "source": [
    "testdata = os.path.join(os.getcwd(), 'test-data', '07-29-default', 'IMMEC_0ecc_5.0sec.npz')\n",
    "#testdata = os.path.join(os.getcwd(), 'test-data','08-19','IMMEC_dynamic_linear_5.0sec.npz') # dynamic eccentricity test\n",
    "\n",
    "models = [\"currents_linear_40\"] \n",
    "\n",
    "plot_function(models, testdata, 'currents', True, 'currents')\n",
    "plot_function(models, testdata, 'currents', True, 'currents_dynamic')\n",
    "# so, the dynamic eccentricity current model is really easy to learn"
   ]
  },
  {
   "cell_type": "markdown",
   "id": "bb6aa72b-64b1-4e0b-a78a-58722fbb7f4c",
   "metadata": {},
   "source": [
    "#### 2 linear model torque "
   ]
  },
  {
   "cell_type": "code",
   "execution_count": 3,
   "id": "0d8eb0b7-9415-4a35-8a0b-e99672f94945",
   "metadata": {},
   "outputs": [
    {
     "name": "stderr",
     "output_type": "stream",
     "text": [
      "[I 2025-02-12 09:47:32,852] Study name was omitted but trying to load 'optuna_studies//torquelinear-optuna-study' because that was the only study found in the storage.\n"
     ]
    },
    {
     "name": "stdout",
     "output_type": "stream",
     "text": [
      "['optuna_studies//torquelinear-optuna-study']\n",
      "Trial count: 1000\n"
     ]
    }
   ],
   "source": [
    "traindata = os.path.join(os.getcwd(), 'train-data', '07-29-default', 'IMMEC_0ecc_5.0sec.npz')\n",
    "plot_optuna_data('_w5//torquelinear-optuna-study')"
   ]
  },
  {
   "cell_type": "code",
   "execution_count": null,
   "id": "7875db9e-0d54-48b9-89a1-46fe209062c5",
   "metadata": {},
   "outputs": [],
   "source": [
    "model1 = make_model(traindata, modeltype='torque', optimizer='STLSQ',\n",
    "               nmbr_of_train=-1, lib='torque', alpha = 1.9e-5, threshold = 0.017,\n",
    "               modelname='torque_linear_8')\n",
    "model2 = make_model(traindata, modeltype='torque', optimizer='STLSQ',\n",
    "                    nmbr_of_train=-1, lib='poly_2nd_order', alpha = .008, threshold = .026,\n",
    "                    modelname='torque_linear_16')"
   ]
  },
  {
   "cell_type": "code",
   "execution_count": null,
   "id": "fe4539c4-1342-411c-b432-94ba7bb2722a",
   "metadata": {},
   "outputs": [],
   "source": [
    "testdata = os.path.join(os.getcwd(), 'test-data', '07-29-default', 'IMMEC_0ecc_5.0sec.npz')\n",
    "\n",
    "models = ['torque_linear_8','torque_linear_16']\n",
    "\n",
    "plot_function(models, testdata, 'torque', True, 'torque')"
   ]
  },
  {
   "cell_type": "markdown",
   "id": "a860610b-6715-48a8-ba11-d0319001b7f8",
   "metadata": {},
   "source": [
    "#### 3 nonlinear model currents"
   ]
  },
  {
   "cell_type": "code",
   "execution_count": 4,
   "id": "4f5cd114-30f6-45a3-b249-56f9b67168a5",
   "metadata": {},
   "outputs": [
    {
     "name": "stderr",
     "output_type": "stream",
     "text": [
      "[I 2025-02-12 09:48:35,820] Study name was omitted but trying to load 'optuna_studies//currentsnonlinear-optuna-study' because that was the only study found in the storage.\n"
     ]
    },
    {
     "name": "stdout",
     "output_type": "stream",
     "text": [
      "['optuna_studies//currentsnonlinear-optuna-study']\n",
      "Trial count: 1013\n"
     ]
    }
   ],
   "source": [
    "traindata = os.path.join(os.getcwd(), 'train-data', '07-31-nonlin', 'IMMEC_nonlinear-0ecc_5.0sec.npz')\n",
    "plot_optuna_data('_w5//currentsnonlinear-optuna-study')"
   ]
  },
  {
   "cell_type": "code",
   "execution_count": null,
   "id": "41db60c0-e800-4c17-87f6-2e48a088b683",
   "metadata": {},
   "outputs": [],
   "source": [
    "model1 = make_model(traindata, modeltype='currents', optimizer='STLSQ',\n",
    "               nmbr_of_train=-1, lib='linear-specific', alpha = .0257, threshold = 0.7,\n",
    "               modelname='currents_nonlinear_70')\n",
    "model2 = make_model(traindata, modeltype='currents', optimizer='lasso',\n",
    "               nmbr_of_train=-1, lib='interaction_only', alpha = 94.2,\n",
    "                    modelname='currents_nonlinear_100')\n",
    "model3 = make_model(traindata, modeltype='currents', optimizer='STLSQ',\n",
    "               nmbr_of_train=-1, lib='interaction_only', alpha = 55, threshold = .9,\n",
    "                    modelname='currents_nonlinear_250')"
   ]
  },
  {
   "cell_type": "code",
   "execution_count": 7,
   "id": "486bcc95-e7e6-45c3-a65b-4f22f2a279f4",
   "metadata": {},
   "outputs": [
    {
     "name": "stdout",
     "output_type": "stream",
     "text": [
      "(i_d)' = -42.388 i_d + 896.516 i_q + 9.373 v_d + -59.191 v_q + -22.963 v_0 + 405.796 I_d + 5384.243 I_q + 111.474 V_d + -856.307 V_q + 600.907 V_0 + 2.414 \\gamma I_d + -9.247 \\gamma I_q + -188.655 \\gamma V_0 + -0.806 \\omega i_q + -503.854 \\omega I_d + 12.888 \\omega I_q + 66.483 \\omega V_d + 2.770 \\omega V_q + 46.555 v_d I_d + 74.129 v_d I_q + -15.158 v_d V_d + -8.089 v_d V_q + -1.559 v_d V_0 + -62.433 v_q I_d + 47.256 v_q I_q + 7.945 v_q V_d + -15.281 v_q V_q + -8.791 v_q V_0 + 1.008 v_0 i_d + 14.800 v_0 I_d + 177.931 v_0 I_q + 2.972 v_0 V_q + -32.532 v_0 V_0\n",
      "(i_q)' = -800.777 i_d + -94.832 i_q + 139.028 v_d + 43.231 v_q + -8.701 v_0 + -4504.751 I_d + -34.611 I_q + 651.984 V_d + 214.005 V_q + -153.338 V_0 + 1.391 \\gamma i_d + -2.070 \\gamma i_q + -35.484 \\gamma I_d + 45.737 \\gamma I_q + 5.393 \\gamma V_q + -43.858 \\gamma V_0 + 18.153 \\omega I_d + -510.124 \\omega I_q + -3.116 \\omega V_d + 76.256 \\omega V_q + 1.263 \\omega V_0 + 12.053 v_d I_d + 23.697 v_d I_q + -59.784 v_d V_d + -2.500 v_d V_q + -3.481 v_d V_0 + -21.023 v_q I_d + 16.276 v_q I_q + 2.522 v_q V_d + -59.869 v_q V_q + -3.797 v_0 I_d + 70.796 v_0 I_q + 1.870 v_0 V_d + 81.919 v_0 V_0\n",
      "(i_0)' = 0.000\n",
      "Sparsity:  67\n",
      "currents100.pkl\n",
      "currents250.pkl\n",
      "currents70.pkl\n",
      "currents_simulation100.pkl\n",
      "currents_simulation250.pkl\n",
      "currents_simulation70.pkl\n"
     ]
    }
   ],
   "source": [
    "testdata = os.path.join(os.getcwd(), 'test-data', '08-07', 'IMMEC_nonlin_0ecc_5.0sec.npz')\n",
    "\n",
    "models = ['currents_nonlinear_70','currents_nonlinear_100','currents_nonlinear_250']\n",
    "\n",
    "plot_function(models, testdata, 'currents', True, 'currents_nl')"
   ]
  },
  {
   "cell_type": "markdown",
   "id": "77493e8d-5fe5-4093-9941-fd6becde4381",
   "metadata": {},
   "source": [
    "#### 4 nonlinear model torque "
   ]
  },
  {
   "cell_type": "code",
   "execution_count": 8,
   "id": "dfe2f446-e99c-4a8f-a223-4c57c726612d",
   "metadata": {},
   "outputs": [
    {
     "name": "stderr",
     "output_type": "stream",
     "text": [
      "[I 2025-02-12 09:59:39,805] Study name was omitted but trying to load 'optuna_studies//torquenonlinear-optuna-study' because that was the only study found in the storage.\n"
     ]
    },
    {
     "name": "stdout",
     "output_type": "stream",
     "text": [
      "['optuna_studies//torquenonlinear-optuna-study']\n",
      "Trial count: 1607\n"
     ]
    }
   ],
   "source": [
    "traindata = os.path.join(os.getcwd(), 'train-data', '07-31-nonlin', 'IMMEC_nonlinear-0ecc_5.0sec.npz')\n",
    "plot_optuna_data('_w5//torquenonlinear-optuna-study')"
   ]
  },
  {
   "cell_type": "code",
   "execution_count": null,
   "id": "977dea7a-86cb-44e3-bb68-5ab91f009ac2",
   "metadata": {},
   "outputs": [],
   "source": [
    "model1 = make_model(traindata, modeltype='torque', optimizer='STLSQ',\n",
    "               nmbr_of_train=-1, lib='poly_2nd_order', alpha = 1.94, threshold = 0.126,\n",
    "               modelname='torque_nonlinear_5')\n",
    "model2 = make_model(traindata, modeltype='torque', optimizer='STLSQ',\n",
    "               nmbr_of_train=-1, lib='poly_2nd_order', alpha = .00616, threshold = .006,\n",
    "               modelname='torque_nonlinear_40')\n",
    "model3 = make_model(traindata, modeltype='torque', optimizer='STLSQ',\n",
    "               nmbr_of_train=-1, lib='interaction_only', alpha = .0202, threshold = 0.00913,\n",
    "               modelname='torque_nonlinear_100')"
   ]
  },
  {
   "cell_type": "code",
   "execution_count": null,
   "id": "a9a17d0c-7609-4474-9912-ecfa43cbcc01",
   "metadata": {},
   "outputs": [],
   "source": [
    "testdata = os.path.join(os.getcwd(), 'test-data', '08-07', 'IMMEC_nonlin_0ecc_5.0sec.npz')\n",
    "\n",
    "models = ['torque_nonlinear_5', 'torque_nonlinear_40', 'torque_nonlinear_100']\n",
    "\n",
    "plot_function(models, testdata, 'torque', True, 'torque_nl')"
   ]
  },
  {
   "cell_type": "markdown",
   "id": "ffd198cb-c154-4019-aaf6-d990ab7bb6b1",
   "metadata": {
    "jp-MarkdownHeadingCollapsed": true
   },
   "source": [
    "#### 5 linear model currents with 50 ecc "
   ]
  },
  {
   "cell_type": "code",
   "execution_count": null,
   "id": "6ba1e9fc-65df-4d31-9b6b-13430fba24c5",
   "metadata": {},
   "outputs": [],
   "source": [
    "traindata = os.path.join(os.getcwd(), 'train-data', '07-31-ecc-50', 'IMMEC_50ecc_5.0sec.npz')\n",
    "plot_optuna_data('_w5//currentslinear_50ecc-optuna-study')"
   ]
  },
  {
   "cell_type": "code",
   "execution_count": null,
   "id": "a6f98334-da3c-4829-9377-b5b220ed6a88",
   "metadata": {},
   "outputs": [],
   "source": [
    "model1 = make_model(traindata, modeltype='currents', optimizer='STLSQ',\n",
    "               nmbr_of_train=-1, lib='linear-specific', alpha = .0047, threshold = 0.926,\n",
    "               modelname='currents_linear_50ecc_45')\n",
    "model2 = make_model(traindata, modeltype='currents', optimizer='lasso',\n",
    "               nmbr_of_train=-1, lib='linear-specific', alpha = 50.16,\n",
    "               modelname='currents_linear_50ecc_8')"
   ]
  },
  {
   "cell_type": "code",
   "execution_count": null,
   "id": "d02d77b4-c6bc-4797-a432-ff0e2ed6e199",
   "metadata": {},
   "outputs": [],
   "source": [
    "testdata = os.path.join(os.getcwd(), 'test-data', '08-08', 'IMMEC_50ecc_ecc_5.0sec.npz')\n",
    "#testdata = os.path.join(os.getcwd(), 'test-data', '07-29-default', 'IMMEC_0ecc_5.0sec.npz')\n",
    "\n",
    "models = ['currents_linear_50ecc_45', 'currents_linear_50ecc_8']\n",
    "\n",
    "plot_function(models, testdata, 'currents', True, 'currents_50')"
   ]
  },
  {
   "cell_type": "markdown",
   "id": "ddb4aade-bf3d-42a1-aca7-7d3a5319ccf7",
   "metadata": {
    "jp-MarkdownHeadingCollapsed": true
   },
   "source": [
    "#### 6 linear model torque with 50 ecc"
   ]
  },
  {
   "cell_type": "code",
   "execution_count": null,
   "id": "f856fad3-56c4-4e61-9f31-2d0ad2c35370",
   "metadata": {},
   "outputs": [],
   "source": [
    "traindata = os.path.join(os.getcwd(), 'train-data', '07-31-ecc-50', 'IMMEC_50ecc_5.0sec.npz')\n",
    "plot_optuna_data('_w5//torquelinear_50ecc-optuna-study')"
   ]
  },
  {
   "cell_type": "code",
   "execution_count": null,
   "id": "e4df10e3-9475-4408-a9b7-9cc665e2ba13",
   "metadata": {},
   "outputs": [],
   "source": [
    "model1 = make_model(traindata, modeltype='torque', optimizer =\"STLSQ\",\n",
    "                    nmbr_of_train=-1, lib='nonlinear_terms', alpha = .041, threshold = 0.215,\n",
    "                    modelname='torque_linear_50ecc_7')\n",
    "model2 = make_model(traindata, modeltype='torque', optimizer =\"STLSQ\",\n",
    "                    nmbr_of_train=-1, lib='poly_2nd_order', alpha = .0001, threshold = 0.076,\n",
    "                    modelname='torque_linear_50ecc_30')"
   ]
  },
  {
   "cell_type": "code",
   "execution_count": null,
   "id": "bacc711a-faec-49c2-bc9a-0554fedd2461",
   "metadata": {},
   "outputs": [],
   "source": [
    "testdata = os.path.join(os.getcwd(), 'test-data', '08-08', 'IMMEC_50ecc_ecc_5.0sec.npz')\n",
    "\n",
    "models = ['torque_linear_50ecc_7', 'torque_linear_50ecc_30']\n",
    "\n",
    "plot_function(models, testdata, 'torque', True, 'torque_50')"
   ]
  },
  {
   "cell_type": "markdown",
   "id": "bdd09e35-0739-4edb-991d-c8ce5f39216a",
   "metadata": {
    "jp-MarkdownHeadingCollapsed": true
   },
   "source": [
    "#### 7 linear model UMP with 50 ecc "
   ]
  },
  {
   "cell_type": "code",
   "execution_count": null,
   "id": "3f63d463-bdbd-4657-a9b2-5984a3c979af",
   "metadata": {},
   "outputs": [],
   "source": [
    "traindata = os.path.join(os.getcwd(), 'train-data', '07-31-ecc-50', 'IMMEC_50ecc_5.0sec.npz')\n",
    "plot_optuna_data('_w5//umplinear_50ecc-optuna-study')"
   ]
  },
  {
   "cell_type": "code",
   "execution_count": null,
   "id": "2f9d928b-5c8e-4694-876b-9deb01a0e57e",
   "metadata": {},
   "outputs": [],
   "source": [
    "model1 = make_model(traindata, modeltype='ump', optimizer =\"STLSQ\",\n",
    "                    nmbr_of_train=-1, lib='torque', alpha = 3.6e-5, threshold = 0.008,\n",
    "                    modelname='ump_linear_50ecc_30')\n",
    "\n",
    "model2 = make_model(traindata, modeltype='ump', optimizer =\"STLSQ\",\n",
    "                    nmbr_of_train=-1, lib='poly_2nd_order', alpha = 92.8, threshold = 0.74,\n",
    "                    modelname='ump_linear_50ecc_100')\n",
    "\n",
    "model3 = make_model(traindata, modeltype='ump', optimizer =\"STLSQ\",\n",
    "                    nmbr_of_train=-1, lib='linear-specific', alpha = 2.44, threshold = 0.577,\n",
    "                    modelname='ump_linear_50ecc_70')"
   ]
  },
  {
   "cell_type": "code",
   "execution_count": null,
   "id": "a145c1ca-fba1-4d44-9430-3eaffa0dcff5",
   "metadata": {},
   "outputs": [],
   "source": [
    "testdata = os.path.join(os.getcwd(), 'test-data', '08-08', 'IMMEC_50ecc_ecc_5.0sec.npz')\n",
    "\n",
    "models = ['ump_linear_50ecc_30', 'ump_linear_50ecc_70','ump_linear_50ecc_100']\n",
    "\n",
    "plot_function(models, testdata, 'ump', True, 'ump_50')"
   ]
  },
  {
   "cell_type": "markdown",
   "id": "72e8d012-f2ef-41c2-ae14-796909e9dd8b",
   "metadata": {
    "jp-MarkdownHeadingCollapsed": true
   },
   "source": [
    "#### 8 nonlinear model currents with 50 ecc "
   ]
  },
  {
   "cell_type": "code",
   "execution_count": 9,
   "id": "432c5947-2a80-4fbe-998d-d3dcaf68d459",
   "metadata": {},
   "outputs": [
    {
     "name": "stderr",
     "output_type": "stream",
     "text": [
      "[I 2025-02-12 10:08:06,521] Study name was omitted but trying to load 'optuna_studies//currentsnonlinear_50ecc-optuna-study' because that was the only study found in the storage.\n"
     ]
    },
    {
     "name": "stdout",
     "output_type": "stream",
     "text": [
      "['optuna_studies//currentsnonlinear_50ecc-optuna-study']\n",
      "Trial count: 1000\n"
     ]
    }
   ],
   "source": [
    "traindata = os.path.join(os.getcwd(), 'train-data', '07-31-nonlin50', 'IMMEC_nonlinear-50ecc_5.0sec.npz')\n",
    "plot_optuna_data('_w5//currentsnonlinear_50ecc-optuna-study')"
   ]
  },
  {
   "cell_type": "code",
   "execution_count": null,
   "id": "e9f1ac98-b52b-4f33-aee6-c38814896360",
   "metadata": {},
   "outputs": [],
   "source": [
    "model1 =  make_model(traindata, modeltype='currents', optimizer =\"STLSQ\",\n",
    "                    nmbr_of_train=-1, lib='linear-specific', alpha = 2.78, threshold = 0.616,\n",
    "                    modelname='currents_nonlinear_50ecc_70')\n",
    "\n",
    "# takes really long to make, memory error -> need to generate on a pc instead of laptop\n",
    "# Memory Error vvvvvvvvvv\n",
    "'''\n",
    "model2 =  make_model(traindata, modeltype='currents', optimizer =\"lasso\",\n",
    "                    nmbr_of_train=-1, lib='interaction_only', alpha = 73.7,\n",
    "                    modelname='currents_nonlinear_50ecc_100')\n",
    "\n",
    "model3 =  make_model(traindata, modeltype='currents', optimizer =\"STLSQ\",\n",
    "                    nmbr_of_train=-1, lib='interaction_only', alpha = 49.0, threshold = .88,\n",
    "                    modelname='currents_nonlinear_50ecc_260')\n",
    "'''"
   ]
  },
  {
   "cell_type": "code",
   "execution_count": 11,
   "id": "f13fd3da-accd-4c0d-a31d-4b8782729436",
   "metadata": {},
   "outputs": [
    {
     "name": "stdout",
     "output_type": "stream",
     "text": [
      "(i_d)' = -82.998 i_d + 761.640 i_q + 14.752 v_d + -46.938 v_q + -23.964 v_0 + 79.178 I_d + 4631.086 I_q + 160.176 V_d + -706.000 V_q + 1511.940 V_0 + -0.806 \\gamma i_d + -0.480 \\gamma i_q + 12.109 \\gamma I_d + -39.150 \\gamma I_q + 0.598 \\gamma V_q + -178.277 \\gamma V_0 + -0.768 \\omega i_q + -440.052 \\omega I_d + -15.677 \\omega I_q + 55.814 \\omega V_d + 7.336 \\omega V_q + -8.759 \\omega V_0 + 50.023 v_d I_d + 78.457 v_d I_q + -16.714 v_d V_d + -8.325 v_d V_q + -1.887 v_d V_0 + -70.302 v_q I_d + 51.236 v_q I_q + 8.261 v_q V_d + -16.818 v_q V_q + -4.281 v_q V_0 + 97.559 v_0 I_d + 69.148 v_0 I_q + 0.785 v_0 V_d + -51.700 v_0 V_0\n",
      "(i_q)' = -675.526 i_d + -34.967 i_q + 63.314 v_d + 6.095 v_q + -5.031 v_0 + -4517.643 I_d + 99.596 I_q + 699.458 V_d + 113.128 V_q + 667.953 V_0 + -1.806 \\gamma i_q + -71.760 \\gamma I_d + 65.340 \\gamma I_q + 3.141 \\gamma V_d + 4.901 \\gamma V_q + -4.536 \\gamma V_0 + 0.791 \\omega i_d + -5.083 \\omega I_d + -357.379 \\omega I_q + 55.462 \\omega V_q + 12.459 v_d I_d + 14.980 v_d I_q + -9.650 v_d V_d + -1.406 v_d V_q + -2.284 v_d V_0 + -13.802 v_q I_d + 15.844 v_q I_q + 1.438 v_q V_d + -9.698 v_q V_q + 8.493 v_0 I_d + 32.880 v_0 I_q + 1.046 v_0 V_d + -9.958 v_0 V_0\n",
      "(i_0)' = 0.000\n",
      "Sparsity:  69\n",
      "currents70.pkl\n",
      "currents_simulation70.pkl\n"
     ]
    }
   ],
   "source": [
    "testdata = os.path.join(os.getcwd(), 'test-data', '08-07-nonlin-50ecc', 'IMMEC_nonlin_50ecc_5.0sec.npz')\n",
    "\n",
    "models = ['currents_nonlinear_50ecc_70'] #, 'currents_nonlinear_50ecc_100', currents_nonlinear_50ecc_260']\n",
    "\n",
    "plot_function(models, testdata, 'currents', True, 'currents_50_nl')"
   ]
  },
  {
   "cell_type": "markdown",
   "id": "e41511b8-6570-471b-a505-05530d6bd536",
   "metadata": {
    "jp-MarkdownHeadingCollapsed": true
   },
   "source": [
    "#### 9 nonlinear model torque with 50 ecc"
   ]
  },
  {
   "cell_type": "code",
   "execution_count": null,
   "id": "8e4f2b7c-9100-4e5c-bb85-63b3ed71df43",
   "metadata": {},
   "outputs": [],
   "source": [
    "traindata = os.path.join(os.getcwd(), 'train-data', '07-31-nonlin50', 'IMMEC_nonlinear-50ecc_5.0sec.npz')\n",
    "plot_optuna_data('_w5//torquenonlinear_50ecc-optuna-study')"
   ]
  },
  {
   "cell_type": "code",
   "execution_count": null,
   "id": "e4387a8d-f10a-4c20-b663-6f7dc69f7338",
   "metadata": {},
   "outputs": [],
   "source": [
    "model1 =  make_model(traindata, modeltype='torque', optimizer =\"STLSQ\",\n",
    "                    nmbr_of_train=-1, lib='poly_2nd_order', alpha = 5.45, threshold = 0.066,\n",
    "                    modelname='torque_nonlinear_50ecc_10')\n",
    "\n",
    "model2 =  make_model(traindata, modeltype='torque', optimizer =\"STLSQ\",\n",
    "                    nmbr_of_train=-1, lib='poly_2nd_order', alpha = 0.0668, threshold = 0.016,\n",
    "                    modelname='torque_nonlinear_50ecc_40')"
   ]
  },
  {
   "cell_type": "code",
   "execution_count": 12,
   "id": "67ffd2d9-39de-4ff7-98d7-b74f23822a50",
   "metadata": {},
   "outputs": [
    {
     "name": "stdout",
     "output_type": "stream",
     "text": [
      "(i_d)' = -0.020 i_q + 0.523 I_d + -1.200 I_q + -0.105 V_d + 0.125 V_q + 0.031 i_d I_d + 6.133 i_d I_q + -1.001 i_d V_q + -6.007 i_q I_d + -0.108 i_q I_q + 0.997 i_q V_d + 0.359 i_q V_0 + -0.118 v_0 I_d + 0.201 v_0 I_q + -1.181 v_0 V_0 + 0.163 I_d V_d + -0.881 I_d V_q + 1.197 I_q^2 + 0.779 I_q V_d + 0.262 I_q V_q\n",
      "Sparsity:  20\n",
      "(i_d)' = -0.482 i_d + 0.531 i_q + 0.032 v_d + -0.035 v_q + -4.828 I_d + 3.975 I_q + 3.846 V_d + 1.138 V_q + 5.430 V_0 + -0.031 \\omega + 1.302 i_d I_d + 7.422 i_d I_q + -0.024 i_d V_d + -0.780 i_d V_q + -0.176 i_d V_0 + -8.036 i_q I_d + 0.525 i_q I_q + 0.762 i_q V_d + 0.641 i_q V_0 + -0.051 v_d I_d + -0.096 v_d I_q + -0.020 v_d V_q + 0.103 v_q I_d + -0.053 v_q I_q + 0.020 v_q V_d + -0.276 v_0 V_0 + 11.503 I_d^2 + -5.339 I_d I_q + -1.627 I_d V_d + 4.866 I_d V_q + -44.329 I_d V_0 + 6.051 I_q^2 + -3.296 I_q V_d + -0.622 I_q V_q + 20.873 I_q V_0 + -0.013 I_q \\omega + -1.467 V_d^2 + 0.223 V_d V_0 + -1.503 V_q^2\n",
      "Sparsity:  39\n",
      "Torque10.pkl\n",
      "Torque40.pkl\n"
     ]
    }
   ],
   "source": [
    "testdata = os.path.join(os.getcwd(), 'test-data', '08-07-nonlin-50ecc', 'IMMEC_nonlin_50ecc_5.0sec.npz')\n",
    "\n",
    "models = ['torque_nonlinear_50ecc_10', 'torque_nonlinear_50ecc_40']\n",
    "\n",
    "plot_function(models, testdata, 'torque', True, 'torque_50_nl')"
   ]
  },
  {
   "cell_type": "markdown",
   "id": "8e7051c6-7a8b-4e4d-b891-04387450e072",
   "metadata": {},
   "source": [
    "#### 10 nonlinear model ump with 50 ecc "
   ]
  },
  {
   "cell_type": "code",
   "execution_count": 13,
   "id": "2214a444-0bb8-4ecc-be9b-082a682c06b7",
   "metadata": {},
   "outputs": [
    {
     "name": "stdout",
     "output_type": "stream",
     "text": [
      "['optuna_studies//umpnonlinear_50ecc-optuna-study']\n"
     ]
    },
    {
     "name": "stderr",
     "output_type": "stream",
     "text": [
      "[I 2025-02-12 11:06:10,481] Study name was omitted but trying to load 'optuna_studies//umpnonlinear_50ecc-optuna-study' because that was the only study found in the storage.\n"
     ]
    },
    {
     "name": "stdout",
     "output_type": "stream",
     "text": [
      "Trial count: 1000\n"
     ]
    }
   ],
   "source": [
    "traindata = os.path.join(os.getcwd(), 'train-data', '07-31-nonlin50', 'IMMEC_nonlinear-50ecc_5.0sec.npz')\n",
    "plot_optuna_data('_w5//umpnonlinear_50ecc-optuna-study')"
   ]
  },
  {
   "cell_type": "code",
   "execution_count": null,
   "id": "8c952cba-5f87-43a3-9dc5-cb1116e63831",
   "metadata": {},
   "outputs": [],
   "source": [
    "model1 =  make_model(traindata, modeltype='ump', optimizer =\"STLSQ\",\n",
    "                    nmbr_of_train=-1, lib='poly_2nd_order', alpha = 5.076, threshold = 0.7317,\n",
    "                    modelname='ump_nonlinear_50ecc_100')\n",
    "model2 =  make_model(traindata, modeltype='ump', optimizer =\"STLSQ\",\n",
    "                    nmbr_of_train=-1, lib='poly_2nd_order', alpha = 2.6e-5, threshold = 0.00255,\n",
    "                    modelname='ump_nonlinear_50ecc_170')\n",
    "# OOM ERROR vvvvvvvv\n",
    "'''\n",
    "model3 =  make_model(traindata, modeltype='ump', optimizer =\"STLSQ\",\n",
    "                    nmbr_of_train=-1, lib='interaction_only', alpha = 91.5, threshold = 0.52,\n",
    "                    modelname='ump_nonlinear_50ecc_300')\n",
    "'''\n",
    "\n",
    "model4 =  make_model(traindata, modeltype='ump', optimizer =\"STLSQ\",\n",
    "                    nmbr_of_train=-1, lib='linear-specific', alpha = 0.097, threshold = 0.00537,\n",
    "                    modelname='ump_nonlinear_50ecc_90')"
   ]
  },
  {
   "cell_type": "code",
   "execution_count": null,
   "id": "555c59c0-3fbd-4f4b-ba12-c975513f2667",
   "metadata": {},
   "outputs": [],
   "source": [
    "testdata = os.path.join(os.getcwd(), 'test-data', '08-07-nonlin-50ecc', 'IMMEC_nonlin_50ecc_5.0sec.npz')\n",
    "\n",
    "models = ['ump_nonlinear_50ecc_90', 'ump_nonlinear_50ecc_100', 'ump_nonlinear_50ecc_170', 'ump_nonlinear_50ecc_300']\n",
    "\n",
    "plot_function(models, testdata, 'ump', True, 'ump_50_nl')"
   ]
  },
  {
   "cell_type": "markdown",
   "id": "7161a0c2-b314-4523-9004-4ae6b1c80086",
   "metadata": {
    "jp-MarkdownHeadingCollapsed": true
   },
   "source": [
    "#### 11 linear dynamical 50 ecc currents "
   ]
  },
  {
   "cell_type": "code",
   "execution_count": null,
   "id": "f417ccb5-abc2-45ac-9c70-71175b78b82d",
   "metadata": {},
   "outputs": [],
   "source": [
    "traindata = os.path.join(os.getcwd(), 'train-data', '08-09','IMMEC_dynamic_50ecc_5.0sec.npz')\n",
    "plot_optuna_data('_w5//currentslinear_dynamic_50ecc-optuna-study')"
   ]
  },
  {
   "cell_type": "code",
   "execution_count": null,
   "id": "93c737f8-a28c-438b-b327-b2ef2f80a592",
   "metadata": {},
   "outputs": [],
   "source": [
    "model1 =  make_model(traindata, modeltype='currents', optimizer =\"STLSQ\",\n",
    "                    nmbr_of_train=-1, lib='linear-specific', alpha = 5.3528, threshold = 0.97,\n",
    "                    modelname='currents_linear_dynamic_50ecc_40')\n",
    "\n",
    "model1 =  make_model(traindata, modeltype='currents', optimizer =\"STLSQ\",\n",
    "                    nmbr_of_train=-1, lib='nonlinear_terms', alpha = 2.5277, threshold = 0.8239,\n",
    "                    modelname='currents_linear_dynamic_50ecc_300')"
   ]
  },
  {
   "cell_type": "code",
   "execution_count": null,
   "id": "b3048ceb-9bb3-4dab-9d2b-e5c256bd3e21",
   "metadata": {},
   "outputs": [],
   "source": [
    "testdata = os.path.join(os.getcwd(), 'test-data','08-09','IMMEC_dynamic_50ecc_5.0sec.npz')\n",
    "testdata = os.path.join(os.getcwd(), 'test-data','08-19','IMMEC_dynamic_linear_5.0sec.npz') # alternative test file\n",
    "\n",
    "models = ['currents_linear_dynamic_50ecc_40'] #  ['currents_linear_dynamic_50ecc_300'] #diverges, nonzero dc comp\n",
    "\n",
    "plot_function(models, testdata, 'currents', True, 'currents_d')"
   ]
  },
  {
   "cell_type": "markdown",
   "id": "1ce6608c-5c4b-4ca7-bded-4c54c46754e6",
   "metadata": {
    "jp-MarkdownHeadingCollapsed": true
   },
   "source": [
    "#### 12 linear dynamical 50 ecc torque"
   ]
  },
  {
   "cell_type": "code",
   "execution_count": null,
   "id": "12fb0703-6927-4baf-a7ff-1c2e6278e6a6",
   "metadata": {},
   "outputs": [],
   "source": [
    "traindata = os.path.join(os.getcwd(), 'train-data', '08-09','IMMEC_dynamic_50ecc_5.0sec.npz')\n",
    "plot_optuna_data('_w5//torquelinear_dynamic_50ecc-optuna-study')"
   ]
  },
  {
   "cell_type": "code",
   "execution_count": null,
   "id": "377f2635-0b65-4a73-a9b9-edcaaab16957",
   "metadata": {},
   "outputs": [],
   "source": [
    "model1 =  make_model(traindata, modeltype='torque', optimizer =\"STLSQ\",\n",
    "                    nmbr_of_train=-1, lib='poly_2nd_order', alpha = 0.03218, threshold = .0429,\n",
    "                    modelname='torque_linear_dynamic_50ecc_50')\n",
    "\n",
    "model2 =  make_model(traindata, modeltype='torque', optimizer =\"STLSQ\",\n",
    "                    nmbr_of_train=-1, lib='poly_2nd_order', alpha = 9.8, threshold = .00979,\n",
    "                    modelname='torque_linear_dynamic_50ecc_40')\n",
    "\n",
    "model3 = make_model(traindata, modeltype='torque', optimizer='STLSQ',\n",
    "                    nmbr_of_train=-1, lib='nonlinear_terms', alpha=2.5097, threshold = 0.54118,\n",
    "                    modelname='torque_linear_dynamic_50ecc_4')"
   ]
  },
  {
   "cell_type": "code",
   "execution_count": null,
   "id": "452ded6f-e658-4da0-9bde-45fdbf8fc16b",
   "metadata": {},
   "outputs": [],
   "source": [
    "testdata = os.path.join(os.getcwd(), 'test-data','08-09','IMMEC_dynamic_50ecc_5.0sec.npz')\n",
    "testdata = os.path.join(os.getcwd(), 'test-data','08-19','IMMEC_dynamic_linear_5.0sec.npz') # alternative test file\n",
    "\n",
    "models = ['torque_linear_dynamic_50ecc_4','torque_linear_dynamic_50ecc_40', 'torque_linear_dynamic_50ecc_50']\n",
    "# no big difference between 4 or 30 coefs (same as the non ecc case) but allowing 45 coefs, big difference.\n",
    "\n",
    "plot_function(models, testdata, 'torque', True, 'torque_d_2') # torque_d or torque_d_2 can be chosen"
   ]
  },
  {
   "cell_type": "markdown",
   "id": "f4fdfae2-bfd6-455a-8d54-18c68c53452a",
   "metadata": {
    "jp-MarkdownHeadingCollapsed": true,
    "scrolled": true
   },
   "source": [
    "#### 13 linear dynamical 50 ecc UMP "
   ]
  },
  {
   "cell_type": "code",
   "execution_count": null,
   "id": "938cafb5-47cf-4321-9834-897a9d6a6db3",
   "metadata": {
    "scrolled": true
   },
   "outputs": [],
   "source": [
    "traindata = os.path.join(os.getcwd(), 'train-data', '08-09','IMMEC_dynamic_50ecc_5.0sec.npz')\n",
    "plot_optuna_data('_w5//umplinear_dynamic_50ecc-optuna-study')"
   ]
  },
  {
   "cell_type": "code",
   "execution_count": null,
   "id": "eac75970-f9c7-4188-8ed1-bcd12180e355",
   "metadata": {
    "scrolled": true
   },
   "outputs": [],
   "source": [
    "model1 = make_model(traindata, modeltype='ump', optimizer =\"STLSQ\",\n",
    "                    nmbr_of_train=-1, lib='poly_2nd_order', alpha = 1.773, threshold = 0.922,\n",
    "                    modelname='ump_linear_dynamic_50ecc_180')\n",
    "\n",
    "model2 = make_model(traindata, modeltype='ump', optimizer =\"STLSQ\",\n",
    "                    nmbr_of_train=-1, lib='nonlinear_terms', alpha = 1.1145, threshold = 0.589,\n",
    "                    modelname='ump_linear_dynamic_50ecc_560')"
   ]
  },
  {
   "cell_type": "code",
   "execution_count": null,
   "id": "9d36473c-15b2-413a-9daf-40ec607fc139",
   "metadata": {},
   "outputs": [],
   "source": [
    "testdata = os.path.join(os.getcwd(), 'test-data','08-09','IMMEC_dynamic_50ecc_5.0sec.npz')\n",
    "testdata = os.path.join(os.getcwd(), 'test-data','08-19','IMMEC_dynamic_linear_5.0sec.npz') # alternative test file\n",
    "\n",
    "models = ['ump_linear_dynamic_50ecc_180', 'ump_linear_dynamic_50ecc_560']\n",
    "\n",
    "plot_function(models, testdata, 'ump', True, 'ump_d')"
   ]
  },
  {
   "cell_type": "markdown",
   "id": "6bb4947b-db5b-41a5-b12d-b4c5d1adc23f",
   "metadata": {},
   "source": [
    "#### 14 nonlinear dynamical 50 ecc currents "
   ]
  },
  {
   "cell_type": "code",
   "execution_count": 3,
   "id": "51030179-b7b5-49df-b8e5-0153c9683113",
   "metadata": {},
   "outputs": [
    {
     "name": "stderr",
     "output_type": "stream",
     "text": [
      "[I 2024-08-22 16:54:36,177] Study name was omitted but trying to load 'optuna_studies//currentsnonlinear_dynamic_50ecc-optuna-study' because that was the only study found in the storage.\n"
     ]
    },
    {
     "name": "stdout",
     "output_type": "stream",
     "text": [
      "['optuna_studies//currentsnonlinear_dynamic_50ecc-optuna-study']\n",
      "Trial count: 1008\n"
     ]
    }
   ],
   "source": [
    "traindata = os.path.join(os.getcwd(), 'train-data', '08-16','IMMEC_dynamic_nonlinear_5.0sec.npz')\n",
    "plot_optuna_data('_w5//currentsnonlinear_dynamic_50ecc-optuna-study_old')"
   ]
  },
  {
   "cell_type": "code",
   "execution_count": 6,
   "id": "e7d2dc96-9d4f-47cf-8aab-5a3d969f6110",
   "metadata": {},
   "outputs": [
    {
     "name": "stdout",
     "output_type": "stream",
     "text": [
      "ecc input  True\n",
      "Loading data\n",
      "Done loading data\n",
      "Calculating xdots\n",
      "Assume all t_vec are equal for all simulations\n",
      "Done calculating xdots\n",
      "time trim:  0.5\n",
      "Nonzero ecc, added to input data\n",
      "Fitting model\n",
      "(i_d)' = -46.6191077449 i_d + 772.2253701561 i_q + 10.6709801338 v_d + -55.3512360591 v_q + -2.1258723125 v_0 + 427.5215429192 I_d + 4311.5257208453 I_q + 124.0712433314 V_d + -635.6239096725 V_q + 27.9185183856 V_0 + 0.7844069061 \\gamma i_d + -4.1260328106 \\gamma i_q + 49.3360930130 \\gamma I_d + -124.6677449114 \\gamma I_q + -2.1199408768 \\gamma V_d + 9.0700560698 \\gamma V_q + 3.2051663870 \\gamma V_0 + -0.4822742653 \\omega i_q + -491.5536420908 \\omega I_d + 13.9140645189 \\omega I_q + 61.3265674242 \\omega V_d + 3.0374455617 \\omega V_q + -0.1939834502 \\omega V_0 + -0.2762944779 v_d i_q + 57.4110913486 v_d I_d + 73.4179921621 v_d I_q + -16.4955325347 v_d V_d + -9.3451597274 v_d V_q + 0.2531505030 v_q i_d + -64.8640338064 v_q I_d + 56.8927450601 v_q I_q + 9.3668449359 v_q V_d + -16.5914510086 v_q V_q + -0.7667701168 v_q V_0 + 0.6104871975 v_0 i_d + -13.2791401131 v_0 I_d + 48.2049947746 v_0 I_q + -0.8214319921 v_0 V_d + 0.5127807030 v_0 V_q + -52.1448950839 v_0 V_0\n",
      "(i_q)' = -760.6098005359 i_d + -63.4431294204 i_q + 81.6073339346 v_d + 12.5288030792 v_q + -1.6383943982 v_0 + -4206.6074193975 I_d + 616.5664040135 I_q + 641.8005021592 V_d + 95.8401442553 V_q + 160.5438567183 V_0 + 0.5432425889 \\gamma i_d + -3.7735683156 \\gamma i_q + -31.3267837716 \\gamma I_d + -3.8664883514 \\gamma I_q + 1.9396587775 \\gamma V_d + 8.2326928101 \\gamma V_q + -83.6089513125 \\gamma V_0 + 0.3210858050 \\omega i_d + 20.8988799310 \\omega I_d + -476.0503913625 \\omega I_q + -1.5398263627 \\omega V_d + 68.5283221112 \\omega V_q + 0.5384870774 \\omega V_0 + 21.9368684924 v_d I_d + 22.8488397603 v_d I_q + -16.3934283470 v_d V_d + -2.0356354894 v_d V_q + -0.2620881623 v_d V_0 + -21.0056210860 v_q I_d + 25.8329083878 v_q I_q + 2.0623970005 v_q V_d + -16.4223435482 v_q V_q + 9.7947784713 v_0 I_d + -0.6497831076 v_0 I_q + 4.2526454375 v_0 V_0\n",
      "(i_0)' = 0.0000000000\n",
      "Non-zero elements:  75\n",
      "MSE: 1112.9458197997894\n",
      "Saving model\n",
      "ecc input  True\n",
      "Loading data\n",
      "Done loading data\n",
      "Calculating xdots\n",
      "Assume all t_vec are equal for all simulations\n",
      "Done calculating xdots\n",
      "time trim:  0.5\n",
      "Nonzero ecc, added to input data\n",
      "Fitting model\n",
      "(i_d)' = -11.2807691036 1 + 179.9338429692 i_d + 919.8614346011 i_q + 16.9123119668 v_d + -73.7117780076 v_q + -3591.9143343008 I_d + 1834.2624371343 I_q + -189.9387458672 V_d + -566.2855045998 V_q + 271.9134809510 V_0 + 6.5395395308 \\omega + 3372.7019614465 r_x + 4.2854687304 i_d^2 + -7.8294352249 i_d i_q + -1650.8906566961 i_d I_d + 801.0112007059 i_d I_q + -25.7392257649 i_d V_d + 8.8328282608 i_d V_q + 139.0940814907 i_d V_0 + -0.6111404102 i_d f + 2868.7560078999 i_d r_x + 1.7434839149 i_q^2 + 655.0609195516 i_q I_d + -2731.6592054087 i_q I_q + -39.0782714235 i_q V_d + -0.0044069987 i_q V_q + 173.5021722668 i_q V_0 + 1.1143867683 i_q f + 18.7188376522 v_d I_q + -0.6285670350 v_d V_q + -2.6530414022 v_d V_0 + 10.1476456783 v_d r_y + 32.9074125498 v_q I_d + -32.7145297806 v_q I_q + 0.6139857138 v_q V_d + -0.1059555539 v_q V_0 + -1.9052228767 v_q r_x + 4.9502701301 v_q r_y + -10.3991486655 v_0 I_d + 17.3185973401 v_0 I_q + -2.6498223149 v_0 V_0 + -2.2720885107 v_0 r_x + 867.2211390173 I_d^2 + 22711.3111720301 I_d I_q + 1175.6770158093 I_d V_d + -1744.3080436243 I_d V_q + 2566.7749974484 I_d V_0 + -581.7049548604 I_d \\omega + -30.7725079863 I_d f + -16230.7672574058 I_q^2 + -1445.5232603990 I_q V_d + 3003.3314761070 I_q V_q + 76.3511879856 I_q \\omega + 31.1565838816 I_q f + 201.4335602944 V_d^2 + -15.9113587726 V_d V_q + -374.0847870815 V_d V_0 + 70.3111926498 V_d \\omega + 2.9112382312 V_d f + -8461.6402578370 V_d r_x + 223.7222821901 V_q^2 + -452.5345147710 V_q V_0 + 15.9004162293 V_q \\omega + -1.2665485835 V_q f + -0.9149770394 V_0 \\omega + 4.4213255441 V_0 f + 45.6707097119 \\omega r_x + -53.8071979163 \\omega r_y + -117.0261683872 f r_x + 251.3990098237 f r_y + 0.1317694034 sin(1 \\gamma) + -1.5473644934 cos(1 \\gamma)\n",
      "(i_q)' = 7.0414927640 1 + -562.1101729706 i_d + 201.3676495916 i_q + 72.8724194467 v_d + -5.7831791118 v_0 + 561.7602279772 I_d + 921.0611852582 I_q + 1403.8829393089 V_d + 764.4292339343 V_q + 985.4527807182 V_0 + 38.8784978072 \\omega + 4.7832382971 i_d i_q + -1565.6074326779 i_d I_d + 1035.7649084219 i_d I_q + 31.8723746581 i_d V_d + -8.8340182816 i_d V_q + 396.1089728689 i_d V_0 + -0.3997824577 i_d \\omega + 1.0588400192 i_d f + -1.5068255963 i_q^2 + -702.5110528203 i_q I_d + -418.9453842084 i_q I_q + -73.9497549534 i_q V_d + 4.7126809373 i_q V_q + -119.1757397869 i_q V_0 + -0.5379746946 i_q f + 747.3571657614 i_q r_x + -9.8673525571 v_d I_d + 4.9094931566 v_d I_q + -0.2011228925 v_d V_0 + 1.0865773327 v_d r_y + 68.4224510361 v_q I_d + 23.4455411017 v_q I_q + 2.0548444870 v_q V_0 + -7.2419828999 v_q r_x + -10.0753100426 v_q r_y + 23.7120267024 v_0 I_d + 15.3514132275 v_0 I_q + 44.0703581939 v_0 V_0 + 126.0350392091 v_0 r_y + -22562.1861656582 I_d^2 + 1023.4731386075 I_d I_q + 3301.7874195552 I_d V_d + 1621.5685781602 I_d V_q + -68.1169415877 I_d \\omega + -2.8557720987 I_d f + -886.1190314721 I_q^2 + -1643.8240308392 I_q V_d + 1050.6905970309 I_q V_q + -4366.3550590074 I_q V_0 + -581.1826497049 I_q \\omega + 4.4917829987 I_q f + -693.9343735183 V_d^2 + -1.4527328490 V_d V_q + -857.9733013379 V_d V_0 + -11.3307420383 V_d \\omega + -2.0480246585 V_d f + 967.1837335959 V_d r_x + -709.3272384621 V_q^2 + 690.1209094735 V_q V_0 + 71.2551228194 V_q \\omega + 3.2970615963 V_q f + -1.4757888639 V_0 f + 3.5706387929 \\omega r_x + -117.0541786136 f r_y + 1.2193454218 cos(1 \\gamma)\n",
      "(i_0)' = 0.0000000000\n",
      "Non-zero elements:  138\n",
      "MSE: 874.9432221718527\n",
      "Saving model\n",
      "ecc input  True\n",
      "Loading data\n",
      "Done loading data\n",
      "Calculating xdots\n",
      "Assume all t_vec are equal for all simulations\n",
      "Done calculating xdots\n",
      "time trim:  0.5\n",
      "Nonzero ecc, added to input data\n",
      "Fitting model\n",
      "(i_d)' = -8.0643334259 1 + -9.9757252142 i_d + 733.1586753909 i_q + 16.7141153635 v_d + -65.8544396819 v_q + -1.3236545886 v_0 + -8685.3440552040 I_d + -3257.2205487148 I_q + 34.8326049401 V_d + -283.3174646172 V_q + 891.8806406449 V_0 + 16.5719037830 \\omega + -0.2555860838 f + 2771.4480140296 r_x + -5665.5051123205 r_y + 4.9741685383 i_d^2 + -11.5693662517 i_d i_q + -0.1725841241 i_d v_d + 0.0167931438 i_d v_q + 0.0531953978 i_d v_0 + -46.8518392166 i_d I_d + 493.4704218173 i_d I_q + -38.5511334783 i_d V_d + -36.5136042123 i_d V_q + 12.3613387976 i_d V_0 + -0.6769551297 i_d \\omega + 2.9453629855 i_d f + 7512.0748204012 i_d r_x + -5072.1236178589 i_d r_y + -4.2948136798 i_q^2 + -0.0456038304 i_q v_d + 0.0097260540 i_q v_q + 0.0711491448 i_q v_0 + 1115.6260363435 i_q I_d + -2065.8137530329 i_q I_q + -14.4383736146 i_q V_d + -2.8177752572 i_q V_q + 181.8244372920 i_q V_0 + 0.2226136189 i_q \\omega + 0.2986399616 i_q f + -706.8547130720 i_q r_x + 5208.6803667701 i_q r_y + 0.0128493135 v_d^2 + 34.4102136765 v_d I_d + 8.0576638949 v_d I_q + -6.5633291071 v_d V_d + 6.2527638866 v_d V_q + 0.2707962315 v_d V_0 + 4.2720078362 v_d r_x + 8.0546554972 v_d r_y + 0.0127478253 v_q^2 + 31.6265658088 v_q I_d + 6.8665652525 v_q I_q + -6.1773974656 v_q V_d + -6.8875025424 v_q V_q + -0.5010895687 v_q V_0 + -0.0108882101 v_q f + 8.7001774739 v_q r_x + 9.3209460081 v_q r_y + 5.1157900190 v_0 I_d + 8.9740358703 v_0 I_q + -0.3398643699 v_0 V_d + -0.2437164154 v_0 V_q + -6.8293067516 v_0 V_0 + -35.4816337695 v_0 r_y + 41687.8208215315 I_d^2 + 27488.3033390205 I_d I_q + -6421.8315373663 I_d V_d + -3059.4647631555 I_d V_q + -5002.1973633528 I_d V_0 + -600.3870852998 I_d \\omega + 3.6456931033 I_d f + 48631.1257709433 I_d r_x + -4468.4569123040 I_d r_y + 14887.3636072175 I_q^2 + -1046.9472330149 I_q V_d + -3193.8412351550 I_q V_q + -188.8114862256 I_q V_0 + 88.4202451557 I_q \\omega + 35.2242139300 I_q f + 7456.7344528912 I_q r_x + 624.4374458471 V_d^2 + 55.0128387342 V_d V_q + 22.8277009488 V_d V_0 + 72.2913622552 V_d \\omega + -2.3153368195 V_d f + -19493.7103371397 V_d r_x + 7748.1915792488 V_d r_y + 652.8320742817 V_q^2 + 25.4173819635 V_q V_0 + 17.1824719254 V_q \\omega + 2.2010743486 V_q f + 4538.4469499982 V_q r_x + -12992.3362881423 V_q r_y + 16766.9860159716 V_0^2 + -0.8370114412 V_0 \\omega + 4.2337378484 V_0 f + -0.0194010331 \\omega^2 + -0.0135024596 \\omega f + 24.1795169639 \\omega r_x + -81.8465429177 \\omega r_y + -0.0060323367 f^2 + 62.2969626383 f r_x + 596.5094813033 f r_y + 1.4702657929 sin(1 \\gamma) + 2.4211422290 cos(1 \\gamma)\n",
      "(i_q)' = -5.4085721335 1 + -100.6774587306 i_d + -50.0696649696 i_q + 67.2123056882 v_d + 14.2248885153 v_q + 0.0027116876 v_0 + 8756.1314059682 I_d + 338.8474024068 I_q + -316.9588680784 V_d + 571.2079088201 V_q + -150.3273630651 V_0 + 52.0738919374 \\omega + -0.0393197808 f + 4195.3253401194 r_x + 13430.4169012690 r_y + -1.1833040914 i_d^2 + 7.1770583012 i_d i_q + 0.3858633043 i_d v_d + 0.0382404243 i_d v_q + 0.0418092427 i_d v_0 + -3098.9542454644 i_d I_d + -706.7207207891 i_d I_q + -6.9525253337 i_d V_d + 99.3602127772 i_d V_q + 16.1352338095 i_d V_0 + -1.3243860497 i_d \\omega + 5.2067810628 i_d f + 5746.7811941683 i_d r_x + 3064.9427280092 i_d r_y + 1.9798215695 i_q^2 + -0.0919528864 i_q v_d + 0.0484226187 i_q v_q + 0.1572460943 i_q v_0 + 632.6588859117 i_q I_d + -247.2256668241 i_q I_q + -45.7199463521 i_q V_d + -33.9110086253 i_q V_q + 121.4849325901 i_q V_0 + -0.6999179448 i_q \\omega + 3.1977940924 i_q f + 3447.2495738762 i_q r_x + 4561.0531108981 i_q r_y + -0.0093335594 v_d^2 + 16.4703875882 v_d I_d + 16.6558878941 v_d I_q + 0.7797632289 v_d V_d + -2.9914570054 v_d V_q + -0.9622997345 v_d V_0 + 0.0091941311 v_d f + -15.0584734305 v_d r_x + 9.3619207150 v_d r_y + -0.0086468977 v_q^2 + 14.4955802748 v_q I_d + 5.6939565203 v_q I_q + 2.7958841907 v_q V_d + 1.4914702534 v_q V_q + -0.7210286844 v_q V_0 + 0.0070017147 v_q \\omega + -0.0375760993 v_q f + -2.3394706474 v_q r_x + -36.4022869527 v_q r_y + 0.0078012345 v_0^2 + 3.6934098862 v_0 I_d + -1.6009539770 v_0 I_q + -0.2800795870 v_0 V_d + -0.2755724044 v_0 V_q + 4.5670942447 v_0 V_0 + -109.0057577737 v_0 r_x + 218.0191755478 v_0 r_y + -58203.7155346711 I_d^2 + -2869.0694877375 I_d I_q + 8919.0850989477 I_d V_d + 1285.0903629561 I_d V_q + -1380.2214739353 I_d V_0 + -96.4629758603 I_d \\omega + -21.2265322896 I_d f + 147740.9864465539 I_d r_x + -100020.3229707918 I_d r_y + -15707.8362601899 I_q^2 + 1181.1487825804 I_q V_d + 2863.8111064824 I_q V_q + 4082.8433818812 I_q V_0 + -641.6419865419 I_q \\omega + 109.9684233258 I_q f + -24233.2666070455 I_q r_x + 72233.6278458540 I_q r_y + -495.8045470515 V_d^2 + -211.9354827658 V_d V_q + 166.8272479556 V_d V_0 + -17.3128661753 V_d \\omega + -6.6121801552 V_d f + -14374.4506198965 V_d r_x + -1455.0144247336 V_d r_y + -477.2401572956 V_q^2 + -334.9109541622 V_q V_0 + 71.7371945255 V_q \\omega + -0.2029597799 V_q f + -9184.4164420046 V_q r_x + -4957.1366011835 V_q r_y + 1618.7581177399 V_0^2 + -0.5202962918 V_0 \\omega + 3.4024492039 V_0 f + 0.0141052562 \\omega^2 + -0.0068677270 \\omega f + 29.5788824450 \\omega r_x + 42.1437004778 \\omega r_y + 0.0066434142 f^2 + -322.8867514777 f r_x + -207.6198305488 f r_y + 0.2246924977 sin(1 \\gamma) + -5.5546092714 cos(1 \\gamma)\n",
      "(i_0)' = 0.0000000000\n",
      "Non-zero elements:  217\n",
      "MSE: 836.9058304862319\n",
      "Saving model\n"
     ]
    },
    {
     "data": {
      "text/plain": [
       "' OOM\\nmodel4 =  make_model(traindata, modeltype=\\'currents\\', optimizer =\"STLSQ\", # 503\\n                    nmbr_of_train=-1, lib=\\'interaction_only\\', alpha = 40.00, threshold = 0.86,\\n                    modelname=\\'currents_nonlinear_dynamic_50ecc_500\\') # most likely to diverge '"
      ]
     },
     "execution_count": 6,
     "metadata": {},
     "output_type": "execute_result"
    }
   ],
   "source": [
    "model1 = make_model(traindata, modeltype='currents', optimizer=\"STLSQ\", alpha=0.17, threshold = 0.12, #946\n",
    "                    nmbr_of_train=-1, lib='linear-specific', modelname='currents_nonlinear_dynamic_70')\n",
    "# these diverge too...\n",
    "'''\n",
    "model2 = make_model(traindata, modeltype='currents', optimizer=\"STLSQ\", alpha=89, threshold =0.446, #751\n",
    "                    nmbr_of_train=-1, lib='poly_2nd_order', modelname='currents_nonlinear_dynamic_140')\n",
    "model3 = make_model(traindata, modeltype='currents', optimizer=\"STLSQ\", alpha=87.7, threshold =0.00446, #821\n",
    "                    nmbr_of_train=-1, lib='poly_2nd_order', modelname='currents_nonlinear_dynamic_220')\n",
    "'''\n",
    "''' OOM\n",
    "model4 =  make_model(traindata, modeltype='currents', optimizer =\"STLSQ\", # 503\n",
    "                    nmbr_of_train=-1, lib='interaction_only', alpha = 40.00, threshold = 0.86,\n",
    "                    modelname='currents_nonlinear_dynamic_50ecc_500') # most likely to diverge '''"
   ]
  },
  {
   "cell_type": "code",
   "execution_count": null,
   "id": "14789069-8239-4a0a-95fa-8c26db9534fc",
   "metadata": {},
   "outputs": [],
   "source": [
    "### MODELS FROM THE OLD OPTUBNA STUDY\n",
    "\n",
    "## model 1 and 2 diverge when calculating the currents from the di/dt\n",
    "model1 =  make_model(traindata, modeltype='currents', optimizer =\"STLSQ\",\n",
    "                    nmbr_of_train=-1, lib='poly_2nd_order', alpha = 55.7, threshold = 0.395,\n",
    "                    modelname='currents_nonlinear_dynamic_50ecc_150')\n",
    "# OOM error\n",
    "'''\n",
    "model2 =  make_model(traindata, modeltype='currents', optimizer =\"STLSQ\",\n",
    "                    nmbr_of_train=-1, lib='interaction_only', alpha = 56.6, threshold = 0.657,\n",
    "                    modelname='currents_nonlinear_dynamic_50ecc_420')\n",
    "'''\n",
    "\n",
    "model3 =  make_model(traindata, modeltype='currents', optimizer =\"STLSQ\",\n",
    "                    nmbr_of_train=-1, lib='linear-specific', alpha = 3.154, threshold = 0.7912,\n",
    "                    modelname='currents_nonlinear_dynamic_50ecc_60')"
   ]
  },
  {
   "cell_type": "code",
   "execution_count": 7,
   "id": "b1d5d5bc-facf-4fe5-98fd-bc37a96e5b17",
   "metadata": {},
   "outputs": [
    {
     "name": "stdout",
     "output_type": "stream",
     "text": [
      "(i_d)' = -46.619 i_d + 772.225 i_q + 10.671 v_d + -55.351 v_q + -2.126 v_0 + 427.522 I_d + 4311.526 I_q + 124.071 V_d + -635.624 V_q + 27.919 V_0 + 0.784 \\gamma i_d + -4.126 \\gamma i_q + 49.336 \\gamma I_d + -124.668 \\gamma I_q + -2.120 \\gamma V_d + 9.070 \\gamma V_q + 3.205 \\gamma V_0 + -0.482 \\omega i_q + -491.554 \\omega I_d + 13.914 \\omega I_q + 61.327 \\omega V_d + 3.037 \\omega V_q + -0.194 \\omega V_0 + -0.276 v_d i_q + 57.411 v_d I_d + 73.418 v_d I_q + -16.496 v_d V_d + -9.345 v_d V_q + 0.253 v_q i_d + -64.864 v_q I_d + 56.893 v_q I_q + 9.367 v_q V_d + -16.591 v_q V_q + -0.767 v_q V_0 + 0.610 v_0 i_d + -13.279 v_0 I_d + 48.205 v_0 I_q + -0.821 v_0 V_d + 0.513 v_0 V_q + -52.145 v_0 V_0\n",
      "(i_q)' = -760.610 i_d + -63.443 i_q + 81.607 v_d + 12.529 v_q + -1.638 v_0 + -4206.607 I_d + 616.566 I_q + 641.801 V_d + 95.840 V_q + 160.544 V_0 + 0.543 \\gamma i_d + -3.774 \\gamma i_q + -31.327 \\gamma I_d + -3.866 \\gamma I_q + 1.940 \\gamma V_d + 8.233 \\gamma V_q + -83.609 \\gamma V_0 + 0.321 \\omega i_d + 20.899 \\omega I_d + -476.050 \\omega I_q + -1.540 \\omega V_d + 68.528 \\omega V_q + 0.538 \\omega V_0 + 21.937 v_d I_d + 22.849 v_d I_q + -16.393 v_d V_d + -2.036 v_d V_q + -0.262 v_d V_0 + -21.006 v_q I_d + 25.833 v_q I_q + 2.062 v_q V_d + -16.422 v_q V_q + 9.795 v_0 I_d + -0.650 v_0 I_q + 4.253 v_0 V_0\n",
      "(i_0)' = 0.000\n",
      "ecc input:  True\n",
      "Loading data\n",
      "Done loading data\n",
      "Calculating xdots\n",
      "Assume all t_vec are equal for all simulations\n",
      "Done calculating xdots\n",
      "Nonzero ecc, added to input data\n",
      "MSE on test:  2175.7798622210607\n",
      "Non-zero elements:  75\n",
      "Starting time simulation\n",
      "Finished simulation\n",
      "MSE on simulation:  0.0028681403994119115\n",
      "(i_d)' = -11.281 1 + 179.934 i_d + 919.861 i_q + 16.912 v_d + -73.712 v_q + -3591.914 I_d + 1834.262 I_q + -189.939 V_d + -566.286 V_q + 271.913 V_0 + 6.540 \\omega + 3372.702 r_x + 4.285 i_d^2 + -7.829 i_d i_q + -1650.891 i_d I_d + 801.011 i_d I_q + -25.739 i_d V_d + 8.833 i_d V_q + 139.094 i_d V_0 + -0.611 i_d f + 2868.756 i_d r_x + 1.743 i_q^2 + 655.061 i_q I_d + -2731.659 i_q I_q + -39.078 i_q V_d + -0.004 i_q V_q + 173.502 i_q V_0 + 1.114 i_q f + 18.719 v_d I_q + -0.629 v_d V_q + -2.653 v_d V_0 + 10.148 v_d r_y + 32.907 v_q I_d + -32.715 v_q I_q + 0.614 v_q V_d + -0.106 v_q V_0 + -1.905 v_q r_x + 4.950 v_q r_y + -10.399 v_0 I_d + 17.319 v_0 I_q + -2.650 v_0 V_0 + -2.272 v_0 r_x + 867.221 I_d^2 + 22711.311 I_d I_q + 1175.677 I_d V_d + -1744.308 I_d V_q + 2566.775 I_d V_0 + -581.705 I_d \\omega + -30.773 I_d f + -16230.767 I_q^2 + -1445.523 I_q V_d + 3003.331 I_q V_q + 76.351 I_q \\omega + 31.157 I_q f + 201.434 V_d^2 + -15.911 V_d V_q + -374.085 V_d V_0 + 70.311 V_d \\omega + 2.911 V_d f + -8461.640 V_d r_x + 223.722 V_q^2 + -452.535 V_q V_0 + 15.900 V_q \\omega + -1.267 V_q f + -0.915 V_0 \\omega + 4.421 V_0 f + 45.671 \\omega r_x + -53.807 \\omega r_y + -117.026 f r_x + 251.399 f r_y + 0.132 sin(1 \\gamma) + -1.547 cos(1 \\gamma)\n",
      "(i_q)' = 7.041 1 + -562.110 i_d + 201.368 i_q + 72.872 v_d + -5.783 v_0 + 561.760 I_d + 921.061 I_q + 1403.883 V_d + 764.429 V_q + 985.453 V_0 + 38.878 \\omega + 4.783 i_d i_q + -1565.607 i_d I_d + 1035.765 i_d I_q + 31.872 i_d V_d + -8.834 i_d V_q + 396.109 i_d V_0 + -0.400 i_d \\omega + 1.059 i_d f + -1.507 i_q^2 + -702.511 i_q I_d + -418.945 i_q I_q + -73.950 i_q V_d + 4.713 i_q V_q + -119.176 i_q V_0 + -0.538 i_q f + 747.357 i_q r_x + -9.867 v_d I_d + 4.909 v_d I_q + -0.201 v_d V_0 + 1.087 v_d r_y + 68.422 v_q I_d + 23.446 v_q I_q + 2.055 v_q V_0 + -7.242 v_q r_x + -10.075 v_q r_y + 23.712 v_0 I_d + 15.351 v_0 I_q + 44.070 v_0 V_0 + 126.035 v_0 r_y + -22562.186 I_d^2 + 1023.473 I_d I_q + 3301.787 I_d V_d + 1621.569 I_d V_q + -68.117 I_d \\omega + -2.856 I_d f + -886.119 I_q^2 + -1643.824 I_q V_d + 1050.691 I_q V_q + -4366.355 I_q V_0 + -581.183 I_q \\omega + 4.492 I_q f + -693.934 V_d^2 + -1.453 V_d V_q + -857.973 V_d V_0 + -11.331 V_d \\omega + -2.048 V_d f + 967.184 V_d r_x + -709.327 V_q^2 + 690.121 V_q V_0 + 71.255 V_q \\omega + 3.297 V_q f + -1.476 V_0 f + 3.571 \\omega r_x + -117.054 f r_y + 1.219 cos(1 \\gamma)\n",
      "(i_0)' = 0.000\n",
      "ecc input:  True\n",
      "Loading data\n",
      "Done loading data\n",
      "Calculating xdots\n",
      "Assume all t_vec are equal for all simulations\n",
      "Done calculating xdots\n",
      "Nonzero ecc, added to input data\n",
      "MSE on test:  1662.8797996078872\n",
      "Non-zero elements:  138\n",
      "Starting time simulation\n",
      "Finished simulation\n"
     ]
    },
    {
     "ename": "ValueError",
     "evalue": "Found input variables with inconsistent numbers of samples: [519, 49999]",
     "output_type": "error",
     "traceback": [
      "\u001b[1;31m---------------------------------------------------------------------------\u001b[0m",
      "\u001b[1;31mValueError\u001b[0m                                Traceback (most recent call last)",
      "Cell \u001b[1;32mIn[7], line 9\u001b[0m\n\u001b[0;32m      7\u001b[0m \u001b[38;5;66;03m# new models\u001b[39;00m\n\u001b[0;32m      8\u001b[0m models \u001b[38;5;241m=\u001b[39m [\u001b[38;5;124m'\u001b[39m\u001b[38;5;124mcurrents_nonlinear_dynamic_70\u001b[39m\u001b[38;5;124m'\u001b[39m, \u001b[38;5;124m'\u001b[39m\u001b[38;5;124mcurrents_nonlinear_dynamic_140\u001b[39m\u001b[38;5;124m'\u001b[39m, \u001b[38;5;124m'\u001b[39m\u001b[38;5;124mcurrents_nonlinear_dynamic_220\u001b[39m\u001b[38;5;124m'\u001b[39m]\n\u001b[1;32m----> 9\u001b[0m plot_function(models, testdata, \u001b[38;5;124m'\u001b[39m\u001b[38;5;124mcurrents\u001b[39m\u001b[38;5;124m'\u001b[39m, \u001b[38;5;28;01mFalse\u001b[39;00m, \u001b[38;5;124m'\u001b[39m\u001b[38;5;124mcurrents_d_nl\u001b[39m\u001b[38;5;124m'\u001b[39m)\n",
      "Cell \u001b[1;32mIn[1], line 12\u001b[0m, in \u001b[0;36mplot_function\u001b[1;34m(models, testdata, type, existing_plot, folder)\u001b[0m\n\u001b[0;32m     10\u001b[0m     \u001b[38;5;28;01mfor\u001b[39;00m model \u001b[38;5;129;01min\u001b[39;00m models:\n\u001b[0;32m     11\u001b[0m         do_sim \u001b[38;5;241m=\u001b[39m \u001b[38;5;28mtype\u001b[39m\u001b[38;5;241m==\u001b[39m\u001b[38;5;124m'\u001b[39m\u001b[38;5;124mcurrents\u001b[39m\u001b[38;5;124m'\u001b[39m\n\u001b[1;32m---> 12\u001b[0m         sim, test \u001b[38;5;241m=\u001b[39m simulate_model(pref \u001b[38;5;241m+\u001b[39m model \u001b[38;5;241m+\u001b[39m \u001b[38;5;124m'\u001b[39m\u001b[38;5;124m_model\u001b[39m\u001b[38;5;124m'\u001b[39m, testdata, \n\u001b[0;32m     13\u001b[0m                                    modeltype\u001b[38;5;241m=\u001b[39m\u001b[38;5;28mtype\u001b[39m, do_time_simulation\u001b[38;5;241m=\u001b[39mdo_sim,\n\u001b[0;32m     14\u001b[0m                                    show\u001b[38;5;241m=\u001b[39m\u001b[38;5;28;01mFalse\u001b[39;00m, ecc_input \u001b[38;5;241m=\u001b[39m \u001b[38;5;28;01mTrue\u001b[39;00m)\n\u001b[0;32m     15\u001b[0m \u001b[38;5;28;01melse\u001b[39;00m:\n\u001b[0;32m     16\u001b[0m     show_coefs \u001b[38;5;241m=\u001b[39m \u001b[38;5;28;01mTrue\u001b[39;00m\n",
      "File \u001b[1;32m~\\PycharmProjects\\SINDY_project\\train_model_source.py:248\u001b[0m, in \u001b[0;36msimulate_model\u001b[1;34m(model_name, path_to_test_file, modeltype, do_time_simulation, show, ecc_input)\u001b[0m\n\u001b[0;32m    239\u001b[0m x_sim \u001b[38;5;241m=\u001b[39m model_simulate(\n\u001b[0;32m    240\u001b[0m     x_test[\u001b[38;5;241m0\u001b[39m, :],\n\u001b[0;32m    241\u001b[0m     u\u001b[38;5;241m=\u001b[39mu_test[(t \u001b[38;5;241m<\u001b[39m simulation_time)\u001b[38;5;241m.\u001b[39mreshape(\u001b[38;5;241m-\u001b[39m\u001b[38;5;241m1\u001b[39m), :],\n\u001b[0;32m    242\u001b[0m     t\u001b[38;5;241m=\u001b[39mt_value\u001b[38;5;241m.\u001b[39mreshape(t_value\u001b[38;5;241m.\u001b[39mshape[\u001b[38;5;241m0\u001b[39m]),\n\u001b[0;32m    243\u001b[0m     model\u001b[38;5;241m=\u001b[39mmodel,\n\u001b[0;32m    244\u001b[0m )\u001b[38;5;241m.\u001b[39my\u001b[38;5;241m.\u001b[39mT\n\u001b[0;32m    245\u001b[0m \u001b[38;5;28mprint\u001b[39m(\u001b[38;5;124m\"\u001b[39m\u001b[38;5;124mFinished simulation\u001b[39m\u001b[38;5;124m\"\u001b[39m)\n\u001b[0;32m    246\u001b[0m \u001b[38;5;28mprint\u001b[39m(\n\u001b[0;32m    247\u001b[0m     \u001b[38;5;124m\"\u001b[39m\u001b[38;5;124mMSE on simulation: \u001b[39m\u001b[38;5;124m\"\u001b[39m,\n\u001b[1;32m--> 248\u001b[0m     mean_squared_error(x_sim, x_test[: \u001b[38;5;28mlen\u001b[39m(t_value), :]),\n\u001b[0;32m    249\u001b[0m )\n\u001b[0;32m    251\u001b[0m save_plot_data(\n\u001b[0;32m    252\u001b[0m     \u001b[38;5;124m\"\u001b[39m\u001b[38;5;124mcurrents_simulation\u001b[39m\u001b[38;5;124m\"\u001b[39m,\n\u001b[0;32m    253\u001b[0m     [\n\u001b[1;32m   (...)\u001b[0m\n\u001b[0;32m    262\u001b[0m     legend\u001b[38;5;241m=\u001b[39m[\u001b[38;5;124mr\u001b[39m\u001b[38;5;124m\"\u001b[39m\u001b[38;5;124m$i_d$\u001b[39m\u001b[38;5;124m\"\u001b[39m, \u001b[38;5;124mr\u001b[39m\u001b[38;5;124m\"\u001b[39m\u001b[38;5;124m$i_q$\u001b[39m\u001b[38;5;124m\"\u001b[39m, \u001b[38;5;124mr\u001b[39m\u001b[38;5;124m\"\u001b[39m\u001b[38;5;124m$i_0$\u001b[39m\u001b[38;5;124m\"\u001b[39m, \u001b[38;5;124m\"\u001b[39m\u001b[38;5;124mtest data\u001b[39m\u001b[38;5;124m\"\u001b[39m],\n\u001b[0;32m    263\u001b[0m )\n\u001b[0;32m    264\u001b[0m \u001b[38;5;28;01mreturn\u001b[39;00m x_sim, x_test  \u001b[38;5;66;03m# returns the simulated values of the currents\u001b[39;00m\n",
      "File \u001b[1;32m~\\anaconda3\\envs\\immec_env\\Lib\\site-packages\\sklearn\\utils\\_param_validation.py:213\u001b[0m, in \u001b[0;36mvalidate_params.<locals>.decorator.<locals>.wrapper\u001b[1;34m(*args, **kwargs)\u001b[0m\n\u001b[0;32m    207\u001b[0m \u001b[38;5;28;01mtry\u001b[39;00m:\n\u001b[0;32m    208\u001b[0m     \u001b[38;5;28;01mwith\u001b[39;00m config_context(\n\u001b[0;32m    209\u001b[0m         skip_parameter_validation\u001b[38;5;241m=\u001b[39m(\n\u001b[0;32m    210\u001b[0m             prefer_skip_nested_validation \u001b[38;5;129;01mor\u001b[39;00m global_skip_validation\n\u001b[0;32m    211\u001b[0m         )\n\u001b[0;32m    212\u001b[0m     ):\n\u001b[1;32m--> 213\u001b[0m         \u001b[38;5;28;01mreturn\u001b[39;00m func(\u001b[38;5;241m*\u001b[39margs, \u001b[38;5;241m*\u001b[39m\u001b[38;5;241m*\u001b[39mkwargs)\n\u001b[0;32m    214\u001b[0m \u001b[38;5;28;01mexcept\u001b[39;00m InvalidParameterError \u001b[38;5;28;01mas\u001b[39;00m e:\n\u001b[0;32m    215\u001b[0m     \u001b[38;5;66;03m# When the function is just a wrapper around an estimator, we allow\u001b[39;00m\n\u001b[0;32m    216\u001b[0m     \u001b[38;5;66;03m# the function to delegate validation to the estimator, but we replace\u001b[39;00m\n\u001b[0;32m    217\u001b[0m     \u001b[38;5;66;03m# the name of the estimator by the name of the function in the error\u001b[39;00m\n\u001b[0;32m    218\u001b[0m     \u001b[38;5;66;03m# message to avoid confusion.\u001b[39;00m\n\u001b[0;32m    219\u001b[0m     msg \u001b[38;5;241m=\u001b[39m re\u001b[38;5;241m.\u001b[39msub(\n\u001b[0;32m    220\u001b[0m         \u001b[38;5;124mr\u001b[39m\u001b[38;5;124m\"\u001b[39m\u001b[38;5;124mparameter of \u001b[39m\u001b[38;5;124m\\\u001b[39m\u001b[38;5;124mw+ must be\u001b[39m\u001b[38;5;124m\"\u001b[39m,\n\u001b[0;32m    221\u001b[0m         \u001b[38;5;124mf\u001b[39m\u001b[38;5;124m\"\u001b[39m\u001b[38;5;124mparameter of \u001b[39m\u001b[38;5;132;01m{\u001b[39;00mfunc\u001b[38;5;241m.\u001b[39m\u001b[38;5;18m__qualname__\u001b[39m\u001b[38;5;132;01m}\u001b[39;00m\u001b[38;5;124m must be\u001b[39m\u001b[38;5;124m\"\u001b[39m,\n\u001b[0;32m    222\u001b[0m         \u001b[38;5;28mstr\u001b[39m(e),\n\u001b[0;32m    223\u001b[0m     )\n",
      "File \u001b[1;32m~\\anaconda3\\envs\\immec_env\\Lib\\site-packages\\sklearn\\metrics\\_regression.py:497\u001b[0m, in \u001b[0;36mmean_squared_error\u001b[1;34m(y_true, y_pred, sample_weight, multioutput, squared)\u001b[0m\n\u001b[0;32m    492\u001b[0m     \u001b[38;5;28;01mif\u001b[39;00m \u001b[38;5;129;01mnot\u001b[39;00m squared:\n\u001b[0;32m    493\u001b[0m         \u001b[38;5;28;01mreturn\u001b[39;00m root_mean_squared_error(\n\u001b[0;32m    494\u001b[0m             y_true, y_pred, sample_weight\u001b[38;5;241m=\u001b[39msample_weight, multioutput\u001b[38;5;241m=\u001b[39mmultioutput\n\u001b[0;32m    495\u001b[0m         )\n\u001b[1;32m--> 497\u001b[0m y_type, y_true, y_pred, multioutput \u001b[38;5;241m=\u001b[39m _check_reg_targets(\n\u001b[0;32m    498\u001b[0m     y_true, y_pred, multioutput\n\u001b[0;32m    499\u001b[0m )\n\u001b[0;32m    500\u001b[0m check_consistent_length(y_true, y_pred, sample_weight)\n\u001b[0;32m    501\u001b[0m output_errors \u001b[38;5;241m=\u001b[39m np\u001b[38;5;241m.\u001b[39maverage((y_true \u001b[38;5;241m-\u001b[39m y_pred) \u001b[38;5;241m*\u001b[39m\u001b[38;5;241m*\u001b[39m \u001b[38;5;241m2\u001b[39m, axis\u001b[38;5;241m=\u001b[39m\u001b[38;5;241m0\u001b[39m, weights\u001b[38;5;241m=\u001b[39msample_weight)\n",
      "File \u001b[1;32m~\\anaconda3\\envs\\immec_env\\Lib\\site-packages\\sklearn\\metrics\\_regression.py:102\u001b[0m, in \u001b[0;36m_check_reg_targets\u001b[1;34m(y_true, y_pred, multioutput, dtype)\u001b[0m\n\u001b[0;32m     68\u001b[0m \u001b[38;5;28;01mdef\u001b[39;00m \u001b[38;5;21m_check_reg_targets\u001b[39m(y_true, y_pred, multioutput, dtype\u001b[38;5;241m=\u001b[39m\u001b[38;5;124m\"\u001b[39m\u001b[38;5;124mnumeric\u001b[39m\u001b[38;5;124m\"\u001b[39m):\n\u001b[0;32m     69\u001b[0m \u001b[38;5;250m    \u001b[39m\u001b[38;5;124;03m\"\"\"Check that y_true and y_pred belong to the same regression task.\u001b[39;00m\n\u001b[0;32m     70\u001b[0m \n\u001b[0;32m     71\u001b[0m \u001b[38;5;124;03m    Parameters\u001b[39;00m\n\u001b[1;32m   (...)\u001b[0m\n\u001b[0;32m    100\u001b[0m \u001b[38;5;124;03m        correct keyword.\u001b[39;00m\n\u001b[0;32m    101\u001b[0m \u001b[38;5;124;03m    \"\"\"\u001b[39;00m\n\u001b[1;32m--> 102\u001b[0m     check_consistent_length(y_true, y_pred)\n\u001b[0;32m    103\u001b[0m     y_true \u001b[38;5;241m=\u001b[39m check_array(y_true, ensure_2d\u001b[38;5;241m=\u001b[39m\u001b[38;5;28;01mFalse\u001b[39;00m, dtype\u001b[38;5;241m=\u001b[39mdtype)\n\u001b[0;32m    104\u001b[0m     y_pred \u001b[38;5;241m=\u001b[39m check_array(y_pred, ensure_2d\u001b[38;5;241m=\u001b[39m\u001b[38;5;28;01mFalse\u001b[39;00m, dtype\u001b[38;5;241m=\u001b[39mdtype)\n",
      "File \u001b[1;32m~\\anaconda3\\envs\\immec_env\\Lib\\site-packages\\sklearn\\utils\\validation.py:457\u001b[0m, in \u001b[0;36mcheck_consistent_length\u001b[1;34m(*arrays)\u001b[0m\n\u001b[0;32m    455\u001b[0m uniques \u001b[38;5;241m=\u001b[39m np\u001b[38;5;241m.\u001b[39munique(lengths)\n\u001b[0;32m    456\u001b[0m \u001b[38;5;28;01mif\u001b[39;00m \u001b[38;5;28mlen\u001b[39m(uniques) \u001b[38;5;241m>\u001b[39m \u001b[38;5;241m1\u001b[39m:\n\u001b[1;32m--> 457\u001b[0m     \u001b[38;5;28;01mraise\u001b[39;00m \u001b[38;5;167;01mValueError\u001b[39;00m(\n\u001b[0;32m    458\u001b[0m         \u001b[38;5;124m\"\u001b[39m\u001b[38;5;124mFound input variables with inconsistent numbers of samples: \u001b[39m\u001b[38;5;132;01m%r\u001b[39;00m\u001b[38;5;124m\"\u001b[39m\n\u001b[0;32m    459\u001b[0m         \u001b[38;5;241m%\u001b[39m [\u001b[38;5;28mint\u001b[39m(l) \u001b[38;5;28;01mfor\u001b[39;00m l \u001b[38;5;129;01min\u001b[39;00m lengths]\n\u001b[0;32m    460\u001b[0m     )\n",
      "\u001b[1;31mValueError\u001b[0m: Found input variables with inconsistent numbers of samples: [519, 49999]"
     ]
    }
   ],
   "source": [
    "testdata = os.path.join(os.getcwd(), 'test-data','08-18','IMMEC_dynamic_nonlinear_5.0sec.npz')\n",
    "\n",
    "#the other two mehods diverge.............\n",
    "models = ['currents_nonlinear_dynamic_50ecc_60'] #,'currents_nonlinear_dynamic_50ecc_150',  'currents_nonlinear_dynamic_50ecc_420']\n",
    "\n",
    "\n",
    "# new models\n",
    "models = ['currents_nonlinear_dynamic_70', 'currents_nonlinear_dynamic_140', 'currents_nonlinear_dynamic_220']\n",
    "plot_function(models, testdata, 'currents', False, 'currents_d_nl')"
   ]
  },
  {
   "cell_type": "markdown",
   "id": "832f2a75-621a-42f3-8a5d-7bfe3268ba23",
   "metadata": {},
   "source": [
    "#### 15 nonlinear dynamical 50 ecc torque"
   ]
  },
  {
   "cell_type": "code",
   "execution_count": 5,
   "id": "14789afe-448f-44cc-978a-f4bf2b6abff0",
   "metadata": {},
   "outputs": [
    {
     "name": "stderr",
     "output_type": "stream",
     "text": [
      "[I 2024-08-22 15:14:36,059] Study name was omitted but trying to load 'optuna_studies//torquenonlinear_dynamic_50ecc-optuna-study' because that was the only study found in the storage.\n"
     ]
    },
    {
     "name": "stdout",
     "output_type": "stream",
     "text": [
      "['optuna_studies//torquenonlinear_dynamic_50ecc-optuna-study']\n",
      "Trial count: 1002\n"
     ]
    }
   ],
   "source": [
    "traindata = os.path.join(os.getcwd(), 'train-data', '08-16','IMMEC_dynamic_nonlinear_5.0sec.npz')\n",
    "plot_optuna_data('_w5//torquenonlinear_dynamic_50ecc-optuna-study')"
   ]
  },
  {
   "cell_type": "code",
   "execution_count": null,
   "id": "44349c9f-47cb-46e0-a93e-0fc2569fe991",
   "metadata": {},
   "outputs": [],
   "source": [
    "model1 =  make_model(traindata, modeltype='torque', optimizer =\"STLSQ\",\n",
    "                    nmbr_of_train=-1, lib='poly_2nd_order', alpha = 80.5, threshold = 0.0089,\n",
    "                    modelname='torque_nonlinear_dynamic_50ecc_50')\n",
    "# OOM ERROR\n",
    "'''\n",
    "model2 =  make_model(traindata, modeltype='torque', optimizer =\"STLSQ\",\n",
    "                    nmbr_of_train=-1, lib='interaction_only', alpha = 85.6, threshold = 0.0034,\n",
    "                    modelname='torque_nonlinear_dynamic_50ecc_100')\n",
    "'''"
   ]
  },
  {
   "cell_type": "code",
   "execution_count": 20,
   "id": "89c2df04-5f20-43fb-80b8-0a69800884fe",
   "metadata": {},
   "outputs": [
    {
     "name": "stdout",
     "output_type": "stream",
     "text": [
      "(i_d)' = 0.004 1 + 0.464 i_d + 0.913 i_q + -0.045 v_q + 1.573 I_d + 3.815 I_q + 2.800 V_d + 1.165 V_q + 0.002 \\omega + 0.020 i_d^2 + -0.011 i_d i_q + -3.855 i_d I_d + 7.616 i_d I_q + -0.121 i_d V_d + -0.737 i_d V_q + -0.131 i_d V_0 + -8.201 i_q I_d + -3.303 i_q I_q + 0.789 i_q V_d + 0.017 i_q V_q + 0.113 v_d I_d + -0.193 v_d I_q + 0.236 v_q I_d + 0.034 v_q I_q + 0.007 v_q r_y + -0.230 v_0 V_0 + -10.810 I_d^2 + -0.267 I_d I_q + -0.032 I_d V_d + 3.700 I_d V_q + 0.008 I_d \\omega + 1.469 I_q^2 + -2.198 I_q V_d + -1.810 I_q V_q + -0.039 I_q \\omega + 0.009 I_q f + -1.127 V_d^2 + -0.153 V_d V_q + -1.150 V_q^2\n",
      "Sparsity:  39\n",
      "(i_d)' = 0.012 1 + 0.499 i_q + 1.656 I_d + 7.138 I_q + 0.705 V_d + -0.784 V_q + 0.082 \\omega + -0.061 i_d i_q + -0.012 i_d v_d + -0.003 i_d v_q + 0.061 i_d I_d + 12.789 i_d I_q + -0.259 i_d V_d + -0.911 i_d V_q + -0.013 i_d \\omega + -0.002 i_q v_d + -6.725 i_q I_d + -0.763 i_q I_q + 0.857 i_q V_d + 0.028 i_q V_q + -0.010 i_q \\omega + -0.242 v_d I_d + 0.209 v_d I_q + 0.049 v_d V_d + 0.023 v_d V_q + 0.009 v_d r_y + 0.160 v_q I_d + -0.011 v_q V_d + 0.014 v_q r_y + -2.882 I_d V_d + 6.528 I_d V_q + -0.074 I_d f + -16.898 I_q V_d + -1.656 I_q V_q + -0.814 I_q \\omega + -0.018 I_q f + 0.939 V_d V_q + -0.029 V_d \\omega + 0.029 V_d f + 0.045 V_q \\omega + 0.042 V_0 f + -0.239 i_d i_q I_d + 0.852 i_d i_q I_q + 0.018 i_d i_q V_d + 0.002 i_d i_q V_0 + 0.066 i_d v_d I_d + 0.006 i_d v_d I_q + -0.016 i_d v_q I_d + 0.058 i_d v_q I_q + -15.055 i_d I_d I_q + -0.521 i_d I_d V_q + 0.089 i_d I_d \\omega + -0.021 i_d I_d f + 0.899 i_d I_q V_d + -0.218 i_d I_q V_q + -0.019 i_d I_q \\omega + 0.025 i_d V_d V_q + 0.023 i_d V_q V_0 + 0.014 i_d \\omega r_x + -0.035 i_d \\omega r_y + 0.202 i_d f r_y + 0.002 i_q v_d V_d + -0.004 i_q v_q I_d + -0.003 i_q v_q I_q + 0.002 i_q v_q V_q + 0.008 i_q v_q r_y + -11.950 i_q I_d I_q + 0.681 i_q I_d V_d + -0.843 i_q I_d V_q + -0.002 i_q I_d \\omega + 0.014 i_q I_d f + 0.025 i_q I_q V_d + 0.103 i_q I_q \\omega + -0.052 i_q I_q f + -0.023 i_q V_d V_q + 0.075 i_q V_d V_0 + -0.005 i_q V_q V_0 + -0.088 i_q \\omega r_x + 0.018 i_q \\omega r_y + 0.513 i_q f r_x + -0.477 v_d I_q V_d + 0.016 v_d I_q V_q + -0.001 v_d V_q r_y + 0.017 v_q I_d V_d + 0.226 v_q I_d V_q + 0.033 v_q I_d V_0 + -0.162 v_q I_q V_d + -0.423 v_q I_q V_q + -0.006 v_q V_d r_y + 0.002 v_q V_q r_x + -0.111 v_0 V_d V_0 + 54.895 I_d I_q V_d + -7.969 I_d I_q V_q + 2.665 I_d I_q \\omega + -4.947 I_d V_d V_q + -0.116 I_d V_d \\omega + -0.107 I_d V_d f + -0.212 I_d V_q \\omega + 0.051 I_d V_q f + -1.092 I_q V_d V_q + 0.451 I_q V_d \\omega + -0.005 I_q V_d f + -0.171 I_q V_q \\omega + -0.021 I_q V_q f + 0.004 V_d V_q \\omega + -0.040 V_d V_0 f + 0.043 V_q f r_x\n",
      "Sparsity:  107\n",
      "Torque100.pkl\n",
      "Torque50.pkl\n"
     ]
    }
   ],
   "source": [
    "testdata = os.path.join(os.getcwd(), 'test-data','08-18','IMMEC_dynamic_nonlinear_5.0sec.npz')\n",
    "\n",
    "models = ['torque_nonlinear_dynamic_50ecc_50', 'torque_nonlinear_dynamic_50ecc_100']\n",
    "\n",
    "plot_function(models, testdata, 'torque', True, 'torque_d_nl')"
   ]
  },
  {
   "cell_type": "markdown",
   "id": "b7019470-c304-4a50-bb80-878bb821e02a",
   "metadata": {},
   "source": [
    "#### 16 nonlinear dynamical 50 ecc UMP"
   ]
  },
  {
   "cell_type": "code",
   "execution_count": 23,
   "id": "5a14506a-23f2-4d2d-86d7-34b5f7e3cb23",
   "metadata": {},
   "outputs": [
    {
     "name": "stderr",
     "output_type": "stream",
     "text": [
      "[I 2025-02-12 11:49:35,692] Study name was omitted but trying to load 'optuna_studies//umpnonlinear_dynamic_50ecc-optuna-study' because that was the only study found in the storage.\n"
     ]
    },
    {
     "name": "stdout",
     "output_type": "stream",
     "text": [
      "['optuna_studies//umpnonlinear_dynamic_50ecc-optuna-study']\n",
      "Trial count: 1357\n"
     ]
    }
   ],
   "source": [
    "traindata = os.path.join(os.getcwd(), 'train-data', '08-16','IMMEC_dynamic_nonlinear_5.0sec.npz')\n",
    "plot_optuna_data('_w5//umpnonlinear_dynamic_50ecc-optuna-study')"
   ]
  },
  {
   "cell_type": "code",
   "execution_count": null,
   "id": "410e9da5-f206-4c9e-8330-a2aab6118682",
   "metadata": {},
   "outputs": [],
   "source": [
    "model1 =  make_model(traindata, modeltype='ump', optimizer =\"STLSQ\",\n",
    "                    nmbr_of_train=-1, lib='poly_2nd_order', alpha = 46.05, threshold = 0.922,\n",
    "                    modelname='ump_nonlinear_dynamic_50ecc_150')\n",
    "\n",
    "# OOM \n",
    "'''\n",
    "model2 =  make_model(traindata, modeltype='ump', optimizer =\"STLSQ\",\n",
    "                    nmbr_of_train=-1, lib='interaction_only', alpha = 16.68, threshold = 0.677,\n",
    "                    modelname='ump_nonlinear_dynamic_50ecc_650')\n",
    "'''\n",
    "\n",
    "model3 = make_model(traindata, modeltype='ump', optimizer='lasso',\n",
    "                    nmbr_of_train=-1, lib='poly_2nd_order',  alpha = 0.3121067,\n",
    "                    modelname='ump_nonlinear_dynamic_50ecc_100')"
   ]
  },
  {
   "cell_type": "code",
   "execution_count": 22,
   "id": "466a866e-8138-4cce-9883-39cc09f1f827",
   "metadata": {},
   "outputs": [
    {
     "name": "stdout",
     "output_type": "stream",
     "text": [
      "(i_d)' = -32.644 i_d + -10.807 i_q + -13.863 v_d + -9.946 v_q + -8.264 \\omega + 0.311 f + -4.443 i_d^2 + 8.564 i_d i_q + 0.087 i_d v_d + -0.069 i_d v_q + 21.327 i_d V_d + 4.784 i_d V_q + 0.511 i_d \\omega + -2.722 i_d f + 5.365 i_q^2 + 0.087 i_q v_d + -0.032 i_q v_q + 0.235 i_q \\omega + -0.217 i_q f + 0.001 v_d v_0 + 1.700 v_d I_d + 5.468 v_d V_d + -0.828 v_d V_q + 0.002 v_d \\omega + -0.014 v_d f + -28.354 v_q I_d + 2.601 v_q I_q + 0.755 v_q V_d + 5.785 v_q V_q + 0.001 v_q \\omega + 0.008 v_q f + -0.041 v_0^2 + -0.026 v_0 V_q + -0.019 v_0 \\omega + 0.114 v_0 f + 41.367 I_d \\omega + -24.663 I_d f + -35.489 I_q \\omega + -11.585 I_q f + 8.193 V_d \\omega + 5.448 V_d f + -8.415 V_q \\omega + -3.105 V_q f + -0.001 \\omega^2 + 0.010 \\omega f + 4968.137 \\omega r_x + 489.769 \\omega r_y + 0.001 f^2 + -8.351 cos(1 \\gamma)\n",
      "(i_q)' = 9.243 i_d + 17.579 i_q + 4.531 v_d + -3.254 v_q + -0.342 v_0 + -27.188 \\omega + -0.183 f + -15.164 i_d^2 + 0.173 i_d v_d + 0.233 i_d v_q + -0.019 i_d \\omega + -0.835 i_d f + -0.108 i_q v_d + 0.086 i_q v_q + -47.096 i_q V_d + -0.025 i_q \\omega + 0.911 i_q f + 0.009 v_d^2 + 7.788 v_d I_d + 43.993 v_d I_q + -0.386 v_d V_d + 1.398 v_d V_q + -0.001 v_d \\omega + -0.007 v_d f + 0.009 v_q^2 + -0.002 v_q v_0 + -25.352 v_q I_q + -1.652 v_q V_d + -0.230 v_q V_q + -1.155 v_q V_0 + -0.004 v_q f + -0.021 v_0^2 + 0.009 v_0 f + 42.827 I_d \\omega + 53.192 I_q \\omega + 20.630 V_d^2 + 8.213 V_d \\omega + 2.171 V_d f + 21.530 V_q^2 + 10.406 V_q \\omega + -2.662 V_q f + 10.020 V_0 f + -0.014 \\omega^2 + 0.003 \\omega f + -498.458 \\omega r_x + 4972.141 \\omega r_y + -0.006 f^2 + -6.397 sin(1 \\gamma)\n",
      "Sparsity:  105\n",
      "(i_d)' = 40.343 1 + -98.912 i_d + 114.501 i_q + -0.073 v_d + 7.947 v_q + 4.405 v_0 + -1481.943 I_d + -1254.855 I_q + 294.266 V_d + -172.484 V_q + 1249.235 V_0 + 6.521 \\omega + 344834.170 r_x + -394960.399 r_y + -0.274 i_d^2 + -7.282 i_d i_q + -47.756 i_d I_d + 944.677 i_d I_q + 9.684 i_d V_d + 48.804 i_d V_q + -157.112 i_d V_0 + -0.797 i_d f + 22051.166 i_d r_x + 4.646 i_q^2 + -1285.507 i_q I_d + 493.329 i_q I_q + 54.336 i_q V_d + -3.389 i_q V_q + 447.274 i_q V_0 + 24818.217 i_q r_x + 2060.708 i_q r_y + 11.164 v_d I_d + -47.739 v_d I_q + 0.867 v_d V_d + -300.876 v_d r_x + -449.942 v_d r_y + -29.335 v_q I_d + -16.154 v_q I_q + 0.944 v_q V_q + -1.746 v_q V_0 + -140.917 v_q r_x + -105.578 v_q r_y + -13.830 v_0 I_d + -18.956 v_0 I_q + -6.049 v_0 V_0 + 347.109 v_0 r_x + 3301.805 I_d^2 + 8027.414 I_d I_q + -1089.949 I_d V_d + 3054.605 I_d V_q + -4384.338 I_d V_0 + -4.650 I_d \\omega + -21.210 I_d f + 2529954.480 I_d r_x + 2220957.558 I_d r_y + 15428.479 I_q^2 + -2309.880 I_q V_d + -3678.749 I_q V_q + 3898.044 I_q V_0 + -24.548 I_q \\omega + 11.934 I_q f + 2258041.026 I_q r_x + 2100064.194 I_q r_y + -46.229 V_d V_q + 242.441 V_d V_0 + -1.693 V_d \\omega + 2.510 V_d f + -8672.558 V_d r_x + 44383.738 V_d r_y + 68.035 V_q^2 + -1274.584 V_q V_0 + -2.075 V_q \\omega + -153014.972 V_q r_x + -140425.587 V_q r_y + 7.070 V_0 \\omega + -50.523 V_0 f + 2655.199 \\omega r_x + -2440.201 \\omega r_y + -12981.756 f r_x + 12374.146 f r_y + -3.228 cos(1 \\gamma)\n",
      "(i_q)' = -10.375 1 + 139.929 i_d + -83.517 i_q + -9.866 v_d + -3.357 v_0 + 2258.947 I_d + -855.535 I_q + -3554.590 V_d + -1799.466 V_q + 231.260 V_0 + -7.900 \\omega + 336765.725 r_x + 258529.529 r_y + 6.641 i_d^2 + -45.252 i_d I_d + -517.617 i_d I_q + -49.577 i_d V_d + 9.435 i_d V_q + -49.289 i_d V_0 + -0.716 i_d f + -7817.844 i_d r_x + 20813.281 i_d r_y + 1.878 i_q^2 + 382.676 i_q I_d + -83.314 i_q I_q + 19.818 i_q V_d + -0.198 i_q V_q + 415.020 i_q V_0 + -12777.667 i_q r_x + 21993.334 i_q r_y + 50.027 v_d I_d + 12.363 v_d I_q + 0.679 v_d V_0 + 373.944 v_d r_x + -336.095 v_d r_y + -29.411 v_q I_d + 22.231 v_q I_q + 146.502 v_q r_x + -317.989 v_q r_y + 7.720 v_0 I_d + 16.551 v_0 I_q + 0.303 v_0 V_d + -29.086 v_0 V_0 + -479.433 v_0 r_x + -348.129 v_0 r_y + -310.603 I_d^2 + -599.517 I_d I_q + -471.583 I_d V_d + -962.416 I_d V_q + 22.187 I_d \\omega + -8.844 I_d f + -1935002.050 I_d r_x + 2157772.848 I_d r_y + 1423.550 I_q V_d + -586.504 I_q V_q + 4869.341 I_q V_0 + 6.413 I_q \\omega + -4.602 I_q f + -2182171.261 I_q r_x + 2863463.848 I_q r_y + 1575.057 V_d^2 + -29.738 V_d V_q + -402.451 V_d V_0 + 2.869 V_d \\omega + 1.668 V_d f + -26289.582 V_d r_x + 47298.527 V_d r_y + 1555.672 V_q^2 + -755.037 V_q V_0 + 0.302 V_q \\omega + 134530.878 V_q r_x + -144904.127 V_q r_y + -3.881 V_0 \\omega + 27.342 V_0 f + 2390.728 \\omega r_x + 2345.115 \\omega r_y + -12114.486 f r_x + -10457.834 f r_y + -2.195 sin(1 \\gamma)\n",
      "Sparsity:  160\n",
      "(i_d)' = -44.312 1 + -25.405 i_d + -400.869 i_q + -273.255 v_d + -140.190 v_q + -90.038 v_0 + 1980.888 I_d + 1867.739 I_q + -873.106 V_d + -989.568 V_q + 39891.760 V_0 + -134552.195 r_x + 277815.263 r_y + -14.078 i_d i_q + -4.115 i_d v_d + -13.561 i_d v_q + 1.090 i_d v_0 + 3492.216 i_d I_d + -3968.255 i_d I_q + -382.535 i_d V_d + 392.595 i_d V_q + -4229.582 i_d V_0 + -4.353 i_d \\omega + -5051613.007 i_d r_x + 17813741.270 i_d r_y + 8.428 i_q v_d + 27.195 i_q v_0 + -1361.749 i_q I_d + 4192.515 i_q I_q + 278.863 i_q V_d + 884.342 i_q V_q + -22763.519 i_q V_0 + -9.663 i_q \\omega + -6.905 i_q f + -7006876.771 i_q r_x + 14476633.142 i_q r_y + -0.055 v_d v_0 + 367.818 v_d I_d + 1105.117 v_d I_q + 289.091 v_d V_d + -37.832 v_d V_q + -505.163 v_d V_0 + 4.272 v_d f + 53369.718 v_d r_x + 84256.828 v_d r_y + 385.960 v_q I_d + -178.955 v_q I_q + 52.148 v_q V_d + 246.783 v_q V_q + -434.497 v_q V_0 + 2.182 v_q f + 128643.182 v_q r_x + -160808.013 v_q r_y + 599.843 v_0 I_d + 210.469 v_0 I_q + 90.215 v_0 V_d + -57.499 v_0 V_q + -2325.039 v_0 V_0 + -400529.972 v_0 r_x + 1000889.657 v_0 r_y + -12683.849 I_d I_q + 1721.284 I_d V_d + 5465.751 I_d V_q + -308779.098 I_d V_0 + 390.940 I_d \\omega + 101.866 I_d f + -18656192.545 I_d r_x + 51985460.082 I_d r_y + 2127.964 I_q V_d + 2374.459 I_q V_q + -445812.611 I_q V_0 + -846.593 I_q \\omega + -235.037 I_q f + 6706433.183 I_q r_x + -16790580.140 I_q r_y + 339.643 V_d V_q + -23611.806 V_d V_0 + -21.586 V_d \\omega + -1969976.349 V_d r_x + 3480696.698 V_d r_y + 59807.391 V_q V_0 + 15.551 V_q \\omega + 31.614 V_q f + -997745.182 V_q r_x + 8473061.377 V_q r_y + 924.634 V_0 \\omega + 468.237 V_0 f + -196044.302 \\omega r_x + 710300.300 \\omega r_y + 996.049 f r_x + -440.353 f r_y + 281.970 i_d i_q I_d + -71.324 i_d i_q V_d + -33.908 i_d i_q V_q + 539.745 i_d i_q V_0 + -22926.924 i_d i_q r_x + 32473.244 i_d i_q r_y + 2.759 i_d v_d I_d + 24.410 i_d v_d I_q + -1.269 i_d v_d V_d + 1.478 i_d v_d V_q + 5.426 i_d v_d V_0 + -670.658 i_d v_d r_x + 1146.809 i_d v_d r_y + 53.142 i_d v_q I_d + 46.072 i_d v_q I_q + -1.510 i_d v_q V_d + -1.653 i_d v_q V_q + -2.899 i_d v_q V_0 + 5477.935 i_d v_q r_x + 3586.626 i_d v_q r_y + -35.587 i_d v_0 I_d + 47.567 i_d v_0 I_q + 1.495 i_d v_0 V_d + -1.744 i_d v_0 V_q + 60.113 i_d v_0 V_0 + 2484.800 i_d v_0 r_x + -19877.578 i_d v_0 r_y + 2671.461 i_d I_d I_q + 1676.359 i_d I_d V_d + -5080.345 i_d I_d V_q + 37.259 i_d I_d \\omega + 51.756 i_d I_d f + 44971870.432 i_d I_d r_x + -102721066.312 i_d I_d r_y + 411.219 i_d I_q V_d + 4454.601 i_d I_q V_q + -38543.738 i_d I_q V_0 + -2.415 i_d I_q \\omega + -120.421 i_d I_q f + -18477325.399 i_d I_q r_x + 10599052.382 i_d I_q r_y + 37.520 i_d V_d V_q + 3309.988 i_d V_d V_0 + 2.497 i_d V_d \\omega + -3.080 i_d V_d f + -1090711.553 i_d V_d r_x + -960562.465 i_d V_d r_y + 555.492 i_d V_q V_0 + -2.086 i_d V_q \\omega + 3.192 i_d V_q f + 162291.002 i_d V_q r_x + 127958.256 i_d V_q r_y + 63.866 i_d V_0 \\omega + -345.281 i_d V_0 f + -24180249.536 i_d V_0 r_x + 3471.179 i_d \\omega r_x + 3385.034 i_d \\omega r_y + -16935.269 i_d f r_x + -16120.027 i_d f r_y + -30.381 i_q v_d I_d + 2.513 i_q v_d I_q + -2.312 i_q v_d V_q + 8.439 i_q v_d V_0 + -4554.528 i_q v_d r_x + -4825.616 i_q v_d r_y + -16.035 i_q v_q I_d + -30.229 i_q v_q I_q + 2.683 i_q v_q V_d + 3.138 i_q v_q V_0 + 604.698 i_q v_q r_x + 1990.499 i_q v_q r_y + 18.975 i_q v_0 I_d + -296.447 i_q v_0 I_q + 0.463 i_q v_0 V_q + -139.688 i_q v_0 V_0 + -17983.512 i_q v_0 r_x + -1159.148 i_q v_0 r_y + 8092.928 i_q I_d I_q + -2179.323 i_q I_d V_q + 105842.005 i_q I_d V_0 + 21.609 i_q I_d \\omega + 47.917 i_q I_d f + 7711773.307 i_q I_d r_x + -9720320.381 i_q I_d r_y + -1414.288 i_q I_q V_d + -5232.887 i_q I_q V_q + 25488.419 i_q I_q V_0 + -23.925 i_q I_q \\omega + -21.957 i_q I_q f + 51873239.903 i_q I_q r_x + -107421865.542 i_q I_q r_y + 26.540 i_q V_d V_q + -1646.570 i_q V_d V_0 + 2.773 i_q V_d \\omega + 626081.946 i_q V_d r_x + -1432725.917 i_q V_d r_y + -1429.034 i_q V_q V_0 + 2.113 i_q V_q \\omega + -2.850 i_q V_q f + -399698.885 i_q V_q r_x + -349020.985 i_q V_q r_y + 10.045 i_q V_0 \\omega + 76.496 i_q V_0 f + 25170524.040 i_q V_0 r_y + -5485.584 i_q \\omega r_x + -880.384 i_q \\omega r_y + 27820.049 i_q f r_x + 10659.729 i_q f r_y + -5.018 v_d v_q r_x + -8.362 v_d v_q r_y + 0.349 v_d v_0 I_d + 63.856 v_d v_0 r_x + 193.195 v_d v_0 r_y + -250.933 v_d I_d I_q + -736.169 v_d I_d V_d + 235.685 v_d I_d V_q + -4923.983 v_d I_d V_0 + -0.189 v_d I_d f + -1205222.074 v_d I_d r_x + 1747293.494 v_d I_d r_y + -584.921 v_d I_q V_d + -38.058 v_d I_q V_q + 1852.344 v_d I_q V_0 + 454833.643 v_d I_q r_x + -3421631.116 v_d I_q r_y + 1186.238 v_d V_d V_0 + -3.887 v_d V_d f + 169827.948 v_d V_d r_x + -323653.517 v_d V_d r_y + -167.325 v_d V_q V_0 + -102309.214 v_d V_q r_x + 476080.945 v_d V_q r_y + 33412.124 v_d V_0 r_x + -112311.228 v_d V_0 r_y + -7.892 v_d \\omega r_x + 34.746 v_d f r_x + -48.343 v_d f r_y + 164.168 v_q v_0 r_x + -24.453 v_q v_0 r_y + 2096.007 v_q I_d I_q + -208.390 v_q I_d V_d + -584.507 v_q I_d V_q + -2341.125 v_q I_d V_0 + 0.918 v_q I_d f + -1039197.129 v_q I_d r_x + 4195689.183 v_q I_d r_y + -141.004 v_q I_q V_d + -509.545 v_q I_q V_q + 1570.401 v_q I_q V_0 + 1.596 v_q I_q f + -1478046.556 v_q I_q r_x + 1218098.875 v_q I_q r_y + 167.287 v_q V_d V_0 + 99088.477 v_q V_d r_x + -472994.752 v_q V_d r_y + 1203.647 v_q V_q V_0 + -3.887 v_q V_q f + 164331.594 v_q V_q r_x + -331045.648 v_q V_q r_y + -104541.292 v_q V_0 r_x + -31260.204 v_q V_0 r_y + 3.732 v_q \\omega r_y + 5.773 v_q f r_x + -48.487 v_q f r_y + -2091.746 v_0 I_d I_q + -525.627 v_0 I_d V_d + 153.621 v_0 I_d V_q + 7290.390 v_0 I_d V_0 + 4423400.130 v_0 I_d r_x + -3667165.564 v_0 I_d r_y + -20.698 v_0 I_q V_d + 251.249 v_0 I_q V_q + 8763.373 v_0 I_q V_0 + -3629029.708 v_0 I_q r_x + -4957689.741 v_0 I_q r_y + 6.274 v_0 V_d V_q + -71280.710 v_0 V_d r_x + 101203.990 v_0 V_d r_y + 243.159 v_0 V_q V_0 + 115339.865 v_0 V_q r_x + 78504.445 v_0 V_q r_y + -143988.784 v_0 V_0 r_y + 7.732 v_0 \\omega r_y + -63.781 v_0 f r_y + -2171.725 I_d I_q V_d + 819.928 I_d I_q V_q + 1805302.116 I_d I_q V_0 + 1554.384 I_d I_q \\omega + -21902712.914 I_d I_q r_x + 32968061.681 I_d I_q r_y + -1047.835 I_d V_d V_q + 161646.449 I_d V_d V_0 + -127.591 I_d V_d \\omega + -68.226 I_d V_d f + 14053150.873 I_d V_d r_x + -37464924.408 I_d V_d r_y + -216839.762 I_d V_q V_0 + -340.413 I_d V_q \\omega + -76.656 I_d V_q f + 2356745.143 I_d V_q r_x + -30409680.741 I_d V_q r_y + -2493.786 I_d V_0 \\omega + -6717.287 I_d V_0 f + 98448.757 I_d \\omega r_x + 256333.976 I_d \\omega r_y + -196186.079 I_d f r_x + -588205.913 I_d f r_y + -2047.944 I_q V_d V_q + 269.965 I_q V_d \\omega + 286.171 I_q V_d f + 30088.536 I_q V_d r_x + 27273598.771 I_q V_d r_y + 4679.733 I_q V_q V_0 + 417.428 I_q V_q \\omega + -52.707 I_q V_q f + 151446.090 I_q V_q r_x + -33050426.467 I_q V_q r_y + -2858.369 I_q V_0 \\omega + 1484.470 I_q V_0 f + 42574.340 I_q \\omega r_x + -150706.130 I_q \\omega r_y + 381864.558 I_q f r_x + 858342.224 I_q f r_y + -2718.946 V_d V_q V_0 + 9.804 V_d V_q \\omega + -10.802 V_d V_q f + 110694.539 V_d V_q r_x + 739929.697 V_d V_q r_y + -409.969 V_d V_0 \\omega + 735.413 V_d V_0 f + -1276952.638 V_d V_0 r_x + -11788.074 V_d \\omega r_x + 15763.141 V_d \\omega r_y + 22599.381 V_d f r_x + 53465.601 V_d f r_y + -268.435 V_q V_0 f + 842632.544 V_q V_0 r_y + 19146.911 V_q \\omega r_x + -9903.193 V_q \\omega r_y + -60739.902 V_q f r_x + -37186.822 V_q f r_y + 8360.488 V_0 \\omega r_x + -1537.161 V_0 \\omega r_y + -66.281 \\omega f r_x + -2.422 \\omega f r_y + -1.024 sin(1 \\gamma) + -2.580 cos(1 \\gamma)\n",
      "(i_q)' = 93.798 1 + 717.857 i_d + 153.426 i_q + -397.673 v_d + -134.082 v_q + 36.514 v_0 + 1212.244 I_d + -3900.064 I_q + -461.771 V_d + -0.519 V_q + -16948.348 V_0 + 90.062 \\omega + -28862.913 r_x + -494843.006 r_y + -188.754 i_d i_q + 7.990 i_d v_d + -24.097 i_d v_0 + -5058.130 i_d I_d + 6188.816 i_d I_q + -207.983 i_d V_d + 24719.221 i_d V_0 + 7.010 i_d \\omega + -2.604 i_d f + -15502459.787 i_d r_x + -6182587.285 i_d r_y + -4.766 i_q v_d + -8.405 i_q v_q + 43.170 i_q v_0 + -1372.918 i_q I_d + -5453.928 i_q I_q + 301.602 i_q V_d + -43.980 i_q V_q + 7740.610 i_q V_0 + -10.158 i_q f + -10173002.469 i_q r_x + -7154519.074 i_q r_y + -0.481 v_d v_0 + 1405.889 v_d I_d + 1458.532 v_d I_q + 236.573 v_d V_d + 51.453 v_d V_q + 190.322 v_d V_0 + 0.725 v_d f + -198992.869 v_d r_x + 9835.925 v_d r_y + -0.634 v_q v_0 + -108.608 v_q I_d + 1455.112 v_q I_q + -39.051 v_q V_d + 273.688 v_q V_q + 1241.029 v_q V_0 + 0.717 v_q f + 239538.791 v_q r_x + -16195.584 v_q r_y + -96.036 v_0 I_d + -543.050 v_0 I_q + 40.893 v_0 V_d + -62.234 v_0 V_q + -138.460 v_0 V_0 + 1003311.460 v_0 r_x + 673130.761 v_0 r_y + 36700.574 I_d I_q + 700.544 I_d V_d + 5511.262 I_d V_q + 115874.080 I_d V_0 + -748.867 I_d \\omega + 94.743 I_d f + -43805700.736 I_d r_x + -8631233.208 I_d r_y + 716.259 I_q V_d + 5168.878 I_q V_q + -4110.533 I_q V_0 + 904.365 I_q \\omega + -78.980 I_q f + 52123763.488 I_q r_x + -5058705.610 I_q r_y + -1254.748 V_d V_q + 709.348 V_d V_0 + 2.133 V_d \\omega + 4.697 V_d f + -5041240.095 V_d r_x + -848478.169 V_d r_y + 1120.786 V_q V_0 + -62.839 V_q \\omega + 6.821 V_q f + -14296836.586 V_q r_x + 206774.498 V_q r_y + 116.044 V_0 \\omega + -11.432 V_0 f + -648358.596 \\omega r_x + -186122.225 \\omega r_y + 1929.679 f r_x + 622.706 f r_y + -1.850 i_d i_q v_0 + -320.306 i_d i_q I_d + 2028.880 i_d i_q I_q + 88.074 i_d i_q V_d + -115.044 i_d i_q V_q + 1701.667 i_d i_q V_0 + 0.336 i_d i_q f + 109373.312 i_d i_q r_x + 46804.983 i_d i_q r_y + -38.730 i_d v_d I_d + -6.246 i_d v_d I_q + -1.259 i_d v_d V_d + 2.143 i_d v_d V_q + 11.072 i_d v_d V_0 + -876.570 i_d v_d r_x + 1033.198 i_d v_d r_y + 4.117 i_d v_q I_d + 56.120 i_d v_q I_q + -2.230 i_d v_q V_d + -1.401 i_d v_q V_q + -11.937 i_d v_q V_0 + -5314.260 i_d v_q r_x + 5341.982 i_d v_q r_y + 110.321 i_d v_0 I_d + 33.430 i_d v_0 I_q + 2.389 i_d v_0 V_q + 84.383 i_d v_0 V_0 + -20646.496 i_d v_0 r_x + -9168.409 i_d v_0 r_y + -26466.725 i_d I_d I_q + 2250.702 i_d I_d V_d + 3583.566 i_d I_d V_q + -83057.176 i_d I_d V_0 + -4.882 i_d I_d \\omega + 45.331 i_d I_d f + 100383954.545 i_d I_d r_x + 48758683.843 i_d I_d r_y + -1088.355 i_d I_q V_d + -2726.642 i_d I_q V_q + -51516.015 i_d I_q V_0 + 7.511 i_d I_q \\omega + -49.325 i_d I_q f + -18516235.833 i_d I_q r_x + -18511184.166 i_d I_q r_y + -202.301 i_d V_d V_q + -2425.593 i_d V_d V_0 + -2.895 i_d V_d \\omega + -0.865 i_d V_d f + 208984.271 i_d V_d r_x + -666981.638 i_d V_d r_y + -944.072 i_d V_q V_0 + 0.228 i_d V_q f + -983877.331 i_d V_q r_x + -258874.016 i_d V_q r_y + -78.297 i_d V_0 \\omega + 436.210 i_d V_0 f + 22937763.051 i_d V_0 r_y + -524.738 i_d \\omega r_x + 4467.183 i_d \\omega r_y + 6775.164 i_d f r_x + -17642.953 i_d f r_y + -29.909 i_q v_d I_d + 2.536 i_q v_d I_q + 5.149 i_q v_d V_d + 2.991 i_q v_d V_q + 10.768 i_q v_d V_0 + 3225.519 i_q v_d r_x + -6017.335 i_q v_d r_y + 7.936 i_q v_q I_d + 44.254 i_q v_q I_q + -2.906 i_q v_q V_d + 5.079 i_q v_q V_q + -12.859 i_q v_q V_0 + -821.698 i_q v_q r_x + -640.526 i_q v_q r_y + -66.569 i_q v_0 I_d + -299.783 i_q v_0 I_q + -0.345 i_q v_0 V_d + -63.267 i_q v_0 V_0 + -3738.765 i_q v_0 r_x + 20960.497 i_q v_0 r_y + 35360.875 i_q I_d I_q + -1914.784 i_q I_d V_d + -804.812 i_q I_d V_q + 12094.065 i_q I_d V_0 + 11.194 i_q I_d \\omega + 58.217 i_q I_d f + -5138989.431 i_q I_d r_x + 16579486.615 i_q I_d r_y + -261.598 i_q I_q V_d + -554.304 i_q I_q V_q + -110577.981 i_q I_q V_0 + 19.199 i_q I_q \\omega + -11.308 i_q I_q f + 98238455.953 i_q I_q r_x + 48220122.449 i_q I_q r_y + 211.979 i_q V_d V_q + 601.797 i_q V_d V_0 + 2.228 i_q V_d \\omega + 371058.443 i_q V_d r_x + 20862.461 i_q V_d r_y + 8438.742 i_q V_q V_0 + -2.254 i_q V_q \\omega + -0.883 i_q V_q f + 1230180.674 i_q V_q r_x + -1242997.278 i_q V_q r_y + -118.311 i_q V_0 f + 25178495.002 i_q V_0 r_x + -611.736 i_q \\omega r_x + -3505.896 i_q \\omega r_y + -5865.344 i_q f r_x + 20486.008 i_q f r_y + -3.295 v_d v_q r_x + 2.814 v_d v_0 I_d + -0.173 v_d v_0 I_q + 214.857 v_d v_0 r_x + 52.394 v_d v_0 r_y + -1268.421 v_d I_d I_q + -525.371 v_d I_d V_d + -380.775 v_d I_d V_q + 6369.211 v_d I_d V_0 + -1011468.298 v_d I_d r_x + -1475870.571 v_d I_d r_y + -1224.974 v_d I_q V_d + 157.447 v_d I_q V_q + 375.908 v_d I_q V_0 + 1.967 v_d I_q f + 3933203.164 v_d I_q r_x + 780604.394 v_d I_q r_y + -1179.046 v_d V_d V_0 + -0.853 v_d V_d f + 234347.355 v_d V_d r_x + 221219.596 v_d V_d r_y + 50.831 v_d V_q V_0 + -467175.645 v_d V_q r_x + -94988.954 v_d V_q r_y + -90446.792 v_d V_0 r_x + -17183.707 v_d V_0 r_y + -4.053 v_d \\omega r_x + -2.659 v_d \\omega r_y + 65.120 v_d f r_x + -5.512 v_d f r_y + 2.351 v_q v_0 I_d + 2.053 v_q v_0 I_q + 0.494 v_q v_0 V_0 + -83.876 v_q v_0 r_x + -164.020 v_q v_0 r_y + -402.066 v_q I_d I_q + 398.885 v_q I_d V_d + -558.185 v_q I_d V_q + -869.596 v_q I_d V_0 + -1.264 v_q I_d f + -3816868.629 v_q I_d r_x + -666200.428 v_q I_d r_y + -313.408 v_q I_q V_d + -1410.137 v_q I_q V_q + -2376.325 v_q I_q V_0 + 0.426 v_q I_q f + -1818469.945 v_q I_q r_x + -1123224.121 v_q I_q r_y + -29.940 v_q V_d V_0 + 472949.278 v_q V_d r_x + 98949.261 v_q V_d r_y + -1128.506 v_q V_q V_0 + -0.848 v_q V_q f + 230750.786 v_q V_q r_x + 225451.601 v_q V_q r_y + -48106.630 v_q V_0 r_x + 121196.857 v_q V_0 r_y + -3.721 v_q \\omega r_x + 70.103 v_q f r_x + 20.262 v_q f r_y + 2242.922 v_0 I_d I_q + -238.371 v_0 I_d V_d + 228.305 v_0 I_d V_q + -3278.164 v_0 I_d V_0 + -0.565 v_0 I_d f + -4170276.789 v_0 I_d r_x + -5771897.423 v_0 I_d r_y + 58.108 v_0 I_q V_d + 255.013 v_0 I_q V_q + 7717.862 v_0 I_q V_0 + 1.010 v_0 I_q f + -4488174.595 v_0 I_q r_x + 2918050.488 v_0 I_q r_y + -4.673 v_0 V_d V_q + -202.926 v_0 V_d V_0 + 127173.697 v_0 V_d r_x + 83718.712 v_0 V_d r_y + 181.695 v_0 V_q V_0 + 87867.517 v_0 V_q r_x + -81988.959 v_0 V_q r_y + -25494.729 v_0 V_0 r_x + 16.582 v_0 \\omega r_x + -38.479 v_0 \\omega r_y + -38.424 v_0 f r_x + 338.797 v_0 f r_y + -9292.882 I_d I_q V_d + -67773.312 I_d I_q V_q + -2631.416 I_d I_q \\omega + -745.196 I_d I_q f + -310028567.627 I_d I_q r_x + -60291608.174 I_d I_q r_y + 1722.776 I_d V_d V_q + -47646.276 I_d V_d V_0 + 88.570 I_d V_d \\omega + -71.393 I_d V_d f + 37476760.318 I_d V_d r_x + 4759280.875 I_d V_d r_y + 395.044 I_d V_q \\omega + -7.091 I_d V_q f + 58020727.941 I_d V_q r_x + -2226485.004 I_d V_q r_y + -553.776 I_d V_0 \\omega + 3812.824 I_d V_0 f + -253962.079 I_d \\omega r_x + 58523.127 I_d \\omega r_y + 456871.461 I_d f r_x + -174329.368 I_d f r_y + 7099.352 I_q V_d V_q + 65783.450 I_q V_d V_0 + -177.657 I_q V_d \\omega + 137.064 I_q V_d f + -10812517.478 I_q V_d r_x + 14173053.256 I_q V_d r_y + -47372.293 I_q V_q V_0 + 17.479 I_q V_q \\omega + 44.803 I_q V_q f + 32369753.553 I_q V_q r_x + 4941938.512 I_q V_q r_y + -463.740 I_q V_0 \\omega + 530.214 I_q V_0 f + 1533.816 I_q \\omega r_x + 56557.463 I_q \\omega r_y + -707173.529 I_q f r_x + 286644.794 I_q f r_y + -6676.306 V_d V_q V_0 + -10.725 V_d V_q \\omega + -5.895 V_d V_q f + 19415.888 V_d V_q r_x + -161279.342 V_d V_q r_y + 91.852 V_d V_0 \\omega + -934.264 V_d V_0 f + 219215.728 V_d V_0 r_y + -41442.257 V_d \\omega r_x + -12307.044 V_d \\omega r_y + -40730.742 V_d f r_x + 24934.817 V_d f r_y + 64.582 V_q V_0 \\omega + 469.715 V_q V_0 f + 2523793.800 V_q V_0 r_x + -10297.020 V_q \\omega r_x + 19152.973 V_q \\omega r_y + 22123.501 V_q f r_x + -54709.346 V_q f r_y + -7298.273 V_0 \\omega r_x + -3357.463 V_0 \\omega r_y + 23.820 \\omega f r_x + -67.355 \\omega f r_y + -3.728 sin(1 \\gamma) + 0.893 cos(1 \\gamma)\n",
      "Sparsity:  692\n",
      "UMP100.pkl\n",
      "UMP150.pkl\n",
      "UMP650.pkl\n"
     ]
    }
   ],
   "source": [
    "testdata = os.path.join(os.getcwd(), 'test-data','08-18','IMMEC_dynamic_nonlinear_5.0sec.npz')\n",
    "\n",
    "models = ['ump_nonlinear_dynamic_50ecc_100','ump_nonlinear_dynamic_50ecc_150', 'ump_nonlinear_dynamic_50ecc_650']\n",
    "\n",
    "plot_function(models, testdata, 'ump', True, 'ump_d_nl')"
   ]
  },
  {
   "cell_type": "markdown",
   "id": "d66d85a2-a304-400b-99c6-8897e2f00c59",
   "metadata": {},
   "source": [
    "#### 17 nonlinear ump 0 ecc "
   ]
  },
  {
   "cell_type": "code",
   "execution_count": null,
   "id": "646cb78f-4b3f-4a78-abc5-89f7c7a3bd48",
   "metadata": {},
   "outputs": [],
   "source": [
    "traindata = os.path.join(os.getcwd(), 'train-data', '07-31-nonlin', 'IMMEC_nonlinear-0ecc_5.0sec.npz')\n",
    "plot_optuna_data('_w5//umpnonlinear-optuna-study')"
   ]
  },
  {
   "cell_type": "code",
   "execution_count": null,
   "id": "2cb3d97a-8737-4244-ba0a-485214f69842",
   "metadata": {},
   "outputs": [],
   "source": [
    "model1 = make_model(traindata, modeltype = 'ump', optimizer = 'STLSQ',\n",
    "                    nmbr_of_train = -1, lib = 'poly_2nd_order', alpha = 1.3e-5, threshold = 0.01733,\n",
    "                    modelname='ump_nonlinear_80')\n",
    "model2 = make_model(traindata, modeltype = 'ump', optimizer = 'lasso',\n",
    "                    nmbr_of_train = -1, lib = 'linear-specific', alpha = 4.8,\n",
    "                    modelname='ump_nonlinear_0')"
   ]
  },
  {
   "cell_type": "code",
   "execution_count": null,
   "id": "64aef0df-00be-40ca-97cb-af64a35fc4a7",
   "metadata": {},
   "outputs": [],
   "source": [
    "testdata = os.path.join(os.getcwd(), 'test-data', '08-07', 'IMMEC_nonlin_0ecc_5.0sec.npz')\n",
    "\n",
    "models = ['ump_nonlinear_0', 'ump_nonlinear_80']\n",
    "\n",
    "plot_function(models, testdata, 'ump', True, 'ump_nl')"
   ]
  }
 ],
 "metadata": {
  "kernelspec": {
   "display_name": "Python 3 (ipykernel)",
   "language": "python",
   "name": "python3"
  },
  "language_info": {
   "codemirror_mode": {
    "name": "ipython",
    "version": 3
   },
   "file_extension": ".py",
   "mimetype": "text/x-python",
   "name": "python",
   "nbconvert_exporter": "python",
   "pygments_lexer": "ipython3",
   "version": "3.12.8"
  }
 },
 "nbformat": 4,
 "nbformat_minor": 5
}
