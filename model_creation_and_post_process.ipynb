{
 "cells": [
  {
   "cell_type": "code",
   "execution_count": 1,
   "id": "5f11579c-0981-4b52-b7f7-702fec4e769a",
   "metadata": {},
   "outputs": [],
   "source": [
    "import os.path\n",
    "from optimize_parameters import plot_optuna_data\n",
    "from source import *\n",
    "from train_model_source import simulate_model, make_model\n",
    "%matplotlib QtAgg\n",
    "\n",
    "def plot_function(models,testdata, type, existing_plot, folder):\n",
    "    pref = \"_w5//\"\n",
    "    if not existing_plot:\n",
    "        for model in models:\n",
    "            do_sim = type=='currents'\n",
    "            sim, test = simulate_model(pref + model + '_model', testdata, \n",
    "                                       modeltype=type, do_time_simulation=do_sim,\n",
    "                                       show=False, ecc_input = True)\n",
    "    else:\n",
    "        show_coefs = True\n",
    "        if show_coefs:\n",
    "            for model_ in models:\n",
    "                model = load_model(pref + model_ + '_model')\n",
    "                plot_coefs2(model, log=True, type=type)\n",
    "        path = os.path.join(os.getcwd(), 'plot_data//_w5//', folder)\n",
    "        plot_everything(path)"
   ]
  },
  {
   "cell_type": "markdown",
   "id": "1907930b-13b0-496b-9fa4-bb15fcc8984b",
   "metadata": {},
   "source": [
    "## Tabel of contents\n",
    "\n",
    "[Linear model currents](#1-linear-model-currents)\n",
    "\n",
    "[Linear model torque](#2-linear-model-torque)\n",
    "\n",
    "[Nonlinear model currents](#3-nonlinear-model-currents)\n",
    "\n",
    "[Nonlinear model torque](#4-nonlinear-model-torque)\n",
    "\n",
    "[Linear model currents 50](#5-linear-mlodel-currents-with-50-ecc)\n",
    "\n",
    "[Linear model torque 50](#6-linear-model-torque-with-50-ecc)\n",
    "\n",
    "[Linear model ump 50](#7-linear-model-ump-with-50-ecc)\n",
    "\n",
    "[Nonlinear model currents 50](#8-nonlinear-model-currents-with-50-ecc)\n",
    "\n",
    "[Nonlinear model torque 50](#9-nonlinear-model-torque-with-50-ecc)\n",
    "\n",
    "[Nonlinear model ump 50](#10-nonlinear-model-ump-with-50-ecc)\n",
    "\n",
    "[Linear dynamic model currents](#11-linear-dynamical-50-ecc-currents)\n",
    "\n",
    "[Linear dynamic model torque](#12-linear-dynamical-50-ecc-torque)\n",
    "\n",
    "[Linear dynamic model ump](#13-linear-dynamical-50-ecc-ump)\n",
    "\n",
    "[Nonlinear dynamic model currents](#14-nonlinear-dynamical-50-ecc-currents)\n",
    "\n",
    "[Nonlinear dynamic model torque](#15-nonlinear-dynamical-50-ecc-torque)\n",
    "\n",
    "[Nonlinear dynamic model ump](#16-nonlinear-dynamical-50-ecc-ump)\n",
    "\n",
    "[Nonlinear model ump](#17-nonlinear-ump-0-ecc)"
   ]
  },
  {
   "cell_type": "markdown",
   "id": "2a3413cd-030a-4716-9eca-d01b33ffaffc",
   "metadata": {},
   "source": [
    "#### 1 linear model currents"
   ]
  },
  {
   "cell_type": "code",
   "execution_count": null,
   "id": "10d151c1-d0ec-48cd-b376-0b0210e80818",
   "metadata": {},
   "outputs": [],
   "source": [
    "traindata = os.path.join(os.getcwd(), 'train-data', '07-29-default', 'IMMEC_0ecc_5.0sec.npz')\n",
    "plot_optuna_data('_w5//currentslinear-optuna-study')"
   ]
  },
  {
   "cell_type": "code",
   "execution_count": null,
   "id": "5d64850c-313b-49be-a9f7-846b96742fa3",
   "metadata": {},
   "outputs": [],
   "source": [
    "model1 = make_model(traindata, modeltype='currents', optimizer='STLSQ',\n",
    "               nmbr_of_train=-1, lib='linear-specific', alpha = 1.716, threshold = 0.65,\n",
    "               modelname='currents_linear_40')\n",
    "\n",
    "''' # Takes really long to run, also dc term is not zero\n",
    "model2 = make_model(traindata, modeltype='currents', optimizer='STLSQ',\n",
    "                    nmbr_of_train=-1, lib=\"nonlinear_terms\", alpha = .2, threshold = .458,\n",
    "                    modelname='currents_linear_300')\n",
    "'''"
   ]
  },
  {
   "cell_type": "code",
   "execution_count": null,
   "id": "a51e3eb1-70f5-44a2-bc63-89994cf7f7ed",
   "metadata": {},
   "outputs": [],
   "source": [
    "testdata = os.path.join(os.getcwd(), 'test-data', '07-29-default', 'IMMEC_0ecc_5.0sec.npz')\n",
    "#testdata = os.path.join(os.getcwd(), 'test-data','08-19','IMMEC_dynamic_linear_5.0sec.npz') # dynamic eccentricity test\n",
    "\n",
    "models = [\"currents_linear_40\"] \n",
    "\n",
    "plot_function(models, testdata, 'currents', True, 'currents')\n",
    "plot_function(models, testdata, 'currents', True, 'currents_dynamic')\n",
    "# so, the dynamic eccentricity current model is really easy to learn"
   ]
  },
  {
   "cell_type": "markdown",
   "id": "bb6aa72b-64b1-4e0b-a78a-58722fbb7f4c",
   "metadata": {},
   "source": [
    "#### 2 linear model torque "
   ]
  },
  {
   "cell_type": "code",
   "execution_count": null,
   "id": "0d8eb0b7-9415-4a35-8a0b-e99672f94945",
   "metadata": {},
   "outputs": [],
   "source": [
    "traindata = os.path.join(os.getcwd(), 'train-data', '07-29-default', 'IMMEC_0ecc_5.0sec.npz')\n",
    "plot_optuna_data('_w5//torquelinear-optuna-study')"
   ]
  },
  {
   "cell_type": "code",
   "execution_count": null,
   "id": "7875db9e-0d54-48b9-89a1-46fe209062c5",
   "metadata": {},
   "outputs": [],
   "source": [
    "model1 = make_model(traindata, modeltype='torque', optimizer='STLSQ',\n",
    "               nmbr_of_train=-1, lib='torque', alpha = 1.9e-5, threshold = 0.017,\n",
    "               modelname='torque_linear_8')\n",
    "model2 = make_model(traindata, modeltype='torque', optimizer='STLSQ',\n",
    "                    nmbr_of_train=-1, lib='poly_2nd_order', alpha = .008, threshold = .026,\n",
    "                    modelname='torque_linear_16')"
   ]
  },
  {
   "cell_type": "code",
   "execution_count": null,
   "id": "fe4539c4-1342-411c-b432-94ba7bb2722a",
   "metadata": {},
   "outputs": [],
   "source": [
    "testdata = os.path.join(os.getcwd(), 'test-data', '07-29-default', 'IMMEC_0ecc_5.0sec.npz')\n",
    "\n",
    "models = ['torque_linear_8','torque_linear_16']\n",
    "\n",
    "plot_function(models, testdata, 'torque', True, 'torque')"
   ]
  },
  {
   "cell_type": "markdown",
   "id": "a860610b-6715-48a8-ba11-d0319001b7f8",
   "metadata": {},
   "source": [
    "#### 3 nonlinear model currents"
   ]
  },
  {
   "cell_type": "code",
   "execution_count": null,
   "id": "4f5cd114-30f6-45a3-b249-56f9b67168a5",
   "metadata": {},
   "outputs": [],
   "source": [
    "traindata = os.path.join(os.getcwd(), 'train-data', '07-31-nonlin', 'IMMEC_nonlinear-0ecc_5.0sec.npz')\n",
    "plot_optuna_data('_w5//currentsnonlinear-optuna-study')"
   ]
  },
  {
   "cell_type": "code",
   "execution_count": null,
   "id": "41db60c0-e800-4c17-87f6-2e48a088b683",
   "metadata": {},
   "outputs": [],
   "source": [
    "model1 = make_model(traindata, modeltype='currents', optimizer='STLSQ',\n",
    "               nmbr_of_train=-1, lib='linear-specific', alpha = .0257, threshold = 0.7,\n",
    "               modelname='currents_nonlinear_70')\n",
    "model2 = make_model(traindata, modeltype='currents', optimizer='lasso',\n",
    "               nmbr_of_train=-1, lib='interaction_only', alpha = 94.2,\n",
    "                    modelname='currents_nonlinear_100')\n",
    "model3 = make_model(traindata, modeltype='currents', optimizer='STLSQ',\n",
    "               nmbr_of_train=-1, lib='interaction_only', alpha = 55, threshold = .9,\n",
    "                    modelname='currents_nonlinear_250')"
   ]
  },
  {
   "cell_type": "code",
   "execution_count": null,
   "id": "486bcc95-e7e6-45c3-a65b-4f22f2a279f4",
   "metadata": {},
   "outputs": [],
   "source": [
    "testdata = os.path.join(os.getcwd(), 'test-data', '08-07', 'IMMEC_nonlin_0ecc_5.0sec.npz')\n",
    "\n",
    "models = ['currents_nonlinear_70','currents_nonlinear_100','currents_nonlinear_250']\n",
    "\n",
    "plot_function(models, testdata, 'currents', True, 'currents_nl')"
   ]
  },
  {
   "cell_type": "markdown",
   "id": "77493e8d-5fe5-4093-9941-fd6becde4381",
   "metadata": {},
   "source": [
    "#### 4 nonlinear model torque "
   ]
  },
  {
   "cell_type": "code",
   "execution_count": null,
   "id": "dfe2f446-e99c-4a8f-a223-4c57c726612d",
   "metadata": {},
   "outputs": [],
   "source": [
    "traindata = os.path.join(os.getcwd(), 'train-data', '07-31-nonlin', 'IMMEC_nonlinear-0ecc_5.0sec.npz')\n",
    "plot_optuna_data('_w5//torquenonlinear-optuna-study')"
   ]
  },
  {
   "cell_type": "code",
   "execution_count": null,
   "id": "977dea7a-86cb-44e3-bb68-5ab91f009ac2",
   "metadata": {},
   "outputs": [],
   "source": [
    "model1 = make_model(traindata, modeltype='torque', optimizer='STLSQ',\n",
    "               nmbr_of_train=-1, lib='poly_2nd_order', alpha = 1.94, threshold = 0.126,\n",
    "               modelname='torque_nonlinear_5')\n",
    "model2 = make_model(traindata, modeltype='torque', optimizer='STLSQ',\n",
    "               nmbr_of_train=-1, lib='poly_2nd_order', alpha = .00616, threshold = .006,\n",
    "               modelname='torque_nonlinear_40')\n",
    "model3 = make_model(traindata, modeltype='torque', optimizer='STLSQ',\n",
    "               nmbr_of_train=-1, lib='interaction_only', alpha = .0202, threshold = 0.00913,\n",
    "               modelname='torque_nonlinear_100')"
   ]
  },
  {
   "cell_type": "code",
   "execution_count": null,
   "id": "a9a17d0c-7609-4474-9912-ecfa43cbcc01",
   "metadata": {},
   "outputs": [],
   "source": [
    "testdata = os.path.join(os.getcwd(), 'test-data', '08-07', 'IMMEC_nonlin_0ecc_5.0sec.npz')\n",
    "\n",
    "models = ['torque_nonlinear_5', 'torque_nonlinear_40', 'torque_nonlinear_100']\n",
    "\n",
    "plot_function(models, testdata, 'torque', True, 'torque_nl')"
   ]
  },
  {
   "cell_type": "markdown",
   "id": "ffd198cb-c154-4019-aaf6-d990ab7bb6b1",
   "metadata": {},
   "source": [
    "#### 5 linear model currents with 50 ecc "
   ]
  },
  {
   "cell_type": "code",
   "execution_count": null,
   "id": "6ba1e9fc-65df-4d31-9b6b-13430fba24c5",
   "metadata": {},
   "outputs": [],
   "source": [
    "traindata = os.path.join(os.getcwd(), 'train-data', '07-31-ecc-50', 'IMMEC_50ecc_5.0sec.npz')\n",
    "plot_optuna_data('_w5//currentslinear_50ecc-optuna-study')"
   ]
  },
  {
   "cell_type": "code",
   "execution_count": null,
   "id": "a6f98334-da3c-4829-9377-b5b220ed6a88",
   "metadata": {},
   "outputs": [],
   "source": [
    "model1 = make_model(traindata, modeltype='currents', optimizer='STLSQ',\n",
    "               nmbr_of_train=-1, lib='linear-specific', alpha = .0047, threshold = 0.926,\n",
    "               modelname='currents_linear_50ecc_45')\n",
    "model2 = make_model(traindata, modeltype='currents', optimizer='lasso',\n",
    "               nmbr_of_train=-1, lib='linear-specific', alpha = 50.16,\n",
    "               modelname='currents_linear_50ecc_8')"
   ]
  },
  {
   "cell_type": "code",
   "execution_count": null,
   "id": "d02d77b4-c6bc-4797-a432-ff0e2ed6e199",
   "metadata": {},
   "outputs": [],
   "source": [
    "testdata = os.path.join(os.getcwd(), 'test-data', '08-08', 'IMMEC_50ecc_ecc_5.0sec.npz')\n",
    "#testdata = os.path.join(os.getcwd(), 'test-data', '07-29-default', 'IMMEC_0ecc_5.0sec.npz')\n",
    "\n",
    "models = ['currents_linear_50ecc_45', 'currents_linear_50ecc_8']\n",
    "\n",
    "plot_function(models, testdata, 'currents', True, 'currents_50')"
   ]
  },
  {
   "cell_type": "markdown",
   "id": "ddb4aade-bf3d-42a1-aca7-7d3a5319ccf7",
   "metadata": {},
   "source": [
    "#### 6 linear model torque with 50 ecc"
   ]
  },
  {
   "cell_type": "code",
   "execution_count": null,
   "id": "f856fad3-56c4-4e61-9f31-2d0ad2c35370",
   "metadata": {},
   "outputs": [],
   "source": [
    "traindata = os.path.join(os.getcwd(), 'train-data', '07-31-ecc-50', 'IMMEC_50ecc_5.0sec.npz')\n",
    "plot_optuna_data('_w5//torquelinear_50ecc-optuna-study')"
   ]
  },
  {
   "cell_type": "code",
   "execution_count": null,
   "id": "e4df10e3-9475-4408-a9b7-9cc665e2ba13",
   "metadata": {},
   "outputs": [],
   "source": [
    "model1 = make_model(traindata, modeltype='torque', optimizer =\"STLSQ\",\n",
    "                    nmbr_of_train=-1, lib='nonlinear_terms', alpha = .041, threshold = 0.215,\n",
    "                    modelname='torque_linear_50ecc_7')\n",
    "model2 = make_model(traindata, modeltype='torque', optimizer =\"STLSQ\",\n",
    "                    nmbr_of_train=-1, lib='poly_2nd_order', alpha = .0001, threshold = 0.076,\n",
    "                    modelname='torque_linear_50ecc_30')"
   ]
  },
  {
   "cell_type": "code",
   "execution_count": null,
   "id": "bacc711a-faec-49c2-bc9a-0554fedd2461",
   "metadata": {},
   "outputs": [],
   "source": [
    "testdata = os.path.join(os.getcwd(), 'test-data', '08-08', 'IMMEC_50ecc_ecc_5.0sec.npz')\n",
    "\n",
    "models = ['torque_linear_50ecc_7', 'torque_linear_50ecc_30']\n",
    "\n",
    "plot_function(models, testdata, 'torque', True, 'torque_50')"
   ]
  },
  {
   "cell_type": "markdown",
   "id": "bdd09e35-0739-4edb-991d-c8ce5f39216a",
   "metadata": {},
   "source": [
    "#### 7 linear model UMP with 50 ecc "
   ]
  },
  {
   "cell_type": "code",
   "execution_count": null,
   "id": "3f63d463-bdbd-4657-a9b2-5984a3c979af",
   "metadata": {},
   "outputs": [],
   "source": [
    "traindata = os.path.join(os.getcwd(), 'train-data', '07-31-ecc-50', 'IMMEC_50ecc_5.0sec.npz')\n",
    "plot_optuna_data('_w5//umplinear_50ecc-optuna-study')"
   ]
  },
  {
   "cell_type": "code",
   "execution_count": null,
   "id": "2f9d928b-5c8e-4694-876b-9deb01a0e57e",
   "metadata": {},
   "outputs": [],
   "source": [
    "model1 = make_model(traindata, modeltype='ump', optimizer =\"STLSQ\",\n",
    "                    nmbr_of_train=-1, lib='torque', alpha = 3.6e-5, threshold = 0.008,\n",
    "                    modelname='ump_linear_50ecc_30')\n",
    "\n",
    "model2 = make_model(traindata, modeltype='ump', optimizer =\"STLSQ\",\n",
    "                    nmbr_of_train=-1, lib='poly_2nd_order', alpha = 92.8, threshold = 0.74,\n",
    "                    modelname='ump_linear_50ecc_100')\n",
    "\n",
    "model3 = make_model(traindata, modeltype='ump', optimizer =\"STLSQ\",\n",
    "                    nmbr_of_train=-1, lib='linear-specific', alpha = 2.44, threshold = 0.577,\n",
    "                    modelname='ump_linear_50ecc_70')"
   ]
  },
  {
   "cell_type": "code",
   "execution_count": null,
   "id": "a145c1ca-fba1-4d44-9430-3eaffa0dcff5",
   "metadata": {},
   "outputs": [],
   "source": [
    "testdata = os.path.join(os.getcwd(), 'test-data', '08-08', 'IMMEC_50ecc_ecc_5.0sec.npz')\n",
    "\n",
    "models = ['ump_linear_50ecc_30', 'ump_linear_50ecc_70','ump_linear_50ecc_100']\n",
    "\n",
    "plot_function(models, testdata, 'ump', True, 'ump_50')"
   ]
  },
  {
   "cell_type": "markdown",
   "id": "72e8d012-f2ef-41c2-ae14-796909e9dd8b",
   "metadata": {},
   "source": [
    "#### 8 nonlinear model currents with 50 ecc "
   ]
  },
  {
   "cell_type": "code",
   "execution_count": null,
   "id": "432c5947-2a80-4fbe-998d-d3dcaf68d459",
   "metadata": {},
   "outputs": [],
   "source": [
    "traindata = os.path.join(os.getcwd(), 'train-data', '07-31-nonlin50', 'IMMEC_nonlinear-50ecc_5.0sec.npz')\n",
    "plot_optuna_data('_w5//currentsnonlinear_50ecc-optuna-study')"
   ]
  },
  {
   "cell_type": "code",
   "execution_count": null,
   "id": "e9f1ac98-b52b-4f33-aee6-c38814896360",
   "metadata": {},
   "outputs": [],
   "source": [
    "model1 =  make_model(traindata, modeltype='currents', optimizer =\"STLSQ\",\n",
    "                    nmbr_of_train=-1, lib='linear-specific', alpha = 2.78, threshold = 0.616,\n",
    "                    modelname='currents_nonlinear_50ecc_70')\n",
    "\n",
    "# takes really long to make, memory error -> need to generate on a pc instead of laptop\n",
    "# Memory Error vvvvvvvvvv\n",
    "'''\n",
    "model2 =  make_model(traindata, modeltype='currents', optimizer =\"lasso\",\n",
    "                    nmbr_of_train=-1, lib='interaction_only', alpha = 73.7,\n",
    "                    modelname='currents_nonlinear_50ecc_100')\n",
    "\n",
    "model3 =  make_model(traindata, modeltype='currents', optimizer =\"STLSQ\",\n",
    "                    nmbr_of_train=-1, lib='interaction_only', alpha = 49.0, threshold = .88,\n",
    "                    modelname='currents_nonlinear_50ecc_260')\n",
    "'''"
   ]
  },
  {
   "cell_type": "code",
   "execution_count": null,
   "id": "f13fd3da-accd-4c0d-a31d-4b8782729436",
   "metadata": {},
   "outputs": [],
   "source": [
    "testdata = os.path.join(os.getcwd(), 'test-data', '08-07-nonlin-50ecc', 'IMMEC_nonlin_50ecc_5.0sec.npz')\n",
    "\n",
    "models = ['currents_nonlinear_50ecc_70'] #, 'currents_nonlinear_50ecc_100', currents_nonlinear_50ecc_260']\n",
    "\n",
    "plot_function(models, testdata, 'currents', True, 'currents_50_nl')"
   ]
  },
  {
   "cell_type": "markdown",
   "id": "e41511b8-6570-471b-a505-05530d6bd536",
   "metadata": {},
   "source": [
    "#### 9 nonlinear model torque with 50 ecc"
   ]
  },
  {
   "cell_type": "code",
   "execution_count": null,
   "id": "8e4f2b7c-9100-4e5c-bb85-63b3ed71df43",
   "metadata": {},
   "outputs": [],
   "source": [
    "traindata = os.path.join(os.getcwd(), 'train-data', '07-31-nonlin50', 'IMMEC_nonlinear-50ecc_5.0sec.npz')\n",
    "plot_optuna_data('_w5//torquenonlinear_50ecc-optuna-study')"
   ]
  },
  {
   "cell_type": "code",
   "execution_count": null,
   "id": "e4387a8d-f10a-4c20-b663-6f7dc69f7338",
   "metadata": {},
   "outputs": [],
   "source": [
    "model1 =  make_model(traindata, modeltype='torque', optimizer =\"STLSQ\",\n",
    "                    nmbr_of_train=-1, lib='poly_2nd_order', alpha = 5.45, threshold = 0.066,\n",
    "                    modelname='torque_nonlinear_50ecc_10')\n",
    "\n",
    "model2 =  make_model(traindata, modeltype='torque', optimizer =\"STLSQ\",\n",
    "                    nmbr_of_train=-1, lib='poly_2nd_order', alpha = 0.0668, threshold = 0.016,\n",
    "                    modelname='torque_nonlinear_50ecc_40')"
   ]
  },
  {
   "cell_type": "code",
   "execution_count": null,
   "id": "67ffd2d9-39de-4ff7-98d7-b74f23822a50",
   "metadata": {},
   "outputs": [],
   "source": [
    "testdata = os.path.join(os.getcwd(), 'test-data', '08-07-nonlin-50ecc', 'IMMEC_nonlin_50ecc_5.0sec.npz')\n",
    "\n",
    "models = ['torque_nonlinear_50ecc_10', 'torque_nonlinear_50ecc_40']\n",
    "\n",
    "plot_function(models, testdata, 'torque', True, 'torque_50_nl')"
   ]
  },
  {
   "cell_type": "markdown",
   "id": "8e7051c6-7a8b-4e4d-b891-04387450e072",
   "metadata": {},
   "source": [
    "#### 10 nonlinear model ump with 50 ecc "
   ]
  },
  {
   "cell_type": "code",
   "execution_count": null,
   "id": "2214a444-0bb8-4ecc-be9b-082a682c06b7",
   "metadata": {},
   "outputs": [],
   "source": [
    "traindata = os.path.join(os.getcwd(), 'train-data', '07-31-nonlin50', 'IMMEC_nonlinear-50ecc_5.0sec.npz')\n",
    "plot_optuna_data('_w5//umpnonlinear_50ecc-optuna-study')"
   ]
  },
  {
   "cell_type": "code",
   "execution_count": null,
   "id": "8c952cba-5f87-43a3-9dc5-cb1116e63831",
   "metadata": {},
   "outputs": [],
   "source": [
    "model1 =  make_model(traindata, modeltype='ump', optimizer =\"STLSQ\",\n",
    "                    nmbr_of_train=-1, lib='poly_2nd_order', alpha = 5.076, threshold = 0.7317,\n",
    "                    modelname='ump_nonlinear_50ecc_100')\n",
    "model2 =  make_model(traindata, modeltype='ump', optimizer =\"STLSQ\",\n",
    "                    nmbr_of_train=-1, lib='poly_2nd_order', alpha = 2.6e-5, threshold = 0.00255,\n",
    "                    modelname='ump_nonlinear_50ecc_170')\n",
    "# OOM ERROR vvvvvvvv\n",
    "'''\n",
    "model3 =  make_model(traindata, modeltype='ump', optimizer =\"STLSQ\",\n",
    "                    nmbr_of_train=-1, lib='interaction_only', alpha = 91.5, threshold = 0.52,\n",
    "                    modelname='ump_nonlinear_50ecc_300')\n",
    "'''\n",
    "\n",
    "model4 =  make_model(traindata, modeltype='ump', optimizer =\"STLSQ\",\n",
    "                    nmbr_of_train=-1, lib='linear-specific', alpha = 0.097, threshold = 0.00537,\n",
    "                    modelname='ump_nonlinear_50ecc_90')"
   ]
  },
  {
   "cell_type": "code",
   "execution_count": null,
   "id": "555c59c0-3fbd-4f4b-ba12-c975513f2667",
   "metadata": {},
   "outputs": [],
   "source": [
    "testdata = os.path.join(os.getcwd(), 'test-data', '08-07-nonlin-50ecc', 'IMMEC_nonlin_50ecc_5.0sec.npz')\n",
    "\n",
    "models = ['ump_nonlinear_50ecc_90', 'ump_nonlinear_50ecc_100', 'ump_nonlinear_50ecc_170', 'ump_nonlinear_50ecc_300']\n",
    "\n",
    "plot_function(models, testdata, 'ump', True, 'ump_50_nl')"
   ]
  },
  {
   "cell_type": "markdown",
   "id": "7161a0c2-b314-4523-9004-4ae6b1c80086",
   "metadata": {},
   "source": [
    "#### 11 linear dynamical 50 ecc currents "
   ]
  },
  {
   "cell_type": "code",
   "execution_count": null,
   "id": "f417ccb5-abc2-45ac-9c70-71175b78b82d",
   "metadata": {},
   "outputs": [],
   "source": [
    "traindata = os.path.join(os.getcwd(), 'train-data', '08-09','IMMEC_dynamic_50ecc_5.0sec.npz')\n",
    "plot_optuna_data('_w5//currentslinear_dynamic_50ecc-optuna-study')"
   ]
  },
  {
   "cell_type": "code",
   "execution_count": null,
   "id": "93c737f8-a28c-438b-b327-b2ef2f80a592",
   "metadata": {},
   "outputs": [],
   "source": [
    "model1 =  make_model(traindata, modeltype='currents', optimizer =\"STLSQ\",\n",
    "                    nmbr_of_train=-1, lib='linear-specific', alpha = 5.3528, threshold = 0.97,\n",
    "                    modelname='currents_linear_dynamic_50ecc_40')\n",
    "\n",
    "model1 =  make_model(traindata, modeltype='currents', optimizer =\"STLSQ\",\n",
    "                    nmbr_of_train=-1, lib='nonlinear_terms', alpha = 2.5277, threshold = 0.8239,\n",
    "                    modelname='currents_linear_dynamic_50ecc_300')"
   ]
  },
  {
   "cell_type": "code",
   "execution_count": null,
   "id": "b3048ceb-9bb3-4dab-9d2b-e5c256bd3e21",
   "metadata": {},
   "outputs": [],
   "source": [
    "testdata = os.path.join(os.getcwd(), 'test-data','08-09','IMMEC_dynamic_50ecc_5.0sec.npz')\n",
    "testdata = os.path.join(os.getcwd(), 'test-data','08-19','IMMEC_dynamic_linear_5.0sec.npz') # alternative test file\n",
    "\n",
    "models = ['currents_linear_dynamic_50ecc_40'] #  ['currents_linear_dynamic_50ecc_300'] #diverges, nonzero dc comp\n",
    "\n",
    "plot_function(models, testdata, 'currents', True, 'currents_d')"
   ]
  },
  {
   "cell_type": "markdown",
   "id": "1ce6608c-5c4b-4ca7-bded-4c54c46754e6",
   "metadata": {},
   "source": [
    "#### 12 linear dynamical 50 ecc torque"
   ]
  },
  {
   "cell_type": "code",
   "execution_count": null,
   "id": "12fb0703-6927-4baf-a7ff-1c2e6278e6a6",
   "metadata": {},
   "outputs": [],
   "source": [
    "traindata = os.path.join(os.getcwd(), 'train-data', '08-09','IMMEC_dynamic_50ecc_5.0sec.npz')\n",
    "plot_optuna_data('_w5//torquelinear_dynamic_50ecc-optuna-study')"
   ]
  },
  {
   "cell_type": "code",
   "execution_count": null,
   "id": "377f2635-0b65-4a73-a9b9-edcaaab16957",
   "metadata": {},
   "outputs": [],
   "source": [
    "model1 =  make_model(traindata, modeltype='torque', optimizer =\"STLSQ\",\n",
    "                    nmbr_of_train=-1, lib='poly_2nd_order', alpha = 0.03218, threshold = .0429,\n",
    "                    modelname='torque_linear_dynamic_50ecc_50')\n",
    "\n",
    "model2 =  make_model(traindata, modeltype='torque', optimizer =\"STLSQ\",\n",
    "                    nmbr_of_train=-1, lib='poly_2nd_order', alpha = 9.8, threshold = .00979,\n",
    "                    modelname='torque_linear_dynamic_50ecc_40')\n",
    "\n",
    "model3 = make_model(traindata, modeltype='torque', optimizer='STLSQ',\n",
    "                    nmbr_of_train=-1, lib='nonlinear_terms', alpha=2.5097, threshold = 0.54118,\n",
    "                    modelname='torque_linear_dynamic_50ecc_4')"
   ]
  },
  {
   "cell_type": "code",
   "execution_count": null,
   "id": "452ded6f-e658-4da0-9bde-45fdbf8fc16b",
   "metadata": {},
   "outputs": [],
   "source": [
    "testdata = os.path.join(os.getcwd(), 'test-data','08-09','IMMEC_dynamic_50ecc_5.0sec.npz')\n",
    "testdata = os.path.join(os.getcwd(), 'test-data','08-19','IMMEC_dynamic_linear_5.0sec.npz') # alternative test file\n",
    "\n",
    "models = ['torque_linear_dynamic_50ecc_4','torque_linear_dynamic_50ecc_40', 'torque_linear_dynamic_50ecc_50']\n",
    "# no big difference between 4 or 30 coefs (same as the non ecc case) but allowing 45 coefs, big difference.\n",
    "\n",
    "plot_function(models, testdata, 'torque', True, 'torque_d_2') # torque_d or torque_d_2 can be chosen"
   ]
  },
  {
   "cell_type": "markdown",
   "id": "f4fdfae2-bfd6-455a-8d54-18c68c53452a",
   "metadata": {
    "scrolled": true
   },
   "source": [
    "#### 13 linear dynamical 50 ecc UMP "
   ]
  },
  {
   "cell_type": "code",
   "execution_count": null,
   "id": "938cafb5-47cf-4321-9834-897a9d6a6db3",
   "metadata": {
    "scrolled": true
   },
   "outputs": [],
   "source": [
    "traindata = os.path.join(os.getcwd(), 'train-data', '08-09','IMMEC_dynamic_50ecc_5.0sec.npz')\n",
    "plot_optuna_data('_w5//umplinear_dynamic_50ecc-optuna-study')"
   ]
  },
  {
   "cell_type": "code",
   "execution_count": null,
   "id": "eac75970-f9c7-4188-8ed1-bcd12180e355",
   "metadata": {
    "scrolled": true
   },
   "outputs": [],
   "source": [
    "model1 = make_model(traindata, modeltype='ump', optimizer =\"STLSQ\",\n",
    "                    nmbr_of_train=-1, lib='poly_2nd_order', alpha = 1.773, threshold = 0.922,\n",
    "                    modelname='ump_linear_dynamic_50ecc_180')\n",
    "\n",
    "model2 = make_model(traindata, modeltype='ump', optimizer =\"STLSQ\",\n",
    "                    nmbr_of_train=-1, lib='nonlinear_terms', alpha = 1.1145, threshold = 0.589,\n",
    "                    modelname='ump_linear_dynamic_50ecc_560')"
   ]
  },
  {
   "cell_type": "code",
   "execution_count": null,
   "id": "9d36473c-15b2-413a-9daf-40ec607fc139",
   "metadata": {},
   "outputs": [],
   "source": [
    "testdata = os.path.join(os.getcwd(), 'test-data','08-09','IMMEC_dynamic_50ecc_5.0sec.npz')\n",
    "testdata = os.path.join(os.getcwd(), 'test-data','08-19','IMMEC_dynamic_linear_5.0sec.npz') # alternative test file\n",
    "\n",
    "models = ['ump_linear_dynamic_50ecc_180', 'ump_linear_dynamic_50ecc_560']\n",
    "\n",
    "plot_function(models, testdata, 'ump', True, 'ump_d')"
   ]
  },
  {
   "cell_type": "markdown",
   "id": "6bb4947b-db5b-41a5-b12d-b4c5d1adc23f",
   "metadata": {},
   "source": [
    "#### 14 nonlinear dynamical 50 ecc currents "
   ]
  },
  {
   "cell_type": "code",
   "execution_count": 3,
   "id": "51030179-b7b5-49df-b8e5-0153c9683113",
   "metadata": {},
   "outputs": [
    {
     "name": "stderr",
     "output_type": "stream",
     "text": [
      "[I 2024-08-22 16:54:36,177] Study name was omitted but trying to load 'optuna_studies//currentsnonlinear_dynamic_50ecc-optuna-study' because that was the only study found in the storage.\n"
     ]
    },
    {
     "name": "stdout",
     "output_type": "stream",
     "text": [
      "['optuna_studies//currentsnonlinear_dynamic_50ecc-optuna-study']\n",
      "Trial count: 1008\n"
     ]
    }
   ],
   "source": [
    "traindata = os.path.join(os.getcwd(), 'train-data', '08-16','IMMEC_dynamic_nonlinear_5.0sec.npz')\n",
    "plot_optuna_data('_w5//currentsnonlinear_dynamic_50ecc-optuna-study_old')"
   ]
  },
  {
   "cell_type": "code",
   "execution_count": 6,
   "id": "e7d2dc96-9d4f-47cf-8aab-5a3d969f6110",
   "metadata": {},
   "outputs": [
    {
     "name": "stdout",
     "output_type": "stream",
     "text": [
      "ecc input  True\n",
      "Loading data\n",
      "Done loading data\n",
      "Calculating xdots\n",
      "Assume all t_vec are equal for all simulations\n",
      "Done calculating xdots\n",
      "time trim:  0.5\n",
      "Nonzero ecc, added to input data\n",
      "Fitting model\n",
      "(i_d)' = -46.6191077449 i_d + 772.2253701561 i_q + 10.6709801338 v_d + -55.3512360591 v_q + -2.1258723125 v_0 + 427.5215429192 I_d + 4311.5257208453 I_q + 124.0712433314 V_d + -635.6239096725 V_q + 27.9185183856 V_0 + 0.7844069061 \\gamma i_d + -4.1260328106 \\gamma i_q + 49.3360930130 \\gamma I_d + -124.6677449114 \\gamma I_q + -2.1199408768 \\gamma V_d + 9.0700560698 \\gamma V_q + 3.2051663870 \\gamma V_0 + -0.4822742653 \\omega i_q + -491.5536420908 \\omega I_d + 13.9140645189 \\omega I_q + 61.3265674242 \\omega V_d + 3.0374455617 \\omega V_q + -0.1939834502 \\omega V_0 + -0.2762944779 v_d i_q + 57.4110913486 v_d I_d + 73.4179921621 v_d I_q + -16.4955325347 v_d V_d + -9.3451597274 v_d V_q + 0.2531505030 v_q i_d + -64.8640338064 v_q I_d + 56.8927450601 v_q I_q + 9.3668449359 v_q V_d + -16.5914510086 v_q V_q + -0.7667701168 v_q V_0 + 0.6104871975 v_0 i_d + -13.2791401131 v_0 I_d + 48.2049947746 v_0 I_q + -0.8214319921 v_0 V_d + 0.5127807030 v_0 V_q + -52.1448950839 v_0 V_0\n",
      "(i_q)' = -760.6098005359 i_d + -63.4431294204 i_q + 81.6073339346 v_d + 12.5288030792 v_q + -1.6383943982 v_0 + -4206.6074193975 I_d + 616.5664040135 I_q + 641.8005021592 V_d + 95.8401442553 V_q + 160.5438567183 V_0 + 0.5432425889 \\gamma i_d + -3.7735683156 \\gamma i_q + -31.3267837716 \\gamma I_d + -3.8664883514 \\gamma I_q + 1.9396587775 \\gamma V_d + 8.2326928101 \\gamma V_q + -83.6089513125 \\gamma V_0 + 0.3210858050 \\omega i_d + 20.8988799310 \\omega I_d + -476.0503913625 \\omega I_q + -1.5398263627 \\omega V_d + 68.5283221112 \\omega V_q + 0.5384870774 \\omega V_0 + 21.9368684924 v_d I_d + 22.8488397603 v_d I_q + -16.3934283470 v_d V_d + -2.0356354894 v_d V_q + -0.2620881623 v_d V_0 + -21.0056210860 v_q I_d + 25.8329083878 v_q I_q + 2.0623970005 v_q V_d + -16.4223435482 v_q V_q + 9.7947784713 v_0 I_d + -0.6497831076 v_0 I_q + 4.2526454375 v_0 V_0\n",
      "(i_0)' = 0.0000000000\n",
      "Non-zero elements:  75\n",
      "MSE: 1112.9458197997894\n",
      "Saving model\n",
      "ecc input  True\n",
      "Loading data\n",
      "Done loading data\n",
      "Calculating xdots\n",
      "Assume all t_vec are equal for all simulations\n",
      "Done calculating xdots\n",
      "time trim:  0.5\n",
      "Nonzero ecc, added to input data\n",
      "Fitting model\n",
      "(i_d)' = -11.2807691036 1 + 179.9338429692 i_d + 919.8614346011 i_q + 16.9123119668 v_d + -73.7117780076 v_q + -3591.9143343008 I_d + 1834.2624371343 I_q + -189.9387458672 V_d + -566.2855045998 V_q + 271.9134809510 V_0 + 6.5395395308 \\omega + 3372.7019614465 r_x + 4.2854687304 i_d^2 + -7.8294352249 i_d i_q + -1650.8906566961 i_d I_d + 801.0112007059 i_d I_q + -25.7392257649 i_d V_d + 8.8328282608 i_d V_q + 139.0940814907 i_d V_0 + -0.6111404102 i_d f + 2868.7560078999 i_d r_x + 1.7434839149 i_q^2 + 655.0609195516 i_q I_d + -2731.6592054087 i_q I_q + -39.0782714235 i_q V_d + -0.0044069987 i_q V_q + 173.5021722668 i_q V_0 + 1.1143867683 i_q f + 18.7188376522 v_d I_q + -0.6285670350 v_d V_q + -2.6530414022 v_d V_0 + 10.1476456783 v_d r_y + 32.9074125498 v_q I_d + -32.7145297806 v_q I_q + 0.6139857138 v_q V_d + -0.1059555539 v_q V_0 + -1.9052228767 v_q r_x + 4.9502701301 v_q r_y + -10.3991486655 v_0 I_d + 17.3185973401 v_0 I_q + -2.6498223149 v_0 V_0 + -2.2720885107 v_0 r_x + 867.2211390173 I_d^2 + 22711.3111720301 I_d I_q + 1175.6770158093 I_d V_d + -1744.3080436243 I_d V_q + 2566.7749974484 I_d V_0 + -581.7049548604 I_d \\omega + -30.7725079863 I_d f + -16230.7672574058 I_q^2 + -1445.5232603990 I_q V_d + 3003.3314761070 I_q V_q + 76.3511879856 I_q \\omega + 31.1565838816 I_q f + 201.4335602944 V_d^2 + -15.9113587726 V_d V_q + -374.0847870815 V_d V_0 + 70.3111926498 V_d \\omega + 2.9112382312 V_d f + -8461.6402578370 V_d r_x + 223.7222821901 V_q^2 + -452.5345147710 V_q V_0 + 15.9004162293 V_q \\omega + -1.2665485835 V_q f + -0.9149770394 V_0 \\omega + 4.4213255441 V_0 f + 45.6707097119 \\omega r_x + -53.8071979163 \\omega r_y + -117.0261683872 f r_x + 251.3990098237 f r_y + 0.1317694034 sin(1 \\gamma) + -1.5473644934 cos(1 \\gamma)\n",
      "(i_q)' = 7.0414927640 1 + -562.1101729706 i_d + 201.3676495916 i_q + 72.8724194467 v_d + -5.7831791118 v_0 + 561.7602279772 I_d + 921.0611852582 I_q + 1403.8829393089 V_d + 764.4292339343 V_q + 985.4527807182 V_0 + 38.8784978072 \\omega + 4.7832382971 i_d i_q + -1565.6074326779 i_d I_d + 1035.7649084219 i_d I_q + 31.8723746581 i_d V_d + -8.8340182816 i_d V_q + 396.1089728689 i_d V_0 + -0.3997824577 i_d \\omega + 1.0588400192 i_d f + -1.5068255963 i_q^2 + -702.5110528203 i_q I_d + -418.9453842084 i_q I_q + -73.9497549534 i_q V_d + 4.7126809373 i_q V_q + -119.1757397869 i_q V_0 + -0.5379746946 i_q f + 747.3571657614 i_q r_x + -9.8673525571 v_d I_d + 4.9094931566 v_d I_q + -0.2011228925 v_d V_0 + 1.0865773327 v_d r_y + 68.4224510361 v_q I_d + 23.4455411017 v_q I_q + 2.0548444870 v_q V_0 + -7.2419828999 v_q r_x + -10.0753100426 v_q r_y + 23.7120267024 v_0 I_d + 15.3514132275 v_0 I_q + 44.0703581939 v_0 V_0 + 126.0350392091 v_0 r_y + -22562.1861656582 I_d^2 + 1023.4731386075 I_d I_q + 3301.7874195552 I_d V_d + 1621.5685781602 I_d V_q + -68.1169415877 I_d \\omega + -2.8557720987 I_d f + -886.1190314721 I_q^2 + -1643.8240308392 I_q V_d + 1050.6905970309 I_q V_q + -4366.3550590074 I_q V_0 + -581.1826497049 I_q \\omega + 4.4917829987 I_q f + -693.9343735183 V_d^2 + -1.4527328490 V_d V_q + -857.9733013379 V_d V_0 + -11.3307420383 V_d \\omega + -2.0480246585 V_d f + 967.1837335959 V_d r_x + -709.3272384621 V_q^2 + 690.1209094735 V_q V_0 + 71.2551228194 V_q \\omega + 3.2970615963 V_q f + -1.4757888639 V_0 f + 3.5706387929 \\omega r_x + -117.0541786136 f r_y + 1.2193454218 cos(1 \\gamma)\n",
      "(i_0)' = 0.0000000000\n",
      "Non-zero elements:  138\n",
      "MSE: 874.9432221718527\n",
      "Saving model\n",
      "ecc input  True\n",
      "Loading data\n",
      "Done loading data\n",
      "Calculating xdots\n",
      "Assume all t_vec are equal for all simulations\n",
      "Done calculating xdots\n",
      "time trim:  0.5\n",
      "Nonzero ecc, added to input data\n",
      "Fitting model\n",
      "(i_d)' = -8.0643334259 1 + -9.9757252142 i_d + 733.1586753909 i_q + 16.7141153635 v_d + -65.8544396819 v_q + -1.3236545886 v_0 + -8685.3440552040 I_d + -3257.2205487148 I_q + 34.8326049401 V_d + -283.3174646172 V_q + 891.8806406449 V_0 + 16.5719037830 \\omega + -0.2555860838 f + 2771.4480140296 r_x + -5665.5051123205 r_y + 4.9741685383 i_d^2 + -11.5693662517 i_d i_q + -0.1725841241 i_d v_d + 0.0167931438 i_d v_q + 0.0531953978 i_d v_0 + -46.8518392166 i_d I_d + 493.4704218173 i_d I_q + -38.5511334783 i_d V_d + -36.5136042123 i_d V_q + 12.3613387976 i_d V_0 + -0.6769551297 i_d \\omega + 2.9453629855 i_d f + 7512.0748204012 i_d r_x + -5072.1236178589 i_d r_y + -4.2948136798 i_q^2 + -0.0456038304 i_q v_d + 0.0097260540 i_q v_q + 0.0711491448 i_q v_0 + 1115.6260363435 i_q I_d + -2065.8137530329 i_q I_q + -14.4383736146 i_q V_d + -2.8177752572 i_q V_q + 181.8244372920 i_q V_0 + 0.2226136189 i_q \\omega + 0.2986399616 i_q f + -706.8547130720 i_q r_x + 5208.6803667701 i_q r_y + 0.0128493135 v_d^2 + 34.4102136765 v_d I_d + 8.0576638949 v_d I_q + -6.5633291071 v_d V_d + 6.2527638866 v_d V_q + 0.2707962315 v_d V_0 + 4.2720078362 v_d r_x + 8.0546554972 v_d r_y + 0.0127478253 v_q^2 + 31.6265658088 v_q I_d + 6.8665652525 v_q I_q + -6.1773974656 v_q V_d + -6.8875025424 v_q V_q + -0.5010895687 v_q V_0 + -0.0108882101 v_q f + 8.7001774739 v_q r_x + 9.3209460081 v_q r_y + 5.1157900190 v_0 I_d + 8.9740358703 v_0 I_q + -0.3398643699 v_0 V_d + -0.2437164154 v_0 V_q + -6.8293067516 v_0 V_0 + -35.4816337695 v_0 r_y + 41687.8208215315 I_d^2 + 27488.3033390205 I_d I_q + -6421.8315373663 I_d V_d + -3059.4647631555 I_d V_q + -5002.1973633528 I_d V_0 + -600.3870852998 I_d \\omega + 3.6456931033 I_d f + 48631.1257709433 I_d r_x + -4468.4569123040 I_d r_y + 14887.3636072175 I_q^2 + -1046.9472330149 I_q V_d + -3193.8412351550 I_q V_q + -188.8114862256 I_q V_0 + 88.4202451557 I_q \\omega + 35.2242139300 I_q f + 7456.7344528912 I_q r_x + 624.4374458471 V_d^2 + 55.0128387342 V_d V_q + 22.8277009488 V_d V_0 + 72.2913622552 V_d \\omega + -2.3153368195 V_d f + -19493.7103371397 V_d r_x + 7748.1915792488 V_d r_y + 652.8320742817 V_q^2 + 25.4173819635 V_q V_0 + 17.1824719254 V_q \\omega + 2.2010743486 V_q f + 4538.4469499982 V_q r_x + -12992.3362881423 V_q r_y + 16766.9860159716 V_0^2 + -0.8370114412 V_0 \\omega + 4.2337378484 V_0 f + -0.0194010331 \\omega^2 + -0.0135024596 \\omega f + 24.1795169639 \\omega r_x + -81.8465429177 \\omega r_y + -0.0060323367 f^2 + 62.2969626383 f r_x + 596.5094813033 f r_y + 1.4702657929 sin(1 \\gamma) + 2.4211422290 cos(1 \\gamma)\n",
      "(i_q)' = -5.4085721335 1 + -100.6774587306 i_d + -50.0696649696 i_q + 67.2123056882 v_d + 14.2248885153 v_q + 0.0027116876 v_0 + 8756.1314059682 I_d + 338.8474024068 I_q + -316.9588680784 V_d + 571.2079088201 V_q + -150.3273630651 V_0 + 52.0738919374 \\omega + -0.0393197808 f + 4195.3253401194 r_x + 13430.4169012690 r_y + -1.1833040914 i_d^2 + 7.1770583012 i_d i_q + 0.3858633043 i_d v_d + 0.0382404243 i_d v_q + 0.0418092427 i_d v_0 + -3098.9542454644 i_d I_d + -706.7207207891 i_d I_q + -6.9525253337 i_d V_d + 99.3602127772 i_d V_q + 16.1352338095 i_d V_0 + -1.3243860497 i_d \\omega + 5.2067810628 i_d f + 5746.7811941683 i_d r_x + 3064.9427280092 i_d r_y + 1.9798215695 i_q^2 + -0.0919528864 i_q v_d + 0.0484226187 i_q v_q + 0.1572460943 i_q v_0 + 632.6588859117 i_q I_d + -247.2256668241 i_q I_q + -45.7199463521 i_q V_d + -33.9110086253 i_q V_q + 121.4849325901 i_q V_0 + -0.6999179448 i_q \\omega + 3.1977940924 i_q f + 3447.2495738762 i_q r_x + 4561.0531108981 i_q r_y + -0.0093335594 v_d^2 + 16.4703875882 v_d I_d + 16.6558878941 v_d I_q + 0.7797632289 v_d V_d + -2.9914570054 v_d V_q + -0.9622997345 v_d V_0 + 0.0091941311 v_d f + -15.0584734305 v_d r_x + 9.3619207150 v_d r_y + -0.0086468977 v_q^2 + 14.4955802748 v_q I_d + 5.6939565203 v_q I_q + 2.7958841907 v_q V_d + 1.4914702534 v_q V_q + -0.7210286844 v_q V_0 + 0.0070017147 v_q \\omega + -0.0375760993 v_q f + -2.3394706474 v_q r_x + -36.4022869527 v_q r_y + 0.0078012345 v_0^2 + 3.6934098862 v_0 I_d + -1.6009539770 v_0 I_q + -0.2800795870 v_0 V_d + -0.2755724044 v_0 V_q + 4.5670942447 v_0 V_0 + -109.0057577737 v_0 r_x + 218.0191755478 v_0 r_y + -58203.7155346711 I_d^2 + -2869.0694877375 I_d I_q + 8919.0850989477 I_d V_d + 1285.0903629561 I_d V_q + -1380.2214739353 I_d V_0 + -96.4629758603 I_d \\omega + -21.2265322896 I_d f + 147740.9864465539 I_d r_x + -100020.3229707918 I_d r_y + -15707.8362601899 I_q^2 + 1181.1487825804 I_q V_d + 2863.8111064824 I_q V_q + 4082.8433818812 I_q V_0 + -641.6419865419 I_q \\omega + 109.9684233258 I_q f + -24233.2666070455 I_q r_x + 72233.6278458540 I_q r_y + -495.8045470515 V_d^2 + -211.9354827658 V_d V_q + 166.8272479556 V_d V_0 + -17.3128661753 V_d \\omega + -6.6121801552 V_d f + -14374.4506198965 V_d r_x + -1455.0144247336 V_d r_y + -477.2401572956 V_q^2 + -334.9109541622 V_q V_0 + 71.7371945255 V_q \\omega + -0.2029597799 V_q f + -9184.4164420046 V_q r_x + -4957.1366011835 V_q r_y + 1618.7581177399 V_0^2 + -0.5202962918 V_0 \\omega + 3.4024492039 V_0 f + 0.0141052562 \\omega^2 + -0.0068677270 \\omega f + 29.5788824450 \\omega r_x + 42.1437004778 \\omega r_y + 0.0066434142 f^2 + -322.8867514777 f r_x + -207.6198305488 f r_y + 0.2246924977 sin(1 \\gamma) + -5.5546092714 cos(1 \\gamma)\n",
      "(i_0)' = 0.0000000000\n",
      "Non-zero elements:  217\n",
      "MSE: 836.9058304862319\n",
      "Saving model\n"
     ]
    },
    {
     "data": {
      "text/plain": [
       "' OOM\\nmodel4 =  make_model(traindata, modeltype=\\'currents\\', optimizer =\"STLSQ\", # 503\\n                    nmbr_of_train=-1, lib=\\'interaction_only\\', alpha = 40.00, threshold = 0.86,\\n                    modelname=\\'currents_nonlinear_dynamic_50ecc_500\\') # most likely to diverge '"
      ]
     },
     "execution_count": 6,
     "metadata": {},
     "output_type": "execute_result"
    }
   ],
   "source": [
    "model1 = make_model(traindata, modeltype='currents', optimizer=\"STLSQ\", alpha=0.17, threshold = 0.12, #946\n",
    "                    nmbr_of_train=-1, lib='linear-specific', modelname='currents_nonlinear_dynamic_70')\n",
    "# these diverge too...\n",
    "'''\n",
    "model2 = make_model(traindata, modeltype='currents', optimizer=\"STLSQ\", alpha=89, threshold =0.446, #751\n",
    "                    nmbr_of_train=-1, lib='poly_2nd_order', modelname='currents_nonlinear_dynamic_140')\n",
    "model3 = make_model(traindata, modeltype='currents', optimizer=\"STLSQ\", alpha=87.7, threshold =0.00446, #821\n",
    "                    nmbr_of_train=-1, lib='poly_2nd_order', modelname='currents_nonlinear_dynamic_220')\n",
    "'''\n",
    "''' OOM\n",
    "model4 =  make_model(traindata, modeltype='currents', optimizer =\"STLSQ\", # 503\n",
    "                    nmbr_of_train=-1, lib='interaction_only', alpha = 40.00, threshold = 0.86,\n",
    "                    modelname='currents_nonlinear_dynamic_50ecc_500') # most likely to diverge '''"
   ]
  },
  {
   "cell_type": "code",
   "execution_count": null,
   "id": "14789069-8239-4a0a-95fa-8c26db9534fc",
   "metadata": {},
   "outputs": [],
   "source": [
    "### MODELS FROM THE OLD OPTUBNA STUDY\n",
    "\n",
    "## model 1 and 2 diverge when calculating the currents from the di/dt\n",
    "model1 =  make_model(traindata, modeltype='currents', optimizer =\"STLSQ\",\n",
    "                    nmbr_of_train=-1, lib='poly_2nd_order', alpha = 55.7, threshold = 0.395,\n",
    "                    modelname='currents_nonlinear_dynamic_50ecc_150')\n",
    "# OOM error\n",
    "'''\n",
    "model2 =  make_model(traindata, modeltype='currents', optimizer =\"STLSQ\",\n",
    "                    nmbr_of_train=-1, lib='interaction_only', alpha = 56.6, threshold = 0.657,\n",
    "                    modelname='currents_nonlinear_dynamic_50ecc_420')\n",
    "'''\n",
    "\n",
    "model3 =  make_model(traindata, modeltype='currents', optimizer =\"STLSQ\",\n",
    "                    nmbr_of_train=-1, lib='linear-specific', alpha = 3.154, threshold = 0.7912,\n",
    "                    modelname='currents_nonlinear_dynamic_50ecc_60')"
   ]
  },
  {
   "cell_type": "code",
   "execution_count": 7,
   "id": "b1d5d5bc-facf-4fe5-98fd-bc37a96e5b17",
   "metadata": {},
   "outputs": [
    {
     "name": "stdout",
     "output_type": "stream",
     "text": [
      "(i_d)' = -46.619 i_d + 772.225 i_q + 10.671 v_d + -55.351 v_q + -2.126 v_0 + 427.522 I_d + 4311.526 I_q + 124.071 V_d + -635.624 V_q + 27.919 V_0 + 0.784 \\gamma i_d + -4.126 \\gamma i_q + 49.336 \\gamma I_d + -124.668 \\gamma I_q + -2.120 \\gamma V_d + 9.070 \\gamma V_q + 3.205 \\gamma V_0 + -0.482 \\omega i_q + -491.554 \\omega I_d + 13.914 \\omega I_q + 61.327 \\omega V_d + 3.037 \\omega V_q + -0.194 \\omega V_0 + -0.276 v_d i_q + 57.411 v_d I_d + 73.418 v_d I_q + -16.496 v_d V_d + -9.345 v_d V_q + 0.253 v_q i_d + -64.864 v_q I_d + 56.893 v_q I_q + 9.367 v_q V_d + -16.591 v_q V_q + -0.767 v_q V_0 + 0.610 v_0 i_d + -13.279 v_0 I_d + 48.205 v_0 I_q + -0.821 v_0 V_d + 0.513 v_0 V_q + -52.145 v_0 V_0\n",
      "(i_q)' = -760.610 i_d + -63.443 i_q + 81.607 v_d + 12.529 v_q + -1.638 v_0 + -4206.607 I_d + 616.566 I_q + 641.801 V_d + 95.840 V_q + 160.544 V_0 + 0.543 \\gamma i_d + -3.774 \\gamma i_q + -31.327 \\gamma I_d + -3.866 \\gamma I_q + 1.940 \\gamma V_d + 8.233 \\gamma V_q + -83.609 \\gamma V_0 + 0.321 \\omega i_d + 20.899 \\omega I_d + -476.050 \\omega I_q + -1.540 \\omega V_d + 68.528 \\omega V_q + 0.538 \\omega V_0 + 21.937 v_d I_d + 22.849 v_d I_q + -16.393 v_d V_d + -2.036 v_d V_q + -0.262 v_d V_0 + -21.006 v_q I_d + 25.833 v_q I_q + 2.062 v_q V_d + -16.422 v_q V_q + 9.795 v_0 I_d + -0.650 v_0 I_q + 4.253 v_0 V_0\n",
      "(i_0)' = 0.000\n",
      "ecc input:  True\n",
      "Loading data\n",
      "Done loading data\n",
      "Calculating xdots\n",
      "Assume all t_vec are equal for all simulations\n",
      "Done calculating xdots\n",
      "Nonzero ecc, added to input data\n",
      "MSE on test:  2175.7798622210607\n",
      "Non-zero elements:  75\n",
      "Starting time simulation\n",
      "Finished simulation\n",
      "MSE on simulation:  0.0028681403994119115\n",
      "(i_d)' = -11.281 1 + 179.934 i_d + 919.861 i_q + 16.912 v_d + -73.712 v_q + -3591.914 I_d + 1834.262 I_q + -189.939 V_d + -566.286 V_q + 271.913 V_0 + 6.540 \\omega + 3372.702 r_x + 4.285 i_d^2 + -7.829 i_d i_q + -1650.891 i_d I_d + 801.011 i_d I_q + -25.739 i_d V_d + 8.833 i_d V_q + 139.094 i_d V_0 + -0.611 i_d f + 2868.756 i_d r_x + 1.743 i_q^2 + 655.061 i_q I_d + -2731.659 i_q I_q + -39.078 i_q V_d + -0.004 i_q V_q + 173.502 i_q V_0 + 1.114 i_q f + 18.719 v_d I_q + -0.629 v_d V_q + -2.653 v_d V_0 + 10.148 v_d r_y + 32.907 v_q I_d + -32.715 v_q I_q + 0.614 v_q V_d + -0.106 v_q V_0 + -1.905 v_q r_x + 4.950 v_q r_y + -10.399 v_0 I_d + 17.319 v_0 I_q + -2.650 v_0 V_0 + -2.272 v_0 r_x + 867.221 I_d^2 + 22711.311 I_d I_q + 1175.677 I_d V_d + -1744.308 I_d V_q + 2566.775 I_d V_0 + -581.705 I_d \\omega + -30.773 I_d f + -16230.767 I_q^2 + -1445.523 I_q V_d + 3003.331 I_q V_q + 76.351 I_q \\omega + 31.157 I_q f + 201.434 V_d^2 + -15.911 V_d V_q + -374.085 V_d V_0 + 70.311 V_d \\omega + 2.911 V_d f + -8461.640 V_d r_x + 223.722 V_q^2 + -452.535 V_q V_0 + 15.900 V_q \\omega + -1.267 V_q f + -0.915 V_0 \\omega + 4.421 V_0 f + 45.671 \\omega r_x + -53.807 \\omega r_y + -117.026 f r_x + 251.399 f r_y + 0.132 sin(1 \\gamma) + -1.547 cos(1 \\gamma)\n",
      "(i_q)' = 7.041 1 + -562.110 i_d + 201.368 i_q + 72.872 v_d + -5.783 v_0 + 561.760 I_d + 921.061 I_q + 1403.883 V_d + 764.429 V_q + 985.453 V_0 + 38.878 \\omega + 4.783 i_d i_q + -1565.607 i_d I_d + 1035.765 i_d I_q + 31.872 i_d V_d + -8.834 i_d V_q + 396.109 i_d V_0 + -0.400 i_d \\omega + 1.059 i_d f + -1.507 i_q^2 + -702.511 i_q I_d + -418.945 i_q I_q + -73.950 i_q V_d + 4.713 i_q V_q + -119.176 i_q V_0 + -0.538 i_q f + 747.357 i_q r_x + -9.867 v_d I_d + 4.909 v_d I_q + -0.201 v_d V_0 + 1.087 v_d r_y + 68.422 v_q I_d + 23.446 v_q I_q + 2.055 v_q V_0 + -7.242 v_q r_x + -10.075 v_q r_y + 23.712 v_0 I_d + 15.351 v_0 I_q + 44.070 v_0 V_0 + 126.035 v_0 r_y + -22562.186 I_d^2 + 1023.473 I_d I_q + 3301.787 I_d V_d + 1621.569 I_d V_q + -68.117 I_d \\omega + -2.856 I_d f + -886.119 I_q^2 + -1643.824 I_q V_d + 1050.691 I_q V_q + -4366.355 I_q V_0 + -581.183 I_q \\omega + 4.492 I_q f + -693.934 V_d^2 + -1.453 V_d V_q + -857.973 V_d V_0 + -11.331 V_d \\omega + -2.048 V_d f + 967.184 V_d r_x + -709.327 V_q^2 + 690.121 V_q V_0 + 71.255 V_q \\omega + 3.297 V_q f + -1.476 V_0 f + 3.571 \\omega r_x + -117.054 f r_y + 1.219 cos(1 \\gamma)\n",
      "(i_0)' = 0.000\n",
      "ecc input:  True\n",
      "Loading data\n",
      "Done loading data\n",
      "Calculating xdots\n",
      "Assume all t_vec are equal for all simulations\n",
      "Done calculating xdots\n",
      "Nonzero ecc, added to input data\n",
      "MSE on test:  1662.8797996078872\n",
      "Non-zero elements:  138\n",
      "Starting time simulation\n",
      "Finished simulation\n"
     ]
    },
    {
     "ename": "ValueError",
     "evalue": "Found input variables with inconsistent numbers of samples: [519, 49999]",
     "output_type": "error",
     "traceback": [
      "\u001b[1;31m---------------------------------------------------------------------------\u001b[0m",
      "\u001b[1;31mValueError\u001b[0m                                Traceback (most recent call last)",
      "Cell \u001b[1;32mIn[7], line 9\u001b[0m\n\u001b[0;32m      7\u001b[0m \u001b[38;5;66;03m# new models\u001b[39;00m\n\u001b[0;32m      8\u001b[0m models \u001b[38;5;241m=\u001b[39m [\u001b[38;5;124m'\u001b[39m\u001b[38;5;124mcurrents_nonlinear_dynamic_70\u001b[39m\u001b[38;5;124m'\u001b[39m, \u001b[38;5;124m'\u001b[39m\u001b[38;5;124mcurrents_nonlinear_dynamic_140\u001b[39m\u001b[38;5;124m'\u001b[39m, \u001b[38;5;124m'\u001b[39m\u001b[38;5;124mcurrents_nonlinear_dynamic_220\u001b[39m\u001b[38;5;124m'\u001b[39m]\n\u001b[1;32m----> 9\u001b[0m plot_function(models, testdata, \u001b[38;5;124m'\u001b[39m\u001b[38;5;124mcurrents\u001b[39m\u001b[38;5;124m'\u001b[39m, \u001b[38;5;28;01mFalse\u001b[39;00m, \u001b[38;5;124m'\u001b[39m\u001b[38;5;124mcurrents_d_nl\u001b[39m\u001b[38;5;124m'\u001b[39m)\n",
      "Cell \u001b[1;32mIn[1], line 12\u001b[0m, in \u001b[0;36mplot_function\u001b[1;34m(models, testdata, type, existing_plot, folder)\u001b[0m\n\u001b[0;32m     10\u001b[0m     \u001b[38;5;28;01mfor\u001b[39;00m model \u001b[38;5;129;01min\u001b[39;00m models:\n\u001b[0;32m     11\u001b[0m         do_sim \u001b[38;5;241m=\u001b[39m \u001b[38;5;28mtype\u001b[39m\u001b[38;5;241m==\u001b[39m\u001b[38;5;124m'\u001b[39m\u001b[38;5;124mcurrents\u001b[39m\u001b[38;5;124m'\u001b[39m\n\u001b[1;32m---> 12\u001b[0m         sim, test \u001b[38;5;241m=\u001b[39m simulate_model(pref \u001b[38;5;241m+\u001b[39m model \u001b[38;5;241m+\u001b[39m \u001b[38;5;124m'\u001b[39m\u001b[38;5;124m_model\u001b[39m\u001b[38;5;124m'\u001b[39m, testdata, \n\u001b[0;32m     13\u001b[0m                                    modeltype\u001b[38;5;241m=\u001b[39m\u001b[38;5;28mtype\u001b[39m, do_time_simulation\u001b[38;5;241m=\u001b[39mdo_sim,\n\u001b[0;32m     14\u001b[0m                                    show\u001b[38;5;241m=\u001b[39m\u001b[38;5;28;01mFalse\u001b[39;00m, ecc_input \u001b[38;5;241m=\u001b[39m \u001b[38;5;28;01mTrue\u001b[39;00m)\n\u001b[0;32m     15\u001b[0m \u001b[38;5;28;01melse\u001b[39;00m:\n\u001b[0;32m     16\u001b[0m     show_coefs \u001b[38;5;241m=\u001b[39m \u001b[38;5;28;01mTrue\u001b[39;00m\n",
      "File \u001b[1;32m~\\PycharmProjects\\SINDY_project\\train_model_source.py:248\u001b[0m, in \u001b[0;36msimulate_model\u001b[1;34m(model_name, path_to_test_file, modeltype, do_time_simulation, show, ecc_input)\u001b[0m\n\u001b[0;32m    239\u001b[0m x_sim \u001b[38;5;241m=\u001b[39m model_simulate(\n\u001b[0;32m    240\u001b[0m     x_test[\u001b[38;5;241m0\u001b[39m, :],\n\u001b[0;32m    241\u001b[0m     u\u001b[38;5;241m=\u001b[39mu_test[(t \u001b[38;5;241m<\u001b[39m simulation_time)\u001b[38;5;241m.\u001b[39mreshape(\u001b[38;5;241m-\u001b[39m\u001b[38;5;241m1\u001b[39m), :],\n\u001b[0;32m    242\u001b[0m     t\u001b[38;5;241m=\u001b[39mt_value\u001b[38;5;241m.\u001b[39mreshape(t_value\u001b[38;5;241m.\u001b[39mshape[\u001b[38;5;241m0\u001b[39m]),\n\u001b[0;32m    243\u001b[0m     model\u001b[38;5;241m=\u001b[39mmodel,\n\u001b[0;32m    244\u001b[0m )\u001b[38;5;241m.\u001b[39my\u001b[38;5;241m.\u001b[39mT\n\u001b[0;32m    245\u001b[0m \u001b[38;5;28mprint\u001b[39m(\u001b[38;5;124m\"\u001b[39m\u001b[38;5;124mFinished simulation\u001b[39m\u001b[38;5;124m\"\u001b[39m)\n\u001b[0;32m    246\u001b[0m \u001b[38;5;28mprint\u001b[39m(\n\u001b[0;32m    247\u001b[0m     \u001b[38;5;124m\"\u001b[39m\u001b[38;5;124mMSE on simulation: \u001b[39m\u001b[38;5;124m\"\u001b[39m,\n\u001b[1;32m--> 248\u001b[0m     mean_squared_error(x_sim, x_test[: \u001b[38;5;28mlen\u001b[39m(t_value), :]),\n\u001b[0;32m    249\u001b[0m )\n\u001b[0;32m    251\u001b[0m save_plot_data(\n\u001b[0;32m    252\u001b[0m     \u001b[38;5;124m\"\u001b[39m\u001b[38;5;124mcurrents_simulation\u001b[39m\u001b[38;5;124m\"\u001b[39m,\n\u001b[0;32m    253\u001b[0m     [\n\u001b[1;32m   (...)\u001b[0m\n\u001b[0;32m    262\u001b[0m     legend\u001b[38;5;241m=\u001b[39m[\u001b[38;5;124mr\u001b[39m\u001b[38;5;124m\"\u001b[39m\u001b[38;5;124m$i_d$\u001b[39m\u001b[38;5;124m\"\u001b[39m, \u001b[38;5;124mr\u001b[39m\u001b[38;5;124m\"\u001b[39m\u001b[38;5;124m$i_q$\u001b[39m\u001b[38;5;124m\"\u001b[39m, \u001b[38;5;124mr\u001b[39m\u001b[38;5;124m\"\u001b[39m\u001b[38;5;124m$i_0$\u001b[39m\u001b[38;5;124m\"\u001b[39m, \u001b[38;5;124m\"\u001b[39m\u001b[38;5;124mtest data\u001b[39m\u001b[38;5;124m\"\u001b[39m],\n\u001b[0;32m    263\u001b[0m )\n\u001b[0;32m    264\u001b[0m \u001b[38;5;28;01mreturn\u001b[39;00m x_sim, x_test  \u001b[38;5;66;03m# returns the simulated values of the currents\u001b[39;00m\n",
      "File \u001b[1;32m~\\anaconda3\\envs\\immec_env\\Lib\\site-packages\\sklearn\\utils\\_param_validation.py:213\u001b[0m, in \u001b[0;36mvalidate_params.<locals>.decorator.<locals>.wrapper\u001b[1;34m(*args, **kwargs)\u001b[0m\n\u001b[0;32m    207\u001b[0m \u001b[38;5;28;01mtry\u001b[39;00m:\n\u001b[0;32m    208\u001b[0m     \u001b[38;5;28;01mwith\u001b[39;00m config_context(\n\u001b[0;32m    209\u001b[0m         skip_parameter_validation\u001b[38;5;241m=\u001b[39m(\n\u001b[0;32m    210\u001b[0m             prefer_skip_nested_validation \u001b[38;5;129;01mor\u001b[39;00m global_skip_validation\n\u001b[0;32m    211\u001b[0m         )\n\u001b[0;32m    212\u001b[0m     ):\n\u001b[1;32m--> 213\u001b[0m         \u001b[38;5;28;01mreturn\u001b[39;00m func(\u001b[38;5;241m*\u001b[39margs, \u001b[38;5;241m*\u001b[39m\u001b[38;5;241m*\u001b[39mkwargs)\n\u001b[0;32m    214\u001b[0m \u001b[38;5;28;01mexcept\u001b[39;00m InvalidParameterError \u001b[38;5;28;01mas\u001b[39;00m e:\n\u001b[0;32m    215\u001b[0m     \u001b[38;5;66;03m# When the function is just a wrapper around an estimator, we allow\u001b[39;00m\n\u001b[0;32m    216\u001b[0m     \u001b[38;5;66;03m# the function to delegate validation to the estimator, but we replace\u001b[39;00m\n\u001b[0;32m    217\u001b[0m     \u001b[38;5;66;03m# the name of the estimator by the name of the function in the error\u001b[39;00m\n\u001b[0;32m    218\u001b[0m     \u001b[38;5;66;03m# message to avoid confusion.\u001b[39;00m\n\u001b[0;32m    219\u001b[0m     msg \u001b[38;5;241m=\u001b[39m re\u001b[38;5;241m.\u001b[39msub(\n\u001b[0;32m    220\u001b[0m         \u001b[38;5;124mr\u001b[39m\u001b[38;5;124m\"\u001b[39m\u001b[38;5;124mparameter of \u001b[39m\u001b[38;5;124m\\\u001b[39m\u001b[38;5;124mw+ must be\u001b[39m\u001b[38;5;124m\"\u001b[39m,\n\u001b[0;32m    221\u001b[0m         \u001b[38;5;124mf\u001b[39m\u001b[38;5;124m\"\u001b[39m\u001b[38;5;124mparameter of \u001b[39m\u001b[38;5;132;01m{\u001b[39;00mfunc\u001b[38;5;241m.\u001b[39m\u001b[38;5;18m__qualname__\u001b[39m\u001b[38;5;132;01m}\u001b[39;00m\u001b[38;5;124m must be\u001b[39m\u001b[38;5;124m\"\u001b[39m,\n\u001b[0;32m    222\u001b[0m         \u001b[38;5;28mstr\u001b[39m(e),\n\u001b[0;32m    223\u001b[0m     )\n",
      "File \u001b[1;32m~\\anaconda3\\envs\\immec_env\\Lib\\site-packages\\sklearn\\metrics\\_regression.py:497\u001b[0m, in \u001b[0;36mmean_squared_error\u001b[1;34m(y_true, y_pred, sample_weight, multioutput, squared)\u001b[0m\n\u001b[0;32m    492\u001b[0m     \u001b[38;5;28;01mif\u001b[39;00m \u001b[38;5;129;01mnot\u001b[39;00m squared:\n\u001b[0;32m    493\u001b[0m         \u001b[38;5;28;01mreturn\u001b[39;00m root_mean_squared_error(\n\u001b[0;32m    494\u001b[0m             y_true, y_pred, sample_weight\u001b[38;5;241m=\u001b[39msample_weight, multioutput\u001b[38;5;241m=\u001b[39mmultioutput\n\u001b[0;32m    495\u001b[0m         )\n\u001b[1;32m--> 497\u001b[0m y_type, y_true, y_pred, multioutput \u001b[38;5;241m=\u001b[39m _check_reg_targets(\n\u001b[0;32m    498\u001b[0m     y_true, y_pred, multioutput\n\u001b[0;32m    499\u001b[0m )\n\u001b[0;32m    500\u001b[0m check_consistent_length(y_true, y_pred, sample_weight)\n\u001b[0;32m    501\u001b[0m output_errors \u001b[38;5;241m=\u001b[39m np\u001b[38;5;241m.\u001b[39maverage((y_true \u001b[38;5;241m-\u001b[39m y_pred) \u001b[38;5;241m*\u001b[39m\u001b[38;5;241m*\u001b[39m \u001b[38;5;241m2\u001b[39m, axis\u001b[38;5;241m=\u001b[39m\u001b[38;5;241m0\u001b[39m, weights\u001b[38;5;241m=\u001b[39msample_weight)\n",
      "File \u001b[1;32m~\\anaconda3\\envs\\immec_env\\Lib\\site-packages\\sklearn\\metrics\\_regression.py:102\u001b[0m, in \u001b[0;36m_check_reg_targets\u001b[1;34m(y_true, y_pred, multioutput, dtype)\u001b[0m\n\u001b[0;32m     68\u001b[0m \u001b[38;5;28;01mdef\u001b[39;00m \u001b[38;5;21m_check_reg_targets\u001b[39m(y_true, y_pred, multioutput, dtype\u001b[38;5;241m=\u001b[39m\u001b[38;5;124m\"\u001b[39m\u001b[38;5;124mnumeric\u001b[39m\u001b[38;5;124m\"\u001b[39m):\n\u001b[0;32m     69\u001b[0m \u001b[38;5;250m    \u001b[39m\u001b[38;5;124;03m\"\"\"Check that y_true and y_pred belong to the same regression task.\u001b[39;00m\n\u001b[0;32m     70\u001b[0m \n\u001b[0;32m     71\u001b[0m \u001b[38;5;124;03m    Parameters\u001b[39;00m\n\u001b[1;32m   (...)\u001b[0m\n\u001b[0;32m    100\u001b[0m \u001b[38;5;124;03m        correct keyword.\u001b[39;00m\n\u001b[0;32m    101\u001b[0m \u001b[38;5;124;03m    \"\"\"\u001b[39;00m\n\u001b[1;32m--> 102\u001b[0m     check_consistent_length(y_true, y_pred)\n\u001b[0;32m    103\u001b[0m     y_true \u001b[38;5;241m=\u001b[39m check_array(y_true, ensure_2d\u001b[38;5;241m=\u001b[39m\u001b[38;5;28;01mFalse\u001b[39;00m, dtype\u001b[38;5;241m=\u001b[39mdtype)\n\u001b[0;32m    104\u001b[0m     y_pred \u001b[38;5;241m=\u001b[39m check_array(y_pred, ensure_2d\u001b[38;5;241m=\u001b[39m\u001b[38;5;28;01mFalse\u001b[39;00m, dtype\u001b[38;5;241m=\u001b[39mdtype)\n",
      "File \u001b[1;32m~\\anaconda3\\envs\\immec_env\\Lib\\site-packages\\sklearn\\utils\\validation.py:457\u001b[0m, in \u001b[0;36mcheck_consistent_length\u001b[1;34m(*arrays)\u001b[0m\n\u001b[0;32m    455\u001b[0m uniques \u001b[38;5;241m=\u001b[39m np\u001b[38;5;241m.\u001b[39munique(lengths)\n\u001b[0;32m    456\u001b[0m \u001b[38;5;28;01mif\u001b[39;00m \u001b[38;5;28mlen\u001b[39m(uniques) \u001b[38;5;241m>\u001b[39m \u001b[38;5;241m1\u001b[39m:\n\u001b[1;32m--> 457\u001b[0m     \u001b[38;5;28;01mraise\u001b[39;00m \u001b[38;5;167;01mValueError\u001b[39;00m(\n\u001b[0;32m    458\u001b[0m         \u001b[38;5;124m\"\u001b[39m\u001b[38;5;124mFound input variables with inconsistent numbers of samples: \u001b[39m\u001b[38;5;132;01m%r\u001b[39;00m\u001b[38;5;124m\"\u001b[39m\n\u001b[0;32m    459\u001b[0m         \u001b[38;5;241m%\u001b[39m [\u001b[38;5;28mint\u001b[39m(l) \u001b[38;5;28;01mfor\u001b[39;00m l \u001b[38;5;129;01min\u001b[39;00m lengths]\n\u001b[0;32m    460\u001b[0m     )\n",
      "\u001b[1;31mValueError\u001b[0m: Found input variables with inconsistent numbers of samples: [519, 49999]"
     ]
    }
   ],
   "source": [
    "testdata = os.path.join(os.getcwd(), 'test-data','08-18','IMMEC_dynamic_nonlinear_5.0sec.npz')\n",
    "\n",
    "#the other two mehods diverge.............\n",
    "models = ['currents_nonlinear_dynamic_50ecc_60'] #,'currents_nonlinear_dynamic_50ecc_150',  'currents_nonlinear_dynamic_50ecc_420']\n",
    "\n",
    "\n",
    "# new models\n",
    "models = ['currents_nonlinear_dynamic_70', 'currents_nonlinear_dynamic_140', 'currents_nonlinear_dynamic_220']\n",
    "plot_function(models, testdata, 'currents', False, 'currents_d_nl')"
   ]
  },
  {
   "cell_type": "markdown",
   "id": "832f2a75-621a-42f3-8a5d-7bfe3268ba23",
   "metadata": {},
   "source": [
    "#### 15 nonlinear dynamical 50 ecc torque"
   ]
  },
  {
   "cell_type": "code",
   "execution_count": 5,
   "id": "14789afe-448f-44cc-978a-f4bf2b6abff0",
   "metadata": {},
   "outputs": [
    {
     "name": "stderr",
     "output_type": "stream",
     "text": [
      "[I 2024-08-22 15:14:36,059] Study name was omitted but trying to load 'optuna_studies//torquenonlinear_dynamic_50ecc-optuna-study' because that was the only study found in the storage.\n"
     ]
    },
    {
     "name": "stdout",
     "output_type": "stream",
     "text": [
      "['optuna_studies//torquenonlinear_dynamic_50ecc-optuna-study']\n",
      "Trial count: 1002\n"
     ]
    }
   ],
   "source": [
    "traindata = os.path.join(os.getcwd(), 'train-data', '08-16','IMMEC_dynamic_nonlinear_5.0sec.npz')\n",
    "plot_optuna_data('_w5//torquenonlinear_dynamic_50ecc-optuna-study')"
   ]
  },
  {
   "cell_type": "code",
   "execution_count": null,
   "id": "44349c9f-47cb-46e0-a93e-0fc2569fe991",
   "metadata": {},
   "outputs": [],
   "source": [
    "model1 =  make_model(traindata, modeltype='torque', optimizer =\"STLSQ\",\n",
    "                    nmbr_of_train=-1, lib='poly_2nd_order', alpha = 80.5, threshold = 0.0089,\n",
    "                    modelname='torque_nonlinear_dynamic_50ecc_50')\n",
    "# OOM ERROR\n",
    "'''\n",
    "model2 =  make_model(traindata, modeltype='torque', optimizer =\"STLSQ\",\n",
    "                    nmbr_of_train=-1, lib='interaction_only', alpha = 85.6, threshold = 0.0034,\n",
    "                    modelname='torque_nonlinear_dynamic_50ecc_100')\n",
    "'''"
   ]
  },
  {
   "cell_type": "code",
   "execution_count": 4,
   "id": "89c2df04-5f20-43fb-80b8-0a69800884fe",
   "metadata": {},
   "outputs": [
    {
     "name": "stdout",
     "output_type": "stream",
     "text": [
      "(i_d)' = 0.004 1 + 0.464 i_d + 0.913 i_q + -0.045 v_q + 1.573 I_d + 3.815 I_q + 2.800 V_d + 1.165 V_q + 0.002 \\omega + 0.020 i_d^2 + -0.011 i_d i_q + -3.855 i_d I_d + 7.616 i_d I_q + -0.121 i_d V_d + -0.737 i_d V_q + -0.131 i_d V_0 + -8.201 i_q I_d + -3.303 i_q I_q + 0.789 i_q V_d + 0.017 i_q V_q + 0.113 v_d I_d + -0.193 v_d I_q + 0.236 v_q I_d + 0.034 v_q I_q + 0.007 v_q r_y + -0.230 v_0 V_0 + -10.810 I_d^2 + -0.267 I_d I_q + -0.032 I_d V_d + 3.700 I_d V_q + 0.008 I_d \\omega + 1.469 I_q^2 + -2.198 I_q V_d + -1.810 I_q V_q + -0.039 I_q \\omega + 0.009 I_q f + -1.127 V_d^2 + -0.153 V_d V_q + -1.150 V_q^2\n",
      "Sparsity:  39\n",
      "(i_d)' = 0.012 1 + 0.499 i_q + 1.656 I_d + 7.138 I_q + 0.705 V_d + -0.784 V_q + 0.082 \\omega + -0.061 i_d i_q + -0.012 i_d v_d + -0.003 i_d v_q + 0.061 i_d I_d + 12.789 i_d I_q + -0.259 i_d V_d + -0.911 i_d V_q + -0.013 i_d \\omega + -0.002 i_q v_d + -6.725 i_q I_d + -0.763 i_q I_q + 0.857 i_q V_d + 0.028 i_q V_q + -0.010 i_q \\omega + -0.242 v_d I_d + 0.209 v_d I_q + 0.049 v_d V_d + 0.023 v_d V_q + 0.009 v_d r_y + 0.160 v_q I_d + -0.011 v_q V_d + 0.014 v_q r_y + -2.882 I_d V_d + 6.528 I_d V_q + -0.074 I_d f + -16.898 I_q V_d + -1.656 I_q V_q + -0.814 I_q \\omega + -0.018 I_q f + 0.939 V_d V_q + -0.029 V_d \\omega + 0.029 V_d f + 0.045 V_q \\omega + 0.042 V_0 f + -0.239 i_d i_q I_d + 0.852 i_d i_q I_q + 0.018 i_d i_q V_d + 0.002 i_d i_q V_0 + 0.066 i_d v_d I_d + 0.006 i_d v_d I_q + -0.016 i_d v_q I_d + 0.058 i_d v_q I_q + -15.055 i_d I_d I_q + -0.521 i_d I_d V_q + 0.089 i_d I_d \\omega + -0.021 i_d I_d f + 0.899 i_d I_q V_d + -0.218 i_d I_q V_q + -0.019 i_d I_q \\omega + 0.025 i_d V_d V_q + 0.023 i_d V_q V_0 + 0.014 i_d \\omega r_x + -0.035 i_d \\omega r_y + 0.202 i_d f r_y + 0.002 i_q v_d V_d + -0.004 i_q v_q I_d + -0.003 i_q v_q I_q + 0.002 i_q v_q V_q + 0.008 i_q v_q r_y + -11.950 i_q I_d I_q + 0.681 i_q I_d V_d + -0.843 i_q I_d V_q + -0.002 i_q I_d \\omega + 0.014 i_q I_d f + 0.025 i_q I_q V_d + 0.103 i_q I_q \\omega + -0.052 i_q I_q f + -0.023 i_q V_d V_q + 0.075 i_q V_d V_0 + -0.005 i_q V_q V_0 + -0.088 i_q \\omega r_x + 0.018 i_q \\omega r_y + 0.513 i_q f r_x + -0.477 v_d I_q V_d + 0.016 v_d I_q V_q + -0.001 v_d V_q r_y + 0.017 v_q I_d V_d + 0.226 v_q I_d V_q + 0.033 v_q I_d V_0 + -0.162 v_q I_q V_d + -0.423 v_q I_q V_q + -0.006 v_q V_d r_y + 0.002 v_q V_q r_x + -0.111 v_0 V_d V_0 + 54.895 I_d I_q V_d + -7.969 I_d I_q V_q + 2.665 I_d I_q \\omega + -4.947 I_d V_d V_q + -0.116 I_d V_d \\omega + -0.107 I_d V_d f + -0.212 I_d V_q \\omega + 0.051 I_d V_q f + -1.092 I_q V_d V_q + 0.451 I_q V_d \\omega + -0.005 I_q V_d f + -0.171 I_q V_q \\omega + -0.021 I_q V_q f + 0.004 V_d V_q \\omega + -0.040 V_d V_0 f + 0.043 V_q f r_x\n",
      "Sparsity:  107\n",
      "Torque100.pkl\n",
      "Torque50.pkl\n"
     ]
    }
   ],
   "source": [
    "testdata = os.path.join(os.getcwd(), 'test-data','08-18','IMMEC_dynamic_nonlinear_5.0sec.npz')\n",
    "\n",
    "models = ['torque_nonlinear_dynamic_50ecc_50', 'torque_nonlinear_dynamic_50ecc_100']\n",
    "\n",
    "plot_function(models, testdata, 'torque', True, 'torque_d_nl')"
   ]
  },
  {
   "cell_type": "markdown",
   "id": "b7019470-c304-4a50-bb80-878bb821e02a",
   "metadata": {},
   "source": [
    "#### 16 nonlinear dynamical 50 ecc UMP"
   ]
  },
  {
   "cell_type": "code",
   "execution_count": null,
   "id": "5a14506a-23f2-4d2d-86d7-34b5f7e3cb23",
   "metadata": {},
   "outputs": [],
   "source": [
    "traindata = os.path.join(os.getcwd(), 'train-data', '08-16','IMMEC_dynamic_nonlinear_5.0sec.npz')\n",
    "plot_optuna_data('_w5//umpnonlinear_dynamic_50ecc-optuna-study')"
   ]
  },
  {
   "cell_type": "code",
   "execution_count": null,
   "id": "410e9da5-f206-4c9e-8330-a2aab6118682",
   "metadata": {},
   "outputs": [],
   "source": [
    "model1 =  make_model(traindata, modeltype='ump', optimizer =\"STLSQ\",\n",
    "                    nmbr_of_train=-1, lib='poly_2nd_order', alpha = 46.05, threshold = 0.922,\n",
    "                    modelname='ump_nonlinear_dynamic_50ecc_150')\n",
    "\n",
    "# OOM \n",
    "'''\n",
    "model2 =  make_model(traindata, modeltype='ump', optimizer =\"STLSQ\",\n",
    "                    nmbr_of_train=-1, lib='interaction_only', alpha = 16.68, threshold = 0.677,\n",
    "                    modelname='ump_nonlinear_dynamic_50ecc_650')\n",
    "'''\n",
    "\n",
    "model3 = make_model(traindata, modeltype='ump', optimizer='lasso',\n",
    "                    nmbr_of_train=-1, lib='poly_2nd_order',  alpha = 0.3121067,\n",
    "                    modelname='ump_nonlinear_dynamic_50ecc_100')"
   ]
  },
  {
   "cell_type": "code",
   "execution_count": null,
   "id": "466a866e-8138-4cce-9883-39cc09f1f827",
   "metadata": {},
   "outputs": [],
   "source": [
    "testdata = os.path.join(os.getcwd(), 'test-data','08-18','IMMEC_dynamic_nonlinear_5.0sec.npz')\n",
    "\n",
    "models = ['ump_nonlinear_dynamic_50ecc_100','ump_nonlinear_dynamic_50ecc_150', 'ump_nonlinear_dynamic_50ecc_650']\n",
    "\n",
    "plot_function(models, testdata, 'ump', True, 'ump_d_nl')"
   ]
  },
  {
   "cell_type": "markdown",
   "id": "d66d85a2-a304-400b-99c6-8897e2f00c59",
   "metadata": {},
   "source": [
    "#### 17 nonlinear ump 0 ecc "
   ]
  },
  {
   "cell_type": "code",
   "execution_count": null,
   "id": "646cb78f-4b3f-4a78-abc5-89f7c7a3bd48",
   "metadata": {},
   "outputs": [],
   "source": [
    "traindata = os.path.join(os.getcwd(), 'train-data', '07-31-nonlin', 'IMMEC_nonlinear-0ecc_5.0sec.npz')\n",
    "plot_optuna_data('_w5//umpnonlinear-optuna-study')"
   ]
  },
  {
   "cell_type": "code",
   "execution_count": null,
   "id": "2cb3d97a-8737-4244-ba0a-485214f69842",
   "metadata": {},
   "outputs": [],
   "source": [
    "model1 = make_model(traindata, modeltype = 'ump', optimizer = 'STLSQ',\n",
    "                    nmbr_of_train = -1, lib = 'poly_2nd_order', alpha = 1.3e-5, threshold = 0.01733,\n",
    "                    modelname='ump_nonlinear_80')\n",
    "model2 = make_model(traindata, modeltype = 'ump', optimizer = 'lasso',\n",
    "                    nmbr_of_train = -1, lib = 'linear-specific', alpha = 4.8,\n",
    "                    modelname='ump_nonlinear_0')"
   ]
  },
  {
   "cell_type": "code",
   "execution_count": null,
   "id": "64aef0df-00be-40ca-97cb-af64a35fc4a7",
   "metadata": {},
   "outputs": [],
   "source": [
    "testdata = os.path.join(os.getcwd(), 'test-data', '08-07', 'IMMEC_nonlin_0ecc_5.0sec.npz')\n",
    "\n",
    "models = ['ump_nonlinear_0', 'ump_nonlinear_80']\n",
    "\n",
    "plot_function(models, testdata, 'ump', True, 'ump_nl')"
   ]
  }
 ],
 "metadata": {
  "kernelspec": {
   "display_name": "Python 3 (ipykernel)",
   "language": "python",
   "name": "python3"
  },
  "language_info": {
   "codemirror_mode": {
    "name": "ipython",
    "version": 3
   },
   "file_extension": ".py",
   "mimetype": "text/x-python",
   "name": "python",
   "nbconvert_exporter": "python",
   "pygments_lexer": "ipython3",
   "version": "3.12.4"
  }
 },
 "nbformat": 4,
 "nbformat_minor": 5
}
