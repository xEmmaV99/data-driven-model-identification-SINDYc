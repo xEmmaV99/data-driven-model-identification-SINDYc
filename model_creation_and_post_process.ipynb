{
 "cells": [
  {
   "cell_type": "code",
   "execution_count": 2,
   "id": "5f11579c-0981-4b52-b7f7-702fec4e769a",
   "metadata": {},
   "outputs": [],
   "source": [
    "import os.path\n",
    "from optimize_parameters import plot_optuna_data\n",
    "from source import *\n",
    "from train_model_source import simulate_model, make_model\n",
    "%matplotlib QtAgg\n",
    "\n",
    "def plot_function(models,testdata, type, existing_plot, folder):\n",
    "    pref = \"_w5//\"\n",
    "    if not existing_plot:\n",
    "        for model in models:\n",
    "            do_sim = type=='currents'\n",
    "            sim, test = simulate_model(pref + model + '_model', testdata, \n",
    "                                       modeltype=type, do_time_simulation=do_sim,\n",
    "                                       show=False, ecc_input = True)\n",
    "    else:\n",
    "        show_coefs = True\n",
    "        if show_coefs:\n",
    "            for model_ in models:\n",
    "                model = load_model(pref + model_ + '_model')\n",
    "                plot_coefs2(model, log=True, type=type)\n",
    "        path = os.path.join(os.getcwd(), 'plot_data//_w5//', folder)\n",
    "        plot_everything(path)"
   ]
  },
  {
   "cell_type": "markdown",
   "id": "1907930b-13b0-496b-9fa4-bb15fcc8984b",
   "metadata": {},
   "source": [
    "## Tabel of contents\n",
    "\n",
    "[Linear model currents](#1-linear-model-currents)\n",
    "\n",
    "[Linear model torque](#2-linear-model-torque)\n",
    "\n",
    "[Nonlinear model currents](#3-nonlinear-model-currents)\n",
    "\n",
    "[Nonlinear model torque](#4-nonlinear-model-torque)\n",
    "\n",
    "[Linear model currents 50](#5-linear-mlodel-currents-with-50-ecc)\n",
    "\n",
    "[Linear model torque 50](#6-linear-model-torque-with-50-ecc)\n",
    "\n",
    "[Linear model ump 50](#7-linear-model-ump-with-50-ecc)\n",
    "\n",
    "[Nonlinear model currents 50](#8-nonlinear-model-currents-with-50-ecc)\n",
    "\n",
    "[Nonlinear model torque 50](#9-nonlinear-model-torque-with-50-ecc)\n",
    "\n",
    "[Nonlinear model ump 50](#10-nonlinear-model-ump-with-50-ecc)\n",
    "\n",
    "[Linear dynamic model currents](#11-linear-dynamical-50-ecc-currents)\n",
    "\n",
    "[Linear dynamic model torque](#12-linear-dynamical-50-ecc-torque)\n",
    "\n",
    "[Linear dynamic model ump](#13-linear-dynamical-50-ecc-ump)\n",
    "\n",
    "[Nonlinear dynamic model currents](#14-nonlinear-dynamical-50-ecc-currents)\n",
    "\n",
    "[Nonlinear dynamic model torque](#15-nonlinear-dynamical-50-ecc-torque)\n",
    "\n",
    "[Nonlinear dynamic model ump](#16-nonlinear-dynamical-50-ecc-ump)\n",
    "\n",
    "[Nonlinear model ump](#17-nonlinear-ump-0-ecc)"
   ]
  },
  {
   "cell_type": "markdown",
   "id": "2a3413cd-030a-4716-9eca-d01b33ffaffc",
   "metadata": {},
   "source": [
    "#### 1 linear model currents"
   ]
  },
  {
   "cell_type": "code",
   "execution_count": null,
   "id": "10d151c1-d0ec-48cd-b376-0b0210e80818",
   "metadata": {},
   "outputs": [],
   "source": [
    "traindata = os.path.join(os.getcwd(), 'train-data', '07-29-default', 'IMMEC_0ecc_5.0sec.npz')\n",
    "plot_optuna_data('_w5//currentslinear-optuna-study')"
   ]
  },
  {
   "cell_type": "code",
   "execution_count": null,
   "id": "5d64850c-313b-49be-a9f7-846b96742fa3",
   "metadata": {},
   "outputs": [],
   "source": [
    "model1 = make_model(traindata, modeltype='currents', optimizer='STLSQ',\n",
    "               nmbr_of_train=-1, lib='linear-specific', alpha = 1.716, threshold = 0.65,\n",
    "               modelname='currents_linear_40')\n",
    "\n",
    "''' # Takes really long to run, also dc term is not zero\n",
    "model2 = make_model(traindata, modeltype='currents', optimizer='STLSQ',\n",
    "                    nmbr_of_train=-1, lib=\"nonlinear_terms\", alpha = .2, threshold = .458,\n",
    "                    modelname='currents_linear_300')\n",
    "'''"
   ]
  },
  {
   "cell_type": "code",
   "execution_count": null,
   "id": "a51e3eb1-70f5-44a2-bc63-89994cf7f7ed",
   "metadata": {},
   "outputs": [],
   "source": [
    "testdata = os.path.join(os.getcwd(), 'test-data', '07-29-default', 'IMMEC_0ecc_5.0sec.npz')\n",
    "#testdata = os.path.join(os.getcwd(), 'test-data','08-19','IMMEC_dynamic_linear_5.0sec.npz') # dynamic eccentricity test\n",
    "\n",
    "models = [\"currents_linear_40\"] \n",
    "\n",
    "plot_function(models, testdata, 'currents', True, 'currents')\n",
    "plot_function(models, testdata, 'currents', True, 'currents_dynamic')\n",
    "# so, the dynamic eccentricity current model is really easy to learn"
   ]
  },
  {
   "cell_type": "markdown",
   "id": "bb6aa72b-64b1-4e0b-a78a-58722fbb7f4c",
   "metadata": {},
   "source": [
    "#### 2 linear model torque "
   ]
  },
  {
   "cell_type": "code",
   "execution_count": null,
   "id": "0d8eb0b7-9415-4a35-8a0b-e99672f94945",
   "metadata": {},
   "outputs": [],
   "source": [
    "traindata = os.path.join(os.getcwd(), 'train-data', '07-29-default', 'IMMEC_0ecc_5.0sec.npz')\n",
    "plot_optuna_data('_w5//torquelinear-optuna-study')"
   ]
  },
  {
   "cell_type": "code",
   "execution_count": null,
   "id": "7875db9e-0d54-48b9-89a1-46fe209062c5",
   "metadata": {},
   "outputs": [],
   "source": [
    "model1 = make_model(traindata, modeltype='torque', optimizer='STLSQ',\n",
    "               nmbr_of_train=-1, lib='torque', alpha = 1.9e-5, threshold = 0.017,\n",
    "               modelname='torque_linear_8')\n",
    "model2 = make_model(traindata, modeltype='torque', optimizer='STLSQ',\n",
    "                    nmbr_of_train=-1, lib='poly_2nd_order', alpha = .008, threshold = .026,\n",
    "                    modelname='torque_linear_16')"
   ]
  },
  {
   "cell_type": "code",
   "execution_count": null,
   "id": "fe4539c4-1342-411c-b432-94ba7bb2722a",
   "metadata": {},
   "outputs": [],
   "source": [
    "testdata = os.path.join(os.getcwd(), 'test-data', '07-29-default', 'IMMEC_0ecc_5.0sec.npz')\n",
    "\n",
    "models = ['torque_linear_8','torque_linear_16']\n",
    "\n",
    "plot_function(models, testdata, 'torque', True, 'torque')"
   ]
  },
  {
   "cell_type": "markdown",
   "id": "a860610b-6715-48a8-ba11-d0319001b7f8",
   "metadata": {},
   "source": [
    "#### 3 nonlinear model currents"
   ]
  },
  {
   "cell_type": "code",
   "execution_count": null,
   "id": "4f5cd114-30f6-45a3-b249-56f9b67168a5",
   "metadata": {},
   "outputs": [],
   "source": [
    "traindata = os.path.join(os.getcwd(), 'train-data', '07-31-nonlin', 'IMMEC_nonlinear-0ecc_5.0sec.npz')\n",
    "plot_optuna_data('_w5//currentsnonlinear-optuna-study')"
   ]
  },
  {
   "cell_type": "code",
   "execution_count": null,
   "id": "41db60c0-e800-4c17-87f6-2e48a088b683",
   "metadata": {},
   "outputs": [],
   "source": [
    "model1 = make_model(traindata, modeltype='currents', optimizer='STLSQ',\n",
    "               nmbr_of_train=-1, lib='linear-specific', alpha = .0257, threshold = 0.7,\n",
    "               modelname='currents_nonlinear_70')\n",
    "model2 = make_model(traindata, modeltype='currents', optimizer='lasso',\n",
    "               nmbr_of_train=-1, lib='interaction_only', alpha = 94.2,\n",
    "                    modelname='currents_nonlinear_100')\n",
    "model3 = make_model(traindata, modeltype='currents', optimizer='STLSQ',\n",
    "               nmbr_of_train=-1, lib='interaction_only', alpha = 55, threshold = .9,\n",
    "                    modelname='currents_nonlinear_250')"
   ]
  },
  {
   "cell_type": "code",
   "execution_count": null,
   "id": "486bcc95-e7e6-45c3-a65b-4f22f2a279f4",
   "metadata": {},
   "outputs": [],
   "source": [
    "testdata = os.path.join(os.getcwd(), 'test-data', '08-07', 'IMMEC_nonlin_0ecc_5.0sec.npz')\n",
    "\n",
    "models = ['currents_nonlinear_70','currents_nonlinear_100','currents_nonlinear_250']\n",
    "\n",
    "plot_function(models, testdata, 'currents', True, 'currents_nl')"
   ]
  },
  {
   "cell_type": "markdown",
   "id": "77493e8d-5fe5-4093-9941-fd6becde4381",
   "metadata": {},
   "source": [
    "#### 4 nonlinear model torque "
   ]
  },
  {
   "cell_type": "code",
   "execution_count": null,
   "id": "dfe2f446-e99c-4a8f-a223-4c57c726612d",
   "metadata": {},
   "outputs": [],
   "source": [
    "traindata = os.path.join(os.getcwd(), 'train-data', '07-31-nonlin', 'IMMEC_nonlinear-0ecc_5.0sec.npz')\n",
    "plot_optuna_data('_w5//torquenonlinear-optuna-study')"
   ]
  },
  {
   "cell_type": "code",
   "execution_count": null,
   "id": "977dea7a-86cb-44e3-bb68-5ab91f009ac2",
   "metadata": {},
   "outputs": [],
   "source": [
    "model1 = make_model(traindata, modeltype='torque', optimizer='STLSQ',\n",
    "               nmbr_of_train=-1, lib='poly_2nd_order', alpha = 1.94, threshold = 0.126,\n",
    "               modelname='torque_nonlinear_5')\n",
    "model2 = make_model(traindata, modeltype='torque', optimizer='STLSQ',\n",
    "               nmbr_of_train=-1, lib='poly_2nd_order', alpha = .00616, threshold = .006,\n",
    "               modelname='torque_nonlinear_40')\n",
    "model3 = make_model(traindata, modeltype='torque', optimizer='STLSQ',\n",
    "               nmbr_of_train=-1, lib='interaction_only', alpha = .0202, threshold = 0.00913,\n",
    "               modelname='torque_nonlinear_100')"
   ]
  },
  {
   "cell_type": "code",
   "execution_count": null,
   "id": "a9a17d0c-7609-4474-9912-ecfa43cbcc01",
   "metadata": {},
   "outputs": [],
   "source": [
    "testdata = os.path.join(os.getcwd(), 'test-data', '08-07', 'IMMEC_nonlin_0ecc_5.0sec.npz')\n",
    "\n",
    "models = ['torque_nonlinear_5', 'torque_nonlinear_40', 'torque_nonlinear_100']\n",
    "\n",
    "plot_function(models, testdata, 'torque', True, 'torque_nl')"
   ]
  },
  {
   "cell_type": "markdown",
   "id": "ffd198cb-c154-4019-aaf6-d990ab7bb6b1",
   "metadata": {},
   "source": [
    "#### 5 linear model currents with 50 ecc "
   ]
  },
  {
   "cell_type": "code",
   "execution_count": null,
   "id": "6ba1e9fc-65df-4d31-9b6b-13430fba24c5",
   "metadata": {},
   "outputs": [],
   "source": [
    "traindata = os.path.join(os.getcwd(), 'train-data', '07-31-ecc-50', 'IMMEC_50ecc_5.0sec.npz')\n",
    "plot_optuna_data('_w5//currentslinear_50ecc-optuna-study')"
   ]
  },
  {
   "cell_type": "code",
   "execution_count": null,
   "id": "a6f98334-da3c-4829-9377-b5b220ed6a88",
   "metadata": {},
   "outputs": [],
   "source": [
    "model1 = make_model(traindata, modeltype='currents', optimizer='STLSQ',\n",
    "               nmbr_of_train=-1, lib='linear-specific', alpha = .0047, threshold = 0.926,\n",
    "               modelname='currents_linear_50ecc_45')\n",
    "model2 = make_model(traindata, modeltype='currents', optimizer='lasso',\n",
    "               nmbr_of_train=-1, lib='linear-specific', alpha = 50.16,\n",
    "               modelname='currents_linear_50ecc_8')"
   ]
  },
  {
   "cell_type": "code",
   "execution_count": null,
   "id": "d02d77b4-c6bc-4797-a432-ff0e2ed6e199",
   "metadata": {},
   "outputs": [],
   "source": [
    "testdata = os.path.join(os.getcwd(), 'test-data', '08-08', 'IMMEC_50ecc_ecc_5.0sec.npz')\n",
    "#testdata = os.path.join(os.getcwd(), 'test-data', '07-29-default', 'IMMEC_0ecc_5.0sec.npz')\n",
    "\n",
    "models = ['currents_linear_50ecc_45', 'currents_linear_50ecc_8']\n",
    "\n",
    "plot_function(models, testdata, 'currents', True, 'currents_50')"
   ]
  },
  {
   "cell_type": "markdown",
   "id": "ddb4aade-bf3d-42a1-aca7-7d3a5319ccf7",
   "metadata": {},
   "source": [
    "#### 6 linear model torque with 50 ecc"
   ]
  },
  {
   "cell_type": "code",
   "execution_count": null,
   "id": "f856fad3-56c4-4e61-9f31-2d0ad2c35370",
   "metadata": {},
   "outputs": [],
   "source": [
    "traindata = os.path.join(os.getcwd(), 'train-data', '07-31-ecc-50', 'IMMEC_50ecc_5.0sec.npz')\n",
    "plot_optuna_data('_w5//torquelinear_50ecc-optuna-study')"
   ]
  },
  {
   "cell_type": "code",
   "execution_count": null,
   "id": "e4df10e3-9475-4408-a9b7-9cc665e2ba13",
   "metadata": {},
   "outputs": [],
   "source": [
    "model1 = make_model(traindata, modeltype='torque', optimizer =\"STLSQ\",\n",
    "                    nmbr_of_train=-1, lib='nonlinear_terms', alpha = .041, threshold = 0.215,\n",
    "                    modelname='torque_linear_50ecc_7')\n",
    "model2 = make_model(traindata, modeltype='torque', optimizer =\"STLSQ\",\n",
    "                    nmbr_of_train=-1, lib='poly_2nd_order', alpha = .0001, threshold = 0.076,\n",
    "                    modelname='torque_linear_50ecc_30')"
   ]
  },
  {
   "cell_type": "code",
   "execution_count": null,
   "id": "bacc711a-faec-49c2-bc9a-0554fedd2461",
   "metadata": {},
   "outputs": [],
   "source": [
    "testdata = os.path.join(os.getcwd(), 'test-data', '08-08', 'IMMEC_50ecc_ecc_5.0sec.npz')\n",
    "\n",
    "models = ['torque_linear_50ecc_7', 'torque_linear_50ecc_30']\n",
    "\n",
    "plot_function(models, testdata, 'torque', True, 'torque_50')"
   ]
  },
  {
   "cell_type": "markdown",
   "id": "bdd09e35-0739-4edb-991d-c8ce5f39216a",
   "metadata": {},
   "source": [
    "#### 7 linear model UMP with 50 ecc "
   ]
  },
  {
   "cell_type": "code",
   "execution_count": null,
   "id": "3f63d463-bdbd-4657-a9b2-5984a3c979af",
   "metadata": {},
   "outputs": [],
   "source": [
    "traindata = os.path.join(os.getcwd(), 'train-data', '07-31-ecc-50', 'IMMEC_50ecc_5.0sec.npz')\n",
    "plot_optuna_data('_w5//umplinear_50ecc-optuna-study')"
   ]
  },
  {
   "cell_type": "code",
   "execution_count": null,
   "id": "2f9d928b-5c8e-4694-876b-9deb01a0e57e",
   "metadata": {},
   "outputs": [],
   "source": [
    "model1 = make_model(traindata, modeltype='ump', optimizer =\"STLSQ\",\n",
    "                    nmbr_of_train=-1, lib='torque', alpha = 3.6e-5, threshold = 0.008,\n",
    "                    modelname='ump_linear_50ecc_30')\n",
    "\n",
    "model2 = make_model(traindata, modeltype='ump', optimizer =\"STLSQ\",\n",
    "                    nmbr_of_train=-1, lib='poly_2nd_order', alpha = 92.8, threshold = 0.74,\n",
    "                    modelname='ump_linear_50ecc_100')\n",
    "\n",
    "model3 = make_model(traindata, modeltype='ump', optimizer =\"STLSQ\",\n",
    "                    nmbr_of_train=-1, lib='linear-specific', alpha = 2.44, threshold = 0.577,\n",
    "                    modelname='ump_linear_50ecc_70')"
   ]
  },
  {
   "cell_type": "code",
   "execution_count": null,
   "id": "a145c1ca-fba1-4d44-9430-3eaffa0dcff5",
   "metadata": {},
   "outputs": [],
   "source": [
    "testdata = os.path.join(os.getcwd(), 'test-data', '08-08', 'IMMEC_50ecc_ecc_5.0sec.npz')\n",
    "\n",
    "models = ['ump_linear_50ecc_30', 'ump_linear_50ecc_70','ump_linear_50ecc_100']\n",
    "\n",
    "plot_function(models, testdata, 'ump', True, 'ump_50')"
   ]
  },
  {
   "cell_type": "markdown",
   "id": "72e8d012-f2ef-41c2-ae14-796909e9dd8b",
   "metadata": {},
   "source": [
    "#### 8 nonlinear model currents with 50 ecc "
   ]
  },
  {
   "cell_type": "code",
   "execution_count": null,
   "id": "432c5947-2a80-4fbe-998d-d3dcaf68d459",
   "metadata": {},
   "outputs": [],
   "source": [
    "traindata = os.path.join(os.getcwd(), 'train-data', '07-31-nonlin50', 'IMMEC_nonlinear-50ecc_5.0sec.npz')\n",
    "plot_optuna_data('_w5//currentsnonlinear_50ecc-optuna-study')"
   ]
  },
  {
   "cell_type": "code",
   "execution_count": null,
   "id": "e9f1ac98-b52b-4f33-aee6-c38814896360",
   "metadata": {},
   "outputs": [],
   "source": [
    "model1 =  make_model(traindata, modeltype='currents', optimizer =\"STLSQ\",\n",
    "                    nmbr_of_train=-1, lib='linear-specific', alpha = 2.78, threshold = 0.616,\n",
    "                    modelname='currents_nonlinear_50ecc_70')\n",
    "\n",
    "# takes really long to make, memory error -> need to generate on a pc instead of laptop\n",
    "# Memory Error vvvvvvvvvv\n",
    "'''\n",
    "model2 =  make_model(traindata, modeltype='currents', optimizer =\"lasso\",\n",
    "                    nmbr_of_train=-1, lib='interaction_only', alpha = 73.7,\n",
    "                    modelname='currents_nonlinear_50ecc_100')\n",
    "\n",
    "model3 =  make_model(traindata, modeltype='currents', optimizer =\"STLSQ\",\n",
    "                    nmbr_of_train=-1, lib='interaction_only', alpha = 49.0, threshold = .88,\n",
    "                    modelname='currents_nonlinear_50ecc_260')\n",
    "'''"
   ]
  },
  {
   "cell_type": "code",
   "execution_count": null,
   "id": "f13fd3da-accd-4c0d-a31d-4b8782729436",
   "metadata": {},
   "outputs": [],
   "source": [
    "testdata = os.path.join(os.getcwd(), 'test-data', '08-07-nonlin-50ecc', 'IMMEC_nonlin_50ecc_5.0sec.npz')\n",
    "\n",
    "models = ['currents_nonlinear_50ecc_70'] #, 'currents_nonlinear_50ecc_100', currents_nonlinear_50ecc_260']\n",
    "\n",
    "plot_function(models, testdata, 'currents', True, 'currents_50_nl')"
   ]
  },
  {
   "cell_type": "markdown",
   "id": "e41511b8-6570-471b-a505-05530d6bd536",
   "metadata": {},
   "source": [
    "#### 9 nonlinear model torque with 50 ecc"
   ]
  },
  {
   "cell_type": "code",
   "execution_count": null,
   "id": "8e4f2b7c-9100-4e5c-bb85-63b3ed71df43",
   "metadata": {},
   "outputs": [],
   "source": [
    "traindata = os.path.join(os.getcwd(), 'train-data', '07-31-nonlin50', 'IMMEC_nonlinear-50ecc_5.0sec.npz')\n",
    "plot_optuna_data('_w5//torquenonlinear_50ecc-optuna-study')"
   ]
  },
  {
   "cell_type": "code",
   "execution_count": null,
   "id": "e4387a8d-f10a-4c20-b663-6f7dc69f7338",
   "metadata": {},
   "outputs": [],
   "source": [
    "model1 =  make_model(traindata, modeltype='torque', optimizer =\"STLSQ\",\n",
    "                    nmbr_of_train=-1, lib='poly_2nd_order', alpha = 5.45, threshold = 0.066,\n",
    "                    modelname='torque_nonlinear_50ecc_10')\n",
    "\n",
    "model2 =  make_model(traindata, modeltype='torque', optimizer =\"STLSQ\",\n",
    "                    nmbr_of_train=-1, lib='poly_2nd_order', alpha = 0.0668, threshold = 0.016,\n",
    "                    modelname='torque_nonlinear_50ecc_40')"
   ]
  },
  {
   "cell_type": "code",
   "execution_count": null,
   "id": "67ffd2d9-39de-4ff7-98d7-b74f23822a50",
   "metadata": {},
   "outputs": [],
   "source": [
    "testdata = os.path.join(os.getcwd(), 'test-data', '08-07-nonlin-50ecc', 'IMMEC_nonlin_50ecc_5.0sec.npz')\n",
    "\n",
    "models = ['torque_nonlinear_50ecc_10', 'torque_nonlinear_50ecc_40']\n",
    "\n",
    "plot_function(models, testdata, 'torque', True, 'torque_50_nl')"
   ]
  },
  {
   "cell_type": "markdown",
   "id": "8e7051c6-7a8b-4e4d-b891-04387450e072",
   "metadata": {},
   "source": [
    "#### 10 nonlinear model ump with 50 ecc "
   ]
  },
  {
   "cell_type": "code",
   "execution_count": null,
   "id": "2214a444-0bb8-4ecc-be9b-082a682c06b7",
   "metadata": {},
   "outputs": [],
   "source": [
    "traindata = os.path.join(os.getcwd(), 'train-data', '07-31-nonlin50', 'IMMEC_nonlinear-50ecc_5.0sec.npz')\n",
    "plot_optuna_data('_w5//umpnonlinear_50ecc-optuna-study')"
   ]
  },
  {
   "cell_type": "code",
   "execution_count": null,
   "id": "8c952cba-5f87-43a3-9dc5-cb1116e63831",
   "metadata": {},
   "outputs": [],
   "source": [
    "model1 =  make_model(traindata, modeltype='ump', optimizer =\"STLSQ\",\n",
    "                    nmbr_of_train=-1, lib='poly_2nd_order', alpha = 5.076, threshold = 0.7317,\n",
    "                    modelname='ump_nonlinear_50ecc_100')\n",
    "model2 =  make_model(traindata, modeltype='ump', optimizer =\"STLSQ\",\n",
    "                    nmbr_of_train=-1, lib='poly_2nd_order', alpha = 2.6e-5, threshold = 0.00255,\n",
    "                    modelname='ump_nonlinear_50ecc_170')\n",
    "# OOM ERROR vvvvvvvv\n",
    "'''\n",
    "model3 =  make_model(traindata, modeltype='ump', optimizer =\"STLSQ\",\n",
    "                    nmbr_of_train=-1, lib='interaction_only', alpha = 91.5, threshold = 0.52,\n",
    "                    modelname='ump_nonlinear_50ecc_300')\n",
    "'''\n",
    "\n",
    "model4 =  make_model(traindata, modeltype='ump', optimizer =\"STLSQ\",\n",
    "                    nmbr_of_train=-1, lib='linear-specific', alpha = 0.097, threshold = 0.00537,\n",
    "                    modelname='ump_nonlinear_50ecc_90')"
   ]
  },
  {
   "cell_type": "code",
   "execution_count": null,
   "id": "555c59c0-3fbd-4f4b-ba12-c975513f2667",
   "metadata": {},
   "outputs": [],
   "source": [
    "testdata = os.path.join(os.getcwd(), 'test-data', '08-07-nonlin-50ecc', 'IMMEC_nonlin_50ecc_5.0sec.npz')\n",
    "\n",
    "models = ['ump_nonlinear_50ecc_90', 'ump_nonlinear_50ecc_100', 'ump_nonlinear_50ecc_170', 'ump_nonlinear_50ecc_300']\n",
    "\n",
    "plot_function(models, testdata, 'ump', True, 'ump_50_nl')"
   ]
  },
  {
   "cell_type": "markdown",
   "id": "7161a0c2-b314-4523-9004-4ae6b1c80086",
   "metadata": {},
   "source": [
    "#### 11 linear dynamical 50 ecc currents "
   ]
  },
  {
   "cell_type": "code",
   "execution_count": null,
   "id": "f417ccb5-abc2-45ac-9c70-71175b78b82d",
   "metadata": {},
   "outputs": [],
   "source": [
    "traindata = os.path.join(os.getcwd(), 'train-data', '08-09','IMMEC_dynamic_50ecc_5.0sec.npz')\n",
    "plot_optuna_data('_w5//currentslinear_dynamic_50ecc-optuna-study')"
   ]
  },
  {
   "cell_type": "code",
   "execution_count": null,
   "id": "93c737f8-a28c-438b-b327-b2ef2f80a592",
   "metadata": {},
   "outputs": [],
   "source": [
    "model1 =  make_model(traindata, modeltype='currents', optimizer =\"STLSQ\",\n",
    "                    nmbr_of_train=-1, lib='linear-specific', alpha = 5.3528, threshold = 0.97,\n",
    "                    modelname='currents_linear_dynamic_50ecc_40')\n",
    "\n",
    "model1 =  make_model(traindata, modeltype='currents', optimizer =\"STLSQ\",\n",
    "                    nmbr_of_train=-1, lib='nonlinear_terms', alpha = 2.5277, threshold = 0.8239,\n",
    "                    modelname='currents_linear_dynamic_50ecc_300')"
   ]
  },
  {
   "cell_type": "code",
   "execution_count": null,
   "id": "b3048ceb-9bb3-4dab-9d2b-e5c256bd3e21",
   "metadata": {},
   "outputs": [],
   "source": [
    "testdata = os.path.join(os.getcwd(), 'test-data','08-09','IMMEC_dynamic_50ecc_5.0sec.npz')\n",
    "testdata = os.path.join(os.getcwd(), 'test-data','08-19','IMMEC_dynamic_linear_5.0sec.npz') # alternative test file\n",
    "\n",
    "models = ['currents_linear_dynamic_50ecc_40'] #  ['currents_linear_dynamic_50ecc_300'] #diverges, nonzero dc comp\n",
    "\n",
    "plot_function(models, testdata, 'currents', True, 'currents_d')"
   ]
  },
  {
   "cell_type": "markdown",
   "id": "1ce6608c-5c4b-4ca7-bded-4c54c46754e6",
   "metadata": {},
   "source": [
    "#### 12 linear dynamical 50 ecc torque"
   ]
  },
  {
   "cell_type": "code",
   "execution_count": null,
   "id": "12fb0703-6927-4baf-a7ff-1c2e6278e6a6",
   "metadata": {},
   "outputs": [],
   "source": [
    "traindata = os.path.join(os.getcwd(), 'train-data', '08-09','IMMEC_dynamic_50ecc_5.0sec.npz')\n",
    "plot_optuna_data('_w5//torquelinear_dynamic_50ecc-optuna-study')"
   ]
  },
  {
   "cell_type": "code",
   "execution_count": null,
   "id": "377f2635-0b65-4a73-a9b9-edcaaab16957",
   "metadata": {},
   "outputs": [],
   "source": [
    "model1 =  make_model(traindata, modeltype='torque', optimizer =\"STLSQ\",\n",
    "                    nmbr_of_train=-1, lib='poly_2nd_order', alpha = 0.03218, threshold = .0429,\n",
    "                    modelname='torque_linear_dynamic_50ecc_50')\n",
    "\n",
    "model2 =  make_model(traindata, modeltype='torque', optimizer =\"STLSQ\",\n",
    "                    nmbr_of_train=-1, lib='poly_2nd_order', alpha = 9.8, threshold = .00979,\n",
    "                    modelname='torque_linear_dynamic_50ecc_40')\n",
    "\n",
    "model3 = make_model(traindata, modeltype='torque', optimizer='STLSQ',\n",
    "                    nmbr_of_train=-1, lib='nonlinear_terms', alpha=2.5097, threshold = 0.54118,\n",
    "                    modelname='torque_linear_dynamic_50ecc_4')"
   ]
  },
  {
   "cell_type": "code",
   "execution_count": null,
   "id": "452ded6f-e658-4da0-9bde-45fdbf8fc16b",
   "metadata": {},
   "outputs": [],
   "source": [
    "testdata = os.path.join(os.getcwd(), 'test-data','08-09','IMMEC_dynamic_50ecc_5.0sec.npz')\n",
    "testdata = os.path.join(os.getcwd(), 'test-data','08-19','IMMEC_dynamic_linear_5.0sec.npz') # alternative test file\n",
    "\n",
    "models = ['torque_linear_dynamic_50ecc_4','torque_linear_dynamic_50ecc_40', 'torque_linear_dynamic_50ecc_50']\n",
    "# no big difference between 4 or 30 coefs (same as the non ecc case) but allowing 45 coefs, big difference.\n",
    "\n",
    "plot_function(models, testdata, 'torque', True, 'torque_d_2') # torque_d or torque_d_2 can be chosen"
   ]
  },
  {
   "cell_type": "markdown",
   "id": "f4fdfae2-bfd6-455a-8d54-18c68c53452a",
   "metadata": {
    "scrolled": true
   },
   "source": [
    "#### 13 linear dynamical 50 ecc UMP "
   ]
  },
  {
   "cell_type": "code",
   "execution_count": null,
   "id": "938cafb5-47cf-4321-9834-897a9d6a6db3",
   "metadata": {
    "scrolled": true
   },
   "outputs": [],
   "source": [
    "traindata = os.path.join(os.getcwd(), 'train-data', '08-09','IMMEC_dynamic_50ecc_5.0sec.npz')\n",
    "plot_optuna_data('_w5//umplinear_dynamic_50ecc-optuna-study')"
   ]
  },
  {
   "cell_type": "code",
   "execution_count": null,
   "id": "eac75970-f9c7-4188-8ed1-bcd12180e355",
   "metadata": {
    "scrolled": true
   },
   "outputs": [],
   "source": [
    "model1 = make_model(traindata, modeltype='ump', optimizer =\"STLSQ\",\n",
    "                    nmbr_of_train=-1, lib='poly_2nd_order', alpha = 1.773, threshold = 0.922,\n",
    "                    modelname='ump_linear_dynamic_50ecc_180')\n",
    "\n",
    "model2 = make_model(traindata, modeltype='ump', optimizer =\"STLSQ\",\n",
    "                    nmbr_of_train=-1, lib='nonlinear_terms', alpha = 1.1145, threshold = 0.589,\n",
    "                    modelname='ump_linear_dynamic_50ecc_560')"
   ]
  },
  {
   "cell_type": "code",
   "execution_count": null,
   "id": "9d36473c-15b2-413a-9daf-40ec607fc139",
   "metadata": {},
   "outputs": [],
   "source": [
    "testdata = os.path.join(os.getcwd(), 'test-data','08-09','IMMEC_dynamic_50ecc_5.0sec.npz')\n",
    "testdata = os.path.join(os.getcwd(), 'test-data','08-19','IMMEC_dynamic_linear_5.0sec.npz') # alternative test file\n",
    "\n",
    "models = ['ump_linear_dynamic_50ecc_180', 'ump_linear_dynamic_50ecc_560']\n",
    "\n",
    "plot_function(models, testdata, 'ump', True, 'ump_d')"
   ]
  },
  {
   "cell_type": "markdown",
   "id": "6bb4947b-db5b-41a5-b12d-b4c5d1adc23f",
   "metadata": {},
   "source": [
    "#### 14 nonlinear dynamical 50 ecc currents "
   ]
  },
  {
   "cell_type": "code",
   "execution_count": null,
   "id": "51030179-b7b5-49df-b8e5-0153c9683113",
   "metadata": {},
   "outputs": [],
   "source": [
    "traindata = os.path.join(os.getcwd(), 'train-data', '08-16','IMMEC_dynamic_nonlinear_5.0sec.npz')\n",
    "plot_optuna_data('_w5//currentsnonlinear_dynamic_50ecc-optuna-study')"
   ]
  },
  {
   "cell_type": "code",
   "execution_count": null,
   "id": "14789069-8239-4a0a-95fa-8c26db9534fc",
   "metadata": {},
   "outputs": [],
   "source": [
    "## model 1 and 2 diverge when calculating the currents from the di/dt\n",
    "model1 =  make_model(traindata, modeltype='currents', optimizer =\"STLSQ\",\n",
    "                    nmbr_of_train=-1, lib='poly_2nd_order', alpha = 55.7, threshold = 0.395,\n",
    "                    modelname='currents_nonlinear_dynamic_50ecc_150')\n",
    "# OOM error\n",
    "'''\n",
    "model2 =  make_model(traindata, modeltype='currents', optimizer =\"STLSQ\",\n",
    "                    nmbr_of_train=-1, lib='interaction_only', alpha = 56.6, threshold = 0.657,\n",
    "                    modelname='currents_nonlinear_dynamic_50ecc_420')\n",
    "'''\n",
    "\n",
    "model3 =  make_model(traindata, modeltype='currents', optimizer =\"STLSQ\",\n",
    "                    nmbr_of_train=-1, lib='linear-specific', alpha = 3.154, threshold = 0.7912,\n",
    "                    modelname='currents_nonlinear_dynamic_50ecc_60')"
   ]
  },
  {
   "cell_type": "code",
   "execution_count": null,
   "id": "b1d5d5bc-facf-4fe5-98fd-bc37a96e5b17",
   "metadata": {},
   "outputs": [],
   "source": [
    "testdata = os.path.join(os.getcwd(), 'test-data','08-18','IMMEC_dynamic_nonlinear_5.0sec.npz')\n",
    "\n",
    "#the other two mehods diverge.............\n",
    "models = ['currents_nonlinear_dynamic_50ecc_60'] #,'currents_nonlinear_dynamic_50ecc_150',  'currents_nonlinear_dynamic_50ecc_420']\n",
    "\n",
    "plot_function(models, testdata, 'currents', True, 'currents_d_nl')"
   ]
  },
  {
   "cell_type": "markdown",
   "id": "832f2a75-621a-42f3-8a5d-7bfe3268ba23",
   "metadata": {},
   "source": [
    "#### 15 nonlinear dynamical 50 ecc torque"
   ]
  },
  {
   "cell_type": "code",
   "execution_count": 3,
   "id": "14789afe-448f-44cc-978a-f4bf2b6abff0",
   "metadata": {},
   "outputs": [
    {
     "name": "stderr",
     "output_type": "stream",
     "text": [
      "[I 2024-08-22 14:14:46,116] Study name was omitted but trying to load 'optuna_studies//torquenonlinear_dynamic_50ecc-optuna-study' because that was the only study found in the storage.\n"
     ]
    },
    {
     "name": "stdout",
     "output_type": "stream",
     "text": [
      "['optuna_studies//torquenonlinear_dynamic_50ecc-optuna-study']\n",
      "Trial count: 1002\n"
     ]
    }
   ],
   "source": [
    "traindata = os.path.join(os.getcwd(), 'train-data', '08-16','IMMEC_dynamic_nonlinear_5.0sec.npz')\n",
    "plot_optuna_data('_w5//torquenonlinear_dynamic_50ecc-optuna-study')"
   ]
  },
  {
   "cell_type": "code",
   "execution_count": null,
   "id": "44349c9f-47cb-46e0-a93e-0fc2569fe991",
   "metadata": {},
   "outputs": [],
   "source": [
    "model1 =  make_model(traindata, modeltype='torque', optimizer =\"STLSQ\",\n",
    "                    nmbr_of_train=-1, lib='poly_2nd_order', alpha = 80.5, threshold = 0.0089,\n",
    "                    modelname='torque_nonlinear_dynamic_50ecc_50')\n",
    "# OOM ERROR\n",
    "'''\n",
    "model2 =  make_model(traindata, modeltype='torque', optimizer =\"STLSQ\",\n",
    "                    nmbr_of_train=-1, lib='interaction_only', alpha = 85.6, threshold = 0.0034,\n",
    "                    modelname='torque_nonlinear_dynamic_50ecc_100')\n",
    "'''"
   ]
  },
  {
   "cell_type": "code",
   "execution_count": 4,
   "id": "89c2df04-5f20-43fb-80b8-0a69800884fe",
   "metadata": {},
   "outputs": [
    {
     "name": "stdout",
     "output_type": "stream",
     "text": [
      "(i_d)' = 0.004 1 + 0.464 i_d + 0.913 i_q + -0.045 v_q + 1.573 I_d + 3.815 I_q + 2.800 V_d + 1.165 V_q + 0.002 \\omega + 0.020 i_d^2 + -0.011 i_d i_q + -3.855 i_d I_d + 7.616 i_d I_q + -0.121 i_d V_d + -0.737 i_d V_q + -0.131 i_d V_0 + -8.201 i_q I_d + -3.303 i_q I_q + 0.789 i_q V_d + 0.017 i_q V_q + 0.113 v_d I_d + -0.193 v_d I_q + 0.236 v_q I_d + 0.034 v_q I_q + 0.007 v_q r_y + -0.230 v_0 V_0 + -10.810 I_d^2 + -0.267 I_d I_q + -0.032 I_d V_d + 3.700 I_d V_q + 0.008 I_d \\omega + 1.469 I_q^2 + -2.198 I_q V_d + -1.810 I_q V_q + -0.039 I_q \\omega + 0.009 I_q f + -1.127 V_d^2 + -0.153 V_d V_q + -1.150 V_q^2\n",
      "Sparsity:  39\n",
      "(i_d)' = 0.012 1 + 0.499 i_q + 1.656 I_d + 7.138 I_q + 0.705 V_d + -0.784 V_q + 0.082 \\omega + -0.061 i_d i_q + -0.012 i_d v_d + -0.003 i_d v_q + 0.061 i_d I_d + 12.789 i_d I_q + -0.259 i_d V_d + -0.911 i_d V_q + -0.013 i_d \\omega + -0.002 i_q v_d + -6.725 i_q I_d + -0.763 i_q I_q + 0.857 i_q V_d + 0.028 i_q V_q + -0.010 i_q \\omega + -0.242 v_d I_d + 0.209 v_d I_q + 0.049 v_d V_d + 0.023 v_d V_q + 0.009 v_d r_y + 0.160 v_q I_d + -0.011 v_q V_d + 0.014 v_q r_y + -2.882 I_d V_d + 6.528 I_d V_q + -0.074 I_d f + -16.898 I_q V_d + -1.656 I_q V_q + -0.814 I_q \\omega + -0.018 I_q f + 0.939 V_d V_q + -0.029 V_d \\omega + 0.029 V_d f + 0.045 V_q \\omega + 0.042 V_0 f + -0.239 i_d i_q I_d + 0.852 i_d i_q I_q + 0.018 i_d i_q V_d + 0.002 i_d i_q V_0 + 0.066 i_d v_d I_d + 0.006 i_d v_d I_q + -0.016 i_d v_q I_d + 0.058 i_d v_q I_q + -15.055 i_d I_d I_q + -0.521 i_d I_d V_q + 0.089 i_d I_d \\omega + -0.021 i_d I_d f + 0.899 i_d I_q V_d + -0.218 i_d I_q V_q + -0.019 i_d I_q \\omega + 0.025 i_d V_d V_q + 0.023 i_d V_q V_0 + 0.014 i_d \\omega r_x + -0.035 i_d \\omega r_y + 0.202 i_d f r_y + 0.002 i_q v_d V_d + -0.004 i_q v_q I_d + -0.003 i_q v_q I_q + 0.002 i_q v_q V_q + 0.008 i_q v_q r_y + -11.950 i_q I_d I_q + 0.681 i_q I_d V_d + -0.843 i_q I_d V_q + -0.002 i_q I_d \\omega + 0.014 i_q I_d f + 0.025 i_q I_q V_d + 0.103 i_q I_q \\omega + -0.052 i_q I_q f + -0.023 i_q V_d V_q + 0.075 i_q V_d V_0 + -0.005 i_q V_q V_0 + -0.088 i_q \\omega r_x + 0.018 i_q \\omega r_y + 0.513 i_q f r_x + -0.477 v_d I_q V_d + 0.016 v_d I_q V_q + -0.001 v_d V_q r_y + 0.017 v_q I_d V_d + 0.226 v_q I_d V_q + 0.033 v_q I_d V_0 + -0.162 v_q I_q V_d + -0.423 v_q I_q V_q + -0.006 v_q V_d r_y + 0.002 v_q V_q r_x + -0.111 v_0 V_d V_0 + 54.895 I_d I_q V_d + -7.969 I_d I_q V_q + 2.665 I_d I_q \\omega + -4.947 I_d V_d V_q + -0.116 I_d V_d \\omega + -0.107 I_d V_d f + -0.212 I_d V_q \\omega + 0.051 I_d V_q f + -1.092 I_q V_d V_q + 0.451 I_q V_d \\omega + -0.005 I_q V_d f + -0.171 I_q V_q \\omega + -0.021 I_q V_q f + 0.004 V_d V_q \\omega + -0.040 V_d V_0 f + 0.043 V_q f r_x\n",
      "Sparsity:  107\n",
      "Torque100.pkl\n",
      "Torque50.pkl\n"
     ]
    }
   ],
   "source": [
    "testdata = os.path.join(os.getcwd(), 'test-data','08-18','IMMEC_dynamic_nonlinear_5.0sec.npz')\n",
    "\n",
    "models = ['torque_nonlinear_dynamic_50ecc_50', 'torque_nonlinear_dynamic_50ecc_100']\n",
    "\n",
    "plot_function(models, testdata, 'torque', True, 'torque_d_nl')"
   ]
  },
  {
   "cell_type": "markdown",
   "id": "b7019470-c304-4a50-bb80-878bb821e02a",
   "metadata": {},
   "source": [
    "#### 16 nonlinear dynamical 50 ecc UMP"
   ]
  },
  {
   "cell_type": "code",
   "execution_count": null,
   "id": "5a14506a-23f2-4d2d-86d7-34b5f7e3cb23",
   "metadata": {},
   "outputs": [],
   "source": [
    "traindata = os.path.join(os.getcwd(), 'train-data', '08-16','IMMEC_dynamic_nonlinear_5.0sec.npz')\n",
    "plot_optuna_data('_w5//umpnonlinear_dynamic_50ecc-optuna-study')"
   ]
  },
  {
   "cell_type": "code",
   "execution_count": null,
   "id": "410e9da5-f206-4c9e-8330-a2aab6118682",
   "metadata": {},
   "outputs": [],
   "source": [
    "model1 =  make_model(traindata, modeltype='ump', optimizer =\"STLSQ\",\n",
    "                    nmbr_of_train=-1, lib='poly_2nd_order', alpha = 46.05, threshold = 0.922,\n",
    "                    modelname='ump_nonlinear_dynamic_50ecc_150')\n",
    "\n",
    "# OOM \n",
    "'''\n",
    "model2 =  make_model(traindata, modeltype='ump', optimizer =\"STLSQ\",\n",
    "                    nmbr_of_train=-1, lib='interaction_only', alpha = 16.68, threshold = 0.677,\n",
    "                    modelname='ump_nonlinear_dynamic_50ecc_650')\n",
    "'''\n",
    "\n",
    "model3 = make_model(traindata, modeltype='ump', optimizer='lasso',\n",
    "                    nmbr_of_train=-1, lib='poly_2nd_order',  alpha = 0.3121067,\n",
    "                    modelname='ump_nonlinear_dynamic_50ecc_100')"
   ]
  },
  {
   "cell_type": "code",
   "execution_count": null,
   "id": "466a866e-8138-4cce-9883-39cc09f1f827",
   "metadata": {},
   "outputs": [],
   "source": [
    "testdata = os.path.join(os.getcwd(), 'test-data','08-18','IMMEC_dynamic_nonlinear_5.0sec.npz')\n",
    "\n",
    "models = ['ump_nonlinear_dynamic_50ecc_100','ump_nonlinear_dynamic_50ecc_150', 'ump_nonlinear_dynamic_50ecc_650']\n",
    "\n",
    "plot_function(models, testdata, 'ump', True, 'ump_d_nl')"
   ]
  },
  {
   "cell_type": "markdown",
   "id": "d66d85a2-a304-400b-99c6-8897e2f00c59",
   "metadata": {},
   "source": [
    "#### 17 nonlinear ump 0 ecc "
   ]
  },
  {
   "cell_type": "code",
   "execution_count": null,
   "id": "646cb78f-4b3f-4a78-abc5-89f7c7a3bd48",
   "metadata": {},
   "outputs": [],
   "source": [
    "traindata = os.path.join(os.getcwd(), 'train-data', '07-31-nonlin', 'IMMEC_nonlinear-0ecc_5.0sec.npz')\n",
    "plot_optuna_data('_w5//umpnonlinear-optuna-study')"
   ]
  },
  {
   "cell_type": "code",
   "execution_count": null,
   "id": "2cb3d97a-8737-4244-ba0a-485214f69842",
   "metadata": {},
   "outputs": [],
   "source": [
    "model1 = make_model(traindata, modeltype = 'ump', optimizer = 'STLSQ',\n",
    "                    nmbr_of_train = -1, lib = 'poly_2nd_order', alpha = 1.3e-5, threshold = 0.01733,\n",
    "                    modelname='ump_nonlinear_80')\n",
    "model2 = make_model(traindata, modeltype = 'ump', optimizer = 'lasso',\n",
    "                    nmbr_of_train = -1, lib = 'linear-specific', alpha = 4.8,\n",
    "                    modelname='ump_nonlinear_0')"
   ]
  },
  {
   "cell_type": "code",
   "execution_count": null,
   "id": "64aef0df-00be-40ca-97cb-af64a35fc4a7",
   "metadata": {},
   "outputs": [],
   "source": [
    "testdata = os.path.join(os.getcwd(), 'test-data', '08-07', 'IMMEC_nonlin_0ecc_5.0sec.npz')\n",
    "\n",
    "models = ['ump_nonlinear_0', 'ump_nonlinear_80']\n",
    "\n",
    "plot_function(models, testdata, 'ump', True, 'ump_nl')"
   ]
  }
 ],
 "metadata": {
  "kernelspec": {
   "display_name": "Python 3 (ipykernel)",
   "language": "python",
   "name": "python3"
  },
  "language_info": {
   "codemirror_mode": {
    "name": "ipython",
    "version": 3
   },
   "file_extension": ".py",
   "mimetype": "text/x-python",
   "name": "python",
   "nbconvert_exporter": "python",
   "pygments_lexer": "ipython3",
   "version": "3.12.4"
  }
 },
 "nbformat": 4,
 "nbformat_minor": 5
}
